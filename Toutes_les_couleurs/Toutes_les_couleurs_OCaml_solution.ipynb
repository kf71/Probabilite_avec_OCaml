{
 "cells": [
  {
   "cell_type": "markdown",
   "metadata": {},
   "source": [
    "<h1> Toutes les couleurs</h1>\n",
    "\n",
    "On considère une urne avec 6 boules noires, 6 boules rouges, 10 boules vertes, 12 boules bleues. On tire au sort 6 boules. Quelle est la probabilité d’avoir au moins une boule de chaque couleur ?<br>\n",
    "Ecrire une fonction <tt>color</tt> qui effectue 100 000 simulations de Monte-Carlo."
   ]
  },
  {
   "cell_type": "markdown",
   "metadata": {},
   "source": [
    "<h1>Solution</h1>"
   ]
  },
  {
   "cell_type": "code",
   "execution_count": 1,
   "metadata": {
    "collapsed": false
   },
   "outputs": [
    {
     "data": {
      "text/html": [
       "<pre style=\"color:slategray;max-height:100px;overflow:hidden\" \n",
       "onclick=\"\n",
       "if (this.style.maxHeight === 'none') \n",
       "    this.style.maxHeight = '100px';\n",
       "else\n",
       "    this.style.maxHeight = 'none'; \n",
       "\">val list_make : int -&gt; 'a -&gt; 'a list = &lt;fun&gt;\n",
       "</pre>"
      ]
     },
     "execution_count": 1,
     "metadata": {},
     "output_type": "execute_result"
    }
   ],
   "source": [
    "let list_make nbre pattern =\n",
    "    let rec loop i acc =\n",
    "      if i=nbre then acc else\n",
    "      loop (i+1) (pattern::acc) in\n",
    "    loop 0 [];;"
   ]
  },
  {
   "cell_type": "code",
   "execution_count": 2,
   "metadata": {
    "collapsed": false
   },
   "outputs": [
    {
     "data": {
      "text/html": [
       "<pre style=\"color:slategray;max-height:100px;overflow:hidden\" \n",
       "onclick=\"\n",
       "if (this.style.maxHeight === 'none') \n",
       "    this.style.maxHeight = '100px';\n",
       "else\n",
       "    this.style.maxHeight = 'none'; \n",
       "\">val shuffle : 'a list -&gt; 'a list = &lt;fun&gt;\n",
       "</pre>"
      ]
     },
     "execution_count": 2,
     "metadata": {},
     "output_type": "execute_result"
    }
   ],
   "source": [
    "let shuffle d =\n",
    "    let nd = List.map (fun c -> (Random.bits (), c)) d in\n",
    "    let sond = List.sort compare nd in\n",
    "    List.map snd sond"
   ]
  },
  {
   "cell_type": "code",
   "execution_count": 3,
   "metadata": {
    "collapsed": false
   },
   "outputs": [
    {
     "data": {
      "text/html": [
       "<pre style=\"color:slategray;max-height:100px;overflow:hidden\" \n",
       "onclick=\"\n",
       "if (this.style.maxHeight === 'none') \n",
       "    this.style.maxHeight = '100px';\n",
       "else\n",
       "    this.style.maxHeight = 'none'; \n",
       "\">val extract : 'a list -&gt; int -&gt; 'a list = &lt;fun&gt;\n",
       "</pre>"
      ]
     },
     "execution_count": 3,
     "metadata": {},
     "output_type": "execute_result"
    }
   ],
   "source": [
    "let extract liste nbre =\n",
    "    let rec loop i liste acc =\n",
    "       if i=nbre then List.rev acc else\n",
    "       begin\n",
    "       let hd = List.hd liste in\n",
    "       let tl = List.tl liste in\n",
    "       loop (i+1) tl (hd::acc)\n",
    "       end in\n",
    "    loop 0 liste [];;"
   ]
  },
  {
   "cell_type": "code",
   "execution_count": 4,
   "metadata": {
    "collapsed": false
   },
   "outputs": [
    {
     "data": {
      "text/html": [
       "<pre style=\"color:slategray;max-height:100px;overflow:hidden\" \n",
       "onclick=\"\n",
       "if (this.style.maxHeight === 'none') \n",
       "    this.style.maxHeight = '100px';\n",
       "else\n",
       "    this.style.maxHeight = 'none'; \n",
       "\">val color : unit -&gt; float = &lt;fun&gt;\n",
       "</pre>"
      ]
     },
     "execution_count": 4,
     "metadata": {},
     "output_type": "execute_result"
    }
   ],
   "source": [
    "let color() =\n",
    "    let tirage () =\n",
    "        let boules=shuffle ((list_make 6 \"N\")@(list_make 6 \"R\")@(list_make 10 \"V\")@(list_make 12 \"B\")) in\n",
    "        let resultat = extract boules 6 in\n",
    "        let noir = List.exists (fun x -> x=\"N\") resultat in\n",
    "        let rouge = List.exists (fun x -> x=\"R\") resultat in\n",
    "        let vert = List.exists (fun x -> x=\"V\") resultat in\n",
    "        let bleu = List.exists (fun x -> x=\"B\") resultat in\n",
    "        noir && rouge && vert && bleu in\n",
    "    \n",
    "    let nbre_simul = 100000 in\n",
    "    let rec loop num_simul proba = \n",
    "        if num_simul = nbre_simul then float_of_int proba /. (float_of_int nbre_simul) else\n",
    "        if tirage () then loop (num_simul+1) (proba+1) else\n",
    "                          loop (num_simul+1) proba in\n",
    "    loop 0 0;;"
   ]
  },
  {
   "cell_type": "code",
   "execution_count": 9,
   "metadata": {
    "collapsed": false
   },
   "outputs": [
    {
     "data": {
      "text/html": [
       "<pre style=\"color:slategray;max-height:100px;overflow:hidden\" \n",
       "onclick=\"\n",
       "if (this.style.maxHeight === 'none') \n",
       "    this.style.maxHeight = '100px';\n",
       "else\n",
       "    this.style.maxHeight = 'none'; \n",
       "\">- : unit = ()\n",
       "</pre>"
      ]
     },
     "execution_count": 9,
     "metadata": {},
     "output_type": "execute_result"
    }
   ],
   "source": [
    "let res = color() in\n",
    "assert (((509760. /. 1344904.) -. 0.01 < res) && (res < (509760. /. 1344904.) +. 0.01))"
   ]
  },
  {
   "cell_type": "markdown",
   "metadata": {},
   "source": [
    "<img src=\"Toutes_les_couleurs_fig.svg\" />"
   ]
  },
  {
   "cell_type": "markdown",
   "metadata": {},
   "source": [
    "On a:<br>\n",
    "$E_1\\cup E_2\\cup E_3\\cup E_4\\\\\n",
    "= (E_1 \\ \\oplus\\  E_2 \\ \\oplus\\  E_3 \\ \\oplus\\  E_4)\\\\\n",
    "\\ominus (E_1\\cap E_2 \\ \\oplus\\  E_1\\cap E_3 \\ \\oplus\\  E_1\\cap E_4 \\ \\oplus\\  E_2\\cap E_3 \\ \\oplus\\  E_2\\cap E_4 \\ \\oplus\\  E_3\\cap E_4)\\\\\n",
    "\\ \\oplus\\  (E_1\\cap E_2\\cap E_3 \\ \\oplus\\  E_1\\cap E_2 \\cap E_4 \\ \\oplus\\  E_1\\cap E_3 \\cap E_4 \\ \\oplus\\  E_2\\cap E_3 \\cap E_4)\\\\\n",
    "\\ominus (E_1\\cap E_2\\cap E_3 \\cap E_4)$\n",
    "\n",
    "Soit $E_1$ l'ensemble des tirages sans boules noires.\n",
    "La probabilité de ne pas avoir de boules noires est: \n",
    "$P_1=\\frac{\\begin{pmatrix}28\\\\6\\end{pmatrix}}{\\begin{pmatrix}34\\\\6\\end{pmatrix}}\n",
    "=\\frac{376740}{1344904}$\n",
    "\n",
    "Soit $E_2$ l'ensemble des tirages sans boules rouges.\n",
    "La probabilité de ne pas avoir de boules rouges est: \n",
    "$P_2=\\frac{\\begin{pmatrix}28\\\\6\\end{pmatrix}}{\\begin{pmatrix}34\\\\6\\end{pmatrix}}\n",
    "=\\frac{376740}{1344904}$\n",
    "\n",
    "Soit $E_3$ l'ensemble des tirages sans boules vertes.\n",
    "La probabilité de ne pas avoir de boules vertes est: \n",
    "$P_3=\\frac{\\begin{pmatrix}24\\\\6\\end{pmatrix}}{\\begin{pmatrix}34\\\\6\\end{pmatrix}}\n",
    "=\\frac{134596}{1344904}$\n",
    "\n",
    "Soit $E_4$ l'ensemble des tirages sans boules bleues.\n",
    "La probabilité de ne pas avoir de boules bleues est: \n",
    "$P_4=\\frac{\\begin{pmatrix}22\\\\6\\end{pmatrix}}{\\begin{pmatrix}34\\\\6\\end{pmatrix}}\n",
    "=\\frac{74613}{1344904}$\n",
    "\n",
    "Soit $E_1\\cap E_2$ l'ensemble des tirages sans boules noires ni boules rouges.\n",
    "La probabilité de n'avoir ni boules noires, ni boules rouges: \n",
    "$P_{12}=\\frac{\\begin{pmatrix}22\\\\6\\end{pmatrix}}{\\begin{pmatrix}34\\\\6\\end{pmatrix}}\n",
    "=\\frac{74613}{1344904}$\n",
    "\n",
    "Soit $E_1\\cap E_3$ l'ensemble des tirages sans boules noires ni boules vertes.\n",
    "La probabilité de n'avoir ni boules noires, ni boules vertes: \n",
    "$P_{13}=\\frac{\\begin{pmatrix}18\\\\6\\end{pmatrix}}{\\begin{pmatrix}34\\\\6\\end{pmatrix}}\n",
    "=\\frac{18564}{1344904}$\n",
    "\n",
    "Soit $E_1\\cap E_4$ l'ensemble des tirages sans boules noires ni boules bleues.\n",
    "La probabilité de n'avoir ni boules noires, ni boules bleues: \n",
    "$P_{14}=\\frac{\\begin{pmatrix}16\\\\6\\end{pmatrix}}{\\begin{pmatrix}34\\\\6\\end{pmatrix}}\n",
    "=\\frac{8008}{1344904}$\n",
    "\n",
    "Soit $E_2\\cap E_3$ l'ensemble des tirages sans boules rouges ni boules vertes.\n",
    "La probabilité de n'avoir ni boules rouges, ni boules vertes: \n",
    "$P_{23}=\\frac{\\begin{pmatrix}18\\\\6\\end{pmatrix}}{\\begin{pmatrix}34\\\\6\\end{pmatrix}}\n",
    "=\\frac{18564}{1344904}$\n",
    "\n",
    "Soit $E_2\\cap E_4$ l'ensemble des tirages sans boules rouges ni boules bleues.\n",
    "La probabilité de n'avoir ni boules rouges, ni boules bleues: \n",
    "$P_{24}=\\frac{\\begin{pmatrix}16\\\\6\\end{pmatrix}}{\\begin{pmatrix}34\\\\6\\end{pmatrix}}\n",
    "=\\frac{8008}{1344904}$\n",
    "\n",
    "Soit $E_3\\cap E_4$ l'ensemble des tirages sans boules vertes ni boules bleues.\n",
    "La probabilité de n'avoir ni boules vertes, ni boules bleues: \n",
    "$P_{34}=\\frac{\\begin{pmatrix}12\\\\6\\end{pmatrix}}{\\begin{pmatrix}34\\\\6\\end{pmatrix}}\n",
    "=\\frac{924}{1344904}$\n",
    "\n",
    "Soit $E_1\\cap E_2 \\cap E_3$ l'ensemble des tirages sans boules noires, ni boules rouges, ni boules vertes.\n",
    "La probabilité de n'avoir ni boules noires, ni boules rouges, ni boules vertes: \n",
    "$P_{123}=\\frac{\\begin{pmatrix}12\\\\6\\end{pmatrix}}{\\begin{pmatrix}34\\\\6\\end{pmatrix}}\n",
    "=\\frac{924}{1344904}$\n",
    "\n",
    "Soit $E_1\\cap E_2 \\cap E_4$ l'ensemble des tirages sans boules noires, ni boules rouges, ni boules bleues.\n",
    "La probabilité de n'avoir ni boules noires, ni boules rouges, ni boules bleues: \n",
    "$P_{124}=\\frac{\\begin{pmatrix}10\\\\6\\end{pmatrix}}{\\begin{pmatrix}34\\\\6\\end{pmatrix}}\n",
    "=\\frac{210}{1344904}$\n",
    "\n",
    "Soit $E_1\\cap E_3 \\cap E_4$ l'ensemble des tirages sans boules noires, ni boules vertes, ni boules bleues.\n",
    "La probabilité de n'avoir ni boules noires, ni boules vertes, ni boules bleues: \n",
    "$P_{134}=\\frac{\\begin{pmatrix}6\\\\6\\end{pmatrix}}{\\begin{pmatrix}34\\\\6\\end{pmatrix}}\n",
    "=\\frac{1}{1344904}$\n",
    "\n",
    "Soit $E_2\\cap E_3 \\cap E_4$ l'ensemble des tirages sans boules rouges, ni boules vertes, ni boules bleues.\n",
    "La probabilité de n'avoir ni boules rouges, ni boules vertes, ni boules bleues: \n",
    "$P_{234}=\\frac{\\begin{pmatrix}6\\\\6\\end{pmatrix}}{\\begin{pmatrix}34\\\\6\\end{pmatrix}}\n",
    "=\\frac{1}{1344904}$\n",
    "\n",
    "Soit $E_1 \\cap E_2\\cap E_3 \\cap E_4$ l'ensemble des tirages sans boules noires, ni boules rouges, ni boules vertes, ni boules bleues.\n",
    "La probabilité de n'avoir ni boules noires, ni boules rouges, ni boules vertes, ni boules bleues: \n",
    "$P_{1234}=0$\n",
    "\n",
    "Finalement:\n",
    "la probabilité d'avoir aucune boules noires ou bien aucune boules rouges ou bien aucune boules vertes ou bien aucune boules bleues est:\\\\\n",
    "$P_{E_1\\cup E_2\\cup E_3\\cup E_4}=P_1+P_2+P_3+P_4-(P_{12}+P_{13}+P_{14}+P_{23}+P_{24}+P_{34})+(P_{123}+P_{124}+P_{134}+P_{234})-P_{1234}\\\\\n",
    "=\\frac{376740+376740+134596+74613-(74613+18564+8008+18564+8008+924)+(924+210+1+1)-0}{1344904}=\\frac{835144}{1344904}$\n",
    " \n",
    "Conclusion: la probabilité d'avoir au moins une boule noire et une boule rouge et une boule verte et une boule bleue est: $P=1-P_{E_1\\cup E_2\\cup E_3\\cup E_4}=\\frac{509760}{1344904}=0.3790307709695265$\n"
   ]
  },
  {
   "cell_type": "code",
   "execution_count": null,
   "metadata": {
    "collapsed": true
   },
   "outputs": [],
   "source": []
  }
 ],
 "metadata": {
  "kernelspec": {
   "display_name": "OCaml",
   "language": "ocaml",
   "name": "iocaml"
  },
  "language_info": {
   "name": "ocaml",
   "version": "4.1.0"
  }
 },
 "nbformat": 4,
 "nbformat_minor": 2
}
