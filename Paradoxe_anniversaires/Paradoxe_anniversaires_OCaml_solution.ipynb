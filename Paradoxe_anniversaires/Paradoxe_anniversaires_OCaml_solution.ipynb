{
 "cells": [
  {
   "cell_type": "markdown",
   "metadata": {},
   "source": [
    "<h1> Le paradoxe des anniversaires </h1>\n",
    "\n",
    "<h2> Présentation du problème </h2>\n",
    "\n",
    " Le paradoxe des anniversaires est une estimation probabiliste du nombre de personnes que l'on doit réunir pour avoir une chance sur deux que deux personnes de ce groupe aient leur anniversaire le même jour. <br>\n",
    "\n",
    "On considérera que l'année fait 365 jours (on néglige les années bissextiles).<br>\n",
    "\n",
    "Faire une simulation pour trouver le nombre $N$ de personnes qu'il faut réunir pour obtenir une coïncidence de date d'anniversaire.<br>\n",
    "Ré-itérer la simulation 1000 fois. Donner la moyenne de $N$.<br>\n",
    "\n",
    "Retrouver ce résultat théoriquement.\n",
    "\n",
    "<h2> Solution </h2>\n",
    "\n",
    "<h3> Démonstration: </h3>\n",
    "\n",
    "On compte le nombre de cas où $n$ personnes ont des jours d'anniversaires différents et nous diviserons par le nombre de possibilités.<br>Il y a $n$ personnes, pour chacune il y a 365 jours possibles, donc au total si on ne se fixe aucune contrainte, il a $365^n$ possibilités. <br>Si maintenant on veut des jours différents, nous obtenons un arrangement de $n$ parmi 365, soit  : <br> <br> $A^n_{365}=(365-0)(365-1)...(365-n+1)=\\frac{365!}{(365-n)!}$.\n",
    "\n",
    "On a donc\n",
    "$\\overline{p}(n)= \\frac{365!}{(365-n)!} \\cdot \\frac{1}{365^n}$\n",
    "\n",
    "On peut également le voir comme une multiplication de probabilités d'événements indépendants :\n",
    "\n",
    "$\\overline{p}(n)= \\underbrace{ \\frac{365}{365} \\cdot \\frac{364}{365} \\cdot \\frac{363}{365} \\cdot \\cdots \\cdot \\frac{365-n+1}{365} }_\\text{n facteurs}$\n",
    "\n",
    "Or, l'événement « un jour anniversaire différent par personne » est le complémentaire de « au moins deux identiques ». Par conséquent la probabilité recherchée est $p(n)=1-\\overline{p}(n)$.\n",
    "\n",
    "En faisant l'application numérique, on trouve 50,73 % pour vingt-trois personnes.\n",
    "\n",
    "<h3> Code </h3>"
   ]
  },
  {
   "cell_type": "code",
   "execution_count": 2,
   "metadata": {
    "collapsed": false
   },
   "outputs": [
    {
     "data": {
      "text/html": [
       "<pre style=\"color:slategray;max-height:100px;overflow:hidden\" \n",
       "onclick=\"\n",
       "if (this.style.maxHeight === 'none') \n",
       "    this.style.maxHeight = '100px';\n",
       "else\n",
       "    this.style.maxHeight = 'none'; \n",
       "\">- : unit -&gt; unit = &lt;fun&gt;\n",
       "</pre>"
      ]
     },
     "execution_count": 2,
     "metadata": {},
     "output_type": "execute_result"
    }
   ],
   "source": [
    "open Random;;\n",
    "Random.self_init;;"
   ]
  },
  {
   "cell_type": "code",
   "execution_count": 8,
   "metadata": {
    "collapsed": false
   },
   "outputs": [
    {
     "data": {
      "text/html": [
       "<pre style=\"color:slategray;max-height:100px;overflow:hidden\" \n",
       "onclick=\"\n",
       "if (this.style.maxHeight === 'none') \n",
       "    this.style.maxHeight = '100px';\n",
       "else\n",
       "    this.style.maxHeight = 'none'; \n",
       "\">val anniversaire : int -&gt; int = &lt;fun&gt;\n",
       "</pre>"
      ]
     },
     "execution_count": 8,
     "metadata": {},
     "output_type": "execute_result"
    }
   ],
   "source": [
    "let anniversaire j =\n",
    "    let rec loop2 nbre_personnes =\n",
    "        if nbre_personnes = j then nbre_personnes else \n",
    "        begin\n",
    "        \n",
    "        let nbre_essais=5000 in\n",
    "\n",
    "        let rec loop num_essai moyenne =\n",
    "            if num_essai = nbre_essais then float_of_int moyenne /. (float_of_int nbre_essais) else\n",
    "            begin\n",
    "            \n",
    "            let collision=Array.make j false in\n",
    "\n",
    "            let rec trouve_collision personne =\n",
    "                if personne = nbre_personnes then false else\n",
    "                begin\n",
    "                let jour = Random.int j in\n",
    "                if collision.(jour) = true then true\n",
    "                else begin\n",
    "                    collision.(jour) <- true;\n",
    "                    trouve_collision (personne+1);\n",
    "                    end;\n",
    "                end in\n",
    "                \n",
    "             if trouve_collision 0 then loop (num_essai+1) (moyenne+1) else loop (num_essai+1) moyenne;\n",
    "            end in\n",
    "\n",
    "        if (loop 0 0)>0.5 then nbre_personnes\n",
    "        else loop2 (nbre_personnes+1);\n",
    "        end in\n",
    "\n",
    "    loop2 0;;"
   ]
  },
  {
   "cell_type": "code",
   "execution_count": 9,
   "metadata": {
    "collapsed": false
   },
   "outputs": [
    {
     "data": {
      "text/html": [
       "<pre style=\"color:slategray;max-height:100px;overflow:hidden\" \n",
       "onclick=\"\n",
       "if (this.style.maxHeight === 'none') \n",
       "    this.style.maxHeight = '100px';\n",
       "else\n",
       "    this.style.maxHeight = 'none'; \n",
       "\">- : int = 23\n",
       "</pre>"
      ]
     },
     "execution_count": 9,
     "metadata": {},
     "output_type": "execute_result"
    }
   ],
   "source": [
    "anniversaire 365;;"
   ]
  },
  {
   "cell_type": "code",
   "execution_count": 5,
   "metadata": {
    "collapsed": false
   },
   "outputs": [
    {
     "data": {
      "text/html": [
       "<pre style=\"color:slategray;max-height:100px;overflow:hidden\" \n",
       "onclick=\"\n",
       "if (this.style.maxHeight === 'none') \n",
       "    this.style.maxHeight = '100px';\n",
       "else\n",
       "    this.style.maxHeight = 'none'; \n",
       "\">val anniversaire_th : int -&gt; int * float = &lt;fun&gt;\n",
       "</pre>"
      ]
     },
     "execution_count": 5,
     "metadata": {},
     "output_type": "execute_result"
    },
    {
     "data": {
      "text/html": [
       "<pre style=\"color:slategray;max-height:100px;overflow:hidden\" \n",
       "onclick=\"\n",
       "if (this.style.maxHeight === 'none') \n",
       "    this.style.maxHeight = '100px';\n",
       "else\n",
       "    this.style.maxHeight = 'none'; \n",
       "\">- : int * float = (23, 0.507297234323985546)\n",
       "</pre>"
      ]
     },
     "execution_count": 5,
     "metadata": {},
     "output_type": "execute_result"
    }
   ],
   "source": [
    "let anniversaire_th nbre_jours =\n",
    "    let rec loop proba jours =\n",
    "       if 1.-.proba>= 0.5 then nbre_jours-jours, 1.-.proba else\n",
    "       loop (proba*.(float_of_int jours)/.(float_of_int nbre_jours)) (jours-1) in \n",
    "    loop 1. nbre_jours;;\n",
    "anniversaire_th 365;;"
   ]
  },
  {
   "cell_type": "code",
   "execution_count": null,
   "metadata": {
    "collapsed": true
   },
   "outputs": [],
   "source": []
  }
 ],
 "metadata": {
  "kernelspec": {
   "display_name": "OCaml",
   "language": "ocaml",
   "name": "iocaml"
  },
  "language_info": {
   "name": "ocaml",
   "version": "4.1.0"
  }
 },
 "nbformat": 4,
 "nbformat_minor": 2
}
