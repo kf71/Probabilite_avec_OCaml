{
 "cells": [
  {
   "cell_type": "markdown",
   "metadata": {
    "deletable": true,
    "editable": true
   },
   "source": [
    "<h1> Le Poker </h1>"
   ]
  },
  {
   "cell_type": "markdown",
   "metadata": {
    "deletable": true,
    "editable": true
   },
   "source": [
    "On joue au poker avec un jeu de 52 cartes<br>\n",
    "(4 couleurs : trèfle, coeur, pique, carreaux et 13 valeurs : As, Roi, Dame, Valet, 10, 9, 8, 7, 6, 5, 4, 3, 2).<br>\n",
    "Les différentes combinaisons sont rappelées ci-contre :"
   ]
  },
  {
   "cell_type": "markdown",
   "metadata": {
    "deletable": true,
    "editable": true
   },
   "source": [
    "<img src=\"combinaison-poker.jpg\" />"
   ]
  },
  {
   "cell_type": "markdown",
   "metadata": {
    "deletable": true,
    "editable": true
   },
   "source": [
    "<ol>\n",
    "<li> Créer un jeu de 52 cartes.\n",
    "<li> Mélanger-le.\n",
    "<li> Prendre les 5 premières cartes.\n",
    "<li> Déterminer la plus haute combinaison que\n",
    "l'on peut former. (Pour cela, il sera utile de compter le nombre de cartes par couleur, par valeur et d'écrire une fonction recherchant la présence de quinte (ou suite)).\n",
    "<li> Ré-itérer l'opération 10 000 fois et établir des statistiques sur la probabiltés d'avoir une certaine combinaison du premier coup.\n",
    "</ol>"
   ]
  },
  {
   "cell_type": "code",
   "execution_count": 11,
   "metadata": {
    "collapsed": false,
    "deletable": true,
    "editable": true
   },
   "outputs": [
    {
     "data": {
      "text/html": [
       "<pre style=\"color:slategray;max-height:100px;overflow:hidden\" \n",
       "onclick=\"\n",
       "if (this.style.maxHeight === 'none') \n",
       "    this.style.maxHeight = '100px';\n",
       "else\n",
       "    this.style.maxHeight = 'none'; \n",
       "\">- : unit -&gt; unit = &lt;fun&gt;\n",
       "</pre>"
      ]
     },
     "execution_count": 11,
     "metadata": {},
     "output_type": "execute_result"
    }
   ],
   "source": [
    "open Random;;\n",
    "Random.self_init;;"
   ]
  },
  {
   "cell_type": "code",
   "execution_count": 12,
   "metadata": {
    "collapsed": false,
    "deletable": true,
    "editable": true
   },
   "outputs": [
    {
     "data": {
      "text/html": [
       "<pre style=\"color:slategray;max-height:100px;overflow:hidden\" \n",
       "onclick=\"\n",
       "if (this.style.maxHeight === 'none') \n",
       "    this.style.maxHeight = '100px';\n",
       "else\n",
       "    this.style.maxHeight = 'none'; \n",
       "\">type couleur = Trefle | Carreau | Coeur | Pique\n",
       "</pre>"
      ]
     },
     "execution_count": 12,
     "metadata": {},
     "output_type": "execute_result"
    },
    {
     "data": {
      "text/html": [
       "<pre style=\"color:slategray;max-height:100px;overflow:hidden\" \n",
       "onclick=\"\n",
       "if (this.style.maxHeight === 'none') \n",
       "    this.style.maxHeight = '100px';\n",
       "else\n",
       "    this.style.maxHeight = 'none'; \n",
       "\">val couleurs : couleur list = [Trefle; Carreau; Coeur; Pique]\n",
       "</pre>"
      ]
     },
     "execution_count": 12,
     "metadata": {},
     "output_type": "execute_result"
    },
    {
     "data": {
      "text/html": [
       "<pre style=\"color:slategray;max-height:100px;overflow:hidden\" \n",
       "onclick=\"\n",
       "if (this.style.maxHeight === 'none') \n",
       "    this.style.maxHeight = '100px';\n",
       "else\n",
       "    this.style.maxHeight = 'none'; \n",
       "\">type valeur =\n",
       "    As\n",
       "  | Roi\n",
       "  | Dame\n",
       "  | Valet\n",
       "  | Dix\n",
       "  | Neuf\n",
       "  | Huit\n",
       "  | Sept\n",
       "  | Six\n",
       "  | Cinq\n",
       "  | Quatre\n",
       "  | Trois\n",
       "  | Deux\n",
       "</pre>"
      ]
     },
     "execution_count": 12,
     "metadata": {},
     "output_type": "execute_result"
    },
    {
     "data": {
      "text/html": [
       "<pre style=\"color:slategray;max-height:100px;overflow:hidden\" \n",
       "onclick=\"\n",
       "if (this.style.maxHeight === 'none') \n",
       "    this.style.maxHeight = '100px';\n",
       "else\n",
       "    this.style.maxHeight = 'none'; \n",
       "\">val valeurs : valeur list =\n",
       "  [As; Roi; Dame; Valet; Dix; Neuf; Huit; Sept; Six; Cinq; Quatre; Trois;\n",
       "   Deux]\n",
       "</pre>"
      ]
     },
     "execution_count": 12,
     "metadata": {},
     "output_type": "execute_result"
    },
    {
     "data": {
      "text/html": [
       "<pre style=\"color:slategray;max-height:100px;overflow:hidden\" \n",
       "onclick=\"\n",
       "if (this.style.maxHeight === 'none') \n",
       "    this.style.maxHeight = '100px';\n",
       "else\n",
       "    this.style.maxHeight = 'none'; \n",
       "\">type combinaison =\n",
       "    Quinte_flush\n",
       "  | Carre\n",
       "  | Full\n",
       "  | Couleur\n",
       "  | Quinte\n",
       "  | Brelan\n",
       "  | Double_paire\n",
       "  | Paire\n",
       "  | Rien\n",
       "</pre>"
      ]
     },
     "execution_count": 12,
     "metadata": {},
     "output_type": "execute_result"
    },
    {
     "data": {
      "text/html": [
       "<pre style=\"color:slategray;max-height:100px;overflow:hidden\" \n",
       "onclick=\"\n",
       "if (this.style.maxHeight === 'none') \n",
       "    this.style.maxHeight = '100px';\n",
       "else\n",
       "    this.style.maxHeight = 'none'; \n",
       "\">val combinaisons : combinaison list =\n",
       "  [Quinte_flush; Carre; Full; Couleur; Quinte; Brelan; Double_paire; Paire;\n",
       "   Rien]\n",
       "</pre>"
      ]
     },
     "execution_count": 12,
     "metadata": {},
     "output_type": "execute_result"
    }
   ],
   "source": [
    "type couleur= Trefle | Carreau | Coeur | Pique;;\n",
    "let couleurs = [Trefle ; Carreau ; Coeur ; Pique];;\n",
    "type valeur= As | Roi | Dame | Valet | Dix | Neuf | Huit | Sept | Six | Cinq | Quatre | Trois | Deux;;\n",
    "let valeurs= [As ; Roi ; Dame ; Valet ; Dix ; Neuf ; Huit ; Sept ; Six ; Cinq ; Quatre ; Trois ; Deux];;\n",
    "type combinaison= Quinte_flush | Carre | Full | Couleur | Quinte | Brelan | Double_paire | Paire | Rien;;\n",
    "let combinaisons= [Quinte_flush ; Carre ; Full ; Couleur ; Quinte ; Brelan ; Double_paire ; Paire ; Rien];;"
   ]
  },
  {
   "cell_type": "code",
   "execution_count": 13,
   "metadata": {
    "collapsed": false,
    "deletable": true,
    "editable": true
   },
   "outputs": [
    {
     "data": {
      "text/html": [
       "<pre style=\"color:slategray;max-height:100px;overflow:hidden\" \n",
       "onclick=\"\n",
       "if (this.style.maxHeight === 'none') \n",
       "    this.style.maxHeight = '100px';\n",
       "else\n",
       "    this.style.maxHeight = 'none'; \n",
       "\">type carte = valeur * couleur\n",
       "</pre>"
      ]
     },
     "execution_count": 13,
     "metadata": {},
     "output_type": "execute_result"
    },
    {
     "data": {
      "text/html": [
       "<pre style=\"color:slategray;max-height:100px;overflow:hidden\" \n",
       "onclick=\"\n",
       "if (this.style.maxHeight === 'none') \n",
       "    this.style.maxHeight = '100px';\n",
       "else\n",
       "    this.style.maxHeight = 'none'; \n",
       "\">val cartes : (valeur * couleur) array =\n",
       "  [|(As, Trefle); (As, Carreau); (As, Coeur); (As, Pique); (Roi, Trefle);\n",
       "    (Roi, Carreau); (Roi, Coeur); (Roi, Pique); (Dame, Trefle);\n",
       "    (Dame, Carreau); (Dame, Coeur); (Dame, Pique); (Valet, Trefle);\n",
       "    (Valet, Carreau); (Valet, Coeur); (Valet, Pique); (Dix, Trefle);\n",
       "    (Dix, Carreau); (Dix, Coeur); (Dix, Pique); (Neuf, Trefle);\n",
       "    (Neuf, Carreau); (Neuf, Coeur); (Neuf, Pique); (Huit, Trefle);\n",
       "    (Huit, Carreau); (Huit, Coeur); (Huit, Pique); (Sept, Trefle);\n",
       "    (Sept, Carreau); (Sept, Coeur); (Sept, Pique); (Six, Trefle);\n",
       "    (Six, Carreau); (Six, Coeur); (Six, Pique); (Cinq, Trefle);\n",
       "    (Cinq, Carreau); (Cinq, Coeur); (Cinq, Pique); (Quatre, Trefle);\n",
       "    (Quatre, Carreau); (Quatre, Coeur); (Quatre, Pique); (Trois, Trefle);\n",
       "    (Trois, Carreau); (Trois, Coeur); (Trois, Pique); (Deux, Trefle);\n",
       "    (Deux, Carreau); (Deux, Coeur); (Deux, Pique)|]\n",
       "</pre>"
      ]
     },
     "execution_count": 13,
     "metadata": {},
     "output_type": "execute_result"
    }
   ],
   "source": [
    "type carte = valeur * couleur;;\n",
    "let cartes= Array.of_list (List.concat (List.map (fun v -> List.map (fun c -> (v, c)) couleurs) valeurs))"
   ]
  },
  {
   "cell_type": "code",
   "execution_count": 14,
   "metadata": {
    "collapsed": false,
    "deletable": true,
    "editable": true
   },
   "outputs": [
    {
     "data": {
      "text/html": [
       "<pre style=\"color:slategray;max-height:100px;overflow:hidden\" \n",
       "onclick=\"\n",
       "if (this.style.maxHeight === 'none') \n",
       "    this.style.maxHeight = '100px';\n",
       "else\n",
       "    this.style.maxHeight = 'none'; \n",
       "\">val shuffle : 'a array -&gt; unit = &lt;fun&gt;\n",
       "</pre>"
      ]
     },
     "execution_count": 14,
     "metadata": {},
     "output_type": "execute_result"
    }
   ],
   "source": [
    "let shuffle deck =\n",
    "  for i = Array.length deck - 1 downto 1 do\n",
    "    let j = Random.int (i+1) in\n",
    "    (* swap deck.(i) and deck.(j) *)\n",
    "    let temp = deck.(i) in\n",
    "    deck.(i) <- deck.(j);\n",
    "    deck.(j) <- temp\n",
    "  done;;"
   ]
  },
  {
   "cell_type": "code",
   "execution_count": 15,
   "metadata": {
    "collapsed": false,
    "deletable": true,
    "editable": true
   },
   "outputs": [
    {
     "data": {
      "text/html": [
       "<pre style=\"color:slategray;max-height:100px;overflow:hidden\" \n",
       "onclick=\"\n",
       "if (this.style.maxHeight === 'none') \n",
       "    this.style.maxHeight = '100px';\n",
       "else\n",
       "    this.style.maxHeight = 'none'; \n",
       "\">val find_quinte : (valeur * int) list -&gt; bool = &lt;fun&gt;\n",
       "</pre>"
      ]
     },
     "execution_count": 15,
     "metadata": {},
     "output_type": "execute_result"
    }
   ],
   "source": [
    "let find_quinte count_valeurs =\n",
    "    \"à compléter\""
   ]
  },
  {
   "cell_type": "code",
   "execution_count": 16,
   "metadata": {
    "collapsed": false,
    "deletable": true,
    "editable": true
   },
   "outputs": [
    {
     "data": {
      "text/html": [
       "<pre style=\"color:slategray;max-height:100px;overflow:hidden\" \n",
       "onclick=\"\n",
       "if (this.style.maxHeight === 'none') \n",
       "    this.style.maxHeight = '100px';\n",
       "else\n",
       "    this.style.maxHeight = 'none'; \n",
       "\">val find_in_assoc_list : 'a -&gt; ('b * 'a) list -&gt; bool = &lt;fun&gt;\n",
       "</pre>"
      ]
     },
     "execution_count": 16,
     "metadata": {},
     "output_type": "execute_result"
    }
   ],
   "source": [
    "let rec find_in_assoc_list valeur liste = \n",
    "        \"à compléter\""
   ]
  },
  {
   "cell_type": "code",
   "execution_count": 17,
   "metadata": {
    "collapsed": false,
    "deletable": true,
    "editable": true
   },
   "outputs": [
    {
     "data": {
      "text/html": [
       "<pre style=\"color:slategray;max-height:100px;overflow:hidden\" \n",
       "onclick=\"\n",
       "if (this.style.maxHeight === 'none') \n",
       "    this.style.maxHeight = '100px';\n",
       "else\n",
       "    this.style.maxHeight = 'none'; \n",
       "\">val values_in_assoc_list : ('a * 'b) list -&gt; 'b list = &lt;fun&gt;\n",
       "</pre>"
      ]
     },
     "execution_count": 17,
     "metadata": {},
     "output_type": "execute_result"
    }
   ],
   "source": [
    "let rec values_in_assoc_list liste =\n",
    "     \"à compléter\""
   ]
  },
  {
   "cell_type": "code",
   "execution_count": 18,
   "metadata": {
    "collapsed": false,
    "deletable": true,
    "editable": true
   },
   "outputs": [
    {
     "data": {
      "text/html": [
       "<pre style=\"color:slategray;max-height:100px;overflow:hidden\" \n",
       "onclick=\"\n",
       "if (this.style.maxHeight === 'none') \n",
       "    this.style.maxHeight = '100px';\n",
       "else\n",
       "    this.style.maxHeight = 'none'; \n",
       "\">val compte_element_in_list : 'a -&gt; 'a list -&gt; int = &lt;fun&gt;\n",
       "</pre>"
      ]
     },
     "execution_count": 18,
     "metadata": {},
     "output_type": "execute_result"
    }
   ],
   "source": [
    "let rec compte_element_in_list element liste =\n",
    "    \"à compléter\""
   ]
  },
  {
   "cell_type": "code",
   "execution_count": 19,
   "metadata": {
    "collapsed": false,
    "deletable": true,
    "editable": true
   },
   "outputs": [
    {
     "data": {
      "text/html": [
       "<pre style=\"color:slategray;max-height:100px;overflow:hidden\" \n",
       "onclick=\"\n",
       "if (this.style.maxHeight === 'none') \n",
       "    this.style.maxHeight = '100px';\n",
       "else\n",
       "    this.style.maxHeight = 'none'; \n",
       "\">val analyse : (valeur * couleur) list -&gt; combinaison = &lt;fun&gt;\n",
       "</pre>"
      ]
     },
     "execution_count": 19,
     "metadata": {},
     "output_type": "execute_result"
    }
   ],
   "source": [
    "let analyse donne =\n",
    "    \"à compléter\""
   ]
  },
  {
   "cell_type": "code",
   "execution_count": 20,
   "metadata": {
    "collapsed": false,
    "deletable": true,
    "editable": true
   },
   "outputs": [
    {
     "data": {
      "text/html": [
       "<pre style=\"color:slategray;max-height:100px;overflow:hidden\" \n",
       "onclick=\"\n",
       "if (this.style.maxHeight === 'none') \n",
       "    this.style.maxHeight = '100px';\n",
       "else\n",
       "    this.style.maxHeight = 'none'; \n",
       "\">val extract : int -&gt; int -&gt; 'a array -&gt; 'a list = &lt;fun&gt;\n",
       "</pre>"
      ]
     },
     "execution_count": 20,
     "metadata": {},
     "output_type": "execute_result"
    }
   ],
   "source": [
    "let rec extract debut fin array =\n",
    "  if debut=fin then [] else\n",
    "  (array.(debut)::(extract (debut+1) fin array));;"
   ]
  },
  {
   "cell_type": "code",
   "execution_count": 21,
   "metadata": {
    "collapsed": false,
    "deletable": true,
    "editable": true
   },
   "outputs": [
    {
     "data": {
      "text/html": [
       "<pre style=\"color:slategray;max-height:100px;overflow:hidden\" \n",
       "onclick=\"\n",
       "if (this.style.maxHeight === 'none') \n",
       "    this.style.maxHeight = '100px';\n",
       "else\n",
       "    this.style.maxHeight = 'none'; \n",
       "\">val nbre_essais : int = 20000\n",
       "</pre>"
      ]
     },
     "execution_count": 21,
     "metadata": {},
     "output_type": "execute_result"
    },
    {
     "data": {
      "text/html": [
       "<pre style=\"color:slategray;max-height:100px;overflow:hidden\" \n",
       "onclick=\"\n",
       "if (this.style.maxHeight === 'none') \n",
       "    this.style.maxHeight = '100px';\n",
       "else\n",
       "    this.style.maxHeight = 'none'; \n",
       "\">val loop : int -&gt; (combinaison * int) list -&gt; (combinaison * int) list =\n",
       "  &lt;fun&gt;\n",
       "</pre>"
      ]
     },
     "execution_count": 21,
     "metadata": {},
     "output_type": "execute_result"
    },
    {
     "data": {
      "text/html": [
       "<pre style=\"color:slategray;max-height:100px;overflow:hidden\" \n",
       "onclick=\"\n",
       "if (this.style.maxHeight === 'none') \n",
       "    this.style.maxHeight = '100px';\n",
       "else\n",
       "    this.style.maxHeight = 'none'; \n",
       "\">val count_combinaisons : (combinaison * int) list =\n",
       "  [(Rien, 10037); (Brelan, 427); (Paire, 8456); (Quinte, 60);\n",
       "   (Double_paire, 931); (Carre, 12); (Full, 32); (Couleur, 44);\n",
       "   (Quinte_flush, 1)]\n",
       "</pre>"
      ]
     },
     "execution_count": 21,
     "metadata": {},
     "output_type": "execute_result"
    }
   ],
   "source": [
    "let nbre_essais=20000;;\n",
    "let rec loop num_essai count_combinaisons =\n",
    "        \"à compléter\"\n",
    "    \n",
    "let count_combinaisons = loop 0 (List.map (fun c -> c,0) combinaisons);;"
   ]
  },
  {
   "cell_type": "code",
   "execution_count": 25,
   "metadata": {
    "collapsed": false,
    "deletable": true,
    "editable": true
   },
   "outputs": [
    {
     "data": {
      "text/html": [
       "<pre style=\"color:slategray;max-height:100px;overflow:hidden\" \n",
       "onclick=\"\n",
       "if (this.style.maxHeight === 'none') \n",
       "    this.style.maxHeight = '100px';\n",
       "else\n",
       "    this.style.maxHeight = 'none'; \n",
       "\">val string_of_combinaison : combinaison -&gt; string = &lt;fun&gt;\n",
       "</pre>"
      ]
     },
     "execution_count": 25,
     "metadata": {},
     "output_type": "execute_result"
    }
   ],
   "source": [
    "let string_of_combinaison c =\n",
    "    match c with\n",
    "    | Quinte_flush -> \"Quinte flush\" | Carre -> \"Carre\"| Full -> \"Full\" | Couleur -> \"Couleur\"\n",
    "    | Quinte -> \"Quinte\" | Brelan -> \"Brelan\" | Double_paire -> \"Double paire\" | Paire -> \"Paire\" \n",
    "    | Rien -> \"Rien\";;"
   ]
  },
  {
   "cell_type": "code",
   "execution_count": 27,
   "metadata": {
    "collapsed": false,
    "deletable": true,
    "editable": true
   },
   "outputs": [
    {
     "name": "stdout",
     "output_type": "stream",
     "text": [
      "Quinte flush\t5e-05\n",
      "Carre\t0.0006\n",
      "Full\t0.0016\n",
      "Couleur\t0.0022\n",
      "Quinte\t0.003\n",
      "Brelan\t0.02135\n",
      "Double paire\t0.04655\n",
      "Paire\t0.4228\n",
      "Rien\t0.50185\n"
     ]
    },
    {
     "data": {
      "text/html": [
       "<pre style=\"color:slategray;max-height:100px;overflow:hidden\" \n",
       "onclick=\"\n",
       "if (this.style.maxHeight === 'none') \n",
       "    this.style.maxHeight = '100px';\n",
       "else\n",
       "    this.style.maxHeight = 'none'; \n",
       "\">- : unit = ()\n",
       "</pre>"
      ]
     },
     "execution_count": 27,
     "metadata": {},
     "output_type": "execute_result"
    }
   ],
   "source": [
    "for i = 0 to List.length combinaisons - 1 do\n",
    "    let combi = List.nth combinaisons i in\n",
    "    print_string (string_of_combinaison combi);\n",
    "    print_string \"\\t\";\n",
    "    print_float ((float_of_int (List.assoc combi count_combinaisons)) /. (float_of_int nbre_essais));\n",
    "    print_newline();\n",
    "done;;"
   ]
  },
  {
   "cell_type": "code",
   "execution_count": null,
   "metadata": {
    "collapsed": true,
    "deletable": true,
    "editable": true
   },
   "outputs": [],
   "source": []
  }
 ],
 "metadata": {
  "kernelspec": {
   "display_name": "OCaml",
   "language": "ocaml",
   "name": "iocaml"
  },
  "language_info": {
   "name": "ocaml",
   "version": "4.1.0"
  }
 },
 "nbformat": 4,
 "nbformat_minor": 2
}
