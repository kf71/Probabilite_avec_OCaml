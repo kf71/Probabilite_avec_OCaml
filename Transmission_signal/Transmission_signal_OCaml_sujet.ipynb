{
 "cells": [
  {
   "cell_type": "markdown",
   "metadata": {
    "deletable": true,
    "editable": true
   },
   "source": [
    "<h1> Transmission d'un signal </h1>\n",
    "\n",
    "<h2> Énoncé </h2>"
   ]
  },
  {
   "cell_type": "markdown",
   "metadata": {
    "deletable": true,
    "editable": true
   },
   "source": [
    "La transmission d'un signal binaire $x\\in\\{0,1\\}$ se fait selon le schéma suivant:\n",
    "\n",
    "<ul>\n",
    "<li> le signal $x$ est transmis $x$ avec une probabilité $p$\n",
    "<li> et le signal $x$ est transmis $1-x$ avec une probabilité $1-p$.\n",
    "</ul>\n",
    "\n",
    "\n",
    "<img src=\"./figure transmission d'un signal.svg\" width=30% />\n",
    "\n",
    "<table width=30%>\n",
    "<tr><td>signal à émettre</td><td></td><td> signal émis</td></tr>\n",
    "<tr><td>0 </td><td> $\\to$ </td><td> 000</td></tr>\n",
    "<tr><td>1 </td><td> $\\to$ </td><td> 111</td></tr>\n",
    "</table>\n",
    "\n",
    "Le bruit de fond qui perturbe la transmission a des origines diverses: orages, parasites, brouillage.\n",
    "\n",
    "Une méthode classique pour pouvoir transmettre un message correctement malgré le bruit de fond consiste à transmettre chaque information 3 fois.\n",
    "\n",
    "&Eacute;tudier la fiabilité de cette procédure selon les valeurs de $p$ en effectuer 10 000 simulations pour chaque valeur de $p\\in[0,1]$.\n",
    "\n",
    "Retrouver ce résultat théoriquement.\n"
   ]
  },
  {
   "cell_type": "markdown",
   "metadata": {
    "deletable": true,
    "editable": true
   },
   "source": [
    "<h1> Solution :  </h1>"
   ]
  },
  {
   "cell_type": "code",
   "execution_count": 1,
   "metadata": {
    "collapsed": false,
    "deletable": true,
    "editable": true
   },
   "outputs": [
    {
     "name": "stdout",
     "output_type": "stream",
     "text": [
      "- : unit = ()\n",
      "Findlib has been successfully loaded. Additional directives:\n",
      "  #require \"package\";;      to load a package\n",
      "  #list;;                   to list the available packages\n",
      "  #camlp4o;;                to load camlp4 (standard syntax)\n",
      "  #camlp4r;;                to load camlp4 (revised syntax)\n",
      "  #predicates \"p,q,...\";;   to set these predicates\n",
      "  Topfind.reset();;         to force that packages will be reloaded\n",
      "  #thread;;                 to enable threads\n",
      "\n",
      "- : unit = ()\n"
     ]
    },
    {
     "name": "stderr",
     "output_type": "stream",
     "text": [
      "/usr/lib/ocaml/plplot: added to search path\n",
      "/usr/lib/ocaml/plplot/plplot.cma: loaded\n"
     ]
    },
    {
     "data": {
      "text/html": [
       "<pre style=\"color:slategray;max-height:100px;overflow:hidden\" \n",
       "onclick=\"\n",
       "if (this.style.maxHeight === 'none') \n",
       "    this.style.maxHeight = '100px';\n",
       "else\n",
       "    this.style.maxHeight = 'none'; \n",
       "\">- : unit -&gt; unit = &lt;fun&gt;\n",
       "</pre>"
      ]
     },
     "execution_count": 1,
     "metadata": {},
     "output_type": "execute_result"
    },
    {
     "data": {
      "text/html": [
       "<pre style=\"color:slategray;max-height:100px;overflow:hidden\" \n",
       "onclick=\"\n",
       "if (this.style.maxHeight === 'none') \n",
       "    this.style.maxHeight = '100px';\n",
       "else\n",
       "    this.style.maxHeight = 'none'; \n",
       "\">module P = Plplot.Plot\n",
       "</pre>"
      ]
     },
     "execution_count": 1,
     "metadata": {},
     "output_type": "execute_result"
    },
    {
     "data": {
      "text/html": [
       "<pre style=\"color:slategray;max-height:100px;overflow:hidden\" \n",
       "onclick=\"\n",
       "if (this.style.maxHeight === 'none') \n",
       "    this.style.maxHeight = '100px';\n",
       "else\n",
       "    this.style.maxHeight = 'none'; \n",
       "\">val couleurs_list : int list list =\n",
       "  [[0; 255; 255; 255]; [1; 0; 0; 0]; [2; 0; 0; 255]; [3; 255; 0; 0];\n",
       "   [4; 165; 42; 42]; [5; 0; 0; 0]; [6; 0; 0; 0]; [7; 0; 0; 0]; [8; 0; 0; 0];\n",
       "   [9; 0; 0; 0]; [10; 200; 200; 200]; [11; 0; 255; 255]; [12; 0; 255; 0];\n",
       "   [13; 255; 255; 0]; [14; 255; 0; 255]; [15; 160; 0; 213]]\n",
       "</pre>"
      ]
     },
     "execution_count": 1,
     "metadata": {},
     "output_type": "execute_result"
    },
    {
     "data": {
      "text/html": [
       "<pre style=\"color:slategray;max-height:100px;overflow:hidden\" \n",
       "onclick=\"\n",
       "if (this.style.maxHeight === 'none') \n",
       "    this.style.maxHeight = '100px';\n",
       "else\n",
       "    this.style.maxHeight = 'none'; \n",
       "\">val loop : int list list -&gt; unit = &lt;fun&gt;\n",
       "</pre>"
      ]
     },
     "execution_count": 1,
     "metadata": {},
     "output_type": "execute_result"
    },
    {
     "data": {
      "text/html": [
       "<pre style=\"color:slategray;max-height:100px;overflow:hidden\" \n",
       "onclick=\"\n",
       "if (this.style.maxHeight === 'none') \n",
       "    this.style.maxHeight = '100px';\n",
       "else\n",
       "    this.style.maxHeight = 'none'; \n",
       "\">val couleurs : unit -&gt; unit = &lt;fun&gt;\n",
       "</pre>"
      ]
     },
     "execution_count": 1,
     "metadata": {},
     "output_type": "execute_result"
    },
    {
     "data": {
      "text/html": [
       "<pre style=\"color:slategray;max-height:100px;overflow:hidden\" \n",
       "onclick=\"\n",
       "if (this.style.maxHeight === 'none') \n",
       "    this.style.maxHeight = '100px';\n",
       "else\n",
       "    this.style.maxHeight = 'none'; \n",
       "\">val initialisation : string -&gt; float -&gt; float -&gt; float -&gt; float -&gt; P.stream_t =\n",
       "  &lt;fun&gt;\n",
       "</pre>"
      ]
     },
     "execution_count": 1,
     "metadata": {},
     "output_type": "execute_result"
    },
    {
     "data": {
      "text/html": [
       "<pre style=\"color:slategray;max-height:100px;overflow:hidden\" \n",
       "onclick=\"\n",
       "if (this.style.maxHeight === 'none') \n",
       "    this.style.maxHeight = '100px';\n",
       "else\n",
       "    this.style.maxHeight = 'none'; \n",
       "\">val xlabel : string -&gt; P.plot_t = &lt;fun&gt;\n",
       "</pre>"
      ]
     },
     "execution_count": 1,
     "metadata": {},
     "output_type": "execute_result"
    },
    {
     "data": {
      "text/html": [
       "<pre style=\"color:slategray;max-height:100px;overflow:hidden\" \n",
       "onclick=\"\n",
       "if (this.style.maxHeight === 'none') \n",
       "    this.style.maxHeight = '100px';\n",
       "else\n",
       "    this.style.maxHeight = 'none'; \n",
       "\">val ylabel : string -&gt; P.plot_t = &lt;fun&gt;\n",
       "</pre>"
      ]
     },
     "execution_count": 1,
     "metadata": {},
     "output_type": "execute_result"
    },
    {
     "data": {
      "text/html": [
       "<pre style=\"color:slategray;max-height:100px;overflow:hidden\" \n",
       "onclick=\"\n",
       "if (this.style.maxHeight === 'none') \n",
       "    this.style.maxHeight = '100px';\n",
       "else\n",
       "    this.style.maxHeight = 'none'; \n",
       "\">val label : string -&gt; string -&gt; string -&gt; P.plot_t = &lt;fun&gt;\n",
       "</pre>"
      ]
     },
     "execution_count": 1,
     "metadata": {},
     "output_type": "execute_result"
    }
   ],
   "source": [
    "open Random;;\n",
    "Random.self_init;;\n",
    "#use \"topfind\";;\n",
    "#require \"plplot\";;\n",
    "open Plplot;;\n",
    "module P = Plot;;\n",
    "let couleurs_list = [[ 0;255;255;255]; (*`white*)\n",
    "                     [ 1;  0;  0;  0]; (*`black*)\n",
    "                     [ 2;  0;  0;255]; (*`blue*)\n",
    "                     [ 3;255;  0;  0]; (*`red*)\n",
    "                     [ 4;165; 42; 42]; (*`brown*)\n",
    "                     [ 5;  0;  0;  0]; [ 6;  0;  0;  0]; [ 7;  0;  0;  0]; [ 8;  0;  0;  0]; [ 9;  0;  0;  0]; \n",
    "                     [10;200;200;200]; (*`gray*)\n",
    "                     [11;  0;255;255]; (*`light_blue*)\n",
    "                     [12;  0;255;  0]; (*`green*)\n",
    "                     [13;255;255;  0]; (*`yellow*)\n",
    "                     [14;255;  0;255]; (*`pink*)\n",
    "                     [15;160;  0;213]; (*`purple*) ]\n",
    "let rec loop couleurs_list = match couleurs_list with\n",
    "    | [n;r;g;b]::tl -> plscol0 n r g b; loop tl\n",
    "    | _ -> ();;\n",
    "let couleurs = (fun () -> plscolbg 255 255 255; loop couleurs_list)\n",
    "let initialisation filename xmin xmax ymin ymax = \n",
    "        P.init (xmin, ymin) (xmax, ymax) `greedy (`svg `core) ~filename:(filename^\".svg\") ~pre:couleurs\n",
    "let xlabel texte = P.text_outside `black (`bottom 0.5) 3. texte\n",
    "let ylabel texte = P.text_outside `black (`left 0.5) 5. texte \n",
    "let label texte_x texte_y titre = P.label texte_x texte_y titre"
   ]
  },
  {
   "cell_type": "code",
   "execution_count": 2,
   "metadata": {
    "collapsed": false,
    "deletable": true,
    "editable": true
   },
   "outputs": [
    {
     "data": {
      "text/html": [
       "<pre style=\"color:slategray;max-height:100px;overflow:hidden\" \n",
       "onclick=\"\n",
       "if (this.style.maxHeight === 'none') \n",
       "    this.style.maxHeight = '100px';\n",
       "else\n",
       "    this.style.maxHeight = 'none'; \n",
       "\">val linspace : float -&gt; float -&gt; int -&gt; float list = &lt;fun&gt;\n",
       "</pre>"
      ]
     },
     "execution_count": 2,
     "metadata": {},
     "output_type": "execute_result"
    }
   ],
   "source": [
    "let linspace start stop nbre =\n",
    "    let step = (stop-.start)/.(float_of_int (nbre-1)) in\n",
    "    let rec linspace num acc =\n",
    "        if num=nbre then List.rev acc else\n",
    "        linspace (num+1) ((start+.(float_of_int num)*.step)::acc) in\n",
    "    linspace 0 [];;"
   ]
  },
  {
   "cell_type": "code",
   "execution_count": 3,
   "metadata": {
    "collapsed": false,
    "deletable": true,
    "editable": true
   },
   "outputs": [
    {
     "data": {
      "text/html": [
       "<pre style=\"color:slategray;max-height:100px;overflow:hidden\" \n",
       "onclick=\"\n",
       "if (this.style.maxHeight === 'none') \n",
       "    this.style.maxHeight = '100px';\n",
       "else\n",
       "    this.style.maxHeight = 'none'; \n",
       "\">val count_recu : float -&gt; int = &lt;fun&gt;\n",
       "</pre>"
      ]
     },
     "execution_count": 3,
     "metadata": {},
     "output_type": "execute_result"
    },
    {
     "data": {
      "text/html": [
       "<pre style=\"color:slategray;max-height:100px;overflow:hidden\" \n",
       "onclick=\"\n",
       "if (this.style.maxHeight === 'none') \n",
       "    this.style.maxHeight = '100px';\n",
       "else\n",
       "    this.style.maxHeight = 'none'; \n",
       "\">val simulation : float -&gt; int -&gt; float = &lt;fun&gt;\n",
       "</pre>"
      ]
     },
     "execution_count": 3,
     "metadata": {},
     "output_type": "execute_result"
    }
   ],
   "source": [
    "let count_recu p = \n",
    "    \"à compléter\"\n",
    "let simulation p nbre_simul =\n",
    "    \"à compléter\"\n"
   ]
  },
  {
   "cell_type": "code",
   "execution_count": 4,
   "metadata": {
    "collapsed": false,
    "deletable": true,
    "editable": true
   },
   "outputs": [
    {
     "data": {
      "text/html": [
       "<pre style=\"color:slategray;max-height:100px;overflow:hidden\" \n",
       "onclick=\"\n",
       "if (this.style.maxHeight === 'none') \n",
       "    this.style.maxHeight = '100px';\n",
       "else\n",
       "    this.style.maxHeight = 'none'; \n",
       "\">- : unit = ()\n",
       "</pre>"
      ]
     },
     "execution_count": 4,
     "metadata": {},
     "output_type": "execute_result"
    }
   ],
   "source": [
    "let liste_p = linspace 0. 1. 100 in\n",
    "let liste_proba = List.map (fun p-> simulation p 10000) liste_p in\n",
    "let liste_proba_th = List.map (fun p-> p**3.+.3.*.p**2.*.(1.-.p)) liste_p in\n",
    "\n",
    "let xs = Array.of_list liste_p in\n",
    "let ys = Array.of_list liste_proba in\n",
    "let ys' = Array.of_list liste_proba_th in\n",
    "\n",
    "let p = initialisation \"image\" 0. 1. 0. 1. in\n",
    "P.plot ~stream:p [P.points ~symbol:\"+\" `black xs ys; \n",
    "                  P.lines `red xs ys';\n",
    "                  xlabel \"p\";\n",
    "                  ylabel \"probabilité reconstituer message original\";\n",
    "                  P.legend ~pos:(P.viewport_pos 0.5 0.) \n",
    "                          [[P.symbol_legend \"simulation\" `black \"+\"];\n",
    "                           [P.line_legend \"théorie\" `red]]];\n",
    "P.finish ~stream:p ();;"
   ]
  },
  {
   "cell_type": "markdown",
   "metadata": {
    "deletable": true,
    "editable": true
   },
   "source": [
    "<img src=\"./image.svg\" />"
   ]
  },
  {
   "cell_type": "code",
   "execution_count": null,
   "metadata": {
    "collapsed": true,
    "deletable": true,
    "editable": true
   },
   "outputs": [],
   "source": []
  }
 ],
 "metadata": {
  "kernelspec": {
   "display_name": "OCaml",
   "language": "ocaml",
   "name": "iocaml"
  },
  "language_info": {
   "name": "ocaml",
   "version": "4.1.0"
  }
 },
 "nbformat": 4,
 "nbformat_minor": 2
}
