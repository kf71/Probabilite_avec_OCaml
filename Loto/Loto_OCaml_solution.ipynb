{
 "cells": [
  {
   "cell_type": "markdown",
   "metadata": {},
   "source": [
    "<h1>Loto</h1>\n",
    "<img src=\"Loto_fig.jpg\" />"
   ]
  },
  {
   "cell_type": "markdown",
   "metadata": {},
   "source": [
    "<h2> Enoncé </h2>\n",
    "\n",
    "On tire au hasard 6 boules parmi 49 (numérotées de 1 à 49).\n",
    "\n",
    "Quelle est la probabilité d'avoir un tirage comportant au moins deux nombres consécutifs ?"
   ]
  },
  {
   "cell_type": "markdown",
   "metadata": {},
   "source": [
    "<h2> Solution </h2>\n",
    "\n",
    "<b> Résultat théorique: </b> $1-\\frac{\\begin{pmatrix}44\\\\6\\end{pmatrix}}{\\begin{pmatrix}49\\\\6\\end{pmatrix}}\\simeq 0,495$\n",
    "\n",
    "\n",
    "<b> Démonstration: </b>\n",
    "\n",
    "Tout tirage <b> sans </b> numéros consécutifs sera composé de numéros $a_1$,$a_2$,…,$a_6$ vérifiant\n",
    "$1\\leq a_1<a_1+1<a_2<a_2+1<a_3<\\dots<a_5+1<a_6\\leq 49$\n",
    "\n",
    "\n",
    "On lui associe alors la nouvelle suite de numéros $b_1=a_1$, $b_2=a_2-1$, $b_3=a_3-2$,...,$b_6=a_6-5$ qui vérifie\n",
    "$1\\leq b_1<b_2<b_3<\\dots<b_6\\leq 44$.\n",
    "\n",
    "\n",
    "La suite des $b$ correspond donc un tirage sans remise de 6 numéros parmi 44, et en procédant ainsi on les obtient tous de façon unique. On en déduit qu'il y a autant de tirages $a$ que de tirages $b$, ce qui donne: $\\begin{pmatrix}44\\\\6\\end{pmatrix}$.\n",
    "\n",
    "\n",
    "Le nombre total de tirages étant: $\\begin{pmatrix}49\\\\6\\end{pmatrix}$, le nombre de tirages {\\tt avec} numéros consécutifs est: $\\begin{pmatrix}49\\\\6\\end{pmatrix}-\\begin{pmatrix}44\\\\6\\end{pmatrix}$. La probabilité est donc:\n",
    "$$\\frac{\\begin{pmatrix}49\\\\6\\end{pmatrix}-\\begin{pmatrix}44\\\\6\\end{pmatrix}}{\\begin{pmatrix}44\\\\6\\end{pmatrix}}$$"
   ]
  },
  {
   "cell_type": "markdown",
   "metadata": {},
   "source": [
    "<h2>Solution en OCaml</h2>"
   ]
  },
  {
   "cell_type": "code",
   "execution_count": 1,
   "metadata": {
    "collapsed": false
   },
   "outputs": [
    {
     "data": {
      "text/html": [
       "<pre style=\"color:slategray;max-height:100px;overflow:hidden\" \n",
       "onclick=\"\n",
       "if (this.style.maxHeight === 'none') \n",
       "    this.style.maxHeight = '100px';\n",
       "else\n",
       "    this.style.maxHeight = 'none'; \n",
       "\">- : unit -&gt; unit = &lt;fun&gt;\n",
       "</pre>"
      ]
     },
     "execution_count": 1,
     "metadata": {},
     "output_type": "execute_result"
    }
   ],
   "source": [
    "open Random;;\n",
    "Random.self_init;;"
   ]
  },
  {
   "cell_type": "code",
   "execution_count": 7,
   "metadata": {
    "collapsed": false
   },
   "outputs": [
    {
     "data": {
      "text/html": [
       "<pre style=\"color:slategray;max-height:100px;overflow:hidden\" \n",
       "onclick=\"\n",
       "if (this.style.maxHeight === 'none') \n",
       "    this.style.maxHeight = '100px';\n",
       "else\n",
       "    this.style.maxHeight = 'none'; \n",
       "\">val range : int -&gt; int -&gt; int list = &lt;fun&gt;\n",
       "</pre>"
      ]
     },
     "execution_count": 7,
     "metadata": {},
     "output_type": "execute_result"
    },
    {
     "data": {
      "text/html": [
       "<pre style=\"color:slategray;max-height:100px;overflow:hidden\" \n",
       "onclick=\"\n",
       "if (this.style.maxHeight === 'none') \n",
       "    this.style.maxHeight = '100px';\n",
       "else\n",
       "    this.style.maxHeight = 'none'; \n",
       "\">val boules : int list =\n",
       "  [1; 2; 3; 4; 5; 6; 7; 8; 9; 10; 11; 12; 13; 14; 15; 16; 17; 18; 19; 20; 21;\n",
       "   22; 23; 24; 25; 26; 27; 28; 29; 30; 31; 32; 33; 34; 35; 36; 37; 38; 39;\n",
       "   40; 41; 42; 43; 44; 45; 46; 47; 48; 49]\n",
       "</pre>"
      ]
     },
     "execution_count": 7,
     "metadata": {},
     "output_type": "execute_result"
    }
   ],
   "source": [
    "let range debut fin =\n",
    "   let rec range i acc =\n",
    "     if i=fin then List.rev acc\n",
    "     else range (i+1) (i::acc) in\n",
    "   range debut [];; \n",
    "   \n",
    "let boules = range 1 50;;"
   ]
  },
  {
   "cell_type": "code",
   "execution_count": 8,
   "metadata": {
    "collapsed": false
   },
   "outputs": [
    {
     "data": {
      "text/html": [
       "<pre style=\"color:slategray;max-height:100px;overflow:hidden\" \n",
       "onclick=\"\n",
       "if (this.style.maxHeight === 'none') \n",
       "    this.style.maxHeight = '100px';\n",
       "else\n",
       "    this.style.maxHeight = 'none'; \n",
       "\">val shuffle : 'a list -&gt; 'a list = &lt;fun&gt;\n",
       "</pre>"
      ]
     },
     "execution_count": 8,
     "metadata": {},
     "output_type": "execute_result"
    },
    {
     "data": {
      "text/html": [
       "<pre style=\"color:slategray;max-height:100px;overflow:hidden\" \n",
       "onclick=\"\n",
       "if (this.style.maxHeight === 'none') \n",
       "    this.style.maxHeight = '100px';\n",
       "else\n",
       "    this.style.maxHeight = 'none'; \n",
       "\">val find_consecutif : int list -&gt; int = &lt;fun&gt;\n",
       "</pre>"
      ]
     },
     "execution_count": 8,
     "metadata": {},
     "output_type": "execute_result"
    },
    {
     "data": {
      "text/html": [
       "<pre style=\"color:slategray;max-height:100px;overflow:hidden\" \n",
       "onclick=\"\n",
       "if (this.style.maxHeight === 'none') \n",
       "    this.style.maxHeight = '100px';\n",
       "else\n",
       "    this.style.maxHeight = 'none'; \n",
       "\">val tirer : 'a list -&gt; 'a list = &lt;fun&gt;\n",
       "</pre>"
      ]
     },
     "execution_count": 8,
     "metadata": {},
     "output_type": "execute_result"
    }
   ],
   "source": [
    "let shuffle d =\n",
    "    let nd = List.map (fun c -> (Random.bits (), c)) d in\n",
    "    let sond = List.sort compare nd in\n",
    "    List.map snd sond;;\n",
    "\n",
    "let find_consecutif tirage =\n",
    "    let rec find liste =\n",
    "       match liste with\n",
    "       | [] -> 0\n",
    "       | hd::tl -> if List.mem (hd+1) tirage then 1\n",
    "                    else find tl in\n",
    "     find tirage;;\n",
    "\n",
    "let tirer melange =\n",
    "   let rec tirer melange nbre acc =\n",
    "   if nbre = 6 then acc else\n",
    "   begin\n",
    "   let hd = List.hd melange in\n",
    "   let tl = List.tl melange in \n",
    "   tirer tl (nbre+1) (hd::acc) end in\n",
    "   tirer melange 0 [];;"
   ]
  },
  {
   "cell_type": "code",
   "execution_count": 9,
   "metadata": {
    "collapsed": false
   },
   "outputs": [
    {
     "name": "stdout",
     "output_type": "stream",
     "text": [
      "0.4935"
     ]
    },
    {
     "data": {
      "text/html": [
       "<pre style=\"color:slategray;max-height:100px;overflow:hidden\" \n",
       "onclick=\"\n",
       "if (this.style.maxHeight === 'none') \n",
       "    this.style.maxHeight = '100px';\n",
       "else\n",
       "    this.style.maxHeight = 'none'; \n",
       "\">val loop : int -&gt; float = &lt;fun&gt;\n",
       "</pre>"
      ]
     },
     "execution_count": 9,
     "metadata": {},
     "output_type": "execute_result"
    },
    {
     "data": {
      "text/html": [
       "<pre style=\"color:slategray;max-height:100px;overflow:hidden\" \n",
       "onclick=\"\n",
       "if (this.style.maxHeight === 'none') \n",
       "    this.style.maxHeight = '100px';\n",
       "else\n",
       "    this.style.maxHeight = 'none'; \n",
       "\">- : unit = ()\n",
       "</pre>"
      ]
     },
     "execution_count": 9,
     "metadata": {},
     "output_type": "execute_result"
    }
   ],
   "source": [
    "let loop nbre_essais =\n",
    "   let rec loop num_essai count =\n",
    "      if num_essai = nbre_essais \n",
    "         then (float_of_int count) /. (float_of_int nbre_essais)\n",
    "         else begin\n",
    "           let melange  = shuffle boules in\n",
    "           let tirage = tirer melange in\n",
    "           loop (num_essai+1) (count+find_consecutif tirage)\n",
    "           end in\n",
    "    loop 0 0;;\n",
    "\n",
    "print_float (loop 10000);;"
   ]
  },
  {
   "cell_type": "code",
   "execution_count": null,
   "metadata": {
    "collapsed": true
   },
   "outputs": [],
   "source": []
  }
 ],
 "metadata": {
  "kernelspec": {
   "display_name": "OCaml",
   "language": "ocaml",
   "name": "iocaml"
  },
  "language_info": {
   "name": "ocaml",
   "version": "4.1.0"
  }
 },
 "nbformat": 4,
 "nbformat_minor": 1
}
