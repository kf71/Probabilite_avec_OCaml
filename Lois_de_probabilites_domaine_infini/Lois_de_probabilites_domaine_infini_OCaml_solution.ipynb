{
 "cells": [
  {
   "cell_type": "markdown",
   "metadata": {},
   "source": [
    "<h1>Lois de probabilités sur un domaine infini</h1>\n",
    "\n",
    "Les lois étudiées ci-dessous ont pour support $\\mathbb{N}$."
   ]
  },
  {
   "cell_type": "markdown",
   "metadata": {},
   "source": [
    "<h2> Loi de Bernoulli </h2>\n",
    "\n",
    "La loi de Bernoulli décrit un tirage aléatoire à deux résultats possibles (succès et échec, numérotés 1 et 0), de probabilités respectives $p$ et $1-p$.\n",
    "\n",
    "$P (X=x)=\\left\\{\\begin{array}{ll}\n",
    "p&\\quad {\\mbox{si }}x=1,\\\\\n",
    "1-p&\\quad {\\mbox{si }}x=0,\\\\\n",
    "0&\\quad {\\mbox{sinon.}}\n",
    "\\end{array}\\right.$\n",
    "\n",
    "À l'aide de la fonction <b>Random.float</b>, écrire une fonction $Bernoulli(p)$ qui suit la loi indiquée."
   ]
  },
  {
   "cell_type": "code",
   "execution_count": 1,
   "metadata": {
    "collapsed": false
   },
   "outputs": [
    {
     "name": "stdout",
     "output_type": "stream",
     "text": [
      "- : unit = ()\n",
      "Findlib has been successfully loaded. Additional directives:\n",
      "  #require \"package\";;      to load a package\n",
      "  #list;;                   to list the available packages\n",
      "  #camlp4o;;                to load camlp4 (standard syntax)\n",
      "  #camlp4r;;                to load camlp4 (revised syntax)\n",
      "  #predicates \"p,q,...\";;   to set these predicates\n",
      "  Topfind.reset();;         to force that packages will be reloaded\n",
      "  #thread;;                 to enable threads\n",
      "\n",
      "- : unit = ()\n"
     ]
    },
    {
     "name": "stderr",
     "output_type": "stream",
     "text": [
      "/usr/lib/ocaml/plplot: added to search path\n",
      "/usr/lib/ocaml/plplot/plplot.cma: loaded\n"
     ]
    },
    {
     "data": {
      "text/html": [
       "<pre style=\"color:slategray;max-height:100px;overflow:hidden\" \n",
       "onclick=\"\n",
       "if (this.style.maxHeight === 'none') \n",
       "    this.style.maxHeight = '100px';\n",
       "else\n",
       "    this.style.maxHeight = 'none'; \n",
       "\">module P = Plplot.Plot\n",
       "</pre>"
      ]
     },
     "execution_count": 1,
     "metadata": {},
     "output_type": "execute_result"
    },
    {
     "data": {
      "text/html": [
       "<pre style=\"color:slategray;max-height:100px;overflow:hidden\" \n",
       "onclick=\"\n",
       "if (this.style.maxHeight === 'none') \n",
       "    this.style.maxHeight = '100px';\n",
       "else\n",
       "    this.style.maxHeight = 'none'; \n",
       "\">val couleurs_list : int list list =\n",
       "  [[0; 255; 255; 255]; [1; 0; 0; 0]; [2; 0; 0; 255]; [3; 255; 0; 0];\n",
       "   [4; 165; 42; 42]; [5; 0; 0; 0]; [6; 0; 0; 0]; [7; 0; 0; 0]; [8; 0; 0; 0];\n",
       "   [9; 0; 0; 0]; [10; 200; 200; 200]; [11; 0; 255; 255]; [12; 0; 255; 0];\n",
       "   [13; 255; 255; 0]; [14; 255; 0; 255]; [15; 160; 0; 213]]\n",
       "</pre>"
      ]
     },
     "execution_count": 1,
     "metadata": {},
     "output_type": "execute_result"
    },
    {
     "data": {
      "text/html": [
       "<pre style=\"color:slategray;max-height:100px;overflow:hidden\" \n",
       "onclick=\"\n",
       "if (this.style.maxHeight === 'none') \n",
       "    this.style.maxHeight = '100px';\n",
       "else\n",
       "    this.style.maxHeight = 'none'; \n",
       "\">val loop : int list list -&gt; unit = &lt;fun&gt;\n",
       "</pre>"
      ]
     },
     "execution_count": 1,
     "metadata": {},
     "output_type": "execute_result"
    },
    {
     "data": {
      "text/html": [
       "<pre style=\"color:slategray;max-height:100px;overflow:hidden\" \n",
       "onclick=\"\n",
       "if (this.style.maxHeight === 'none') \n",
       "    this.style.maxHeight = '100px';\n",
       "else\n",
       "    this.style.maxHeight = 'none'; \n",
       "\">val couleurs : unit -&gt; unit = &lt;fun&gt;\n",
       "</pre>"
      ]
     },
     "execution_count": 1,
     "metadata": {},
     "output_type": "execute_result"
    },
    {
     "data": {
      "text/html": [
       "<pre style=\"color:slategray;max-height:100px;overflow:hidden\" \n",
       "onclick=\"\n",
       "if (this.style.maxHeight === 'none') \n",
       "    this.style.maxHeight = '100px';\n",
       "else\n",
       "    this.style.maxHeight = 'none'; \n",
       "\">val initialisation : string -&gt; float -&gt; float -&gt; float -&gt; float -&gt; P.stream_t =\n",
       "  &lt;fun&gt;\n",
       "</pre>"
      ]
     },
     "execution_count": 1,
     "metadata": {},
     "output_type": "execute_result"
    },
    {
     "data": {
      "text/html": [
       "<pre style=\"color:slategray;max-height:100px;overflow:hidden\" \n",
       "onclick=\"\n",
       "if (this.style.maxHeight === 'none') \n",
       "    this.style.maxHeight = '100px';\n",
       "else\n",
       "    this.style.maxHeight = 'none'; \n",
       "\">val xlabel : string -&gt; P.plot_t = &lt;fun&gt;\n",
       "</pre>"
      ]
     },
     "execution_count": 1,
     "metadata": {},
     "output_type": "execute_result"
    },
    {
     "data": {
      "text/html": [
       "<pre style=\"color:slategray;max-height:100px;overflow:hidden\" \n",
       "onclick=\"\n",
       "if (this.style.maxHeight === 'none') \n",
       "    this.style.maxHeight = '100px';\n",
       "else\n",
       "    this.style.maxHeight = 'none'; \n",
       "\">val ylabel : string -&gt; P.plot_t = &lt;fun&gt;\n",
       "</pre>"
      ]
     },
     "execution_count": 1,
     "metadata": {},
     "output_type": "execute_result"
    }
   ],
   "source": [
    "#use \"topfind\";;\n",
    "#require \"plplot\";;\n",
    "open Plplot;;\n",
    "module P = Plot;;\n",
    "let couleurs_list = [[ 0;255;255;255]; (*`white*)\n",
    "                     [ 1;  0;  0;  0]; (*`black*)\n",
    "                     [ 2;  0;  0;255]; (*`blue*)\n",
    "                     [ 3;255;  0;  0]; (*`red*)\n",
    "                     [ 4;165; 42; 42]; (*`brown*)\n",
    "                     [ 5;  0;  0;  0]; [ 6;  0;  0;  0]; [ 7;  0;  0;  0]; [ 8;  0;  0;  0]; [ 9;  0;  0;  0]; \n",
    "                     [10;200;200;200]; (*`gray*)\n",
    "                     [11;  0;255;255]; (*`light_blue*)\n",
    "                     [12;  0;255;  0]; (*`green*)\n",
    "                     [13;255;255;  0]; (*`yellow*)\n",
    "                     [14;255;  0;255]; (*`pink*)\n",
    "                     [15;160;  0;213]; (*`purple*) ]\n",
    "let rec loop couleurs_list = match couleurs_list with\n",
    "    | [n;r;g;b]::tl -> plscol0 n r g b; loop tl\n",
    "    | _ -> ();;\n",
    "let couleurs = (fun () -> plscolbg 255 255 255; loop couleurs_list)\n",
    "let initialisation filename xmin xmax ymin ymax = \n",
    "        P.init (xmin, ymin) (xmax, ymax) `greedy (`svg `core) ~filename:(filename^\".svg\") ~pre:couleurs\n",
    "let xlabel texte = P.text_outside `black (`bottom 0.5) 3. texte\n",
    "let ylabel texte = P.text_outside `black (`left 0.5) 5. texte "
   ]
  },
  {
   "cell_type": "code",
   "execution_count": 2,
   "metadata": {
    "collapsed": false
   },
   "outputs": [
    {
     "data": {
      "text/html": [
       "<pre style=\"color:slategray;max-height:100px;overflow:hidden\" \n",
       "onclick=\"\n",
       "if (this.style.maxHeight === 'none') \n",
       "    this.style.maxHeight = '100px';\n",
       "else\n",
       "    this.style.maxHeight = 'none'; \n",
       "\">val bar :\n",
       "  ?x_width:float -&gt;\n",
       "  ?x_offset:float -&gt; P.color_t -&gt; float array -&gt; float array -&gt; P.plot_t =\n",
       "  &lt;fun&gt;\n",
       "</pre>"
      ]
     },
     "execution_count": 2,
     "metadata": {},
     "output_type": "execute_result"
    }
   ],
   "source": [
    "let bar ?x_width ?x_offset color xs ys = \n",
    "    let x_width_ = match x_width with\n",
    "        |None -> 0.4\n",
    "        |Some x -> x in\n",
    "    let x_offset_ = match x_offset with\n",
    "        |None -> 0.\n",
    "        |Some x -> x in\n",
    "    \n",
    "    let x = Array.make (4*(Array.length xs)) 0. in\n",
    "    let y = Array.make (4*(Array.length xs)) 0. in\n",
    "    for i = 0 to Array.length xs - 1 do\n",
    "        x.(4*i)   <- x_offset_ +. xs.(i) -. x_width_;\n",
    "        x.(4*i+1) <- x_offset_ +. xs.(i) -. x_width_;\n",
    "        x.(4*i+2) <- x_offset_ +. xs.(i) +. x_width_;\n",
    "        x.(4*i+3) <- x_offset_ +. xs.(i) +. x_width_;\n",
    "        y.(4*i)   <- 0.;\n",
    "        y.(4*i+1) <- ys.(i);\n",
    "        y.(4*i+2) <- ys.(i);\n",
    "        y.(4*i+3) <- 0.;\n",
    "    done; P.polygon ~fill:true color x y;;"
   ]
  },
  {
   "cell_type": "code",
   "execution_count": 3,
   "metadata": {
    "collapsed": false
   },
   "outputs": [
    {
     "data": {
      "text/html": [
       "<pre style=\"color:slategray;max-height:100px;overflow:hidden\" \n",
       "onclick=\"\n",
       "if (this.style.maxHeight === 'none') \n",
       "    this.style.maxHeight = '100px';\n",
       "else\n",
       "    this.style.maxHeight = 'none'; \n",
       "\">val range : int -&gt; int -&gt; int -&gt; int list = &lt;fun&gt;\n",
       "</pre>"
      ]
     },
     "execution_count": 3,
     "metadata": {},
     "output_type": "execute_result"
    }
   ],
   "source": [
    "let range start stop step =\n",
    "   let rec range i acc =\n",
    "      if step>0 && i>=stop then List.rev acc else\n",
    "      if step<0 && i<=stop then List.rev acc else\n",
    "      range (i+step) (i::acc) in\n",
    "   range start [];;"
   ]
  },
  {
   "cell_type": "code",
   "execution_count": 4,
   "metadata": {
    "collapsed": false
   },
   "outputs": [
    {
     "data": {
      "text/html": [
       "<pre style=\"color:slategray;max-height:100px;overflow:hidden\" \n",
       "onclick=\"\n",
       "if (this.style.maxHeight === 'none') \n",
       "    this.style.maxHeight = '100px';\n",
       "else\n",
       "    this.style.maxHeight = 'none'; \n",
       "\">- : unit -&gt; unit = &lt;fun&gt;\n",
       "</pre>"
      ]
     },
     "execution_count": 4,
     "metadata": {},
     "output_type": "execute_result"
    },
    {
     "data": {
      "text/html": [
       "<pre style=\"color:slategray;max-height:100px;overflow:hidden\" \n",
       "onclick=\"\n",
       "if (this.style.maxHeight === 'none') \n",
       "    this.style.maxHeight = '100px';\n",
       "else\n",
       "    this.style.maxHeight = 'none'; \n",
       "\">val bernoulli : float -&gt; int = &lt;fun&gt;\n",
       "</pre>"
      ]
     },
     "execution_count": 4,
     "metadata": {},
     "output_type": "execute_result"
    }
   ],
   "source": [
    "open Random;;\n",
    "Random.self_init;;\n",
    "let bernoulli p = if  Random.float 1. <= p then 1 else 0;;"
   ]
  },
  {
   "cell_type": "markdown",
   "metadata": {},
   "source": [
    "<h2> Loi géométrique </h2>\n",
    "\n",
    "La loi géométrique décrit le nombre d'essais nécessaires, dans une suite de tirages Bernoulli, avant d'obtenir un succès.\n",
    "\n",
    "<h3> Définition 1</h3>\n",
    "\n",
    "La probabilité $P(X=k)$ correspond à la probabilité d'obtenir dans une succession de $k$ épreuves de Bernoulli, $k-1$ échecs suivis d'un succès.\n",
    "\n",
    "Ecrire une fonction $f\\_{geometrique}(x,p)$ en simulant des tirages aléatoires.\n",
    "\n",
    "On fera des moyennes sur 10 000 essais."
   ]
  },
  {
   "cell_type": "code",
   "execution_count": 5,
   "metadata": {
    "collapsed": false
   },
   "outputs": [
    {
     "data": {
      "text/html": [
       "<pre style=\"color:slategray;max-height:100px;overflow:hidden\" \n",
       "onclick=\"\n",
       "if (this.style.maxHeight === 'none') \n",
       "    this.style.maxHeight = '100px';\n",
       "else\n",
       "    this.style.maxHeight = 'none'; \n",
       "\">val f_geometrique : int -&gt; float -&gt; float = &lt;fun&gt;\n",
       "</pre>"
      ]
     },
     "execution_count": 5,
     "metadata": {},
     "output_type": "execute_result"
    }
   ],
   "source": [
    "let f_geometrique x p =\n",
    "    let nbre_essais = 100000 in\n",
    "    let rec loop1 num_essai res =\n",
    "        if num_essai < nbre_essais then\n",
    "        begin\n",
    "        let rec loop2 valeur =\n",
    "            if bernoulli p == 1 && valeur <= x \n",
    "            then loop2 (valeur+1)\n",
    "            else valeur-1 (*x-1 echecs + 1 succes *) in\n",
    "        if loop2 0 = x \n",
    "        then loop1 (num_essai+1) (res+1)\n",
    "        else loop1 (num_essai+1) res;\n",
    "        end\n",
    "        else\n",
    "        float_of_int res /. (float_of_int nbre_essais) in\n",
    "        \n",
    "    loop1 0 0;;"
   ]
  },
  {
   "cell_type": "markdown",
   "metadata": {},
   "source": [
    "Tracer la loi géométrique $f\\_{geometrique}(x,0.5)$ sur l'intervalle $[[0,10]]$ "
   ]
  },
  {
   "cell_type": "code",
   "execution_count": 6,
   "metadata": {
    "collapsed": false
   },
   "outputs": [
    {
     "data": {
      "text/html": [
       "<pre style=\"color:slategray;max-height:100px;overflow:hidden\" \n",
       "onclick=\"\n",
       "if (this.style.maxHeight === 'none') \n",
       "    this.style.maxHeight = '100px';\n",
       "else\n",
       "    this.style.maxHeight = 'none'; \n",
       "\">- : unit = ()\n",
       "</pre>"
      ]
     },
     "execution_count": 6,
     "metadata": {},
     "output_type": "execute_result"
    }
   ],
   "source": [
    "let liste_x = range 0 11 1 in\n",
    "let xs = Array.of_list (List.map float_of_int liste_x) in\n",
    "let ys = Array.of_list (List.map (fun x -> f_geometrique x 0.5) liste_x) in\n",
    "let p = initialisation \"graph1\" (-.2.) 12. 0. 0.5 in\n",
    "P.plot ~stream:p [bar `blue xs ys];\n",
    "P.finish ~stream:p ();;"
   ]
  },
  {
   "cell_type": "markdown",
   "metadata": {},
   "source": [
    "<img src=\"graph1.svg\" width=500/>"
   ]
  },
  {
   "cell_type": "markdown",
   "metadata": {},
   "source": [
    "<h3> Définition 2</h3>\n",
    "\n",
    "La probabilité $P(X=k)$ correspond à $P(X=k)=(1-p)^{k-1}p$.\n",
    "\n",
    "Redéfinir la fonction $f\\_{geometrique}(x,p)$"
   ]
  },
  {
   "cell_type": "code",
   "execution_count": 7,
   "metadata": {
    "collapsed": false
   },
   "outputs": [
    {
     "data": {
      "text/html": [
       "<pre style=\"color:slategray;max-height:100px;overflow:hidden\" \n",
       "onclick=\"\n",
       "if (this.style.maxHeight === 'none') \n",
       "    this.style.maxHeight = '100px';\n",
       "else\n",
       "    this.style.maxHeight = 'none'; \n",
       "\">val f_geometrique : int -&gt; float -&gt; float = &lt;fun&gt;\n",
       "</pre>"
      ]
     },
     "execution_count": 7,
     "metadata": {},
     "output_type": "execute_result"
    }
   ],
   "source": [
    "let f_geometrique x p =\n",
    "    if x>0 then (1.-.p)**(float_of_int x-.1.)*.p else 0."
   ]
  },
  {
   "cell_type": "markdown",
   "metadata": {},
   "source": [
    "Tracer la loi géométrique $f\\_{geometrique}(x,0.5)$ sur l'intervalle $[[0,10]]$ "
   ]
  },
  {
   "cell_type": "code",
   "execution_count": 8,
   "metadata": {
    "collapsed": false
   },
   "outputs": [
    {
     "data": {
      "text/html": [
       "<pre style=\"color:slategray;max-height:100px;overflow:hidden\" \n",
       "onclick=\"\n",
       "if (this.style.maxHeight === 'none') \n",
       "    this.style.maxHeight = '100px';\n",
       "else\n",
       "    this.style.maxHeight = 'none'; \n",
       "\">- : unit = ()\n",
       "</pre>"
      ]
     },
     "execution_count": 8,
     "metadata": {},
     "output_type": "execute_result"
    }
   ],
   "source": [
    "let liste_x = range 0 11 1 in\n",
    "let xs = Array.of_list (List.map float_of_int liste_x) in\n",
    "let ys = Array.of_list (List.map (fun x -> f_geometrique x 0.5) liste_x) in\n",
    "let p = initialisation \"graph2\" (-.2.) 12. 0. 0.5 in\n",
    "P.plot ~stream:p [bar `blue xs ys];\n",
    "P.finish ~stream:p ();;"
   ]
  },
  {
   "cell_type": "markdown",
   "metadata": {},
   "source": [
    "<img src=\"graph2.svg\" width=500/>"
   ]
  },
  {
   "cell_type": "markdown",
   "metadata": {},
   "source": [
    "Tracer la fonction de répartition de la loi géométrique $f\\_{geometrique}(x,0.5)$ sur l'intervalle $[[0,10]]$"
   ]
  },
  {
   "cell_type": "code",
   "execution_count": 9,
   "metadata": {
    "collapsed": false
   },
   "outputs": [
    {
     "data": {
      "text/html": [
       "<pre style=\"color:slategray;max-height:100px;overflow:hidden\" \n",
       "onclick=\"\n",
       "if (this.style.maxHeight === 'none') \n",
       "    this.style.maxHeight = '100px';\n",
       "else\n",
       "    this.style.maxHeight = 'none'; \n",
       "\">val repartition_geometrique : int -&gt; float -&gt; float = &lt;fun&gt;\n",
       "</pre>"
      ]
     },
     "execution_count": 9,
     "metadata": {},
     "output_type": "execute_result"
    },
    {
     "data": {
      "text/html": [
       "<pre style=\"color:slategray;max-height:100px;overflow:hidden\" \n",
       "onclick=\"\n",
       "if (this.style.maxHeight === 'none') \n",
       "    this.style.maxHeight = '100px';\n",
       "else\n",
       "    this.style.maxHeight = 'none'; \n",
       "\">- : unit = ()\n",
       "</pre>"
      ]
     },
     "execution_count": 9,
     "metadata": {},
     "output_type": "execute_result"
    }
   ],
   "source": [
    "let repartition_geometrique x p =\n",
    "    let rec loop var res =\n",
    "        if var <= x then loop (var+1) (res+.(f_geometrique var p)) else res in\n",
    "    loop 0 0.;;\n",
    "\n",
    "let liste_x = range 0 11 1 in\n",
    "let xs = Array.of_list (List.map float_of_int liste_x) in\n",
    "let ys = Array.of_list (List.map (fun x -> repartition_geometrique x 0.5) liste_x) in\n",
    "let p = initialisation \"graph3\" (-.2.) 12. 0. 1.0 in\n",
    "P.plot ~stream:p [bar `blue xs ys];\n",
    "P.finish ~stream:p ();;"
   ]
  },
  {
   "cell_type": "markdown",
   "metadata": {},
   "source": [
    "<img src=\"graph3.svg\" width=500/>"
   ]
  },
  {
   "cell_type": "markdown",
   "metadata": {},
   "source": [
    "<h2> Loi de binomiale négative </h2>\n",
    "\n",
    "<h3> Définition 1</h3>\n",
    "\n",
    "La loi <b>binomiale négative</b> est une distribution de probabilité discrète. Elle décrit la situation suivante : une expérience consiste en une série de tirages indépendants, donnant un \"succès\" avec probabilité $p$ (constante durant toute l'expérience) et un \"échec\" avec une probabilité complémentaire. Cette expérience se poursuit jusqu'à l'obtention d'un nombre donné $n$ de succès. La variable aléatoire représentant le nombre d'échecs (avant l'obtention du nombre donné $n$ de succès) suit alors une loi binomiale négative. Ses paramètres sont $n$, le nombre de succès attendus, et $p$, la probabilité d'un succès.\n",
    "\n",
    "\n",
    "Ecrire une fonction $f\\_{Pascal}(x,n,p)$ en simulant des tirages aléatoires.\n",
    "\n",
    "On fera des moyennes sur 10 000 essais."
   ]
  },
  {
   "cell_type": "code",
   "execution_count": 10,
   "metadata": {
    "collapsed": false
   },
   "outputs": [
    {
     "data": {
      "text/html": [
       "<pre style=\"color:slategray;max-height:100px;overflow:hidden\" \n",
       "onclick=\"\n",
       "if (this.style.maxHeight === 'none') \n",
       "    this.style.maxHeight = '100px';\n",
       "else\n",
       "    this.style.maxHeight = 'none'; \n",
       "\">val f_Pascal : int -&gt; int -&gt; float -&gt; float = &lt;fun&gt;\n",
       "</pre>"
      ]
     },
     "execution_count": 10,
     "metadata": {},
     "output_type": "execute_result"
    }
   ],
   "source": [
    "let f_Pascal x n p =\n",
    "    let nbre_essais = 100000 in\n",
    "    let rec loop1 num_essai res =\n",
    "        if num_essai < nbre_essais then begin\n",
    "        let rec loop2 succes echec =\n",
    "            if succes != n then \n",
    "               if bernoulli p = 0\n",
    "               then loop2 (succes+1) echec\n",
    "               else loop2 succes (echec+1)\n",
    "            else echec in\n",
    "        if loop2 0 0 = x\n",
    "        then loop1 (num_essai+1) (res+1)\n",
    "        else loop1 (num_essai+1) res\n",
    "        end else\n",
    "        float_of_int res /. (float_of_int nbre_essais) in\n",
    "    loop1 0 0;;"
   ]
  },
  {
   "cell_type": "markdown",
   "metadata": {},
   "source": [
    "Tracer la loi $f\\_{Pascal}(x,3,.5)$ sur l'intervalle $[[0,10]]$"
   ]
  },
  {
   "cell_type": "code",
   "execution_count": 11,
   "metadata": {
    "collapsed": false
   },
   "outputs": [
    {
     "data": {
      "text/html": [
       "<pre style=\"color:slategray;max-height:100px;overflow:hidden\" \n",
       "onclick=\"\n",
       "if (this.style.maxHeight === 'none') \n",
       "    this.style.maxHeight = '100px';\n",
       "else\n",
       "    this.style.maxHeight = 'none'; \n",
       "\">- : unit = ()\n",
       "</pre>"
      ]
     },
     "execution_count": 11,
     "metadata": {},
     "output_type": "execute_result"
    }
   ],
   "source": [
    "let liste_x = range 0 11 1 in\n",
    "let xs = Array.of_list (List.map float_of_int liste_x) in\n",
    "let ys = Array.of_list (List.map (fun x -> f_Pascal x 3 0.5) liste_x) in\n",
    "let p = initialisation \"graph4\" (-.2.) 12. 0. 0.2 in\n",
    "P.plot ~stream:p [bar `blue xs ys];\n",
    "P.finish ~stream:p ();;"
   ]
  },
  {
   "cell_type": "markdown",
   "metadata": {},
   "source": [
    "<img src=\"graph4.svg\" width=500/>"
   ]
  },
  {
   "cell_type": "markdown",
   "metadata": {},
   "source": [
    "<h3> Définition 2</h3>\n",
    "\n",
    "La loi binomiale négative, de paramètres $n$ et $p$, est la loi de probabilité discrète d'une variable aléatoire X dont la fonction de masse est donnée par :\n",
    "\n",
    "$P(X=k;n,p)={k+n-1 \\choose k}\\cdot p^{n}\\cdot q^{k}$  pour k = 0, 1, 2,$\\dots$\n",
    "\n",
    "À l'aide d'une fonction <b>factorial</b>, écrire une fonction $f\\_{Pascal}(x,p,n)$ qui suit la loi indiquée."
   ]
  },
  {
   "cell_type": "code",
   "execution_count": 12,
   "metadata": {
    "collapsed": false
   },
   "outputs": [
    {
     "name": "stderr",
     "output_type": "stream",
     "text": [
      "/usr/lib/ocaml/nums.cma: loaded\n",
      "/usr/lib/ocaml/num-top: added to search path\n",
      "/usr/lib/ocaml/num-top/num_top.cma: loaded\n"
     ]
    },
    {
     "data": {
      "text/html": [
       "<pre style=\"color:slategray;max-height:100px;overflow:hidden\" \n",
       "onclick=\"\n",
       "if (this.style.maxHeight === 'none') \n",
       "    this.style.maxHeight = '100px';\n",
       "else\n",
       "    this.style.maxHeight = 'none'; \n",
       "\">val factorial : int -&gt; Num.num = &lt;fun&gt;\n",
       "</pre>"
      ]
     },
     "execution_count": 12,
     "metadata": {},
     "output_type": "execute_result"
    },
    {
     "data": {
      "text/html": [
       "<pre style=\"color:slategray;max-height:100px;overflow:hidden\" \n",
       "onclick=\"\n",
       "if (this.style.maxHeight === 'none') \n",
       "    this.style.maxHeight = '100px';\n",
       "else\n",
       "    this.style.maxHeight = 'none'; \n",
       "\">val choose : int -&gt; int -&gt; Num.num = &lt;fun&gt;\n",
       "</pre>"
      ]
     },
     "execution_count": 12,
     "metadata": {},
     "output_type": "execute_result"
    },
    {
     "data": {
      "text/html": [
       "<pre style=\"color:slategray;max-height:100px;overflow:hidden\" \n",
       "onclick=\"\n",
       "if (this.style.maxHeight === 'none') \n",
       "    this.style.maxHeight = '100px';\n",
       "else\n",
       "    this.style.maxHeight = 'none'; \n",
       "\">val f_Pascal : int -&gt; int -&gt; float -&gt; float = &lt;fun&gt;\n",
       "</pre>"
      ]
     },
     "execution_count": 12,
     "metadata": {},
     "output_type": "execute_result"
    }
   ],
   "source": [
    "#require \"num\";;\n",
    "open Num;;\n",
    "let rec factorial n = \n",
    "    if n=0 then Int 1 else Int n */ (factorial (n-1));;\n",
    "    \n",
    "let choose k n =\n",
    "    (* on évite de calculer N! qui peut être très grand\n",
    "       alors qu'on a simplement besoin de N!/(N-k)! *)\n",
    "    let rec loop valeur res =\n",
    "        if valeur<n+1 then loop (valeur+1) (res*/ (Int valeur))\n",
    "        else res // (factorial k) in\n",
    "    loop (n-k+1) (Int 1);;\n",
    "\n",
    "let f_Pascal x n p =\n",
    "    if x>=0 && n>0\n",
    "    then float_of_num (choose x (x+n-1)) *. p**(float_of_int n) *. (1.-.p)**(float_of_int x)\n",
    "    else 0.;;"
   ]
  },
  {
   "cell_type": "markdown",
   "metadata": {},
   "source": [
    "Tracer la loi $f\\_{Pascal}(x,3,.5)$ sur l'intervalle $[[0,10]]$"
   ]
  },
  {
   "cell_type": "code",
   "execution_count": 13,
   "metadata": {
    "collapsed": false
   },
   "outputs": [
    {
     "data": {
      "text/html": [
       "<pre style=\"color:slategray;max-height:100px;overflow:hidden\" \n",
       "onclick=\"\n",
       "if (this.style.maxHeight === 'none') \n",
       "    this.style.maxHeight = '100px';\n",
       "else\n",
       "    this.style.maxHeight = 'none'; \n",
       "\">- : unit = ()\n",
       "</pre>"
      ]
     },
     "execution_count": 13,
     "metadata": {},
     "output_type": "execute_result"
    }
   ],
   "source": [
    "let liste_x = range 0 11 1 in\n",
    "let xs = Array.of_list (List.map float_of_int liste_x) in\n",
    "let ys = Array.of_list (List.map (fun x -> f_Pascal x 3 0.5) liste_x) in\n",
    "let p = initialisation \"graph5\" (-.2.) 12. 0. 0.2 in\n",
    "P.plot ~stream:p [bar `blue xs ys];\n",
    "P.finish ~stream:p ();;"
   ]
  },
  {
   "cell_type": "markdown",
   "metadata": {},
   "source": [
    "<img src=\"graph5.svg\" width=500/>"
   ]
  },
  {
   "cell_type": "markdown",
   "metadata": {},
   "source": [
    "<h2> Loi de Poisson </h2>\n",
    "\n",
    "La loi de Poisson décrit la probabilité d'observer un certain nombre d'événements aléatoires dans un intervalle continu (durée, longueur).\n",
    "\n",
    "Il faut que ces évènements se produisent avec une fréquence moyenne connue et indépendamment du temps écoulé depuis l'évènement précédent.\n",
    "\n",
    "\n",
    "<h3> Définition 1</h3>\n",
    "\n",
    "On rappelle que la loi binomiale, de paramètres $n$ et $p$, est la loi de probabilité d'une variable aléatoire $X$ égale au nombre de succès rencontrés au cours d'une répétition de $n$ épreuves de Bernoulli, $p$ étant la probabilité de succès dans chacune d'entre elles.\n",
    "\n",
    "$\\newcommand{grtsim}{\\geq}$\n",
    "\n",
    "La loi de <b>Poisson</b> correspond à la loi binomiale lorsque $n\\to\\infty$ avec $n\\times p=\\lambda$. En pratique, il suffit que $n \\grtsim 100$.\n",
    "\n",
    "Ecrire une fonction $f\\_{Poisson}(x,lambda)$ en simulant des tirages aléatoires.\n",
    "\n",
    "On fera des moyennes sur 10 000 essais."
   ]
  },
  {
   "cell_type": "code",
   "execution_count": 14,
   "metadata": {
    "collapsed": false
   },
   "outputs": [
    {
     "data": {
      "text/html": [
       "<pre style=\"color:slategray;max-height:100px;overflow:hidden\" \n",
       "onclick=\"\n",
       "if (this.style.maxHeight === 'none') \n",
       "    this.style.maxHeight = '100px';\n",
       "else\n",
       "    this.style.maxHeight = 'none'; \n",
       "\">val binomiale : int -&gt; float -&gt; int -&gt; float = &lt;fun&gt;\n",
       "</pre>"
      ]
     },
     "execution_count": 14,
     "metadata": {},
     "output_type": "execute_result"
    },
    {
     "data": {
      "text/html": [
       "<pre style=\"color:slategray;max-height:100px;overflow:hidden\" \n",
       "onclick=\"\n",
       "if (this.style.maxHeight === 'none') \n",
       "    this.style.maxHeight = '100px';\n",
       "else\n",
       "    this.style.maxHeight = 'none'; \n",
       "\">val f_Poisson : int -&gt; float -&gt; float = &lt;fun&gt;\n",
       "</pre>"
      ]
     },
     "execution_count": 14,
     "metadata": {},
     "output_type": "execute_result"
    }
   ],
   "source": [
    "let binomiale x p n =\n",
    "    let nbre_essais = 10000 in\n",
    "    let rec loop1 num_essai res =\n",
    "        if num_essai < nbre_essais then begin\n",
    "        let rec loop2 num valeur =\n",
    "            if num<n \n",
    "            then loop2 (num+1) (valeur + (bernoulli p))\n",
    "            else valeur in\n",
    "        if loop2 0 0 = x\n",
    "        then loop1 (num_essai+1) (res+1)\n",
    "        else loop1 (num_essai+1) res;\n",
    "        end else\n",
    "        float_of_int res /. (float_of_int nbre_essais) in\n",
    "    loop1 0 0;;\n",
    "\n",
    "let f_Poisson x lambda =\n",
    "    binomiale x (lambda/.100.) 100;;"
   ]
  },
  {
   "cell_type": "markdown",
   "metadata": {},
   "source": [
    "Tracer, sur un même graphique, les diagrammes pour $p=0.2$, $p=0.5$ et $p=0.8$ sur l'intervalle $[[0,5]]$"
   ]
  },
  {
   "cell_type": "code",
   "execution_count": 15,
   "metadata": {
    "collapsed": false
   },
   "outputs": [
    {
     "data": {
      "text/html": [
       "<pre style=\"color:slategray;max-height:100px;overflow:hidden\" \n",
       "onclick=\"\n",
       "if (this.style.maxHeight === 'none') \n",
       "    this.style.maxHeight = '100px';\n",
       "else\n",
       "    this.style.maxHeight = 'none'; \n",
       "\">- : unit = ()\n",
       "</pre>"
      ]
     },
     "execution_count": 15,
     "metadata": {},
     "output_type": "execute_result"
    }
   ],
   "source": [
    "let liste_x = range 0 6 1 in\n",
    "let array_lambda = [|0.2; 0.5; 0.8|] in\n",
    "let legende = Array.init 3 (fun i-> \"lambda=\"^(string_of_float array_lambda.(i))) in\n",
    "                                    \n",
    "let xs = Array.of_list (List.map float_of_int liste_x) in\n",
    "let ys = Array.of_list (List.map (fun x -> f_Poisson x array_lambda.(0)) liste_x) in\n",
    "let ys' =  Array.of_list (List.map (fun x -> f_Poisson x array_lambda.(1)) liste_x) in\n",
    "let ys'' =  Array.of_list (List.map (fun x -> f_Poisson x array_lambda.(2)) liste_x) in\n",
    "\n",
    "let p = initialisation \"graph6\" (-.1.) 6. 0. 0.9 in\n",
    "P.plot ~stream:p [bar ~x_width:0.1 ~x_offset:(-.0.2) `blue xs ys;\n",
    "                  bar ~x_width:0.1 ~x_offset:0. `green xs ys';\n",
    "                  bar ~x_width:0.1 ~x_offset:0.2 `red xs ys'';\n",
    "                  P.legend [[P.line_legend legende.(0) `blue];\n",
    "                            [P.line_legend legende.(1) `green];\n",
    "                            [P.line_legend legende.(2) `red]]];\n",
    "P.finish ~stream:p ();;"
   ]
  },
  {
   "cell_type": "markdown",
   "metadata": {},
   "source": [
    "<img src=\"graph6.svg\" width=500/>"
   ]
  },
  {
   "cell_type": "markdown",
   "metadata": {},
   "source": [
    "<h3> Définition 2</h3>\n",
    "\n",
    "Si le nombre moyen d'occurrences dans cet intervalle est $\\lambda$, alors la probabilité qu'il existe exactement $k$ occurrences ($k$ étant un entier naturel, $k = 0, 1, 2,\\dots$) est\n",
    "\n",
    "$P(X = k)= \\frac{\\lambda ^k}{k!}e^{-\\lambda}$\n",
    "\n",
    "On dit alors que $X$ suit la loi de Poisson de paramètre $\\lambda$.\n",
    "\n",
    "À l'aide de fonctions <b>exp</b> et <b>factorial</b>, écrire une fonction $f\\_{Poisson}(x,lambda)$ qui suit la loi indiquée."
   ]
  },
  {
   "cell_type": "code",
   "execution_count": 16,
   "metadata": {
    "collapsed": false
   },
   "outputs": [
    {
     "data": {
      "text/html": [
       "<pre style=\"color:slategray;max-height:100px;overflow:hidden\" \n",
       "onclick=\"\n",
       "if (this.style.maxHeight === 'none') \n",
       "    this.style.maxHeight = '100px';\n",
       "else\n",
       "    this.style.maxHeight = 'none'; \n",
       "\">val f_Poisson : int -&gt; float -&gt; float = &lt;fun&gt;\n",
       "</pre>"
      ]
     },
     "execution_count": 16,
     "metadata": {},
     "output_type": "execute_result"
    }
   ],
   "source": [
    "let f_Poisson x lambda = lambda**(float_of_int x)*.exp(-.lambda)/.(float_of_num (factorial x))"
   ]
  },
  {
   "cell_type": "markdown",
   "metadata": {},
   "source": [
    "Tracer, sur un même graphique, les diagrammes pour $p=0.2$, $p=0.5$ et $p=0.8$ sur l'intervalle $[[0,5]]$"
   ]
  },
  {
   "cell_type": "code",
   "execution_count": 17,
   "metadata": {
    "collapsed": false
   },
   "outputs": [
    {
     "data": {
      "text/html": [
       "<pre style=\"color:slategray;max-height:100px;overflow:hidden\" \n",
       "onclick=\"\n",
       "if (this.style.maxHeight === 'none') \n",
       "    this.style.maxHeight = '100px';\n",
       "else\n",
       "    this.style.maxHeight = 'none'; \n",
       "\">- : unit = ()\n",
       "</pre>"
      ]
     },
     "execution_count": 17,
     "metadata": {},
     "output_type": "execute_result"
    }
   ],
   "source": [
    "let liste_x = range 0 6 1 in\n",
    "let array_lambda = [|0.2; 0.5; 0.8|] in\n",
    "let legende = Array.init 3 (fun i-> \"lambda=\"^(string_of_float array_lambda.(i))) in\n",
    "                                    \n",
    "let xs = Array.of_list (List.map float_of_int liste_x) in\n",
    "let ys = Array.of_list (List.map (fun x -> f_Poisson x array_lambda.(0)) liste_x) in\n",
    "let ys' =  Array.of_list (List.map (fun x -> f_Poisson x array_lambda.(1)) liste_x) in\n",
    "let ys'' =  Array.of_list (List.map (fun x -> f_Poisson x array_lambda.(2)) liste_x) in\n",
    "\n",
    "let p = initialisation \"graph7\" (-.1.) 6. 0. 0.9 in\n",
    "P.plot ~stream:p [bar ~x_width:0.1 ~x_offset:(-.0.2) `blue xs ys;\n",
    "                  bar ~x_width:0.1 ~x_offset:0. `green xs ys';\n",
    "                  bar ~x_width:0.1 ~x_offset:0.2 `red xs ys'';\n",
    "                  P.legend [[P.line_legend legende.(0) `blue];\n",
    "                            [P.line_legend legende.(1) `green];\n",
    "                            [P.line_legend legende.(2) `red]]];\n",
    "P.finish ~stream:p ();;"
   ]
  },
  {
   "cell_type": "markdown",
   "metadata": {},
   "source": [
    "<img src=\"graph7.svg\" width=500/>"
   ]
  },
  {
   "cell_type": "code",
   "execution_count": null,
   "metadata": {
    "collapsed": true
   },
   "outputs": [],
   "source": []
  }
 ],
 "metadata": {
  "kernelspec": {
   "display_name": "OCaml",
   "language": "ocaml",
   "name": "iocaml"
  },
  "language_info": {
   "name": "ocaml",
   "version": "4.1.0"
  }
 },
 "nbformat": 4,
 "nbformat_minor": 2
}
