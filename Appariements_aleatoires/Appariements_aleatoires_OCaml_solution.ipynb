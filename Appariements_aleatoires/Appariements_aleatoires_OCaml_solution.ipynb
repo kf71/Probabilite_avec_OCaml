{
 "cells": [
  {
   "cell_type": "markdown",
   "metadata": {},
   "source": [
    "<h1>Appariements aléatoires</h1>"
   ]
  },
  {
   "cell_type": "markdown",
   "metadata": {},
   "source": [
    "<h2>Enoncé</h2>"
   ]
  },
  {
   "cell_type": "markdown",
   "metadata": {},
   "source": [
    "Soient un ensemble de $M$ questions et un ensemble de $M$ réponses.\n",
    "Chaque question correspond à une et une seule réponse.\n",
    "Un élève répond complètement au hasard.\n",
    "En moyenne, combien de questions seront associées à la bonne réponse ?\n",
    "\n",
    "Calculer ce nombre en énumérant tous les cas possibles pour $M\\in[2,10]$.\n",
    "\n",
    "Retrouver ce nombre en effectuant des simulations au hasard.\n"
   ]
  },
  {
   "cell_type": "markdown",
   "metadata": {},
   "source": [
    "<h2>Solution</h2>"
   ]
  },
  {
   "cell_type": "markdown",
   "metadata": {},
   "source": [
    "Ce nombre vaut 1 pour tout $M>1$."
   ]
  },
  {
   "cell_type": "markdown",
   "metadata": {},
   "source": [
    "<h2>Code</h2>"
   ]
  },
  {
   "cell_type": "code",
   "execution_count": 43,
   "metadata": {
    "collapsed": false
   },
   "outputs": [
    {
     "data": {
      "text/html": [
       "<pre style=\"color:slategray;max-height:100px;overflow:hidden\" \n",
       "onclick=\"\n",
       "if (this.style.maxHeight === 'none') \n",
       "    this.style.maxHeight = '100px';\n",
       "else\n",
       "    this.style.maxHeight = 'none'; \n",
       "\">- : unit -&gt; unit = &lt;fun&gt;\n",
       "</pre>"
      ]
     },
     "execution_count": 43,
     "metadata": {},
     "output_type": "execute_result"
    },
    {
     "data": {
      "text/html": [
       "<pre style=\"color:slategray;max-height:100px;overflow:hidden\" \n",
       "onclick=\"\n",
       "if (this.style.maxHeight === 'none') \n",
       "    this.style.maxHeight = '100px';\n",
       "else\n",
       "    this.style.maxHeight = 'none'; \n",
       "\">val range : int -&gt; int -&gt; int -&gt; int list = &lt;fun&gt;\n",
       "</pre>"
      ]
     },
     "execution_count": 43,
     "metadata": {},
     "output_type": "execute_result"
    },
    {
     "data": {
      "text/html": [
       "<pre style=\"color:slategray;max-height:100px;overflow:hidden\" \n",
       "onclick=\"\n",
       "if (this.style.maxHeight === 'none') \n",
       "    this.style.maxHeight = '100px';\n",
       "else\n",
       "    this.style.maxHeight = 'none'; \n",
       "\">val linspace : float -&gt; float -&gt; int -&gt; float list = &lt;fun&gt;\n",
       "</pre>"
      ]
     },
     "execution_count": 43,
     "metadata": {},
     "output_type": "execute_result"
    },
    {
     "data": {
      "text/html": [
       "<pre style=\"color:slategray;max-height:100px;overflow:hidden\" \n",
       "onclick=\"\n",
       "if (this.style.maxHeight === 'none') \n",
       "    this.style.maxHeight = '100px';\n",
       "else\n",
       "    this.style.maxHeight = 'none'; \n",
       "\">val shuffle : 'a list -&gt; 'a list = &lt;fun&gt;\n",
       "</pre>"
      ]
     },
     "execution_count": 43,
     "metadata": {},
     "output_type": "execute_result"
    },
    {
     "data": {
      "text/html": [
       "<pre style=\"color:slategray;max-height:100px;overflow:hidden\" \n",
       "onclick=\"\n",
       "if (this.style.maxHeight === 'none') \n",
       "    this.style.maxHeight = '100px';\n",
       "else\n",
       "    this.style.maxHeight = 'none'; \n",
       "\">val sublist : 'a list -&gt; int -&gt; int -&gt; 'a list = &lt;fun&gt;\n",
       "</pre>"
      ]
     },
     "execution_count": 43,
     "metadata": {},
     "output_type": "execute_result"
    },
    {
     "data": {
      "text/html": [
       "<pre style=\"color:slategray;max-height:100px;overflow:hidden\" \n",
       "onclick=\"\n",
       "if (this.style.maxHeight === 'none') \n",
       "    this.style.maxHeight = '100px';\n",
       "else\n",
       "    this.style.maxHeight = 'none'; \n",
       "\">val print_list : ('a -&gt; 'b) -&gt; 'a list -&gt; unit = &lt;fun&gt;\n",
       "</pre>"
      ]
     },
     "execution_count": 43,
     "metadata": {},
     "output_type": "execute_result"
    },
    {
     "data": {
      "text/html": [
       "<pre style=\"color:slategray;max-height:100px;overflow:hidden\" \n",
       "onclick=\"\n",
       "if (this.style.maxHeight === 'none') \n",
       "    this.style.maxHeight = '100px';\n",
       "else\n",
       "    this.style.maxHeight = 'none'; \n",
       "\">val print_int_list : int list -&gt; unit = &lt;fun&gt;\n",
       "</pre>"
      ]
     },
     "execution_count": 43,
     "metadata": {},
     "output_type": "execute_result"
    },
    {
     "data": {
      "text/html": [
       "<pre style=\"color:slategray;max-height:100px;overflow:hidden\" \n",
       "onclick=\"\n",
       "if (this.style.maxHeight === 'none') \n",
       "    this.style.maxHeight = '100px';\n",
       "else\n",
       "    this.style.maxHeight = 'none'; \n",
       "\">val print_int_list_list : int list list -&gt; unit = &lt;fun&gt;\n",
       "</pre>"
      ]
     },
     "execution_count": 43,
     "metadata": {},
     "output_type": "execute_result"
    }
   ],
   "source": [
    "open Random;;\n",
    "Random.self_init;;\n",
    "\n",
    "let range start stop step =\n",
    "   let rec range i acc =\n",
    "      if step>0 && i>=stop then List.rev acc else\n",
    "      if step<0 && i<=stop then List.rev acc else\n",
    "      range (i+step) (i::acc) in\n",
    "   range start [];;\n",
    "\n",
    "let shuffle d =\n",
    "    let nd = List.map (fun c -> (Random.bits (), c)) d in\n",
    "    let sond = List.sort compare nd in\n",
    "    List.map snd sond;;\n",
    "\n",
    "let sublist list start stop = (* stop non inclus *)\n",
    "   let rec sublist a_traiter pos acc =\n",
    "      if pos = stop then List.rev acc else\n",
    "      begin\n",
    "      let hd = List.hd a_traiter in\n",
    "      let tl = List.tl a_traiter in\n",
    "      if pos<start then sublist tl (pos+1) acc\n",
    "      else sublist tl (pos+1) (hd::acc);\n",
    "      end in\n",
    "   sublist list 0 [];;\n",
    "   \n",
    "let rec print_list print_methode liste =\n",
    "    match liste with\n",
    "    | [] -> print_newline();\n",
    "    | hd::tl -> print_methode hd;print_string \" \";print_list print_methode tl;;\n",
    "\n",
    "let print_int_list = print_list print_int;;\n",
    "\n",
    "let print_int_list_list = print_list print_int_list;;"
   ]
  },
  {
   "cell_type": "code",
   "execution_count": 40,
   "metadata": {
    "collapsed": false
   },
   "outputs": [
    {
     "data": {
      "text/html": [
       "<pre style=\"color:slategray;max-height:100px;overflow:hidden\" \n",
       "onclick=\"\n",
       "if (this.style.maxHeight === 'none') \n",
       "    this.style.maxHeight = '100px';\n",
       "else\n",
       "    this.style.maxHeight = 'none'; \n",
       "\">val probabilite : int -&gt; float = &lt;fun&gt;\n",
       "</pre>"
      ]
     },
     "execution_count": 40,
     "metadata": {},
     "output_type": "execute_result"
    }
   ],
   "source": [
    "let probabilite n =\n",
    "    let liste_permutations=ref [] in\n",
    "\n",
    "    let rec genere ensemble acc =\n",
    "        if List.length acc = n then\n",
    "            liste_permutations:= acc::!liste_permutations\n",
    "        else\n",
    "            for pos = 0 to List.length ensemble -1 do\n",
    "                genere ((sublist ensemble 0 pos)@(sublist ensemble (pos+1) (List.length ensemble)))\n",
    "                       ((List.nth ensemble pos)::acc)\n",
    "            done;\n",
    "        in\n",
    "        \n",
    "    genere (range 0 n 1) [];\n",
    "    \n",
    "    let find_pos_eq_element liste =\n",
    "       let rec find pos liste nbre_eq =\n",
    "       match liste with\n",
    "       | [] -> nbre_eq\n",
    "       | hd:: tl -> if hd = pos then find (pos+1) tl (nbre_eq+1)\n",
    "                    else find (pos+1) tl nbre_eq in\n",
    "       find 0 liste 0 in\n",
    "       \n",
    "    let rec scan_liste_permutations liste_permutations count =\n",
    "        match liste_permutations with\n",
    "        | [] -> count\n",
    "        | hd::tl -> scan_liste_permutations tl (count+find_pos_eq_element hd) in\n",
    "    float_of_int(scan_liste_permutations !liste_permutations 0)/.(float_of_int (List.length !liste_permutations));;\n",
    "    "
   ]
  },
  {
   "cell_type": "code",
   "execution_count": 42,
   "metadata": {
    "collapsed": false
   },
   "outputs": [
    {
     "name": "stdout",
     "output_type": "stream",
     "text": [
      "2 1.\n",
      "3 1.\n",
      "4 1.\n",
      "5 1.\n",
      "6 1.\n",
      "7 1.\n",
      "8 1.\n",
      "9 1.\n",
      "10 1.\n"
     ]
    },
    {
     "data": {
      "text/html": [
       "<pre style=\"color:slategray;max-height:100px;overflow:hidden\" \n",
       "onclick=\"\n",
       "if (this.style.maxHeight === 'none') \n",
       "    this.style.maxHeight = '100px';\n",
       "else\n",
       "    this.style.maxHeight = 'none'; \n",
       "\">- : unit = ()\n",
       "</pre>"
      ]
     },
     "execution_count": 42,
     "metadata": {},
     "output_type": "execute_result"
    }
   ],
   "source": [
    "for n =2 to 10 do\n",
    "    print_int n;print_string\" \";print_float (probabilite n);print_newline()\n",
    "done;"
   ]
  },
  {
   "cell_type": "code",
   "execution_count": 44,
   "metadata": {
    "collapsed": false
   },
   "outputs": [
    {
     "data": {
      "text/html": [
       "<pre style=\"color:slategray;max-height:100px;overflow:hidden\" \n",
       "onclick=\"\n",
       "if (this.style.maxHeight === 'none') \n",
       "    this.style.maxHeight = '100px';\n",
       "else\n",
       "    this.style.maxHeight = 'none'; \n",
       "\">val test : int -&gt; int = &lt;fun&gt;\n",
       "</pre>"
      ]
     },
     "execution_count": 44,
     "metadata": {},
     "output_type": "execute_result"
    }
   ],
   "source": [
    "let test m =\n",
    "    let find_pos_eq_element liste =\n",
    "       let rec find pos liste nbre_eq =\n",
    "       match liste with\n",
    "       | [] -> nbre_eq\n",
    "       | hd:: tl -> if hd = pos then find (pos+1) tl (nbre_eq+1)\n",
    "                    else find (pos+1) tl nbre_eq in\n",
    "       find 0 liste 0 in\n",
    "\n",
    "    let liste = shuffle (range 0 m 1) in\n",
    "    find_pos_eq_element liste;;"
   ]
  },
  {
   "cell_type": "code",
   "execution_count": 47,
   "metadata": {
    "collapsed": false
   },
   "outputs": [
    {
     "name": "stdout",
     "output_type": "stream",
     "text": [
      "2 1.026\n",
      "3 0.976\n",
      "4 1.023\n",
      "5 1.002\n",
      "6 0.954\n",
      "7 1.068\n",
      "8 0.991\n",
      "9 1.037\n",
      "10 0.974\n",
      "11 0.982\n",
      "12 1.05\n",
      "13 1.044\n",
      "14 1.02\n",
      "15 1.034\n",
      "16 0.978\n",
      "17 1.006\n",
      "18 1.003\n",
      "19 1.006\n",
      "20 0.976\n",
      "21 1.011\n",
      "22 1.017\n",
      "23 0.978\n",
      "24 0.968\n"
     ]
    },
    {
     "data": {
      "text/html": [
       "<pre style=\"color:slategray;max-height:100px;overflow:hidden\" \n",
       "onclick=\"\n",
       "if (this.style.maxHeight === 'none') \n",
       "    this.style.maxHeight = '100px';\n",
       "else\n",
       "    this.style.maxHeight = 'none'; \n",
       "\">val essai : int -&gt; float = &lt;fun&gt;\n",
       "</pre>"
      ]
     },
     "execution_count": 47,
     "metadata": {},
     "output_type": "execute_result"
    },
    {
     "data": {
      "text/html": [
       "<pre style=\"color:slategray;max-height:100px;overflow:hidden\" \n",
       "onclick=\"\n",
       "if (this.style.maxHeight === 'none') \n",
       "    this.style.maxHeight = '100px';\n",
       "else\n",
       "    this.style.maxHeight = 'none'; \n",
       "\">- : unit = ()\n",
       "</pre>"
      ]
     },
     "execution_count": 47,
     "metadata": {},
     "output_type": "execute_result"
    }
   ],
   "source": [
    "let essai m =\n",
    "    let nbre_essais = 1000 in\n",
    "    let rec essai num res =\n",
    "        if num = nbre_essais then float_of_int res/.(float_of_int nbre_essais)\n",
    "        else essai (num+1) (res+(test m)) in\n",
    "    essai 0 0;;\n",
    "    \n",
    "for m = 2 to 24 do\n",
    "    print_int m;print_string \" \";print_float (essai m);print_newline()\n",
    "done;"
   ]
  },
  {
   "cell_type": "code",
   "execution_count": null,
   "metadata": {
    "collapsed": true
   },
   "outputs": [],
   "source": []
  }
 ],
 "metadata": {
  "kernelspec": {
   "display_name": "OCaml",
   "language": "ocaml",
   "name": "iocaml"
  },
  "language_info": {
   "name": "ocaml",
   "version": "4.1.0"
  }
 },
 "nbformat": 4,
 "nbformat_minor": 2
}
