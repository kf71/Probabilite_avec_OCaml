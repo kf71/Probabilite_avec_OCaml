{
 "cells": [
  {
   "cell_type": "markdown",
   "metadata": {
    "deletable": true,
    "editable": true
   },
   "source": [
    "<h1> TD: Orbitales atomiques</h1>\n",
    "\n",
    "<h2> Définitions</h2>\n",
    "\n",
    "Tracer les premières orbitales de l'atome d'hydrogène.\n",
    "On précisera, en particulier, à quelle distance du noyau (exprimée en unité $a_0$) se trouve\n",
    "la probabilité maximale de trouver l'électron pour les orbitales $1s$, $2s$, $2p$, $3s$ et $3d$.<br>\n",
    "On donne les parties radiales et angulaires des premières fonctions d'onde.\n",
    "\n",
    "<br>\n",
    "<table>\n",
    "<tr><td> Orbitale </td><td> $R_{n,\\ell}(r)$ </td><td> $Y(\\theta,\\varphi)$ </td> </tr>\n",
    "<tr><td>$1s$ \t\t</td><td> $R_{1,0}=\\left({1\\over a_0}\\right)^{3/2}.2.e^{-{r\\over a_0}}$ </td><td> $1\\over\\sqrt{4\\pi}$ </td></tr>\n",
    "<tr><td>$2s$ \t\t</td><td> $R_{2,0}=\\left({1\\over a_0}\\right)^{3/2}.{1\\over2\\sqrt{2}}.(2-{r\\over a_0}).e^{-{r\\over 2a_0}}$ \t\t\t\t\t\t\t\t\t</td><td> $1\\over\\sqrt{4\\pi}$ </td></tr>\n",
    "<tr><td>$2p_x$\t</td><td> $R_{2,1}=\\left({1\\over a_0}\\right)^{3/2}.{1\\over2\\sqrt{6}}.{r\\over a_0}.e^{-{r\\over 2a_0}}$\t\t\t\t\t\t\t\t\t\t\t</td><td> $\\sqrt{3\\over 4\\pi}.\\sin\\theta.\\cos\\varphi$</td></tr>\n",
    "<tr><td>$2p_y$\t</td><td> $R_{2,1}=\\left({1\\over a_0}\\right)^{3/2}.{1\\over2\\sqrt{6}}.{r\\over a_0}.e^{-{r\\over 2a_0}}$\t\t\t\t\t\t\t\t\t\t\t</td><td> $\\sqrt{3\\over 4\\pi}.\\sin\\theta.\\sin\\varphi$</td></tr>\n",
    "<tr><td>$2p_z$ \t</td><td> $R_{2,1}=\\left({1\\over a_0}\\right)^{3/2}.{1\\over2\\sqrt{6}}.{r\\over a_0}.e^{-{r\\over 2a_0}}$ \t\t\t\t\t\t\t\t\t\t</td><td> $\\sqrt{3\\over 4\\pi}.\\cos\\theta$</td></tr>\n",
    "<tr><td>$3s$\t\t</td><td> $R_{3,0}=\\left({1\\over a_0}\\right)^{3/2}.{1\\over9\\sqrt{3}}.\\left(6-{4.r\\over a_0}+{4.r^2\\over 9.a_0^2}\\right).e^{-{r\\over 3a_0}}$ \t</td><td> $1\\over\\sqrt{4\\pi}$</td></tr>\n",
    "<tr><td>$3p_z$\t</td><td> $R_{3,1}=\\left({1\\over a_0}\\right)^{3/2}.{1\\over9\\sqrt{6}}.{2.r\\over3.a_0}.\\left(4-{2.r\\over 3.a_0}\\right).e^{-{r\\over 3a_0}}$\t\t</td><td> $\\sqrt{3\\over 4\\pi}.\\cos\\theta$</td></tr>\n",
    "<tr><td>$3d_{z^2}$</td><td> $R_{3,2}=\\left({1\\over a_0}\\right)^{3/2}.{1\\over9\\sqrt{30}}.{4.r^2\\over 9.a_0^2}.e^{-{r\\over 3a_0}}$\t\t\t\t\t\t\t\t</td><td> $\\sqrt{5\\over 16\\pi}.(3\\cos^2\\theta-1)$</td></tr>\n",
    "<tr><td>$3d_{xy}$ </td><td> $R_{3,2}=\\left({1\\over a_0}\\right)^{3/2}.{1\\over9\\sqrt{30}}.{4.r^2\\over 9.a_0^2}.e^{-{r\\over 3a_0}}$\t\t\t\t\t\t\t\t</td><td> $\\sqrt{5\\over 16\\pi}.\\sin^2\\theta.\\sin(2\\varphi)$</td></tr>\n",
    "<tr><td>$3d_{xz}$ </td><td> $R_{3,2}=\\left({1\\over a_0}\\right)^{3/2}.{1\\over9\\sqrt{30}}.{4.r^2\\over 9.a_0^2}.e^{-{r\\over 3a_0}}$\t\t\t\t\t\t\t\t</td><td> $\\sqrt{5\\over 16\\pi}.\\sin(2\\theta).\\cos\\varphi$</td></tr>\n",
    "<tr><td>$3d_{yz}$ </td><td> $R_{3,2}=\\left({1\\over a_0}\\right)^{3/2}.{1\\over9\\sqrt{30}}.{4.r^2\\over 9.a_0^2}.e^{-{r\\over 3a_0}}$\t\t\t\t\t\t\t\t</td><td> $\\sqrt{5\\over 16\\pi}.\\sin^2\\theta.\\sin\\varphi$</td></tr>\n",
    "<tr><td>$3d_{x^2-y^2}$ </td><td> $R_{3,2}=\\left({1\\over a_0}\\right)^{3/2}.{1\\over9\\sqrt{30}}.{4.r^2\\over 9.a_0^2}.e^{-{r\\over 3a_0}}$\t\t\t\t\t\t\t</td><td> $\\sqrt{5\\over 16\\pi}.\\sin^2\\theta.\\cos(2\\varphi)$</td></tr>\n",
    "</table>\n"
   ]
  },
  {
   "cell_type": "code",
   "execution_count": 1,
   "metadata": {
    "collapsed": false,
    "deletable": true,
    "editable": true
   },
   "outputs": [
    {
     "name": "stdout",
     "output_type": "stream",
     "text": [
      "- : unit = ()\n",
      "Findlib has been successfully loaded. Additional directives:\n",
      "  #require \"package\";;      to load a package\n",
      "  #list;;                   to list the available packages\n",
      "  #camlp4o;;                to load camlp4 (standard syntax)\n",
      "  #camlp4r;;                to load camlp4 (revised syntax)\n",
      "  #predicates \"p,q,...\";;   to set these predicates\n",
      "  Topfind.reset();;         to force that packages will be reloaded\n",
      "  #thread;;                 to enable threads\n",
      "\n",
      "- : unit = ()\n"
     ]
    },
    {
     "name": "stderr",
     "output_type": "stream",
     "text": [
      "/usr/lib/ocaml/plplot: added to search path\n",
      "/usr/lib/ocaml/plplot/plplot.cma: loaded\n"
     ]
    },
    {
     "data": {
      "text/html": [
       "<pre style=\"color:slategray;max-height:100px;overflow:hidden\" \n",
       "onclick=\"\n",
       "if (this.style.maxHeight === 'none') \n",
       "    this.style.maxHeight = '100px';\n",
       "else\n",
       "    this.style.maxHeight = 'none'; \n",
       "\">module P = Plplot.Plot\n",
       "</pre>"
      ]
     },
     "execution_count": 1,
     "metadata": {},
     "output_type": "execute_result"
    },
    {
     "data": {
      "text/html": [
       "<pre style=\"color:slategray;max-height:100px;overflow:hidden\" \n",
       "onclick=\"\n",
       "if (this.style.maxHeight === 'none') \n",
       "    this.style.maxHeight = '100px';\n",
       "else\n",
       "    this.style.maxHeight = 'none'; \n",
       "\">val couleurs_list : int list list =\n",
       "  [[0; 255; 255; 255]; [1; 0; 0; 0]; [2; 0; 0; 255]; [3; 255; 0; 0];\n",
       "   [4; 165; 42; 42]; [5; 0; 0; 0]; [6; 0; 0; 0]; [7; 0; 0; 0]; [8; 0; 0; 0];\n",
       "   [9; 0; 0; 0]; [10; 200; 200; 200]; [11; 0; 255; 255]; [12; 0; 255; 0];\n",
       "   [13; 255; 255; 0]; [14; 255; 0; 255]; [15; 160; 0; 213]]\n",
       "</pre>"
      ]
     },
     "execution_count": 1,
     "metadata": {},
     "output_type": "execute_result"
    },
    {
     "data": {
      "text/html": [
       "<pre style=\"color:slategray;max-height:100px;overflow:hidden\" \n",
       "onclick=\"\n",
       "if (this.style.maxHeight === 'none') \n",
       "    this.style.maxHeight = '100px';\n",
       "else\n",
       "    this.style.maxHeight = 'none'; \n",
       "\">val loop : int list list -&gt; unit = &lt;fun&gt;\n",
       "</pre>"
      ]
     },
     "execution_count": 1,
     "metadata": {},
     "output_type": "execute_result"
    },
    {
     "data": {
      "text/html": [
       "<pre style=\"color:slategray;max-height:100px;overflow:hidden\" \n",
       "onclick=\"\n",
       "if (this.style.maxHeight === 'none') \n",
       "    this.style.maxHeight = '100px';\n",
       "else\n",
       "    this.style.maxHeight = 'none'; \n",
       "\">val couleurs : unit -&gt; unit = &lt;fun&gt;\n",
       "</pre>"
      ]
     },
     "execution_count": 1,
     "metadata": {},
     "output_type": "execute_result"
    },
    {
     "data": {
      "text/html": [
       "<pre style=\"color:slategray;max-height:100px;overflow:hidden\" \n",
       "onclick=\"\n",
       "if (this.style.maxHeight === 'none') \n",
       "    this.style.maxHeight = '100px';\n",
       "else\n",
       "    this.style.maxHeight = 'none'; \n",
       "\">val initialisation : string -&gt; float -&gt; float -&gt; float -&gt; float -&gt; P.stream_t =\n",
       "  &lt;fun&gt;\n",
       "</pre>"
      ]
     },
     "execution_count": 1,
     "metadata": {},
     "output_type": "execute_result"
    },
    {
     "data": {
      "text/html": [
       "<pre style=\"color:slategray;max-height:100px;overflow:hidden\" \n",
       "onclick=\"\n",
       "if (this.style.maxHeight === 'none') \n",
       "    this.style.maxHeight = '100px';\n",
       "else\n",
       "    this.style.maxHeight = 'none'; \n",
       "\">val xlabel : string -&gt; P.plot_t = &lt;fun&gt;\n",
       "</pre>"
      ]
     },
     "execution_count": 1,
     "metadata": {},
     "output_type": "execute_result"
    },
    {
     "data": {
      "text/html": [
       "<pre style=\"color:slategray;max-height:100px;overflow:hidden\" \n",
       "onclick=\"\n",
       "if (this.style.maxHeight === 'none') \n",
       "    this.style.maxHeight = '100px';\n",
       "else\n",
       "    this.style.maxHeight = 'none'; \n",
       "\">val ylabel : string -&gt; P.plot_t = &lt;fun&gt;\n",
       "</pre>"
      ]
     },
     "execution_count": 1,
     "metadata": {},
     "output_type": "execute_result"
    },
    {
     "data": {
      "text/html": [
       "<pre style=\"color:slategray;max-height:100px;overflow:hidden\" \n",
       "onclick=\"\n",
       "if (this.style.maxHeight === 'none') \n",
       "    this.style.maxHeight = '100px';\n",
       "else\n",
       "    this.style.maxHeight = 'none'; \n",
       "\">val label : string -&gt; string -&gt; string -&gt; P.plot_t = &lt;fun&gt;\n",
       "</pre>"
      ]
     },
     "execution_count": 1,
     "metadata": {},
     "output_type": "execute_result"
    }
   ],
   "source": [
    "#use \"topfind\";;\n",
    "#require \"plplot\";;\n",
    "open Plplot;;\n",
    "module P = Plot;;\n",
    "let couleurs_list = [[ 0;255;255;255]; (*`white*)\n",
    "                     [ 1;  0;  0;  0]; (*`black*)\n",
    "                     [ 2;  0;  0;255]; (*`blue*)\n",
    "                     [ 3;255;  0;  0]; (*`red*)\n",
    "                     [ 4;165; 42; 42]; (*`brown*)\n",
    "                     [ 5;  0;  0;  0]; [ 6;  0;  0;  0]; [ 7;  0;  0;  0]; [ 8;  0;  0;  0]; [ 9;  0;  0;  0]; \n",
    "                     [10;200;200;200]; (*`gray*)\n",
    "                     [11;  0;255;255]; (*`light_blue*)\n",
    "                     [12;  0;255;  0]; (*`green*)\n",
    "                     [13;255;255;  0]; (*`yellow*)\n",
    "                     [14;255;  0;255]; (*`pink*)\n",
    "                     [15;160;  0;213]; (*`purple*) ]\n",
    "let rec loop couleurs_list = match couleurs_list with\n",
    "    | [n;r;g;b]::tl -> plscol0 n r g b; loop tl\n",
    "    | _ -> ();;\n",
    "let couleurs = (fun () -> plscolbg 255 255 255; loop couleurs_list)\n",
    "let initialisation filename xmin xmax ymin ymax = \n",
    "        P.init (xmin, ymin) (xmax, ymax) `greedy (`svg `core) ~filename:(filename^\".svg\") ~pre:couleurs\n",
    "let xlabel texte = P.text_outside `black (`bottom 0.5) 3. texte\n",
    "let ylabel texte = P.text_outside `black (`left 0.5) 5. texte \n",
    "let label texte_x texte_y titre = P.label texte_x texte_y titre"
   ]
  },
  {
   "cell_type": "code",
   "execution_count": 2,
   "metadata": {
    "collapsed": false,
    "deletable": true,
    "editable": true
   },
   "outputs": [
    {
     "data": {
      "text/html": [
       "<pre style=\"color:slategray;max-height:100px;overflow:hidden\" \n",
       "onclick=\"\n",
       "if (this.style.maxHeight === 'none') \n",
       "    this.style.maxHeight = '100px';\n",
       "else\n",
       "    this.style.maxHeight = 'none'; \n",
       "\">val linspace : float -&gt; float -&gt; int -&gt; float list = &lt;fun&gt;\n",
       "</pre>"
      ]
     },
     "execution_count": 2,
     "metadata": {},
     "output_type": "execute_result"
    }
   ],
   "source": [
    "let linspace debut fin nbre_pts =\n",
    "     let step = (fin-.debut)/.(float_of_int (nbre_pts-1)) in\n",
    "     let rec loop i acc =\n",
    "         if i<nbre_pts\n",
    "         then loop (i+1) ((debut+.(float_of_int i)*.step)::acc)\n",
    "         else List.rev acc in\n",
    "       loop 0 [];;"
   ]
  },
  {
   "cell_type": "code",
   "execution_count": 3,
   "metadata": {
    "collapsed": false,
    "deletable": true,
    "editable": true
   },
   "outputs": [
    {
     "data": {
      "text/html": [
       "<pre style=\"color:slategray;max-height:100px;overflow:hidden\" \n",
       "onclick=\"\n",
       "if (this.style.maxHeight === 'none') \n",
       "    this.style.maxHeight = '100px';\n",
       "else\n",
       "    this.style.maxHeight = 'none'; \n",
       "\">val plot_spherique :\n",
       "  (float -&gt; float -&gt; float) -&gt; float array -&gt; float array -&gt; unit = &lt;fun&gt;\n",
       "</pre>"
      ]
     },
     "execution_count": 3,
     "metadata": {},
     "output_type": "execute_result"
    }
   ],
   "source": [
    "let plot_spherique func_theta_phi_to_rho array_theta array_phi =\n",
    "    let nbreT = Array.length array_theta in\n",
    "    let nbreP = Array.length array_phi in\n",
    "    \n",
    "    let x = Array.make 5 0.0 in\n",
    "    let y = Array.make 5 0.0 in\n",
    "    let z = Array.make 5 0.0 in\n",
    "  \n",
    "    let rho = ref 1. in\n",
    "    \n",
    "    for i = 0 to nbreT-2 do\n",
    "        let theta = array_theta.(i) in\n",
    "        let theta' = array_theta.(i+1) in\n",
    "        for j = 0 to nbreP-2 do\n",
    "            let phi = array_phi.(j) in\n",
    "            let phi'= array_phi.(j+1) in\n",
    "            \n",
    "              rho := func_theta_phi_to_rho theta phi;\n",
    "              x.(0) <- (sin theta) *. (cos phi) *. !rho;\n",
    "              y.(0) <- (sin theta) *. (sin phi) *. !rho;\n",
    "              z.(0) <- (cos theta) *. !rho;\n",
    "\n",
    "              rho := func_theta_phi_to_rho theta' phi;\n",
    "              x.(1) <- (sin theta') *. (cos phi) *. !rho;\n",
    "              y.(1) <- (sin theta') *. (sin phi) *. !rho;\n",
    "              z.(1) <- (cos theta') *. !rho;\n",
    "\n",
    "              rho := func_theta_phi_to_rho theta' phi';\n",
    "              x.(2) <- (sin theta') *. (cos phi') *. !rho;\n",
    "              y.(2) <- (sin theta') *. (sin phi') *. !rho;\n",
    "              z.(2) <- (cos theta') *. !rho;\n",
    "\n",
    "              rho := func_theta_phi_to_rho theta phi';\n",
    "              x.(3) <- (sin theta) *. (cos phi') *. !rho;\n",
    "              y.(3) <- (sin theta) *. (sin phi') *. !rho;\n",
    "              z.(3) <- (cos theta) *. !rho;\n",
    "\n",
    "              rho := func_theta_phi_to_rho theta phi;\n",
    "              x.(4) <- (sin theta) *. (cos phi) *. !rho;\n",
    "              y.(4) <- (sin theta) *. (sin phi) *. !rho;\n",
    "              z.(4) <- (cos theta) *. !rho;\n",
    "\n",
    "              plpoly3 x y z [|true;true;true;true|] true;\n",
    "        done\n",
    "      done;;"
   ]
  },
  {
   "cell_type": "code",
   "execution_count": 4,
   "metadata": {
    "collapsed": false,
    "deletable": true,
    "editable": true
   },
   "outputs": [
    {
     "data": {
      "text/html": [
       "<pre style=\"color:slategray;max-height:100px;overflow:hidden\" \n",
       "onclick=\"\n",
       "if (this.style.maxHeight === 'none') \n",
       "    this.style.maxHeight = '100px';\n",
       "else\n",
       "    this.style.maxHeight = 'none'; \n",
       "\">val save_plot_spherique :\n",
       "  string -&gt; (float -&gt; float -&gt; float) -&gt; float list -&gt; float list -&gt; unit =\n",
       "  &lt;fun&gt;\n",
       "</pre>"
      ]
     },
     "execution_count": 4,
     "metadata": {},
     "output_type": "execute_result"
    }
   ],
   "source": [
    "let save_plot_spherique filename func_theta_phi_to_rho list_theta list_phi =\n",
    "    plsdev \"png\";\n",
    "    plsfnam filename;\n",
    "    plscolbg 255 255 255; (* définit la couleur n°0 *)\n",
    "    plscol0 15 0 0 0; (* définit la couleur n°15 *)\n",
    "    plinit ();\n",
    "    plcol0 15;\n",
    "    pladv 0;\n",
    "    plvpor 0.0 1.0 0.0 1.0;\n",
    "    plwind (-1.0) 1.0 (-0.9) 1.1;\n",
    "    plw3d 1.0 1.0 1.0 (-1.0) 1.0 (-1.0) 1.0 (-1.0) 1.0 35. 40.;\n",
    "    (* xmin xmax ymin ymax zmin zmax viewpoint_altitude viewpoint_azimut *)\n",
    "    plbox3 \"bnstu\" \"x axis\" 0.0 0\n",
    "           \"bnstu\" \"y axis\" 0.0 0\n",
    "           \"bcdmnstuv\" \"z axis\" 0.0 0;\n",
    "         \n",
    "    plot_spherique func_theta_phi_to_rho (Array.of_list list_theta) (Array.of_list list_phi);\n",
    "    plend ();"
   ]
  },
  {
   "cell_type": "code",
   "execution_count": 5,
   "metadata": {
    "collapsed": false,
    "deletable": true,
    "editable": true
   },
   "outputs": [
    {
     "data": {
      "text/html": [
       "<pre style=\"color:slategray;max-height:100px;overflow:hidden\" \n",
       "onclick=\"\n",
       "if (this.style.maxHeight === 'none') \n",
       "    this.style.maxHeight = '100px';\n",
       "else\n",
       "    this.style.maxHeight = 'none'; \n",
       "\">val pi : float = 3.14159265358979312\n",
       "</pre>"
      ]
     },
     "execution_count": 5,
     "metadata": {},
     "output_type": "execute_result"
    },
    {
     "data": {
      "text/html": [
       "<pre style=\"color:slategray;max-height:100px;overflow:hidden\" \n",
       "onclick=\"\n",
       "if (this.style.maxHeight === 'none') \n",
       "    this.style.maxHeight = '100px';\n",
       "else\n",
       "    this.style.maxHeight = 'none'; \n",
       "\">val phi : float list =\n",
       "  [0.; 0.314159265358979312; 0.628318530717958623; 0.942477796076937935;\n",
       "   1.25663706143591725; 1.57079632679489656; 1.88495559215387587;\n",
       "   2.19911485751285518; 2.51327412287183449; 2.8274333882308138;\n",
       "   3.14159265358979312; 3.45575191894877243; 3.76991118430775174;\n",
       "   4.08407044966673105; 4.39822971502571; 4.71238898038469;\n",
       "   5.02654824574366899; 5.3407075111026483; 5.65486677646162761;\n",
       "   5.96902604182060692; 6.28318530717958623]\n",
       "</pre>"
      ]
     },
     "execution_count": 5,
     "metadata": {},
     "output_type": "execute_result"
    },
    {
     "data": {
      "text/html": [
       "<pre style=\"color:slategray;max-height:100px;overflow:hidden\" \n",
       "onclick=\"\n",
       "if (this.style.maxHeight === 'none') \n",
       "    this.style.maxHeight = '100px';\n",
       "else\n",
       "    this.style.maxHeight = 'none'; \n",
       "\">val theta : float list =\n",
       "  [0.; 0.314159265358979312; 0.628318530717958623; 0.942477796076937935;\n",
       "   1.25663706143591725; 1.57079632679489656; 1.88495559215387587;\n",
       "   2.19911485751285518; 2.51327412287183449; 2.8274333882308138;\n",
       "   3.14159265358979312]\n",
       "</pre>"
      ]
     },
     "execution_count": 5,
     "metadata": {},
     "output_type": "execute_result"
    },
    {
     "data": {
      "text/html": [
       "<pre style=\"color:slategray;max-height:100px;overflow:hidden\" \n",
       "onclick=\"\n",
       "if (this.style.maxHeight === 'none') \n",
       "    this.style.maxHeight = '100px';\n",
       "else\n",
       "    this.style.maxHeight = 'none'; \n",
       "\">val r : float -&gt; float -&gt; float = &lt;fun&gt;\n",
       "</pre>"
      ]
     },
     "execution_count": 5,
     "metadata": {},
     "output_type": "execute_result"
    },
    {
     "data": {
      "text/html": [
       "<pre style=\"color:slategray;max-height:100px;overflow:hidden\" \n",
       "onclick=\"\n",
       "if (this.style.maxHeight === 'none') \n",
       "    this.style.maxHeight = '100px';\n",
       "else\n",
       "    this.style.maxHeight = 'none'; \n",
       "\">- : unit = ()\n",
       "</pre>"
      ]
     },
     "execution_count": 5,
     "metadata": {},
     "output_type": "execute_result"
    }
   ],
   "source": [
    "(*Parties angulaires*)\n",
    "(*OA s*)\n",
    "let pi = 4. *. atan 1.;;\n",
    "let phi = linspace 0. (2.*.pi) 21;;\n",
    "let theta = linspace 0. pi 11;;\n",
    "let r (theta:float) (phi:float) = 1./.(sqrt(4.*.pi));;\n",
    "\n",
    "save_plot_spherique \"graph1.png\" r theta phi"
   ]
  },
  {
   "cell_type": "markdown",
   "metadata": {
    "deletable": true,
    "editable": true
   },
   "source": [
    "<img src=\"graph1.png\" width=\"500\"/>"
   ]
  },
  {
   "cell_type": "code",
   "execution_count": 6,
   "metadata": {
    "collapsed": false,
    "deletable": true,
    "editable": true
   },
   "outputs": [
    {
     "data": {
      "text/html": [
       "<pre style=\"color:slategray;max-height:100px;overflow:hidden\" \n",
       "onclick=\"\n",
       "if (this.style.maxHeight === 'none') \n",
       "    this.style.maxHeight = '100px';\n",
       "else\n",
       "    this.style.maxHeight = 'none'; \n",
       "\">val phi : float list =\n",
       "  [0.; 0.104719755119659766; 0.209439510239319532; 0.314159265358979312;\n",
       "   0.418879020478639064; 0.523598775598298816; 0.628318530717958623;\n",
       "   0.73303828583761832; 0.837758040957278127; 0.942477796076937935;\n",
       "   1.04719755119659763; 1.15191730631625733; 1.25663706143591725;\n",
       "   1.36135681655557694; 1.46607657167523664; 1.57079632679489656;\n",
       "   1.67551608191455625; 1.78023583703421595; 1.88495559215387587;\n",
       "   1.98967534727353557; 2.09439510239319526; 2.19911485751285518;\n",
       "   2.30383461263251466; 2.40855436775217457; 2.51327412287183449;\n",
       "   2.61799387799149397; 2.72271363311115389; 2.8274333882308138;\n",
       "   2.93215314335047328; 3.0368728984701332; 3.14159265358979312;\n",
       "   3.24631240870945259; 3.35103216382911251; 3.45575191894877243;\n",
       "   3.5604716740684319; 3.66519142918809182; 3.76991118430775174;\n",
       "   3.87463093942741121; 3.97935069454707113; 4.08407044966673105;\n",
       "   4.18879020478639053; 4.29350995990605; 4.39822971502571; 4.50294947014537;\n",
       "   4.60766922526502931; 4.71238898038469; 4.81710873550434915;\n",
       "   4.92182849062400862; 5.02654824574366899; 5.13126800086332846;\n",
       "   5.23598775598298793; 5.3407075111026483; 5.44542726622230777;\n",
       "   5.55014702134196725; 5.65486677646162761; 5.75958653158128708;\n",
       "   5.86430628670094656; 5.96902604182060692; 6.07374579694026639;\n",
       "   6.17846555205992587; 6.28318530717958623]\n",
       "</pre>"
      ]
     },
     "execution_count": 6,
     "metadata": {},
     "output_type": "execute_result"
    },
    {
     "data": {
      "text/html": [
       "<pre style=\"color:slategray;max-height:100px;overflow:hidden\" \n",
       "onclick=\"\n",
       "if (this.style.maxHeight === 'none') \n",
       "    this.style.maxHeight = '100px';\n",
       "else\n",
       "    this.style.maxHeight = 'none'; \n",
       "\">val theta : float list =\n",
       "  [0.; 0.0785398163397448279; 0.157079632679489656; 0.235619449019234484;\n",
       "   0.314159265358979312; 0.392699081698724139; 0.471238898038468967;\n",
       "   0.549778714378213795; 0.628318530717958623; 0.706858347057703451;\n",
       "   0.785398163397448279; 0.863937979737193107; 0.942477796076937935;\n",
       "   1.02101761241668276; 1.09955742875642759; 1.17809724509617242;\n",
       "   1.25663706143591725; 1.33517687777566207; 1.4137166941154069;\n",
       "   1.49225651045515173; 1.57079632679489656; 1.64933614313464139;\n",
       "   1.72787595947438621; 1.80641577581413104; 1.88495559215387587;\n",
       "   1.9634954084936207; 2.04203522483336553; 2.12057504117311035;\n",
       "   2.19911485751285518; 2.2776546738526; 2.35619449019234484;\n",
       "   2.43473430653208966; 2.51327412287183449; 2.59181393921157932;\n",
       "   2.67035375555132415; 2.74889357189106898; 2.8274333882308138;\n",
       "   2.90597320457055863; 2.98451302091030346; 3.06305283725004829;\n",
       "   3.14159265358979312]\n",
       "</pre>"
      ]
     },
     "execution_count": 6,
     "metadata": {},
     "output_type": "execute_result"
    },
    {
     "data": {
      "text/html": [
       "<pre style=\"color:slategray;max-height:100px;overflow:hidden\" \n",
       "onclick=\"\n",
       "if (this.style.maxHeight === 'none') \n",
       "    this.style.maxHeight = '100px';\n",
       "else\n",
       "    this.style.maxHeight = 'none'; \n",
       "\">val r : float -&gt; float -&gt; float = &lt;fun&gt;\n",
       "</pre>"
      ]
     },
     "execution_count": 6,
     "metadata": {},
     "output_type": "execute_result"
    },
    {
     "data": {
      "text/html": [
       "<pre style=\"color:slategray;max-height:100px;overflow:hidden\" \n",
       "onclick=\"\n",
       "if (this.style.maxHeight === 'none') \n",
       "    this.style.maxHeight = '100px';\n",
       "else\n",
       "    this.style.maxHeight = 'none'; \n",
       "\">- : unit = ()\n",
       "</pre>"
      ]
     },
     "execution_count": 6,
     "metadata": {},
     "output_type": "execute_result"
    }
   ],
   "source": [
    "(*OA pz*)\n",
    "let phi = linspace 0. (2.*.pi) 61;;\n",
    "let theta = linspace 0. pi 41;;\n",
    "let r (theta:float) (phi:float) = abs_float(sqrt(3./.(4.*.pi))*.(cos theta));;\n",
    "\n",
    "save_plot_spherique \"graph2.png\" r theta phi"
   ]
  },
  {
   "cell_type": "markdown",
   "metadata": {
    "deletable": true,
    "editable": true
   },
   "source": [
    "<img src=\"graph2.png\" width=\"500\"/>"
   ]
  },
  {
   "cell_type": "code",
   "execution_count": 7,
   "metadata": {
    "collapsed": false,
    "deletable": true,
    "editable": true
   },
   "outputs": [
    {
     "data": {
      "text/html": [
       "<pre style=\"color:slategray;max-height:100px;overflow:hidden\" \n",
       "onclick=\"\n",
       "if (this.style.maxHeight === 'none') \n",
       "    this.style.maxHeight = '100px';\n",
       "else\n",
       "    this.style.maxHeight = 'none'; \n",
       "\">val r : float -&gt; float -&gt; float = &lt;fun&gt;\n",
       "</pre>"
      ]
     },
     "execution_count": 7,
     "metadata": {},
     "output_type": "execute_result"
    },
    {
     "data": {
      "text/html": [
       "<pre style=\"color:slategray;max-height:100px;overflow:hidden\" \n",
       "onclick=\"\n",
       "if (this.style.maxHeight === 'none') \n",
       "    this.style.maxHeight = '100px';\n",
       "else\n",
       "    this.style.maxHeight = 'none'; \n",
       "\">- : unit = ()\n",
       "</pre>"
      ]
     },
     "execution_count": 7,
     "metadata": {},
     "output_type": "execute_result"
    }
   ],
   "source": [
    "(*OA 3dxy*)\n",
    "let r (theta:float) (phi:float) = abs_float(sqrt(15./.(16.*.pi))*.(sin theta)**2.*.(sin (2.*.phi)));;\n",
    "\n",
    "save_plot_spherique \"graph3.png\" r theta phi"
   ]
  },
  {
   "cell_type": "markdown",
   "metadata": {
    "deletable": true,
    "editable": true
   },
   "source": [
    "<img src=\"graph3.png\" width=\"500\"/>"
   ]
  },
  {
   "cell_type": "code",
   "execution_count": 8,
   "metadata": {
    "collapsed": false,
    "deletable": true,
    "editable": true
   },
   "outputs": [
    {
     "data": {
      "text/html": [
       "<pre style=\"color:slategray;max-height:100px;overflow:hidden\" \n",
       "onclick=\"\n",
       "if (this.style.maxHeight === 'none') \n",
       "    this.style.maxHeight = '100px';\n",
       "else\n",
       "    this.style.maxHeight = 'none'; \n",
       "\">val r : float -&gt; float -&gt; float = &lt;fun&gt;\n",
       "</pre>"
      ]
     },
     "execution_count": 8,
     "metadata": {},
     "output_type": "execute_result"
    },
    {
     "data": {
      "text/html": [
       "<pre style=\"color:slategray;max-height:100px;overflow:hidden\" \n",
       "onclick=\"\n",
       "if (this.style.maxHeight === 'none') \n",
       "    this.style.maxHeight = '100px';\n",
       "else\n",
       "    this.style.maxHeight = 'none'; \n",
       "\">- : unit = ()\n",
       "</pre>"
      ]
     },
     "execution_count": 8,
     "metadata": {},
     "output_type": "execute_result"
    }
   ],
   "source": [
    "(*OA 3dx^2-y^2*)\n",
    "let r (theta:float) (phi:float) = abs_float(sqrt(15./.(16.*.pi))*.(sin theta)**2.*.(cos (2.*.phi)));;\n",
    "\n",
    "save_plot_spherique \"graph4.png\" r theta phi"
   ]
  },
  {
   "cell_type": "markdown",
   "metadata": {
    "deletable": true,
    "editable": true
   },
   "source": [
    "<img src=\"graph4.png\" width=\"500\"/>"
   ]
  },
  {
   "cell_type": "code",
   "execution_count": 9,
   "metadata": {
    "collapsed": false,
    "deletable": true,
    "editable": true
   },
   "outputs": [
    {
     "data": {
      "text/html": [
       "<pre style=\"color:slategray;max-height:100px;overflow:hidden\" \n",
       "onclick=\"\n",
       "if (this.style.maxHeight === 'none') \n",
       "    this.style.maxHeight = '100px';\n",
       "else\n",
       "    this.style.maxHeight = 'none'; \n",
       "\">val r : float -&gt; float -&gt; float = &lt;fun&gt;\n",
       "</pre>"
      ]
     },
     "execution_count": 9,
     "metadata": {},
     "output_type": "execute_result"
    },
    {
     "data": {
      "text/html": [
       "<pre style=\"color:slategray;max-height:100px;overflow:hidden\" \n",
       "onclick=\"\n",
       "if (this.style.maxHeight === 'none') \n",
       "    this.style.maxHeight = '100px';\n",
       "else\n",
       "    this.style.maxHeight = 'none'; \n",
       "\">- : unit = ()\n",
       "</pre>"
      ]
     },
     "execution_count": 9,
     "metadata": {},
     "output_type": "execute_result"
    }
   ],
   "source": [
    "(*OA 3dz^2*)\n",
    "let r (theta:float) (phi:float) = abs_float(sqrt(5./.(16.*.pi))*.(3.*.(cos theta)**2.-.1.));;\n",
    "\n",
    "save_plot_spherique \"graph5.png\" r theta phi"
   ]
  },
  {
   "cell_type": "markdown",
   "metadata": {
    "deletable": true,
    "editable": true
   },
   "source": [
    "<img src=\"graph5.png\" width=\"500\"/>"
   ]
  },
  {
   "cell_type": "code",
   "execution_count": 10,
   "metadata": {
    "collapsed": false
   },
   "outputs": [
    {
     "data": {
      "text/html": [
       "<pre style=\"color:slategray;max-height:100px;overflow:hidden\" \n",
       "onclick=\"\n",
       "if (this.style.maxHeight === 'none') \n",
       "    this.style.maxHeight = '100px';\n",
       "else\n",
       "    this.style.maxHeight = 'none'; \n",
       "\">val a0 : float = 1.\n",
       "</pre>"
      ]
     },
     "execution_count": 10,
     "metadata": {},
     "output_type": "execute_result"
    },
    {
     "data": {
      "text/html": [
       "<pre style=\"color:slategray;max-height:100px;overflow:hidden\" \n",
       "onclick=\"\n",
       "if (this.style.maxHeight === 'none') \n",
       "    this.style.maxHeight = '100px';\n",
       "else\n",
       "    this.style.maxHeight = 'none'; \n",
       "\">val r1s : float -&gt; float = &lt;fun&gt;\n",
       "</pre>"
      ]
     },
     "execution_count": 10,
     "metadata": {},
     "output_type": "execute_result"
    },
    {
     "data": {
      "text/html": [
       "<pre style=\"color:slategray;max-height:100px;overflow:hidden\" \n",
       "onclick=\"\n",
       "if (this.style.maxHeight === 'none') \n",
       "    this.style.maxHeight = '100px';\n",
       "else\n",
       "    this.style.maxHeight = 'none'; \n",
       "\">val r2s : float -&gt; float = &lt;fun&gt;\n",
       "</pre>"
      ]
     },
     "execution_count": 10,
     "metadata": {},
     "output_type": "execute_result"
    },
    {
     "data": {
      "text/html": [
       "<pre style=\"color:slategray;max-height:100px;overflow:hidden\" \n",
       "onclick=\"\n",
       "if (this.style.maxHeight === 'none') \n",
       "    this.style.maxHeight = '100px';\n",
       "else\n",
       "    this.style.maxHeight = 'none'; \n",
       "\">val r2p : float -&gt; float = &lt;fun&gt;\n",
       "</pre>"
      ]
     },
     "execution_count": 10,
     "metadata": {},
     "output_type": "execute_result"
    },
    {
     "data": {
      "text/html": [
       "<pre style=\"color:slategray;max-height:100px;overflow:hidden\" \n",
       "onclick=\"\n",
       "if (this.style.maxHeight === 'none') \n",
       "    this.style.maxHeight = '100px';\n",
       "else\n",
       "    this.style.maxHeight = 'none'; \n",
       "\">val r3s : float -&gt; float = &lt;fun&gt;\n",
       "</pre>"
      ]
     },
     "execution_count": 10,
     "metadata": {},
     "output_type": "execute_result"
    },
    {
     "data": {
      "text/html": [
       "<pre style=\"color:slategray;max-height:100px;overflow:hidden\" \n",
       "onclick=\"\n",
       "if (this.style.maxHeight === 'none') \n",
       "    this.style.maxHeight = '100px';\n",
       "else\n",
       "    this.style.maxHeight = 'none'; \n",
       "\">val r3d : float -&gt; float = &lt;fun&gt;\n",
       "</pre>"
      ]
     },
     "execution_count": 10,
     "metadata": {},
     "output_type": "execute_result"
    },
    {
     "data": {
      "text/html": [
       "<pre style=\"color:slategray;max-height:100px;overflow:hidden\" \n",
       "onclick=\"\n",
       "if (this.style.maxHeight === 'none') \n",
       "    this.style.maxHeight = '100px';\n",
       "else\n",
       "    this.style.maxHeight = 'none'; \n",
       "\">val dP1s : float -&gt; float = &lt;fun&gt;\n",
       "</pre>"
      ]
     },
     "execution_count": 10,
     "metadata": {},
     "output_type": "execute_result"
    },
    {
     "data": {
      "text/html": [
       "<pre style=\"color:slategray;max-height:100px;overflow:hidden\" \n",
       "onclick=\"\n",
       "if (this.style.maxHeight === 'none') \n",
       "    this.style.maxHeight = '100px';\n",
       "else\n",
       "    this.style.maxHeight = 'none'; \n",
       "\">- : unit = ()\n",
       "</pre>"
      ]
     },
     "execution_count": 10,
     "metadata": {},
     "output_type": "execute_result"
    }
   ],
   "source": [
    "(*Parties radiales*)\n",
    "let a0=1.;;\n",
    "let r1s r = 2.*.(1./.a0)**(3./.2.)*.exp(-.r/.a0);;\n",
    "let r2s r = (1./.(2.*.a0))**(3./.2.)*.(2.-.r/.a0)*.exp(-.r/.(2.*.a0));;\n",
    "let r2p r = (1./.(2.*.(sqrt 6.)))*.(1./.a0)**(3./.2.)*.(r/.a0)*.exp(-.r/.(2.*.a0));;\n",
    "let r3s r = (1./.3.)**(5./.2.)*.(1./.a0)**(3./.2.)*.(6.-.4.*.(r/.a0)+.(4./.9.)*.(r/.a0)**2.)*.exp(-.r/.(3.*.a0));;\n",
    "let r3d r = (1./.(9.*.(sqrt 30.)))*.(1./.a0)**(3./.2.)*.(4./.9.)*.(r/.a0)**2.*.exp(-.r/.(3.*.a0));;\n",
    "\n",
    "let dP1s r = (r1s r)**2.*.r**2.;;\n",
    "let r = linspace 0. 4. 100 in\n",
    "let listdP1s = List.map dP1s r in\n",
    "\n",
    "let p = initialisation \"graph6\" 0. 4. 0. 0.6 in\n",
    "P.plot ~stream:p [P.lines `black (Array.of_list r) (Array.of_list listdP1s); \n",
    "                  xlabel \"r\"; ylabel \"1s\"];\n",
    "P.finish ~stream:p ();;"
   ]
  },
  {
   "cell_type": "markdown",
   "metadata": {},
   "source": [
    "<img src=\"graph6.svg\" width=\"500\"/>"
   ]
  },
  {
   "cell_type": "code",
   "execution_count": 11,
   "metadata": {
    "collapsed": false
   },
   "outputs": [
    {
     "data": {
      "text/html": [
       "<pre style=\"color:slategray;max-height:100px;overflow:hidden\" \n",
       "onclick=\"\n",
       "if (this.style.maxHeight === 'none') \n",
       "    this.style.maxHeight = '100px';\n",
       "else\n",
       "    this.style.maxHeight = 'none'; \n",
       "\">val golden_ratio : float = 1.6180339887498949\n",
       "</pre>"
      ]
     },
     "execution_count": 11,
     "metadata": {},
     "output_type": "execute_result"
    },
    {
     "data": {
      "text/html": [
       "<pre style=\"color:slategray;max-height:100px;overflow:hidden\" \n",
       "onclick=\"\n",
       "if (this.style.maxHeight === 'none') \n",
       "    this.style.maxHeight = '100px';\n",
       "else\n",
       "    this.style.maxHeight = 'none'; \n",
       "\">val find_min : ?tolerance:float -&gt; (float -&gt; 'a) -&gt; float -&gt; float -&gt; float =\n",
       "  &lt;fun&gt;\n",
       "</pre>"
      ]
     },
     "execution_count": 11,
     "metadata": {},
     "output_type": "execute_result"
    }
   ],
   "source": [
    "let golden_ratio = ((sqrt 5.) +. 1.) /. 2.;;\n",
    "\n",
    "let find_min ?tolerance f a b = \n",
    "    (* \n",
    "    https://en.wikipedia.org/wiki/Golden-section_search\n",
    "    golden section search\n",
    "    to find the minimum of f on [a,b]\n",
    "    f: a strictly unimodal function on [a,b]\n",
    "\n",
    "    example:\n",
    "    >>> f = lambda x: (x-2)**2\n",
    "    >>> x = gss(f, 1, 5)\n",
    "    >>> x\n",
    "    2.000009644875678\n",
    "    *)\n",
    "    \n",
    "    let tolerance' =\n",
    "        match tolerance with\n",
    "        | None -> 1e-5\n",
    "        | Some t -> t\n",
    "    in\n",
    "    \n",
    "    let rec loop a b =\n",
    "        let c = b -. (b -. a) /. golden_ratio in\n",
    "        let d = a +. (b -. a) /. golden_ratio in\n",
    "\n",
    "        if abs_float(c-.d)<tolerance' then (b+.a)/.2.\n",
    "        else if f(c)<f(d) then loop a d else loop c b in\n",
    "        \n",
    "    loop a b;;"
   ]
  },
  {
   "cell_type": "code",
   "execution_count": 12,
   "metadata": {
    "collapsed": false,
    "deletable": true,
    "editable": true
   },
   "outputs": [
    {
     "data": {
      "text/html": [
       "<pre style=\"color:slategray;max-height:100px;overflow:hidden\" \n",
       "onclick=\"\n",
       "if (this.style.maxHeight === 'none') \n",
       "    this.style.maxHeight = '100px';\n",
       "else\n",
       "    this.style.maxHeight = 'none'; \n",
       "\">- : float = 1.00000964487567812\n",
       "</pre>"
      ]
     },
     "execution_count": 12,
     "metadata": {},
     "output_type": "execute_result"
    }
   ],
   "source": [
    "find_min (fun r -> -.(dP1s r)) 0. 4."
   ]
  },
  {
   "cell_type": "code",
   "execution_count": 13,
   "metadata": {
    "collapsed": false
   },
   "outputs": [
    {
     "data": {
      "text/html": [
       "<pre style=\"color:slategray;max-height:100px;overflow:hidden\" \n",
       "onclick=\"\n",
       "if (this.style.maxHeight === 'none') \n",
       "    this.style.maxHeight = '100px';\n",
       "else\n",
       "    this.style.maxHeight = 'none'; \n",
       "\">val dP2s : float -&gt; float = &lt;fun&gt;\n",
       "</pre>"
      ]
     },
     "execution_count": 13,
     "metadata": {},
     "output_type": "execute_result"
    },
    {
     "data": {
      "text/html": [
       "<pre style=\"color:slategray;max-height:100px;overflow:hidden\" \n",
       "onclick=\"\n",
       "if (this.style.maxHeight === 'none') \n",
       "    this.style.maxHeight = '100px';\n",
       "else\n",
       "    this.style.maxHeight = 'none'; \n",
       "\">val dP2p : float -&gt; float = &lt;fun&gt;\n",
       "</pre>"
      ]
     },
     "execution_count": 13,
     "metadata": {},
     "output_type": "execute_result"
    },
    {
     "data": {
      "text/html": [
       "<pre style=\"color:slategray;max-height:100px;overflow:hidden\" \n",
       "onclick=\"\n",
       "if (this.style.maxHeight === 'none') \n",
       "    this.style.maxHeight = '100px';\n",
       "else\n",
       "    this.style.maxHeight = 'none'; \n",
       "\">- : unit = ()\n",
       "</pre>"
      ]
     },
     "execution_count": 13,
     "metadata": {},
     "output_type": "execute_result"
    }
   ],
   "source": [
    "(*2s,2p*)\n",
    "let dP2s r = (r2s r)**2.*.r**2.;;\n",
    "let dP2p r = (r2p r)**2.*.r**2.;;\n",
    "let r = linspace 0. 10. 100 in\n",
    "let listdP2s = List.map dP2s r in\n",
    "let listdP2p = List.map dP2p r in\n",
    "\n",
    "let p = initialisation \"graph7\" 0. 10. 0. 0.2 in\n",
    "P.plot ~stream:p [P.lines `blue (Array.of_list r) (Array.of_list listdP2s);\n",
    "                  P.lines `green (Array.of_list r) (Array.of_list listdP2p); \n",
    "                  xlabel \"r\"; P.legend [[P.line_legend \"2s\" `blue];[P.line_legend \"2p\" `green]]];\n",
    "P.finish ~stream:p ();;"
   ]
  },
  {
   "cell_type": "markdown",
   "metadata": {},
   "source": [
    "<img src=\"graph7.svg\" width=\"500\"/>"
   ]
  },
  {
   "cell_type": "code",
   "execution_count": 14,
   "metadata": {
    "collapsed": false
   },
   "outputs": [
    {
     "name": "stdout",
     "output_type": "stream",
     "text": [
      "5.2360767527\n",
      "3.99999859283"
     ]
    },
    {
     "data": {
      "text/html": [
       "<pre style=\"color:slategray;max-height:100px;overflow:hidden\" \n",
       "onclick=\"\n",
       "if (this.style.maxHeight === 'none') \n",
       "    this.style.maxHeight = '100px';\n",
       "else\n",
       "    this.style.maxHeight = 'none'; \n",
       "\">- : unit = ()\n",
       "</pre>"
      ]
     },
     "execution_count": 14,
     "metadata": {},
     "output_type": "execute_result"
    }
   ],
   "source": [
    "print_float(find_min (fun r-> -.(dP2s r)) 2. 8.); (*5.23603515625*)\n",
    "print_newline();\n",
    "print_float(find_min (fun r-> -.(dP2p r)) 2. 8.) (*4.0*)"
   ]
  },
  {
   "cell_type": "code",
   "execution_count": 15,
   "metadata": {
    "collapsed": false
   },
   "outputs": [
    {
     "data": {
      "text/html": [
       "<pre style=\"color:slategray;max-height:100px;overflow:hidden\" \n",
       "onclick=\"\n",
       "if (this.style.maxHeight === 'none') \n",
       "    this.style.maxHeight = '100px';\n",
       "else\n",
       "    this.style.maxHeight = 'none'; \n",
       "\">val dP3s : float -&gt; float = &lt;fun&gt;\n",
       "</pre>"
      ]
     },
     "execution_count": 15,
     "metadata": {},
     "output_type": "execute_result"
    },
    {
     "data": {
      "text/html": [
       "<pre style=\"color:slategray;max-height:100px;overflow:hidden\" \n",
       "onclick=\"\n",
       "if (this.style.maxHeight === 'none') \n",
       "    this.style.maxHeight = '100px';\n",
       "else\n",
       "    this.style.maxHeight = 'none'; \n",
       "\">val dP3d : float -&gt; float = &lt;fun&gt;\n",
       "</pre>"
      ]
     },
     "execution_count": 15,
     "metadata": {},
     "output_type": "execute_result"
    },
    {
     "data": {
      "text/html": [
       "<pre style=\"color:slategray;max-height:100px;overflow:hidden\" \n",
       "onclick=\"\n",
       "if (this.style.maxHeight === 'none') \n",
       "    this.style.maxHeight = '100px';\n",
       "else\n",
       "    this.style.maxHeight = 'none'; \n",
       "\">- : unit = ()\n",
       "</pre>"
      ]
     },
     "execution_count": 15,
     "metadata": {},
     "output_type": "execute_result"
    }
   ],
   "source": [
    "(*3s,3d*)\n",
    "let dP3s r = (r3s r)**2.*.r**2.;;\n",
    "let dP3d r = (r3d r)**2.*.r**2.;;\n",
    "let r = linspace 0. 22. 100 in\n",
    "let listdP3s = List.map dP3s r in\n",
    "let listdP3d = List.map dP3d r in\n",
    "\n",
    "let p = initialisation \"graph8\" 0. 22. 0. 0.12 in\n",
    "P.plot ~stream:p [P.lines `blue (Array.of_list r) (Array.of_list listdP3s);\n",
    "                  P.lines `green (Array.of_list r) (Array.of_list listdP3d); \n",
    "                  xlabel \"r\"; P.legend [[P.line_legend \"3s\" `blue];[P.line_legend \"3d\" `green]]];\n",
    "P.finish ~stream:p ();;"
   ]
  },
  {
   "cell_type": "markdown",
   "metadata": {},
   "source": [
    "<img src=\"graph8.svg\" width=\"500\"/>"
   ]
  },
  {
   "cell_type": "code",
   "execution_count": 16,
   "metadata": {
    "collapsed": false
   },
   "outputs": [
    {
     "name": "stdout",
     "output_type": "stream",
     "text": [
      "13.0740289984\n",
      "9.00000649835"
     ]
    },
    {
     "data": {
      "text/html": [
       "<pre style=\"color:slategray;max-height:100px;overflow:hidden\" \n",
       "onclick=\"\n",
       "if (this.style.maxHeight === 'none') \n",
       "    this.style.maxHeight = '100px';\n",
       "else\n",
       "    this.style.maxHeight = 'none'; \n",
       "\">- : unit = ()\n",
       "</pre>"
      ]
     },
     "execution_count": 16,
     "metadata": {},
     "output_type": "execute_result"
    }
   ],
   "source": [
    "print_float(find_min (fun r-> -.(dP3s r)) 5. 15.); (*13.074005127*)\n",
    "print_newline();\n",
    "print_float(find_min (fun r-> -.(dP3d r)) 5. 15.) (*9.0*)"
   ]
  },
  {
   "cell_type": "code",
   "execution_count": null,
   "metadata": {
    "collapsed": true
   },
   "outputs": [],
   "source": []
  }
 ],
 "metadata": {
  "kernelspec": {
   "display_name": "OCaml",
   "language": "ocaml",
   "name": "iocaml"
  },
  "language_info": {
   "name": "ocaml",
   "version": "4.1.0"
  }
 },
 "nbformat": 4,
 "nbformat_minor": 2
}
