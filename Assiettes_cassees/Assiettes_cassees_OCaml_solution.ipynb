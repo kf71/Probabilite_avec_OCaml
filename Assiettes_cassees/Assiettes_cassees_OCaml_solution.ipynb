{
 "cells": [
  {
   "cell_type": "markdown",
   "metadata": {},
   "source": [
    "<h1> Assiettes cassées </h1>\n",
    "\n",
    "<h2> Présentation </h2>\n",
    "Cinq plongeurs lavent le même nombre d'assiettes. Si cinq assiettes sont cassées:\n",
    "<ul>\n",
    "<li> quelle est la probabilité qu'un même plongeur en ait cassé quatre ? \n",
    "<li> quelle est la probabilité qu'il ait cassé les cinq assiettes ?\n",
    "<li> quelle est la probabilité qu'un plongeur donné ait cassé quatre assiettes ? \n",
    "<li> quelle est la probabilité qu'un plongeur donné ait cassé cinq assiettes ? \n",
    "</ul>\n",
    "\n",
    "Trouver ces probabilités de façon analytique; puis les retrouver de façon numérique en effectuant des simulations."
   ]
  },
  {
   "cell_type": "code",
   "execution_count": 1,
   "metadata": {
    "collapsed": false
   },
   "outputs": [
    {
     "data": {
      "text/html": [
       "<pre style=\"color:slategray;max-height:100px;overflow:hidden\" \n",
       "onclick=\"\n",
       "if (this.style.maxHeight === 'none') \n",
       "    this.style.maxHeight = '100px';\n",
       "else\n",
       "    this.style.maxHeight = 'none'; \n",
       "\">- : unit -&gt; unit = &lt;fun&gt;\n",
       "</pre>"
      ]
     },
     "execution_count": 1,
     "metadata": {},
     "output_type": "execute_result"
    },
    {
     "data": {
      "text/html": [
       "<pre style=\"color:slategray;max-height:100px;overflow:hidden\" \n",
       "onclick=\"\n",
       "if (this.style.maxHeight === 'none') \n",
       "    this.style.maxHeight = '100px';\n",
       "else\n",
       "    this.style.maxHeight = 'none'; \n",
       "\">val array_mem : 'a -&gt; 'a array -&gt; bool = &lt;fun&gt;\n",
       "</pre>"
      ]
     },
     "execution_count": 1,
     "metadata": {},
     "output_type": "execute_result"
    }
   ],
   "source": [
    "open Random;;\n",
    "Random.self_init;;\n",
    "\n",
    "let array_mem cible array =\n",
    "   let trouve = ref false in\n",
    "   let i = ref 0 in\n",
    "   while not !trouve && !i < Array.length array do\n",
    "      if array.(!i)=cible then trouve :=true;\n",
    "      incr i;\n",
    "    done;\n",
    "    !trouve;;"
   ]
  },
  {
   "cell_type": "code",
   "execution_count": 2,
   "metadata": {
    "collapsed": false
   },
   "outputs": [
    {
     "data": {
      "text/html": [
       "<pre style=\"color:slategray;max-height:100px;overflow:hidden\" \n",
       "onclick=\"\n",
       "if (this.style.maxHeight === 'none') \n",
       "    this.style.maxHeight = '100px';\n",
       "else\n",
       "    this.style.maxHeight = 'none'; \n",
       "\">val assiette : unit -&gt; bool * bool * bool * bool = &lt;fun&gt;\n",
       "</pre>"
      ]
     },
     "execution_count": 2,
     "metadata": {},
     "output_type": "execute_result"
    }
   ],
   "source": [
    "let assiette() =\n",
    "    let nbre_serveurs=5 in\n",
    "    let nbre_assiettes_cassees=5 in\n",
    "    let nbre_casse=Array.make nbre_serveurs 0 in\n",
    "    for i=1 to nbre_assiettes_cassees do\n",
    "        let serveur=Random.int nbre_serveurs in\n",
    "        nbre_casse.(serveur)<-nbre_casse.(serveur)+1\n",
    "    done;\n",
    "      array_mem 4 nbre_casse,\n",
    "      array_mem 5 nbre_casse,\n",
    "      nbre_casse.(0)=4,\n",
    "      nbre_casse.(0)==5"
   ]
  },
  {
   "cell_type": "code",
   "execution_count": 12,
   "metadata": {
    "collapsed": false
   },
   "outputs": [
    {
     "name": "stdout",
     "output_type": "stream",
     "text": [
      "probabilité qu'un même serveur casse 4 assiettes 3.214 %\n",
      "probabilité qu'un même serveur casse 5 assiettes 0.163 %\n",
      "probabilité qu'un serveur donné casse 4 assiettes 0.644 %\n",
      "probabilité qu'un serveur donné casse 5 assiettes 0.031 %\n"
     ]
    },
    {
     "data": {
      "text/html": [
       "<pre style=\"color:slategray;max-height:100px;overflow:hidden\" \n",
       "onclick=\"\n",
       "if (this.style.maxHeight === 'none') \n",
       "    this.style.maxHeight = '100px';\n",
       "else\n",
       "    this.style.maxHeight = 'none'; \n",
       "\">val essais : int -&gt; float * float * float * float = &lt;fun&gt;\n",
       "</pre>"
      ]
     },
     "execution_count": 12,
     "metadata": {},
     "output_type": "execute_result"
    },
    {
     "data": {
      "text/html": [
       "<pre style=\"color:slategray;max-height:100px;overflow:hidden\" \n",
       "onclick=\"\n",
       "if (this.style.maxHeight === 'none') \n",
       "    this.style.maxHeight = '100px';\n",
       "else\n",
       "    this.style.maxHeight = 'none'; \n",
       "\">val p4 : float = 0.03214\n",
       "val p5 : float = 0.00163\n",
       "val p4b : float = 0.00644\n",
       "val p5b : float = 0.00031\n",
       "</pre>"
      ]
     },
     "execution_count": 12,
     "metadata": {},
     "output_type": "execute_result"
    },
    {
     "data": {
      "text/html": [
       "<pre style=\"color:slategray;max-height:100px;overflow:hidden\" \n",
       "onclick=\"\n",
       "if (this.style.maxHeight === 'none') \n",
       "    this.style.maxHeight = '100px';\n",
       "else\n",
       "    this.style.maxHeight = 'none'; \n",
       "\">- : unit = ()\n",
       "</pre>"
      ]
     },
     "execution_count": 12,
     "metadata": {},
     "output_type": "execute_result"
    }
   ],
   "source": [
    "let essais nbre_essais =\n",
    "   let rec loop num_essai proba4 proba5 proba4b proba5b =\n",
    "       if num_essai = nbre_essais then\n",
    "           float_of_int proba4 /. float_of_int nbre_essais,\n",
    "           float_of_int proba5 /. float_of_int nbre_essais,\n",
    "           float_of_int proba4b /. float_of_int nbre_essais,\n",
    "           float_of_int proba5b /. float_of_int nbre_essais\n",
    "       else begin\n",
    "           let p4,p5,p4b,p5b=assiette() in\n",
    "           loop (num_essai+1) (proba4 + if p4 then 1 else 0) (proba5 + if p5 then 1 else 0) \n",
    "           (proba4b + if p4b then 1 else 0) (proba5b + if p5b then 1 else 0)\n",
    "       end in\n",
    "    loop 0 0 0 0 0;;\n",
    "\n",
    "    (* proba4 proba qu'un même serveur casse 4 assiettes\n",
    "       proba5 proba qu'un même serveur casse 5 assiettes\n",
    "       proba4b proba qu'un serveur donné casse 4 assiettes\n",
    "       proba5b proba qu'un serveur donné casse 5 assiettes *)\n",
    "\n",
    "let p4,p5,p4b,p5b = essais (100*1000);;\n",
    "\n",
    "print_string(\"probabilité qu'un même serveur casse 4 assiettes \"^string_of_float(p4*.100.)^\" %\\n\");\n",
    "print_string(\"probabilité qu'un même serveur casse 5 assiettes \"^string_of_float(p5*.100.)^\" %\\n\");\n",
    "print_string(\"probabilité qu'un serveur donné casse 4 assiettes \"^string_of_float(p4b*.100.)^\" %\\n\");\n",
    "print_string(\"probabilité qu'un serveur donné casse 5 assiettes \"^string_of_float(p5b*.100.)^\" %\\n\");"
   ]
  },
  {
   "cell_type": "code",
   "execution_count": 14,
   "metadata": {
    "collapsed": false
   },
   "outputs": [
    {
     "name": "stdout",
     "output_type": "stream",
     "text": [
      "probabilité qu'un même serveur casse 4 assiettes 3.2 %\n",
      "probabilité qu'un même serveur casse 5 assiettes 0.16 %\n",
      "probabilité qu'un serveur donné casse 4 assiettes 0.64 %\n",
      "probabilité qu'un serveur donné casse 5 assiettes 0.032 %\n"
     ]
    },
    {
     "data": {
      "text/html": [
       "<pre style=\"color:slategray;max-height:100px;overflow:hidden\" \n",
       "onclick=\"\n",
       "if (this.style.maxHeight === 'none') \n",
       "    this.style.maxHeight = '100px';\n",
       "else\n",
       "    this.style.maxHeight = 'none'; \n",
       "\">val loop : int -&gt; int -&gt; 'a -&gt; ('a -&gt; int -&gt; 'a) -&gt; 'a = &lt;fun&gt;\n",
       "</pre>"
      ]
     },
     "execution_count": 14,
     "metadata": {},
     "output_type": "execute_result"
    },
    {
     "data": {
      "text/html": [
       "<pre style=\"color:slategray;max-height:100px;overflow:hidden\" \n",
       "onclick=\"\n",
       "if (this.style.maxHeight === 'none') \n",
       "    this.style.maxHeight = '100px';\n",
       "else\n",
       "    this.style.maxHeight = 'none'; \n",
       "\">val combinatoire : int -&gt; int -&gt; int = &lt;fun&gt;\n",
       "</pre>"
      ]
     },
     "execution_count": 14,
     "metadata": {},
     "output_type": "execute_result"
    },
    {
     "data": {
      "text/html": [
       "<pre style=\"color:slategray;max-height:100px;overflow:hidden\" \n",
       "onclick=\"\n",
       "if (this.style.maxHeight === 'none') \n",
       "    this.style.maxHeight = '100px';\n",
       "else\n",
       "    this.style.maxHeight = 'none'; \n",
       "\">val p4b : float = 0.0064\n",
       "val p5b : float = 0.00032\n",
       "</pre>"
      ]
     },
     "execution_count": 14,
     "metadata": {},
     "output_type": "execute_result"
    },
    {
     "data": {
      "text/html": [
       "<pre style=\"color:slategray;max-height:100px;overflow:hidden\" \n",
       "onclick=\"\n",
       "if (this.style.maxHeight === 'none') \n",
       "    this.style.maxHeight = '100px';\n",
       "else\n",
       "    this.style.maxHeight = 'none'; \n",
       "\">val p4 : float = 0.032\n",
       "val p5 : float = 0.0016\n",
       "</pre>"
      ]
     },
     "execution_count": 14,
     "metadata": {},
     "output_type": "execute_result"
    },
    {
     "data": {
      "text/html": [
       "<pre style=\"color:slategray;max-height:100px;overflow:hidden\" \n",
       "onclick=\"\n",
       "if (this.style.maxHeight === 'none') \n",
       "    this.style.maxHeight = '100px';\n",
       "else\n",
       "    this.style.maxHeight = 'none'; \n",
       "\">- : unit = ()\n",
       "</pre>"
      ]
     },
     "execution_count": 14,
     "metadata": {},
     "output_type": "execute_result"
    }
   ],
   "source": [
    "let loop start stop acc op =\n",
    "   (* itère de start à stop compris *)\n",
    "   let rec loop i acc =\n",
    "      if i>stop then acc else\n",
    "      loop (i+1) (op acc i) in\n",
    "   loop start acc;;\n",
    "   \n",
    "let combinatoire k n=\n",
    "    (*k parmi n*)\n",
    "    let num = loop (n-k+1) (n) 1 ( * ) in\n",
    "    loop 1 k num (/);;\n",
    "\n",
    "let p4b,p5b=4.*.float_of_int (combinatoire 4 5)/.(5.**5.),float_of_int (combinatoire 5 5)/.5.**5.;;\n",
    "let p4,p5=5.*.p4b,5.*.p5b;;\n",
    "print_string(\"probabilité qu'un même serveur casse 4 assiettes \"^string_of_float(p4*.100.)^\" %\\n\");\n",
    "print_string(\"probabilité qu'un même serveur casse 5 assiettes \"^string_of_float(p5*.100.)^\" %\\n\");\n",
    "print_string(\"probabilité qu'un serveur donné casse 4 assiettes \"^string_of_float(p4b*.100.)^\" %\\n\");\n",
    "print_string(\"probabilité qu'un serveur donné casse 5 assiettes \"^string_of_float(p5b*.100.)^\" %\\n\");"
   ]
  },
  {
   "cell_type": "code",
   "execution_count": null,
   "metadata": {
    "collapsed": true
   },
   "outputs": [],
   "source": []
  }
 ],
 "metadata": {
  "kernelspec": {
   "display_name": "OCaml",
   "language": "ocaml",
   "name": "iocaml"
  },
  "language_info": {
   "name": "ocaml",
   "version": "4.1.0"
  }
 },
 "nbformat": 4,
 "nbformat_minor": 2
}
