{
 "cells": [
  {
   "cell_type": "markdown",
   "metadata": {
    "deletable": true,
    "editable": true
   },
   "source": [
    "<h1> Assiettes cassées </h1>\n",
    "\n",
    "<h2> Présentation </h2>\n",
    "Cinq plongeurs lavent le même nombre d'assiettes. Si cinq assiettes sont cassées:\n",
    "<ul>\n",
    "<li> quelle est la probabilité qu'un même plongeur en ait cassé quatre ? \n",
    "<li> quelle est la probabilité qu'il ait cassé les cinq assiettes ?\n",
    "<li> quelle est la probabilité qu'un plongeur donné ait cassé quatre assiettes ? \n",
    "<li> quelle est la probabilité qu'un plongeur donné ait cassé cinq assiettes ? \n",
    "</ul>\n",
    "\n",
    "Trouver ces probabilités de façon analytique; puis les retrouver de façon numérique en effectuant des simulations."
   ]
  },
  {
   "cell_type": "code",
   "execution_count": 1,
   "metadata": {
    "collapsed": false,
    "deletable": true,
    "editable": true
   },
   "outputs": [
    {
     "data": {
      "text/html": [
       "<pre style=\"color:slategray;max-height:100px;overflow:hidden\" \n",
       "onclick=\"\n",
       "if (this.style.maxHeight === 'none') \n",
       "    this.style.maxHeight = '100px';\n",
       "else\n",
       "    this.style.maxHeight = 'none'; \n",
       "\">- : unit -&gt; unit = &lt;fun&gt;\n",
       "</pre>"
      ]
     },
     "execution_count": 1,
     "metadata": {},
     "output_type": "execute_result"
    },
    {
     "data": {
      "text/html": [
       "<pre style=\"color:slategray;max-height:100px;overflow:hidden\" \n",
       "onclick=\"\n",
       "if (this.style.maxHeight === 'none') \n",
       "    this.style.maxHeight = '100px';\n",
       "else\n",
       "    this.style.maxHeight = 'none'; \n",
       "\">val array_mem : 'a -&gt; 'a array -&gt; bool = &lt;fun&gt;\n",
       "</pre>"
      ]
     },
     "execution_count": 1,
     "metadata": {},
     "output_type": "execute_result"
    }
   ],
   "source": [
    "open Random;;\n",
    "Random.self_init;;\n",
    "\n",
    "let array_mem cible array =\n",
    "   let trouve = ref false in\n",
    "   let i = ref 0 in\n",
    "   while not !trouve && !i < Array.length array do\n",
    "      if array.(!i)=cible then trouve :=true;\n",
    "      incr i;\n",
    "    done;\n",
    "    !trouve;;"
   ]
  },
  {
   "cell_type": "code",
   "execution_count": 2,
   "metadata": {
    "collapsed": false,
    "deletable": true,
    "editable": true
   },
   "outputs": [
    {
     "data": {
      "text/html": [
       "<pre style=\"color:slategray;max-height:100px;overflow:hidden\" \n",
       "onclick=\"\n",
       "if (this.style.maxHeight === 'none') \n",
       "    this.style.maxHeight = '100px';\n",
       "else\n",
       "    this.style.maxHeight = 'none'; \n",
       "\">val assiette : unit -&gt; bool * bool * bool * bool = &lt;fun&gt;\n",
       "</pre>"
      ]
     },
     "execution_count": 2,
     "metadata": {},
     "output_type": "execute_result"
    }
   ],
   "source": [
    "let assiette() =\n",
    "    \"à compléter\""
   ]
  },
  {
   "cell_type": "code",
   "execution_count": null,
   "metadata": {
    "collapsed": true
   },
   "outputs": [],
   "source": [
    "let essais nbre_essais =\n",
    "    \"à compléter\"\n",
    "    (* proba4 proba qu'un même serveur casse 4 assiettes\n",
    "       proba5 proba qu'un même serveur casse 5 assiettes\n",
    "       proba4b proba qu'un serveur donné casse 4 assiettes\n",
    "       proba5b proba qu'un serveur donné casse 5 assiettes *)\n",
    "\n",
    "let p4,p5,p4b,p5b = essais (100*1000);;\n",
    "\n",
    "print_string(\"probabilité qu'un même serveur casse 4 assiettes \"^string_of_float(p4*.100.)^\" %\\n\");\n",
    "print_string(\"probabilité qu'un même serveur casse 5 assiettes \"^string_of_float(p5*.100.)^\" %\\n\");\n",
    "print_string(\"probabilité qu'un serveur donné casse 4 assiettes \"^string_of_float(p4b*.100.)^\" %\\n\");\n",
    "print_string(\"probabilité qu'un serveur donné casse 5 assiettes \"^string_of_float(p5b*.100.)^\" %\\n\");"
   ]
  },
  {
   "cell_type": "code",
   "execution_count": null,
   "metadata": {
    "collapsed": true
   },
   "outputs": [],
   "source": [
    "let loop start stop acc op =\n",
    "   (* itère de start à stop compris *)\n",
    "   \"à copléter\";;\n",
    "   \n",
    "let combinatoire k n=\n",
    "    (*k parmi n*)\n",
    "   \"à copléter\";;\n",
    "\n",
    "let p4b,p5b=4.*.float_of_int (combinatoire 4 5)/.(5.**5.),float_of_int (combinatoire 5 5)/.5.**5.;;\n",
    "let p4,p5=5.*.p4b,5.*.p5b;;\n",
    "print_string(\"probabilité qu'un même serveur casse 4 assiettes \"^string_of_float(p4*.100.)^\" %\\n\");\n",
    "print_string(\"probabilité qu'un même serveur casse 5 assiettes \"^string_of_float(p5*.100.)^\" %\\n\");\n",
    "print_string(\"probabilité qu'un serveur donné casse 4 assiettes \"^string_of_float(p4b*.100.)^\" %\\n\");\n",
    "print_string(\"probabilité qu'un serveur donné casse 5 assiettes \"^string_of_float(p5b*.100.)^\" %\\n\");"
   ]
  },
  {
   "cell_type": "code",
   "execution_count": null,
   "metadata": {
    "collapsed": true,
    "deletable": true,
    "editable": true
   },
   "outputs": [],
   "source": []
  }
 ],
 "metadata": {
  "kernelspec": {
   "display_name": "OCaml",
   "language": "ocaml",
   "name": "iocaml"
  },
  "language_info": {
   "name": "ocaml",
   "version": "4.1.0"
  }
 },
 "nbformat": 4,
 "nbformat_minor": 2
}
