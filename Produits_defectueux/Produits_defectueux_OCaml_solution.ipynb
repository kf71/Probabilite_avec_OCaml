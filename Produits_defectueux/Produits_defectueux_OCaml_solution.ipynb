{
 "cells": [
  {
   "cell_type": "markdown",
   "metadata": {},
   "source": [
    "<h1> Produits défectueux </h1>\n",
    "<h2> Énoncé </h2>\n",
    "\n",
    "Une usine produit, grâce à trois machines $M_1$, $M_2$ et $M_3$, des pièces qui ont :\n",
    "<ul>\n",
    "<li> pour la machine $M_1$ un défaut $a$ dans 5% des cas ;\n",
    "\n",
    "<li> pour la machine $M_2$ un défaut $b$ dans 3% des cas ;\n",
    "\n",
    "<li> pour la machine $M_3$ un défaut $c$ dans 2% des cas.\n",
    "</ul>\n",
    "\n",
    "Une machine $M$ fabrique un objet en assemblant une pièce provenant de $M_1$, une pièce provenant de $M_2$ et une pièce provenant de $M_3$. Elle prend au hasard des pièces dans trois stocks comprenant un grand nombre de pièces. Les différentes pièces sont tirées au hasard et indépendamment les unes des autres.\n",
    "\n",
    "On désigne par $X$ la variable aléatoire qui, à chaque objet prélevé au hasard dans la production de $M$, associe le nombre de ses défauts. On souhaite connaître la loi de $X$.\n",
    "\n",
    "Effectuer 100 000 simulations pour évaluer $X$.\n",
    "\n",
    "Retrouver ce résultat théoriquement."
   ]
  },
  {
   "cell_type": "markdown",
   "metadata": {},
   "source": [
    "<h2> Solution </h2>"
   ]
  },
  {
   "cell_type": "code",
   "execution_count": 1,
   "metadata": {
    "collapsed": false
   },
   "outputs": [
    {
     "data": {
      "text/html": [
       "<pre style=\"color:slategray;max-height:100px;overflow:hidden\" \n",
       "onclick=\"\n",
       "if (this.style.maxHeight === 'none') \n",
       "    this.style.maxHeight = '100px';\n",
       "else\n",
       "    this.style.maxHeight = 'none'; \n",
       "\">- : unit -&gt; unit = &lt;fun&gt;\n",
       "</pre>"
      ]
     },
     "execution_count": 1,
     "metadata": {},
     "output_type": "execute_result"
    }
   ],
   "source": [
    "open Random;;\n",
    "Random.self_init;;"
   ]
  },
  {
   "cell_type": "code",
   "execution_count": 3,
   "metadata": {
    "collapsed": false
   },
   "outputs": [
    {
     "name": "stdout",
     "output_type": "stream",
     "text": [
      "0.09947"
     ]
    },
    {
     "data": {
      "text/html": [
       "<pre style=\"color:slategray;max-height:100px;overflow:hidden\" \n",
       "onclick=\"\n",
       "if (this.style.maxHeight === 'none') \n",
       "    this.style.maxHeight = '100px';\n",
       "else\n",
       "    this.style.maxHeight = 'none'; \n",
       "\">val taux_defauts : float array = [|0.05; 0.03; 0.02|]\n",
       "</pre>"
      ]
     },
     "execution_count": 3,
     "metadata": {},
     "output_type": "execute_result"
    },
    {
     "data": {
      "text/html": [
       "<pre style=\"color:slategray;max-height:100px;overflow:hidden\" \n",
       "onclick=\"\n",
       "if (this.style.maxHeight === 'none') \n",
       "    this.style.maxHeight = '100px';\n",
       "else\n",
       "    this.style.maxHeight = 'none'; \n",
       "\">val compte_defauts : int -&gt; int -&gt; int = &lt;fun&gt;\n",
       "</pre>"
      ]
     },
     "execution_count": 3,
     "metadata": {},
     "output_type": "execute_result"
    },
    {
     "data": {
      "text/html": [
       "<pre style=\"color:slategray;max-height:100px;overflow:hidden\" \n",
       "onclick=\"\n",
       "if (this.style.maxHeight === 'none') \n",
       "    this.style.maxHeight = '100px';\n",
       "else\n",
       "    this.style.maxHeight = 'none'; \n",
       "\">val nbre_essais : int = 100000\n",
       "</pre>"
      ]
     },
     "execution_count": 3,
     "metadata": {},
     "output_type": "execute_result"
    },
    {
     "data": {
      "text/html": [
       "<pre style=\"color:slategray;max-height:100px;overflow:hidden\" \n",
       "onclick=\"\n",
       "if (this.style.maxHeight === 'none') \n",
       "    this.style.maxHeight = '100px';\n",
       "else\n",
       "    this.style.maxHeight = 'none'; \n",
       "\">val loop : int -&gt; int -&gt; float = &lt;fun&gt;\n",
       "</pre>"
      ]
     },
     "execution_count": 3,
     "metadata": {},
     "output_type": "execute_result"
    },
    {
     "data": {
      "text/html": [
       "<pre style=\"color:slategray;max-height:100px;overflow:hidden\" \n",
       "onclick=\"\n",
       "if (this.style.maxHeight === 'none') \n",
       "    this.style.maxHeight = '100px';\n",
       "else\n",
       "    this.style.maxHeight = 'none'; \n",
       "\">- : unit = ()\n",
       "</pre>"
      ]
     },
     "execution_count": 3,
     "metadata": {},
     "output_type": "execute_result"
    }
   ],
   "source": [
    "let taux_defauts=[|0.05;0.03;0.02|];;\n",
    "\n",
    "let rec compte_defauts num_machine nbre_defauts =\n",
    "    if num_machine=3 then nbre_defauts else\n",
    "    let r = Random.float 1. in\n",
    "    if r>1.-.taux_defauts.(num_machine)\n",
    "    then compte_defauts (num_machine+1) (nbre_defauts+1)\n",
    "    else compte_defauts (num_machine+1) nbre_defauts;;\n",
    "\n",
    "let nbre_essais=100000;;\n",
    "let rec loop num_essai count =\n",
    "    if num_essai = nbre_essais then (float_of_int count)/.(float_of_int nbre_essais)\n",
    "    else loop (num_essai+1) (count+(compte_defauts 0 0));;\n",
    "\n",
    "print_float (loop 0 0);;"
   ]
  },
  {
   "cell_type": "code",
   "execution_count": null,
   "metadata": {
    "collapsed": true
   },
   "outputs": [],
   "source": []
  }
 ],
 "metadata": {
  "kernelspec": {
   "display_name": "OCaml",
   "language": "ocaml",
   "name": "iocaml"
  },
  "language_info": {
   "name": "ocaml",
   "version": "4.1.0"
  }
 },
 "nbformat": 4,
 "nbformat_minor": 2
}
