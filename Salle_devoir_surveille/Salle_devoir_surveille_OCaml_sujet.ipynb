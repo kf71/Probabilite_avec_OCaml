{
 "cells": [
  {
   "cell_type": "markdown",
   "metadata": {
    "deletable": true,
    "editable": true
   },
   "source": [
    "<h1> Salle de devoir surveillé </h1>\n",
    "\n",
    "<h2> Présentation </h2>\n",
    "\n",
    "Pour un devoir surveillé, $n$ élèves doivent s'assoir dans une salle avec $n$ tables à leurs noms. Les élèves n'ont pas regardé le plan de la salle et s'assoient au hasard dans la salle. Quelle est la probabilité qu'aucun élève ne se soit assis à la bonne place ?\n",
    "\n",
    "Au hasard signifie exactement ceci: les élèves discutent debout en étant répartis de façon quelconque dans la salle. Chaque élève est à une plus courte distance d'une des tables et, pour chaque table, cette distance la plus courte correspond à un élève distinct. A l'instant de la sonnerie, tous les élèves s'assoient, en même temps, à la table dont ils sont la plus proche.\n",
    "\n",
    "Remarque: il peut être intéressant de résoudre le problème généralisé ci-dessous pour répondre au problème original.\n",
    "\n",
    "<h3>Problème généralisé</h3>\n",
    "\n",
    "On considère la généralisation suivante.\n",
    "\n",
    "Le surveillant ne connaît pas les élèves.\n",
    "\n",
    "$k$ élèves, qui n'ont pas révisé, envoient un élève d'une autre classe à leur place pour faire le devoir surveillé. (On suppose que les $k$ remplaçants ne sont pas des homonymes des $k$ élèves qui se sont fait remplacés).\n",
    "\n",
    "Il y aura toujours $n$ élèves dans la salle mais $k$ d'entre eux n'ont pas leur véritable nom inscrit sur le plan de la salle (et pour cause !).\n",
    "\n",
    "On reprend le problème précédent où les $n$ élèves s'installent au hasard sans regarder le plan de classe. Les $k$ remplaçants sont forcément à une place qui n'est pas à leur véritable nom.\n",
    "\n",
    "On note $p_{n,k}$ la probabilité qu'aucun élève ne se soit assis à la place correspondant à son véritable nom lorsqu'il y a $k$ remplaçants parmi les $n$ élèves.\n",
    "\n",
    "Calculer $p_{n,k}$ par récurrence.\n",
    "\n",
    "Remarque: $p_{n,0}$ correspond au problème original.\n",
    "\n",
    "<h3> Solution </h3>\n",
    "\n",
    "S'il n'y a qu'un élève ($n=1$) et qu'il ne s'est pas fait remplacé ($k=0$), alors celui-ci est forcément à la bonne place: $p_{1,0}=0$.\n",
    "\n",
    "Si $n=1$ et $k=1$, alors le remplaçant ne peut pas être à une place qui correspond à son véritable nom: $p_{1,1}=1$.\n",
    "\n",
    "On considère le problème original ($n\\neq0,k=0$). Pour un élève $A$ donné (qui ne s'est pas fait remplacé), la probabilité qu'il s'assoit à une place qui n'est pas la sienne est: $\\frac{n-1}{n}$. Si $A$ a pris la place de l'élève $B$, $B$ est obligé de s'assoir à une place qui n'est pas la sienne. $B$ est dans la même situation qu'un remplaçant. On se retrouve avec le problème généralisé $n'=n-1$ et $k'=1$. D'où: $p_{n,0}=\\frac{n-1}n.p_{n-1,1}$ pour $n>1$.\n",
    "\n",
    "Par exemple, pour $n=2$, on a: $p_{2,0}=\\frac{1}{2}.p_{1,1}=\\frac{1}{2}$ (une chance sur 2 que $A$ et $B$ s'installent à leur table respective, une chance sur 2 qu'ils aient échangé leurs tables).\n",
    "\n",
    "On considère le problème généralisé avec $k\\geq1$. Pour un remplaçant $A$ donné: \n",
    "La probabilité qu'il s'assoit à la place d'un des $k$ élèves qui s'est fait remplacé est $\\frac kn$ (y compris l'élève qu'il était lui-même censé remplacer). Une fois $A$ assis, on est ramené au problème $n'=n-1$ (un élève de moins) et $k'=k-1$ (un remplaçant de moins).\n",
    "La probabilité qu'il s'assoit à la place d'un des $n-k$ élèves qui ne s'est pas fait remplacé est $\\frac{n-k}n$. Dans ce dernier cas, l'élève $B$, dont $A$ a pris la place, est obligé de s'assoir à une place qui n'est pas la sienne comme un remplaçant. Une fois $A$ assis, on est ramené au problème $n'=n-1$ (un élève de moins) et $k'=k$ (autant de remplaçants puisque $A$ a été remplacé par $B$).\n",
    "Finalement, on a: $p_{n,k}=\\frac{k}{n}.p_{n-1,k-1}+\\frac{n-k}{n}.p_{n-1,k}$ pour $n>1$ et $n\\geq k>0$\n"
   ]
  },
  {
   "cell_type": "code",
   "execution_count": 1,
   "metadata": {
    "collapsed": false,
    "deletable": true,
    "editable": true
   },
   "outputs": [
    {
     "data": {
      "text/html": [
       "<pre style=\"color:slategray;max-height:100px;overflow:hidden\" \n",
       "onclick=\"\n",
       "if (this.style.maxHeight === 'none') \n",
       "    this.style.maxHeight = '100px';\n",
       "else\n",
       "    this.style.maxHeight = 'none'; \n",
       "\">- : unit -&gt; unit = &lt;fun&gt;\n",
       "</pre>"
      ]
     },
     "execution_count": 1,
     "metadata": {},
     "output_type": "execute_result"
    }
   ],
   "source": [
    "open Random;;\n",
    "Random.self_init;;"
   ]
  },
  {
   "cell_type": "code",
   "execution_count": 2,
   "metadata": {
    "collapsed": false,
    "deletable": true,
    "editable": true
   },
   "outputs": [
    {
     "data": {
      "text/html": [
       "<pre style=\"color:slategray;max-height:100px;overflow:hidden\" \n",
       "onclick=\"\n",
       "if (this.style.maxHeight === 'none') \n",
       "    this.style.maxHeight = '100px';\n",
       "else\n",
       "    this.style.maxHeight = 'none'; \n",
       "\">val range : int -&gt; int -&gt; int list = &lt;fun&gt;\n",
       "</pre>"
      ]
     },
     "execution_count": 2,
     "metadata": {},
     "output_type": "execute_result"
    }
   ],
   "source": [
    "let range debut fin =\n",
    "   let rec loop i acc =\n",
    "     if i = fin then List.rev acc else\n",
    "     loop (i+1) (i::acc) in\n",
    "   loop debut [];;"
   ]
  },
  {
   "cell_type": "code",
   "execution_count": 3,
   "metadata": {
    "collapsed": false,
    "deletable": true,
    "editable": true
   },
   "outputs": [
    {
     "data": {
      "text/html": [
       "<pre style=\"color:slategray;max-height:100px;overflow:hidden\" \n",
       "onclick=\"\n",
       "if (this.style.maxHeight === 'none') \n",
       "    this.style.maxHeight = '100px';\n",
       "else\n",
       "    this.style.maxHeight = 'none'; \n",
       "\">val shuffle : 'a list -&gt; 'a list = &lt;fun&gt;\n",
       "</pre>"
      ]
     },
     "execution_count": 3,
     "metadata": {},
     "output_type": "execute_result"
    }
   ],
   "source": [
    "let shuffle d =\n",
    "    let nd = List.map (fun c -> (Random.bits (), c)) d in\n",
    "    let sond = List.sort compare nd in\n",
    "    List.map snd sond"
   ]
  },
  {
   "cell_type": "code",
   "execution_count": 4,
   "metadata": {
    "collapsed": false,
    "deletable": true,
    "editable": true
   },
   "outputs": [
    {
     "data": {
      "text/html": [
       "<pre style=\"color:slategray;max-height:100px;overflow:hidden\" \n",
       "onclick=\"\n",
       "if (this.style.maxHeight === 'none') \n",
       "    this.style.maxHeight = '100px';\n",
       "else\n",
       "    this.style.maxHeight = 'none'; \n",
       "\">val tirage : int -&gt; bool = &lt;fun&gt;\n",
       "</pre>"
      ]
     },
     "execution_count": 4,
     "metadata": {},
     "output_type": "execute_result"
    },
    {
     "data": {
      "text/html": [
       "<pre style=\"color:slategray;max-height:100px;overflow:hidden\" \n",
       "onclick=\"\n",
       "if (this.style.maxHeight === 'none') \n",
       "    this.style.maxHeight = '100px';\n",
       "else\n",
       "    this.style.maxHeight = 'none'; \n",
       "\">val simulation : int -&gt; int -&gt; float = &lt;fun&gt;\n",
       "</pre>"
      ]
     },
     "execution_count": 4,
     "metadata": {},
     "output_type": "execute_result"
    }
   ],
   "source": [
    "let tirage n =\n",
    "    \"à compléter\"\n",
    "    \n",
    "let simulation nbre_eleves nbre_simul =\n",
    "    \"à compléter\"\n"
   ]
  },
  {
   "cell_type": "code",
   "execution_count": 5,
   "metadata": {
    "collapsed": false,
    "deletable": true,
    "editable": true
   },
   "outputs": [
    {
     "data": {
      "text/html": [
       "<pre style=\"color:slategray;max-height:100px;overflow:hidden\" \n",
       "onclick=\"\n",
       "if (this.style.maxHeight === 'none') \n",
       "    this.style.maxHeight = '100px';\n",
       "else\n",
       "    this.style.maxHeight = 'none'; \n",
       "\">val proba : int * int -&gt; float = &lt;fun&gt;\n",
       "</pre>"
      ]
     },
     "execution_count": 5,
     "metadata": {},
     "output_type": "execute_result"
    }
   ],
   "source": [
    "let rec proba = \n",
    "    \"à compléter\"\n"
   ]
  },
  {
   "cell_type": "code",
   "execution_count": 6,
   "metadata": {
    "collapsed": false,
    "deletable": true,
    "editable": true
   },
   "outputs": [
    {
     "name": "stdout",
     "output_type": "stream",
     "text": [
      "2 0.5\n",
      "3 0.333333333333\n",
      "4 0.375\n",
      "5 0.366666666667\n",
      "6 0.368055555556\n",
      "7 0.367857142857\n",
      "8 0.367881944444\n",
      "9 0.367879188713\n",
      "10 0.367879464286\n",
      "11 0.367879439234\n",
      "12 0.367879441321\n",
      "13 0.367879441161\n",
      "14 0.367879441172\n",
      "15 0.367879441171\n",
      "16 0.367879441171\n",
      "17 0.367879441171\n",
      "18 0.367879441171\n",
      "19 0.367879441171\n",
      "20 0.367879441171\n"
     ]
    },
    {
     "data": {
      "text/html": [
       "<pre style=\"color:slategray;max-height:100px;overflow:hidden\" \n",
       "onclick=\"\n",
       "if (this.style.maxHeight === 'none') \n",
       "    this.style.maxHeight = '100px';\n",
       "else\n",
       "    this.style.maxHeight = 'none'; \n",
       "\">- : unit = ()\n",
       "</pre>"
      ]
     },
     "execution_count": 6,
     "metadata": {},
     "output_type": "execute_result"
    }
   ],
   "source": [
    "for n =2 to 20 do\n",
    "    print_int n;print_string \" \";print_float (proba(n,0));print_newline();\n",
    "done;"
   ]
  },
  {
   "cell_type": "code",
   "execution_count": 7,
   "metadata": {
    "collapsed": false,
    "deletable": true,
    "editable": true
   },
   "outputs": [
    {
     "data": {
      "text/html": [
       "<pre style=\"color:slategray;max-height:100px;overflow:hidden\" \n",
       "onclick=\"\n",
       "if (this.style.maxHeight === 'none') \n",
       "    this.style.maxHeight = '100px';\n",
       "else\n",
       "    this.style.maxHeight = 'none'; \n",
       "\">val range : int -&gt; int -&gt; int list = &lt;fun&gt;\n",
       "</pre>"
      ]
     },
     "execution_count": 7,
     "metadata": {},
     "output_type": "execute_result"
    },
    {
     "data": {
      "text/html": [
       "<pre style=\"color:slategray;max-height:100px;overflow:hidden\" \n",
       "onclick=\"\n",
       "if (this.style.maxHeight === 'none') \n",
       "    this.style.maxHeight = '100px';\n",
       "else\n",
       "    this.style.maxHeight = 'none'; \n",
       "\">val liste_n : int list =\n",
       "  [2; 3; 4; 5; 6; 7; 8; 9; 10; 11; 12; 13; 14; 15; 16; 17; 18; 19]\n",
       "</pre>"
      ]
     },
     "execution_count": 7,
     "metadata": {},
     "output_type": "execute_result"
    }
   ],
   "source": [
    "let liste_n = range 2 20;;"
   ]
  },
  {
   "cell_type": "code",
   "execution_count": 8,
   "metadata": {
    "collapsed": false,
    "deletable": true,
    "editable": true
   },
   "outputs": [
    {
     "data": {
      "text/html": [
       "<pre style=\"color:slategray;max-height:100px;overflow:hidden\" \n",
       "onclick=\"\n",
       "if (this.style.maxHeight === 'none') \n",
       "    this.style.maxHeight = '100px';\n",
       "else\n",
       "    this.style.maxHeight = 'none'; \n",
       "\">val liste_proba : float list =\n",
       "  [0.5; 0.333333333333333315; 0.375; 0.366666666666666641;\n",
       "   0.368055555555555525; 0.367857142857142827; 0.367881944444444386;\n",
       "   0.367879188712522; 0.367879464285714275; 0.367879439233605887;\n",
       "   0.367879441321281586; 0.367879441160691156; 0.367879441172161925;\n",
       "   0.367879441171397259; 0.367879441171445054; 0.367879441171442279;\n",
       "   0.367879441171442445; 0.36787944117144239]\n",
       "</pre>"
      ]
     },
     "execution_count": 8,
     "metadata": {},
     "output_type": "execute_result"
    }
   ],
   "source": [
    "let liste_proba = List.map (fun n-> proba(n,0)) liste_n;;"
   ]
  },
  {
   "cell_type": "code",
   "execution_count": 9,
   "metadata": {
    "collapsed": false,
    "deletable": true,
    "editable": true
   },
   "outputs": [
    {
     "data": {
      "text/html": [
       "<pre style=\"color:slategray;max-height:100px;overflow:hidden\" \n",
       "onclick=\"\n",
       "if (this.style.maxHeight === 'none') \n",
       "    this.style.maxHeight = '100px';\n",
       "else\n",
       "    this.style.maxHeight = 'none'; \n",
       "\">val liste_simul : float list =\n",
       "  [0.50048; 0.3307; 0.37542; 0.3682; 0.3691; 0.36632; 0.3679; 0.37156;\n",
       "   0.36614; 0.36838; 0.37064; 0.36544; 0.36852; 0.3673; 0.36662; 0.36698;\n",
       "   0.36938; 0.3673]\n",
       "</pre>"
      ]
     },
     "execution_count": 9,
     "metadata": {},
     "output_type": "execute_result"
    }
   ],
   "source": [
    "let liste_simul = List.map (fun n-> simulation n 50000) liste_n;;"
   ]
  },
  {
   "cell_type": "code",
   "execution_count": 10,
   "metadata": {
    "collapsed": false,
    "deletable": true,
    "editable": true
   },
   "outputs": [
    {
     "name": "stdout",
     "output_type": "stream",
     "text": [
      "- : unit = ()\n",
      "Findlib has been successfully loaded. Additional directives:\n",
      "  #require \"package\";;      to load a package\n",
      "  #list;;                   to list the available packages\n",
      "  #camlp4o;;                to load camlp4 (standard syntax)\n",
      "  #camlp4r;;                to load camlp4 (revised syntax)\n",
      "  #predicates \"p,q,...\";;   to set these predicates\n",
      "  Topfind.reset();;         to force that packages will be reloaded\n",
      "  #thread;;                 to enable threads\n",
      "\n",
      "- : unit = ()\n"
     ]
    },
    {
     "name": "stderr",
     "output_type": "stream",
     "text": [
      "/usr/lib/ocaml/plplot: added to search path\n",
      "/usr/lib/ocaml/plplot/plplot.cma: loaded\n"
     ]
    },
    {
     "data": {
      "text/html": [
       "<pre style=\"color:slategray;max-height:100px;overflow:hidden\" \n",
       "onclick=\"\n",
       "if (this.style.maxHeight === 'none') \n",
       "    this.style.maxHeight = '100px';\n",
       "else\n",
       "    this.style.maxHeight = 'none'; \n",
       "\">module P = Plplot.Plot\n",
       "</pre>"
      ]
     },
     "execution_count": 10,
     "metadata": {},
     "output_type": "execute_result"
    },
    {
     "data": {
      "text/html": [
       "<pre style=\"color:slategray;max-height:100px;overflow:hidden\" \n",
       "onclick=\"\n",
       "if (this.style.maxHeight === 'none') \n",
       "    this.style.maxHeight = '100px';\n",
       "else\n",
       "    this.style.maxHeight = 'none'; \n",
       "\">val couleurs_list : int list list =\n",
       "  [[0; 255; 255; 255]; [1; 0; 0; 0]; [2; 0; 0; 255]; [3; 255; 0; 0];\n",
       "   [4; 165; 42; 42]; [5; 0; 0; 0]; [6; 0; 0; 0]; [7; 0; 0; 0]; [8; 0; 0; 0];\n",
       "   [9; 0; 0; 0]; [10; 200; 200; 200]; [11; 0; 255; 255]; [12; 0; 255; 0];\n",
       "   [13; 255; 255; 0]; [14; 255; 0; 255]; [15; 160; 0; 213]]\n",
       "</pre>"
      ]
     },
     "execution_count": 10,
     "metadata": {},
     "output_type": "execute_result"
    },
    {
     "data": {
      "text/html": [
       "<pre style=\"color:slategray;max-height:100px;overflow:hidden\" \n",
       "onclick=\"\n",
       "if (this.style.maxHeight === 'none') \n",
       "    this.style.maxHeight = '100px';\n",
       "else\n",
       "    this.style.maxHeight = 'none'; \n",
       "\">val loop : int list list -&gt; unit = &lt;fun&gt;\n",
       "</pre>"
      ]
     },
     "execution_count": 10,
     "metadata": {},
     "output_type": "execute_result"
    },
    {
     "data": {
      "text/html": [
       "<pre style=\"color:slategray;max-height:100px;overflow:hidden\" \n",
       "onclick=\"\n",
       "if (this.style.maxHeight === 'none') \n",
       "    this.style.maxHeight = '100px';\n",
       "else\n",
       "    this.style.maxHeight = 'none'; \n",
       "\">val couleurs : unit -&gt; unit = &lt;fun&gt;\n",
       "</pre>"
      ]
     },
     "execution_count": 10,
     "metadata": {},
     "output_type": "execute_result"
    },
    {
     "data": {
      "text/html": [
       "<pre style=\"color:slategray;max-height:100px;overflow:hidden\" \n",
       "onclick=\"\n",
       "if (this.style.maxHeight === 'none') \n",
       "    this.style.maxHeight = '100px';\n",
       "else\n",
       "    this.style.maxHeight = 'none'; \n",
       "\">val initialisation : string -&gt; float -&gt; float -&gt; float -&gt; float -&gt; P.stream_t =\n",
       "  &lt;fun&gt;\n",
       "</pre>"
      ]
     },
     "execution_count": 10,
     "metadata": {},
     "output_type": "execute_result"
    },
    {
     "data": {
      "text/html": [
       "<pre style=\"color:slategray;max-height:100px;overflow:hidden\" \n",
       "onclick=\"\n",
       "if (this.style.maxHeight === 'none') \n",
       "    this.style.maxHeight = '100px';\n",
       "else\n",
       "    this.style.maxHeight = 'none'; \n",
       "\">val xlabel : string -&gt; P.plot_t = &lt;fun&gt;\n",
       "</pre>"
      ]
     },
     "execution_count": 10,
     "metadata": {},
     "output_type": "execute_result"
    },
    {
     "data": {
      "text/html": [
       "<pre style=\"color:slategray;max-height:100px;overflow:hidden\" \n",
       "onclick=\"\n",
       "if (this.style.maxHeight === 'none') \n",
       "    this.style.maxHeight = '100px';\n",
       "else\n",
       "    this.style.maxHeight = 'none'; \n",
       "\">val ylabel : string -&gt; P.plot_t = &lt;fun&gt;\n",
       "</pre>"
      ]
     },
     "execution_count": 10,
     "metadata": {},
     "output_type": "execute_result"
    },
    {
     "data": {
      "text/html": [
       "<pre style=\"color:slategray;max-height:100px;overflow:hidden\" \n",
       "onclick=\"\n",
       "if (this.style.maxHeight === 'none') \n",
       "    this.style.maxHeight = '100px';\n",
       "else\n",
       "    this.style.maxHeight = 'none'; \n",
       "\">val label : string -&gt; string -&gt; string -&gt; P.plot_t = &lt;fun&gt;\n",
       "</pre>"
      ]
     },
     "execution_count": 10,
     "metadata": {},
     "output_type": "execute_result"
    }
   ],
   "source": [
    "#use \"topfind\";;\n",
    "#require \"plplot\";;\n",
    "open Plplot;;\n",
    "module P = Plot;;\n",
    "let couleurs_list = [[ 0;255;255;255]; (*`white*)\n",
    "                     [ 1;  0;  0;  0]; (*`black*)\n",
    "                     [ 2;  0;  0;255]; (*`blue*)\n",
    "                     [ 3;255;  0;  0]; (*`red*)\n",
    "                     [ 4;165; 42; 42]; (*`brown*)\n",
    "                     [ 5;  0;  0;  0]; [ 6;  0;  0;  0]; [ 7;  0;  0;  0]; [ 8;  0;  0;  0]; [ 9;  0;  0;  0]; \n",
    "                     [10;200;200;200]; (*`gray*)\n",
    "                     [11;  0;255;255]; (*`light_blue*)\n",
    "                     [12;  0;255;  0]; (*`green*)\n",
    "                     [13;255;255;  0]; (*`yellow*)\n",
    "                     [14;255;  0;255]; (*`pink*)\n",
    "                     [15;160;  0;213]; (*`purple*) ]\n",
    "let rec loop couleurs_list = match couleurs_list with\n",
    "    | [n;r;g;b]::tl -> plscol0 n r g b; loop tl\n",
    "    | _ -> ();;\n",
    "let couleurs = (fun () -> plscolbg 255 255 255; loop couleurs_list)\n",
    "let initialisation filename xmin xmax ymin ymax = \n",
    "        P.init (xmin, ymin) (xmax, ymax) `greedy (`svg `core) ~filename:(filename^\".svg\") ~pre:couleurs\n",
    "let xlabel texte = P.text_outside `black (`bottom 0.5) 3. texte\n",
    "let ylabel texte = P.text_outside `black (`left 0.5) 5. texte \n",
    "let label texte_x texte_y titre = P.label texte_x texte_y titre"
   ]
  },
  {
   "cell_type": "code",
   "execution_count": 11,
   "metadata": {
    "collapsed": false,
    "deletable": true,
    "editable": true
   },
   "outputs": [
    {
     "data": {
      "text/html": [
       "<pre style=\"color:slategray;max-height:100px;overflow:hidden\" \n",
       "onclick=\"\n",
       "if (this.style.maxHeight === 'none') \n",
       "    this.style.maxHeight = '100px';\n",
       "else\n",
       "    this.style.maxHeight = 'none'; \n",
       "\">- : unit = ()\n",
       "</pre>"
      ]
     },
     "execution_count": 11,
     "metadata": {},
     "output_type": "execute_result"
    }
   ],
   "source": [
    "let xs = Array.of_list (List.map float_of_int liste_n) in\n",
    "let ys = Array.of_list liste_proba in\n",
    "let ys' = Array.of_list liste_simul in\n",
    "let p = initialisation \"graph\" 2. 20. 0.3 0.55 in\n",
    "P.plot ~stream:p [P.lines `green xs ys; P.lines `blue xs ys'; \n",
    "                  xlabel \"nombre d'eleves\"; ylabel \"probabilité qu'aucun élève ne soit à sa place\";\n",
    "                  P.legend [[P.line_legend \"simulation\" `blue];\n",
    "                            [P.line_legend \"théorie\" `green]]];\n",
    "P.finish ~stream:p ();;"
   ]
  },
  {
   "cell_type": "markdown",
   "metadata": {
    "deletable": true,
    "editable": true
   },
   "source": [
    "<img src=\"./graph.svg\" width=750 />"
   ]
  },
  {
   "cell_type": "code",
   "execution_count": null,
   "metadata": {
    "collapsed": true,
    "deletable": true,
    "editable": true
   },
   "outputs": [],
   "source": []
  }
 ],
 "metadata": {
  "kernelspec": {
   "display_name": "OCaml",
   "language": "ocaml",
   "name": "iocaml"
  },
  "language_info": {
   "name": "ocaml",
   "version": "4.1.0"
  }
 },
 "nbformat": 4,
 "nbformat_minor": 2
}
