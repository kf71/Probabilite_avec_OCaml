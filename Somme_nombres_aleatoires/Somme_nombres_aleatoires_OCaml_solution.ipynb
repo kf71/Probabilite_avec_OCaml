{
 "cells": [
  {
   "cell_type": "markdown",
   "metadata": {},
   "source": [
    "<h1>Somme de nombres aléatoires</h1>\n",
    "\n",
    "<h2>Présentation</h2>\n",
    "\n",
    "On tire au hasard des nombres entre 0 et 1.\n",
    "\n",
    "En moyenne, combien de nombres faut-il tirer pour que la somme dépasse 1 ?"
   ]
  },
  {
   "cell_type": "code",
   "execution_count": 7,
   "metadata": {
    "collapsed": false
   },
   "outputs": [
    {
     "data": {
      "text/html": [
       "<pre style=\"color:slategray;max-height:100px;overflow:hidden\" \n",
       "onclick=\"\n",
       "if (this.style.maxHeight === 'none') \n",
       "    this.style.maxHeight = '100px';\n",
       "else\n",
       "    this.style.maxHeight = 'none'; \n",
       "\">- : unit -&gt; unit = &lt;fun&gt;\n",
       "</pre>"
      ]
     },
     "execution_count": 7,
     "metadata": {},
     "output_type": "execute_result"
    },
    {
     "data": {
      "text/html": [
       "<pre style=\"color:slategray;max-height:100px;overflow:hidden\" \n",
       "onclick=\"\n",
       "if (this.style.maxHeight === 'none') \n",
       "    this.style.maxHeight = '100px';\n",
       "else\n",
       "    this.style.maxHeight = 'none'; \n",
       "\">val tirage : unit -&gt; int = &lt;fun&gt;\n",
       "</pre>"
      ]
     },
     "execution_count": 7,
     "metadata": {},
     "output_type": "execute_result"
    },
    {
     "data": {
      "text/html": [
       "<pre style=\"color:slategray;max-height:100px;overflow:hidden\" \n",
       "onclick=\"\n",
       "if (this.style.maxHeight === 'none') \n",
       "    this.style.maxHeight = '100px';\n",
       "else\n",
       "    this.style.maxHeight = 'none'; \n",
       "\">val simulation : int -&gt; float = &lt;fun&gt;\n",
       "</pre>"
      ]
     },
     "execution_count": 7,
     "metadata": {},
     "output_type": "execute_result"
    },
    {
     "data": {
      "text/html": [
       "<pre style=\"color:slategray;max-height:100px;overflow:hidden\" \n",
       "onclick=\"\n",
       "if (this.style.maxHeight === 'none') \n",
       "    this.style.maxHeight = '100px';\n",
       "else\n",
       "    this.style.maxHeight = 'none'; \n",
       "\">- : float = 2.71795\n",
       "</pre>"
      ]
     },
     "execution_count": 7,
     "metadata": {},
     "output_type": "execute_result"
    }
   ],
   "source": [
    "open Random;;\n",
    "Random.self_init;;\n",
    "\n",
    "let tirage () =\n",
    "    let rec loop s count  =\n",
    "      if s < 1. then loop (s+.(Random.float 1.)) (count+1)\n",
    "      else count in\n",
    "    loop 0. 0;;\n",
    "      \n",
    "let simulation nbre_simul =\n",
    "    let rec loop num_simul res =\n",
    "        if num_simul < nbre_simul then loop (num_simul+1) (res+tirage())\n",
    "        else float_of_int res /. (float_of_int nbre_simul) in\n",
    "    loop 0 0;;\n",
    "\n",
    "simulation 100000"
   ]
  },
  {
   "cell_type": "markdown",
   "metadata": {},
   "source": [
    "<h2>Solution</h2>\n",
    "\n",
    "<h3>Théorème</h3>\n",
    "Soit $a$ un réel compris entre 0 et 1. Soient $\\{X_i\\}$ un ensemble de $n$ variables aléatoires {\\bf indépendantes} suivant la loi uniforme sur $[0,1]$.\n",
    "$\\forall n\\in\\mathbb{N}^*\\quad P(X_1+X_2+\\dots+X_n\\leq a)=\\frac{a^n}{n!}$.\n",
    "\n",
    "<h3>Démonstration</h3> La proposition est vraie pour $n=1$.<br>\n",
    "Pour $n=2$,<br> $\\displaystyle P(X_1+X_2\\leq a)\n",
    "=\\frac{\\textrm{surface triangle}}{\\textrm{surface carré}}\n",
    "=\\frac{\\displaystyle\\int_{X_1=0}^a\\int_{X_2=0}^{a-X_1} \\textrm{d} X_2.\\textrm{d}X_1}{\\displaystyle\\int_{X_1=0}^1\\int_{X_2=0}^{1} \\textrm{d} X_2.\\textrm{d}X_1}\n",
    "=\\frac{\\displaystyle\\int_{X_1=0}^a\\left(\\int_{X_2=0}^{a-X_1} \\textrm{d} X_2\\right).\\textrm{d}X_1}{\\displaystyle\\int_{X_1=0}^1 \\left(\\int_{X_2=0}^{1} \\textrm{d} X_2\\right).\\textrm{d}X_1}<br>\n",
    "=\\frac{\\displaystyle\\int_{X_1=0}^a (a-X_1).\\textrm{d}X_1}{\\displaystyle\\int_{X_1=0}^1 1.\\textrm{d}X_1}\n",
    "=\\frac{\\frac12.a^2}{1}$\n",
    "\n",
    "<img src=\"./somme_nombres_aleatoires_fig1.svg\" />\n",
    "\n",
    "Pour $n=3$,<br> $\\displaystyle P(X_1+X_2+X_3\\leq a)\n",
    "=\\frac{\\textrm{volume trièdre}}{\\textrm{volume cube}}\n",
    "=\\frac{\\displaystyle\\int_{X_1=0}^a\\int_{X_2=0}^{a-X_1}\\int_{X_3=0}^{a-X_1-X_2} \\textrm{d} X_3.\\textrm{d} X_2.\\textrm{d}X_1}{\\displaystyle\\int_{X_1=0}^1\\int_{X_2=0}^{1}\\int_{X_3=0}^{1} \\textrm{d} X_3.\\textrm{d} X_2.\\textrm{d}X_1}<br>\n",
    "%\n",
    "=\\frac{\\displaystyle\\int_{X_1=0}^a\\left(\\int_{X_2=0}^{a-X_1}\\left(\\int_{X_3=0}^{a-X_1-X_2} \\textrm{d} X_3\\right) \\textrm{d} X_2\\right).\\textrm{d}X_1}{\\displaystyle\\int_{X_1=0}^1 \\left(\\int_{X_2=0}^{1} \\left(\\int_{X_3=0}^{1} \\textrm{d} X_3\\right)\\textrm{d} X_2\\right).\\textrm{d}X_1}\n",
    "%\n",
    "=\\frac{\\displaystyle\\int_{X_1=0}^a\\left(\\int_{X_2=0}^{a-X_1}(a-X_1-X_2).\\textrm{d} X_2\\right).\\textrm{d}X_1}\n",
    "{\\displaystyle\\int_{X_1=0}^1 \\left(\\int_{X_2=0}^{1} \\textrm{d} X_2\\right).\\textrm{d}X_1}<br>\n",
    "%\n",
    "=\\frac{\\displaystyle\\int_{X_1=0}^a \\frac{(a-X_1)^2}{2}.\\textrm{d}X_1}\n",
    "{\\displaystyle\\int_{X_1=0}^1 \\textrm{d}X_1}\n",
    "%\n",
    "=\\frac{\\frac1{3!}.a^3}{1}$\n",
    "\n",
    "<img src=\"./somme_nombres_aleatoires_fig2.svg\" />\n",
    "\n",
    "On démontre par récurrence que $\\displaystyle P(X_1+X_2+\\dots+X_n\\leq a)\n",
    "=\\frac{\\textrm{volume hyper-prisme}}{\\textrm{volume hyper-cube}}=\\frac{a^n}{n!}$.\n",
    "\n",
    "<h3>Réponse à la question initiale</h3>\n",
    "\n",
    "Soit $Y$ la variable aléatoire donnant le plus petit nombre de variables $X_i$\n",
    "pour que $\\displaystyle\\sum_{i=1}^{Y}X_i\\geq 1$.\n",
    "\n",
    "On a $Y=n$ si $(X_1+\\dots+X_{n-1})<1$ et $(X_1+\\dots+X_{n-1}+X_n)\\geq1$\n",
    "\n",
    "On a $P(Y=n)=P(X_1+\\dots+X_{n-1}<1)-P(X_1+\\dots+X_{n}<1)=\\frac1{(n-1)!}-\\frac1{n!}=\\frac{n-1}{n!}$.\n",
    "\n",
    "L'espérance de $Y$ est donc:\n",
    "\n",
    "$\\displaystyle E(Y)=\\sum_{n\\geq1} n.P(Y=n)=\\sum_{n\\geq1} n.\\sum_{n\\geq1}\\frac{n-1}{n!}=\\sum_{n\\geq1}\\frac{n-1}{(n-1)!}=\\sum_{n\\geq2}\\frac{1}{(n-2)!}=e$.\n",
    "\n",
    "En moyenne, il faut faire la somme de $e$ tirages pour avoir un nombre supérieur à 1."
   ]
  },
  {
   "cell_type": "code",
   "execution_count": null,
   "metadata": {
    "collapsed": true
   },
   "outputs": [],
   "source": []
  }
 ],
 "metadata": {
  "kernelspec": {
   "display_name": "OCaml",
   "language": "ocaml",
   "name": "iocaml"
  },
  "language_info": {
   "name": "ocaml",
   "version": "4.1.0"
  }
 },
 "nbformat": 4,
 "nbformat_minor": 2
}
