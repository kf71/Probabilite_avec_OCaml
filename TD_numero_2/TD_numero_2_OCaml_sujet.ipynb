{
 "cells": [
  {
   "cell_type": "markdown",
   "metadata": {
    "deletable": true,
    "editable": true
   },
   "source": [
    "<h1> TD n°2</h1>\n",
    "\n",
    "<h2>Exercice 1</h2>\n",
    "\n",
    "Un objet a une probabilité $\\frac12$ de se trouver dans une commode.\n",
    "\n",
    "Quand il s'y trouve, il a des chances égales de se trouver dans chacun des 9 tiroirs de la commode.\n",
    "\n",
    "<ol>\n",
    "<li>  Ecrire un programme qui simule l'expérience aléatoire et qui retourne non commode ou le tiroir dans lequel se trouve l'objet.\n",
    "<li> Ecrire un programme, qui prend en argument le nombre $r$ de fois où on a répété l'expérience pour notre simulation, et qui retourne une estimation de la probabilité que l'objet se trouve dans le 9$^{i\\grave eme}$ tiroir.\n",
    "<li> Ecrire un programme, qui prend en argument le nombre $r$ de fois où on a répété l'expérience pour notre simulation, et qui retourne une estimation de la probabilité que l'objet ne soit pas dans les 8 premiers tiroirs.\n",
    "<li> Après avoir ouvert les 8 premiers tiroirs, on constate que l'objet n'y est pas.<br>\n",
    "Ecrire un programme, qui prend en argument le nombre $r$ de fois où on a répété l'expérience pour notre simulation, et qui retourne une estimation de la probabilité que l'objet dans le 9$^{i\\grave eme}$ tiroir\n",
    "</ol>"
   ]
  },
  {
   "cell_type": "code",
   "execution_count": 1,
   "metadata": {
    "collapsed": false,
    "deletable": true,
    "editable": true
   },
   "outputs": [
    {
     "name": "stdout",
     "output_type": "stream",
     "text": [
      "TD Ex 1: commode\n",
      "0"
     ]
    },
    {
     "data": {
      "text/html": [
       "<pre style=\"color:slategray;max-height:100px;overflow:hidden\" \n",
       "onclick=\"\n",
       "if (this.style.maxHeight === 'none') \n",
       "    this.style.maxHeight = '100px';\n",
       "else\n",
       "    this.style.maxHeight = 'none'; \n",
       "\">- : unit -&gt; unit = &lt;fun&gt;\n",
       "</pre>"
      ]
     },
     "execution_count": 1,
     "metadata": {},
     "output_type": "execute_result"
    },
    {
     "data": {
      "text/html": [
       "<pre style=\"color:slategray;max-height:100px;overflow:hidden\" \n",
       "onclick=\"\n",
       "if (this.style.maxHeight === 'none') \n",
       "    this.style.maxHeight = '100px';\n",
       "else\n",
       "    this.style.maxHeight = 'none'; \n",
       "\">- : unit = ()\n",
       "</pre>"
      ]
     },
     "execution_count": 1,
     "metadata": {},
     "output_type": "execute_result"
    },
    {
     "data": {
      "text/html": [
       "<pre style=\"color:slategray;max-height:100px;overflow:hidden\" \n",
       "onclick=\"\n",
       "if (this.style.maxHeight === 'none') \n",
       "    this.style.maxHeight = '100px';\n",
       "else\n",
       "    this.style.maxHeight = 'none'; \n",
       "\">val commode : unit -&gt; int = &lt;fun&gt;\n",
       "</pre>"
      ]
     },
     "execution_count": 1,
     "metadata": {},
     "output_type": "execute_result"
    },
    {
     "data": {
      "text/html": [
       "<pre style=\"color:slategray;max-height:100px;overflow:hidden\" \n",
       "onclick=\"\n",
       "if (this.style.maxHeight === 'none') \n",
       "    this.style.maxHeight = '100px';\n",
       "else\n",
       "    this.style.maxHeight = 'none'; \n",
       "\">- : unit = ()\n",
       "</pre>"
      ]
     },
     "execution_count": 1,
     "metadata": {},
     "output_type": "execute_result"
    }
   ],
   "source": [
    "open Random;;\n",
    "Random.self_init;;\n",
    "\n",
    "(*TD Ex 1*)\n",
    "print_string \"TD Ex 1: commode\\n\";;\n",
    "let commode()=\n",
    "    \"à compléter\"\n",
    "print_int(commode());;"
   ]
  },
  {
   "cell_type": "code",
   "execution_count": 2,
   "metadata": {
    "collapsed": false,
    "deletable": true,
    "editable": true
   },
   "outputs": [
    {
     "name": "stdout",
     "output_type": "stream",
     "text": [
      "0.04984"
     ]
    },
    {
     "data": {
      "text/html": [
       "<pre style=\"color:slategray;max-height:100px;overflow:hidden\" \n",
       "onclick=\"\n",
       "if (this.style.maxHeight === 'none') \n",
       "    this.style.maxHeight = '100px';\n",
       "else\n",
       "    this.style.maxHeight = 'none'; \n",
       "\">val tiroir9 : int -&gt; float = &lt;fun&gt;\n",
       "</pre>"
      ]
     },
     "execution_count": 2,
     "metadata": {},
     "output_type": "execute_result"
    },
    {
     "data": {
      "text/html": [
       "<pre style=\"color:slategray;max-height:100px;overflow:hidden\" \n",
       "onclick=\"\n",
       "if (this.style.maxHeight === 'none') \n",
       "    this.style.maxHeight = '100px';\n",
       "else\n",
       "    this.style.maxHeight = 'none'; \n",
       "\">- : unit = ()\n",
       "</pre>"
      ]
     },
     "execution_count": 2,
     "metadata": {},
     "output_type": "execute_result"
    }
   ],
   "source": [
    "let tiroir9 nbre_essais =\n",
    "    \"à compléter\"\n",
    "print_float(tiroir9 100000);; (* 1/9*1/2 *)"
   ]
  },
  {
   "cell_type": "code",
   "execution_count": 3,
   "metadata": {
    "collapsed": false,
    "deletable": true,
    "editable": true
   },
   "outputs": [
    {
     "name": "stdout",
     "output_type": "stream",
     "text": [
      "0.5489"
     ]
    },
    {
     "data": {
      "text/html": [
       "<pre style=\"color:slategray;max-height:100px;overflow:hidden\" \n",
       "onclick=\"\n",
       "if (this.style.maxHeight === 'none') \n",
       "    this.style.maxHeight = '100px';\n",
       "else\n",
       "    this.style.maxHeight = 'none'; \n",
       "\">val tiroir_pas_1_a_8 : int -&gt; float = &lt;fun&gt;\n",
       "</pre>"
      ]
     },
     "execution_count": 3,
     "metadata": {},
     "output_type": "execute_result"
    },
    {
     "data": {
      "text/html": [
       "<pre style=\"color:slategray;max-height:100px;overflow:hidden\" \n",
       "onclick=\"\n",
       "if (this.style.maxHeight === 'none') \n",
       "    this.style.maxHeight = '100px';\n",
       "else\n",
       "    this.style.maxHeight = 'none'; \n",
       "\">- : unit = ()\n",
       "</pre>"
      ]
     },
     "execution_count": 3,
     "metadata": {},
     "output_type": "execute_result"
    }
   ],
   "source": [
    "let tiroir_pas_1_a_8 nbre_essais =\n",
    "    \"à compléter\"\n",
    "print_float(tiroir_pas_1_a_8 100000);; (* 1/2+1/2*(1/9) *)"
   ]
  },
  {
   "cell_type": "code",
   "execution_count": 4,
   "metadata": {
    "collapsed": false,
    "deletable": true,
    "editable": true
   },
   "outputs": [
    {
     "name": "stdout",
     "output_type": "stream",
     "text": [
      "0.09113"
     ]
    },
    {
     "data": {
      "text/html": [
       "<pre style=\"color:slategray;max-height:100px;overflow:hidden\" \n",
       "onclick=\"\n",
       "if (this.style.maxHeight === 'none') \n",
       "    this.style.maxHeight = '100px';\n",
       "else\n",
       "    this.style.maxHeight = 'none'; \n",
       "\">val tiroir_9_si_pas_1_a_8 : int -&gt; float = &lt;fun&gt;\n",
       "</pre>"
      ]
     },
     "execution_count": 4,
     "metadata": {},
     "output_type": "execute_result"
    },
    {
     "data": {
      "text/html": [
       "<pre style=\"color:slategray;max-height:100px;overflow:hidden\" \n",
       "onclick=\"\n",
       "if (this.style.maxHeight === 'none') \n",
       "    this.style.maxHeight = '100px';\n",
       "else\n",
       "    this.style.maxHeight = 'none'; \n",
       "\">- : unit = ()\n",
       "</pre>"
      ]
     },
     "execution_count": 4,
     "metadata": {},
     "output_type": "execute_result"
    }
   ],
   "source": [
    "let tiroir_9_si_pas_1_a_8 nbre_essais =\n",
    "    \"à compléter\"\n",
    "print_float(tiroir_9_si_pas_1_a_8 100000)"
   ]
  },
  {
   "cell_type": "markdown",
   "metadata": {
    "deletable": true,
    "editable": true
   },
   "source": [
    "<h2>Exercice 2</h2>\n",
    "Une urne $A$ contient quatre boules rouges et six boules noires.\n",
    "<br>\n",
    "Une urne $B$ contient une boule rouge et neuf boules noires.\n",
    "<br>\n",
    "Un joueur dispose d'un dé à 6 faces, parfaitement équilibré, numérotés de 1 à 6.\n",
    "<br>\n",
    "Il le lance une fois :\n",
    "<ul>\n",
    "<li> S'il obtient 1, il tire au hasard une boule dans l'urne $A$.\n",
    "<li> Sinon, il tire au hasard une boule dans l'urne $B$.\n",
    "</ul>\n",
    "\n",
    "<ol>\n",
    "<li> Ecrire un programme qui simule l'expérience aléatoire et qui retourne l'urne dans laquelle on a tirée l'urne et la couleur de la boule tirée.\n",
    "<li> Ecrire un programme, qui prend en argument le nombre $r$ de fois où on a répété l'expérience pour notre simulation, et qui retourne une estimation de la probabilité que la boule tirée soit rouge.\n",
    "<li> Le joueur obtient une boule rouge.\n",
    "<br>\n",
    "Ecrire un programme, qui prend en argument le nombre $r$ de fois où on a répété l'expérience pour notre simulation, et qui retourne une estimation de la probabilité que la boule vienne de l'urne A.\n",
    "</ol>"
   ]
  },
  {
   "cell_type": "code",
   "execution_count": 5,
   "metadata": {
    "collapsed": false,
    "deletable": true,
    "editable": true
   },
   "outputs": [
    {
     "name": "stdout",
     "output_type": "stream",
     "text": [
      "TD Ex 2: urne A et B\n",
      "0.1344"
     ]
    },
    {
     "data": {
      "text/html": [
       "<pre style=\"color:slategray;max-height:100px;overflow:hidden\" \n",
       "onclick=\"\n",
       "if (this.style.maxHeight === 'none') \n",
       "    this.style.maxHeight = '100px';\n",
       "else\n",
       "    this.style.maxHeight = 'none'; \n",
       "\">- : unit = ()\n",
       "</pre>"
      ]
     },
     "execution_count": 5,
     "metadata": {},
     "output_type": "execute_result"
    },
    {
     "data": {
      "text/html": [
       "<pre style=\"color:slategray;max-height:100px;overflow:hidden\" \n",
       "onclick=\"\n",
       "if (this.style.maxHeight === 'none') \n",
       "    this.style.maxHeight = '100px';\n",
       "else\n",
       "    this.style.maxHeight = 'none'; \n",
       "\">val tirage2 : unit -&gt; string * string = &lt;fun&gt;\n",
       "</pre>"
      ]
     },
     "execution_count": 5,
     "metadata": {},
     "output_type": "execute_result"
    },
    {
     "data": {
      "text/html": [
       "<pre style=\"color:slategray;max-height:100px;overflow:hidden\" \n",
       "onclick=\"\n",
       "if (this.style.maxHeight === 'none') \n",
       "    this.style.maxHeight = '100px';\n",
       "else\n",
       "    this.style.maxHeight = 'none'; \n",
       "\">val rouge : int -&gt; float = &lt;fun&gt;\n",
       "</pre>"
      ]
     },
     "execution_count": 5,
     "metadata": {},
     "output_type": "execute_result"
    },
    {
     "data": {
      "text/html": [
       "<pre style=\"color:slategray;max-height:100px;overflow:hidden\" \n",
       "onclick=\"\n",
       "if (this.style.maxHeight === 'none') \n",
       "    this.style.maxHeight = '100px';\n",
       "else\n",
       "    this.style.maxHeight = 'none'; \n",
       "\">- : unit = ()\n",
       "</pre>"
      ]
     },
     "execution_count": 5,
     "metadata": {},
     "output_type": "execute_result"
    }
   ],
   "source": [
    "(*TD Ex 2*)\n",
    "print_string \"TD Ex 2: urne A et B\\n\";;\n",
    "let tirage2() =\n",
    "    \"à compléter\"\n",
    "let rouge nbre_essais =\n",
    "    \"à compléter\"\n",
    "print_float(rouge 10000) (* 1/6*4/10+5/6*1/10 *)"
   ]
  },
  {
   "cell_type": "code",
   "execution_count": 6,
   "metadata": {
    "collapsed": false,
    "deletable": true,
    "editable": true
   },
   "outputs": [
    {
     "name": "stdout",
     "output_type": "stream",
     "text": [
      "0.4404"
     ]
    },
    {
     "data": {
      "text/html": [
       "<pre style=\"color:slategray;max-height:100px;overflow:hidden\" \n",
       "onclick=\"\n",
       "if (this.style.maxHeight === 'none') \n",
       "    this.style.maxHeight = '100px';\n",
       "else\n",
       "    this.style.maxHeight = 'none'; \n",
       "\">val rouge_A : int -&gt; float = &lt;fun&gt;\n",
       "</pre>"
      ]
     },
     "execution_count": 6,
     "metadata": {},
     "output_type": "execute_result"
    },
    {
     "data": {
      "text/html": [
       "<pre style=\"color:slategray;max-height:100px;overflow:hidden\" \n",
       "onclick=\"\n",
       "if (this.style.maxHeight === 'none') \n",
       "    this.style.maxHeight = '100px';\n",
       "else\n",
       "    this.style.maxHeight = 'none'; \n",
       "\">- : unit = ()\n",
       "</pre>"
      ]
     },
     "execution_count": 6,
     "metadata": {},
     "output_type": "execute_result"
    }
   ],
   "source": [
    "let rouge_A nbre_essais =\n",
    "    \"à compléter\"\n",
    "print_float(rouge_A 10000);;"
   ]
  },
  {
   "cell_type": "markdown",
   "metadata": {
    "deletable": true,
    "editable": true
   },
   "source": [
    "<h2>Exercice 3</h2>\n",
    "Une urne contient deux boules blanches et quatre boules noires. On tire les boules une à une sans les remettre jusqu'à qu'il ne reste que des boules d'une seule couleur dans l'urne.\n",
    "<ol>\n",
    "<li> Ecrire un programme qui simule l'expérience aléatoire et qui retourne le nombre de tirages effectués.\n",
    "<li> Ecrire un programme, qui prend en argument le nombre $r$ de fois où on a répété l'expérience pour notre simulation, et qui retourne une estimation de la probabilité que l'on ait effectué 4 tirages.\n",
    "</ol>"
   ]
  },
  {
   "cell_type": "code",
   "execution_count": 9,
   "metadata": {
    "collapsed": false,
    "deletable": true,
    "editable": true
   },
   "outputs": [
    {
     "name": "stdout",
     "output_type": "stream",
     "text": [
      "TD Ex 3: urne tirage sans remise\n",
      "3\n",
      "0.2664"
     ]
    },
    {
     "data": {
      "text/html": [
       "<pre style=\"color:slategray;max-height:100px;overflow:hidden\" \n",
       "onclick=\"\n",
       "if (this.style.maxHeight === 'none') \n",
       "    this.style.maxHeight = '100px';\n",
       "else\n",
       "    this.style.maxHeight = 'none'; \n",
       "\">val list_init : int -&gt; 'a -&gt; 'a list = &lt;fun&gt;\n",
       "</pre>"
      ]
     },
     "execution_count": 9,
     "metadata": {},
     "output_type": "execute_result"
    },
    {
     "data": {
      "text/html": [
       "<pre style=\"color:slategray;max-height:100px;overflow:hidden\" \n",
       "onclick=\"\n",
       "if (this.style.maxHeight === 'none') \n",
       "    this.style.maxHeight = '100px';\n",
       "else\n",
       "    this.style.maxHeight = 'none'; \n",
       "\">val shuffle : 'a list -&gt; 'a list = &lt;fun&gt;\n",
       "</pre>"
      ]
     },
     "execution_count": 9,
     "metadata": {},
     "output_type": "execute_result"
    },
    {
     "data": {
      "text/html": [
       "<pre style=\"color:slategray;max-height:100px;overflow:hidden\" \n",
       "onclick=\"\n",
       "if (this.style.maxHeight === 'none') \n",
       "    this.style.maxHeight = '100px';\n",
       "else\n",
       "    this.style.maxHeight = 'none'; \n",
       "\">- : unit = ()\n",
       "</pre>"
      ]
     },
     "execution_count": 9,
     "metadata": {},
     "output_type": "execute_result"
    },
    {
     "data": {
      "text/html": [
       "<pre style=\"color:slategray;max-height:100px;overflow:hidden\" \n",
       "onclick=\"\n",
       "if (this.style.maxHeight === 'none') \n",
       "    this.style.maxHeight = '100px';\n",
       "else\n",
       "    this.style.maxHeight = 'none'; \n",
       "\">val tirage3 : unit -&gt; int = &lt;fun&gt;\n",
       "</pre>"
      ]
     },
     "execution_count": 9,
     "metadata": {},
     "output_type": "execute_result"
    },
    {
     "data": {
      "text/html": [
       "<pre style=\"color:slategray;max-height:100px;overflow:hidden\" \n",
       "onclick=\"\n",
       "if (this.style.maxHeight === 'none') \n",
       "    this.style.maxHeight = '100px';\n",
       "else\n",
       "    this.style.maxHeight = 'none'; \n",
       "\">- : unit = ()\n",
       "</pre>"
      ]
     },
     "execution_count": 9,
     "metadata": {},
     "output_type": "execute_result"
    },
    {
     "data": {
      "text/html": [
       "<pre style=\"color:slategray;max-height:100px;overflow:hidden\" \n",
       "onclick=\"\n",
       "if (this.style.maxHeight === 'none') \n",
       "    this.style.maxHeight = '100px';\n",
       "else\n",
       "    this.style.maxHeight = 'none'; \n",
       "\">- : unit = ()\n",
       "</pre>"
      ]
     },
     "execution_count": 9,
     "metadata": {},
     "output_type": "execute_result"
    },
    {
     "data": {
      "text/html": [
       "<pre style=\"color:slategray;max-height:100px;overflow:hidden\" \n",
       "onclick=\"\n",
       "if (this.style.maxHeight === 'none') \n",
       "    this.style.maxHeight = '100px';\n",
       "else\n",
       "    this.style.maxHeight = 'none'; \n",
       "\">val count_egal_4 : int -&gt; float = &lt;fun&gt;\n",
       "</pre>"
      ]
     },
     "execution_count": 9,
     "metadata": {},
     "output_type": "execute_result"
    },
    {
     "data": {
      "text/html": [
       "<pre style=\"color:slategray;max-height:100px;overflow:hidden\" \n",
       "onclick=\"\n",
       "if (this.style.maxHeight === 'none') \n",
       "    this.style.maxHeight = '100px';\n",
       "else\n",
       "    this.style.maxHeight = 'none'; \n",
       "\">- : unit = ()\n",
       "</pre>"
      ]
     },
     "execution_count": 9,
     "metadata": {},
     "output_type": "execute_result"
    }
   ],
   "source": [
    "(*TD Ex3*)\n",
    "let list_init nbre motif =\n",
    "    \"à compléter\"\n",
    "    \n",
    "let shuffle d =\n",
    "    let nd = List.map (fun c -> (Random.bits (), c)) d in\n",
    "    let sond = List.sort compare nd in\n",
    "    List.map snd sond;;\n",
    "    \n",
    "print_string \"TD Ex 3: urne tirage sans remise\\n\";;\n",
    "let tirage3() =\n",
    "    \"à compléter\"\n",
    "print_int(tirage3());;\n",
    "print_newline();;\n",
    "let count_egal_4 nbre_essais =\n",
    "    \"à compléter\"\n",
    "print_float(count_egal_4 10000);;"
   ]
  },
  {
   "cell_type": "markdown",
   "metadata": {
    "deletable": true,
    "editable": true
   },
   "source": [
    "<h2>Exercice 4</h2>\n",
    "Dans mon trousseau de clés, il y a 8 clés, toutes semblables. Pour rentrer chez moi, je prends une clé au hasard et je fais ainsi des essais jusqu'à ce je trouve la bonne, en écartant au fur et à mesure les mauvaises clés.\n",
    "<ol>\n",
    "<li> Ecrire un programme qui simule l'expérience aléatoire et qui retourne le nombre d'essais effectués  pour ouvrir la porte.\n",
    "<li> Ecrire un programme, qui prend en le nombre $r$ de fois où on a répété l'expérience pour notre simulation, et qui retourne la liste des estimations des probabilités d'ouvrir la porte au premier, \n",
    "    second,... , huitième essai.\n",
    "</ol>"
   ]
  },
  {
   "cell_type": "code",
   "execution_count": 14,
   "metadata": {
    "collapsed": false,
    "deletable": true,
    "editable": true
   },
   "outputs": [
    {
     "name": "stdout",
     "output_type": "stream",
     "text": [
      "TD Ex 4: trousseau clef\n",
      "proba essai n°1=0.106\n",
      "proba essai n°2=0.124\n",
      "proba essai n°3=0.126\n",
      "proba essai n°4=0.128\n",
      "proba essai n°5=0.137\n",
      "proba essai n°6=0.125\n",
      "proba essai n°7=0.137\n",
      "proba essai n°8=0.117\n"
     ]
    },
    {
     "data": {
      "text/html": [
       "<pre style=\"color:slategray;max-height:100px;overflow:hidden\" \n",
       "onclick=\"\n",
       "if (this.style.maxHeight === 'none') \n",
       "    this.style.maxHeight = '100px';\n",
       "else\n",
       "    this.style.maxHeight = 'none'; \n",
       "\">- : unit = ()\n",
       "</pre>"
      ]
     },
     "execution_count": 14,
     "metadata": {},
     "output_type": "execute_result"
    },
    {
     "data": {
      "text/html": [
       "<pre style=\"color:slategray;max-height:100px;overflow:hidden\" \n",
       "onclick=\"\n",
       "if (this.style.maxHeight === 'none') \n",
       "    this.style.maxHeight = '100px';\n",
       "else\n",
       "    this.style.maxHeight = 'none'; \n",
       "\">val clef : unit -&gt; int = &lt;fun&gt;\n",
       "</pre>"
      ]
     },
     "execution_count": 14,
     "metadata": {},
     "output_type": "execute_result"
    },
    {
     "data": {
      "text/html": [
       "<pre style=\"color:slategray;max-height:100px;overflow:hidden\" \n",
       "onclick=\"\n",
       "if (this.style.maxHeight === 'none') \n",
       "    this.style.maxHeight = '100px';\n",
       "else\n",
       "    this.style.maxHeight = 'none'; \n",
       "\">val liste_proba : int -&gt; float array = &lt;fun&gt;\n",
       "</pre>"
      ]
     },
     "execution_count": 14,
     "metadata": {},
     "output_type": "execute_result"
    },
    {
     "data": {
      "text/html": [
       "<pre style=\"color:slategray;max-height:100px;overflow:hidden\" \n",
       "onclick=\"\n",
       "if (this.style.maxHeight === 'none') \n",
       "    this.style.maxHeight = '100px';\n",
       "else\n",
       "    this.style.maxHeight = 'none'; \n",
       "\">- : unit = ()\n",
       "</pre>"
      ]
     },
     "execution_count": 14,
     "metadata": {},
     "output_type": "execute_result"
    }
   ],
   "source": [
    "(*TD Ex4*)\n",
    "print_string \"TD Ex 4: trousseau clef\\n\";;\n",
    "let clef() =\n",
    "    \"à compléter\"\n",
    "let liste_proba nbre_essais =\n",
    "    \"à compléter\"\n",
    "let res = liste_proba 1000 in\n",
    "for i = 1 to 8 do\n",
    "    print_string (\"proba essai n°\"^(string_of_int i)^\"=\"^(string_of_float (res.(i)))^\"\\n\");\n",
    "done;;"
   ]
  },
  {
   "cell_type": "markdown",
   "metadata": {
    "deletable": true,
    "editable": true
   },
   "source": [
    "<h2>Exercice 5</h2>\n",
    "Un joueur $A$ et un joueur $B$ lancent le même dé à tour de rôle.\n",
    "<br>\n",
    "Le joueur $A$ commence.\n",
    "<br>\n",
    "La partie s'arrête quand un joueur est le premier à obtenir un six. Ce joueur est alors déclaré vainqueur de la partie.\n",
    "\n",
    "<ol>\n",
    "<li> Ecrire un programme qui simule l'expérience aléatoire et qui retourne le nombre de lancers effectués et le nom du vainqueur.\n",
    "<li> Ecrire un programme, qui prend en argument le nombre $r$ de fois où on a répété l'expérience pour notre simulation et un entier $n\\geq1$, et qui retourne une estimation de la probabilité que la partie s'arrête au n$^{i\\grave eme}$ lancer\n",
    "<li> Ecrire un programme, qui prend en argument le nombre $r$ de fois où on a répété l'expérience pour notre simulation, et qui retourne une estimation de la probabilité que le joueur $A$ gagne la partie.\n",
    "<li> Ecrire un programme, qui prend en argument le nombre $r$ de fois où on a répété l'expérience pour notre simulation, et qui retourne une estimation de la probabilité que le joueur $B$ gagne la partie.\n",
    "</ol>"
   ]
  },
  {
   "cell_type": "code",
   "execution_count": 19,
   "metadata": {
    "collapsed": false,
    "deletable": true,
    "editable": true
   },
   "outputs": [
    {
     "name": "stdout",
     "output_type": "stream",
     "text": [
      "TD Ex 5: A et B jouent au dé\n",
      "0.189\n",
      "0.543"
     ]
    },
    {
     "data": {
      "text/html": [
       "<pre style=\"color:slategray;max-height:100px;overflow:hidden\" \n",
       "onclick=\"\n",
       "if (this.style.maxHeight === 'none') \n",
       "    this.style.maxHeight = '100px';\n",
       "else\n",
       "    this.style.maxHeight = 'none'; \n",
       "\">- : unit = ()\n",
       "</pre>"
      ]
     },
     "execution_count": 19,
     "metadata": {},
     "output_type": "execute_result"
    },
    {
     "data": {
      "text/html": [
       "<pre style=\"color:slategray;max-height:100px;overflow:hidden\" \n",
       "onclick=\"\n",
       "if (this.style.maxHeight === 'none') \n",
       "    this.style.maxHeight = '100px';\n",
       "else\n",
       "    this.style.maxHeight = 'none'; \n",
       "\">val tirage7 : unit -&gt; int * string = &lt;fun&gt;\n",
       "</pre>"
      ]
     },
     "execution_count": 19,
     "metadata": {},
     "output_type": "execute_result"
    },
    {
     "data": {
      "text/html": [
       "<pre style=\"color:slategray;max-height:100px;overflow:hidden\" \n",
       "onclick=\"\n",
       "if (this.style.maxHeight === 'none') \n",
       "    this.style.maxHeight = '100px';\n",
       "else\n",
       "    this.style.maxHeight = 'none'; \n",
       "\">val count_tirage7_egal_n : int -&gt; int -&gt; float = &lt;fun&gt;\n",
       "</pre>"
      ]
     },
     "execution_count": 19,
     "metadata": {},
     "output_type": "execute_result"
    },
    {
     "data": {
      "text/html": [
       "<pre style=\"color:slategray;max-height:100px;overflow:hidden\" \n",
       "onclick=\"\n",
       "if (this.style.maxHeight === 'none') \n",
       "    this.style.maxHeight = '100px';\n",
       "else\n",
       "    this.style.maxHeight = 'none'; \n",
       "\">- : unit = ()\n",
       "</pre>"
      ]
     },
     "execution_count": 19,
     "metadata": {},
     "output_type": "execute_result"
    },
    {
     "data": {
      "text/html": [
       "<pre style=\"color:slategray;max-height:100px;overflow:hidden\" \n",
       "onclick=\"\n",
       "if (this.style.maxHeight === 'none') \n",
       "    this.style.maxHeight = '100px';\n",
       "else\n",
       "    this.style.maxHeight = 'none'; \n",
       "\">- : unit = ()\n",
       "</pre>"
      ]
     },
     "execution_count": 19,
     "metadata": {},
     "output_type": "execute_result"
    },
    {
     "data": {
      "text/html": [
       "<pre style=\"color:slategray;max-height:100px;overflow:hidden\" \n",
       "onclick=\"\n",
       "if (this.style.maxHeight === 'none') \n",
       "    this.style.maxHeight = '100px';\n",
       "else\n",
       "    this.style.maxHeight = 'none'; \n",
       "\">val count_vainqueur_A : int -&gt; float = &lt;fun&gt;\n",
       "</pre>"
      ]
     },
     "execution_count": 19,
     "metadata": {},
     "output_type": "execute_result"
    },
    {
     "data": {
      "text/html": [
       "<pre style=\"color:slategray;max-height:100px;overflow:hidden\" \n",
       "onclick=\"\n",
       "if (this.style.maxHeight === 'none') \n",
       "    this.style.maxHeight = '100px';\n",
       "else\n",
       "    this.style.maxHeight = 'none'; \n",
       "\">- : unit = ()\n",
       "</pre>"
      ]
     },
     "execution_count": 19,
     "metadata": {},
     "output_type": "execute_result"
    }
   ],
   "source": [
    "(*TD Ex5*)\n",
    "print_string \"TD Ex 5: A et B jouent au dé\\n\";;\n",
    "let tirage7() =\n",
    "    \"à compléter\"\n",
    "let count_tirage7_egal_n nbre_essais n =\n",
    "    \"à compléter\"\n",
    "print_float(count_tirage7_egal_n 1000 1);;\n",
    "print_newline();;\n",
    "let count_vainqueur_A nbre_essais =\n",
    "    \"à compléter\"\n",
    "print_float(count_vainqueur_A 1000);;"
   ]
  },
  {
   "cell_type": "markdown",
   "metadata": {
    "deletable": true,
    "editable": true
   },
   "source": [
    "<h2>Exercice 6</h2>\n",
    "Chaque jour, un enseignant étourdi a, quand il commence sa journée avec ses notes de cours, une probabilité $\\frac14$ de les perdre au cours de la journée.\n",
    "<br>\n",
    "Il se rend à son lycée le lundi avec ses notes de cours.\n",
    "<ol>\n",
    "<li> Ecrire un programme qui simule l'expérience aléatoire et qui retourne le jour de la semaine où il a perdu ses notes de cours ( lundi, mardi, mercredi, jeudi ou vendredi ) ou non perdu s'il les a encore le vendredi soir.\n",
    "<li> Le vendredi, quand il rentre chez lui le soir, il ne trouve plus ses notes de cours dans son cartable.\n",
    "<br>\n",
    "Ecrire un programme, qui prend en argument le nombre $r$ de fois où on a répété l'expérience pour notre simulation, et qui retourne une estimation de la probabilité qu'il les ait perdues le lundi, le mardi, le mercredi , le jeudi, le vendredi.\n",
    "</ol>"
   ]
  },
  {
   "cell_type": "code",
   "execution_count": 24,
   "metadata": {
    "collapsed": false,
    "deletable": true,
    "editable": true
   },
   "outputs": [
    {
     "name": "stdout",
     "output_type": "stream",
     "text": [
      "TD Ex 6: prof perd son cours\n",
      "proba perdu le lundi=0.3287\n",
      "proba perdu le mardi=0.2507\n",
      "proba perdu le mercredi=0.1849\n",
      "proba perdu le jeudi=0.1315\n",
      "proba perdu le vendredi=0.1042\n"
     ]
    },
    {
     "data": {
      "text/html": [
       "<pre style=\"color:slategray;max-height:100px;overflow:hidden\" \n",
       "onclick=\"\n",
       "if (this.style.maxHeight === 'none') \n",
       "    this.style.maxHeight = '100px';\n",
       "else\n",
       "    this.style.maxHeight = 'none'; \n",
       "\">- : unit = ()\n",
       "</pre>"
      ]
     },
     "execution_count": 24,
     "metadata": {},
     "output_type": "execute_result"
    },
    {
     "data": {
      "text/html": [
       "<pre style=\"color:slategray;max-height:100px;overflow:hidden\" \n",
       "onclick=\"\n",
       "if (this.style.maxHeight === 'none') \n",
       "    this.style.maxHeight = '100px';\n",
       "else\n",
       "    this.style.maxHeight = 'none'; \n",
       "\">val jours_semaine : string array =\n",
       "  [|&quot;lundi&quot;; &quot;mardi&quot;; &quot;mercredi&quot;; &quot;jeudi&quot;; &quot;vendredi&quot;; &quot;non perdu&quot;|]\n",
       "</pre>"
      ]
     },
     "execution_count": 24,
     "metadata": {},
     "output_type": "execute_result"
    },
    {
     "data": {
      "text/html": [
       "<pre style=\"color:slategray;max-height:100px;overflow:hidden\" \n",
       "onclick=\"\n",
       "if (this.style.maxHeight === 'none') \n",
       "    this.style.maxHeight = '100px';\n",
       "else\n",
       "    this.style.maxHeight = 'none'; \n",
       "\">val perdre_cours : unit -&gt; int = &lt;fun&gt;\n",
       "</pre>"
      ]
     },
     "execution_count": 24,
     "metadata": {},
     "output_type": "execute_result"
    },
    {
     "data": {
      "text/html": [
       "<pre style=\"color:slategray;max-height:100px;overflow:hidden\" \n",
       "onclick=\"\n",
       "if (this.style.maxHeight === 'none') \n",
       "    this.style.maxHeight = '100px';\n",
       "else\n",
       "    this.style.maxHeight = 'none'; \n",
       "\">val proba_jour : int -&gt; float array = &lt;fun&gt;\n",
       "</pre>"
      ]
     },
     "execution_count": 24,
     "metadata": {},
     "output_type": "execute_result"
    },
    {
     "data": {
      "text/html": [
       "<pre style=\"color:slategray;max-height:100px;overflow:hidden\" \n",
       "onclick=\"\n",
       "if (this.style.maxHeight === 'none') \n",
       "    this.style.maxHeight = '100px';\n",
       "else\n",
       "    this.style.maxHeight = 'none'; \n",
       "\">- : unit = ()\n",
       "</pre>"
      ]
     },
     "execution_count": 24,
     "metadata": {},
     "output_type": "execute_result"
    }
   ],
   "source": [
    "(*TD Ex6*)\n",
    "print_string \"TD Ex 6: prof perd son cours\\n\";;\n",
    "let jours_semaine=[|\"lundi\";\"mardi\";\"mercredi\";\"jeudi\";\"vendredi\";\"non perdu\"|];;\n",
    "let perdre_cours() =\n",
    "    \"à compléter\"\n",
    "let proba_jour nbre_essais =\n",
    "    \"à compléter\"\n",
    "let res = proba_jour 10000 in\n",
    "for i = 0 to 4 do\n",
    "    print_string (\"proba perdu le \"^(jours_semaine.(i))^\"=\"^(string_of_float res.(i))^\"\\n\");\n",
    "done;;"
   ]
  },
  {
   "cell_type": "markdown",
   "metadata": {
    "deletable": true,
    "editable": true
   },
   "source": [
    "<h2>Exercice 7: gagner deux fois de suite</h2>\n",
    "\n",
    "On considère un jeu à plusieurs manches entre trois joueurs  $A$, $B$, $C$ qui se déroulent de la manière suivante :\n",
    "<ul>\n",
    "<li> Pour chaque manche, il n'y a qu'un vainqueur possible.\n",
    "\n",
    "<li> Lors de chaque $n^{i\\grave eme}$ manche ($n\\geq1$), quand elle a lieu,  $A$ et $B$ ont la même probabilité $p=\\frac15$ de la remporter  et $C$ a la probabilité $\\frac35$ de la remporter .\n",
    "\n",
    "<li> Le jeu s'arrête quand un des trois joueurs a remporté 2 manches consécutives et ce joueur est déclaré vainqueur du jeu.\n",
    "</ul>\n",
    "\n",
    "<ol>\n",
    "<li> Ecrire un programme qui simule l'expérience aléatoire et qui retourne le nom du vainqueur.\n",
    "<li> Ecrire un programme qui prend en argument le nombre $r$ de fois où on a répété l'expérience pour notre simulation, et qui retourne une estimation de la probabilité que $A$ soit le vainqueur.\n",
    "<li> Ecrire un programme qui prend en argument le nombre $r$ de fois où on a répété l'expérience pour notre simulation, et qui retourne une estimation de la probabilité que $C$ soit le vainqueur.\n",
    "</ol>"
   ]
  },
  {
   "cell_type": "code",
   "execution_count": 28,
   "metadata": {
    "collapsed": false,
    "deletable": true,
    "editable": true
   },
   "outputs": [
    {
     "name": "stdout",
     "output_type": "stream",
     "text": [
      "TD Ex 7: gagner deux fois de suite\n",
      "proba A vainqueur = 0.199851\n",
      "proba B vainqueur = 0.20104\n",
      "proba C vainqueur = 0.599109\n"
     ]
    },
    {
     "data": {
      "text/html": [
       "<pre style=\"color:slategray;max-height:100px;overflow:hidden\" \n",
       "onclick=\"\n",
       "if (this.style.maxHeight === 'none') \n",
       "    this.style.maxHeight = '100px';\n",
       "else\n",
       "    this.style.maxHeight = 'none'; \n",
       "\">- : unit = ()\n",
       "</pre>"
      ]
     },
     "execution_count": 28,
     "metadata": {},
     "output_type": "execute_result"
    },
    {
     "data": {
      "text/html": [
       "<pre style=\"color:slategray;max-height:100px;overflow:hidden\" \n",
       "onclick=\"\n",
       "if (this.style.maxHeight === 'none') \n",
       "    this.style.maxHeight = '100px';\n",
       "else\n",
       "    this.style.maxHeight = 'none'; \n",
       "\">val jeu_manche : unit -&gt; string = &lt;fun&gt;\n",
       "</pre>"
      ]
     },
     "execution_count": 28,
     "metadata": {},
     "output_type": "execute_result"
    },
    {
     "data": {
      "text/html": [
       "<pre style=\"color:slategray;max-height:100px;overflow:hidden\" \n",
       "onclick=\"\n",
       "if (this.style.maxHeight === 'none') \n",
       "    this.style.maxHeight = '100px';\n",
       "else\n",
       "    this.style.maxHeight = 'none'; \n",
       "\">val joueurs : string list = [&quot;A&quot;; &quot;B&quot;; &quot;C&quot;]\n",
       "</pre>"
      ]
     },
     "execution_count": 28,
     "metadata": {},
     "output_type": "execute_result"
    },
    {
     "data": {
      "text/html": [
       "<pre style=\"color:slategray;max-height:100px;overflow:hidden\" \n",
       "onclick=\"\n",
       "if (this.style.maxHeight === 'none') \n",
       "    this.style.maxHeight = '100px';\n",
       "else\n",
       "    this.style.maxHeight = 'none'; \n",
       "\">val num_joueurs : int list = [0; 1; 2]\n",
       "</pre>"
      ]
     },
     "execution_count": 28,
     "metadata": {},
     "output_type": "execute_result"
    },
    {
     "data": {
      "text/html": [
       "<pre style=\"color:slategray;max-height:100px;overflow:hidden\" \n",
       "onclick=\"\n",
       "if (this.style.maxHeight === 'none') \n",
       "    this.style.maxHeight = '100px';\n",
       "else\n",
       "    this.style.maxHeight = 'none'; \n",
       "\">val association : (string * int) list = [(&quot;A&quot;, 0); (&quot;B&quot;, 1); (&quot;C&quot;, 2)]\n",
       "</pre>"
      ]
     },
     "execution_count": 28,
     "metadata": {},
     "output_type": "execute_result"
    },
    {
     "data": {
      "text/html": [
       "<pre style=\"color:slategray;max-height:100px;overflow:hidden\" \n",
       "onclick=\"\n",
       "if (this.style.maxHeight === 'none') \n",
       "    this.style.maxHeight = '100px';\n",
       "else\n",
       "    this.style.maxHeight = 'none'; \n",
       "\">val _A_B_C_vainqueur : int -&gt; float array = &lt;fun&gt;\n",
       "</pre>"
      ]
     },
     "execution_count": 28,
     "metadata": {},
     "output_type": "execute_result"
    },
    {
     "data": {
      "text/html": [
       "<pre style=\"color:slategray;max-height:100px;overflow:hidden\" \n",
       "onclick=\"\n",
       "if (this.style.maxHeight === 'none') \n",
       "    this.style.maxHeight = '100px';\n",
       "else\n",
       "    this.style.maxHeight = 'none'; \n",
       "\">- : unit = ()\n",
       "</pre>"
      ]
     },
     "execution_count": 28,
     "metadata": {},
     "output_type": "execute_result"
    }
   ],
   "source": [
    "(*TD Ex7*)\n",
    "print_string \"TD Ex 7: gagner deux fois de suite\\n\";;\n",
    "let jeu_manche() =\n",
    "    \"à compléter\"\n",
    "let joueurs = [\"A\";\"B\";\"C\"];;\n",
    "let num_joueurs = [0;1;2];;\n",
    "let association = List.combine joueurs num_joueurs;;\n",
    "\n",
    "let _A_B_C_vainqueur nbre_essais =\n",
    "    \"à compléter\"\n",
    "\n",
    "let res = _A_B_C_vainqueur 1000000 in\n",
    "for i = 0 to 2 do\n",
    "    print_string (\"proba \"^(List.nth joueurs i)^\" vainqueur = \"^(string_of_float res.(i))^\"\\n\");\n",
    "done;;"
   ]
  },
  {
   "cell_type": "code",
   "execution_count": null,
   "metadata": {
    "collapsed": true,
    "deletable": true,
    "editable": true
   },
   "outputs": [],
   "source": []
  }
 ],
 "metadata": {
  "kernelspec": {
   "display_name": "OCaml",
   "language": "ocaml",
   "name": "iocaml"
  },
  "language_info": {
   "name": "ocaml",
   "version": "4.1.0"
  }
 },
 "nbformat": 4,
 "nbformat_minor": 2
}
