{
 "cells": [
  {
   "cell_type": "markdown",
   "metadata": {
    "deletable": true,
    "editable": true
   },
   "source": [
    "<h1> TD n°2</h1>\n",
    "\n",
    "<h2>Exercice 1</h2>\n",
    "\n",
    "Un objet a une probabilité $\\frac12$ de se trouver dans une commode.\n",
    "\n",
    "Quand il s'y trouve, il a des chances égales de se trouver dans chacun des 9 tiroirs de la commode.\n",
    "\n",
    "<ol>\n",
    "<li>  Ecrire un programme qui simule l'expérience aléatoire et qui retourne non commode ou le tiroir dans lequel se trouve l'objet.\n",
    "<li> Ecrire un programme, qui prend en argument le nombre $r$ de fois où on a répété l'expérience pour notre simulation, et qui retourne une estimation de la probabilité que l'objet se trouve dans le 9$^{i\\grave eme}$ tiroir.\n",
    "<li> Ecrire un programme, qui prend en argument le nombre $r$ de fois où on a répété l'expérience pour notre simulation, et qui retourne une estimation de la probabilité que l'objet ne soit pas dans les 8 premiers tiroirs.\n",
    "<li> Après avoir ouvert les 8 premiers tiroirs, on constate que l'objet n'y est pas.<br>\n",
    "Ecrire un programme, qui prend en argument le nombre $r$ de fois où on a répété l'expérience pour notre simulation, et qui retourne une estimation de la probabilité que l'objet dans le 9$^{i\\grave eme}$ tiroir\n",
    "</ol>"
   ]
  },
  {
   "cell_type": "code",
   "execution_count": 1,
   "metadata": {
    "collapsed": false,
    "deletable": true,
    "editable": true
   },
   "outputs": [
    {
     "name": "stdout",
     "output_type": "stream",
     "text": [
      "TD Ex 1: commode\n",
      "0"
     ]
    },
    {
     "data": {
      "text/html": [
       "<pre style=\"color:slategray;max-height:100px;overflow:hidden\" \n",
       "onclick=\"\n",
       "if (this.style.maxHeight === 'none') \n",
       "    this.style.maxHeight = '100px';\n",
       "else\n",
       "    this.style.maxHeight = 'none'; \n",
       "\">- : unit -&gt; unit = &lt;fun&gt;\n",
       "</pre>"
      ]
     },
     "execution_count": 1,
     "metadata": {},
     "output_type": "execute_result"
    },
    {
     "data": {
      "text/html": [
       "<pre style=\"color:slategray;max-height:100px;overflow:hidden\" \n",
       "onclick=\"\n",
       "if (this.style.maxHeight === 'none') \n",
       "    this.style.maxHeight = '100px';\n",
       "else\n",
       "    this.style.maxHeight = 'none'; \n",
       "\">- : unit = ()\n",
       "</pre>"
      ]
     },
     "execution_count": 1,
     "metadata": {},
     "output_type": "execute_result"
    },
    {
     "data": {
      "text/html": [
       "<pre style=\"color:slategray;max-height:100px;overflow:hidden\" \n",
       "onclick=\"\n",
       "if (this.style.maxHeight === 'none') \n",
       "    this.style.maxHeight = '100px';\n",
       "else\n",
       "    this.style.maxHeight = 'none'; \n",
       "\">val commode : unit -&gt; int = &lt;fun&gt;\n",
       "</pre>"
      ]
     },
     "execution_count": 1,
     "metadata": {},
     "output_type": "execute_result"
    },
    {
     "data": {
      "text/html": [
       "<pre style=\"color:slategray;max-height:100px;overflow:hidden\" \n",
       "onclick=\"\n",
       "if (this.style.maxHeight === 'none') \n",
       "    this.style.maxHeight = '100px';\n",
       "else\n",
       "    this.style.maxHeight = 'none'; \n",
       "\">- : unit = ()\n",
       "</pre>"
      ]
     },
     "execution_count": 1,
     "metadata": {},
     "output_type": "execute_result"
    }
   ],
   "source": [
    "open Random;;\n",
    "Random.self_init;;\n",
    "\n",
    "(*TD Ex 1*)\n",
    "print_string \"TD Ex 1: commode\\n\";;\n",
    "let commode()=\n",
    "    if 1+Random.int 2=1 then 0\n",
    "    else 1+Random.int 10;;\n",
    "print_int(commode());;"
   ]
  },
  {
   "cell_type": "code",
   "execution_count": 2,
   "metadata": {
    "collapsed": false,
    "deletable": true,
    "editable": true
   },
   "outputs": [
    {
     "name": "stdout",
     "output_type": "stream",
     "text": [
      "0.04984"
     ]
    },
    {
     "data": {
      "text/html": [
       "<pre style=\"color:slategray;max-height:100px;overflow:hidden\" \n",
       "onclick=\"\n",
       "if (this.style.maxHeight === 'none') \n",
       "    this.style.maxHeight = '100px';\n",
       "else\n",
       "    this.style.maxHeight = 'none'; \n",
       "\">val tiroir9 : int -&gt; float = &lt;fun&gt;\n",
       "</pre>"
      ]
     },
     "execution_count": 2,
     "metadata": {},
     "output_type": "execute_result"
    },
    {
     "data": {
      "text/html": [
       "<pre style=\"color:slategray;max-height:100px;overflow:hidden\" \n",
       "onclick=\"\n",
       "if (this.style.maxHeight === 'none') \n",
       "    this.style.maxHeight = '100px';\n",
       "else\n",
       "    this.style.maxHeight = 'none'; \n",
       "\">- : unit = ()\n",
       "</pre>"
      ]
     },
     "execution_count": 2,
     "metadata": {},
     "output_type": "execute_result"
    }
   ],
   "source": [
    "let tiroir9 nbre_essais =\n",
    "    let rec loop num_essai count =\n",
    "        if num_essai<nbre_essais\n",
    "        then (if commode()=9 \n",
    "              then loop (num_essai+1) (count+1)\n",
    "              else loop (num_essai+1) count)\n",
    "        else float_of_int count/.(float_of_int nbre_essais) in\n",
    "    loop 0 0;;\n",
    "print_float(tiroir9 100000);; (* 1/9*1/2 *)"
   ]
  },
  {
   "cell_type": "code",
   "execution_count": 3,
   "metadata": {
    "collapsed": false,
    "deletable": true,
    "editable": true
   },
   "outputs": [
    {
     "name": "stdout",
     "output_type": "stream",
     "text": [
      "0.5489"
     ]
    },
    {
     "data": {
      "text/html": [
       "<pre style=\"color:slategray;max-height:100px;overflow:hidden\" \n",
       "onclick=\"\n",
       "if (this.style.maxHeight === 'none') \n",
       "    this.style.maxHeight = '100px';\n",
       "else\n",
       "    this.style.maxHeight = 'none'; \n",
       "\">val tiroir_pas_1_a_8 : int -&gt; float = &lt;fun&gt;\n",
       "</pre>"
      ]
     },
     "execution_count": 3,
     "metadata": {},
     "output_type": "execute_result"
    },
    {
     "data": {
      "text/html": [
       "<pre style=\"color:slategray;max-height:100px;overflow:hidden\" \n",
       "onclick=\"\n",
       "if (this.style.maxHeight === 'none') \n",
       "    this.style.maxHeight = '100px';\n",
       "else\n",
       "    this.style.maxHeight = 'none'; \n",
       "\">- : unit = ()\n",
       "</pre>"
      ]
     },
     "execution_count": 3,
     "metadata": {},
     "output_type": "execute_result"
    }
   ],
   "source": [
    "let tiroir_pas_1_a_8 nbre_essais =\n",
    "    let rec loop num_essai count =\n",
    "        if num_essai<nbre_essais \n",
    "        then begin\n",
    "             let c = commode() in\n",
    "             if c =0 || c = 9 \n",
    "             then loop (num_essai+1) (count+1)\n",
    "             else loop (num_essai+1) count;\n",
    "       end else float_of_int count/.(float_of_int nbre_essais) in\n",
    "    loop 0 0;;\n",
    "print_float(tiroir_pas_1_a_8 100000);; (* 1/2+1/2*(1/9) *)"
   ]
  },
  {
   "cell_type": "code",
   "execution_count": 4,
   "metadata": {
    "collapsed": false,
    "deletable": true,
    "editable": true
   },
   "outputs": [
    {
     "name": "stdout",
     "output_type": "stream",
     "text": [
      "0.09113"
     ]
    },
    {
     "data": {
      "text/html": [
       "<pre style=\"color:slategray;max-height:100px;overflow:hidden\" \n",
       "onclick=\"\n",
       "if (this.style.maxHeight === 'none') \n",
       "    this.style.maxHeight = '100px';\n",
       "else\n",
       "    this.style.maxHeight = 'none'; \n",
       "\">val tiroir_9_si_pas_1_a_8 : int -&gt; float = &lt;fun&gt;\n",
       "</pre>"
      ]
     },
     "execution_count": 4,
     "metadata": {},
     "output_type": "execute_result"
    },
    {
     "data": {
      "text/html": [
       "<pre style=\"color:slategray;max-height:100px;overflow:hidden\" \n",
       "onclick=\"\n",
       "if (this.style.maxHeight === 'none') \n",
       "    this.style.maxHeight = '100px';\n",
       "else\n",
       "    this.style.maxHeight = 'none'; \n",
       "\">- : unit = ()\n",
       "</pre>"
      ]
     },
     "execution_count": 4,
     "metadata": {},
     "output_type": "execute_result"
    }
   ],
   "source": [
    "let tiroir_9_si_pas_1_a_8 nbre_essais =\n",
    "    let rec loop num_essai count =\n",
    "        if num_essai<nbre_essais\n",
    "        then begin\n",
    "            let tirage = commode() in\n",
    "            if tirage = 0 || tirage = 9 then\n",
    "                 if tirage = 9 \n",
    "                 then loop (num_essai+1) (count+1)\n",
    "                 else loop (num_essai+1) count\n",
    "            else loop num_essai count;\n",
    "        end else float_of_int count /. (float_of_int nbre_essais) in\n",
    "    loop 0 0;;\n",
    "print_float(tiroir_9_si_pas_1_a_8 100000)"
   ]
  },
  {
   "cell_type": "markdown",
   "metadata": {
    "deletable": true,
    "editable": true
   },
   "source": [
    "<h3>Calcul théorique</h3>\n",
    "<ol>\n",
    "<li start=\"2\"> probabilité que l'objet soit dans la commode ET dans le tiroir 9: $\\frac12\\times\\frac19$\n",
    "<li> probabilité que l'objet ne soit pas dans la commode OU (dans la commode ET dans le tiroir 9): $\\frac12+\\frac12\\times\\frac19$\n",
    "<li> probabilité que l'objet soit (dans la commode ET dans le tiroir) par rapport à probabilité que l'objet (ne soit pas dans la commode OU (dans la commode ET dans le tiroir 9)): $\\frac{\\frac12\\times\\frac19}{\\frac12+\\frac12\\times\\frac19}$. \n",
    "</ol>"
   ]
  },
  {
   "cell_type": "markdown",
   "metadata": {
    "deletable": true,
    "editable": true
   },
   "source": [
    "<h2>Exercice 2</h2>\n",
    "Une urne $A$ contient quatre boules rouges et six boules noires.\n",
    "<br>\n",
    "Une urne $B$ contient une boule rouge et neuf boules noires.\n",
    "<br>\n",
    "Un joueur dispose d'un dé à 6 faces, parfaitement équilibré, numérotés de 1 à 6.\n",
    "<br>\n",
    "Il le lance une fois :\n",
    "<ul>\n",
    "<li> S'il obtient 1, il tire au hasard une boule dans l'urne $A$.\n",
    "<li> Sinon, il tire au hasard une boule dans l'urne $B$.\n",
    "</ul>\n",
    "\n",
    "<ol>\n",
    "<li> Ecrire un programme qui simule l'expérience aléatoire et qui retourne l'urne dans laquelle on a tirée l'urne et la couleur de la boule tirée.\n",
    "<li> Ecrire un programme, qui prend en argument le nombre $r$ de fois où on a répété l'expérience pour notre simulation, et qui retourne une estimation de la probabilité que la boule tirée soit rouge.\n",
    "<li> Le joueur obtient une boule rouge.\n",
    "<br>\n",
    "Ecrire un programme, qui prend en argument le nombre $r$ de fois où on a répété l'expérience pour notre simulation, et qui retourne une estimation de la probabilité que la boule vienne de l'urne A.\n",
    "</ol>"
   ]
  },
  {
   "cell_type": "code",
   "execution_count": 5,
   "metadata": {
    "collapsed": false,
    "deletable": true,
    "editable": true
   },
   "outputs": [
    {
     "name": "stdout",
     "output_type": "stream",
     "text": [
      "TD Ex 2: urne A et B\n",
      "0.1344"
     ]
    },
    {
     "data": {
      "text/html": [
       "<pre style=\"color:slategray;max-height:100px;overflow:hidden\" \n",
       "onclick=\"\n",
       "if (this.style.maxHeight === 'none') \n",
       "    this.style.maxHeight = '100px';\n",
       "else\n",
       "    this.style.maxHeight = 'none'; \n",
       "\">- : unit = ()\n",
       "</pre>"
      ]
     },
     "execution_count": 5,
     "metadata": {},
     "output_type": "execute_result"
    },
    {
     "data": {
      "text/html": [
       "<pre style=\"color:slategray;max-height:100px;overflow:hidden\" \n",
       "onclick=\"\n",
       "if (this.style.maxHeight === 'none') \n",
       "    this.style.maxHeight = '100px';\n",
       "else\n",
       "    this.style.maxHeight = 'none'; \n",
       "\">val tirage2 : unit -&gt; string * string = &lt;fun&gt;\n",
       "</pre>"
      ]
     },
     "execution_count": 5,
     "metadata": {},
     "output_type": "execute_result"
    },
    {
     "data": {
      "text/html": [
       "<pre style=\"color:slategray;max-height:100px;overflow:hidden\" \n",
       "onclick=\"\n",
       "if (this.style.maxHeight === 'none') \n",
       "    this.style.maxHeight = '100px';\n",
       "else\n",
       "    this.style.maxHeight = 'none'; \n",
       "\">val rouge : int -&gt; float = &lt;fun&gt;\n",
       "</pre>"
      ]
     },
     "execution_count": 5,
     "metadata": {},
     "output_type": "execute_result"
    },
    {
     "data": {
      "text/html": [
       "<pre style=\"color:slategray;max-height:100px;overflow:hidden\" \n",
       "onclick=\"\n",
       "if (this.style.maxHeight === 'none') \n",
       "    this.style.maxHeight = '100px';\n",
       "else\n",
       "    this.style.maxHeight = 'none'; \n",
       "\">- : unit = ()\n",
       "</pre>"
      ]
     },
     "execution_count": 5,
     "metadata": {},
     "output_type": "execute_result"
    }
   ],
   "source": [
    "(*TD Ex 2*)\n",
    "print_string \"TD Ex 2: urne A et B\\n\";;\n",
    "let tirage2() =\n",
    "    let de=1+Random.int 6 in\n",
    "    if de=1 then begin\n",
    "        let tirage = 1+Random.int 11 in\n",
    "        if 1<=tirage && tirage<=4\n",
    "        then \"A\",\"rouge\"\n",
    "        else \"A\",\"noir\";\n",
    "    end else begin\n",
    "        let tirage = 1+ Random.int 11 in\n",
    "        if tirage = 1\n",
    "        then \"B\",\"rouge\"\n",
    "        else \"B\",\"noir\";\n",
    "    end;;\n",
    "let rouge nbre_essais =\n",
    "    let rec loop num_essai count =\n",
    "        if num_essai<nbre_essais \n",
    "        then begin\n",
    "            let urne,couleur = tirage2() in\n",
    "            if couleur=\"rouge\" \n",
    "            then loop (num_essai+1) (count+1)\n",
    "            else loop (num_essai+1) count;\n",
    "        end else float_of_int count/.(float_of_int nbre_essais) in\n",
    "    loop 0 0;;\n",
    "print_float(rouge 10000) (* 1/6*4/10+5/6*1/10 *)"
   ]
  },
  {
   "cell_type": "code",
   "execution_count": 6,
   "metadata": {
    "collapsed": false,
    "deletable": true,
    "editable": true
   },
   "outputs": [
    {
     "name": "stdout",
     "output_type": "stream",
     "text": [
      "0.4404"
     ]
    },
    {
     "data": {
      "text/html": [
       "<pre style=\"color:slategray;max-height:100px;overflow:hidden\" \n",
       "onclick=\"\n",
       "if (this.style.maxHeight === 'none') \n",
       "    this.style.maxHeight = '100px';\n",
       "else\n",
       "    this.style.maxHeight = 'none'; \n",
       "\">val rouge_A : int -&gt; float = &lt;fun&gt;\n",
       "</pre>"
      ]
     },
     "execution_count": 6,
     "metadata": {},
     "output_type": "execute_result"
    },
    {
     "data": {
      "text/html": [
       "<pre style=\"color:slategray;max-height:100px;overflow:hidden\" \n",
       "onclick=\"\n",
       "if (this.style.maxHeight === 'none') \n",
       "    this.style.maxHeight = '100px';\n",
       "else\n",
       "    this.style.maxHeight = 'none'; \n",
       "\">- : unit = ()\n",
       "</pre>"
      ]
     },
     "execution_count": 6,
     "metadata": {},
     "output_type": "execute_result"
    }
   ],
   "source": [
    "let rouge_A nbre_essais =\n",
    "    let rec loop num_essai count =\n",
    "        if num_essai<nbre_essais\n",
    "        then begin\n",
    "            let urne,couleur = tirage2() in\n",
    "            if couleur = \"rouge\"\n",
    "            then begin\n",
    "                if urne = \"A\" \n",
    "                then loop (num_essai+1) (count+1)\n",
    "                else loop (num_essai+1) count;\n",
    "            end else loop num_essai count;\n",
    "        end else float_of_int count/.(float_of_int nbre_essais) in\n",
    "    loop 0 0;;\n",
    "print_float(rouge_A 10000);;"
   ]
  },
  {
   "cell_type": "markdown",
   "metadata": {
    "deletable": true,
    "editable": true
   },
   "source": [
    "<h3>Calcul théorique</h3>\n",
    "<ol>\n",
    "<li start=\"2\"> probabilité (urne A ET boule rouge) OU (urne B ET boule rouge): $\\frac16\\times\\frac4{10}+\\frac56\\times\\frac1{10}$\n",
    "<li> probabilité  (urne A ET boule rouge) par rapport à probabilité ((urne A ET boule rouge) OU (urne B ET boule rouge)): $\\frac{\\frac16\\times\\frac4{10}}{\\frac16\\times\\frac4{10}+\\frac56\\times\\frac1{10}}$\n",
    "</ol>"
   ]
  },
  {
   "cell_type": "markdown",
   "metadata": {
    "deletable": true,
    "editable": true
   },
   "source": [
    "<h2>Exercice 3</h2>\n",
    "Une urne contient deux boules blanches et quatre boules noires. On tire les boules une à une sans les remettre jusqu'à qu'il ne reste que des boules d'une seule couleur dans l'urne.\n",
    "<ol>\n",
    "<li> Ecrire un programme qui simule l'expérience aléatoire et qui retourne le nombre de tirages effectués.\n",
    "<li> Ecrire un programme, qui prend en argument le nombre $r$ de fois où on a répété l'expérience pour notre simulation, et qui retourne une estimation de la probabilité que l'on ait effectué 4 tirages.\n",
    "</ol>"
   ]
  },
  {
   "cell_type": "code",
   "execution_count": 9,
   "metadata": {
    "collapsed": false,
    "deletable": true,
    "editable": true
   },
   "outputs": [
    {
     "name": "stdout",
     "output_type": "stream",
     "text": [
      "TD Ex 3: urne tirage sans remise\n",
      "3\n",
      "0.2664"
     ]
    },
    {
     "data": {
      "text/html": [
       "<pre style=\"color:slategray;max-height:100px;overflow:hidden\" \n",
       "onclick=\"\n",
       "if (this.style.maxHeight === 'none') \n",
       "    this.style.maxHeight = '100px';\n",
       "else\n",
       "    this.style.maxHeight = 'none'; \n",
       "\">val list_init : int -&gt; 'a -&gt; 'a list = &lt;fun&gt;\n",
       "</pre>"
      ]
     },
     "execution_count": 9,
     "metadata": {},
     "output_type": "execute_result"
    },
    {
     "data": {
      "text/html": [
       "<pre style=\"color:slategray;max-height:100px;overflow:hidden\" \n",
       "onclick=\"\n",
       "if (this.style.maxHeight === 'none') \n",
       "    this.style.maxHeight = '100px';\n",
       "else\n",
       "    this.style.maxHeight = 'none'; \n",
       "\">val shuffle : 'a list -&gt; 'a list = &lt;fun&gt;\n",
       "</pre>"
      ]
     },
     "execution_count": 9,
     "metadata": {},
     "output_type": "execute_result"
    },
    {
     "data": {
      "text/html": [
       "<pre style=\"color:slategray;max-height:100px;overflow:hidden\" \n",
       "onclick=\"\n",
       "if (this.style.maxHeight === 'none') \n",
       "    this.style.maxHeight = '100px';\n",
       "else\n",
       "    this.style.maxHeight = 'none'; \n",
       "\">- : unit = ()\n",
       "</pre>"
      ]
     },
     "execution_count": 9,
     "metadata": {},
     "output_type": "execute_result"
    },
    {
     "data": {
      "text/html": [
       "<pre style=\"color:slategray;max-height:100px;overflow:hidden\" \n",
       "onclick=\"\n",
       "if (this.style.maxHeight === 'none') \n",
       "    this.style.maxHeight = '100px';\n",
       "else\n",
       "    this.style.maxHeight = 'none'; \n",
       "\">val tirage3 : unit -&gt; int = &lt;fun&gt;\n",
       "</pre>"
      ]
     },
     "execution_count": 9,
     "metadata": {},
     "output_type": "execute_result"
    },
    {
     "data": {
      "text/html": [
       "<pre style=\"color:slategray;max-height:100px;overflow:hidden\" \n",
       "onclick=\"\n",
       "if (this.style.maxHeight === 'none') \n",
       "    this.style.maxHeight = '100px';\n",
       "else\n",
       "    this.style.maxHeight = 'none'; \n",
       "\">- : unit = ()\n",
       "</pre>"
      ]
     },
     "execution_count": 9,
     "metadata": {},
     "output_type": "execute_result"
    },
    {
     "data": {
      "text/html": [
       "<pre style=\"color:slategray;max-height:100px;overflow:hidden\" \n",
       "onclick=\"\n",
       "if (this.style.maxHeight === 'none') \n",
       "    this.style.maxHeight = '100px';\n",
       "else\n",
       "    this.style.maxHeight = 'none'; \n",
       "\">- : unit = ()\n",
       "</pre>"
      ]
     },
     "execution_count": 9,
     "metadata": {},
     "output_type": "execute_result"
    },
    {
     "data": {
      "text/html": [
       "<pre style=\"color:slategray;max-height:100px;overflow:hidden\" \n",
       "onclick=\"\n",
       "if (this.style.maxHeight === 'none') \n",
       "    this.style.maxHeight = '100px';\n",
       "else\n",
       "    this.style.maxHeight = 'none'; \n",
       "\">val count_egal_4 : int -&gt; float = &lt;fun&gt;\n",
       "</pre>"
      ]
     },
     "execution_count": 9,
     "metadata": {},
     "output_type": "execute_result"
    },
    {
     "data": {
      "text/html": [
       "<pre style=\"color:slategray;max-height:100px;overflow:hidden\" \n",
       "onclick=\"\n",
       "if (this.style.maxHeight === 'none') \n",
       "    this.style.maxHeight = '100px';\n",
       "else\n",
       "    this.style.maxHeight = 'none'; \n",
       "\">- : unit = ()\n",
       "</pre>"
      ]
     },
     "execution_count": 9,
     "metadata": {},
     "output_type": "execute_result"
    }
   ],
   "source": [
    "(*TD Ex3*)\n",
    "let list_init nbre motif =\n",
    "    let rec loop num liste =\n",
    "         if num<nbre \n",
    "         then loop (num+1) (motif::liste)\n",
    "         else liste in\n",
    "    loop 0 [];;\n",
    "    \n",
    "let shuffle d =\n",
    "    let nd = List.map (fun c -> (Random.bits (), c)) d in\n",
    "    let sond = List.sort compare nd in\n",
    "    List.map snd sond;;\n",
    "    \n",
    "print_string \"TD Ex 3: urne tirage sans remise\\n\";;\n",
    "let tirage3() =\n",
    "    let urne' = List.append (list_init 2 \"blanche\") (list_init 4 \"noire\") in\n",
    "    let urne = shuffle urne' in\n",
    "\n",
    "    let rec loop urne count =\n",
    "        if List.mem \"blanche\" urne && List.mem \"noire\" urne\n",
    "        then loop (List.tl urne) (count+1)\n",
    "        else count in\n",
    "    loop urne 0;;\n",
    "print_int(tirage3());;\n",
    "print_newline();;\n",
    "let count_egal_4 nbre_essais =\n",
    "    let rec loop num_essai count =\n",
    "        if num_essai<nbre_essais\n",
    "        then if tirage3()=4\n",
    "             then loop (num_essai+1) (count+1)\n",
    "             else loop (num_essai+1) count\n",
    "        else float_of_int count/.(float_of_int nbre_essais) in\n",
    "    loop 0 0;;\n",
    "print_float(count_egal_4 10000);;"
   ]
  },
  {
   "cell_type": "markdown",
   "metadata": {
    "deletable": true,
    "editable": true
   },
   "source": [
    "<h3>Caclul théorique:</h3>\n",
    "<ol>\n",
    "<li start=\"2\"> On cherche la probabilité des tirages $NNNN$ + $NNBB$ + $NBNB$ + $BNNB$ = $4\\times\\frac46\\times\\frac35\\times\\frac24\\times\\frac13$ \n",
    "</ol>"
   ]
  },
  {
   "cell_type": "markdown",
   "metadata": {
    "deletable": true,
    "editable": true
   },
   "source": [
    "<h2>Exercice 4</h2>\n",
    "Dans mon trousseau de clés, il y a 8 clés, toutes semblables. Pour rentrer chez moi, je prends une clé au hasard et je fais ainsi des essais jusqu'à ce je trouve la bonne, en écartant au fur et à mesure les mauvaises clés.\n",
    "<ol>\n",
    "<li> Ecrire un programme qui simule l'expérience aléatoire et qui retourne le nombre d'essais effectués  pour ouvrir la porte.\n",
    "<li> Ecrire un programme, qui prend en le nombre $r$ de fois où on a répété l'expérience pour notre simulation, et qui retourne la liste des estimations des probabilités d'ouvrir la porte au premier, \n",
    "    second,... , huitième essai.\n",
    "</ol>"
   ]
  },
  {
   "cell_type": "code",
   "execution_count": 14,
   "metadata": {
    "collapsed": false,
    "deletable": true,
    "editable": true
   },
   "outputs": [
    {
     "name": "stdout",
     "output_type": "stream",
     "text": [
      "TD Ex 4: trousseau clef\n",
      "proba essai n°1=0.106\n",
      "proba essai n°2=0.124\n",
      "proba essai n°3=0.126\n",
      "proba essai n°4=0.128\n",
      "proba essai n°5=0.137\n",
      "proba essai n°6=0.125\n",
      "proba essai n°7=0.137\n",
      "proba essai n°8=0.117\n"
     ]
    },
    {
     "data": {
      "text/html": [
       "<pre style=\"color:slategray;max-height:100px;overflow:hidden\" \n",
       "onclick=\"\n",
       "if (this.style.maxHeight === 'none') \n",
       "    this.style.maxHeight = '100px';\n",
       "else\n",
       "    this.style.maxHeight = 'none'; \n",
       "\">- : unit = ()\n",
       "</pre>"
      ]
     },
     "execution_count": 14,
     "metadata": {},
     "output_type": "execute_result"
    },
    {
     "data": {
      "text/html": [
       "<pre style=\"color:slategray;max-height:100px;overflow:hidden\" \n",
       "onclick=\"\n",
       "if (this.style.maxHeight === 'none') \n",
       "    this.style.maxHeight = '100px';\n",
       "else\n",
       "    this.style.maxHeight = 'none'; \n",
       "\">val clef : unit -&gt; int = &lt;fun&gt;\n",
       "</pre>"
      ]
     },
     "execution_count": 14,
     "metadata": {},
     "output_type": "execute_result"
    },
    {
     "data": {
      "text/html": [
       "<pre style=\"color:slategray;max-height:100px;overflow:hidden\" \n",
       "onclick=\"\n",
       "if (this.style.maxHeight === 'none') \n",
       "    this.style.maxHeight = '100px';\n",
       "else\n",
       "    this.style.maxHeight = 'none'; \n",
       "\">val liste_proba : int -&gt; float array = &lt;fun&gt;\n",
       "</pre>"
      ]
     },
     "execution_count": 14,
     "metadata": {},
     "output_type": "execute_result"
    },
    {
     "data": {
      "text/html": [
       "<pre style=\"color:slategray;max-height:100px;overflow:hidden\" \n",
       "onclick=\"\n",
       "if (this.style.maxHeight === 'none') \n",
       "    this.style.maxHeight = '100px';\n",
       "else\n",
       "    this.style.maxHeight = 'none'; \n",
       "\">- : unit = ()\n",
       "</pre>"
      ]
     },
     "execution_count": 14,
     "metadata": {},
     "output_type": "execute_result"
    }
   ],
   "source": [
    "(*TD Ex4*)\n",
    "print_string \"TD Ex 4: trousseau clef\\n\";;\n",
    "let clef() =\n",
    "    let trousseau' = List.append [\"bonne\"] (list_init 7 \"mauvaise\") in\n",
    "    let trousseau = shuffle trousseau' in\n",
    "    let rec loop count trousseau =\n",
    "        if List.mem \"bonne\" trousseau\n",
    "        then loop (count+1) (List.tl trousseau)\n",
    "        else count in\n",
    "    loop 0 trousseau;;\n",
    "let liste_proba nbre_essais =\n",
    "    let counts = Array.make 10 0 in\n",
    "    let rec loop num_essai =\n",
    "        if num_essai<nbre_essais\n",
    "        then begin\n",
    "            let num = clef() in\n",
    "            if num<=8 \n",
    "            then counts.(num)<-counts.(num)+1;\n",
    "            loop (num_essai+1);\n",
    "        end in\n",
    "    loop 0;\n",
    "    Array.init 10 (fun i ->float_of_int counts.(i)/.(float_of_int nbre_essais));;\n",
    "let res = liste_proba 1000 in\n",
    "for i = 1 to 8 do\n",
    "    print_string (\"proba essai n°\"^(string_of_int i)^\"=\"^(string_of_float (res.(i)))^\"\\n\");\n",
    "done;;"
   ]
  },
  {
   "cell_type": "markdown",
   "metadata": {
    "deletable": true,
    "editable": true
   },
   "source": [
    "<h3>Calcul théorique:</h3>\n",
    "<ol>\n",
    "<li start=\"2\"> On note $B$ la bonne clef et $M$ les mauvaises clefs.\n",
    "On cherche les probabilité de $B$ , $MB$ , $MMB$ , $MMMB$ , ... et $MMMMMMMB$ =\n",
    "$\\frac18$ , $\\frac78\\times\\frac17$, $\\frac78\\times\\frac67\\times\\frac16$, $...\\frac78\\times\\frac67\\times\\frac56\\times\\frac45\\times\\frac34\\times\\frac23\\times\\frac12\\times1$. On a une loi uniforme; toutes les probabilités valent $\\frac18$.\n",
    "<br>\n",
    "Autre méthode: $\\frac{\\textrm{toutes les permutations des mauvaises clefs}}{\\textrm{toutes les permutations de toutes les clefs}}=\\frac{7!}{8!}=\\frac18$\n",
    "</ol>"
   ]
  },
  {
   "cell_type": "markdown",
   "metadata": {
    "deletable": true,
    "editable": true
   },
   "source": [
    "<h2>Exercice 5</h2>\n",
    "Un joueur $A$ et un joueur $B$ lancent le même dé à tour de rôle.\n",
    "<br>\n",
    "Le joueur $A$ commence.\n",
    "<br>\n",
    "La partie s'arrête quand un joueur est le premier à obtenir un six. Ce joueur est alors déclaré vainqueur de la partie.\n",
    "\n",
    "<ol>\n",
    "<li> Ecrire un programme qui simule l'expérience aléatoire et qui retourne le nombre de lancers effectués et le nom du vainqueur.\n",
    "<li> Ecrire un programme, qui prend en argument le nombre $r$ de fois où on a répété l'expérience pour notre simulation et un entier $n\\geq1$, et qui retourne une estimation de la probabilité que la partie s'arrête au n$^{i\\grave eme}$ lancer\n",
    "<li> Ecrire un programme, qui prend en argument le nombre $r$ de fois où on a répété l'expérience pour notre simulation, et qui retourne une estimation de la probabilité que le joueur $A$ gagne la partie.\n",
    "<li> Ecrire un programme, qui prend en argument le nombre $r$ de fois où on a répété l'expérience pour notre simulation, et qui retourne une estimation de la probabilité que le joueur $B$ gagne la partie.\n",
    "</ol>"
   ]
  },
  {
   "cell_type": "code",
   "execution_count": 19,
   "metadata": {
    "collapsed": false,
    "deletable": true,
    "editable": true
   },
   "outputs": [
    {
     "name": "stdout",
     "output_type": "stream",
     "text": [
      "TD Ex 5: A et B jouent au dé\n",
      "0.189\n",
      "0.543"
     ]
    },
    {
     "data": {
      "text/html": [
       "<pre style=\"color:slategray;max-height:100px;overflow:hidden\" \n",
       "onclick=\"\n",
       "if (this.style.maxHeight === 'none') \n",
       "    this.style.maxHeight = '100px';\n",
       "else\n",
       "    this.style.maxHeight = 'none'; \n",
       "\">- : unit = ()\n",
       "</pre>"
      ]
     },
     "execution_count": 19,
     "metadata": {},
     "output_type": "execute_result"
    },
    {
     "data": {
      "text/html": [
       "<pre style=\"color:slategray;max-height:100px;overflow:hidden\" \n",
       "onclick=\"\n",
       "if (this.style.maxHeight === 'none') \n",
       "    this.style.maxHeight = '100px';\n",
       "else\n",
       "    this.style.maxHeight = 'none'; \n",
       "\">val tirage7 : unit -&gt; int * string = &lt;fun&gt;\n",
       "</pre>"
      ]
     },
     "execution_count": 19,
     "metadata": {},
     "output_type": "execute_result"
    },
    {
     "data": {
      "text/html": [
       "<pre style=\"color:slategray;max-height:100px;overflow:hidden\" \n",
       "onclick=\"\n",
       "if (this.style.maxHeight === 'none') \n",
       "    this.style.maxHeight = '100px';\n",
       "else\n",
       "    this.style.maxHeight = 'none'; \n",
       "\">val count_tirage7_egal_n : int -&gt; int -&gt; float = &lt;fun&gt;\n",
       "</pre>"
      ]
     },
     "execution_count": 19,
     "metadata": {},
     "output_type": "execute_result"
    },
    {
     "data": {
      "text/html": [
       "<pre style=\"color:slategray;max-height:100px;overflow:hidden\" \n",
       "onclick=\"\n",
       "if (this.style.maxHeight === 'none') \n",
       "    this.style.maxHeight = '100px';\n",
       "else\n",
       "    this.style.maxHeight = 'none'; \n",
       "\">- : unit = ()\n",
       "</pre>"
      ]
     },
     "execution_count": 19,
     "metadata": {},
     "output_type": "execute_result"
    },
    {
     "data": {
      "text/html": [
       "<pre style=\"color:slategray;max-height:100px;overflow:hidden\" \n",
       "onclick=\"\n",
       "if (this.style.maxHeight === 'none') \n",
       "    this.style.maxHeight = '100px';\n",
       "else\n",
       "    this.style.maxHeight = 'none'; \n",
       "\">- : unit = ()\n",
       "</pre>"
      ]
     },
     "execution_count": 19,
     "metadata": {},
     "output_type": "execute_result"
    },
    {
     "data": {
      "text/html": [
       "<pre style=\"color:slategray;max-height:100px;overflow:hidden\" \n",
       "onclick=\"\n",
       "if (this.style.maxHeight === 'none') \n",
       "    this.style.maxHeight = '100px';\n",
       "else\n",
       "    this.style.maxHeight = 'none'; \n",
       "\">val count_vainqueur_A : int -&gt; float = &lt;fun&gt;\n",
       "</pre>"
      ]
     },
     "execution_count": 19,
     "metadata": {},
     "output_type": "execute_result"
    },
    {
     "data": {
      "text/html": [
       "<pre style=\"color:slategray;max-height:100px;overflow:hidden\" \n",
       "onclick=\"\n",
       "if (this.style.maxHeight === 'none') \n",
       "    this.style.maxHeight = '100px';\n",
       "else\n",
       "    this.style.maxHeight = 'none'; \n",
       "\">- : unit = ()\n",
       "</pre>"
      ]
     },
     "execution_count": 19,
     "metadata": {},
     "output_type": "execute_result"
    }
   ],
   "source": [
    "(*TD Ex5*)\n",
    "print_string \"TD Ex 5: A et B jouent au dé\\n\";;\n",
    "let tirage7() =\n",
    "    let player=[|\"A\";\"B\"|] in\n",
    "    let rec loop num_player num_lancer =\n",
    "         if 1+Random.int 6!=6 \n",
    "         then loop (1-num_player) (num_lancer+1)\n",
    "         else num_lancer,player.(num_player) in\n",
    "    loop 0 1;;\n",
    "let count_tirage7_egal_n nbre_essais n =\n",
    "    let rec loop num_essai count =\n",
    "        if num_essai<nbre_essais\n",
    "        then begin\n",
    "            let num_lancer,vainqueur = tirage7() in\n",
    "            if num_lancer = n\n",
    "            then loop (num_essai+1) (count+1)\n",
    "            else loop (num_essai+1) count;\n",
    "        end else float_of_int count/.(float_of_int nbre_essais) in\n",
    "    loop 0 0;;\n",
    "print_float(count_tirage7_egal_n 1000 1);;\n",
    "print_newline();;\n",
    "let count_vainqueur_A nbre_essais =\n",
    "    let rec loop num_essai count =\n",
    "        if num_essai<nbre_essais\n",
    "        then begin\n",
    "            let num_lancer,vainqueur = tirage7() in\n",
    "            if vainqueur = \"A\"\n",
    "            then loop (num_essai+1) (count+1)\n",
    "            else loop (num_essai+1) count;\n",
    "        end else float_of_int count/.(float_of_int nbre_essais) in\n",
    "    loop 0 0;;\n",
    "print_float(count_vainqueur_A 1000);;"
   ]
  },
  {
   "cell_type": "markdown",
   "metadata": {
    "deletable": true,
    "editable": true
   },
   "source": [
    "<h3>Calcul théorique:</h3>\n",
    "\n",
    "<ol>\n",
    "<li start=\"2\"> Probabilité de $(n-1)$ échecs suivi d'un succès: $\\left(\\frac56\\right)^{n-1}\\times\\frac16$.\n",
    "<li>\n",
    "<table>\n",
    "<tr><td>lancer </td><td> joueur </td><td> probabilité de gagner</td></tr>\n",
    "<tr><td>$1^{er}$ </td><td> $A$ </td><td> $\\frac16$</td></tr>\n",
    "<tr><td>$2^{\\grave eme}$ </td><td> $B$ </td><td> $\\frac56.\\frac16$ </td></tr>\n",
    "<tr><td>$3^{\\grave eme}$ </td><td> $A$ </td><td> $\\left(\\frac56\\right)^2.\\frac16$</td></tr>\n",
    "\n",
    "<tr><td>$5^{\\grave eme}$ </td><td> $A$ </td><td> $\\left(\\frac56\\right)^4.\\frac16$</td></tr>\n",
    "</table>\n",
    "\n",
    "On rassemble les cas où le joueur est $A$. On cherche donc $\\displaystyle\\sum_{k=0}^\\infty \\left(\\frac56\\right)^{2k}.\\frac16=\\frac{1}{1-\\left(\\frac56\\right)^2}.\\frac16$.\n",
    "</ol>"
   ]
  },
  {
   "cell_type": "markdown",
   "metadata": {
    "deletable": true,
    "editable": true
   },
   "source": [
    "<h2>Exercice 6</h2>\n",
    "Chaque jour, un enseignant étourdi a, quand il commence sa journée avec ses notes de cours, une probabilité $\\frac14$ de les perdre au cours de la journée.\n",
    "<br>\n",
    "Il se rend à son lycée le lundi avec ses notes de cours.\n",
    "<ol>\n",
    "<li> Ecrire un programme qui simule l'expérience aléatoire et qui retourne le jour de la semaine où il a perdu ses notes de cours ( lundi, mardi, mercredi, jeudi ou vendredi ) ou non perdu s'il les a encore le vendredi soir.\n",
    "<li> Le vendredi, quand il rentre chez lui le soir, il ne trouve plus ses notes de cours dans son cartable.\n",
    "<br>\n",
    "Ecrire un programme, qui prend en argument le nombre $r$ de fois où on a répété l'expérience pour notre simulation, et qui retourne une estimation de la probabilité qu'il les ait perdues le lundi, le mardi, le mercredi , le jeudi, le vendredi.\n",
    "</ol>"
   ]
  },
  {
   "cell_type": "code",
   "execution_count": 24,
   "metadata": {
    "collapsed": false,
    "deletable": true,
    "editable": true
   },
   "outputs": [
    {
     "name": "stdout",
     "output_type": "stream",
     "text": [
      "TD Ex 6: prof perd son cours\n",
      "proba perdu le lundi=0.3287\n",
      "proba perdu le mardi=0.2507\n",
      "proba perdu le mercredi=0.1849\n",
      "proba perdu le jeudi=0.1315\n",
      "proba perdu le vendredi=0.1042\n"
     ]
    },
    {
     "data": {
      "text/html": [
       "<pre style=\"color:slategray;max-height:100px;overflow:hidden\" \n",
       "onclick=\"\n",
       "if (this.style.maxHeight === 'none') \n",
       "    this.style.maxHeight = '100px';\n",
       "else\n",
       "    this.style.maxHeight = 'none'; \n",
       "\">- : unit = ()\n",
       "</pre>"
      ]
     },
     "execution_count": 24,
     "metadata": {},
     "output_type": "execute_result"
    },
    {
     "data": {
      "text/html": [
       "<pre style=\"color:slategray;max-height:100px;overflow:hidden\" \n",
       "onclick=\"\n",
       "if (this.style.maxHeight === 'none') \n",
       "    this.style.maxHeight = '100px';\n",
       "else\n",
       "    this.style.maxHeight = 'none'; \n",
       "\">val jours_semaine : string array =\n",
       "  [|&quot;lundi&quot;; &quot;mardi&quot;; &quot;mercredi&quot;; &quot;jeudi&quot;; &quot;vendredi&quot;; &quot;non perdu&quot;|]\n",
       "</pre>"
      ]
     },
     "execution_count": 24,
     "metadata": {},
     "output_type": "execute_result"
    },
    {
     "data": {
      "text/html": [
       "<pre style=\"color:slategray;max-height:100px;overflow:hidden\" \n",
       "onclick=\"\n",
       "if (this.style.maxHeight === 'none') \n",
       "    this.style.maxHeight = '100px';\n",
       "else\n",
       "    this.style.maxHeight = 'none'; \n",
       "\">val perdre_cours : unit -&gt; int = &lt;fun&gt;\n",
       "</pre>"
      ]
     },
     "execution_count": 24,
     "metadata": {},
     "output_type": "execute_result"
    },
    {
     "data": {
      "text/html": [
       "<pre style=\"color:slategray;max-height:100px;overflow:hidden\" \n",
       "onclick=\"\n",
       "if (this.style.maxHeight === 'none') \n",
       "    this.style.maxHeight = '100px';\n",
       "else\n",
       "    this.style.maxHeight = 'none'; \n",
       "\">val proba_jour : int -&gt; float array = &lt;fun&gt;\n",
       "</pre>"
      ]
     },
     "execution_count": 24,
     "metadata": {},
     "output_type": "execute_result"
    },
    {
     "data": {
      "text/html": [
       "<pre style=\"color:slategray;max-height:100px;overflow:hidden\" \n",
       "onclick=\"\n",
       "if (this.style.maxHeight === 'none') \n",
       "    this.style.maxHeight = '100px';\n",
       "else\n",
       "    this.style.maxHeight = 'none'; \n",
       "\">- : unit = ()\n",
       "</pre>"
      ]
     },
     "execution_count": 24,
     "metadata": {},
     "output_type": "execute_result"
    }
   ],
   "source": [
    "(*TD Ex6*)\n",
    "print_string \"TD Ex 6: prof perd son cours\\n\";;\n",
    "let jours_semaine=[|\"lundi\";\"mardi\";\"mercredi\";\"jeudi\";\"vendredi\";\"non perdu\"|];;\n",
    "let perdre_cours() =\n",
    "    let rec loop jour =\n",
    "        if jour<5\n",
    "        then\n",
    "            if Random.float 1. < 0.25\n",
    "            then jour\n",
    "            else loop (jour+1)\n",
    "        else 5 (*None*) in\n",
    "    loop 0;;\n",
    "let proba_jour nbre_essais =\n",
    "    let counters = Array.make 6 0 in\n",
    "    let rec loop num_essai =\n",
    "        if num_essai<nbre_essais\n",
    "        then begin\n",
    "            let jour = perdre_cours() in\n",
    "            if jour != 5 \n",
    "            then begin\n",
    "                counters.(jour)<-counters.(jour)+1;\n",
    "                loop (num_essai+1);\n",
    "            end else loop num_essai\n",
    "        end in\n",
    "    loop 0;\n",
    "    Array.init 6 (fun i-> float_of_int counters.(i)/.(float_of_int nbre_essais));;\n",
    "let res = proba_jour 10000 in\n",
    "for i = 0 to 4 do\n",
    "    print_string (\"proba perdu le \"^(jours_semaine.(i))^\"=\"^(string_of_float res.(i))^\"\\n\");\n",
    "done;;"
   ]
  },
  {
   "cell_type": "markdown",
   "metadata": {
    "deletable": true,
    "editable": true
   },
   "source": [
    "<h3>Calcul théorique:</h3>\n",
    "\n",
    "<table>\n",
    "<tr><td>Jour </td><td> Probabilité de perdre ce jour</td></tr>\n",
    "<tr><td>lundi </td><td> $P_l=\\frac14$</td></tr>\n",
    "<tr><td>mardi </td><td> $P_m=\\frac34\\times\\frac14$</td></tr>\n",
    "<tr><td>mercredi </td><td> $P_{me}=\\left(\\frac34\\right)^2\\times\\frac14$ </td></tr>\n",
    "<tr><td>jeudi </td><td> $P_j=\\left(\\frac34\\right)^3\\times\\frac14$ </td></tr>\n",
    "<tr><td>vendredi </td><td> $P_v\\left(\\frac34\\right)^4\\times\\frac14$ </td></tr>\n",
    "</table>\n",
    "\n",
    "On cherche la probabilité de perdre le lundi par rapport à la probabilité de perdre du lundi au vendredi. $P=\\frac{P_l}{P_l+P_m+P_{me}+P_j+P_v}=\\frac{P_l}{1-\\left(\\frac34\\right)^5}$"
   ]
  },
  {
   "cell_type": "markdown",
   "metadata": {
    "deletable": true,
    "editable": true
   },
   "source": [
    "<h2>Exercice 7: gagner deux fois de suite</h2>\n",
    "\n",
    "On considère un jeu à plusieurs manches entre trois joueurs  $A$, $B$, $C$ qui se déroulent de la manière suivante :\n",
    "<ul>\n",
    "<li> Pour chaque manche, il n'y a qu'un vainqueur possible.\n",
    "\n",
    "<li> Lors de chaque $n^{i\\grave eme}$ manche ($n\\geq1$), quand elle a lieu,  $A$ et $B$ ont la même probabilité $p=\\frac15$ de la remporter  et $C$ a la probabilité $\\frac35$ de la remporter .\n",
    "\n",
    "<li> Le jeu s'arrête quand un des trois joueurs a remporté 2 manches consécutives et ce joueur est déclaré vainqueur du jeu.\n",
    "</ul>\n",
    "\n",
    "<ol>\n",
    "<li> Ecrire un programme qui simule l'expérience aléatoire et qui retourne le nom du vainqueur.\n",
    "<li> Ecrire un programme qui prend en argument le nombre $r$ de fois où on a répété l'expérience pour notre simulation, et qui retourne une estimation de la probabilité que $A$ soit le vainqueur.\n",
    "<li> Ecrire un programme qui prend en argument le nombre $r$ de fois où on a répété l'expérience pour notre simulation, et qui retourne une estimation de la probabilité que $C$ soit le vainqueur.\n",
    "</ol>"
   ]
  },
  {
   "cell_type": "code",
   "execution_count": 28,
   "metadata": {
    "collapsed": false,
    "deletable": true,
    "editable": true
   },
   "outputs": [
    {
     "name": "stdout",
     "output_type": "stream",
     "text": [
      "TD Ex 7: gagner deux fois de suite\n",
      "proba A vainqueur = 0.199851\n",
      "proba B vainqueur = 0.20104\n",
      "proba C vainqueur = 0.599109\n"
     ]
    },
    {
     "data": {
      "text/html": [
       "<pre style=\"color:slategray;max-height:100px;overflow:hidden\" \n",
       "onclick=\"\n",
       "if (this.style.maxHeight === 'none') \n",
       "    this.style.maxHeight = '100px';\n",
       "else\n",
       "    this.style.maxHeight = 'none'; \n",
       "\">- : unit = ()\n",
       "</pre>"
      ]
     },
     "execution_count": 28,
     "metadata": {},
     "output_type": "execute_result"
    },
    {
     "data": {
      "text/html": [
       "<pre style=\"color:slategray;max-height:100px;overflow:hidden\" \n",
       "onclick=\"\n",
       "if (this.style.maxHeight === 'none') \n",
       "    this.style.maxHeight = '100px';\n",
       "else\n",
       "    this.style.maxHeight = 'none'; \n",
       "\">val jeu_manche : unit -&gt; string = &lt;fun&gt;\n",
       "</pre>"
      ]
     },
     "execution_count": 28,
     "metadata": {},
     "output_type": "execute_result"
    },
    {
     "data": {
      "text/html": [
       "<pre style=\"color:slategray;max-height:100px;overflow:hidden\" \n",
       "onclick=\"\n",
       "if (this.style.maxHeight === 'none') \n",
       "    this.style.maxHeight = '100px';\n",
       "else\n",
       "    this.style.maxHeight = 'none'; \n",
       "\">val joueurs : string list = [&quot;A&quot;; &quot;B&quot;; &quot;C&quot;]\n",
       "</pre>"
      ]
     },
     "execution_count": 28,
     "metadata": {},
     "output_type": "execute_result"
    },
    {
     "data": {
      "text/html": [
       "<pre style=\"color:slategray;max-height:100px;overflow:hidden\" \n",
       "onclick=\"\n",
       "if (this.style.maxHeight === 'none') \n",
       "    this.style.maxHeight = '100px';\n",
       "else\n",
       "    this.style.maxHeight = 'none'; \n",
       "\">val num_joueurs : int list = [0; 1; 2]\n",
       "</pre>"
      ]
     },
     "execution_count": 28,
     "metadata": {},
     "output_type": "execute_result"
    },
    {
     "data": {
      "text/html": [
       "<pre style=\"color:slategray;max-height:100px;overflow:hidden\" \n",
       "onclick=\"\n",
       "if (this.style.maxHeight === 'none') \n",
       "    this.style.maxHeight = '100px';\n",
       "else\n",
       "    this.style.maxHeight = 'none'; \n",
       "\">val association : (string * int) list = [(&quot;A&quot;, 0); (&quot;B&quot;, 1); (&quot;C&quot;, 2)]\n",
       "</pre>"
      ]
     },
     "execution_count": 28,
     "metadata": {},
     "output_type": "execute_result"
    },
    {
     "data": {
      "text/html": [
       "<pre style=\"color:slategray;max-height:100px;overflow:hidden\" \n",
       "onclick=\"\n",
       "if (this.style.maxHeight === 'none') \n",
       "    this.style.maxHeight = '100px';\n",
       "else\n",
       "    this.style.maxHeight = 'none'; \n",
       "\">val _A_B_C_vainqueur : int -&gt; float array = &lt;fun&gt;\n",
       "</pre>"
      ]
     },
     "execution_count": 28,
     "metadata": {},
     "output_type": "execute_result"
    },
    {
     "data": {
      "text/html": [
       "<pre style=\"color:slategray;max-height:100px;overflow:hidden\" \n",
       "onclick=\"\n",
       "if (this.style.maxHeight === 'none') \n",
       "    this.style.maxHeight = '100px';\n",
       "else\n",
       "    this.style.maxHeight = 'none'; \n",
       "\">- : unit = ()\n",
       "</pre>"
      ]
     },
     "execution_count": 28,
     "metadata": {},
     "output_type": "execute_result"
    }
   ],
   "source": [
    "(*TD Ex7*)\n",
    "print_string \"TD Ex 7: gagner deux fois de suite\\n\";;\n",
    "let jeu_manche() =\n",
    "    let manche = [\"A\";\"B\";\"C\";\"C\";\"C\"] in\n",
    "    let rec loop ancien_vainqueur =\n",
    "        let manche' = shuffle manche in\n",
    "        let nouveau_vainqueur = List.hd manche' in\n",
    "        if nouveau_vainqueur != ancien_vainqueur\n",
    "        then loop nouveau_vainqueur\n",
    "        else nouveau_vainqueur in\n",
    "    loop \"\";;\n",
    "let joueurs = [\"A\";\"B\";\"C\"];;\n",
    "let num_joueurs = [0;1;2];;\n",
    "let association = List.combine joueurs num_joueurs;;\n",
    "\n",
    "let _A_B_C_vainqueur nbre_essais =\n",
    "    let count=Array.make 3 0 in\n",
    "    let rec loop num_essai =\n",
    "        if num_essai<nbre_essais\n",
    "        then begin\n",
    "            let vainqueur = jeu_manche() in\n",
    "            let num = List.assoc vainqueur association in\n",
    "            count.(num)<-count.(num)+1;\n",
    "            loop (num_essai+1);\n",
    "        end in\n",
    "    loop 0;\n",
    "    Array.init 3 (fun i-> float_of_int count.(i)/.(float_of_int nbre_essais));;\n",
    "\n",
    "let res = _A_B_C_vainqueur 1000000 in\n",
    "for i = 0 to 2 do\n",
    "    print_string (\"proba \"^(List.nth joueurs i)^\" vainqueur = \"^(string_of_float res.(i))^\"\\n\");\n",
    "done;;"
   ]
  },
  {
   "cell_type": "markdown",
   "metadata": {
    "deletable": true,
    "editable": true
   },
   "source": [
    "<h3>Calcul exact: en utilisant une matrice de transition</h3>\n",
    "\n",
    "On appelle $q$ la probabilité que $A$ gagne.\n",
    "<br>\n",
    "On appelle $q$ la probabilité que $B$ gagne.\n",
    "<br>\n",
    "On appelle $p=1-2.q$ la probabilité que $C$ gagne.\n",
    "<br>\n",
    "On appelle état le couple (vainqueur au tour $n-1$, vainqueur au tour $n$).\n",
    "<br>\n",
    "L'état suivant est le couple (vainqueur au tour $n$, vainqueur au tour $n+1$).\n",
    "<br>\n",
    "On forme la matrice de transition $M$ suivante:\n",
    "$$\\begin{array}{c|cccccccc}\n",
    "   & AA & AB & AC & BA & BB & BC & CA & CB & CC\\cr\n",
    "\\hline\n",
    "AA & 1&0&0& 0&0&0& 0&0&0\\cr\n",
    "AB & 0&0&0& q&q&p& 0&0&0\\cr\n",
    "AC & 0&0&0& 0&0&0& q&q&p\\cr\n",
    "BA & q&q&p& 0&0&0& 0&0&0\\cr\n",
    "BB & 0&0&0& 0&1&0& 0&0&0\\cr\n",
    "BC & 0&0&0& 0&0&0& q&q&p\\cr\n",
    "CA & q&q&p& 0&0&0& 0&0&0\\cr\n",
    "CB & 0&0&0& q&q&p& 0&0&0\\cr\n",
    "CC & 0&0&0& 0&0&0& 0&0&1\\cr\n",
    "\\end{array}$$\n",
    "\n",
    "$$M=\\begin{pmatrix}\n",
    " 1&0&0& 0&0&0& 0&0&0\\\\\n",
    " 0&0&0& q&q&p& 0&0&0\\\\\n",
    " 0&0&0& 0&0&0& q&q&p\\\\\n",
    " q&q&p& 0&0&0& 0&0&0\\\\\n",
    " 0&0&0& 0&1&0& 0&0&0\\\\\n",
    " 0&0&0& 0&0&0& q&q&p\\\\\n",
    " q&q&p& 0&0&0& 0&0&0\\\\\n",
    " 0&0&0& q&q&p& 0&0&0\\\\\n",
    " 0&0&0& 0&0&0& 0&0&1\\\\\n",
    "\\end{pmatrix}$$\n",
    "\n",
    "Si on veut obtenir la probabilité de chaque état au tour $n$, on crée un vecteur ligne $P_n$ correspondant aux probabilités de chaque état $P_n=\\begin{bmatrix}AA & AB & AC & BA & BB & BC & CA & CB & CC\\end{bmatrix}$.\n",
    "<br>\n",
    "On a: $P_0=\\begin{bmatrix} q^2 & q^2 & p.q & q^2 & q^2 & p.q & p.q & p.q & p^2\\end{bmatrix}$. On calcule $P_n$ par: $P_n=P_{n-1}.M$.\n",
    "<br>\n",
    "La probabilité que $A$ gagne est donnée par $\\lim_{n\\to\\infty} P_n(AA)=\\lim_{n\\to\\infty} P_{n,1}$.\n",
    "<br>\n",
    "La probabilité que $C$ gagne est donnée par $\\lim_{n\\to\\infty} P_n(CC)=\\lim_{n\\to\\infty} P_{n,9}$.\n",
    "<br>\n",
    "Si on diagonalise la matrice $M$, on a:\n",
    "$P_n=P_0.M^n=P_0.P.D^n.P^{-1}$ où $P$ est la matrice de passage et $D$ la matrice diagonale.\n",
    "<br>\n",
    "Pour $q=\\frac15$, on obtient:\n",
    "\n",
    "$D=\\begin{pmatrix}\n",
    "-2/5 \\\\\n",
    "  & -1/5 \\\\\n",
    "  &   & 0 \\\\\n",
    "  &   &   & 0 \\\\\n",
    "  &   &   &   & 0 \\\\\n",
    "  &   &   &   &   & 3/5 \\\\\n",
    "  &   &   &   &   &    & 1 \\\\\n",
    "  &   &   &   &   &    &   & 1 \\\\\n",
    "  &   &   &   &   &    &   &   & 1 \\\\\n",
    "\\end{pmatrix}$\n",
    "<br>\n",
    "d'où $\\lim_{n\\to\\infty}D^n=\\begin{pmatrix}\n",
    "0 \\\\\n",
    "  & 0 \\\\\n",
    "  &   & 0 \\\\\n",
    "  &   &   & 0 \\\\\n",
    "  &   &   &   & 0 \\\\\n",
    "  &   &   &   &   & 0 \\\\\n",
    "  &   &   &   &   &    & 1 \\\\\n",
    "  &   &   &   &   &    &   & 1 \\\\\n",
    "  &   &   &   &   &    &   &   & 1 \\\\\n",
    "\\end{pmatrix}$\n",
    "\n",
    "$P=\\begin{pmatrix}\n",
    " 0&  0&  0&  0&  0& 0& 22& -8/5& -9/5\\\\\n",
    " 1&  1& -3&  0&  0& 3&  0&    1&    0\\\\\n",
    "-1&  0&  1&  0&  0& 2&  1&  1/5&  3/5\\\\\n",
    " 1& -1&  0& -3&  0& 3&  5&    0&    0\\\\\n",
    " 0&  0&  0&  0&  0& 0& -8& 22/5& -9/5\\\\\n",
    "-1&  0&  0&  1&  0& 2&  1&  1/5&  3/5\\\\\n",
    " 1& -1&  0&  0& -1& 3&  5&    0&    0\\\\\n",
    " 1&  1&  0&  0&  1& 3&  0&    1&    0\\\\\n",
    " 0&  0&  0&  0&  0& 0&  0&    0&    1\\\\\n",
    "\\end{pmatrix}$\n",
    "<br>\n",
    "et $P^{-1}=\\begin{pmatrix}\n",
    " -1/35& -1/10& -3/10& -1/10& -1/35& -3/10& 3/10& 3/10&  9/35\\\\\n",
    "  1/12&   1/2&   3/2&  -1/2& -1/12&  -3/2&    0&    0&     0\\\\\n",
    "     0&  -1/6&   1/2&  -1/6&     0&  -1/2&  1/6&  1/6&     0\\\\\n",
    "     0&  -1/6&  -1/2&  -1/6&     0&   1/2&  1/6&  1/6&     0\\\\\n",
    "     0&  -1/2&  -3/2&   1/2&     0&   3/2& -1/2&  1/2&     0\\\\\n",
    " -1/20&  1/30&  1/10&  1/30& -1/20&  1/10& 1/15& 1/15& -3/10\\\\\n",
    "11/210&     0&     0&     0& 2/105&     0&    0&    0&  9/70\\\\\n",
    "  2/21&     0&     0&     0& 11/42&     0&    0&    0&  9/14\\\\\n",
    "     0&     0&     0&     0&     0&     0&    0&    0&     1\\\\\n",
    "\\end{pmatrix}$\n",
    " \n",
    "Finalement, on a:\n",
    "$\\lim_{n\\to\\infty}P_n=\\begin{bmatrix}4/35& 0& 0& 0& 4/35& 0& 0& 0& 27/35\\end{bmatrix}$"
   ]
  },
  {
   "cell_type": "markdown",
   "metadata": {
    "deletable": true,
    "editable": true
   },
   "source": [
    "<h3>Calcul exact: en utilisant les suites</h3>\n",
    "\n",
    "$A$ est vainqueur ssi il existe un entier $n\\geq2$  tel que le jeu s'arrête à la partie $n$ et $A$ gagne le jeu\n",
    "\n",
    "Le jeu s'arrête à la partie $n$ et  $A$ gagne le jeu ssi (le jeu n'est pas fini à la partie $n-1$ et que $A$ gagne la partie $n-1$) et que $A$  gagne la partie $n$.\n",
    "\n",
    "<ul>\n",
    "<li> Notons $A_n$  l'événement : « le jeu n'est pas fini à la partie $n$  et $A$  gagne la partie $n$  »\n",
    "<li> Notons $B_n$  l'événement : « le jeu n'est pas fini à la partie $n$  et $B$  gagne la partie $n$  »\n",
    "<li> Notons $C_n$  l'événement : « le jeu n'est pas fini à la partie $n$  et $C$  gagne la partie $n$  »\n",
    "</ul>\n",
    "\n",
    "Notons   $a_n=p(A_n)$, $b_n=P(B_n)$, $c_n=P(C_n)$.\n",
    "\n",
    "$A_{n+1}\\subset (B_n\\cup C_n)$. Aussi $a_{n+1}=\\frac15.b_n+\\frac15.c_n$&nbsp;&nbsp;&nbsp;&nbsp;(1)\n",
    "\n",
    "De même : $b_{n+1}=\\frac15.a_n+\\frac15.c_n$&nbsp;&nbsp;&nbsp;&nbsp;(2)  et $c_{n+1}=\\frac35.a_n+\\frac35.b_n$&nbsp;&nbsp;&nbsp;&nbsp;(3)\n",
    "\n",
    "Par récurrence immédiate, $a_n=b_n$ pour $n\\geq1$&nbsp;&nbsp;&nbsp;&nbsp;(4)  (on pouvait s'en douter vu le rôle symétrique joué par $A,B$)\n",
    "\n",
    "D'après (1) et (4): $\\forall n\\geq1$, $a_{n+2}=\\frac15.a_{n+1}+\\frac15.c_{n+1}=\\frac15.a_{n+1}+\\frac6{25}a_n$\n",
    "\n",
    "$\\forall n\\geq1$, $a_n=\\lambda.\\left(-\\frac25\\right)^n+\\mu.\\left(\\frac35\\right)^n$\n",
    "\n",
    "Or $a_1=\\frac15$  et   $a_2=\\frac35\\times\\frac15+\\frac15\\times\\frac15=\\frac4{25}$\n",
    "\n",
    "Donc $\\forall n\\geq1$, $a_n=\\frac1{10}.\\left(-\\frac25\\right)^n+\\frac25.\\left(\\frac35\\right)^n$\n",
    "\n",
    "Conclusion :\n",
    "\n",
    "La probabilité que $A$  gagne le jeu est donc :\n",
    "\n",
    "$\\displaystyle\\sum_{n=2}^\\infty\n",
    "\\frac15.\\left(\\frac1{10}.\\left(-\\frac25\\right)^{n-1}+\\frac25.\\left(\\frac35\\right)^{n-1}\\right)\n",
    "=\\frac15.\\left(\\frac1{10}.\\left(-\\frac25\\right)\\times\\frac1{1+\\frac25}+\\frac25.\\left(\\frac35\\right)\\times\\frac1{1-\\frac35}\\right)=\\frac4{35}$\n",
    "\n",
    "Ensuite, $\\forall n\\geq1$, $c_{n+1}=\\frac65.a_n$.     Or  $c_1=\\frac35=\\frac1{10}.\\left(-\\frac25\\right)^0+\\frac25.\\left(\\frac35\\right)^0$\n",
    "\n",
    "La probabilité que $C$  gagne le jeu est donc :  \n",
    "$\\displaystyle\\sum_{n=2}^\\infty\n",
    "\\frac35\\times\\frac65.\\left(\\frac1{10}.\\left(-\\frac25\\right)^{n-2}+\\frac25.\\left(\\frac35\\right)^{n-2}\\right)\n",
    "=\\frac{27}{35}$"
   ]
  },
  {
   "cell_type": "code",
   "execution_count": null,
   "metadata": {
    "collapsed": true,
    "deletable": true,
    "editable": true
   },
   "outputs": [],
   "source": []
  }
 ],
 "metadata": {
  "kernelspec": {
   "display_name": "OCaml",
   "language": "ocaml",
   "name": "iocaml"
  },
  "language_info": {
   "name": "ocaml",
   "version": "4.1.0"
  }
 },
 "nbformat": 4,
 "nbformat_minor": 2
}
