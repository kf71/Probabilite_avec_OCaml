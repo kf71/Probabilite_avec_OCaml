{
 "cells": [
  {
   "cell_type": "markdown",
   "metadata": {
    "collapsed": true
   },
   "source": [
    "<h1> Calcul de $\\pi$ </h1>\n",
    "\n",
    "<h2> Position du problème </h2>\n",
    "\n",
    "On se propose d'étudier différentes méthodes pour calculer les décimales du nombre $\\pi$.\n",
    "\n",
    "<h3> Convergence d'une suite </h3>\n",
    "\n",
    "<h4> Méthode d'Archimède </h4>\n",
    "\n",
    "Le premier calcul mathématique de $\\pi$ remonte à Archimède de Syracuse (287-212 avant J.-C.). Celui-ci reposait sur un encadrement du périmètre du cercle par ceux de polygones réguliers inscrit et circonscrits. Soit $p_n$ le périmètre d'un polygone régulier à $n$ côtés inscrit dans un cercle de diamètre unité et $p'_n$ celui d'un polygone régulier à $n$ côtés circonscrit au même cercle. En utilisant l'inégalité $p_n<\\pi<p'_n$ pour $n=6\\times 2^k$, on peut obtenir une approximation de $\\pi$ avec:\n",
    "\n",
    "&nbsp;&nbsp;&nbsp;&nbsp;&nbsp;$p_n=n.u_n$   $\\Big ($où $u_n=\\sin{\\pi\\over n}$, $u_6={1\\over2}$ et $u_{2n}=\\sqrt{{1-\\sqrt{1-u_n^2}}\\over2}$ $\\Big)$<br>\n",
    "&nbsp;&nbsp;&nbsp;&nbsp;&nbsp; et $p'_n=n.u'_n$ $\\Big ($où $u'_n=\\tan{\\pi\\over n}$, $u'_6={1\\over\\sqrt{3}}$ et $u'_{2n}={u_n\\over\\sqrt{1-u_n^2}}$ $\\Big)$.\n",
    "\n",
    "Programmer le calcul de la suite $u_n$ par une méthode itérative et par une méthode récursive.\n",
    "\n",
    "Pour évaluer la vitesse de convergence de cette suite, tracer $\\log(\\pi-p_n)$ en fonction de $n$."
   ]
  },
  {
   "cell_type": "code",
   "execution_count": 1,
   "metadata": {
    "collapsed": false
   },
   "outputs": [
    {
     "name": "stdout",
     "output_type": "stream",
     "text": [
      "- : unit = ()\n",
      "Findlib has been successfully loaded. Additional directives:\n",
      "  #require \"package\";;      to load a package\n",
      "  #list;;                   to list the available packages\n",
      "  #camlp4o;;                to load camlp4 (standard syntax)\n",
      "  #camlp4r;;                to load camlp4 (revised syntax)\n",
      "  #predicates \"p,q,...\";;   to set these predicates\n",
      "  Topfind.reset();;         to force that packages will be reloaded\n",
      "  #thread;;                 to enable threads\n",
      "\n",
      "- : unit = ()\n"
     ]
    },
    {
     "name": "stderr",
     "output_type": "stream",
     "text": [
      "/usr/lib/ocaml/plplot: added to search path\n",
      "/usr/lib/ocaml/plplot/plplot.cma: loaded\n"
     ]
    }
   ],
   "source": [
    "#use \"topfind\";;\n",
    "#require \"plplot\";;\n",
    "open Plplot;;"
   ]
  },
  {
   "cell_type": "code",
   "execution_count": 2,
   "metadata": {
    "collapsed": false
   },
   "outputs": [
    {
     "data": {
      "text/html": [
       "<pre style=\"color:slategray;max-height:100px;overflow:hidden\" \n",
       "onclick=\"\n",
       "if (this.style.maxHeight === 'none') \n",
       "    this.style.maxHeight = '100px';\n",
       "else\n",
       "    this.style.maxHeight = 'none'; \n",
       "\">val range : int -&gt; int -&gt; int list = &lt;fun&gt;\n",
       "</pre>"
      ]
     },
     "execution_count": 2,
     "metadata": {},
     "output_type": "execute_result"
    }
   ],
   "source": [
    "let range debut fin =\n",
    "   let rec range i acc =\n",
    "     if i=fin then List.rev acc\n",
    "     else range (i+1) (i::acc) in\n",
    "   range debut [];;"
   ]
  },
  {
   "cell_type": "code",
   "execution_count": 3,
   "metadata": {
    "collapsed": false
   },
   "outputs": [
    {
     "data": {
      "text/html": [
       "<pre style=\"color:slategray;max-height:100px;overflow:hidden\" \n",
       "onclick=\"\n",
       "if (this.style.maxHeight === 'none') \n",
       "    this.style.maxHeight = '100px';\n",
       "else\n",
       "    this.style.maxHeight = 'none'; \n",
       "\">val pi : float = 3.14159265358979312\n",
       "</pre>"
      ]
     },
     "execution_count": 3,
     "metadata": {},
     "output_type": "execute_result"
    },
    {
     "data": {
      "text/html": [
       "<pre style=\"color:slategray;max-height:100px;overflow:hidden\" \n",
       "onclick=\"\n",
       "if (this.style.maxHeight === 'none') \n",
       "    this.style.maxHeight = '100px';\n",
       "else\n",
       "    this.style.maxHeight = 'none'; \n",
       "\">val u : int -&gt; float = &lt;fun&gt;\n",
       "</pre>"
      ]
     },
     "execution_count": 3,
     "metadata": {},
     "output_type": "execute_result"
    },
    {
     "data": {
      "text/html": [
       "<pre style=\"color:slategray;max-height:100px;overflow:hidden\" \n",
       "onclick=\"\n",
       "if (this.style.maxHeight === 'none') \n",
       "    this.style.maxHeight = '100px';\n",
       "else\n",
       "    this.style.maxHeight = 'none'; \n",
       "\">val archimede : int -&gt; float = &lt;fun&gt;\n",
       "</pre>"
      ]
     },
     "execution_count": 3,
     "metadata": {},
     "output_type": "execute_result"
    },
    {
     "data": {
      "text/html": [
       "<pre style=\"color:slategray;max-height:100px;overflow:hidden\" \n",
       "onclick=\"\n",
       "if (this.style.maxHeight === 'none') \n",
       "    this.style.maxHeight = '100px';\n",
       "else\n",
       "    this.style.maxHeight = 'none'; \n",
       "\">val erreur : int -&gt; float = &lt;fun&gt;\n",
       "</pre>"
      ]
     },
     "execution_count": 3,
     "metadata": {},
     "output_type": "execute_result"
    },
    {
     "data": {
      "text/html": [
       "<pre style=\"color:slategray;max-height:100px;overflow:hidden\" \n",
       "onclick=\"\n",
       "if (this.style.maxHeight === 'none') \n",
       "    this.style.maxHeight = '100px';\n",
       "else\n",
       "    this.style.maxHeight = 'none'; \n",
       "\">val pow : int -&gt; int -&gt; int = &lt;fun&gt;\n",
       "</pre>"
      ]
     },
     "execution_count": 3,
     "metadata": {},
     "output_type": "execute_result"
    },
    {
     "data": {
      "text/html": [
       "<pre style=\"color:slategray;max-height:100px;overflow:hidden\" \n",
       "onclick=\"\n",
       "if (this.style.maxHeight === 'none') \n",
       "    this.style.maxHeight = '100px';\n",
       "else\n",
       "    this.style.maxHeight = 'none'; \n",
       "\">- : unit = ()\n",
       "</pre>"
      ]
     },
     "execution_count": 3,
     "metadata": {},
     "output_type": "execute_result"
    }
   ],
   "source": [
    "let pi =atan 1. *. 4.;;\n",
    "\n",
    "let rec u n =\n",
    "    if n=6 then 0.5 else\n",
    "    sqrt((1.-.sqrt(1.-. (u (n/2))**2.))/.2.);;\n",
    "\n",
    "let archimede n =\n",
    "    float_of_int n*.(u n);;\n",
    "\n",
    "let erreur n =\n",
    "    pi-.(archimede n);;\n",
    "\n",
    "let rec pow x n =\n",
    "    if n=0 then 1 else\n",
    "    if n=1 then x else \n",
    "    if n mod 2 = 0 then pow (x*x) (n/2)\n",
    "    else x*(pow (x*x) (n/2));;\n",
    "\n",
    "let liste_n=range 0 10 in\n",
    "let f n = log10 (erreur (6*(pow 2 n))) in \n",
    "let liste_erreur = List.map f liste_n in\n",
    "\n",
    "    let xs = Array.of_list (List.map float_of_int liste_n) in\n",
    "    plsdev (\"png\");\n",
    "    plsfnam(\"image_archimede.png\");\n",
    "    plscolbg 255 255 255; (* définit la couleur n°0 *)\n",
    "    plscol0 15 0 0 0; (* définit la couleur n°15 *)\n",
    "    plinit ();\n",
    "    plcol0 15;\n",
    "    plenv 0. 9. (-7.) (-1.) 0 0;\n",
    "    (* xmin xmax ymin ymax x0 y0 *)\n",
    "    let ys = Array.of_list liste_erreur in\n",
    "    plcol0 15;\n",
    "    plpoin xs ys 1; (* 1 = num du symbole *)\n",
    "    \n",
    "    plcol0 15;\n",
    "    plmtex \"b\" 3.0 0.5 0.5 \"n\";\n",
    "    plmtex \"l\" 5.0 0.5 0.5 \"log (pi-Archimede(n))\";\n",
    "    plend ();;"
   ]
  },
  {
   "cell_type": "markdown",
   "metadata": {},
   "source": [
    "<img src=\"./image_archimede.png\" width=750 />"
   ]
  },
  {
   "cell_type": "markdown",
   "metadata": {},
   "source": [
    "<h4> Méthode de Monte-Carlo</h4>\n",
    "\n",
    "Tirer au sort un couple $(x_i,y_i)$ de nombres compris entre 0 et 1.\n",
    "\n",
    "Evaluer $r_i=\\sqrt{x_i^2+y_i^2}$. Si $r_i\\le 1$, alors incrémenter un compteur $c$.\n",
    "\n",
    "Réitérer le calcul pour un très grand nombre $n$ de couples $\\{(x_i,y_i)\\}$.\n",
    "\n",
    "Tracer $u_n=4\\times c/n$ en fonction de $n$."
   ]
  },
  {
   "cell_type": "code",
   "execution_count": 4,
   "metadata": {
    "collapsed": false
   },
   "outputs": [
    {
     "data": {
      "text/html": [
       "<pre style=\"color:slategray;max-height:100px;overflow:hidden\" \n",
       "onclick=\"\n",
       "if (this.style.maxHeight === 'none') \n",
       "    this.style.maxHeight = '100px';\n",
       "else\n",
       "    this.style.maxHeight = 'none'; \n",
       "\">- : unit = ()\n",
       "</pre>"
      ]
     },
     "execution_count": 4,
     "metadata": {},
     "output_type": "execute_result"
    }
   ],
   "source": [
    "let tirage_max = 10000 in\n",
    "let liste_n = range 1 tirage_max in\n",
    "\n",
    "let rec monte_carlo tirage_num liste inclus =\n",
    "    if tirage_num = tirage_max then List.rev liste\n",
    "    else begin\n",
    "        if (Random.float 1.)**2.+.(Random.float 1.)**2.<=1. then\n",
    "        monte_carlo (tirage_num+1) ((float_of_int(4*(inclus+1))/.(float_of_int tirage_num))::liste) (inclus+1)\n",
    "        else\n",
    "        monte_carlo (tirage_num+1) ((float_of_int(4*(inclus))/.(float_of_int tirage_num))::liste) inclus\n",
    "        end in\n",
    "    \n",
    "let liste = monte_carlo 1 [] 0 in\n",
    "\n",
    "    let xs = Array.of_list (List.map float_of_int liste_n) in\n",
    "    plsdev (\"png\");\n",
    "    plsfnam(\"image_monte_carlo.png\");\n",
    "    plscolbg 255 255 255; (* définit la couleur n°0 *)\n",
    "    plscol0 15 0 0 0; (* définit la couleur n°15 *)\n",
    "    plinit ();\n",
    "    plcol0 15;\n",
    "    plenv 0. 10000. 2.5 3.6 0 0;\n",
    "    (* xmin xmax ymin ymax x0 y0 *)\n",
    "    let ys = Array.of_list liste in\n",
    "    plcol0 15;\n",
    "    plline xs ys;\n",
    "    plcol0 1;\n",
    "    plline [|0.;10000.|] [|pi;pi|];\n",
    "    plcol0 15;\n",
    "    plmtex \"b\" 3.0 0.5 0.5 \"n tirages\";\n",
    "    plmtex \"l\" 5.0 0.5 0.5 \"Monte Carlo avec n tirages\";\n",
    "    let opt_array = [| [PL_LEGEND_LINE];[PL_LEGEND_LINE]|] in\n",
    "    let array_colors = [|15;1|] in \n",
    "    let text_colors = array_colors in\n",
    "    let text = [|\"Monte-Carlo\";\"pi\"|] in\n",
    "    let line_colors = array_colors in\n",
    "    let line_styles = [|1;1|] in\n",
    "    let line_widths = [|1.;1.|] in\n",
    "    (* note from the above opt_array the first symbol (and box) indices\n",
    "       do not matter *)\n",
    "\n",
    "    (* Second legend entry. *)\n",
    "    let symbol_colors = [|15;1|] in\n",
    "    let symbol_scales = [|1.;1.|] in\n",
    "    let symbol_numbers = [|1;1|] in\n",
    "    let symbols = [|\"\";\"\"|]  in\n",
    "    (* from the above opt_arrays we can completely ignore everything\n",
    "       to do with boxes *)\n",
    "\n",
    "    plscol0a 14 32 32 32 0.10;\n",
    "    ignore (\n",
    "      pllegend [PL_LEGEND_BACKGROUND; PL_LEGEND_BOUNDING_BOX] []\n",
    "        0.0 0.0 0.1 14\n",
    "        1 1 0 0\n",
    "        opt_array\n",
    "        1.0 1.0 2.0\n",
    "        1.0 text_colors text\n",
    "        [||] [||] [||] [||]\n",
    "        line_colors line_styles line_widths\n",
    "        symbol_colors symbol_scales symbol_numbers symbols\n",
    "    );\n",
    "    plend ();"
   ]
  },
  {
   "cell_type": "markdown",
   "metadata": {},
   "source": [
    "<img src=\"./image_monte_carlo.png\" width=750 />"
   ]
  },
  {
   "cell_type": "markdown",
   "metadata": {},
   "source": [
    "Pour la suite, on a besoin de connaître $\\pi$ avec un grande précision.\n",
    "\n",
    "Pour cela, on utilisera la bibliothèque <b>Num</b>"
   ]
  },
  {
   "cell_type": "code",
   "execution_count": 5,
   "metadata": {
    "collapsed": false
   },
   "outputs": [
    {
     "name": "stderr",
     "output_type": "stream",
     "text": [
      "/usr/lib/ocaml/nums.cma: loaded\n",
      "/usr/lib/ocaml/num-top: added to search path\n",
      "/usr/lib/ocaml/num-top/num_top.cma: loaded\n"
     ]
    },
    {
     "data": {
      "text/html": [
       "<pre style=\"color:slategray;max-height:100px;overflow:hidden\" \n",
       "onclick=\"\n",
       "if (this.style.maxHeight === 'none') \n",
       "    this.style.maxHeight = '100px';\n",
       "else\n",
       "    this.style.maxHeight = 'none'; \n",
       "\">val pi_500 : Num.num =\n",
       "  &lt;num 31415926535897932384626433832795028841971693993751058209749445923078164062862089986280348253421170679821480865132823066470938446095505822317253594081284811174502841027019385211055596446229489549303819644288109756659334461284756482337867831652712019091456485669234603486104543266482133936072602491412737245870066063155881748815209209628292540917153643678925903600113305305488204665213841469519415116094330572703657595919530921861173819326117931051185480744623799627495673518857527248912279381830119491/10000000000000000000000000000000000000000000000000000000000000000000000000000000000000000000000000000000000000000000000000000000000000000000000000000000000000000000000000000000000000000000000000000000000000000000000000000000000000000000000000000000000000000000000000000000000000000000000000000000000000000000000000000000000000000000000000000000000000000000000000000000000000000000000000000000000000000000000000000000000000000000000000000000000000000000000000000000000000000000000000000000000000000000&gt;\n",
       "</pre>"
      ]
     },
     "execution_count": 5,
     "metadata": {},
     "output_type": "execute_result"
    },
    {
     "data": {
      "text/html": [
       "<pre style=\"color:slategray;max-height:100px;overflow:hidden\" \n",
       "onclick=\"\n",
       "if (this.style.maxHeight === 'none') \n",
       "    this.style.maxHeight = '100px';\n",
       "else\n",
       "    this.style.maxHeight = 'none'; \n",
       "\">- : float = 3.14159265359\n",
       "</pre>"
      ]
     },
     "execution_count": 5,
     "metadata": {},
     "output_type": "execute_result"
    }
   ],
   "source": [
    "#require \"num\";;\n",
    "open Num;;\n",
    "let pi_500 = Num.num_of_string(\"31415926535897932384626433832795028841971693993751058209749445923078164062862089986280348253421170679821480865132823066470938446095505822317253594081284811174502841027019385211055596446229489549303819644288109756659334461284756482337867831652712019091456485669234603486104543266482133936072602491412737245870066063155881748815209209628292540917153643678925903600113305305488204665213841469519415116094330572703657595919530921861173819326117931051185480744623799627495673518857527248912279381830119491\") // \n",
    "Num.num_of_string(\"1\"^(String.make 499 '0'));;\n",
    "float_of_num pi_500"
   ]
  },
  {
   "cell_type": "code",
   "execution_count": 6,
   "metadata": {
    "collapsed": false
   },
   "outputs": [
    {
     "data": {
      "text/html": [
       "<pre style=\"color:slategray;max-height:100px;overflow:hidden\" \n",
       "onclick=\"\n",
       "if (this.style.maxHeight === 'none') \n",
       "    this.style.maxHeight = '100px';\n",
       "else\n",
       "    this.style.maxHeight = 'none'; \n",
       "\">val sqrt_2 : Num.num =\n",
       "  &lt;num 3535533905932737622004221810524245196424179688442370182941699344976831196155267597125968835819103931837534615577280742562312090139626843031610303742749839578533056664818763981889499876252881955151428675273899929014925686336492155036821293546602222996523880823076210771785803627099406509069988128519974218133491365829522074101551538145880987636864375719399904324588938050843829642528385936508521247117900967249926747512037576360069475791135619557671232342296553951446157778991671782532539046422468093/2500000000000000000000000000000000000000000000000000000000000000000000000000000000000000000000000000000000000000000000000000000000000000000000000000000000000000000000000000000000000000000000000000000000000000000000000000000000000000000000000000000000000000000000000000000000000000000000000000000000000000000000000000000000000000000000000000000000000000000000000000000000000000000000000000000000000000000000000000000000000000000000000000000000000000000000000000000000000000000000000000000000000000000&gt;\n",
       "</pre>"
      ]
     },
     "execution_count": 6,
     "metadata": {},
     "output_type": "execute_result"
    },
    {
     "data": {
      "text/html": [
       "<pre style=\"color:slategray;max-height:100px;overflow:hidden\" \n",
       "onclick=\"\n",
       "if (this.style.maxHeight === 'none') \n",
       "    this.style.maxHeight = '100px';\n",
       "else\n",
       "    this.style.maxHeight = 'none'; \n",
       "\">- : float = 1.41421356237\n",
       "</pre>"
      ]
     },
     "execution_count": 6,
     "metadata": {},
     "output_type": "execute_result"
    }
   ],
   "source": [
    "let sqrt_2 = Num.num_of_string(\"14142135623730950488016887242096980785696718753769480731766797379907324784621070388503875343276415727350138462309122970249248360558507372126441214970999358314132226659275055927557999505011527820605714701095599716059702745345968620147285174186408891986095523292304843087143214508397626036279952514079896872533965463318088296406206152583523950547457502877599617298355752203375318570113543746034084988471603868999706990048150305440277903164542478230684929369186215805784631115966687130130156185689872372\") //\n",
    "Num.num_of_string(\"1\"^(String.make 499 '0'));;\n",
    "float_of_num sqrt_2"
   ]
  },
  {
   "cell_type": "markdown",
   "metadata": {},
   "source": [
    "<h4> Convergence d'une série</h4>\n",
    "\n",
    "<h5> Série $\\textrm{Arctan}$</h5>\n",
    "\n",
    "D'après la formule de J. Gregory (1638-1675): $\\textrm{Arctan} (x)=\\displaystyle\\sum_{k=0}^{+\\infty}{(-1)^k.x^{2k+1}\\over2k+1}$.\n",
    "Lorsque l'on arrête la série au rang $n$, l'erreur commise est inférieure ou de l'ordre de ${|x|^{2n+3}\\over2n+3}$.\n",
    "\n",
    "On en déduit la formule de Leibniz: ${\\pi\\over4}=\\textrm{Arctan} 1=\\displaystyle\\sum_{k=0}^{+\\infty}{(-1)^k\\over2k+1}$.<br>\n",
    "&nbsp;&nbsp;&nbsp;&nbsp;&nbsp; Programmer le calcul de la série $S_n=4\\times\\displaystyle\\sum_{k=0}^{n}{(-1)^k\\over2k+1}$.<br>\n",
    "&nbsp;&nbsp;&nbsp;&nbsp;&nbsp; Pour évaluer la vitesse de convergence de cette suite, tracer $\\log(|\\pi-S_n|)$ en fonction de $n$."
   ]
  },
  {
   "cell_type": "code",
   "execution_count": 7,
   "metadata": {
    "collapsed": false
   },
   "outputs": [
    {
     "data": {
      "text/html": [
       "<pre style=\"color:slategray;max-height:100px;overflow:hidden\" \n",
       "onclick=\"\n",
       "if (this.style.maxHeight === 'none') \n",
       "    this.style.maxHeight = '100px';\n",
       "else\n",
       "    this.style.maxHeight = 'none'; \n",
       "\">val serie_ArcTan : Num.num -&gt; int -&gt; Num.num = &lt;fun&gt;\n",
       "</pre>"
      ]
     },
     "execution_count": 7,
     "metadata": {},
     "output_type": "execute_result"
    }
   ],
   "source": [
    "(* Arctan *)\n",
    "let serie_ArcTan x n =\n",
    "    let moins_un_puissance_k k =\n",
    "    if k mod 2 = 0 then Num.Int(1) else Num.Int(-1) in\n",
    "    \n",
    "    let rec calc k sum =\n",
    "    if k=n then sum\n",
    "    else calc (k+1) (sum +/ ( (moins_un_puissance_k k) */ (x **/ Num.Int(2*k+1))) // Num.Int(2*k+1)) in \n",
    "    calc 0 (Num.Int(0));;"
   ]
  },
  {
   "cell_type": "code",
   "execution_count": 8,
   "metadata": {
    "collapsed": false
   },
   "outputs": [
    {
     "data": {
      "text/html": [
       "<pre style=\"color:slategray;max-height:100px;overflow:hidden\" \n",
       "onclick=\"\n",
       "if (this.style.maxHeight === 'none') \n",
       "    this.style.maxHeight = '100px';\n",
       "else\n",
       "    this.style.maxHeight = 'none'; \n",
       "\">val erreur : int -&gt; Num.num = &lt;fun&gt;\n",
       "</pre>"
      ]
     },
     "execution_count": 8,
     "metadata": {},
     "output_type": "execute_result"
    },
    {
     "data": {
      "text/html": [
       "<pre style=\"color:slategray;max-height:100px;overflow:hidden\" \n",
       "onclick=\"\n",
       "if (this.style.maxHeight === 'none') \n",
       "    this.style.maxHeight = '100px';\n",
       "else\n",
       "    this.style.maxHeight = 'none'; \n",
       "\">val liste_n : int list =\n",
       "  [1; 2; 3; 4; 5; 6; 7; 8; 9; 10; 11; 12; 13; 14; 15; 16; 17; 18; 19; 20; 21;\n",
       "   22; 23; 24; 25; 26; 27; 28; 29; 30; 31; 32; 33; 34; 35; 36; 37; 38; 39;\n",
       "   40; 41; 42; 43; 44; 45; 46; 47; 48; 49; 50; 51; 52; 53; 54; 55; 56; 57;\n",
       "   58; 59; 60; 61; 62; 63; 64; 65; 66; 67; 68; 69; 70; 71; 72; 73; 74; 75;\n",
       "   76; 77; 78; 79; 80; 81; 82; 83; 84; 85; 86; 87; 88; 89; 90; 91; 92; 93;\n",
       "   94; 95; 96; 97; 98; 99; 100; 101; 102; 103; 104; 105; 106; 107; 108; 109;\n",
       "   110; 111; 112; 113; 114; 115; 116; 117; 118; 119; 120; 121; 122; 123; 124;\n",
       "   125; 126; 127; 128; 129; 130; 131; 132; 133; 134; 135; 136; 137; 138; 139;\n",
       "   140; 141; 142; 143; 144; 145; 146; 147; 148; 149; 150; 151; 152; 153; 154;\n",
       "   155; 156; 157; 158; 159; 160; 161; 162; 163; 164; 165; 166; 167; 168; 169;\n",
       "   170; 171; 172; 173; 174; 175; 176; 177; 178; 179; 180; 181; 182; 183; 184;\n",
       "   185; 186; 187; 188; 189; 190; 191; 192; 193; 194; 195; 196; 197; 198; 199;\n",
       "   200; 201; 202; 203; 204; 205; 206; 207; 208; 209; 210; 211; 212; 213; 214;\n",
       "   215; 216; 217; 218; 219; 220; 221; 222; 223; 224; 225; 226; 227; 228; 229;\n",
       "   230; 231; 232; 233; 234; 235; 236; 237; 238; 239; 240; 241; 242; 243; 244;\n",
       "   245; 246; 247; 248; 249; 250; 251; 252; 253; 254; 255; 256; 257; 258; 259;\n",
       "   260; 261; 262; 263; 264; 265; 266; 267; 268; 269; 270; 271; 272; 273; 274;\n",
       "   275; 276; 277; 278; 279; 280; 281; 282; 283; 284; 285; 286; 287; 288; 289;\n",
       "   290; 291; 292; 293; 294; 295; 296; 297; 298; 299; ...]\n",
       "</pre>"
      ]
     },
     "execution_count": 8,
     "metadata": {},
     "output_type": "execute_result"
    },
    {
     "data": {
      "text/html": [
       "<pre style=\"color:slategray;max-height:100px;overflow:hidden\" \n",
       "onclick=\"\n",
       "if (this.style.maxHeight === 'none') \n",
       "    this.style.maxHeight = '100px';\n",
       "else\n",
       "    this.style.maxHeight = 'none'; \n",
       "\">- : unit = ()\n",
       "</pre>"
      ]
     },
     "execution_count": 8,
     "metadata": {},
     "output_type": "execute_result"
    }
   ],
   "source": [
    "let erreur n = let e = (pi_500 -/ Num.Int(4) */ (serie_ArcTan (Num.Int 1) n)) in\n",
    "               if e</ (Num.Int 0) then (Num.minus_num e) else e;;\n",
    "        \n",
    "let liste_n = range 1 500;;\n",
    "let f i = log10 (float_of_num (erreur i)) in\n",
    "let liste_erreur = List.map f liste_n in\n",
    "\n",
    "    let xs = Array.of_list (List.map float_of_int liste_n) in\n",
    "    plsdev (\"png\");\n",
    "    plsfnam(\"image_arctan.png\");\n",
    "    plscolbg 255 255 255; (* définit la couleur n°0 *)\n",
    "    plscol0 15 0 0 0; (* définit la couleur n°15 *)\n",
    "    plinit ();\n",
    "    plcol0 15;\n",
    "    plenv 0. 500. (-3.) 0. 0 0;\n",
    "    (* xmin xmax ymin ymax x0 y0 *)\n",
    "    let ys = Array.of_list liste_erreur in\n",
    "    plcol0 15;\n",
    "    plline xs ys;\n",
    "    plmtex \"b\" 3.0 0.5 0.5 \"n\";\n",
    "    plmtex \"l\" 5.0 0.5 0.5 \"log10 ( pi - 4*(Arctan 1 à l'ordre n) )\";\n",
    "    plend ();"
   ]
  },
  {
   "cell_type": "markdown",
   "metadata": {},
   "source": [
    "<img src=\"./image_arctan.png\" width=750 />"
   ]
  },
  {
   "cell_type": "markdown",
   "metadata": {},
   "source": [
    "Cette série convergeant assez lentement (car $x=1$), on peut - pour accélérer la convergence - utiliser des\n",
    "combinaisons de fonctions $\\textrm{Arctan} x$ avec $x\\ll1$. Programmer une série utilisant la formule de Gauss:\n",
    "$\\pi=48.\\textrm{Arctan}{1\\over18}+32.\\textrm{Arctan}{1\\over57}-20.\\textrm{Arctan}{1\\over239}$"
   ]
  },
  {
   "cell_type": "code",
   "execution_count": 9,
   "metadata": {
    "collapsed": false
   },
   "outputs": [
    {
     "data": {
      "text/html": [
       "<pre style=\"color:slategray;max-height:100px;overflow:hidden\" \n",
       "onclick=\"\n",
       "if (this.style.maxHeight === 'none') \n",
       "    this.style.maxHeight = '100px';\n",
       "else\n",
       "    this.style.maxHeight = 'none'; \n",
       "\">val gauss : int -&gt; Num.num = &lt;fun&gt;\n",
       "</pre>"
      ]
     },
     "execution_count": 9,
     "metadata": {},
     "output_type": "execute_result"
    },
    {
     "data": {
      "text/html": [
       "<pre style=\"color:slategray;max-height:100px;overflow:hidden\" \n",
       "onclick=\"\n",
       "if (this.style.maxHeight === 'none') \n",
       "    this.style.maxHeight = '100px';\n",
       "else\n",
       "    this.style.maxHeight = 'none'; \n",
       "\">val erreur : int -&gt; Num.num = &lt;fun&gt;\n",
       "</pre>"
      ]
     },
     "execution_count": 9,
     "metadata": {},
     "output_type": "execute_result"
    },
    {
     "data": {
      "text/html": [
       "<pre style=\"color:slategray;max-height:100px;overflow:hidden\" \n",
       "onclick=\"\n",
       "if (this.style.maxHeight === 'none') \n",
       "    this.style.maxHeight = '100px';\n",
       "else\n",
       "    this.style.maxHeight = 'none'; \n",
       "\">- : unit = ()\n",
       "</pre>"
      ]
     },
     "execution_count": 9,
     "metadata": {},
     "output_type": "execute_result"
    }
   ],
   "source": [
    "let gauss n =\n",
    "    let un_sur_dixhuit = (Num.Int 1) // (Num.Int 18) in\n",
    "    let un_sur_cinquantesept = (Num.Int 1) // (Num.Int 57) in\n",
    "    let un_sur_deuxcenttrenteneuf = (Num.Int 1) // (Num.Int 239) in\n",
    "    (Num.Int 48 */ (serie_ArcTan un_sur_dixhuit n) +/\n",
    "     Num.Int 32 */ (serie_ArcTan un_sur_cinquantesept n) -/\n",
    "     Num.Int 20 */ (serie_ArcTan un_sur_deuxcenttrenteneuf n))\n",
    "\n",
    "let erreur n = let e =(pi_500 -/ (gauss n)) in\n",
    "               if e</ (Num.Int 0) then Num.minus_num e else e;;\n",
    "\n",
    "let liste_n = range 1 100 in\n",
    "let f i = log10 (Num.float_of_num (erreur i)) in\n",
    "let liste_erreur = List.map f liste_n in\n",
    "\n",
    "\n",
    "    let xs = Array.of_list (List.map float_of_int liste_n) in\n",
    "    plsdev (\"png\");\n",
    "    plsfnam(\"image_gauss.png\");\n",
    "    plscolbg 255 255 255; (* définit la couleur n°0 *)\n",
    "    plscol0 15 0 0 0; (* définit la couleur n°15 *)\n",
    "    plinit ();\n",
    "    plcol0 15;\n",
    "    plenv 0. 100. (-300.) 0. 0 0;\n",
    "    (* xmin xmax ymin ymax x0 y0 *)\n",
    "    let ys = Array.of_list liste_erreur in\n",
    "    plcol0 15;\n",
    "    plline xs ys;\n",
    "    plmtex \"b\" 3.0 0.5 0.5 \"n\";\n",
    "    plmtex \"l\" 5.0 0.5 0.5 \"log10 ( pi - (Gauss à l'ordre n) )\";\n",
    "    plend ();"
   ]
  },
  {
   "cell_type": "markdown",
   "metadata": {},
   "source": [
    "<img src=\"./image_gauss.png\" width=750 />"
   ]
  },
  {
   "cell_type": "markdown",
   "metadata": {},
   "source": [
    "<h5> Série de Ramanujan</h5>\n",
    "\n",
    "Au début du vingtième siècle, S. Ramanujan, mathématicien autodidacte indien, proposa la série:\n",
    "\n",
    "$\\displaystyle{1\\over\\pi}={2.\\sqrt{2}\\over9801}\\times\\sum_{k=0}^{+\\infty}{(4k)!.(1103+26390.k)\\over(n!)^4.393^{4n}}$.\n",
    "\n",
    "Programmer le calcul de la série $S'_n={9801\\over2.\\sqrt{2}}\\times{1\\over\\displaystyle\\sum_{k=0}^{n}{(4k)!.(1103+26390.k)\\over(n!)^4.393^{4n}}}$.\n",
    "\n",
    "Cette série converge très vite: vérifier qu'au bout de 2 termes, on a déjà $\\pi$ à 8 décimales.\n",
    "Mais les termes supplémentaires ne permettent de gagner qu'une précision relativement faible.\n",
    "\n",
    "Evaluer l'évolution de la précision $P_n=\\pi-S'_n$ en traçant $\\log(|P_{n+1}-P_{n}|)$ en fonction de $n$."
   ]
  },
  {
   "cell_type": "code",
   "execution_count": 10,
   "metadata": {
    "collapsed": false
   },
   "outputs": [
    {
     "data": {
      "text/html": [
       "<pre style=\"color:slategray;max-height:100px;overflow:hidden\" \n",
       "onclick=\"\n",
       "if (this.style.maxHeight === 'none') \n",
       "    this.style.maxHeight = '100px';\n",
       "else\n",
       "    this.style.maxHeight = 'none'; \n",
       "\">val factorial : int -&gt; Num.num = &lt;fun&gt;\n",
       "</pre>"
      ]
     },
     "execution_count": 10,
     "metadata": {},
     "output_type": "execute_result"
    }
   ],
   "source": [
    "let factorial n =\n",
    "    let rec factorial n m =\n",
    "       if (n >/ m) then factorial m n\n",
    "       else if m =/ (Num.Int 0) then Num.Int 1\n",
    "       else if n =/ m then n\n",
    "       else (factorial n (Num.quo_num (n+/m) (Num.Int 2))) */ ( factorial(Num.quo_num (n+/m) (Num.Int 2) +/ (Num.Int 1)) m) in\n",
    "    factorial (Num.Int n) (Num.Int 0);;"
   ]
  },
  {
   "cell_type": "code",
   "execution_count": 12,
   "metadata": {
    "collapsed": false
   },
   "outputs": [
    {
     "data": {
      "text/html": [
       "<pre style=\"color:slategray;max-height:100px;overflow:hidden\" \n",
       "onclick=\"\n",
       "if (this.style.maxHeight === 'none') \n",
       "    this.style.maxHeight = '100px';\n",
       "else\n",
       "    this.style.maxHeight = 'none'; \n",
       "\">val s : int -&gt; Num.num = &lt;fun&gt;\n",
       "</pre>"
      ]
     },
     "execution_count": 12,
     "metadata": {},
     "output_type": "execute_result"
    },
    {
     "data": {
      "text/html": [
       "<pre style=\"color:slategray;max-height:100px;overflow:hidden\" \n",
       "onclick=\"\n",
       "if (this.style.maxHeight === 'none') \n",
       "    this.style.maxHeight = '100px';\n",
       "else\n",
       "    this.style.maxHeight = 'none'; \n",
       "\">val ramanujan : int -&gt; Num.num = &lt;fun&gt;\n",
       "</pre>"
      ]
     },
     "execution_count": 12,
     "metadata": {},
     "output_type": "execute_result"
    },
    {
     "data": {
      "text/html": [
       "<pre style=\"color:slategray;max-height:100px;overflow:hidden\" \n",
       "onclick=\"\n",
       "if (this.style.maxHeight === 'none') \n",
       "    this.style.maxHeight = '100px';\n",
       "else\n",
       "    this.style.maxHeight = 'none'; \n",
       "\">val erreur : int -&gt; Num.num = &lt;fun&gt;\n",
       "</pre>"
      ]
     },
     "execution_count": 12,
     "metadata": {},
     "output_type": "execute_result"
    },
    {
     "data": {
      "text/html": [
       "<pre style=\"color:slategray;max-height:100px;overflow:hidden\" \n",
       "onclick=\"\n",
       "if (this.style.maxHeight === 'none') \n",
       "    this.style.maxHeight = '100px';\n",
       "else\n",
       "    this.style.maxHeight = 'none'; \n",
       "\">val liste_n : int list =\n",
       "  [1; 2; 3; 4; 5; 6; 7; 8; 9; 10; 11; 12; 13; 14; 15; 16; 17; 18; 19; 20; 21;\n",
       "   22; 23; 24; 25; 26; 27; 28; 29; 30; 31; 32; 33; 34; 35; 36; 37; 38; 39;\n",
       "   40; 41; 42; 43; 44; 45; 46; 47; 48; 49]\n",
       "</pre>"
      ]
     },
     "execution_count": 12,
     "metadata": {},
     "output_type": "execute_result"
    },
    {
     "data": {
      "text/html": [
       "<pre style=\"color:slategray;max-height:100px;overflow:hidden\" \n",
       "onclick=\"\n",
       "if (this.style.maxHeight === 'none') \n",
       "    this.style.maxHeight = '100px';\n",
       "else\n",
       "    this.style.maxHeight = 'none'; \n",
       "\">- : unit = ()\n",
       "</pre>"
      ]
     },
     "execution_count": 12,
     "metadata": {},
     "output_type": "execute_result"
    }
   ],
   "source": [
    "let s n =\n",
    "    let sum= ref (Num.Int 0) in\n",
    "    for k = 0 to (n-1) do\n",
    "        let num=factorial(4*k) */ (Num.Int (1103 + 26390*k)) in\n",
    "        let den=(factorial(k)**/(Num.Int 4)) */ (Num.Int 393)**/(Num.Int (4*k)) in\n",
    "        sum:=!sum +/ (num//den);\n",
    "    done; !sum;;\n",
    "\n",
    "let ramanujan n = (Num.Int 9801)//(Num.Int 2 */ sqrt_2 */ (s n));;\n",
    "\n",
    "let erreur n = let e =(pi_500 -/ (ramanujan n)) in\n",
    "               if e</ (Num.Int 0) then Num.minus_num e else e;;\n",
    "\n",
    "let liste_n = range 1 50;;\n",
    "let f i = log10 (Num.float_of_num (erreur i)) in\n",
    "let liste_erreur = List.map f liste_n in\n",
    "\n",
    "    let xs = Array.of_list (List.map float_of_int liste_n) in\n",
    "    plsdev (\"png\");\n",
    "    plsfnam(\"image_ramanujan.png\");\n",
    "    plscolbg 255 255 255; (* définit la couleur n°0 *)\n",
    "    plscol0 15 0 0 0; (* définit la couleur n°15 *)\n",
    "    plinit ();\n",
    "    plcol0 15;\n",
    "    plenv 0. 50. (-20.) 0. 0 0;\n",
    "    (* xmin xmax ymin ymax x0 y0 *)\n",
    "    let ys = Array.of_list liste_erreur in\n",
    "    plcol0 15;\n",
    "    plline xs ys;\n",
    "    plmtex \"b\" 3.0 0.5 0.5 \"n\";\n",
    "    plmtex \"l\" 5.0 0.5 0.5 \"log10 ( pi - (Ramanujan à l'ordre n) )\";\n",
    "    plend ();"
   ]
  },
  {
   "cell_type": "markdown",
   "metadata": {},
   "source": [
    "<img src=\"./image_ramanujan.png\" width=750 />"
   ]
  },
  {
   "cell_type": "code",
   "execution_count": 13,
   "metadata": {
    "collapsed": false
   },
   "outputs": [
    {
     "data": {
      "text/html": [
       "<pre style=\"color:slategray;max-height:100px;overflow:hidden\" \n",
       "onclick=\"\n",
       "if (this.style.maxHeight === 'none') \n",
       "    this.style.maxHeight = '100px';\n",
       "else\n",
       "    this.style.maxHeight = 'none'; \n",
       "\">val liste_n : int list =\n",
       "  [0; 1; 2; 3; 4; 5; 6; 7; 8; 9; 10; 11; 12; 13; 14; 15; 16; 17; 18; 19; 20;\n",
       "   21; 22; 23; 24; 25; 26; 27; 28; 29; 30; 31; 32; 33; 34; 35; 36; 37; 38;\n",
       "   39]\n",
       "</pre>"
      ]
     },
     "execution_count": 13,
     "metadata": {},
     "output_type": "execute_result"
    },
    {
     "data": {
      "text/html": [
       "<pre style=\"color:slategray;max-height:100px;overflow:hidden\" \n",
       "onclick=\"\n",
       "if (this.style.maxHeight === 'none') \n",
       "    this.style.maxHeight = '100px';\n",
       "else\n",
       "    this.style.maxHeight = 'none'; \n",
       "\">- : unit = ()\n",
       "</pre>"
      ]
     },
     "execution_count": 13,
     "metadata": {},
     "output_type": "execute_result"
    }
   ],
   "source": [
    "let liste_n = range 0 40;;\n",
    "let array_precision = Array.make 40 0. in\n",
    "for i=1 to 39 do\n",
    "    array_precision.(i)<- log10( abs_float( Num.float_of_num (ramanujan(i+1)-/ (ramanujan i))))\n",
    "done;\n",
    "\n",
    "    let xs = Array.of_list (List.map float_of_int liste_n) in\n",
    "    plsdev (\"png\");\n",
    "    plsfnam(\"image_ramanujan2.png\");\n",
    "    plscolbg 255 255 255; (* définit la couleur n°0 *)\n",
    "    plscol0 15 0 0 0; (* définit la couleur n°15 *)\n",
    "    plinit ();\n",
    "    plcol0 15;\n",
    "    plenv 0. 40. (-350.) 0. 0 0;\n",
    "    (* xmin xmax ymin ymax x0 y0 *)\n",
    "    let ys = array_precision in\n",
    "    plcol0 15;\n",
    "    plline xs ys;\n",
    "    plmtex \"b\" 3.0 0.5 0.5 \"n\";\n",
    "    plmtex \"l\" 5.0 0.5 0.5 \"log10( (Ramanujan ordre n+1) - (Ramanujan ordre n) )\";\n",
    "    plend ();"
   ]
  },
  {
   "cell_type": "markdown",
   "metadata": {},
   "source": [
    "<img src=\"./image_ramanujan2.png\" width=750 />"
   ]
  },
  {
   "cell_type": "code",
   "execution_count": null,
   "metadata": {
    "collapsed": true
   },
   "outputs": [],
   "source": []
  }
 ],
 "metadata": {
  "kernelspec": {
   "display_name": "OCaml",
   "language": "ocaml",
   "name": "iocaml"
  },
  "language_info": {
   "name": "ocaml",
   "version": "4.1.0"
  }
 },
 "nbformat": 4,
 "nbformat_minor": 2
}
