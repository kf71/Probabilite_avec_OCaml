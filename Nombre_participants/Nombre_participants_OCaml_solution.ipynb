{
 "cells": [
  {
   "cell_type": "markdown",
   "metadata": {},
   "source": [
    "<h1>Nombre de participants</h1>\n",
    "\n",
    "<h2>Présentation</h2>\n",
    "\n",
    "Soit un événement (sportif par exemple) avec $N$ participants: chaque participant a un numéro de carte d'invitation (ou un numéro de dossard). On prend un échantillon de $n<N$ personnes et on relève leur numéro $x_i$ (avec $i\\in[1,n]$). On cherche à estimer $N$ à partir des valeurs des $x_i$.\n",
    "\n",
    "On peut montrer que l'espérance du maximum d'un échantillon est:\n",
    "$E(\\textrm{max } x_i)=\\frac{n.(N+1)}{n+1}$ d'où: \n",
    "<table style=\"width:200px\"><tr><td>$N= \\frac{n+1}n.E(\\textrm{max } x_i)-1$</td></tr></table>\n",
    "\n",
    "<br>\n",
    "Cette formule a le bon goût de vérifier deux propriétés essentielles:\n",
    "<ul>\n",
    "<li> si on tire comme échantillon $[1,2,3,\\dots,n]$, on obtient $N=\\frac{n+1}n.n-1=n$: l'estimation de $N$ n'est pas inférieure à la plus grande valeur de l'échantillon (toutes les formules d'estimation de l'espérance ne vérifie pas cette propriété triviale !)\n",
    "<li> si on tire comme échantillon tout l'ensemble $[1,2,3,\\dots,N]$, on obtient $N=\\frac{N+1}N.N-1=N$.\n",
    "</ul>\n",
    "\n",
    "\n",
    "<br>\n",
    "Faire plusieurs simulations numériques en prélevant des échantillons de 2%, 5%, 10% et 20% de la population. Présenter les résultats sous forme d'histogrammes pour montrer la probabilité de l'écart (en %) entre la taille réelle de la population et son estimation.<br>\n",
    "\n",
    "Pour prélever (sans remplacement) un échantillon de taille $n$ dans une population de taille $N$,\n",
    "on utilise la procédure suivante:\n",
    "<ul>\n",
    "<li> On considère le premier élément de la population\n",
    "<li> On le prélève avec une probabilité de $\\frac nN$ pour le mettre dans l'échantillon\n",
    "<li> Si l'élément est effectivement sélectionné, alors on diminue $n$ de 1.\n",
    "<li> On diminue $N$ de 1\n",
    "<li> On recommence avec l'élément suivant de la population jusqu'à ce que la taille de l'échantillon soit $n$.\n",
    "</ul>\n",
    "\n",
    "<h1>Solution</h1>"
   ]
  },
  {
   "cell_type": "code",
   "execution_count": 1,
   "metadata": {
    "collapsed": false
   },
   "outputs": [
    {
     "name": "stdout",
     "output_type": "stream",
     "text": [
      "- : unit = ()\n",
      "Findlib has been successfully loaded. Additional directives:\n",
      "  #require \"package\";;      to load a package\n",
      "  #list;;                   to list the available packages\n",
      "  #camlp4o;;                to load camlp4 (standard syntax)\n",
      "  #camlp4r;;                to load camlp4 (revised syntax)\n",
      "  #predicates \"p,q,...\";;   to set these predicates\n",
      "  Topfind.reset();;         to force that packages will be reloaded\n",
      "  #thread;;                 to enable threads\n",
      "\n",
      "- : unit = ()\n"
     ]
    },
    {
     "name": "stderr",
     "output_type": "stream",
     "text": [
      "/usr/lib/ocaml/plplot: added to search path\n",
      "/usr/lib/ocaml/plplot/plplot.cma: loaded\n"
     ]
    },
    {
     "data": {
      "text/html": [
       "<pre style=\"color:slategray;max-height:100px;overflow:hidden\" \n",
       "onclick=\"\n",
       "if (this.style.maxHeight === 'none') \n",
       "    this.style.maxHeight = '100px';\n",
       "else\n",
       "    this.style.maxHeight = 'none'; \n",
       "\">- : unit -&gt; unit = &lt;fun&gt;\n",
       "</pre>"
      ]
     },
     "execution_count": 1,
     "metadata": {},
     "output_type": "execute_result"
    },
    {
     "data": {
      "text/html": [
       "<pre style=\"color:slategray;max-height:100px;overflow:hidden\" \n",
       "onclick=\"\n",
       "if (this.style.maxHeight === 'none') \n",
       "    this.style.maxHeight = '100px';\n",
       "else\n",
       "    this.style.maxHeight = 'none'; \n",
       "\">module P = Plplot.Plot\n",
       "</pre>"
      ]
     },
     "execution_count": 1,
     "metadata": {},
     "output_type": "execute_result"
    },
    {
     "data": {
      "text/html": [
       "<pre style=\"color:slategray;max-height:100px;overflow:hidden\" \n",
       "onclick=\"\n",
       "if (this.style.maxHeight === 'none') \n",
       "    this.style.maxHeight = '100px';\n",
       "else\n",
       "    this.style.maxHeight = 'none'; \n",
       "\">val couleurs_list : int list list =\n",
       "  [[0; 255; 255; 255]; [1; 0; 0; 0]; [2; 0; 0; 255]; [3; 255; 0; 0];\n",
       "   [4; 165; 42; 42]; [5; 0; 0; 0]; [6; 0; 0; 0]; [7; 0; 0; 0]; [8; 0; 0; 0];\n",
       "   [9; 0; 0; 0]; [10; 200; 200; 200]; [11; 0; 255; 255]; [12; 0; 255; 0];\n",
       "   [13; 255; 255; 0]; [14; 255; 0; 255]; [15; 160; 0; 213]]\n",
       "</pre>"
      ]
     },
     "execution_count": 1,
     "metadata": {},
     "output_type": "execute_result"
    },
    {
     "data": {
      "text/html": [
       "<pre style=\"color:slategray;max-height:100px;overflow:hidden\" \n",
       "onclick=\"\n",
       "if (this.style.maxHeight === 'none') \n",
       "    this.style.maxHeight = '100px';\n",
       "else\n",
       "    this.style.maxHeight = 'none'; \n",
       "\">val loop : int list list -&gt; unit = &lt;fun&gt;\n",
       "</pre>"
      ]
     },
     "execution_count": 1,
     "metadata": {},
     "output_type": "execute_result"
    },
    {
     "data": {
      "text/html": [
       "<pre style=\"color:slategray;max-height:100px;overflow:hidden\" \n",
       "onclick=\"\n",
       "if (this.style.maxHeight === 'none') \n",
       "    this.style.maxHeight = '100px';\n",
       "else\n",
       "    this.style.maxHeight = 'none'; \n",
       "\">val couleurs : unit -&gt; unit = &lt;fun&gt;\n",
       "</pre>"
      ]
     },
     "execution_count": 1,
     "metadata": {},
     "output_type": "execute_result"
    },
    {
     "data": {
      "text/html": [
       "<pre style=\"color:slategray;max-height:100px;overflow:hidden\" \n",
       "onclick=\"\n",
       "if (this.style.maxHeight === 'none') \n",
       "    this.style.maxHeight = '100px';\n",
       "else\n",
       "    this.style.maxHeight = 'none'; \n",
       "\">val initialisation : string -&gt; float -&gt; float -&gt; float -&gt; float -&gt; P.stream_t =\n",
       "  &lt;fun&gt;\n",
       "</pre>"
      ]
     },
     "execution_count": 1,
     "metadata": {},
     "output_type": "execute_result"
    },
    {
     "data": {
      "text/html": [
       "<pre style=\"color:slategray;max-height:100px;overflow:hidden\" \n",
       "onclick=\"\n",
       "if (this.style.maxHeight === 'none') \n",
       "    this.style.maxHeight = '100px';\n",
       "else\n",
       "    this.style.maxHeight = 'none'; \n",
       "\">val xlabel : string -&gt; P.plot_t = &lt;fun&gt;\n",
       "</pre>"
      ]
     },
     "execution_count": 1,
     "metadata": {},
     "output_type": "execute_result"
    },
    {
     "data": {
      "text/html": [
       "<pre style=\"color:slategray;max-height:100px;overflow:hidden\" \n",
       "onclick=\"\n",
       "if (this.style.maxHeight === 'none') \n",
       "    this.style.maxHeight = '100px';\n",
       "else\n",
       "    this.style.maxHeight = 'none'; \n",
       "\">val ylabel : string -&gt; P.plot_t = &lt;fun&gt;\n",
       "</pre>"
      ]
     },
     "execution_count": 1,
     "metadata": {},
     "output_type": "execute_result"
    },
    {
     "data": {
      "text/html": [
       "<pre style=\"color:slategray;max-height:100px;overflow:hidden\" \n",
       "onclick=\"\n",
       "if (this.style.maxHeight === 'none') \n",
       "    this.style.maxHeight = '100px';\n",
       "else\n",
       "    this.style.maxHeight = 'none'; \n",
       "\">val label : string -&gt; string -&gt; string -&gt; P.plot_t = &lt;fun&gt;\n",
       "</pre>"
      ]
     },
     "execution_count": 1,
     "metadata": {},
     "output_type": "execute_result"
    }
   ],
   "source": [
    "open Random;;\n",
    "Random.self_init;;\n",
    "#use \"topfind\";;\n",
    "#require \"plplot\";;\n",
    "open Plplot;;\n",
    "module P = Plot;;\n",
    "let couleurs_list = [[ 0;255;255;255]; (*`white*)\n",
    "                     [ 1;  0;  0;  0]; (*`black*)\n",
    "                     [ 2;  0;  0;255]; (*`blue*)\n",
    "                     [ 3;255;  0;  0]; (*`red*)\n",
    "                     [ 4;165; 42; 42]; (*`brown*)\n",
    "                     [ 5;  0;  0;  0]; [ 6;  0;  0;  0]; [ 7;  0;  0;  0]; [ 8;  0;  0;  0]; [ 9;  0;  0;  0]; \n",
    "                     [10;200;200;200]; (*`gray*)\n",
    "                     [11;  0;255;255]; (*`light_blue*)\n",
    "                     [12;  0;255;  0]; (*`green*)\n",
    "                     [13;255;255;  0]; (*`yellow*)\n",
    "                     [14;255;  0;255]; (*`pink*)\n",
    "                     [15;160;  0;213]; (*`purple*) ]\n",
    "let rec loop couleurs_list = match couleurs_list with\n",
    "    | [n;r;g;b]::tl -> plscol0 n r g b; loop tl\n",
    "    | _ -> ();;\n",
    "let couleurs = (fun () -> plscolbg 255 255 255; loop couleurs_list)\n",
    "let initialisation filename xmin xmax ymin ymax = \n",
    "        P.init (xmin, ymin) (xmax, ymax) `greedy (`svg `core) ~filename:(filename^\".svg\") ~pre:couleurs\n",
    "let xlabel texte = P.text_outside `black (`bottom 0.5) 3. texte\n",
    "let ylabel texte = P.text_outside `black (`left 0.5) 5. texte \n",
    "let label texte_x texte_y titre = P.label texte_x texte_y titre"
   ]
  },
  {
   "cell_type": "code",
   "execution_count": 2,
   "metadata": {
    "collapsed": false
   },
   "outputs": [
    {
     "data": {
      "text/html": [
       "<pre style=\"color:slategray;max-height:100px;overflow:hidden\" \n",
       "onclick=\"\n",
       "if (this.style.maxHeight === 'none') \n",
       "    this.style.maxHeight = '100px';\n",
       "else\n",
       "    this.style.maxHeight = 'none'; \n",
       "\">val range : int -&gt; int -&gt; int -&gt; int list = &lt;fun&gt;\n",
       "</pre>"
      ]
     },
     "execution_count": 2,
     "metadata": {},
     "output_type": "execute_result"
    }
   ],
   "source": [
    "let range debut fin step =\n",
    "   let rec range i acc =\n",
    "     if i>=fin then List.rev acc\n",
    "     else range (i+step) (i::acc) in\n",
    "   range debut [];;"
   ]
  },
  {
   "cell_type": "code",
   "execution_count": 3,
   "metadata": {
    "collapsed": false
   },
   "outputs": [
    {
     "data": {
      "text/html": [
       "<pre style=\"color:slategray;max-height:100px;overflow:hidden\" \n",
       "onclick=\"\n",
       "if (this.style.maxHeight === 'none') \n",
       "    this.style.maxHeight = '100px';\n",
       "else\n",
       "    this.style.maxHeight = 'none'; \n",
       "\">val shuffle : 'a list -&gt; 'a list = &lt;fun&gt;\n",
       "</pre>"
      ]
     },
     "execution_count": 3,
     "metadata": {},
     "output_type": "execute_result"
    }
   ],
   "source": [
    "let shuffle d =\n",
    "    let nd = List.map (fun c -> (Random.bits (), c)) d in\n",
    "    let sond = List.sort compare nd in\n",
    "    List.map snd sond;;"
   ]
  },
  {
   "cell_type": "code",
   "execution_count": 4,
   "metadata": {
    "collapsed": false
   },
   "outputs": [
    {
     "data": {
      "text/html": [
       "<pre style=\"color:slategray;max-height:100px;overflow:hidden\" \n",
       "onclick=\"\n",
       "if (this.style.maxHeight === 'none') \n",
       "    this.style.maxHeight = '100px';\n",
       "else\n",
       "    this.style.maxHeight = 'none'; \n",
       "\">val array_min : 'a array -&gt; 'a = &lt;fun&gt;\n",
       "</pre>"
      ]
     },
     "execution_count": 4,
     "metadata": {},
     "output_type": "execute_result"
    },
    {
     "data": {
      "text/html": [
       "<pre style=\"color:slategray;max-height:100px;overflow:hidden\" \n",
       "onclick=\"\n",
       "if (this.style.maxHeight === 'none') \n",
       "    this.style.maxHeight = '100px';\n",
       "else\n",
       "    this.style.maxHeight = 'none'; \n",
       "\">val array_max : 'a array -&gt; 'a = &lt;fun&gt;\n",
       "</pre>"
      ]
     },
     "execution_count": 4,
     "metadata": {},
     "output_type": "execute_result"
    }
   ],
   "source": [
    "let array_min arr = Array.fold_left min arr.(0) arr;;\n",
    "let array_max arr = Array.fold_left max arr.(0) arr;;"
   ]
  },
  {
   "cell_type": "code",
   "execution_count": 5,
   "metadata": {
    "collapsed": false
   },
   "outputs": [
    {
     "data": {
      "text/html": [
       "<pre style=\"color:slategray;max-height:100px;overflow:hidden\" \n",
       "onclick=\"\n",
       "if (this.style.maxHeight === 'none') \n",
       "    this.style.maxHeight = '100px';\n",
       "else\n",
       "    this.style.maxHeight = 'none'; \n",
       "\">val histogramme : 'a array -&gt; 'a array -&gt; float array = &lt;fun&gt;\n",
       "</pre>"
      ]
     },
     "execution_count": 5,
     "metadata": {},
     "output_type": "execute_result"
    }
   ],
   "source": [
    "let histogramme valeurs limites =\n",
    "    let nbre_val = Array.length valeurs in\n",
    "    let nbre_bin = Array.length limites - 1 in\n",
    "    let bins = Array.make nbre_bin 0. in\n",
    "    let rec loop num_val =\n",
    "         if num_val = nbre_val \n",
    "         then begin\n",
    "             for i = 0 to nbre_bin -1 do\n",
    "                 bins.(i)<-bins.(i)/.(float_of_int nbre_val)\n",
    "             done;\n",
    "        end else begin\n",
    "            let valeur = valeurs.(num_val) in\n",
    "            let i=ref 0 in\n",
    "            while !i < (nbre_bin-1) && limites.(!i)<valeur do incr i;done;\n",
    "            bins.(!i)<-bins.(!i)+.1.;\n",
    "            loop (num_val+1);\n",
    "            end in\n",
    "     loop 0;\n",
    "     bins;;"
   ]
  },
  {
   "cell_type": "code",
   "execution_count": 6,
   "metadata": {
    "collapsed": false
   },
   "outputs": [
    {
     "data": {
      "text/html": [
       "<pre style=\"color:slategray;max-height:100px;overflow:hidden\" \n",
       "onclick=\"\n",
       "if (this.style.maxHeight === 'none') \n",
       "    this.style.maxHeight = '100px';\n",
       "else\n",
       "    this.style.maxHeight = 'none'; \n",
       "\">val array_pourcentages : int array = [|2; 5; 10; 20|]\n",
       "</pre>"
      ]
     },
     "execution_count": 6,
     "metadata": {},
     "output_type": "execute_result"
    },
    {
     "data": {
      "text/html": [
       "<pre style=\"color:slategray;max-height:100px;overflow:hidden\" \n",
       "onclick=\"\n",
       "if (this.style.maxHeight === 'none') \n",
       "    this.style.maxHeight = '100px';\n",
       "else\n",
       "    this.style.maxHeight = 'none'; \n",
       "\">val estimation_N : int -&gt; float = &lt;fun&gt;\n",
       "</pre>"
      ]
     },
     "execution_count": 6,
     "metadata": {},
     "output_type": "execute_result"
    },
    {
     "data": {
      "text/html": [
       "<pre style=\"color:slategray;max-height:100px;overflow:hidden\" \n",
       "onclick=\"\n",
       "if (this.style.maxHeight === 'none') \n",
       "    this.style.maxHeight = '100px';\n",
       "else\n",
       "    this.style.maxHeight = 'none'; \n",
       "\">val essais : int -&gt; float array = &lt;fun&gt;\n",
       "</pre>"
      ]
     },
     "execution_count": 6,
     "metadata": {},
     "output_type": "execute_result"
    }
   ],
   "source": [
    "let array_pourcentages=[|2;5;10;20|];;\n",
    "let estimation_N pourcentage_preleve =\n",
    "    let n = 100 + Random.int 900 in\n",
    "    let pop = range 0 n 1 in\n",
    "    let population = Array.of_list (shuffle pop) in\n",
    "    let n'=(pourcentage_preleve*n)/100 in\n",
    "\n",
    "    let echantillon=Array.make n 0 in\n",
    "    \n",
    "    let rec loop k j new_n' new_n =\n",
    "        if k<n then begin\n",
    "            let proba = float_of_int new_n /. (float_of_int new_n') in\n",
    "            if Random.float 1. < proba\n",
    "            then begin\n",
    "                echantillon.(j)<-population.(k);\n",
    "                loop (k+1) (j+1) (new_n'-1) (new_n-1);\n",
    "                end\n",
    "            else loop (k+1) j new_n' (new_n-1) \n",
    "        end in\n",
    "    loop 0 0 n' n;\n",
    "    let maximum = array_max echantillon in\n",
    "    let estimation = float_of_int ((n'+1)*maximum)/.(float_of_int n')-.1. in\n",
    "    let erreur = (estimation -. (float_of_int n))/.(float_of_int n)*.100. in\n",
    "    erreur;;\n",
    "\n",
    "let essais pourcentage_preleve =\n",
    "    let nbre_essais=10*1000 in\n",
    "    let erreur = Array.init nbre_essais (fun _ -> estimation_N pourcentage_preleve) in\n",
    "    erreur;;"
   ]
  },
  {
   "cell_type": "code",
   "execution_count": 8,
   "metadata": {
    "collapsed": false
   },
   "outputs": [
    {
     "data": {
      "text/html": [
       "<pre style=\"color:slategray;max-height:100px;overflow:hidden\" \n",
       "onclick=\"\n",
       "if (this.style.maxHeight === 'none') \n",
       "    this.style.maxHeight = '100px';\n",
       "else\n",
       "    this.style.maxHeight = 'none'; \n",
       "\">- : unit = ()\n",
       "</pre>"
      ]
     },
     "execution_count": 8,
     "metadata": {},
     "output_type": "execute_result"
    }
   ],
   "source": [
    "    plsdev (\"png\");\n",
    "    plsfnam(\"graph.png\");\n",
    "    plscolbg 255 255 255;\n",
    "    plinit ();\n",
    "    plssub 2 2;\n",
    "    plscol0 1 0 0 0;\n",
    "     \n",
    "    let limites = Array.of_list (List.map float_of_int (range (-100) 50 1)) in (* nbre de piquets *)\n",
    "    let xs = Array.of_list (List.map float_of_int (range (-100) 49 1)) in (* nbre d'intervalle *)\n",
    "    for i = 0 to Array.length array_pourcentages - 1 do\n",
    "        let p = array_pourcentages.(i) in\n",
    "        let ys = histogramme (essais p) limites in\n",
    "\n",
    "        pladv 0; (*advance next sub-page*)\n",
    "        plvsta (); (*select standard viewport*)\n",
    "        plsvpa 30. 130. 20. 80.; (*position of sub-page*)\n",
    "        plwind (-100.) 50. 0. 0.5; (*limit of the sub-page*)\n",
    "\n",
    "        plcol0 1; (* bordure cadre*)\n",
    "        plbox \"bcnti\" 0. 0 \"bcntvi\" 0. 0;\n",
    "        plcol0 1; (*couleur des pts*)\n",
    "        plpoin xs ys 1;\n",
    "        plbin xs ys [PL_BIN_DEFAULT];\n",
    "        pllab \"Ecart entre N et l’estimation de N (en %)\" \"Probabilité\" (\"Taille de l’échantillon =\\n \"^(string_of_int p)^\"% de la population\")\n",
    "    done;\n",
    "    plend ();;"
   ]
  },
  {
   "cell_type": "markdown",
   "metadata": {},
   "source": [
    "<img src=\"graph.png\" width=700 />"
   ]
  },
  {
   "cell_type": "code",
   "execution_count": null,
   "metadata": {
    "collapsed": true
   },
   "outputs": [],
   "source": []
  }
 ],
 "metadata": {
  "kernelspec": {
   "display_name": "OCaml",
   "language": "ocaml",
   "name": "iocaml"
  },
  "language_info": {
   "name": "ocaml",
   "version": "4.1.0"
  }
 },
 "nbformat": 4,
 "nbformat_minor": 2
}
