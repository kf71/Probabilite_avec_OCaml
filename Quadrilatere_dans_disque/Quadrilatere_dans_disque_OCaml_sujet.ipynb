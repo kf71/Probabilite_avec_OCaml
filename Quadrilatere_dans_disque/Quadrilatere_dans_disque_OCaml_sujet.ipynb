{
 "cells": [
  {
   "cell_type": "markdown",
   "metadata": {
    "deletable": true,
    "editable": true
   },
   "source": [
    "<h1> Quadrilatère dans un disque </h1>"
   ]
  },
  {
   "cell_type": "markdown",
   "metadata": {
    "deletable": true,
    "editable": true
   },
   "source": [
    "<h2>Présentation</h2>\n",
    "\n",
    "Soit un disque de rayon R = 1. On tire au sort quatre points A, B, C et D dans le disque. Quelle est la probabilité que le quadrilatère ABCD soit convexe ?"
   ]
  },
  {
   "cell_type": "markdown",
   "metadata": {
    "deletable": true,
    "editable": true
   },
   "source": [
    " <h2>Comment tirer au sort les points?</h2>"
   ]
  },
  {
   "cell_type": "markdown",
   "metadata": {
    "deletable": true,
    "editable": true
   },
   "source": [
    "On souhaite tirer au sort les quatre points $A$, $B$, $C$ et $D$ en s'assurant qu'ils sont bien à l'intérieur du disque. On compare trois méthodes.\n",
    "<ol>\n",
    "<li>On tire au sort $x\\in[-1,1]$ et $y\\in[-1,1]$.On conserve le couple $(x,y)$ si $x^2+y^2\\leq 1$. Représenter sur un graphique 1000 points tirés par cette méthode. Quel est l'inconvénient de cette méthode ?<br>\n",
    "<b>On rejette une fraction $\\frac{2^2-\\pi}{2^2}$ des points.</b></li>\n",
    "\n",
    "<li> On tire au sort $r\\in[0,1]$ et $\\theta\\in[0,2.\\pi]$. On place le point de coordonnées polaire $(r,\\theta)$. Représenter sur un graphique 1000 points tirés par cette méthode. Quel est l'inconvénient de cette méthode ? <br>\n",
    "<b>Il existe un biais: les points sont plus concentrés au centre du disque.\n",
    "Explication: si on tirait les points dans un petit disque de rayon $R=0.5$; on aurait alors tirerait la moitié des points dans ce petit disque ($\\frac R1$), alors que la surface de ce petit disque ne représente que $\\frac{\\pi.R^2}{\\pi.1^2}=R^2$ de la surface du grand disque.</b></li>\n",
    "\n",
    "<li>On tire au sort $r\\in[0,1]$ et $\\theta\\in[0,2.\\pi]$. On place le point de coordonnées polaire $(\\sqrt{r},\\theta)$. Représenter sur un graphique 1000 points tirés par cette méthode. \n",
    "Pourquoi faut-il privilégier cette méthode ?<br>\n",
    "<b>Tous les points sont valables (pas besoin de trier comme dans la méthode 1); pas de biais (contrairement à la méthode 2).</b>"
   ]
  },
  {
   "cell_type": "markdown",
   "metadata": {
    "deletable": true,
    "editable": true
   },
   "source": [
    "<h2>Convexité d'un polygone</h2>"
   ]
  },
  {
   "cell_type": "markdown",
   "metadata": {
    "deletable": true,
    "editable": true
   },
   "source": [
    "Copier-coller le programme <tt>graham_convex_hull</tt> à l'adresse: http://www.cs.cmu.edu/afs/cs/academic/class/15451-s15/LectureNotes/lecture15/geometry.pdf et adapter le pour des points de coordonnées réelles (et non entières).<br>\n",
    "Tirer au sort quatre points.<br>\n",
    "Utiliser la fonction <tt>graham_convex_hull</tt> qui calcule les points qui forment l'enveloppe convexe correspondant à un polygone donné. (Analogie: fil le plus court délimitant l'ensemble des points du quadrilatëre; voir le tracé en ligne bleue). Si <b>hull = graham_convex_hull points\\_xy</b> où <b>points\\_xy</b> est une liste à 2 dimensions,\n",
    "alors : <b>List.length hull</b> donne le nombre de points formant l'enveloppe convexe. Le quadrilatëre est convexe si ce nombre vaut 4 ; concave lorsqu'il vaut 3."
   ]
  },
  {
   "cell_type": "markdown",
   "metadata": {
    "deletable": true,
    "editable": true
   },
   "source": [
    "<table>\n",
    "<tr><td><img src=\"quadrilatere_dans_disque_fig2.svg\"  height=\"300\" width=\"300\" /></td>\n",
    "<td><img  src=\"quadrilatere_dans_disque_fig3.svg\" height=\"300\" width=\"300\" /></td></tr>\n",
    "<tr><td>Convexe</td><td>Concave</td></tr>\n",
    "</table>"
   ]
  },
  {
   "cell_type": "code",
   "execution_count": 4,
   "metadata": {
    "collapsed": false,
    "deletable": true,
    "editable": true
   },
   "outputs": [
    {
     "data": {
      "text/html": [
       "<pre style=\"color:slategray;max-height:100px;overflow:hidden\" \n",
       "onclick=\"\n",
       "if (this.style.maxHeight === 'none') \n",
       "    this.style.maxHeight = '100px';\n",
       "else\n",
       "    this.style.maxHeight = 'none'; \n",
       "\">- : unit -&gt; unit = &lt;fun&gt;\n",
       "</pre>"
      ]
     },
     "execution_count": 4,
     "metadata": {},
     "output_type": "execute_result"
    },
    {
     "data": {
      "text/html": [
       "<pre style=\"color:slategray;max-height:100px;overflow:hidden\" \n",
       "onclick=\"\n",
       "if (this.style.maxHeight === 'none') \n",
       "    this.style.maxHeight = '100px';\n",
       "else\n",
       "    this.style.maxHeight = 'none'; \n",
       "\">val pi : float = 3.14159265358979312\n",
       "</pre>"
      ]
     },
     "execution_count": 4,
     "metadata": {},
     "output_type": "execute_result"
    }
   ],
   "source": [
    "open Random;;\n",
    "Random.self_init;;\n",
    "\n",
    "let pi = 4.*.atan 1.;;"
   ]
  },
  {
   "cell_type": "code",
   "execution_count": 5,
   "metadata": {
    "collapsed": false,
    "deletable": true,
    "editable": true
   },
   "outputs": [
    {
     "name": "stdout",
     "output_type": "stream",
     "text": [
      "- : unit = ()\n",
      "Findlib has been successfully loaded. Additional directives:\n",
      "  #require \"package\";;      to load a package\n",
      "  #list;;                   to list the available packages\n",
      "  #camlp4o;;                to load camlp4 (standard syntax)\n",
      "  #camlp4r;;                to load camlp4 (revised syntax)\n",
      "  #predicates \"p,q,...\";;   to set these predicates\n",
      "  Topfind.reset();;         to force that packages will be reloaded\n",
      "  #thread;;                 to enable threads\n",
      "\n",
      "- : unit = ()\n"
     ]
    },
    {
     "name": "stderr",
     "output_type": "stream",
     "text": [
      "/usr/lib/ocaml/plplot: added to search path\n",
      "/usr/lib/ocaml/plplot/plplot.cma: loaded\n"
     ]
    }
   ],
   "source": [
    "#use \"topfind\";;\n",
    "#require \"plplot\";;\n",
    "open Plplot;;"
   ]
  },
  {
   "cell_type": "code",
   "execution_count": 6,
   "metadata": {
    "collapsed": false,
    "deletable": true,
    "editable": true
   },
   "outputs": [
    {
     "data": {
      "text/html": [
       "<pre style=\"color:slategray;max-height:100px;overflow:hidden\" \n",
       "onclick=\"\n",
       "if (this.style.maxHeight === 'none') \n",
       "    this.style.maxHeight = '100px';\n",
       "else\n",
       "    this.style.maxHeight = 'none'; \n",
       "\">val construction1 : unit -&gt; float * float = &lt;fun&gt;\n",
       "</pre>"
      ]
     },
     "execution_count": 6,
     "metadata": {},
     "output_type": "execute_result"
    },
    {
     "data": {
      "text/html": [
       "<pre style=\"color:slategray;max-height:100px;overflow:hidden\" \n",
       "onclick=\"\n",
       "if (this.style.maxHeight === 'none') \n",
       "    this.style.maxHeight = '100px';\n",
       "else\n",
       "    this.style.maxHeight = 'none'; \n",
       "\">val construction2 : unit -&gt; float * float = &lt;fun&gt;\n",
       "</pre>"
      ]
     },
     "execution_count": 6,
     "metadata": {},
     "output_type": "execute_result"
    },
    {
     "data": {
      "text/html": [
       "<pre style=\"color:slategray;max-height:100px;overflow:hidden\" \n",
       "onclick=\"\n",
       "if (this.style.maxHeight === 'none') \n",
       "    this.style.maxHeight = '100px';\n",
       "else\n",
       "    this.style.maxHeight = 'none'; \n",
       "\">val construction3 : unit -&gt; float * float = &lt;fun&gt;\n",
       "</pre>"
      ]
     },
     "execution_count": 6,
     "metadata": {},
     "output_type": "execute_result"
    }
   ],
   "source": [
    "let rec construction1 () =\n",
    "    \"à compléter\"\n",
    "\n",
    "        \n",
    "let construction2 () =\n",
    "    \"à compléter\"\n",
    "\n",
    "let construction3 () =\n",
    "    \"à compléter\"\n"
   ]
  },
  {
   "cell_type": "code",
   "execution_count": 7,
   "metadata": {
    "collapsed": false,
    "deletable": true,
    "editable": true
   },
   "outputs": [
    {
     "data": {
      "text/html": [
       "<pre style=\"color:slategray;max-height:100px;overflow:hidden\" \n",
       "onclick=\"\n",
       "if (this.style.maxHeight === 'none') \n",
       "    this.style.maxHeight = '100px';\n",
       "else\n",
       "    this.style.maxHeight = 'none'; \n",
       "\">val genere : (unit -&gt; 'a * 'b) -&gt; 'a list * 'b list = &lt;fun&gt;\n",
       "</pre>"
      ]
     },
     "execution_count": 7,
     "metadata": {},
     "output_type": "execute_result"
    }
   ],
   "source": [
    "let genere methode =\n",
    "    \"à compléter\"\n"
   ]
  },
  {
   "cell_type": "code",
   "execution_count": 83,
   "metadata": {
    "collapsed": false,
    "deletable": true,
    "editable": true
   },
   "outputs": [
    {
     "data": {
      "text/html": [
       "<pre style=\"color:slategray;max-height:100px;overflow:hidden\" \n",
       "onclick=\"\n",
       "if (this.style.maxHeight === 'none') \n",
       "    this.style.maxHeight = '100px';\n",
       "else\n",
       "    this.style.maxHeight = 'none'; \n",
       "\">val tracer : unit -&gt; unit = &lt;fun&gt;\n",
       "</pre>"
      ]
     },
     "execution_count": 83,
     "metadata": {},
     "output_type": "execute_result"
    },
    {
     "data": {
      "text/html": [
       "<pre style=\"color:slategray;max-height:100px;overflow:hidden\" \n",
       "onclick=\"\n",
       "if (this.style.maxHeight === 'none') \n",
       "    this.style.maxHeight = '100px';\n",
       "else\n",
       "    this.style.maxHeight = 'none'; \n",
       "\">- : unit = ()\n",
       "</pre>"
      ]
     },
     "execution_count": 83,
     "metadata": {},
     "output_type": "execute_result"
    }
   ],
   "source": [
    "let tracer () =\n",
    "    let methodes=[|construction1;construction2;construction3|] in\n",
    "    plsdev (\"png\");\n",
    "    plsfnam(\"graph.png\");\n",
    "    plscolbg 255 255 255;\n",
    "    plinit ();\n",
    "    plssub 3 1;\n",
    "    plscol0 1 0 0 0;\n",
    "     \n",
    "    for i = 0 to 2 do\n",
    "        let liste_x,liste_y = genere methodes.(i) in\n",
    "        let xs = Array.of_list liste_x in\n",
    "        let ys = Array.of_list liste_y in\n",
    "        pladv 0; (*advance next sub-page*)\n",
    "        plvsta (); (*select standard viewport *)\n",
    "        plsvpa (0.) 99. (0.) 99.;\n",
    "        plwind (-1.) 1. (-1.) 1.;\n",
    "\n",
    "        plcol0 1; (* bordure cadre*)\n",
    "        plbox \"bc\" 1.0 0 \"bc\" 1.0 0;\n",
    "        plcol0 1; (*couleur des pts*)\n",
    "        plpoin xs ys 1;\n",
    "    done;\n",
    "    plend ();;\n",
    "    \n",
    "tracer();;"
   ]
  },
  {
   "cell_type": "markdown",
   "metadata": {
    "deletable": true,
    "editable": true
   },
   "source": [
    "<img src=\"./graph.png\" width=750/>"
   ]
  },
  {
   "cell_type": "code",
   "execution_count": 100,
   "metadata": {
    "collapsed": false,
    "deletable": true,
    "editable": true
   },
   "outputs": [
    {
     "data": {
      "text/html": [
       "<pre style=\"color:slategray;max-height:100px;overflow:hidden\" \n",
       "onclick=\"\n",
       "if (this.style.maxHeight === 'none') \n",
       "    this.style.maxHeight = '100px';\n",
       "else\n",
       "    this.style.maxHeight = 'none'; \n",
       "\">val ( -- ) : float * float -&gt; float * float -&gt; float * float = &lt;fun&gt;\n",
       "</pre>"
      ]
     },
     "execution_count": 100,
     "metadata": {},
     "output_type": "execute_result"
    },
    {
     "data": {
      "text/html": [
       "<pre style=\"color:slategray;max-height:100px;overflow:hidden\" \n",
       "onclick=\"\n",
       "if (this.style.maxHeight === 'none') \n",
       "    this.style.maxHeight = '100px';\n",
       "else\n",
       "    this.style.maxHeight = 'none'; \n",
       "\">val ( ++ ) : float * float -&gt; float * float -&gt; float * float = &lt;fun&gt;\n",
       "</pre>"
      ]
     },
     "execution_count": 100,
     "metadata": {},
     "output_type": "execute_result"
    },
    {
     "data": {
      "text/html": [
       "<pre style=\"color:slategray;max-height:100px;overflow:hidden\" \n",
       "onclick=\"\n",
       "if (this.style.maxHeight === 'none') \n",
       "    this.style.maxHeight = '100px';\n",
       "else\n",
       "    this.style.maxHeight = 'none'; \n",
       "\">val cross : float * float -&gt; float * float -&gt; float = &lt;fun&gt;\n",
       "</pre>"
      ]
     },
     "execution_count": 100,
     "metadata": {},
     "output_type": "execute_result"
    },
    {
     "data": {
      "text/html": [
       "<pre style=\"color:slategray;max-height:100px;overflow:hidden\" \n",
       "onclick=\"\n",
       "if (this.style.maxHeight === 'none') \n",
       "    this.style.maxHeight = '100px';\n",
       "else\n",
       "    this.style.maxHeight = 'none'; \n",
       "\">val dot : float * float -&gt; float * float -&gt; float = &lt;fun&gt;\n",
       "</pre>"
      ]
     },
     "execution_count": 100,
     "metadata": {},
     "output_type": "execute_result"
    },
    {
     "data": {
      "text/html": [
       "<pre style=\"color:slategray;max-height:100px;overflow:hidden\" \n",
       "onclick=\"\n",
       "if (this.style.maxHeight === 'none') \n",
       "    this.style.maxHeight = '100px';\n",
       "else\n",
       "    this.style.maxHeight = 'none'; \n",
       "\">val sign : float -&gt; int = &lt;fun&gt;\n",
       "</pre>"
      ]
     },
     "execution_count": 100,
     "metadata": {},
     "output_type": "execute_result"
    },
    {
     "data": {
      "text/html": [
       "<pre style=\"color:slategray;max-height:100px;overflow:hidden\" \n",
       "onclick=\"\n",
       "if (this.style.maxHeight === 'none') \n",
       "    this.style.maxHeight = '100px';\n",
       "else\n",
       "    this.style.maxHeight = 'none'; \n",
       "\">val line_side_test : float * float -&gt; float * float -&gt; float * float -&gt; int =\n",
       "  &lt;fun&gt;\n",
       "</pre>"
      ]
     },
     "execution_count": 100,
     "metadata": {},
     "output_type": "execute_result"
    },
    {
     "data": {
      "text/html": [
       "<pre style=\"color:slategray;max-height:100px;overflow:hidden\" \n",
       "onclick=\"\n",
       "if (this.style.maxHeight === 'none') \n",
       "    this.style.maxHeight = '100px';\n",
       "else\n",
       "    this.style.maxHeight = 'none'; \n",
       "\">val len : float * float -&gt; float = &lt;fun&gt;\n",
       "</pre>"
      ]
     },
     "execution_count": 100,
     "metadata": {},
     "output_type": "execute_result"
    },
    {
     "data": {
      "text/html": [
       "<pre style=\"color:slategray;max-height:100px;overflow:hidden\" \n",
       "onclick=\"\n",
       "if (this.style.maxHeight === 'none') \n",
       "    this.style.maxHeight = '100px';\n",
       "else\n",
       "    this.style.maxHeight = 'none'; \n",
       "\">val graham_convex_hull : (float * float) list -&gt; (float * float) list = &lt;fun&gt;\n",
       "</pre>"
      ]
     },
     "execution_count": 100,
     "metadata": {},
     "output_type": "execute_result"
    },
    {
     "data": {
      "text/html": [
       "<pre style=\"color:slategray;max-height:100px;overflow:hidden\" \n",
       "onclick=\"\n",
       "if (this.style.maxHeight === 'none') \n",
       "    this.style.maxHeight = '100px';\n",
       "else\n",
       "    this.style.maxHeight = 'none'; \n",
       "\">val print_list : (float * float) list -&gt; unit = &lt;fun&gt;\n",
       "</pre>"
      ]
     },
     "execution_count": 100,
     "metadata": {},
     "output_type": "execute_result"
    }
   ],
   "source": [
    "let (--) (x1,y1) (x2,y2) = (x1-.x2, y1-.y2)\n",
    "let (++) (x1,y1) (x2,y2) = (x1+.x2, y1+.y2)\n",
    "let cross (x1,y1) (x2,y2) = (x1*.y2) -. (y1*.x2)\n",
    "let dot (x1,y1) (x2,y2) = (x1*.x2) +. (y1*.y2)\n",
    "let sign x = compare x 0.\n",
    "let line_side_test p1 p2 p3 = sign (cross (p2--p1) (p3--p1))\n",
    "(* Which side of ray p1-->p2 is p3 on? This returns 1 for\n",
    "\"LEFT\", 0 for \"ON\" and -1 for \"RIGHT\". *)\n",
    "\n",
    "let len (x,y) =\n",
    "    let sq a = a*.a in\n",
    "    sqrt ((sq x) +. (sq y))\n",
    "\n",
    "let graham_convex_hull points =\n",
    "    let inf = max_float in\n",
    "    let base = List.fold_left min (inf,inf) points in\n",
    "    \n",
    "    let points = List.sort (\n",
    "        fun pi pj ->\n",
    "            if pi=pj then 0\n",
    "            else if pi=base then 1\n",
    "            else if pj=base then -1\n",
    "            else line_side_test base pj pi\n",
    "        ) points in\n",
    "        \n",
    "    (* now the list starts at p1, and base is at the end of the list *)\n",
    "    let rec scan chain points =\n",
    "        let (c1,c2,chainx) = match chain with\n",
    "            | c1::((c2::_) as chainx) -> (c1,c2,chainx)\n",
    "            | _ -> failwith \"chain must have length at least 2\"\n",
    "        in\n",
    "        match points with [] -> chain\n",
    "        | pt::tail ->\n",
    "            match line_side_test c2 c1 pt with\n",
    "            | 1 -> scan (pt::chain) tail\n",
    "            | -1 -> scan chainx points\n",
    "            | _ ->\n",
    "                if len (pt--c2) > len (c1--c2)\n",
    "                then scan (pt::chainx) tail\n",
    "                else scan chain tail\n",
    "    in\n",
    "\n",
    "    match points with\n",
    "    | (p1::((_::(_::_)) as rest)) -> List.tl(scan [p1;base] rest);\n",
    "    | _ -> points (* do nothing if < 3 points *)\n",
    "\n",
    "let print_list l =\n",
    "List.iter (fun (x,y) -> Printf.printf \"(%f,%f) \" x y) l;\n",
    "print_newline()"
   ]
  },
  {
   "cell_type": "code",
   "execution_count": 101,
   "metadata": {
    "collapsed": false,
    "deletable": true,
    "editable": true
   },
   "outputs": [
    {
     "name": "stdout",
     "output_type": "stream",
     "text": [
      "(0.000000,2.000000) (2.000000,2.000000) (2.000000,0.000000) (0.000000,0.000000) \n"
     ]
    }
   ],
   "source": [
    "let () = print_list (graham_convex_hull [(0.,0.);(0.,2.);(2.,2.);(2.,0.);(1.,1.)]);;"
   ]
  },
  {
   "cell_type": "code",
   "execution_count": 106,
   "metadata": {
    "collapsed": false,
    "deletable": true,
    "editable": true
   },
   "outputs": [
    {
     "name": "stdout",
     "output_type": "stream",
     "text": [
      "0.70375"
     ]
    },
    {
     "data": {
      "text/html": [
       "<pre style=\"color:slategray;max-height:100px;overflow:hidden\" \n",
       "onclick=\"\n",
       "if (this.style.maxHeight === 'none') \n",
       "    this.style.maxHeight = '100px';\n",
       "else\n",
       "    this.style.maxHeight = 'none'; \n",
       "\">val convexe : unit -&gt; int = &lt;fun&gt;\n",
       "</pre>"
      ]
     },
     "execution_count": 106,
     "metadata": {},
     "output_type": "execute_result"
    },
    {
     "data": {
      "text/html": [
       "<pre style=\"color:slategray;max-height:100px;overflow:hidden\" \n",
       "onclick=\"\n",
       "if (this.style.maxHeight === 'none') \n",
       "    this.style.maxHeight = '100px';\n",
       "else\n",
       "    this.style.maxHeight = 'none'; \n",
       "\">val nbre_essais : int = 100000\n",
       "</pre>"
      ]
     },
     "execution_count": 106,
     "metadata": {},
     "output_type": "execute_result"
    },
    {
     "data": {
      "text/html": [
       "<pre style=\"color:slategray;max-height:100px;overflow:hidden\" \n",
       "onclick=\"\n",
       "if (this.style.maxHeight === 'none') \n",
       "    this.style.maxHeight = '100px';\n",
       "else\n",
       "    this.style.maxHeight = 'none'; \n",
       "\">- : unit = ()\n",
       "</pre>"
      ]
     },
     "execution_count": 106,
     "metadata": {},
     "output_type": "execute_result"
    }
   ],
   "source": [
    "let convexe() =\n",
    "    \"à compléter\"\n",
    "\n",
    "let nbre_essais=100000;;\n",
    "let rec loop num_essai res =\n",
    "    if num_essai = nbre_essais then float_of_int res /. (float_of_int nbre_essais)\n",
    "    else loop (num_essai+1) (res+convexe()) in\n",
    "print_float(loop 0 0);;(*0.7064*)"
   ]
  },
  {
   "cell_type": "code",
   "execution_count": 107,
   "metadata": {
    "collapsed": false,
    "deletable": true,
    "editable": true
   },
   "outputs": [
    {
     "name": "stdout",
     "output_type": "stream",
     "text": [
      "0.704479881043"
     ]
    },
    {
     "data": {
      "text/html": [
       "<pre style=\"color:slategray;max-height:100px;overflow:hidden\" \n",
       "onclick=\"\n",
       "if (this.style.maxHeight === 'none') \n",
       "    this.style.maxHeight = '100px';\n",
       "else\n",
       "    this.style.maxHeight = 'none'; \n",
       "\">- : unit = ()\n",
       "</pre>"
      ]
     },
     "execution_count": 107,
     "metadata": {},
     "output_type": "execute_result"
    }
   ],
   "source": [
    "print_float(1.-.35./.(12.*.pi**2.))"
   ]
  },
  {
   "cell_type": "code",
   "execution_count": null,
   "metadata": {
    "collapsed": true,
    "deletable": true,
    "editable": true
   },
   "outputs": [],
   "source": []
  }
 ],
 "metadata": {
  "kernelspec": {
   "display_name": "OCaml",
   "language": "ocaml",
   "name": "iocaml"
  },
  "language_info": {
   "name": "ocaml",
   "version": "4.1.0"
  }
 },
 "nbformat": 4,
 "nbformat_minor": 2
}
