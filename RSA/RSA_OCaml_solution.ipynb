{
 "cells": [
  {
   "cell_type": "markdown",
   "metadata": {},
   "source": [
    "<h1> Cryptage RSA</h1>\n",
    "\n",
    "<h2> Position du problème</h2>\n",
    "\n",
    "On propose de réaliser la méthode de cryptage due à Rivest, Shamir et Adleman (dite méthode RSA).\n",
    "Cet algorithme date de 1977, il repose sur le fait que, si l'on multiplie ensemble deux\n",
    "nombres premiers très grands ($p$ et $q$),\n",
    "il est très difficile de redécomposer le résultat obtenu ($n=p.q$) en facteurs premiers ($p$ et $q$).\n",
    "\n",
    "[Historiquement, $p$ était un nombre de 64 chiffres et $q$ un nombre de 65 chiffres.\n",
    "En 1994, le nombre $n=p.q$ de 129 chiffres (RSA129) a pu être décomposé en $p$ et $q$\n",
    "grâce à 1600 ordinateurs travaillant en parallèle pendant deux jours.]\n",
    "\n",
    "La méthode RSA, dite à clef publique, est la suivante:\n",
    "\n",
    "[Les 2 premières étapes sont communes à toutes les méthodes de codage.]\n",
    "\n",
    "1. à chaque lettre $\\ell$ de l'alphabet, on affecte un nombre $n_\\ell$ compris entre 1 et $n_{max}$.<br>\n",
    "(Si on ne prend que les lettres majuscules non accentuées et le caractère blanc, on a $n_{max}=27$).<br>\n",
    "<br>\n",
    "2. on transforme le texte à transmettre (formé de $\\ell_{max}$ lettres) en un nombre: %<br>\n",
    "$\\displaystyle message=\\sum_{\\ell=1}^{\\ell_{max}}n_{\\ell}\\times n_{max}^\\ell$.<br>\n",
    "<br>\n",
    "3. un interlocuteur $1$ choisit secrètement deux nombres premiers très grands $p_1$ et $q_1$ congrus à 2 modulo 3  [i.e. dont le reste de la division euclidienne par 3 est 2]. Il publie leur produit (la clef publique): $n_1=p_1.q_1$. Il garde secrètement le résultat d'un autre calcul (la clef privée):\n",
    "$k_1={2.(p_1-1).(q_1-1)+1\\over 3}$ ($k_1$ est forcément un entier).<br>\n",
    "La fonction codage de $x$ consiste à calculer une certaine fonction $f_{n_1}(x)$;<br>\n",
    "la fonction décodage de $x$ consiste à calculer la fonction inverse: $f^{-1}_{n_1,k_1}(x)$.<br>\n",
    "<br>\n",
    "4. un interlocuteur $2$ fait de même avec $p_2$, $q_2$, $n_2=p_2.q_2$ et $k_2={2.(p_2-1).(q_2-1)+1\\over 3}$.<br>\n",
    "<br>\n",
    "5. lorsque 1 veut transmettre le $message$ à 2, il envoie: $xxxx=f_{n_2}(f^{-1}_{n_1,k_1}(message))$.<br>\n",
    "<br>\n",
    "6. lorsque 2 veut décoder $xxxx$, il calcule $f_{n_1}(f^{-1}_{k_2,n_2}(xxxx))=message$.<br>\n",
    "<br>\n",
    "7. le récepteur décompose le nombre $message$ dans la base $n_{max}$ et\n",
    "transforme chaque nombre de la décompo\\-sition en lettre de l'alphabet pour retrouver le texte.\n",
    "<br>\n",
    "\n",
    "La fonction codage $f_{n_i}(yyyy)$ consiste à décomposer $yyyy$ dans la base $n_i$ puis\n",
    "à élever chaque terme de la décomposition au cube modulo $n_i$.\n",
    "\n",
    "La fonction décodage $f^{-1}_{n_i,k_i}(zzzz)$ consiste à élever $zzzz$ à la puissance $3.k_i$ modulo $n_i$.\n",
    "Cette procédure utilise le petit théorème de Fermat généralisé:<br>\n",
    "- soit $m$ et $n$ deux nombres premiers entre eux ($m<n$);<br>\n",
    "- soit $\\Phi(n)$ la fonction d'Euler donnant le nombre des entiers inférieurs et premiers avec $n$.<br>\n",
    "Ici $\\Phi(n)=(p-1)*(q-1)$.<br>\n",
    "On a alors: $m^{\\Phi(n)}\\equiv1$ $[n]$ $\\Rightarrow$ $m^{(p-1).(q-1)}\\equiv1$ $[n]$\n",
    "$\\Rightarrow$ $\\forall k\\in\\mathbb{N}$, $m^{k.(p-1).(q-1)}\\equiv1$ $[n]$<br>\n",
    "$\\Rightarrow$ $\\forall k\\in\\mathbb{N}$, $m^{k.(p-1).(q-1)+1}\\equiv m$ $[n]$<br>\n",
    "Comme $p\\equiv q\\equiv 2$ $[3]$, on a: $2.(p-1).(q-1)+1\\equiv 0$ $[3]$\n",
    "et donc $\\exists k\\in\\mathbb{N}$ tel que $2.(p-1).(q-1)+1=3.k$"
   ]
  },
  {
   "cell_type": "markdown",
   "metadata": {},
   "source": [
    "Utilisez le programme <b>Rabin-Miller</b> pour vérifier si un nombre est premier."
   ]
  },
  {
   "cell_type": "code",
   "execution_count": 2,
   "metadata": {},
   "outputs": [
    {
     "data": {
      "text/html": [
       "<pre style=\"color:slategray;max-height:100px;overflow:hidden\" \n",
       "onclick=\"\n",
       "if (this.style.maxHeight === 'none') \n",
       "    this.style.maxHeight = '100px';\n",
       "else\n",
       "    this.style.maxHeight = 'none'; \n",
       "\">- : unit -&gt; unit = &lt;fun&gt;\n",
       "</pre>"
      ]
     },
     "execution_count": 2,
     "metadata": {},
     "output_type": "execute_result"
    }
   ],
   "source": [
    "open Random;;\n",
    "Random.self_init;;"
   ]
  },
  {
   "cell_type": "code",
   "execution_count": 3,
   "metadata": {},
   "outputs": [
    {
     "data": {
      "text/html": [
       "<pre style=\"color:slategray;max-height:100px;overflow:hidden\" \n",
       "onclick=\"\n",
       "if (this.style.maxHeight === 'none') \n",
       "    this.style.maxHeight = '100px';\n",
       "else\n",
       "    this.style.maxHeight = 'none'; \n",
       "\">val zero : Big_int.big_int = &lt;abstr&gt;\n",
       "</pre>"
      ]
     },
     "execution_count": 3,
     "metadata": {},
     "output_type": "execute_result"
    },
    {
     "data": {
      "text/html": [
       "<pre style=\"color:slategray;max-height:100px;overflow:hidden\" \n",
       "onclick=\"\n",
       "if (this.style.maxHeight === 'none') \n",
       "    this.style.maxHeight = '100px';\n",
       "else\n",
       "    this.style.maxHeight = 'none'; \n",
       "\">val un : Big_int.big_int = &lt;abstr&gt;\n",
       "</pre>"
      ]
     },
     "execution_count": 3,
     "metadata": {},
     "output_type": "execute_result"
    },
    {
     "data": {
      "text/html": [
       "<pre style=\"color:slategray;max-height:100px;overflow:hidden\" \n",
       "onclick=\"\n",
       "if (this.style.maxHeight === 'none') \n",
       "    this.style.maxHeight = '100px';\n",
       "else\n",
       "    this.style.maxHeight = 'none'; \n",
       "\">val deux : Big_int.big_int = &lt;abstr&gt;\n",
       "</pre>"
      ]
     },
     "execution_count": 3,
     "metadata": {},
     "output_type": "execute_result"
    },
    {
     "data": {
      "text/html": [
       "<pre style=\"color:slategray;max-height:100px;overflow:hidden\" \n",
       "onclick=\"\n",
       "if (this.style.maxHeight === 'none') \n",
       "    this.style.maxHeight = '100px';\n",
       "else\n",
       "    this.style.maxHeight = 'none'; \n",
       "\">val trois : Big_int.big_int = &lt;abstr&gt;\n",
       "</pre>"
      ]
     },
     "execution_count": 3,
     "metadata": {},
     "output_type": "execute_result"
    },
    {
     "data": {
      "text/html": [
       "<pre style=\"color:slategray;max-height:100px;overflow:hidden\" \n",
       "onclick=\"\n",
       "if (this.style.maxHeight === 'none') \n",
       "    this.style.maxHeight = '100px';\n",
       "else\n",
       "    this.style.maxHeight = 'none'; \n",
       "\">val cinq : Big_int.big_int = &lt;abstr&gt;\n",
       "</pre>"
      ]
     },
     "execution_count": 3,
     "metadata": {},
     "output_type": "execute_result"
    }
   ],
   "source": [
    "#load \"nums.cma\";;\n",
    "let zero = Big_int.big_int_of_int 0;;\n",
    "let un = Big_int.big_int_of_int 1;;\n",
    "let deux = Big_int.big_int_of_int 2;;\n",
    "let trois = Big_int.big_int_of_int 3;;\n",
    "let cinq = Big_int.big_int_of_int 5;;"
   ]
  },
  {
   "cell_type": "code",
   "execution_count": 4,
   "metadata": {},
   "outputs": [
    {
     "data": {
      "text/html": [
       "<pre style=\"color:slategray;max-height:100px;overflow:hidden\" \n",
       "onclick=\"\n",
       "if (this.style.maxHeight === 'none') \n",
       "    this.style.maxHeight = '100px';\n",
       "else\n",
       "    this.style.maxHeight = 'none'; \n",
       "\">val pow : int -&gt; int -&gt; int = &lt;fun&gt;\n",
       "</pre>"
      ]
     },
     "execution_count": 4,
     "metadata": {},
     "output_type": "execute_result"
    },
    {
     "data": {
      "text/html": [
       "<pre style=\"color:slategray;max-height:100px;overflow:hidden\" \n",
       "onclick=\"\n",
       "if (this.style.maxHeight === 'none') \n",
       "    this.style.maxHeight = '100px';\n",
       "else\n",
       "    this.style.maxHeight = 'none'; \n",
       "\">val charsize : Big_int.big_int = &lt;abstr&gt;\n",
       "</pre>"
      ]
     },
     "execution_count": 4,
     "metadata": {},
     "output_type": "execute_result"
    },
    {
     "data": {
      "text/html": [
       "<pre style=\"color:slategray;max-height:100px;overflow:hidden\" \n",
       "onclick=\"\n",
       "if (this.style.maxHeight === 'none') \n",
       "    this.style.maxHeight = '100px';\n",
       "else\n",
       "    this.style.maxHeight = 'none'; \n",
       "\">val code : string -&gt; Big_int.big_int = &lt;fun&gt;\n",
       "</pre>"
      ]
     },
     "execution_count": 4,
     "metadata": {},
     "output_type": "execute_result"
    },
    {
     "data": {
      "text/html": [
       "<pre style=\"color:slategray;max-height:100px;overflow:hidden\" \n",
       "onclick=\"\n",
       "if (this.style.maxHeight === 'none') \n",
       "    this.style.maxHeight = '100px';\n",
       "else\n",
       "    this.style.maxHeight = 'none'; \n",
       "\">val decode : Big_int.big_int -&gt; string = &lt;fun&gt;\n",
       "</pre>"
      ]
     },
     "execution_count": 4,
     "metadata": {},
     "output_type": "execute_result"
    }
   ],
   "source": [
    "let rec pow x n =\n",
    "    if n=0 then 1 else\n",
    "    if n mod 2 = 0 then pow (x*x) (n/2)\n",
    "    else x*(pow (x*x) (n/2));;\n",
    "    \n",
    "let charsize = Big_int.big_int_of_int (pow 2 (8*4));; (* Unicode : jusqu'à quatre octets par caractère *)\n",
    "let code s =\n",
    "    let rec loop i num decalage =\n",
    "        if i = String.length s then num\n",
    "        else loop (i+1) (Big_int.add_big_int num (Big_int.mult_int_big_int (int_of_char s.[i]) decalage)) (Big_int.mult_big_int decalage charsize) in\n",
    "    loop 0 zero un;;\n",
    "\n",
    "let decode n =\n",
    "    let rec loop n s =\n",
    "        if Big_int.eq_big_int n zero then s else \n",
    "        begin\n",
    "           let c = String.make 1 (char_of_int(Big_int.int_of_big_int (Big_int.mod_big_int n charsize))) in\n",
    "           loop (Big_int.div_big_int n charsize) (s^c);\n",
    "        end in\n",
    "    loop n \"\";;"
   ]
  },
  {
   "cell_type": "code",
   "execution_count": 5,
   "metadata": {},
   "outputs": [
    {
     "data": {
      "text/html": [
       "<pre style=\"color:slategray;max-height:100px;overflow:hidden\" \n",
       "onclick=\"\n",
       "if (this.style.maxHeight === 'none') \n",
       "    this.style.maxHeight = '100px';\n",
       "else\n",
       "    this.style.maxHeight = 'none'; \n",
       "\">val temoin_Miller : Big_int.big_int -&gt; Big_int.big_int -&gt; bool = &lt;fun&gt;\n",
       "</pre>"
      ]
     },
     "execution_count": 5,
     "metadata": {},
     "output_type": "execute_result"
    },
    {
     "data": {
      "text/html": [
       "<pre style=\"color:slategray;max-height:100px;overflow:hidden\" \n",
       "onclick=\"\n",
       "if (this.style.maxHeight === 'none') \n",
       "    this.style.maxHeight = '100px';\n",
       "else\n",
       "    this.style.maxHeight = 'none'; \n",
       "\">val max_rand_int : int = 1073741824\n",
       "</pre>"
      ]
     },
     "execution_count": 5,
     "metadata": {},
     "output_type": "execute_result"
    },
    {
     "data": {
      "text/html": [
       "<pre style=\"color:slategray;max-height:100px;overflow:hidden\" \n",
       "onclick=\"\n",
       "if (this.style.maxHeight === 'none') \n",
       "    this.style.maxHeight = '100px';\n",
       "else\n",
       "    this.style.maxHeight = 'none'; \n",
       "\">val test_Miller_Rabin : Big_int.big_int -&gt; int -&gt; bool = &lt;fun&gt;\n",
       "</pre>"
      ]
     },
     "execution_count": 5,
     "metadata": {},
     "output_type": "execute_result"
    },
    {
     "data": {
      "text/html": [
       "<pre style=\"color:slategray;max-height:100px;overflow:hidden\" \n",
       "onclick=\"\n",
       "if (this.style.maxHeight === 'none') \n",
       "    this.style.maxHeight = '100px';\n",
       "else\n",
       "    this.style.maxHeight = 'none'; \n",
       "\">val isprime : Big_int.big_int -&gt; bool = &lt;fun&gt;\n",
       "</pre>"
      ]
     },
     "execution_count": 5,
     "metadata": {},
     "output_type": "execute_result"
    }
   ],
   "source": [
    "let temoin_Miller n a =\n",
    "    (* determination de s et d tels que n-1 = 2**s * d *)\n",
    "    let s= ref 0 in\n",
    "    let m= ref (Big_int.pred_big_int n) in\n",
    "    while (Big_int.eq_big_int (Big_int.mod_big_int !m deux) zero) do\n",
    "        incr s;\n",
    "        m := Big_int.div_big_int !m deux;\n",
    "    done;\n",
    "    let d = ref !m in\n",
    "    let a_ = ref a in\n",
    "    \n",
    "    (* calcul de x = a**d % n *)\n",
    "    let x= ref un in\n",
    "    while Big_int.gt_big_int !d zero do\n",
    "        if not (Big_int.eq_big_int (Big_int.mod_big_int !d deux) zero) then\n",
    "            x := Big_int.mod_big_int (Big_int.mult_big_int !x !a_) n;\n",
    "        a_ := Big_int.mod_big_int (Big_int.mult_big_int !a_ !a_) n;\n",
    "        d := Big_int.div_big_int !d deux;\n",
    "    done;\n",
    "   \n",
    "    if Big_int.eq_big_int !x un ||  Big_int.eq_big_int !x (Big_int.pred_big_int n) then false\n",
    "    else begin\n",
    "    \n",
    "    let continue = ref true in\n",
    "    while !continue && !s>1 do\n",
    "        x := Big_int.mod_big_int (Big_int.mult_big_int !x !x) n;\n",
    "        if  Big_int.eq_big_int !x (Big_int.pred_big_int n) then\n",
    "            continue := false;\n",
    "        decr s;\n",
    "    done;\n",
    "    !continue;\n",
    "    end;;\n",
    "let max_rand_int = int_of_float (2.**30.);;\n",
    "let test_Miller_Rabin (n:Big_int.big_int) k =\n",
    "    if Big_int.eq_big_int n deux \n",
    "    || Big_int.eq_big_int n trois\n",
    "    || Big_int.eq_big_int n cinq\n",
    "    then true\n",
    "    else begin\n",
    "        let trouve = ref true in\n",
    "        let i = ref 0 in \n",
    "        let a = ref deux in\n",
    "        while !trouve && !i<k do\n",
    "           if Big_int.lt_big_int n (Big_int.big_int_of_int max_rand_int) then\n",
    "              a:= Big_int.big_int_of_int (2+ Random.int (Big_int.int_of_big_int n-2)) (* entre 2 et n-1 inclus *)\n",
    "           else\n",
    "              a:= Big_int.big_int_of_int (2+ Random.int (max_rand_int-2));\n",
    "          if temoin_Miller n !a then trouve := false;\n",
    "          incr i;\n",
    "        done; !trouve;\n",
    "    end;;\n",
    "let isprime n = test_Miller_Rabin n 10;;"
   ]
  },
  {
   "cell_type": "code",
   "execution_count": 6,
   "metadata": {},
   "outputs": [
    {
     "data": {
      "text/html": [
       "<pre style=\"color:slategray;max-height:100px;overflow:hidden\" \n",
       "onclick=\"\n",
       "if (this.style.maxHeight === 'none') \n",
       "    this.style.maxHeight = '100px';\n",
       "else\n",
       "    this.style.maxHeight = 'none'; \n",
       "\">val primes : int -&gt; Big_int.big_int = &lt;fun&gt;\n",
       "</pre>"
      ]
     },
     "execution_count": 6,
     "metadata": {},
     "output_type": "execute_result"
    }
   ],
   "source": [
    "let rec primes n =\n",
    "    let prime = Big_int.big_int_of_int(pow 10 n + (Random.int (pow 10 (n+1)))) in\n",
    "    if Big_int.eq_big_int (Big_int.mod_big_int prime trois) deux && isprime prime then prime\n",
    "    else primes n;;"
   ]
  },
  {
   "cell_type": "code",
   "execution_count": 7,
   "metadata": {},
   "outputs": [
    {
     "data": {
      "text/html": [
       "<pre style=\"color:slategray;max-height:100px;overflow:hidden\" \n",
       "onclick=\"\n",
       "if (this.style.maxHeight === 'none') \n",
       "    this.style.maxHeight = '100px';\n",
       "else\n",
       "    this.style.maxHeight = 'none'; \n",
       "\">val print_big_int : Big_int.big_int -&gt; unit = &lt;fun&gt;\n",
       "</pre>"
      ]
     },
     "execution_count": 7,
     "metadata": {},
     "output_type": "execute_result"
    }
   ],
   "source": [
    "let print_big_int i = print_string (Big_int.string_of_big_int i)"
   ]
  },
  {
   "cell_type": "code",
   "execution_count": 8,
   "metadata": {},
   "outputs": [
    {
     "data": {
      "text/html": [
       "<pre style=\"color:slategray;max-height:100px;overflow:hidden\" \n",
       "onclick=\"\n",
       "if (this.style.maxHeight === 'none') \n",
       "    this.style.maxHeight = '100px';\n",
       "else\n",
       "    this.style.maxHeight = 'none'; \n",
       "\">val liste_en_nombre :\n",
       "  Big_int.big_int list -&gt; Big_int.big_int -&gt; Big_int.big_int = &lt;fun&gt;\n",
       "</pre>"
      ]
     },
     "execution_count": 8,
     "metadata": {},
     "output_type": "execute_result"
    }
   ],
   "source": [
    "let liste_en_nombre liste cle =\n",
    "    let rec loop liste res decalage =\n",
    "        match liste with\n",
    "        | [] -> res\n",
    "        | hd::tl -> loop tl (Big_int.add_big_int res (Big_int.mult_big_int hd decalage)) (Big_int.mult_big_int decalage cle) in\n",
    "    loop liste zero un;;"
   ]
  },
  {
   "cell_type": "code",
   "execution_count": 9,
   "metadata": {},
   "outputs": [
    {
     "data": {
      "text/html": [
       "<pre style=\"color:slategray;max-height:100px;overflow:hidden\" \n",
       "onclick=\"\n",
       "if (this.style.maxHeight === 'none') \n",
       "    this.style.maxHeight = '100px';\n",
       "else\n",
       "    this.style.maxHeight = 'none'; \n",
       "\">val codage : Big_int.big_int -&gt; Big_int.big_int -&gt; Big_int.big_int = &lt;fun&gt;\n",
       "</pre>"
      ]
     },
     "execution_count": 9,
     "metadata": {},
     "output_type": "execute_result"
    }
   ],
   "source": [
    "let codage nombre cle =\n",
    "    Big_int.mod_big_int (Big_int.power_big_int_positive_int nombre 3) cle;;"
   ]
  },
  {
   "cell_type": "code",
   "execution_count": 10,
   "metadata": {},
   "outputs": [
    {
     "data": {
      "text/html": [
       "<pre style=\"color:slategray;max-height:100px;overflow:hidden\" \n",
       "onclick=\"\n",
       "if (this.style.maxHeight === 'none') \n",
       "    this.style.maxHeight = '100px';\n",
       "else\n",
       "    this.style.maxHeight = 'none'; \n",
       "\">val decomposition_sur_base :\n",
       "  Big_int.big_int -&gt; Big_int.big_int -&gt; Big_int.big_int list = &lt;fun&gt;\n",
       "</pre>"
      ]
     },
     "execution_count": 10,
     "metadata": {},
     "output_type": "execute_result"
    }
   ],
   "source": [
    "let decomposition_sur_base nombre base =\n",
    "    let rec loop nombre res =\n",
    "        if Big_int.eq_big_int nombre zero then List.rev res\n",
    "        else loop (Big_int.div_big_int nombre base) ((Big_int.mod_big_int nombre base)::res) in\n",
    "    loop nombre [];;"
   ]
  },
  {
   "cell_type": "code",
   "execution_count": 11,
   "metadata": {},
   "outputs": [
    {
     "name": "stdout",
     "output_type": "stream",
     "text": [
      "321"
     ]
    },
    {
     "data": {
      "text/html": [
       "<pre style=\"color:slategray;max-height:100px;overflow:hidden\" \n",
       "onclick=\"\n",
       "if (this.style.maxHeight === 'none') \n",
       "    this.style.maxHeight = '100px';\n",
       "else\n",
       "    this.style.maxHeight = 'none'; \n",
       "\">- : unit list = [(); (); ()]\n",
       "</pre>"
      ]
     },
     "execution_count": 11,
     "metadata": {},
     "output_type": "execute_result"
    }
   ],
   "source": [
    "List.map print_big_int (decomposition_sur_base (Big_int.big_int_of_int 123) (Big_int.big_int_of_int 10))"
   ]
  },
  {
   "cell_type": "code",
   "execution_count": 12,
   "metadata": {},
   "outputs": [
    {
     "data": {
      "text/html": [
       "<pre style=\"color:slategray;max-height:100px;overflow:hidden\" \n",
       "onclick=\"\n",
       "if (this.style.maxHeight === 'none') \n",
       "    this.style.maxHeight = '100px';\n",
       "else\n",
       "    this.style.maxHeight = 'none'; \n",
       "\">val rsa : Big_int.big_int -&gt; Big_int.big_int -&gt; Big_int.big_int = &lt;fun&gt;\n",
       "</pre>"
      ]
     },
     "execution_count": 12,
     "metadata": {},
     "output_type": "execute_result"
    }
   ],
   "source": [
    "let rsa nombre cle_publique =\n",
    "    let liste_decodee=decomposition_sur_base nombre cle_publique in\n",
    "    let liste_codee = List.map (fun nombre -> codage nombre cle_publique) liste_decodee in\n",
    "    liste_en_nombre liste_codee cle_publique;;"
   ]
  },
  {
   "cell_type": "markdown",
   "metadata": {},
   "source": [
    "<h4>Modular exponentiation (wikipedia)</h4>\n",
    "The algorithm is as follows:\n",
    "\n",
    "    Set c = 1, e′ = 0.\n",
    "    Increase e′ by 1.\n",
    "    Set c = (b ⋅ c) mod m.\n",
    "    If e′ < e, goto step 2. Else, c contains the correct solution to c ≡ be mod m.\n"
   ]
  },
  {
   "cell_type": "code",
   "execution_count": 13,
   "metadata": {},
   "outputs": [
    {
     "data": {
      "text/html": [
       "<pre style=\"color:slategray;max-height:100px;overflow:hidden\" \n",
       "onclick=\"\n",
       "if (this.style.maxHeight === 'none') \n",
       "    this.style.maxHeight = '100px';\n",
       "else\n",
       "    this.style.maxHeight = 'none'; \n",
       "\">val power_mod :\n",
       "  Big_int.big_int -&gt; Big_int.big_int -&gt; Big_int.big_int -&gt; Big_int.big_int =\n",
       "  &lt;fun&gt;\n",
       "</pre>"
      ]
     },
     "execution_count": 13,
     "metadata": {},
     "output_type": "execute_result"
    }
   ],
   "source": [
    "let power_mod b e m =\n",
    "    let rec loop e' c =\n",
    "        if Big_int.ge_big_int e' e then c\n",
    "        else begin\n",
    "           let c_ = Big_int.mod_big_int (Big_int.mult_big_int b c) m in\n",
    "           let e_ = Big_int.add_big_int e' un in\n",
    "           loop e_ c_\n",
    "           end in\n",
    "    loop zero un;;"
   ]
  },
  {
   "cell_type": "markdown",
   "metadata": {},
   "source": [
    "Test <tt>power_mod</tt>"
   ]
  },
  {
   "cell_type": "code",
   "execution_count": 14,
   "metadata": {},
   "outputs": [
    {
     "name": "stdout",
     "output_type": "stream",
     "text": [
      "445"
     ]
    },
    {
     "data": {
      "text/html": [
       "<pre style=\"color:slategray;max-height:100px;overflow:hidden\" \n",
       "onclick=\"\n",
       "if (this.style.maxHeight === 'none') \n",
       "    this.style.maxHeight = '100px';\n",
       "else\n",
       "    this.style.maxHeight = 'none'; \n",
       "\">- : unit = ()\n",
       "</pre>"
      ]
     },
     "execution_count": 14,
     "metadata": {},
     "output_type": "execute_result"
    }
   ],
   "source": [
    "print_big_int(power_mod (Big_int.big_int_of_int 4) (Big_int.big_int_of_int 13) (Big_int.big_int_of_int 497))"
   ]
  },
  {
   "cell_type": "markdown",
   "metadata": {},
   "source": [
    "<h4>Exponentiation modulaire (wikipedia)</h4>\n",
    "\n",
    "    Bignum modpow(Bignum base, Bignum exp, Bignum m) {\n",
    "\n",
    "       Bignum result = 1;\n",
    "\n",
    "       while (exp > 0) {\n",
    "          if (exp & 1 > 0) result = (result * base) % m;\n",
    "          exp >>= 1;\n",
    "          base = (base * base) % m;\n",
    "       }\n",
    "\n",
    "       return result;\n",
    "\n",
    "     }"
   ]
  },
  {
   "cell_type": "code",
   "execution_count": 15,
   "metadata": {},
   "outputs": [
    {
     "data": {
      "text/html": [
       "<pre style=\"color:slategray;max-height:100px;overflow:hidden\" \n",
       "onclick=\"\n",
       "if (this.style.maxHeight === 'none') \n",
       "    this.style.maxHeight = '100px';\n",
       "else\n",
       "    this.style.maxHeight = 'none'; \n",
       "\">val power_mod :\n",
       "  Big_int.big_int -&gt; Big_int.big_int -&gt; Big_int.big_int -&gt; Big_int.big_int =\n",
       "  &lt;fun&gt;\n",
       "</pre>"
      ]
     },
     "execution_count": 15,
     "metadata": {},
     "output_type": "execute_result"
    }
   ],
   "source": [
    "let power_mod base exponentiel modulo =\n",
    "    let rec loop b e res =\n",
    "        if Big_int.eq_big_int e zero then res\n",
    "        else if Big_int.eq_big_int (Big_int.mod_big_int e deux) un then\n",
    "        (* e impair *)\n",
    "        loop (Big_int.mod_big_int (Big_int.mult_big_int b b) modulo)\n",
    "             (Big_int.div_big_int e deux)\n",
    "             (Big_int.mod_big_int (Big_int.mult_big_int res b) modulo)\n",
    "        else\n",
    "        loop (Big_int.mod_big_int (Big_int.mult_big_int b b) modulo)\n",
    "             (Big_int.div_big_int e deux)\n",
    "             res\n",
    "        in\n",
    "    loop base exponentiel un;;"
   ]
  },
  {
   "cell_type": "markdown",
   "metadata": {},
   "source": [
    "Test <tt>power_mod</tt>"
   ]
  },
  {
   "cell_type": "code",
   "execution_count": 16,
   "metadata": {},
   "outputs": [
    {
     "name": "stdout",
     "output_type": "stream",
     "text": [
      "445"
     ]
    },
    {
     "data": {
      "text/html": [
       "<pre style=\"color:slategray;max-height:100px;overflow:hidden\" \n",
       "onclick=\"\n",
       "if (this.style.maxHeight === 'none') \n",
       "    this.style.maxHeight = '100px';\n",
       "else\n",
       "    this.style.maxHeight = 'none'; \n",
       "\">- : unit = ()\n",
       "</pre>"
      ]
     },
     "execution_count": 16,
     "metadata": {},
     "output_type": "execute_result"
    }
   ],
   "source": [
    "print_big_int(power_mod (Big_int.big_int_of_int 4) (Big_int.big_int_of_int 13) (Big_int.big_int_of_int 497))"
   ]
  },
  {
   "cell_type": "code",
   "execution_count": 17,
   "metadata": {},
   "outputs": [
    {
     "name": "stdout",
     "output_type": "stream",
     "text": [
      "1527229998585248450016808958343740453059"
     ]
    },
    {
     "data": {
      "text/html": [
       "<pre style=\"color:slategray;max-height:100px;overflow:hidden\" \n",
       "onclick=\"\n",
       "if (this.style.maxHeight === 'none') \n",
       "    this.style.maxHeight = '100px';\n",
       "else\n",
       "    this.style.maxHeight = 'none'; \n",
       "\">- : unit = ()\n",
       "</pre>"
      ]
     },
     "execution_count": 17,
     "metadata": {},
     "output_type": "execute_result"
    }
   ],
   "source": [
    "let x = Big_int.big_int_of_string \"2988348162058574136915891421498819466320163312926952423791023078876139\" in\n",
    "let n = Big_int.big_int_of_string \"2351399303373464486466122544523690094744975233415544072992656881240319\" in\n",
    "let m = Big_int.big_int_of_string \"10000000000000000000000000000000000000000\" in\n",
    "print_big_int (power_mod x n m)"
   ]
  },
  {
   "cell_type": "code",
   "execution_count": 18,
   "metadata": {},
   "outputs": [
    {
     "data": {
      "text/html": [
       "<pre style=\"color:slategray;max-height:100px;overflow:hidden\" \n",
       "onclick=\"\n",
       "if (this.style.maxHeight === 'none') \n",
       "    this.style.maxHeight = '100px';\n",
       "else\n",
       "    this.style.maxHeight = 'none'; \n",
       "\">val decodage :\n",
       "  Big_int.big_int -&gt; Big_int.big_int -&gt; Big_int.big_int -&gt; Big_int.big_int =\n",
       "  &lt;fun&gt;\n",
       "</pre>"
      ]
     },
     "execution_count": 18,
     "metadata": {},
     "output_type": "execute_result"
    }
   ],
   "source": [
    "(*Decodage*)\n",
    "let decodage nombre cle_privee cle_publique =\n",
    "    power_mod nombre cle_privee cle_publique;;"
   ]
  },
  {
   "cell_type": "code",
   "execution_count": 19,
   "metadata": {},
   "outputs": [
    {
     "data": {
      "text/html": [
       "<pre style=\"color:slategray;max-height:100px;overflow:hidden\" \n",
       "onclick=\"\n",
       "if (this.style.maxHeight === 'none') \n",
       "    this.style.maxHeight = '100px';\n",
       "else\n",
       "    this.style.maxHeight = 'none'; \n",
       "\">val rsa_ :\n",
       "  Big_int.big_int -&gt; Big_int.big_int -&gt; Big_int.big_int -&gt; Big_int.big_int =\n",
       "  &lt;fun&gt;\n",
       "</pre>"
      ]
     },
     "execution_count": 19,
     "metadata": {},
     "output_type": "execute_result"
    }
   ],
   "source": [
    "let rsa_ nombre cle_privee cle_publique =\n",
    "    let liste_codee = decomposition_sur_base nombre cle_publique in\n",
    "    let liste_decodee = List.map (fun nombre -> decodage nombre cle_privee cle_publique) liste_codee in\n",
    "    liste_en_nombre liste_decodee cle_publique;;"
   ]
  },
  {
   "cell_type": "code",
   "execution_count": 20,
   "metadata": {},
   "outputs": [
    {
     "name": "stdout",
     "output_type": "stream",
     "text": [
      "longueur de la clef : Recherche de nombres premiers à 5 chiffres..."
     ]
    },
    {
     "data": {
      "text/html": [
       "<pre style=\"color:slategray;max-height:100px;overflow:hidden\" \n",
       "onclick=\"\n",
       "if (this.style.maxHeight === 'none') \n",
       "    this.style.maxHeight = '100px';\n",
       "else\n",
       "    this.style.maxHeight = 'none'; \n",
       "\">- : unit = ()\n",
       "</pre>"
      ]
     },
     "execution_count": 20,
     "metadata": {},
     "output_type": "execute_result"
    },
    {
     "data": {
      "text/html": [
       "<pre style=\"color:slategray;max-height:100px;overflow:hidden\" \n",
       "onclick=\"\n",
       "if (this.style.maxHeight === 'none') \n",
       "    this.style.maxHeight = '100px';\n",
       "else\n",
       "    this.style.maxHeight = 'none'; \n",
       "\">val n : int = 5\n",
       "</pre>"
      ]
     },
     "execution_count": 20,
     "metadata": {},
     "output_type": "execute_result"
    },
    {
     "data": {
      "text/html": [
       "<pre style=\"color:slategray;max-height:100px;overflow:hidden\" \n",
       "onclick=\"\n",
       "if (this.style.maxHeight === 'none') \n",
       "    this.style.maxHeight = '100px';\n",
       "else\n",
       "    this.style.maxHeight = 'none'; \n",
       "\">val p : Big_int.big_int = &lt;abstr&gt;\n",
       "</pre>"
      ]
     },
     "execution_count": 20,
     "metadata": {},
     "output_type": "execute_result"
    },
    {
     "data": {
      "text/html": [
       "<pre style=\"color:slategray;max-height:100px;overflow:hidden\" \n",
       "onclick=\"\n",
       "if (this.style.maxHeight === 'none') \n",
       "    this.style.maxHeight = '100px';\n",
       "else\n",
       "    this.style.maxHeight = 'none'; \n",
       "\">- : unit = ()\n",
       "</pre>"
      ]
     },
     "execution_count": 20,
     "metadata": {},
     "output_type": "execute_result"
    }
   ],
   "source": [
    "print_string \"longueur de la clef : \";;\n",
    "let n = 5;;\n",
    "let p = primes (n-1);;\n",
    "print_string (\"Recherche de nombres premiers à \"^(string_of_int n)^\" chiffres...\");;"
   ]
  },
  {
   "cell_type": "code",
   "execution_count": 21,
   "metadata": {},
   "outputs": [
    {
     "name": "stdout",
     "output_type": "stream",
     "text": [
      "p1 = 2709147011, q1 = 1308592931, n1 = 3545170627634379241, k1 = 2363447082411092867"
     ]
    },
    {
     "data": {
      "text/html": [
       "<pre style=\"color:slategray;max-height:100px;overflow:hidden\" \n",
       "onclick=\"\n",
       "if (this.style.maxHeight === 'none') \n",
       "    this.style.maxHeight = '100px';\n",
       "else\n",
       "    this.style.maxHeight = 'none'; \n",
       "\">val p1 : Big_int.big_int = &lt;abstr&gt;\n",
       "</pre>"
      ]
     },
     "execution_count": 21,
     "metadata": {},
     "output_type": "execute_result"
    },
    {
     "data": {
      "text/html": [
       "<pre style=\"color:slategray;max-height:100px;overflow:hidden\" \n",
       "onclick=\"\n",
       "if (this.style.maxHeight === 'none') \n",
       "    this.style.maxHeight = '100px';\n",
       "else\n",
       "    this.style.maxHeight = 'none'; \n",
       "\">val q1 : Big_int.big_int = &lt;abstr&gt;\n",
       "</pre>"
      ]
     },
     "execution_count": 21,
     "metadata": {},
     "output_type": "execute_result"
    },
    {
     "data": {
      "text/html": [
       "<pre style=\"color:slategray;max-height:100px;overflow:hidden\" \n",
       "onclick=\"\n",
       "if (this.style.maxHeight === 'none') \n",
       "    this.style.maxHeight = '100px';\n",
       "else\n",
       "    this.style.maxHeight = 'none'; \n",
       "\">val p1 : Big_int.big_int = &lt;abstr&gt;\n",
       "</pre>"
      ]
     },
     "execution_count": 21,
     "metadata": {},
     "output_type": "execute_result"
    },
    {
     "data": {
      "text/html": [
       "<pre style=\"color:slategray;max-height:100px;overflow:hidden\" \n",
       "onclick=\"\n",
       "if (this.style.maxHeight === 'none') \n",
       "    this.style.maxHeight = '100px';\n",
       "else\n",
       "    this.style.maxHeight = 'none'; \n",
       "\">val q1 : Big_int.big_int = &lt;abstr&gt;\n",
       "</pre>"
      ]
     },
     "execution_count": 21,
     "metadata": {},
     "output_type": "execute_result"
    },
    {
     "data": {
      "text/html": [
       "<pre style=\"color:slategray;max-height:100px;overflow:hidden\" \n",
       "onclick=\"\n",
       "if (this.style.maxHeight === 'none') \n",
       "    this.style.maxHeight = '100px';\n",
       "else\n",
       "    this.style.maxHeight = 'none'; \n",
       "\">val p1 : Big_int.big_int = &lt;abstr&gt;\n",
       "</pre>"
      ]
     },
     "execution_count": 21,
     "metadata": {},
     "output_type": "execute_result"
    },
    {
     "data": {
      "text/html": [
       "<pre style=\"color:slategray;max-height:100px;overflow:hidden\" \n",
       "onclick=\"\n",
       "if (this.style.maxHeight === 'none') \n",
       "    this.style.maxHeight = '100px';\n",
       "else\n",
       "    this.style.maxHeight = 'none'; \n",
       "\">val q1 : Big_int.big_int = &lt;abstr&gt;\n",
       "</pre>"
      ]
     },
     "execution_count": 21,
     "metadata": {},
     "output_type": "execute_result"
    },
    {
     "data": {
      "text/html": [
       "<pre style=\"color:slategray;max-height:100px;overflow:hidden\" \n",
       "onclick=\"\n",
       "if (this.style.maxHeight === 'none') \n",
       "    this.style.maxHeight = '100px';\n",
       "else\n",
       "    this.style.maxHeight = 'none'; \n",
       "\">val n1 : Big_int.big_int = &lt;abstr&gt;\n",
       "</pre>"
      ]
     },
     "execution_count": 21,
     "metadata": {},
     "output_type": "execute_result"
    },
    {
     "data": {
      "text/html": [
       "<pre style=\"color:slategray;max-height:100px;overflow:hidden\" \n",
       "onclick=\"\n",
       "if (this.style.maxHeight === 'none') \n",
       "    this.style.maxHeight = '100px';\n",
       "else\n",
       "    this.style.maxHeight = 'none'; \n",
       "\">val k1 : Big_int.big_int = &lt;abstr&gt;\n",
       "</pre>"
      ]
     },
     "execution_count": 21,
     "metadata": {},
     "output_type": "execute_result"
    },
    {
     "data": {
      "text/html": [
       "<pre style=\"color:slategray;max-height:100px;overflow:hidden\" \n",
       "onclick=\"\n",
       "if (this.style.maxHeight === 'none') \n",
       "    this.style.maxHeight = '100px';\n",
       "else\n",
       "    this.style.maxHeight = 'none'; \n",
       "\">- : unit = ()\n",
       "</pre>"
      ]
     },
     "execution_count": 21,
     "metadata": {},
     "output_type": "execute_result"
    }
   ],
   "source": [
    "let p1 = primes (n-1);;\n",
    "let q1 = primes (n-1);;\n",
    "(* Pour les tests: p1=350381; q1=350411 *)\n",
    "let p1 = Big_int.big_int_of_int 350381;;\n",
    "let q1 = Big_int.big_int_of_int 350411;;\n",
    "let p1 = Big_int.big_int_of_int 2709147011;;\n",
    "let q1 = Big_int.big_int_of_int 1308592931;;\n",
    "let n1 = Big_int.mult_big_int p1 q1;;\n",
    "let k1 = Big_int.div_big_int (Big_int.succ_big_int (Big_int.mult_big_int deux \n",
    "        (Big_int.mult_big_int (Big_int.pred_big_int p1) (Big_int.pred_big_int q1)))) trois ;;\n",
    "print_string \"p1 = \";print_big_int p1;\n",
    "print_string \", q1 = \";print_big_int q1;\n",
    "print_string \", n1 = \";print_big_int n1;\n",
    "print_string \", k1 = \";print_big_int k1;;"
   ]
  },
  {
   "cell_type": "code",
   "execution_count": 22,
   "metadata": {},
   "outputs": [
    {
     "name": "stdout",
     "output_type": "stream",
     "text": [
      "p2 = 6195912131, q2 = 9193973189, n2 = 56965050013813855759, k2 = 37976699998949313627"
     ]
    },
    {
     "data": {
      "text/html": [
       "<pre style=\"color:slategray;max-height:100px;overflow:hidden\" \n",
       "onclick=\"\n",
       "if (this.style.maxHeight === 'none') \n",
       "    this.style.maxHeight = '100px';\n",
       "else\n",
       "    this.style.maxHeight = 'none'; \n",
       "\">val p2 : Big_int.big_int = &lt;abstr&gt;\n",
       "</pre>"
      ]
     },
     "execution_count": 22,
     "metadata": {},
     "output_type": "execute_result"
    },
    {
     "data": {
      "text/html": [
       "<pre style=\"color:slategray;max-height:100px;overflow:hidden\" \n",
       "onclick=\"\n",
       "if (this.style.maxHeight === 'none') \n",
       "    this.style.maxHeight = '100px';\n",
       "else\n",
       "    this.style.maxHeight = 'none'; \n",
       "\">val q2 : Big_int.big_int = &lt;abstr&gt;\n",
       "</pre>"
      ]
     },
     "execution_count": 22,
     "metadata": {},
     "output_type": "execute_result"
    },
    {
     "data": {
      "text/html": [
       "<pre style=\"color:slategray;max-height:100px;overflow:hidden\" \n",
       "onclick=\"\n",
       "if (this.style.maxHeight === 'none') \n",
       "    this.style.maxHeight = '100px';\n",
       "else\n",
       "    this.style.maxHeight = 'none'; \n",
       "\">val p2 : Big_int.big_int = &lt;abstr&gt;\n",
       "</pre>"
      ]
     },
     "execution_count": 22,
     "metadata": {},
     "output_type": "execute_result"
    },
    {
     "data": {
      "text/html": [
       "<pre style=\"color:slategray;max-height:100px;overflow:hidden\" \n",
       "onclick=\"\n",
       "if (this.style.maxHeight === 'none') \n",
       "    this.style.maxHeight = '100px';\n",
       "else\n",
       "    this.style.maxHeight = 'none'; \n",
       "\">val q2 : Big_int.big_int = &lt;abstr&gt;\n",
       "</pre>"
      ]
     },
     "execution_count": 22,
     "metadata": {},
     "output_type": "execute_result"
    },
    {
     "data": {
      "text/html": [
       "<pre style=\"color:slategray;max-height:100px;overflow:hidden\" \n",
       "onclick=\"\n",
       "if (this.style.maxHeight === 'none') \n",
       "    this.style.maxHeight = '100px';\n",
       "else\n",
       "    this.style.maxHeight = 'none'; \n",
       "\">val p2 : Big_int.big_int = &lt;abstr&gt;\n",
       "</pre>"
      ]
     },
     "execution_count": 22,
     "metadata": {},
     "output_type": "execute_result"
    },
    {
     "data": {
      "text/html": [
       "<pre style=\"color:slategray;max-height:100px;overflow:hidden\" \n",
       "onclick=\"\n",
       "if (this.style.maxHeight === 'none') \n",
       "    this.style.maxHeight = '100px';\n",
       "else\n",
       "    this.style.maxHeight = 'none'; \n",
       "\">val q2 : Big_int.big_int = &lt;abstr&gt;\n",
       "</pre>"
      ]
     },
     "execution_count": 22,
     "metadata": {},
     "output_type": "execute_result"
    },
    {
     "data": {
      "text/html": [
       "<pre style=\"color:slategray;max-height:100px;overflow:hidden\" \n",
       "onclick=\"\n",
       "if (this.style.maxHeight === 'none') \n",
       "    this.style.maxHeight = '100px';\n",
       "else\n",
       "    this.style.maxHeight = 'none'; \n",
       "\">val n2 : Big_int.big_int = &lt;abstr&gt;\n",
       "</pre>"
      ]
     },
     "execution_count": 22,
     "metadata": {},
     "output_type": "execute_result"
    },
    {
     "data": {
      "text/html": [
       "<pre style=\"color:slategray;max-height:100px;overflow:hidden\" \n",
       "onclick=\"\n",
       "if (this.style.maxHeight === 'none') \n",
       "    this.style.maxHeight = '100px';\n",
       "else\n",
       "    this.style.maxHeight = 'none'; \n",
       "\">val k2 : Big_int.big_int = &lt;abstr&gt;\n",
       "</pre>"
      ]
     },
     "execution_count": 22,
     "metadata": {},
     "output_type": "execute_result"
    },
    {
     "data": {
      "text/html": [
       "<pre style=\"color:slategray;max-height:100px;overflow:hidden\" \n",
       "onclick=\"\n",
       "if (this.style.maxHeight === 'none') \n",
       "    this.style.maxHeight = '100px';\n",
       "else\n",
       "    this.style.maxHeight = 'none'; \n",
       "\">- : unit = ()\n",
       "</pre>"
      ]
     },
     "execution_count": 22,
     "metadata": {},
     "output_type": "execute_result"
    }
   ],
   "source": [
    "let p2 = primes (n-1);;\n",
    "let q2 = primes (n-1);;\n",
    "(* Pour les tests: p2=350423; q2=350429 *)\n",
    "let p2 = Big_int.big_int_of_int 350423;;\n",
    "let q2 = Big_int.big_int_of_int 350429;;\n",
    "let p2 = Big_int.big_int_of_int 6195912131;;\n",
    "let q2 = Big_int.big_int_of_int 9193973189;;\n",
    "let n2 = Big_int.mult_big_int p2 q2;;\n",
    "let k2 = Big_int.div_big_int (Big_int.succ_big_int (Big_int.mult_big_int deux \n",
    "        (Big_int.mult_big_int (Big_int.pred_big_int p2) (Big_int.pred_big_int q2)))) trois ;;\n",
    "print_string \"p2 = \";print_big_int p2;\n",
    "print_string \", q2 = \";print_big_int q2;\n",
    "print_string \", n2 = \";print_big_int n2;\n",
    "print_string \", k2 = \";print_big_int k2;;"
   ]
  },
  {
   "cell_type": "code",
   "execution_count": 23,
   "metadata": {},
   "outputs": [
    {
     "name": "stdout",
     "output_type": "stream",
     "text": [
      "\n",
      " Test\n",
      "Message chiffré : 196670158693166349770915387796196729055219905386382323134976706254773804848967582950484123344065386602546442942740951267627043359897844426932748354"
     ]
    },
    {
     "data": {
      "text/html": [
       "<pre style=\"color:slategray;max-height:100px;overflow:hidden\" \n",
       "onclick=\"\n",
       "if (this.style.maxHeight === 'none') \n",
       "    this.style.maxHeight = '100px';\n",
       "else\n",
       "    this.style.maxHeight = 'none'; \n",
       "\">- : unit = ()\n",
       "</pre>"
      ]
     },
     "execution_count": 23,
     "metadata": {},
     "output_type": "execute_result"
    },
    {
     "data": {
      "text/html": [
       "<pre style=\"color:slategray;max-height:100px;overflow:hidden\" \n",
       "onclick=\"\n",
       "if (this.style.maxHeight === 'none') \n",
       "    this.style.maxHeight = '100px';\n",
       "else\n",
       "    this.style.maxHeight = 'none'; \n",
       "\">- : unit = ()\n",
       "</pre>"
      ]
     },
     "execution_count": 23,
     "metadata": {},
     "output_type": "execute_result"
    }
   ],
   "source": [
    "print_string(\"\\n Test\\n\");;\n",
    "(* 1 envoie un message 2 *)\n",
    "print_string \"Message chiffré : \"; print_big_int(code \"Bonjour, ca va ?\");;"
   ]
  },
  {
   "cell_type": "code",
   "execution_count": 24,
   "metadata": {},
   "outputs": [
    {
     "data": {
      "text/html": [
       "<pre style=\"color:slategray;max-height:100px;overflow:hidden\" \n",
       "onclick=\"\n",
       "if (this.style.maxHeight === 'none') \n",
       "    this.style.maxHeight = '100px';\n",
       "else\n",
       "    this.style.maxHeight = 'none'; \n",
       "\">val rsa_ :\n",
       "  Big_int.big_int -&gt; Big_int.big_int -&gt; Big_int.big_int -&gt; Big_int.big_int =\n",
       "  &lt;fun&gt;\n",
       "</pre>"
      ]
     },
     "execution_count": 24,
     "metadata": {},
     "output_type": "execute_result"
    }
   ],
   "source": [
    "let rsa_ nombre cle_privee cle_publique =\n",
    "    let liste_codee = decomposition_sur_base nombre cle_publique in\n",
    "    let liste_decodee = List.map (fun nombre -> decodage nombre cle_privee cle_publique) liste_codee in\n",
    "    liste_en_nombre liste_decodee cle_publique;;"
   ]
  },
  {
   "cell_type": "code",
   "execution_count": 25,
   "metadata": {},
   "outputs": [
    {
     "name": "stdout",
     "output_type": "stream",
     "text": [
      "Message chiffré->ASR: 9461356373189678172094580799560455558558642228169352797766750654332308572823694882456995650541174767422612226869180353585624335130255073853009983678"
     ]
    },
    {
     "data": {
      "text/html": [
       "<pre style=\"color:slategray;max-height:100px;overflow:hidden\" \n",
       "onclick=\"\n",
       "if (this.style.maxHeight === 'none') \n",
       "    this.style.maxHeight = '100px';\n",
       "else\n",
       "    this.style.maxHeight = 'none'; \n",
       "\">- : unit = ()\n",
       "</pre>"
      ]
     },
     "execution_count": 25,
     "metadata": {},
     "output_type": "execute_result"
    }
   ],
   "source": [
    "print_string \"Message chiffré->ASR: \";print_big_int(rsa_(code \"Bonjour, ca va ?\") k1 n1);;"
   ]
  },
  {
   "cell_type": "code",
   "execution_count": 26,
   "metadata": {},
   "outputs": [
    {
     "name": "stdout",
     "output_type": "stream",
     "text": [
      "message envoyé = chiffré->ASR->RSA: 21985293836931802086875545043191818710996051950106323297928188447073029071912692360128600482359104291721400309513686140251045675656415276105717633711260634289"
     ]
    },
    {
     "data": {
      "text/html": [
       "<pre style=\"color:slategray;max-height:100px;overflow:hidden\" \n",
       "onclick=\"\n",
       "if (this.style.maxHeight === 'none') \n",
       "    this.style.maxHeight = '100px';\n",
       "else\n",
       "    this.style.maxHeight = 'none'; \n",
       "\">val message_envoye : Big_int.big_int = &lt;abstr&gt;\n",
       "</pre>"
      ]
     },
     "execution_count": 26,
     "metadata": {},
     "output_type": "execute_result"
    },
    {
     "data": {
      "text/html": [
       "<pre style=\"color:slategray;max-height:100px;overflow:hidden\" \n",
       "onclick=\"\n",
       "if (this.style.maxHeight === 'none') \n",
       "    this.style.maxHeight = '100px';\n",
       "else\n",
       "    this.style.maxHeight = 'none'; \n",
       "\">- : unit = ()\n",
       "</pre>"
      ]
     },
     "execution_count": 26,
     "metadata": {},
     "output_type": "execute_result"
    }
   ],
   "source": [
    "let message_envoye=rsa (rsa_(code \"Bonjour, ca va ?\") k1 n1) n2;;\n",
    "print_string \"message envoyé = chiffré->ASR->RSA: \";print_big_int message_envoye;"
   ]
  },
  {
   "cell_type": "code",
   "execution_count": 27,
   "metadata": {},
   "outputs": [
    {
     "name": "stdout",
     "output_type": "stream",
     "text": [
      "message recu->ASR: 9461356373189678172094580799560455558558642228169352797766750654332308572823694882456995650541174767422612226869180353585624335130255073853009983678"
     ]
    },
    {
     "data": {
      "text/html": [
       "<pre style=\"color:slategray;max-height:100px;overflow:hidden\" \n",
       "onclick=\"\n",
       "if (this.style.maxHeight === 'none') \n",
       "    this.style.maxHeight = '100px';\n",
       "else\n",
       "    this.style.maxHeight = 'none'; \n",
       "\">- : unit = ()\n",
       "</pre>"
      ]
     },
     "execution_count": 27,
     "metadata": {},
     "output_type": "execute_result"
    }
   ],
   "source": [
    "(*2 décode le message de 1*)\n",
    "print_string \"message recu->ASR: \";print_big_int (rsa_ message_envoye k2 n2)"
   ]
  },
  {
   "cell_type": "code",
   "execution_count": 28,
   "metadata": {},
   "outputs": [
    {
     "name": "stdout",
     "output_type": "stream",
     "text": [
      "message recu->ASR->RSA->déchiffré:Bonjour, ca va ?"
     ]
    },
    {
     "data": {
      "text/html": [
       "<pre style=\"color:slategray;max-height:100px;overflow:hidden\" \n",
       "onclick=\"\n",
       "if (this.style.maxHeight === 'none') \n",
       "    this.style.maxHeight = '100px';\n",
       "else\n",
       "    this.style.maxHeight = 'none'; \n",
       "\">val message_recu : Big_int.big_int = &lt;abstr&gt;\n",
       "</pre>"
      ]
     },
     "execution_count": 28,
     "metadata": {},
     "output_type": "execute_result"
    },
    {
     "data": {
      "text/html": [
       "<pre style=\"color:slategray;max-height:100px;overflow:hidden\" \n",
       "onclick=\"\n",
       "if (this.style.maxHeight === 'none') \n",
       "    this.style.maxHeight = '100px';\n",
       "else\n",
       "    this.style.maxHeight = 'none'; \n",
       "\">- : unit = ()\n",
       "</pre>"
      ]
     },
     "execution_count": 28,
     "metadata": {},
     "output_type": "execute_result"
    }
   ],
   "source": [
    "let message_recu=rsa(rsa_ message_envoye k2 n2) n1;;\n",
    "print_string \"message recu->ASR->RSA->déchiffré:\";print_string( decode message_recu );;"
   ]
  },
  {
   "cell_type": "code",
   "execution_count": 39,
   "metadata": {},
   "outputs": [
    {
     "data": {
      "text/html": [
       "<pre style=\"color:slategray;max-height:100px;overflow:hidden\" \n",
       "onclick=\"\n",
       "if (this.style.maxHeight === 'none') \n",
       "    this.style.maxHeight = '100px';\n",
       "else\n",
       "    this.style.maxHeight = 'none'; \n",
       "\">val p3 : Big_int.big_int = &lt;abstr&gt;\n",
       "</pre>"
      ]
     },
     "execution_count": 39,
     "metadata": {},
     "output_type": "execute_result"
    },
    {
     "data": {
      "text/html": [
       "<pre style=\"color:slategray;max-height:100px;overflow:hidden\" \n",
       "onclick=\"\n",
       "if (this.style.maxHeight === 'none') \n",
       "    this.style.maxHeight = '100px';\n",
       "else\n",
       "    this.style.maxHeight = 'none'; \n",
       "\">val q3 : Big_int.big_int = &lt;abstr&gt;\n",
       "</pre>"
      ]
     },
     "execution_count": 39,
     "metadata": {},
     "output_type": "execute_result"
    },
    {
     "data": {
      "text/html": [
       "<pre style=\"color:slategray;max-height:100px;overflow:hidden\" \n",
       "onclick=\"\n",
       "if (this.style.maxHeight === 'none') \n",
       "    this.style.maxHeight = '100px';\n",
       "else\n",
       "    this.style.maxHeight = 'none'; \n",
       "\">val k3 : Big_int.big_int = &lt;abstr&gt;\n",
       "</pre>"
      ]
     },
     "execution_count": 39,
     "metadata": {},
     "output_type": "execute_result"
    }
   ],
   "source": [
    "(*3 connait n1 et n2 mais pas k2, il ne peut pas décoder. Exemple:*)\n",
    "let p3=Big_int.big_int_of_int 350447;; (* Prime[30008]*)\n",
    "let q3=Big_int.big_int_of_int 350453;; (* Prime[30009]*)\n",
    "let k3=Big_int.div_big_int (Big_int.succ_big_int (Big_int.mult_big_int deux \n",
    "        (Big_int.mult_big_int (Big_int.pred_big_int p3) (Big_int.pred_big_int q3)))) trois ;;"
   ]
  },
  {
   "cell_type": "code",
   "execution_count": 41,
   "metadata": {},
   "outputs": [
    {
     "data": {
      "text/html": [
       "<pre style=\"color:red;max-height:100px;overflow:hidden\" \n",
       "onclick=\"\n",
       "if (this.style.maxHeight === 'none') \n",
       "    this.style.maxHeight = '100px';\n",
       "else\n",
       "    this.style.maxHeight = 'none'; \n",
       "\">Exception: Invalid_argument &quot;char_of_int&quot;.\n",
       "</pre>"
      ]
     },
     "execution_count": 41,
     "metadata": {},
     "output_type": "execute_result"
    }
   ],
   "source": [
    "decode(rsa(rsa_ message_envoye k3 n2) n1) (*si on exécute cette ligne -> bug car code ascii hors texte*)"
   ]
  },
  {
   "cell_type": "code",
   "execution_count": 35,
   "metadata": {},
   "outputs": [
    {
     "name": "stdout",
     "output_type": "stream",
     "text": [
      "Message encodé : 1834845884299802914688022969567746365839596440800798927453590405157863306194615717291967063219827599619341674458821371403028598482338511222\n",
      "Message décodé : Hello world !"
     ]
    },
    {
     "data": {
      "text/html": [
       "<pre style=\"color:slategray;max-height:100px;overflow:hidden\" \n",
       "onclick=\"\n",
       "if (this.style.maxHeight === 'none') \n",
       "    this.style.maxHeight = '100px';\n",
       "else\n",
       "    this.style.maxHeight = 'none'; \n",
       "\">val message : string = &quot;Hello world !&quot;\n",
       "</pre>"
      ]
     },
     "execution_count": 35,
     "metadata": {},
     "output_type": "execute_result"
    },
    {
     "data": {
      "text/html": [
       "<pre style=\"color:slategray;max-height:100px;overflow:hidden\" \n",
       "onclick=\"\n",
       "if (this.style.maxHeight === 'none') \n",
       "    this.style.maxHeight = '100px';\n",
       "else\n",
       "    this.style.maxHeight = 'none'; \n",
       "\">val enc : Big_int.big_int = &lt;abstr&gt;\n",
       "</pre>"
      ]
     },
     "execution_count": 35,
     "metadata": {},
     "output_type": "execute_result"
    },
    {
     "data": {
      "text/html": [
       "<pre style=\"color:slategray;max-height:100px;overflow:hidden\" \n",
       "onclick=\"\n",
       "if (this.style.maxHeight === 'none') \n",
       "    this.style.maxHeight = '100px';\n",
       "else\n",
       "    this.style.maxHeight = 'none'; \n",
       "\">val dec : string = &quot;Hello world !&quot;\n",
       "</pre>"
      ]
     },
     "execution_count": 35,
     "metadata": {},
     "output_type": "execute_result"
    },
    {
     "data": {
      "text/html": [
       "<pre style=\"color:slategray;max-height:100px;overflow:hidden\" \n",
       "onclick=\"\n",
       "if (this.style.maxHeight === 'none') \n",
       "    this.style.maxHeight = '100px';\n",
       "else\n",
       "    this.style.maxHeight = 'none'; \n",
       "\">- : unit = ()\n",
       "</pre>"
      ]
     },
     "execution_count": 35,
     "metadata": {},
     "output_type": "execute_result"
    },
    {
     "data": {
      "text/html": [
       "<pre style=\"color:slategray;max-height:100px;overflow:hidden\" \n",
       "onclick=\"\n",
       "if (this.style.maxHeight === 'none') \n",
       "    this.style.maxHeight = '100px';\n",
       "else\n",
       "    this.style.maxHeight = 'none'; \n",
       "\">- : unit = ()\n",
       "</pre>"
      ]
     },
     "execution_count": 35,
     "metadata": {},
     "output_type": "execute_result"
    }
   ],
   "source": [
    "let message = \"Hello world !\";;\n",
    "let enc = rsa( rsa_ (code message) k1 n1) n2;;\n",
    "let dec = decode(rsa(rsa_ enc k2 n2) n1);;\n",
    "print_string \"Message encodé : \";print_big_int enc;;\n",
    "print_string (\"\\nMessage décodé : \"^dec);;"
   ]
  },
  {
   "cell_type": "code",
   "execution_count": null,
   "metadata": {
    "collapsed": true
   },
   "outputs": [],
   "source": []
  }
 ],
 "metadata": {
  "kernelspec": {
   "display_name": "OCaml",
   "language": "ocaml",
   "name": "iocaml"
  },
  "language_info": {
   "name": "ocaml",
   "version": "4.1.0"
  }
 },
 "nbformat": 4,
 "nbformat_minor": 2
}
