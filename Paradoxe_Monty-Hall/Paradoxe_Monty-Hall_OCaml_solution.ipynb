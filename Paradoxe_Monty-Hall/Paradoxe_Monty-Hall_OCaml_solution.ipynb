{
 "cells": [
  {
   "cell_type": "markdown",
   "metadata": {
    "deletable": true,
    "editable": true
   },
   "source": [
    "<h1> Paradoxe de Monty Hall </h1>\n",
    "<h2> Présentation </h2>\n",
    "\n",
    "Consulter l'article de wikipedia: https://fr.wikipedia.org/wiki/Probl%C3%A8me_de_Monty_Hall.\n",
    "\n",
    "Ecrire une fonction <tt> MontyHall(strategie)</tt> qui simule l'expérience décrite dans l'article et qui renvoie 1 (resp. 0) si le candidat gagne (resp. perd) suivant la valeur de la variable <tt> strategie</tt>.<br>\n",
    "(On prendra par exemple <tt> strategie=0</tt> si le candidat garde son choix initial et <tt> strategie=1</tt> si le candidat change son choix initial).\n",
    "\n",
    "Exécuter la fonction <tt> MontyHall(strategie)</tt> 100 000 fois et donner les probabilités de gain des deux stratégies.\n",
    "\n",
    "Expliquer le \"paradoxe\". Interpréter le résultat en terme d'entropie."
   ]
  },
  {
   "cell_type": "markdown",
   "metadata": {
    "deletable": true,
    "editable": true
   },
   "source": [
    "<h2>Solution</h2>"
   ]
  },
  {
   "cell_type": "code",
   "execution_count": 1,
   "metadata": {
    "collapsed": false,
    "deletable": true,
    "editable": true
   },
   "outputs": [
    {
     "data": {
      "text/html": [
       "<pre style=\"color:slategray;max-height:100px;overflow:hidden\" \n",
       "onclick=\"\n",
       "if (this.style.maxHeight === 'none') \n",
       "    this.style.maxHeight = '100px';\n",
       "else\n",
       "    this.style.maxHeight = 'none'; \n",
       "\">- : unit -&gt; unit = &lt;fun&gt;\n",
       "</pre>"
      ]
     },
     "execution_count": 1,
     "metadata": {},
     "output_type": "execute_result"
    }
   ],
   "source": [
    "open Random;;\n",
    "Random.self_init;;"
   ]
  },
  {
   "cell_type": "code",
   "execution_count": 4,
   "metadata": {
    "collapsed": false,
    "deletable": true,
    "editable": true
   },
   "outputs": [
    {
     "data": {
      "text/html": [
       "<pre style=\"color:slategray;max-height:100px;overflow:hidden\" \n",
       "onclick=\"\n",
       "if (this.style.maxHeight === 'none') \n",
       "    this.style.maxHeight = '100px';\n",
       "else\n",
       "    this.style.maxHeight = 'none'; \n",
       "\">val monty_hall : int -&gt; int = &lt;fun&gt;\n",
       "</pre>"
      ]
     },
     "execution_count": 4,
     "metadata": {},
     "output_type": "execute_result"
    },
    {
     "data": {
      "text/html": [
       "<pre style=\"color:slategray;max-height:100px;overflow:hidden\" \n",
       "onclick=\"\n",
       "if (this.style.maxHeight === 'none') \n",
       "    this.style.maxHeight = '100px';\n",
       "else\n",
       "    this.style.maxHeight = 'none'; \n",
       "\">val proba : int -&gt; float = &lt;fun&gt;\n",
       "</pre>"
      ]
     },
     "execution_count": 4,
     "metadata": {},
     "output_type": "execute_result"
    }
   ],
   "source": [
    "let monty_hall strategie =\n",
    "    let lot=Random.int 3 in\n",
    "    let choix_candidat=ref (Random.int 3) in\n",
    "    let choix_presentateur =ref !choix_candidat in\n",
    "    if !choix_candidat <> lot then choix_presentateur :=(3-lot- !choix_candidat);\n",
    "    while !choix_presentateur = !choix_candidat do\n",
    "        choix_presentateur:=Random.int 3;\n",
    "    done;\n",
    "    if strategie==1 then (*le candidat change*)\n",
    "        choix_candidat := 3- !choix_candidat- !choix_presentateur;\n",
    "    if !choix_candidat == lot then 1 else 0;;\n",
    "        \n",
    "let proba strategie =\n",
    "    let nbre_essais = 100*1000 in\n",
    "    let rec loop num_essai res =\n",
    "        if num_essai = nbre_essais then float_of_int res /.(float_of_int nbre_essais)\n",
    "        else loop (num_essai+1) (res+(monty_hall strategie)) in\n",
    "    loop 0 0;;"
   ]
  },
  {
   "cell_type": "code",
   "execution_count": 6,
   "metadata": {
    "collapsed": false,
    "deletable": true,
    "editable": true
   },
   "outputs": [
    {
     "name": "stdout",
     "output_type": "stream",
     "text": [
      "Le candidat ne change pas. Probabilité de gagner: 0.3349"
     ]
    },
    {
     "data": {
      "text/html": [
       "<pre style=\"color:slategray;max-height:100px;overflow:hidden\" \n",
       "onclick=\"\n",
       "if (this.style.maxHeight === 'none') \n",
       "    this.style.maxHeight = '100px';\n",
       "else\n",
       "    this.style.maxHeight = 'none'; \n",
       "\">- : unit = ()\n",
       "</pre>"
      ]
     },
     "execution_count": 6,
     "metadata": {},
     "output_type": "execute_result"
    }
   ],
   "source": [
    "print_string \"Le candidat ne change pas. Probabilité de gagner: \";print_float (proba 0)"
   ]
  },
  {
   "cell_type": "code",
   "execution_count": 7,
   "metadata": {
    "collapsed": false,
    "deletable": true,
    "editable": true
   },
   "outputs": [
    {
     "name": "stdout",
     "output_type": "stream",
     "text": [
      "Le candidat change. Probabilité de gagner: 0.66631"
     ]
    },
    {
     "data": {
      "text/html": [
       "<pre style=\"color:slategray;max-height:100px;overflow:hidden\" \n",
       "onclick=\"\n",
       "if (this.style.maxHeight === 'none') \n",
       "    this.style.maxHeight = '100px';\n",
       "else\n",
       "    this.style.maxHeight = 'none'; \n",
       "\">- : unit = ()\n",
       "</pre>"
      ]
     },
     "execution_count": 7,
     "metadata": {},
     "output_type": "execute_result"
    }
   ],
   "source": [
    "print_string \"Le candidat change. Probabilité de gagner: \";print_float (proba 1)"
   ]
  },
  {
   "cell_type": "markdown",
   "metadata": {
    "collapsed": true,
    "deletable": true,
    "editable": true
   },
   "source": [
    "<h1>Explications :</h1>\n",
    "\n",
    "On suppose que l'on a trois choix $A$, $B$ et $C$ et que le candidat ne sait pas que le lot gagnant correspond au choix $A$.\n",
    "<ul>\n",
    "    <li>Stratégie où l'on conserve son choix initial:<br><br>\n",
    "    <ul>\n",
    "        <li>le candidat choisit $A$; le présentateur montre $B$ ou $C$; le candidat conserve son choix et gagne.\n",
    "        <li>le candidat choisit $B$; le présentateur montre $C$; le candidat conserve son choix et perd.\n",
    "        <li>le candidat choisit $C$; le présentateur montre $B$; le candidat conserve son choix et perd.\n",
    "    </ul>\n",
    "<br>Le candidat gagne avec une probabilité de 1/3.\n",
    "<br>\n",
    "<br>    <li> Stratégie où l'on modifie son choix initial:\n",
    "    <ul>\n",
    "<br>    <li>le candidat choisit $A$; le présentateur montre $B$ ou $C$; le candidat modifie son choix et perd.\n",
    "        <li>le candidat choisit $B$; le présentateur montre $C$; le candidat modifie son choix (il choisit $A$) et gagne.\n",
    "        <li>le candidat choisit $C$; le présentateur montre $B$; le candidat modifie son choix (il choisit $A$) et gagne.\n",
    "    </ul>\n",
    "<br>Le candidat gagne avec une probabilité de 2/3.\n",
    "</ul>\n",
    "\n",
    "Le candidat a intérêt à changer son choix initial car <b> le présentateur lui apporte de l'information</b>; il modifie les probabilités.\n",
    "La probabilité que le lot gagnant se trouve dans la case qui n'est choisie ni par le candidat, ni par le présentateur passe de 1/3 (avant la révélation par le présentateur) à 2/3 (après la révélation par le présentateur); l'entropie du jeu a diminué.\n",
    "\n",
    "Il y a deux types d'erreurs courantes.\n",
    "\n",
    "<ul> \n",
    "<li>Croire que le présentateur ne donne pas d'information au candidat et penser que les probabilités sont inchangées.\n",
    "<li>Croire, que lorsqu'il ne reste plus que deux choix, les probabilités de gain sont de 1/2 pour chaque choix (en fait les chances de gain ne sont pas équi-probables).\n",
    "</ul>\n"
   ]
  },
  {
   "cell_type": "code",
   "execution_count": null,
   "metadata": {
    "collapsed": true
   },
   "outputs": [],
   "source": []
  }
 ],
 "metadata": {
  "kernelspec": {
   "display_name": "OCaml",
   "language": "ocaml",
   "name": "iocaml"
  },
  "language_info": {
   "name": "ocaml",
   "version": "4.1.0"
  }
 },
 "nbformat": 4,
 "nbformat_minor": 2
}
