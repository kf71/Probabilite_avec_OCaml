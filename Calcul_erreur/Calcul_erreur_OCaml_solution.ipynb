{
 "cells": [
  {
   "cell_type": "markdown",
   "metadata": {
    "deletable": true,
    "editable": true
   },
   "source": [
    "<h1>Calcul d'erreur</h1>\n",
    "\n",
    "<h2>Problème de la marche au hasard. Loi de Gauss</h2>\n",
    "\n",
    "<h3>Position du problème</h3>\n",
    "\n",
    "Exemple:<br>\n",
    "<table><tr><td>\n",
    "On mesure 100 m avec 1 mètre que l'on reporte 100 fois avec, à chaque fois, une incertitude de 1 cm.<br>\n",
    "Quelle est l'erreur totale commise ? 100 $\\times$ 1 cm = 1 m ?\n",
    "</td></tr></table>\n",
    "\n",
    "FAUX. Il est peu probable qu'à chaque fois, on fasse l'erreur de 1 cm dans le même sens.<br>\n",
    "\n",
    "\n",
    "Probabilité ${1\\over 2}$ de déplacer le mètre de 1 cm vers la droite.<br>\n",
    "Probabilité ${1\\over 2}$ de déplacer le mètre de 1 cm vers la gauche.<br>\n",
    "Probabilité de déplacer 100 fois de suite le mètre dans le même sens: $({1\\over 2})^{100}=7,9.10^{-31}$.<br>\n",
    "La probabilité d'avoir une incertitude de 1 m est ridicule. Il serait exagéré d'écrire:\n",
    "il est probable que $X\\in$ [99 m; 101 m].\n",
    "\n",
    "\n",
    "\n",
    "<h3>Marche au hasard</h3>\n",
    "\n",
    "Généralisation du problème: la marche au hasard.<br>\n",
    "Soit $p$ la probabilité de se déplacer vers la droite.<br>\n",
    "Soit $q=1-p$ la probabilité de se déplacer vers la gauche.<br>\n",
    "\n",
    "Au bout de $N$ itérations, quelle est la probabilité $P$ de faire au total:\n",
    "$n_1$ pas à droite et $n_2$ pas à gauche ?<br>\n",
    "\n",
    "Probabilité de faire $n_1$ pas à droite: $p^{n_1}$;\n",
    "probabilité de faire $n_2$ pas à gauche: $q^{n_2}$;\n",
    "nombre de façons de réaliser ce déplacement: $C_N^{n_1}=C_N^{n_2}={N!\\over n_1!.n_2!}$<br>\n",
    "\n",
    "D'où: $P=p^{n_1}.q^{n_2}.{N!\\over n_1!.n_2!}$<br>\n",
    "\n",
    "Soit $m$: le déplacement total vers la droite: $m=n_1-n_2$.<br>\n",
    "On a: $N=n_1+n_2$. D'où: $n_1={N+m\\over 2}$ et $n_2={N-m\\over 2}$\n",
    "\n",
    "$$P_N(m)=p^{N+m\\over 2}.q^{N-m\\over 2}.{N!\\over ({N+m\\over 2})!.({N-m\\over 2})!}$$\n",
    "\n",
    "C'est la loi binomiale (cf. développement de $(p+q)^N=\\sum\\limits_m{P_N(m)}$).\n",
    "\n",
    "Calcul des $C^i_j$.\n",
    "\n",
    "<table>\n",
    "<tr><td>1</td><td>1</td></tr>\n",
    "<tr><td>1</td><td>2</td><td>1</td></tr>\n",
    "<tr><td>1</td><td>3</td><td>3</td><td>1</td></tr>\n",
    "<tr><td>1</td><td>4</td><td>6</td><td>4</td><td>1</td></tr>\n",
    "<tr><td>1</td><td>5</td><td>10</td><td>10</td><td>5</td><td>1</td></tr>\n",
    "<tr><td>1</td><td>6</td><td>15</td><td>20</td><td>15</td><td>6</td><td>1</td></tr>\n",
    "</table>\n",
    "\n",
    "Cas particulier $p=q=1/2$. $P_N(m)=({1\\over 2})^N.{N!\\over ({N+m\\over 2})!.({N-m\\over 2})!}$\n",
    "\n",
    "Exemple:\n",
    "<table><tr><td><img src=\"C3.svg\"></td><td><img src=\"C6.svg\" /></td></tr></table>\n",
    "\n",
    "<h3>Cas où N$\\to +\\infty$</h3>\n",
    "\n",
    "Lorsque $N$ est très grand, on montre que la probabilité de se trouver à la position $m$ est: $P_N(m)\\approx\\sqrt{2\\over \\pi.N}.e^{-m^2\\over 2.N}$<br>\n",
    "\n",
    "<i>Ce résultat se démontre en utilisant la formule de\n",
    "Stirling $\\ln(n!)\\simeq{1\\over2}\\ln(2\\pi)+(n+{1\\over2}).\\ln n-n$\n",
    "et en faisant: ${m\\over N}\\ll1$</i>\n",
    "\n",
    "<ul>\n",
    "<li> Probabilité de se trouver entre $m$ et $m+\\Delta m$: $\\Delta P={1\\over 2}P_N(m).\\Delta m$<br>\n",
    "(car $P_N(m)$ est à peu près constante sur $[m,m+\\Delta m]$; le facteur $1\\over2$ vient du fait que $P_N(m)$ n'est\n",
    "définit que pour une valeur de $m$ sur deux: les $m$ pairs (resp. impairs) si $N$ est pair (resp. impair); il faut\n",
    "donc éliminer une valeur sur deux par rapport à une fonction $P_N(m)$ qui serait définie pour tout $m$.)\n",
    "\n",
    "<li> Nombre d'événements $\\Delta N$ tel que l'on se trouve entre $m$ et $m+\\Delta m$: $\\Delta N=N.P_N(m)$\n",
    "\n",
    "<li> Ecart-type:\n",
    "$\\sigma^2={1\\over N}.\\sum{((m-\\overline m)^2.\\Delta N)}=\\sum{m^2.\\Delta P}\\approx\\sqrt{2\\over\\pi.N}.\\sum m^2.e^{-m^2\\over2.N}.{\\Delta m\\over 2}$\n",
    "\n",
    "Si le pas $\\Delta m$ est petit, alors, par passage à la limite, on a:\n",
    "$\\sigma^2=\\sqrt{1\\over 2.\\pi.N}.\\int_{-\\infty}^{+\\infty}{x^2.e^{-x^2\\over 2.N}.\\textrm{d}x.{2.N\\over 2.N}.{\\sqrt{2.N}\\over \\sqrt{2.N}}}$\n",
    "$\\sigma^2={2.N\\over \\sqrt\\pi}.\\int_{-\\infty}^{+\\infty}{u^2.e^{-u^2}.\\textrm{d}u}$ avec $u={x\\over \\sqrt{2.N}}$.\n",
    "\n",
    "Intégration par parties: $f=u/2$ et $g'=2.u.e^{-u^2}$<br>\n",
    "$\\Rightarrow$ $f'=1/2$ et $g=-e^{-u^2}$\n",
    "\n",
    "$\\int_{-\\infty}^{+\\infty}{u^2.e^{-u^2}.\\textrm{d}u}=\\left [{u\\over 2}.e^{-u^2}\\right ]_{-\\infty}^{+\\infty}+{1\\over 2}.\\int{e^{-u^2}.\\textrm{d}u}<br>\n",
    "={1\\over 2}.\\int{e^{-u^2}.\\textrm{d}u}$\n",
    "\n",
    "<li> Calcul de $I=\\int_{-\\infty}^{+\\infty}{e^{-x^2}.\\textrm{d}x}$.<br>\n",
    "Astuce: poser $J=\\int_{-\\infty}^{+\\infty}{e^{-y^2}.dy}$<br> et calculer $I.J=\\int_{-\\infty}^{+\\infty}\\int_{-\\infty}^{+\\infty}{e^{-(x^2+y^2)}.\\textrm{d}x.\\textrm{d}y}$.\n",
    "<br>\n",
    "On passe en polaire:\n",
    "$I.J=\\int_{r=0}^{r=+\\infty}\\int_{\\theta=0}^{\\theta=2.\\pi}{e^{-r^2}.r.\\textrm{d}r.\\textrm{d}\\theta}$.<br>\n",
    "On pose: $\\alpha=r^2$ $\\Rightarrow$ $\\textrm{d}\\alpha=2.r.\\textrm{d}r$<br>\n",
    "$I.J=2.\\pi.{1\\over 2}.\\int_{\\alpha=0}^{\\alpha=+\\infty}{e^{-\\alpha}.\\textrm{d}\\alpha}=\\pi.[-e^{-\\alpha}]_0^{+\\infty}=\\pi$\n",
    "$\\Rightarrow$ $I=\\sqrt\\pi$.\n",
    "\n",
    "D'où: $\\sigma^2={2.N\\over\\sqrt\\pi}.{\\sqrt\\pi\\over 2}=N$<br>\n",
    "<center><table><tr><td width=\"200\" style=\"text-align:center\">$\\sigma=\\sqrt N$</td></tr></table></center>\n",
    "</ul>\n",
    "\n",
    "<h3>Autre démonstration</h3>\n",
    "\n",
    "$\\sigma_N^2$ représente la moyenne du carré de la distance ($m^2$) parcourue au bout de $N$ itérations.<br>\n",
    "$\\sigma_N$\n",
    "est donc une mesure de la distance parcourue au bout de $N$ itérations.<br> \n",
    "&nbsp;&nbsp;&nbsp; Si $m=1$, alors il est évident que $\\sigma_1=1$.<br>\n",
    "&nbsp;&nbsp;&nbsp; Si, au bout de $N$ itérations, la distance parcourue est $\\sigma_N$; alors à la $(N+1)^{\\grave eme}$ itération,\n",
    "on a:<br>\n",
    "<center>\n",
    "$\\sigma_{N+1}=\\sigma_N+1$&nbsp;&nbsp;&nbsp; <b> ou</b>&nbsp;&nbsp;&nbsp; $\\sigma_{N+1}=\\sigma_N-1$\n",
    "</center>\n",
    "&nbsp;&nbsp;&nbsp; D'où: $\\left\\{\\begin{matrix}\\sigma_{N+1}^2=\\sigma_N^2+2.\\sigma_N+1\\cr \\hbox{ou}\\cr \\sigma_{N+1}^2=\\sigma_N^2-2.\\sigma_N+1\\cr\\end{matrix}\\right.$<br>\n",
    "et donc en moyenne: $\\sigma_{N+1}^2=\\sigma_N^2+1$.<br>\n",
    "&nbsp;&nbsp;&nbsp; Comme $\\sigma_1=1$, il est évident que $\\sigma_{N+1}^2=N+1$;<br>\n",
    "<center>d'où: <span style=\"border:solid 2px black\">$\\sigma_N=\\sqrt{N}$</span></center>\n",
    "\n",
    "\n",
    "<h3>Retour sur l'exemple initial</h3>\n",
    "\n",
    "<h4>Application:</h4><br>\n",
    "<table><tr><td>\n",
    "1 mètre que l'on reporte 100 fois $\\Rightarrow$ $N=100$ $\\Rightarrow$ $\\sigma=10$.<br>\n",
    "L'incertitude est donc de 10$\\times$1 cm=10 cm (et non 100 cm !)\n",
    "\n",
    "Donc, il est probable que $\\ell\\in$[99,9 m; 100,1 m]\n",
    "</td></tr></table>\n",
    "\n",
    "\n",
    "<h4>Nouvelle question:</h4><br>\n",
    "<table><tr><td>\n",
    "Puisque l'on a considérablement réduit l'intervalle, quelle est la probabilité\n",
    "que $\\ell$ soit réellement dans cet intervalle ?\n",
    "</td></tr></table>\n",
    "\n",
    "\n",
    "<h3>Loi de Gauss</h3>\n",
    "\n",
    "<ul>\n",
    "<li> Passage en variable continue:<br>\n",
    "$\\Delta P={1\\over 2}P_N(m).\\Delta m={1\\over \\sqrt{2.\\pi}.\\sigma}.e^{-{x^2\\over {2.\\sigma^2}}}.\\Delta m$<br>\n",
    "devient: $\\textrm{d}P=p(x).\\textrm{d}x$<br>\n",
    "avec: <table><tr><td width=\"200\" style=\"text-align:center\">$p(x)={1\\over \\sqrt{2.\\pi}.\\sigma}.e^{-{x^2\\over {2.\\sigma^2}}}$</td></tr></table>\n",
    "\n",
    "<img src=\"Gauss-2sigma.svg\" />\n",
    "\n",
    "On a: $p(0)={1\\over \\sqrt{2.\\pi}.\\sigma}$ et $p(\\sigma)=p(0).e^{-1/2}\\approx 0,6.p(0)$\n",
    "\n",
    "<li> <b>Probabilité que $x\\in [-\\sigma,+\\sigma]$</b><br>\n",
    "$P=\\int_{-\\sigma}^{+\\sigma}{p(x).\\textrm{d}x}={1\\over \\sqrt{2.\\pi}.\\sigma}.\\int_{-\\sigma}^{+\\sigma}{e^{-{x^2\\over 2.\\sigma^2}}.\\textrm{d}x}$<br>\n",
    "On pose: $t={x\\over \\sqrt 2.\\sigma}$<br> $\\Rightarrow$ $P={1\\over \\sqrt\\pi}.\\int_{-1/\\sqrt 2}^{+1/\\sqrt 2}{e^{-t^2}.\\textrm{d}t}={2\\over \\sqrt\\pi}.\\int_{0}^{+1/\\sqrt 2}{e^{-t^2}.\\textrm{d}t}$<br>\n",
    "\n",
    "On appelle $\\theta(u)={2\\over \\sqrt\\pi}.\\int_{0}^{u}{e^{-t^2}.\\textrm{d}t}$ la fonction d'erreur\n",
    "(fonction tabulée dans la plupart des ouvrages et qui existe sur certaines calculatrices: UTPN sur \"Hewlett-Packard\").\n",
    "\n",
    "D'où: $P=\\theta(u={\\sqrt 2\\over 2})=$<span style=\"border:solid 2px black\">68 %</span>\n",
    "\n",
    "</ul>\n",
    "\n",
    "<h3>Conclusion</h3>\n",
    "\n",
    "<img src=\"Gauss-Confiance.svg\" />\n",
    "\n",
    "On adopte $\\sigma$ comme valeur de l'incertitude absolue:<br>\n",
    "il y a <span style=\"border:solid 2px black\">68 %</span> de chances que $X\\in [\\overline x-\\sigma ;\\overline x+\\sigma ]$<br>\n",
    "il y a <span style=\"border:solid 2px black\">95.4 %</span> de chances que $X\\in [\\overline x-2.\\sigma ;\\overline x+2.\\sigma ]$<br>\n",
    "et <span style=\"border:solid 2px black\">99.7 %</span> de chances que $X\\in [\\overline x-3.\\sigma ;\\overline x+3.\\sigma ]$\n",
    "\n",
    "Remarque: si $\\overline x\\neq 0$, alors:&nbsp;&nbsp;&nbsp; $\\displaystyle\n",
    "p(x)={1\\over \\sqrt{2.\\pi}.\\sigma}.e^{-{(x-\\overline x)^2\\over {2.\\sigma^2}}}$\n",
    "\n",
    "<h2>Question</h2>\n",
    "\n",
    "<ol>\n",
    "<li> Simuler 100 000 marches au hasard de $N=2 500$ pas de $\\pm1$.\n",
    "<li> Calculer la proportion de mesures dans l'intervalle $[\\overline x-\\sigma ;\\overline x+\\sigma ]$\n",
    "<li> Calculer la proportion de mesures dans l'intervalle $[\\overline x-2.\\sigma ;\\overline x+2.\\sigma ]$\n",
    "<li> Calculer la proportion de mesures dans l'intervalle $[\\overline x-3.\\sigma ;\\overline x+3.\\sigma ]$\n",
    "</ol>\n",
    "\n",
    "<h2>Solution</h2>\n"
   ]
  },
  {
   "cell_type": "code",
   "execution_count": 1,
   "metadata": {
    "collapsed": false,
    "deletable": true,
    "editable": true
   },
   "outputs": [
    {
     "name": "stdout",
     "output_type": "stream",
     "text": [
      "- : unit = ()\n",
      "Findlib has been successfully loaded. Additional directives:\n",
      "  #require \"package\";;      to load a package\n",
      "  #list;;                   to list the available packages\n",
      "  #camlp4o;;                to load camlp4 (standard syntax)\n",
      "  #camlp4r;;                to load camlp4 (revised syntax)\n",
      "  #predicates \"p,q,...\";;   to set these predicates\n",
      "  Topfind.reset();;         to force that packages will be reloaded\n",
      "  #thread;;                 to enable threads\n",
      "\n",
      "- : unit = ()\n"
     ]
    },
    {
     "name": "stderr",
     "output_type": "stream",
     "text": [
      "/usr/lib/ocaml/plplot: added to search path\n",
      "/usr/lib/ocaml/plplot/plplot.cma: loaded\n"
     ]
    },
    {
     "data": {
      "text/html": [
       "<pre style=\"color:slategray;max-height:100px;overflow:hidden\" \n",
       "onclick=\"\n",
       "if (this.style.maxHeight === 'none') \n",
       "    this.style.maxHeight = '100px';\n",
       "else\n",
       "    this.style.maxHeight = 'none'; \n",
       "\">module P = Plplot.Plot\n",
       "</pre>"
      ]
     },
     "execution_count": 1,
     "metadata": {},
     "output_type": "execute_result"
    },
    {
     "data": {
      "text/html": [
       "<pre style=\"color:slategray;max-height:100px;overflow:hidden\" \n",
       "onclick=\"\n",
       "if (this.style.maxHeight === 'none') \n",
       "    this.style.maxHeight = '100px';\n",
       "else\n",
       "    this.style.maxHeight = 'none'; \n",
       "\">val couleurs_list : int list list =\n",
       "  [[0; 255; 255; 255]; [1; 0; 0; 0]; [2; 0; 0; 255]; [3; 255; 0; 0];\n",
       "   [4; 165; 42; 42]; [5; 0; 0; 0]; [6; 0; 0; 0]; [7; 0; 0; 0]; [8; 0; 0; 0];\n",
       "   [9; 0; 0; 0]; [10; 200; 200; 200]; [11; 0; 255; 255]; [12; 0; 255; 0];\n",
       "   [13; 255; 255; 0]; [14; 255; 0; 255]; [15; 160; 0; 213]]\n",
       "</pre>"
      ]
     },
     "execution_count": 1,
     "metadata": {},
     "output_type": "execute_result"
    },
    {
     "data": {
      "text/html": [
       "<pre style=\"color:slategray;max-height:100px;overflow:hidden\" \n",
       "onclick=\"\n",
       "if (this.style.maxHeight === 'none') \n",
       "    this.style.maxHeight = '100px';\n",
       "else\n",
       "    this.style.maxHeight = 'none'; \n",
       "\">val loop : int list list -&gt; unit = &lt;fun&gt;\n",
       "</pre>"
      ]
     },
     "execution_count": 1,
     "metadata": {},
     "output_type": "execute_result"
    },
    {
     "data": {
      "text/html": [
       "<pre style=\"color:slategray;max-height:100px;overflow:hidden\" \n",
       "onclick=\"\n",
       "if (this.style.maxHeight === 'none') \n",
       "    this.style.maxHeight = '100px';\n",
       "else\n",
       "    this.style.maxHeight = 'none'; \n",
       "\">val couleurs : unit -&gt; unit = &lt;fun&gt;\n",
       "</pre>"
      ]
     },
     "execution_count": 1,
     "metadata": {},
     "output_type": "execute_result"
    },
    {
     "data": {
      "text/html": [
       "<pre style=\"color:slategray;max-height:100px;overflow:hidden\" \n",
       "onclick=\"\n",
       "if (this.style.maxHeight === 'none') \n",
       "    this.style.maxHeight = '100px';\n",
       "else\n",
       "    this.style.maxHeight = 'none'; \n",
       "\">val initialisation : string -&gt; float -&gt; float -&gt; float -&gt; float -&gt; P.stream_t =\n",
       "  &lt;fun&gt;\n",
       "</pre>"
      ]
     },
     "execution_count": 1,
     "metadata": {},
     "output_type": "execute_result"
    },
    {
     "data": {
      "text/html": [
       "<pre style=\"color:slategray;max-height:100px;overflow:hidden\" \n",
       "onclick=\"\n",
       "if (this.style.maxHeight === 'none') \n",
       "    this.style.maxHeight = '100px';\n",
       "else\n",
       "    this.style.maxHeight = 'none'; \n",
       "\">val xlabel : string -&gt; P.plot_t = &lt;fun&gt;\n",
       "</pre>"
      ]
     },
     "execution_count": 1,
     "metadata": {},
     "output_type": "execute_result"
    },
    {
     "data": {
      "text/html": [
       "<pre style=\"color:slategray;max-height:100px;overflow:hidden\" \n",
       "onclick=\"\n",
       "if (this.style.maxHeight === 'none') \n",
       "    this.style.maxHeight = '100px';\n",
       "else\n",
       "    this.style.maxHeight = 'none'; \n",
       "\">val ylabel : string -&gt; P.plot_t = &lt;fun&gt;\n",
       "</pre>"
      ]
     },
     "execution_count": 1,
     "metadata": {},
     "output_type": "execute_result"
    },
    {
     "data": {
      "text/html": [
       "<pre style=\"color:slategray;max-height:100px;overflow:hidden\" \n",
       "onclick=\"\n",
       "if (this.style.maxHeight === 'none') \n",
       "    this.style.maxHeight = '100px';\n",
       "else\n",
       "    this.style.maxHeight = 'none'; \n",
       "\">val label : string -&gt; string -&gt; string -&gt; P.plot_t = &lt;fun&gt;\n",
       "</pre>"
      ]
     },
     "execution_count": 1,
     "metadata": {},
     "output_type": "execute_result"
    }
   ],
   "source": [
    "#use \"topfind\";;\n",
    "#require \"plplot\";;\n",
    "open Plplot;;\n",
    "module P = Plot;;\n",
    "let couleurs_list = [[ 0;255;255;255]; (*`white*)\n",
    "                     [ 1;  0;  0;  0]; (*`black*)\n",
    "                     [ 2;  0;  0;255]; (*`blue*)\n",
    "                     [ 3;255;  0;  0]; (*`red*)\n",
    "                     [ 4;165; 42; 42]; (*`brown*)\n",
    "                     [ 5;  0;  0;  0]; [ 6;  0;  0;  0]; [ 7;  0;  0;  0]; [ 8;  0;  0;  0]; [ 9;  0;  0;  0]; \n",
    "                     [10;200;200;200]; (*`gray*)\n",
    "                     [11;  0;255;255]; (*`light_blue*)\n",
    "                     [12;  0;255;  0]; (*`green*)\n",
    "                     [13;255;255;  0]; (*`yellow*)\n",
    "                     [14;255;  0;255]; (*`pink*)\n",
    "                     [15;160;  0;213]; (*`purple*) ]\n",
    "let rec loop couleurs_list = match couleurs_list with\n",
    "    | [n;r;g;b]::tl -> plscol0 n r g b; loop tl\n",
    "    | _ -> ();;\n",
    "let couleurs = (fun () -> plscolbg 255 255 255; loop couleurs_list)\n",
    "let initialisation filename xmin xmax ymin ymax = \n",
    "        P.init (xmin, ymin) (xmax, ymax) `greedy (`svg `core) ~filename:(filename^\".svg\") ~pre:couleurs\n",
    "let xlabel texte = P.text_outside `black (`bottom 0.5) 3. texte\n",
    "let ylabel texte = P.text_outside `black (`left 0.5) 5. texte \n",
    "let label texte_x texte_y titre = P.label texte_x texte_y titre"
   ]
  },
  {
   "cell_type": "code",
   "execution_count": 2,
   "metadata": {
    "collapsed": false,
    "deletable": true,
    "editable": true
   },
   "outputs": [
    {
     "data": {
      "text/html": [
       "<pre style=\"color:slategray;max-height:100px;overflow:hidden\" \n",
       "onclick=\"\n",
       "if (this.style.maxHeight === 'none') \n",
       "    this.style.maxHeight = '100px';\n",
       "else\n",
       "    this.style.maxHeight = 'none'; \n",
       "\">val range : int -&gt; int -&gt; int -&gt; int list = &lt;fun&gt;\n",
       "</pre>"
      ]
     },
     "execution_count": 2,
     "metadata": {},
     "output_type": "execute_result"
    }
   ],
   "source": [
    "let range debut fin step =\n",
    "   let rec range i acc =\n",
    "     if i>=fin then List.rev acc\n",
    "     else range (i+step) (i::acc) in\n",
    "   range debut [];;"
   ]
  },
  {
   "cell_type": "code",
   "execution_count": 3,
   "metadata": {
    "collapsed": false,
    "deletable": true,
    "editable": true
   },
   "outputs": [
    {
     "data": {
      "text/html": [
       "<pre style=\"color:slategray;max-height:100px;overflow:hidden\" \n",
       "onclick=\"\n",
       "if (this.style.maxHeight === 'none') \n",
       "    this.style.maxHeight = '100px';\n",
       "else\n",
       "    this.style.maxHeight = 'none'; \n",
       "\">val array_max : 'a array -&gt; 'a = &lt;fun&gt;\n",
       "</pre>"
      ]
     },
     "execution_count": 3,
     "metadata": {},
     "output_type": "execute_result"
    }
   ],
   "source": [
    "let array_max array = Array.fold_right max array array.(0);;"
   ]
  },
  {
   "cell_type": "code",
   "execution_count": 4,
   "metadata": {
    "collapsed": false,
    "deletable": true,
    "editable": true
   },
   "outputs": [
    {
     "name": "stdout",
     "output_type": "stream",
     "text": [
      "0.69252\n",
      "0.95661\n",
      "0.99738"
     ]
    },
    {
     "data": {
      "text/html": [
       "<pre style=\"color:slategray;max-height:100px;overflow:hidden\" \n",
       "onclick=\"\n",
       "if (this.style.maxHeight === 'none') \n",
       "    this.style.maxHeight = '100px';\n",
       "else\n",
       "    this.style.maxHeight = 'none'; \n",
       "\">- : unit -&gt; unit = &lt;fun&gt;\n",
       "</pre>"
      ]
     },
     "execution_count": 4,
     "metadata": {},
     "output_type": "execute_result"
    },
    {
     "data": {
      "text/html": [
       "<pre style=\"color:slategray;max-height:100px;overflow:hidden\" \n",
       "onclick=\"\n",
       "if (this.style.maxHeight === 'none') \n",
       "    this.style.maxHeight = '100px';\n",
       "else\n",
       "    this.style.maxHeight = 'none'; \n",
       "\">val mesure : int -&gt; int = &lt;fun&gt;\n",
       "</pre>"
      ]
     },
     "execution_count": 4,
     "metadata": {},
     "output_type": "execute_result"
    },
    {
     "data": {
      "text/html": [
       "<pre style=\"color:slategray;max-height:100px;overflow:hidden\" \n",
       "onclick=\"\n",
       "if (this.style.maxHeight === 'none') \n",
       "    this.style.maxHeight = '100px';\n",
       "else\n",
       "    this.style.maxHeight = 'none'; \n",
       "\">val simulation : int -&gt; int -&gt; int array = &lt;fun&gt;\n",
       "</pre>"
      ]
     },
     "execution_count": 4,
     "metadata": {},
     "output_type": "execute_result"
    },
    {
     "data": {
      "text/html": [
       "<pre style=\"color:slategray;max-height:100px;overflow:hidden\" \n",
       "onclick=\"\n",
       "if (this.style.maxHeight === 'none') \n",
       "    this.style.maxHeight = '100px';\n",
       "else\n",
       "    this.style.maxHeight = 'none'; \n",
       "\">val compte : int array -&gt; int -&gt; int -&gt; int -&gt; int = &lt;fun&gt;\n",
       "</pre>"
      ]
     },
     "execution_count": 4,
     "metadata": {},
     "output_type": "execute_result"
    },
    {
     "data": {
      "text/html": [
       "<pre style=\"color:slategray;max-height:100px;overflow:hidden\" \n",
       "onclick=\"\n",
       "if (this.style.maxHeight === 'none') \n",
       "    this.style.maxHeight = '100px';\n",
       "else\n",
       "    this.style.maxHeight = 'none'; \n",
       "\">- : unit = ()\n",
       "</pre>"
      ]
     },
     "execution_count": 4,
     "metadata": {},
     "output_type": "execute_result"
    }
   ],
   "source": [
    "open Random;;\n",
    "Random.self_init;;\n",
    "\n",
    "let mesure n =\n",
    "    let rec loop i res =\n",
    "        if i<n then\n",
    "            if Random.int 2=0 then loop (i+1) (res-1) else loop (i+1) (res+1)\n",
    "        else res in\n",
    "    loop 0 0;;\n",
    "    \n",
    "let simulation n nbre_essais =\n",
    "    let nbre_mesures = Array.make (2*n+1) 0 in\n",
    "    let rec loop i =\n",
    "        if i<nbre_essais then begin\n",
    "            let pos = n + mesure n in\n",
    "            nbre_mesures.(pos)<-nbre_mesures.(pos)+1;\n",
    "            loop (i+1)\n",
    "        end in\n",
    "    loop 0;\n",
    "    nbre_mesures;;\n",
    "\n",
    "let compte nbre_mesures n debut_intervalle fin_intervalle =\n",
    "    let rec loop index compte =\n",
    "        if index < n+fin_intervalle+1 then loop (index+1) (compte+nbre_mesures.(index))\n",
    "        else compte in\n",
    "    loop (n+debut_intervalle) 0;;\n",
    "\n",
    "let n=50*50 in\n",
    "let nbre_essais=100*1000 in\n",
    "let ecart_type = int_of_float(sqrt(float_of_int n)) in\n",
    "let nbre_mesures = simulation n nbre_essais in\n",
    "print_float((float_of_int (compte nbre_mesures n (-ecart_type) (ecart_type)))/.(float_of_int nbre_essais)); (* 0.68895 *)\n",
    "print_newline();\n",
    "print_float((float_of_int (compte nbre_mesures n (-2*ecart_type) (2*ecart_type)))/.(float_of_int nbre_essais)); (* 0.95593 *)\n",
    "print_newline();\n",
    "print_float((float_of_int (compte nbre_mesures n (-3*ecart_type) (3*ecart_type)))/.(float_of_int nbre_essais)); (* 0.9976 *)\n",
    "\n",
    "let xs = Array.of_list (List.map float_of_int (range (-n) (n+1) 1)) in\n",
    "let ys = Array.init (2*n+1) (fun i-> (float_of_int nbre_mesures.(i))/.(float_of_int nbre_essais)) in\n",
    "let p = initialisation \"graph\" (-.float_of_int n) (float_of_int n) 0. (array_max ys) in\n",
    "P.plot ~stream:p [P.points ~symbol:\"+\" `black xs ys; xlabel \"position\"; ylabel \"probabilité\"];\n",
    "P.finish ~stream:p ();;"
   ]
  },
  {
   "cell_type": "markdown",
   "metadata": {
    "deletable": true,
    "editable": true
   },
   "source": [
    "<img src=\"graph.svg\" width=\"500\"/>"
   ]
  },
  {
   "cell_type": "code",
   "execution_count": null,
   "metadata": {
    "collapsed": true,
    "deletable": true,
    "editable": true
   },
   "outputs": [],
   "source": []
  }
 ],
 "metadata": {
  "kernelspec": {
   "display_name": "OCaml",
   "language": "ocaml",
   "name": "iocaml"
  },
  "language_info": {
   "name": "ocaml",
   "version": "4.1.0"
  }
 },
 "nbformat": 4,
 "nbformat_minor": 2
}
