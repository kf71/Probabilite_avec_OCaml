{
 "cells": [
  {
   "cell_type": "markdown",
   "metadata": {
    "deletable": true,
    "editable": true
   },
   "source": [
    "<h1> La transition de phase ferromagnétique-paramagnétique.</h1>\n",
    "\n",
    "<h2> Présentation</h2>\n",
    "\n",
    "Il existe une température critique appelée température de Curie (ex : $T_{Curie}$(Fer) = 770 °C) au-dessus de laquelle l’aimantation spontanée d’un matériau ferromagnétique disparaît.<br>\n",
    "\n",
    "<ul>\n",
    "<li> Le modèle le plus simple à deux dimensions est le modèle d’Ising. On considère un réseau carré $N\\times N$ composé de $N^2$ spins $S_{i,j}$ pouvant prendre les valeurs $\\pm 1$. En l’absence de champ magnétique extérieur, l’énergie du système est :\n",
    "$$E=-J.\\sum_{i,j} S_{i,j}.\\left(\\sum_{k,\\ell} S_{k,\\ell}\\right)$$\n",
    "($J$ est la constante de couplage, $J  >  0$ pour une interaction ferromagnétique). La somme s’effectue sur les plus proches voisins $S_{k,\\ell}$ de $S_{i,j}$.\n",
    "\n",
    "<img src='./Ising.svg' >\n",
    "\n",
    "<li> Nous allons utiliser un algorithme très général : l’algorithme de Monte-Carlo. Il peut s’appliquer à tout modèle pour lequel il est possible :\n",
    "\n",
    "<ol>\n",
    "    <li> de faire des modifications aléatoires du modèle (en général à partir d’un nombre fini de variables continues ou discrètes qui sont changées de manière aléatoire)\n",
    "    \n",
    "    <li> d’associer une variation d’énergie à chacune de ces modifications. L’algorithme procède alors de la manière suivante :<br>\n",
    "Soit une modification aléatoire envisagée qui transforme le modèle $A_t$ en modèle $A_{t+1}$, associé à une variation d’énergie $\\Delta E$.\n",
    "\n",
    "        <ul>\n",
    "        <li> Si $\\Delta E < 0$, la modification est acceptée.\n",
    "        \n",
    "        <li> Si $\\Delta E > 0$, la modification est acceptée avec la probabilité $P=e^{-\\frac{\\Delta E}{k_B.T}}$ où $T$ est la température du système et $k_B$ la constante de Boltzmann.\n",
    "        </ul>\n",
    "</ol>\n",
    "</ul>\n",
    "\n",
    "Il est facile de voir qu’une fois un état stationnaire atteint, la distribution des états générés $\\{A_i\\}$ correspond à une distribution de Boltzmann. N.B. : Un système est dans un état stationnaire si les variables le décrivant n’évoluent plus au cours du temps, ce n’est pas forcément un état d’équilibre.\n",
    "\n",
    "Un réseau carré de dimension $N\\times N$ spins (moments magnétiques) est traité comme un automate cellulaire, ainsi le spin $S_{i,j}$ est repéré par les coordonnées $i$,$j$. De plus, pour éviter les effets de bords dus à la taille finie du réseau, le système obéit à des conditions aux limites périodiques (toriques) de telle façon que :\n",
    "$$\\forall (k,\\ell)\\in\\mathbb{Z}^2,\\quad S_{k,\\ell}=S_{k\\%N,\\ell\\%N}$$\n",
    "\n",
    "<h2> Etat initial du système</h2>\n",
    "\n",
    "Pour simplifier on choisira $k_B = 1$ (constante de Boltzmann) et $J = 1$ (interaction ferromagnétique).\n",
    "\n",
    "On prendra un réseau carré 300 $\\times$ 300 et $T = 5$ K. La configuration de départ est fixée en choisissant tous les spins égaux à +1.\n",
    "\n",
    "<ol>\n",
    "<li> Quelle est l’énergie initiale $E_0$ du système ?\n",
    "\n",
    "<li> Quelle est l’aimantation moyenne par spin initiale $m_0$ avec l’aimantation moyenne $m=\\frac{1}{N^2}.\\sum_{i,j}S_{i,j}$ ?\n",
    "\n",
    "<li> Coder l’obtention de la matrice de spin de l’état initial.\n",
    "</ol>\n",
    "\n",
    "\n",
    "<h2>Evolution du système</h2>\n",
    "\n",
    "Durant la dynamique, il faut modifier la configuration du système de façon modérée afin que la nouvelle configuration puisse être acceptée avec une probabilité raisonnable pour ne pas la piéger dans un puits de potentiel non optimal.\n",
    "\n",
    "Pour réaliser cette condition, un seul spin, choisi de manière aléatoire, est possiblement modifié à chaque itération selon le principe de Monte-Carlo.\n",
    "\n",
    "Soit $E_n$ l’énergie du système à la $n^{i\\grave eme}$ génération.\n",
    "\n",
    "<ol start=\"4\">\n",
    "<li> En supposant que le spin $S_{i,j}$ est retourné (passage de +1 à $-1$ ou de $-1$ à +1), Calculer la variation d’énergie $\\Delta E$ telle que $E_{n+1} = E_n + \\Delta E$. Calculer également $\\Delta m$, telle que $m_{n+1} = m_n + \\Delta m$.</li>\n",
    "\n",
    "<li> A l’aide de la fonction ** random() ** de la bibliothèque ** random ** et de l’algorithme de Monte-Carlo, trouver une inégalité faisant intervenir $\\Delta E$ qui, si elle est satisfaite, aboutit à un retournement du spin $S_{i,j}$ désigné aléatoirement et à une absence de modification du spin $S_{i,j}$ sinon.</li>\n",
    "\n",
    "<li> Ecrire un script en important les modules nécessaires et en effectuant toutes les initialisations nécessaires permettant d’obtenir pour 600 000 générations (itérations) la liste des énergies $E_n$ et la liste des aimantations $m_n$.<br>\n",
    "* Attention à bien prendre garde aux conditions périodiques aux limites. *</li>\n",
    "\n",
    "<li> Coder le tracé de l’énergie d’une part et de l’aimantation d’autre part en fonction des générations.</li>\n",
    "\n",
    "<li> On obtient les évolutions ci-dessous.<br>\n",
    "Commenter ces courbes. Pourquoi un temps de calcul si important ?</li>\n",
    "\n",
    "<img src=\"Ferro_para_Fig1.svg\" width=\"750\"/>\n",
    "\n",
    "<li> On fait évoluer la température de 5 K à 0,1 K par pas de 0,05 K. Le nombre de générations pour chaque température est de $10^6$. Pour éviter de remplir trop l’espace mémoire, les matrices concernant les valeurs de spins sont enregistrées (via la bibliothèque ** pickle **) pour être rappelées ensuite et représentées graphiquement.\n",
    "\n",
    "Pourquoi choisir $10^6$ comme nombre de générations ?</li>\n",
    "\n",
    "<li> On obtient les trois figures ci-dessous.\n",
    "Commenter précisément mais concisément chacune d’elles.\n",
    "\n",
    "<img src=\"Ferro_para_Fig2.svg\" width=\"500\"/>\n",
    "Figure A : Evolution de l’énergie en fonction de la température d’un réseau carré de $9.10^4$ spins obtenu après $10^6$ générations suivant l’algorithme de Monte-Carlo en partant initialement de spins tous égaux à +1.\n",
    "\n",
    "<img src=\"Ferro_para_Fig3.svg\" width=\"500\"/>\n",
    "Figure B : Evolution de l’énergie en fonction de la température d’un réseau carré de $9.10^4$ spins obtenu après $10^6$ générations suivant l’algorithme de Monte-Carlo en partant initialement de spins tous égaux à +1.\n",
    "\n",
    "<img src=\"Ferro_para_Fig4.svg\" />\n",
    "\n",
    "Figure C : Evolution en fonction de la température d’un réseau carré de $9.10^4$ spins obtenu après $10^6$ générations suivant l’algorithme de Monte-Carlo en partant initialement de spins tous égaux à +1.\n",
    "\n",
    "Les zones noires correspondent aux spins haut de valeur +1 et les blanches aux spins bas de valeur $-1$.</li>\n",
    "\n",
    "<li> La résolution analytique du problème de la transition ferromagnétique-paramagnétique fait appel à des outils développés par la mécanique statistique. En 1944, Onsager a résolu ce problème à deux dimensions. Pour un réseau carré, il a montré qu’il existe une température de transition de phase et que sa valeur est :\n",
    "$$T_c=J.\\frac{2}{\\ln(1+\\sqrt{2})}\\simeq2,27.J$$\n",
    "\n",
    "Cette valeur est-elle en accord avec notre résolution numérique ?</li>\n",
    "</ol>"
   ]
  },
  {
   "cell_type": "code",
   "execution_count": 1,
   "metadata": {
    "collapsed": false,
    "deletable": true,
    "editable": true
   },
   "outputs": [
    {
     "name": "stdout",
     "output_type": "stream",
     "text": [
      "- : unit = ()\n",
      "Findlib has been successfully loaded. Additional directives:\n",
      "  #require \"package\";;      to load a package\n",
      "  #list;;                   to list the available packages\n",
      "  #camlp4o;;                to load camlp4 (standard syntax)\n",
      "  #camlp4r;;                to load camlp4 (revised syntax)\n",
      "  #predicates \"p,q,...\";;   to set these predicates\n",
      "  Topfind.reset();;         to force that packages will be reloaded\n",
      "  #thread;;                 to enable threads\n",
      "\n",
      "- : unit = ()\n"
     ]
    },
    {
     "name": "stderr",
     "output_type": "stream",
     "text": [
      "/usr/lib/ocaml/plplot: added to search path\n",
      "/usr/lib/ocaml/plplot/plplot.cma: loaded\n"
     ]
    },
    {
     "data": {
      "text/html": [
       "<pre style=\"color:slategray;max-height:100px;overflow:hidden\" \n",
       "onclick=\"\n",
       "if (this.style.maxHeight === 'none') \n",
       "    this.style.maxHeight = '100px';\n",
       "else\n",
       "    this.style.maxHeight = 'none'; \n",
       "\">module P = Plplot.Plot\n",
       "</pre>"
      ]
     },
     "execution_count": 1,
     "metadata": {},
     "output_type": "execute_result"
    },
    {
     "data": {
      "text/html": [
       "<pre style=\"color:slategray;max-height:100px;overflow:hidden\" \n",
       "onclick=\"\n",
       "if (this.style.maxHeight === 'none') \n",
       "    this.style.maxHeight = '100px';\n",
       "else\n",
       "    this.style.maxHeight = 'none'; \n",
       "\">val couleurs_list : int list list =\n",
       "  [[0; 255; 255; 255]; [1; 0; 0; 0]; [2; 0; 0; 255]; [3; 255; 0; 0];\n",
       "   [4; 165; 42; 42]; [5; 0; 0; 0]; [6; 0; 0; 0]; [7; 0; 0; 0]; [8; 0; 0; 0];\n",
       "   [9; 0; 0; 0]; [10; 200; 200; 200]; [11; 0; 255; 255]; [12; 0; 255; 0];\n",
       "   [13; 255; 255; 0]; [14; 255; 0; 255]; [15; 160; 0; 213]]\n",
       "</pre>"
      ]
     },
     "execution_count": 1,
     "metadata": {},
     "output_type": "execute_result"
    },
    {
     "data": {
      "text/html": [
       "<pre style=\"color:slategray;max-height:100px;overflow:hidden\" \n",
       "onclick=\"\n",
       "if (this.style.maxHeight === 'none') \n",
       "    this.style.maxHeight = '100px';\n",
       "else\n",
       "    this.style.maxHeight = 'none'; \n",
       "\">val loop : int list list -&gt; unit = &lt;fun&gt;\n",
       "</pre>"
      ]
     },
     "execution_count": 1,
     "metadata": {},
     "output_type": "execute_result"
    },
    {
     "data": {
      "text/html": [
       "<pre style=\"color:slategray;max-height:100px;overflow:hidden\" \n",
       "onclick=\"\n",
       "if (this.style.maxHeight === 'none') \n",
       "    this.style.maxHeight = '100px';\n",
       "else\n",
       "    this.style.maxHeight = 'none'; \n",
       "\">val couleurs : unit -&gt; unit = &lt;fun&gt;\n",
       "</pre>"
      ]
     },
     "execution_count": 1,
     "metadata": {},
     "output_type": "execute_result"
    },
    {
     "data": {
      "text/html": [
       "<pre style=\"color:slategray;max-height:100px;overflow:hidden\" \n",
       "onclick=\"\n",
       "if (this.style.maxHeight === 'none') \n",
       "    this.style.maxHeight = '100px';\n",
       "else\n",
       "    this.style.maxHeight = 'none'; \n",
       "\">val initialisation : string -&gt; float -&gt; float -&gt; float -&gt; float -&gt; P.stream_t =\n",
       "  &lt;fun&gt;\n",
       "</pre>"
      ]
     },
     "execution_count": 1,
     "metadata": {},
     "output_type": "execute_result"
    },
    {
     "data": {
      "text/html": [
       "<pre style=\"color:slategray;max-height:100px;overflow:hidden\" \n",
       "onclick=\"\n",
       "if (this.style.maxHeight === 'none') \n",
       "    this.style.maxHeight = '100px';\n",
       "else\n",
       "    this.style.maxHeight = 'none'; \n",
       "\">val xlabel : string -&gt; P.plot_t = &lt;fun&gt;\n",
       "</pre>"
      ]
     },
     "execution_count": 1,
     "metadata": {},
     "output_type": "execute_result"
    },
    {
     "data": {
      "text/html": [
       "<pre style=\"color:slategray;max-height:100px;overflow:hidden\" \n",
       "onclick=\"\n",
       "if (this.style.maxHeight === 'none') \n",
       "    this.style.maxHeight = '100px';\n",
       "else\n",
       "    this.style.maxHeight = 'none'; \n",
       "\">val ylabel : string -&gt; P.plot_t = &lt;fun&gt;\n",
       "</pre>"
      ]
     },
     "execution_count": 1,
     "metadata": {},
     "output_type": "execute_result"
    },
    {
     "data": {
      "text/html": [
       "<pre style=\"color:slategray;max-height:100px;overflow:hidden\" \n",
       "onclick=\"\n",
       "if (this.style.maxHeight === 'none') \n",
       "    this.style.maxHeight = '100px';\n",
       "else\n",
       "    this.style.maxHeight = 'none'; \n",
       "\">val label : string -&gt; string -&gt; string -&gt; P.plot_t = &lt;fun&gt;\n",
       "</pre>"
      ]
     },
     "execution_count": 1,
     "metadata": {},
     "output_type": "execute_result"
    },
    {
     "data": {
      "text/html": [
       "<pre style=\"color:slategray;max-height:100px;overflow:hidden\" \n",
       "onclick=\"\n",
       "if (this.style.maxHeight === 'none') \n",
       "    this.style.maxHeight = '100px';\n",
       "else\n",
       "    this.style.maxHeight = 'none'; \n",
       "\">val gray_cmap : int -&gt; unit = &lt;fun&gt;\n",
       "</pre>"
      ]
     },
     "execution_count": 1,
     "metadata": {},
     "output_type": "execute_result"
    }
   ],
   "source": [
    "#use \"topfind\";;\n",
    "#require \"plplot\";;\n",
    "open Plplot;;\n",
    "module P = Plot;;\n",
    "let couleurs_list = [[ 0;255;255;255]; (*`white*)\n",
    "                     [ 1;  0;  0;  0]; (*`black*)\n",
    "                     [ 2;  0;  0;255]; (*`blue*)\n",
    "                     [ 3;255;  0;  0]; (*`red*)\n",
    "                     [ 4;165; 42; 42]; (*`brown*)\n",
    "                     [ 5;  0;  0;  0]; [ 6;  0;  0;  0]; [ 7;  0;  0;  0]; [ 8;  0;  0;  0]; [ 9;  0;  0;  0]; \n",
    "                     [10;200;200;200]; (*`gray*)\n",
    "                     [11;  0;255;255]; (*`light_blue*)\n",
    "                     [12;  0;255;  0]; (*`green*)\n",
    "                     [13;255;255;  0]; (*`yellow*)\n",
    "                     [14;255;  0;255]; (*`pink*)\n",
    "                     [15;160;  0;213]; (*`purple*) ]\n",
    "let rec loop couleurs_list = match couleurs_list with\n",
    "    | [n;r;g;b]::tl -> plscol0 n r g b; loop tl\n",
    "    | _ -> ();;\n",
    "let couleurs = (fun () -> plscolbg 255 255 255; loop couleurs_list)\n",
    "let initialisation filename xmin xmax ymin ymax = \n",
    "        P.init (xmin, ymin) (xmax, ymax) `greedy (`svg `core) ~filename:(filename^\".svg\") ~pre:couleurs\n",
    "let xlabel texte = P.text_outside `black (`bottom 0.5) 3. texte\n",
    "let ylabel texte = P.text_outside `black (`left 0.5) 5. texte \n",
    "let label texte_x texte_y titre = P.label texte_x texte_y titre\n",
    "\n",
    "let gray_cmap num_col =\n",
    "  let r = [|0.0; 1.0|] in\n",
    "  let g = [|0.0; 1.0|] in\n",
    "  let b = [|0.0; 1.0|] in\n",
    "  let pos = [|0.0; 1.0|] in\n",
    "  plscmap1n num_col;\n",
    "  plscmap1l true pos r g b None"
   ]
  },
  {
   "cell_type": "code",
   "execution_count": 2,
   "metadata": {
    "collapsed": false,
    "deletable": true,
    "editable": true
   },
   "outputs": [
    {
     "data": {
      "text/html": [
       "<pre style=\"color:slategray;max-height:100px;overflow:hidden\" \n",
       "onclick=\"\n",
       "if (this.style.maxHeight === 'none') \n",
       "    this.style.maxHeight = '100px';\n",
       "else\n",
       "    this.style.maxHeight = 'none'; \n",
       "\">val range : int -&gt; int -&gt; int -&gt; int list = &lt;fun&gt;\n",
       "</pre>"
      ]
     },
     "execution_count": 2,
     "metadata": {},
     "output_type": "execute_result"
    }
   ],
   "source": [
    "let range debut fin step =\n",
    "   let rec range i acc =\n",
    "     if i>=fin then List.rev acc\n",
    "     else range (i+step) (i::acc) in\n",
    "   range debut [];;"
   ]
  },
  {
   "cell_type": "code",
   "execution_count": 3,
   "metadata": {
    "collapsed": false,
    "deletable": true,
    "editable": true
   },
   "outputs": [
    {
     "data": {
      "text/html": [
       "<pre style=\"color:slategray;max-height:100px;overflow:hidden\" \n",
       "onclick=\"\n",
       "if (this.style.maxHeight === 'none') \n",
       "    this.style.maxHeight = '100px';\n",
       "else\n",
       "    this.style.maxHeight = 'none'; \n",
       "\">val linspace : float -&gt; float -&gt; int -&gt; float list = &lt;fun&gt;\n",
       "</pre>"
      ]
     },
     "execution_count": 3,
     "metadata": {},
     "output_type": "execute_result"
    }
   ],
   "source": [
    "let linspace debut fin nbre_pts =\n",
    "     let step = (fin-.debut)/.(float_of_int (nbre_pts-1)) in\n",
    "     let rec loop i acc =\n",
    "         if i<nbre_pts\n",
    "         then loop (i+1) ((debut+.(float_of_int i)*.step)::acc)\n",
    "         else List.rev acc in\n",
    "       loop 0 [];;"
   ]
  },
  {
   "cell_type": "code",
   "execution_count": 4,
   "metadata": {
    "collapsed": false,
    "deletable": true,
    "editable": true
   },
   "outputs": [
    {
     "data": {
      "text/html": [
       "<pre style=\"color:slategray;max-height:100px;overflow:hidden\" \n",
       "onclick=\"\n",
       "if (this.style.maxHeight === 'none') \n",
       "    this.style.maxHeight = '100px';\n",
       "else\n",
       "    this.style.maxHeight = 'none'; \n",
       "\">val array_min : 'a array -&gt; 'a = &lt;fun&gt;\n",
       "</pre>"
      ]
     },
     "execution_count": 4,
     "metadata": {},
     "output_type": "execute_result"
    },
    {
     "data": {
      "text/html": [
       "<pre style=\"color:slategray;max-height:100px;overflow:hidden\" \n",
       "onclick=\"\n",
       "if (this.style.maxHeight === 'none') \n",
       "    this.style.maxHeight = '100px';\n",
       "else\n",
       "    this.style.maxHeight = 'none'; \n",
       "\">val array_max : 'a array -&gt; 'a = &lt;fun&gt;\n",
       "</pre>"
      ]
     },
     "execution_count": 4,
     "metadata": {},
     "output_type": "execute_result"
    }
   ],
   "source": [
    "let array_min array = Array.fold_right min array array.(0);;\n",
    "let array_max array = Array.fold_right max array array.(0);;"
   ]
  },
  {
   "cell_type": "code",
   "execution_count": 5,
   "metadata": {
    "collapsed": false,
    "deletable": true,
    "editable": true
   },
   "outputs": [
    {
     "name": "stdout",
     "output_type": "stream",
     "text": [
      "Done\n"
     ]
    },
    {
     "data": {
      "text/html": [
       "<pre style=\"color:slategray;max-height:100px;overflow:hidden\" \n",
       "onclick=\"\n",
       "if (this.style.maxHeight === 'none') \n",
       "    this.style.maxHeight = '100px';\n",
       "else\n",
       "    this.style.maxHeight = 'none'; \n",
       "\">val n : int = 300\n",
       "</pre>"
      ]
     },
     "execution_count": 5,
     "metadata": {},
     "output_type": "execute_result"
    },
    {
     "data": {
      "text/html": [
       "<pre style=\"color:slategray;max-height:100px;overflow:hidden\" \n",
       "onclick=\"\n",
       "if (this.style.maxHeight === 'none') \n",
       "    this.style.maxHeight = '100px';\n",
       "else\n",
       "    this.style.maxHeight = 'none'; \n",
       "\">val a : int array array =\n",
       "  [|[|1; 1; 1; 1; 1; 1; 1; 1; 1; 1; 1; 1; 1; 1; 1; 1; 1; 1; 1; 1; 1; 1; 1; 1;\n",
       "      1; 1; 1; 1; 1; 1; 1; 1; 1; 1; 1; 1; 1; 1; 1; 1; 1; 1; 1; 1; 1; 1; 1; 1;\n",
       "      1; 1; 1; 1; 1; 1; 1; 1; 1; 1; 1; 1; 1; 1; 1; 1; 1; 1; 1; 1; 1; 1; 1; 1;\n",
       "      1; 1; 1; 1; 1; 1; 1; 1; 1; 1; 1; 1; 1; 1; 1; 1; 1; 1; 1; 1; 1; 1; 1; 1;\n",
       "      1; 1; 1; 1; 1; 1; 1; 1; 1; 1; 1; 1; 1; 1; 1; 1; 1; 1; 1; 1; 1; 1; 1; 1;\n",
       "      1; 1; 1; 1; 1; 1; 1; 1; 1; 1; 1; 1; 1; 1; 1; 1; 1; 1; 1; 1; 1; 1; 1; 1;\n",
       "      1; 1; 1; 1; 1; 1; 1; 1; 1; 1; 1; 1; 1; 1; 1; 1; 1; 1; 1; 1; 1; 1; 1; 1;\n",
       "      1; 1; 1; 1; 1; 1; 1; 1; 1; 1; 1; 1; 1; 1; 1; 1; 1; 1; 1; 1; 1; 1; 1; 1;\n",
       "      1; 1; 1; 1; 1; 1; 1; 1; 1; 1; 1; 1; 1; 1; 1; 1; 1; 1; 1; 1; 1; 1; 1; 1;\n",
       "      1; 1; 1; 1; 1; 1; 1; 1; 1; 1; 1; 1; 1; 1; 1; 1; 1; 1; 1; 1; 1; 1; 1; 1;\n",
       "      1; 1; 1; 1; 1; 1; 1; 1; 1; 1; 1; 1; 1; 1; 1; 1; 1; 1; 1; 1; 1; 1; 1; 1;\n",
       "      1; 1; 1; 1; 1; 1; 1; 1; 1; 1; 1; 1; 1; 1; 1; 1; 1; 1; 1; 1; 1; 1; 1; 1;\n",
       "      1; 1; 1; 1; 1; 1; 1; 1; 1; 1; ...|];\n",
       "    ...|]\n",
       "</pre>"
      ]
     },
     "execution_count": 5,
     "metadata": {},
     "output_type": "execute_result"
    },
    {
     "data": {
      "text/html": [
       "<pre style=\"color:slategray;max-height:100px;overflow:hidden\" \n",
       "onclick=\"\n",
       "if (this.style.maxHeight === 'none') \n",
       "    this.style.maxHeight = '100px';\n",
       "else\n",
       "    this.style.maxHeight = 'none'; \n",
       "\">val t : float = 5.\n",
       "</pre>"
      ]
     },
     "execution_count": 5,
     "metadata": {},
     "output_type": "execute_result"
    },
    {
     "data": {
      "text/html": [
       "<pre style=\"color:slategray;max-height:100px;overflow:hidden\" \n",
       "onclick=\"\n",
       "if (this.style.maxHeight === 'none') \n",
       "    this.style.maxHeight = '100px';\n",
       "else\n",
       "    this.style.maxHeight = 'none'; \n",
       "\">val generation : int = 600000\n",
       "</pre>"
      ]
     },
     "execution_count": 5,
     "metadata": {},
     "output_type": "execute_result"
    },
    {
     "data": {
      "text/html": [
       "<pre style=\"color:slategray;max-height:100px;overflow:hidden\" \n",
       "onclick=\"\n",
       "if (this.style.maxHeight === 'none') \n",
       "    this.style.maxHeight = '100px';\n",
       "else\n",
       "    this.style.maxHeight = 'none'; \n",
       "\">val e : float array =\n",
       "  [|-180000.; -180000.; -180000.; -180000.; -180000.; -180000.; -180000.;\n",
       "    -180000.; -180000.; -180000.; -180000.; -180000.; -180000.; -180000.;\n",
       "    -180000.; -180000.; -180000.; -180000.; -180000.; -180000.; -180000.;\n",
       "    -180000.; -180000.; -180000.; -180000.; -180000.; -180000.; -180000.;\n",
       "    -180000.; -180000.; -180000.; -180000.; -180000.; -180000.; -180000.;\n",
       "    -180000.; -180000.; -180000.; -180000.; -180000.; -180000.; -180000.;\n",
       "    -180000.; -180000.; -180000.; -180000.; -180000.; -180000.; -180000.;\n",
       "    -180000.; -180000.; -180000.; -180000.; -180000.; -180000.; -180000.;\n",
       "    -180000.; -180000.; -180000.; -180000.; -180000.; -180000.; -180000.;\n",
       "    -180000.; -180000.; -180000.; -180000.; -180000.; -180000.; -180000.;\n",
       "    -180000.; -180000.; -180000.; -180000.; -180000.; -180000.; -180000.;\n",
       "    -180000.; -180000.; -180000.; -180000.; -180000.; -180000.; -180000.;\n",
       "    -180000.; -180000.; -180000.; -180000.; -180000.; -180000.; -180000.;\n",
       "    -180000.; -180000.; -180000.; -180000.; -180000.; -180000.; -180000.;\n",
       "    -180000.; -180000.; -180000.; -180000.; -180000.; -180000.; -180000.;\n",
       "    -180000.; -180000.; -180000.; -180000.; -180000.; -180000.; -180000.;\n",
       "    -180000.; -180000.; -180000.; -180000.; -180000.; -180000.; -180000.;\n",
       "    -180000.; -180000.; -180000.; -180000.; -180000.; -180000.; -180000.;\n",
       "    -180000.; -180000.; -180000.; -180000.; -180000.; -180000.; -180000.;\n",
       "    -180000.; -180000.; -180000.; -180000.; -180000.; -180000.; -180000.;\n",
       "    -180000.; -180000.; -180000.; -180000.; -180000.; -180000.; -180000.;\n",
       "    -180000.; -180000.; -180000.; -180000.; -180000.; -180000.; -180000.;\n",
       "    -180000.; -180000.; -180000.; -180000.; -180000.; -180000.; -180000.;\n",
       "    -180000.; -180000.; -180000.; -180000.; -180000.; -180000.; -180000.;\n",
       "    -180000.; -180000.; -180000.; -180000.; -180000.; -180000.; -180000.;\n",
       "    -180000.; -180000.; -180000.; -180000.; -180000.; -180000.; -180000.;\n",
       "    -180000.; -180000.; -180000.; -180000.; -180000.; -180000.; -180000.;\n",
       "    -180000.; -180000.; -180000.; -180000.; -180000.; -180000.; -180000.;\n",
       "    -180000.; -180000.; -180000.; -180000.; -180000.; -180000.; -180000.;\n",
       "    -180000.; -180000.; -180000.; -180000.; -180000.; -180000.; -180000.;\n",
       "    -180000.; -180000.; -180000.; -180000.; -180000.; -180000.; -180000.;\n",
       "    -180000.; -180000.; -180000.; -180000.; -180000.; -180000.; -180000.;\n",
       "    -180000.; -180000.; -180000.; -180000.; -180000.; -180000.; -180000.;\n",
       "    -180000.; -180000.; -180000.; -180000.; -180000.; -180000.; -180000.;\n",
       "    -180000.; -180000.; -180000.; -180000.; -180000.; -180000.; -180000.;\n",
       "    -180000.; -180000.; -180000.; -180000.; -180000.; -180000.; -180000.;\n",
       "    -180000.; -180000.; -180000.; -180000.; -180000.; -180000.; -180000.;\n",
       "    -180000.; -180000.; -180000.; -180000.; -180000.; -180000.; -180000.;\n",
       "    -180000.; -180000.; -180000.; -180000.; -180000.; -180000.; -180000.;\n",
       "    -180000.; -180000.; -180000.; -180000.; -180000.; -180000.; -180000.;\n",
       "    -180000.; -180000.; -180000.; -180000.; -180000.; -180000.; -180000.;\n",
       "    -180000.; -180000.; -180000.; -180000.; -180000.; -180000.; -180000.;\n",
       "    -180000.; -180000.; -180000.; -180000.; -180000.; ...|]\n",
       "</pre>"
      ]
     },
     "execution_count": 5,
     "metadata": {},
     "output_type": "execute_result"
    },
    {
     "data": {
      "text/html": [
       "<pre style=\"color:slategray;max-height:100px;overflow:hidden\" \n",
       "onclick=\"\n",
       "if (this.style.maxHeight === 'none') \n",
       "    this.style.maxHeight = '100px';\n",
       "else\n",
       "    this.style.maxHeight = 'none'; \n",
       "\">val m : float array =\n",
       "  [|1.; 1.; 1.; 1.; 1.; 1.; 1.; 1.; 1.; 1.; 1.; 1.; 1.; 1.; 1.; 1.; 1.; 1.;\n",
       "    1.; 1.; 1.; 1.; 1.; 1.; 1.; 1.; 1.; 1.; 1.; 1.; 1.; 1.; 1.; 1.; 1.; 1.;\n",
       "    1.; 1.; 1.; 1.; 1.; 1.; 1.; 1.; 1.; 1.; 1.; 1.; 1.; 1.; 1.; 1.; 1.; 1.;\n",
       "    1.; 1.; 1.; 1.; 1.; 1.; 1.; 1.; 1.; 1.; 1.; 1.; 1.; 1.; 1.; 1.; 1.; 1.;\n",
       "    1.; 1.; 1.; 1.; 1.; 1.; 1.; 1.; 1.; 1.; 1.; 1.; 1.; 1.; 1.; 1.; 1.; 1.;\n",
       "    1.; 1.; 1.; 1.; 1.; 1.; 1.; 1.; 1.; 1.; 1.; 1.; 1.; 1.; 1.; 1.; 1.; 1.;\n",
       "    1.; 1.; 1.; 1.; 1.; 1.; 1.; 1.; 1.; 1.; 1.; 1.; 1.; 1.; 1.; 1.; 1.; 1.;\n",
       "    1.; 1.; 1.; 1.; 1.; 1.; 1.; 1.; 1.; 1.; 1.; 1.; 1.; 1.; 1.; 1.; 1.; 1.;\n",
       "    1.; 1.; 1.; 1.; 1.; 1.; 1.; 1.; 1.; 1.; 1.; 1.; 1.; 1.; 1.; 1.; 1.; 1.;\n",
       "    1.; 1.; 1.; 1.; 1.; 1.; 1.; 1.; 1.; 1.; 1.; 1.; 1.; 1.; 1.; 1.; 1.; 1.;\n",
       "    1.; 1.; 1.; 1.; 1.; 1.; 1.; 1.; 1.; 1.; 1.; 1.; 1.; 1.; 1.; 1.; 1.; 1.;\n",
       "    1.; 1.; 1.; 1.; 1.; 1.; 1.; 1.; 1.; 1.; 1.; 1.; 1.; 1.; 1.; 1.; 1.; 1.;\n",
       "    1.; 1.; 1.; 1.; 1.; 1.; 1.; 1.; 1.; 1.; 1.; 1.; 1.; 1.; 1.; 1.; 1.; 1.;\n",
       "    1.; 1.; 1.; 1.; 1.; 1.; 1.; 1.; 1.; 1.; 1.; 1.; 1.; 1.; 1.; 1.; 1.; 1.;\n",
       "    1.; 1.; 1.; 1.; 1.; 1.; 1.; 1.; 1.; 1.; 1.; 1.; 1.; 1.; 1.; 1.; 1.; 1.;\n",
       "    1.; 1.; 1.; 1.; 1.; 1.; 1.; 1.; 1.; 1.; 1.; 1.; 1.; 1.; 1.; 1.; 1.; 1.;\n",
       "    1.; 1.; 1.; 1.; 1.; 1.; 1.; 1.; 1.; 1.; 1.; ...|]\n",
       "</pre>"
      ]
     },
     "execution_count": 5,
     "metadata": {},
     "output_type": "execute_result"
    },
    {
     "data": {
      "text/html": [
       "<pre style=\"color:slategray;max-height:100px;overflow:hidden\" \n",
       "onclick=\"\n",
       "if (this.style.maxHeight === 'none') \n",
       "    this.style.maxHeight = '100px';\n",
       "else\n",
       "    this.style.maxHeight = 'none'; \n",
       "\">- : unit -&gt; unit = &lt;fun&gt;\n",
       "</pre>"
      ]
     },
     "execution_count": 5,
     "metadata": {},
     "output_type": "execute_result"
    },
    {
     "data": {
      "text/html": [
       "<pre style=\"color:slategray;max-height:100px;overflow:hidden\" \n",
       "onclick=\"\n",
       "if (this.style.maxHeight === 'none') \n",
       "    this.style.maxHeight = '100px';\n",
       "else\n",
       "    this.style.maxHeight = 'none'; \n",
       "\">- : unit = ()\n",
       "</pre>"
      ]
     },
     "execution_count": 5,
     "metadata": {},
     "output_type": "execute_result"
    },
    {
     "data": {
      "text/html": [
       "<pre style=\"color:slategray;max-height:100px;overflow:hidden\" \n",
       "onclick=\"\n",
       "if (this.style.maxHeight === 'none') \n",
       "    this.style.maxHeight = '100px';\n",
       "else\n",
       "    this.style.maxHeight = 'none'; \n",
       "\">val xs : float array =\n",
       "  [|0.; 1.; 2.; 3.; 4.; 5.; 6.; 7.; 8.; 9.; 10.; 11.; 12.; 13.; 14.; 15.;\n",
       "    16.; 17.; 18.; 19.; 20.; 21.; 22.; 23.; 24.; 25.; 26.; 27.; 28.; 29.;\n",
       "    30.; 31.; 32.; 33.; 34.; 35.; 36.; 37.; 38.; 39.; 40.; 41.; 42.; 43.;\n",
       "    44.; 45.; 46.; 47.; 48.; 49.; 50.; 51.; 52.; 53.; 54.; 55.; 56.; 57.;\n",
       "    58.; 59.; 60.; 61.; 62.; 63.; 64.; 65.; 66.; 67.; 68.; 69.; 70.; 71.;\n",
       "    72.; 73.; 74.; 75.; 76.; 77.; 78.; 79.; 80.; 81.; 82.; 83.; 84.; 85.;\n",
       "    86.; 87.; 88.; 89.; 90.; 91.; 92.; 93.; 94.; 95.; 96.; 97.; 98.; 99.;\n",
       "    100.; 101.; 102.; 103.; 104.; 105.; 106.; 107.; 108.; 109.; 110.; 111.;\n",
       "    112.; 113.; 114.; 115.; 116.; 117.; 118.; 119.; 120.; 121.; 122.; 123.;\n",
       "    124.; 125.; 126.; 127.; 128.; 129.; 130.; 131.; 132.; 133.; 134.; 135.;\n",
       "    136.; 137.; 138.; 139.; 140.; 141.; 142.; 143.; 144.; 145.; 146.; 147.;\n",
       "    148.; 149.; 150.; 151.; 152.; 153.; 154.; 155.; 156.; 157.; 158.; 159.;\n",
       "    160.; 161.; 162.; 163.; 164.; 165.; 166.; 167.; 168.; 169.; 170.; 171.;\n",
       "    172.; 173.; 174.; 175.; 176.; 177.; 178.; 179.; 180.; 181.; 182.; 183.;\n",
       "    184.; 185.; 186.; 187.; 188.; 189.; 190.; 191.; 192.; 193.; 194.; 195.;\n",
       "    196.; 197.; 198.; 199.; 200.; 201.; 202.; 203.; 204.; 205.; 206.; 207.;\n",
       "    208.; 209.; 210.; 211.; 212.; 213.; 214.; 215.; 216.; 217.; 218.; 219.;\n",
       "    220.; 221.; 222.; 223.; 224.; 225.; 226.; 227.; 228.; 229.; 230.; 231.;\n",
       "    232.; 233.; 234.; 235.; 236.; 237.; 238.; 239.; 240.; 241.; 242.; 243.;\n",
       "    244.; 245.; 246.; 247.; 248.; 249.; 250.; 251.; 252.; 253.; 254.; 255.;\n",
       "    256.; 257.; 258.; 259.; 260.; 261.; 262.; 263.; 264.; 265.; 266.; 267.;\n",
       "    268.; 269.; 270.; 271.; 272.; 273.; 274.; 275.; 276.; 277.; 278.; 279.;\n",
       "    280.; 281.; 282.; 283.; 284.; 285.; 286.; 287.; 288.; 289.; 290.; 291.;\n",
       "    292.; 293.; 294.; 295.; 296.; 297.; 298.; ...|]\n",
       "</pre>"
      ]
     },
     "execution_count": 5,
     "metadata": {},
     "output_type": "execute_result"
    },
    {
     "data": {
      "text/html": [
       "<pre style=\"color:slategray;max-height:100px;overflow:hidden\" \n",
       "onclick=\"\n",
       "if (this.style.maxHeight === 'none') \n",
       "    this.style.maxHeight = '100px';\n",
       "else\n",
       "    this.style.maxHeight = 'none'; \n",
       "\">- : unit = ()\n",
       "</pre>"
      ]
     },
     "execution_count": 5,
     "metadata": {},
     "output_type": "execute_result"
    }
   ],
   "source": [
    "let n=300;; (* taille du réseau*)\n",
    "let a = Array.make_matrix n n 1;; (* matrice spins initiale *)\n",
    "let t = 5.;; (* température du système *)\n",
    "let generation = 600000;; (*choix du nombre de générations *)\n",
    "let e = Array.make generation (-.2.*.(float_of_int n)**2.);;\n",
    "(* On crée une liste avec comme premier terme l'énergie initiale *)\n",
    "let m = Array.make generation 1.;; \n",
    "(* idem avec comme premier terme l'aimantation initiale *)\n",
    "\n",
    "open Random;;\n",
    "Random.self_init;;\n",
    "\n",
    "let rec loop g =\n",
    "    \"à compléter\"\n",
    "loop 0;;\n",
    "\n",
    "let xs = Array.init generation (fun i->float_of_int i);;\n",
    "\n",
    "let p1 = initialisation \"graph1\" (array_min xs) (array_max xs) \n",
    "                                (array_min e) (array_max e) in\n",
    "P.plot ~stream:p1 [P.lines `blue xs e;\n",
    "                  xlabel \"génération\"; \n",
    "                  ylabel \"Energie\"];\n",
    "P.finish ~stream:p1 ();\n",
    "\n",
    "let p2 = initialisation \"graph2\" (array_min xs) (array_max xs) \n",
    "                                (array_min m) (array_max m) in\n",
    "P.plot ~stream:p2 [P.lines `blue xs m;\n",
    "                  xlabel \"génération\"; \n",
    "                  ylabel \"Aimantation moyenne\"];\n",
    "P.finish ~stream:p2 ();\n",
    "print_string \"Done\\n\";;"
   ]
  },
  {
   "cell_type": "markdown",
   "metadata": {
    "collapsed": true,
    "deletable": true,
    "editable": true
   },
   "source": [
    "<table>\n",
    "<tr><td><img src=\"./graph1.svg\" width=\"500\"/></td><td><img src=\"./graph2.svg\" width=\"500\"></td></tr>\n",
    "</table>"
   ]
  },
  {
   "cell_type": "code",
   "execution_count": 6,
   "metadata": {
    "collapsed": false,
    "deletable": true,
    "editable": true
   },
   "outputs": [
    {
     "name": "stdout",
     "output_type": "stream",
     "text": [
      "Done\n"
     ]
    },
    {
     "data": {
      "text/html": [
       "<pre style=\"color:slategray;max-height:100px;overflow:hidden\" \n",
       "onclick=\"\n",
       "if (this.style.maxHeight === 'none') \n",
       "    this.style.maxHeight = '100px';\n",
       "else\n",
       "    this.style.maxHeight = 'none'; \n",
       "\">val n : int = 300\n",
       "</pre>"
      ]
     },
     "execution_count": 6,
     "metadata": {},
     "output_type": "execute_result"
    },
    {
     "data": {
      "text/html": [
       "<pre style=\"color:slategray;max-height:100px;overflow:hidden\" \n",
       "onclick=\"\n",
       "if (this.style.maxHeight === 'none') \n",
       "    this.style.maxHeight = '100px';\n",
       "else\n",
       "    this.style.maxHeight = 'none'; \n",
       "\">val t : float = 5.\n",
       "</pre>"
      ]
     },
     "execution_count": 6,
     "metadata": {},
     "output_type": "execute_result"
    },
    {
     "data": {
      "text/html": [
       "<pre style=\"color:slategray;max-height:100px;overflow:hidden\" \n",
       "onclick=\"\n",
       "if (this.style.maxHeight === 'none') \n",
       "    this.style.maxHeight = '100px';\n",
       "else\n",
       "    this.style.maxHeight = 'none'; \n",
       "\">- : unit -&gt; unit = &lt;fun&gt;\n",
       "</pre>"
      ]
     },
     "execution_count": 6,
     "metadata": {},
     "output_type": "execute_result"
    },
    {
     "data": {
      "text/html": [
       "<pre style=\"color:slategray;max-height:100px;overflow:hidden\" \n",
       "onclick=\"\n",
       "if (this.style.maxHeight === 'none') \n",
       "    this.style.maxHeight = '100px';\n",
       "else\n",
       "    this.style.maxHeight = 'none'; \n",
       "\">val calcul : float -&gt; float * float = &lt;fun&gt;\n",
       "</pre>"
      ]
     },
     "execution_count": 6,
     "metadata": {},
     "output_type": "execute_result"
    },
    {
     "data": {
      "text/html": [
       "<pre style=\"color:slategray;max-height:100px;overflow:hidden\" \n",
       "onclick=\"\n",
       "if (this.style.maxHeight === 'none') \n",
       "    this.style.maxHeight = '100px';\n",
       "else\n",
       "    this.style.maxHeight = 'none'; \n",
       "\">val liste_temperature : float list =\n",
       "  [5.; 4.95; 4.9; 4.85; 4.8; 4.75; 4.7; 4.65; 4.6; 4.55; 4.5; 4.45; 4.4;\n",
       "   4.35; 4.3; 4.25; 4.2; 4.15; 4.1; 4.05; 4.; 3.95; 3.9; 3.84999999999999964;\n",
       "   3.8; 3.75; 3.7; 3.65; 3.59999999999999964; 3.55; 3.5; 3.45; 3.4;\n",
       "   3.34999999999999964; 3.3; 3.25; 3.2; 3.15; 3.09999999999999964; 3.05; 3.;\n",
       "   2.94999999999999973; 2.9; 2.85; 2.8; 2.75; 2.69999999999999973; 2.65;\n",
       "   2.59999999999999964; 2.55; 2.5; 2.44999999999999973; 2.4;\n",
       "   2.34999999999999964; 2.3; 2.25; 2.19999999999999973; 2.15;\n",
       "   2.09999999999999964; 2.05; 2.; 1.94999999999999973; 1.9;\n",
       "   1.84999999999999964; 1.79999999999999982; 1.75; 1.69999999999999973; 1.65;\n",
       "   1.59999999999999964; 1.54999999999999982; 1.5; 1.44999999999999973; 1.4;\n",
       "   1.34999999999999964; 1.29999999999999982; 1.25; 1.19999999999999973; 1.15;\n",
       "   1.09999999999999964; 1.04999999999999982; 1.; 0.950000000000000178;\n",
       "   0.899999999999999467; 0.849999999999999645; 0.799999999999999822; 0.75;\n",
       "   0.700000000000000178; 0.649999999999999467; 0.599999999999999645;\n",
       "   0.549999999999999822; 0.5; 0.450000000000000178; 0.399999999999999467;\n",
       "   0.349999999999999645; 0.299999999999999822; 0.25; 0.199999999999999289;\n",
       "   0.149999999999999467; 0.0999999999999996447; 0.0499999999999998224]\n",
       "</pre>"
      ]
     },
     "execution_count": 6,
     "metadata": {},
     "output_type": "execute_result"
    },
    {
     "data": {
      "text/html": [
       "<pre style=\"color:slategray;max-height:100px;overflow:hidden\" \n",
       "onclick=\"\n",
       "if (this.style.maxHeight === 'none') \n",
       "    this.style.maxHeight = '100px';\n",
       "else\n",
       "    this.style.maxHeight = 'none'; \n",
       "\">val liste_energie_aimantation : (float * float) list =\n",
       "  [(-39204., 0.0412222222216230699); (-39692., 0.0420888888882897313);\n",
       "   (-40348., 0.0501999999994007934); (-39816., 0.0527555555549563335);\n",
       "   (-40564., 0.0544888888882896563); (-41452., 0.0615111111105118361);\n",
       "   (-41912., 0.0768222222216273232); (-43300., 0.0623999999994007196);\n",
       "   (-43720., 0.0736444444438485724); (-43696., 0.0797111111105171);\n",
       "   (-44156., 0.0834888888882960312); (-44564., 0.0989999999994118918);\n",
       "   (-46216., 0.0964222222216333247); (-46652., 0.0982666666660783339);\n",
       "   (-47348., 0.102066666666079497); (-48284., 0.105488888888302768);\n",
       "   (-48544., 0.113066666666082866); (-49320., 0.129622222221643491);\n",
       "   (-51148., 0.138599999999424017); (-51304., 0.142022222221647287);\n",
       "   (-51912., 0.158244444443874477); (-53056., 0.159022222221652493);\n",
       "   (-55760., 0.191422222221662414); (-55584., 0.185933333332771844);\n",
       "   (-57120., 0.213844444443891502); (-57712., 0.210555555555001606);\n",
       "   (-58904., 0.222466666666116364); (-60972., 0.243711111110567313);\n",
       "   (-62292., 0.255444444443897467); (-64100., 0.275466666666100812);\n",
       "   (-66084., 0.286488888888312643); (-68400., 0.31493333333273027);\n",
       "   (-69428., 0.327666666666051598); (-71500., 0.35182222222158438);\n",
       "   (-73568., 0.367777777777124892); (-76576., 0.401977777777092649);\n",
       "   (-78984., 0.415444444443746619); (-80048., 0.434422222221506504);\n",
       "   (-84468., 0.471022222221472); (-86320., 0.485088888888125402);\n",
       "   (-91440., 0.520866666665921518); (-93312., 0.539444444443728188);\n",
       "   (-96184., 0.564599999999322866); (-100312., 0.585733333332689066);\n",
       "   (-103072., 0.605955555554942737); (-107172., 0.638711111110549234);\n",
       "   (-111908., 0.667222222221704686); (-114300., 0.68637777777729);\n",
       "   (-117704., 0.706911111110655299); (-122708., 0.737444444444036118);\n",
       "   (-125524., 0.757022222221844343); (-129780., 0.779688888888546261);\n",
       "   (-134864., 0.804377777777473546); (-137132., 0.820422222221942943);\n",
       "   (-140788., 0.839377777777528); (-143700., 0.853911111110883914);\n",
       "   (-148540., 0.87879999999981151); (-151448., 0.891044444444275);\n",
       "   (-154384., 0.903644444444294592); (-155912., 0.909911111110971);\n",
       "   (-159448., 0.925266666666550441); (-162340., 0.938088888888792605);\n",
       "   (-163556., 0.942977777777689097); (-166524., 0.953844444444372663);\n",
       "   (-167900., 0.959333333333270089); (-169140., 0.964311111111055608);\n",
       "   (-171000., 0.970799999999954588); (-172576., 0.976266666666629757);\n",
       "   (-173528., 0.979377777777745706); (-175208., 0.985199999999977);\n",
       "   (-175488., 0.986377777777756592); (-176156., 0.988288888888870676);\n",
       "   (-177068., 0.991044444444430517); (-177676., 0.993222222222211681);\n",
       "   (-178336., 0.995111111111103508); (-178476., 0.995422222222215103);\n",
       "   (-178856., 0.996666666666661483); (-179284., 0.997933333333330119);\n",
       "   (-179472., 0.998488888888886539); (-179504., 0.998555555555553309);\n",
       "   (-179748., 0.999288888888887783); (-179812., 0.999466666666665837);\n",
       "   (-179928., 0.999799999999999689); (-179960., 0.999888888888888716);\n",
       "   (-179976., 0.99993333333333323); (-179976., 0.99993333333333323);\n",
       "   (-179992., 0.999977777777777743); (-180000., 1.); (-180000., 1.);\n",
       "   (-179984., 0.999955555555555486); (-180000., 1.); (-180000., 1.);\n",
       "   (-180000., 1.); (-180000., 1.); (-180000., 1.); (-180000., 1.);\n",
       "   (-180000., 1.); (-180000., 1.); (-180000., 1.); (-180000., ...); ...]\n",
       "</pre>"
      ]
     },
     "execution_count": 6,
     "metadata": {},
     "output_type": "execute_result"
    },
    {
     "data": {
      "text/html": [
       "<pre style=\"color:slategray;max-height:100px;overflow:hidden\" \n",
       "onclick=\"\n",
       "if (this.style.maxHeight === 'none') \n",
       "    this.style.maxHeight = '100px';\n",
       "else\n",
       "    this.style.maxHeight = 'none'; \n",
       "\">val liste_energie : float list =\n",
       "  [-39204.; -39692.; -40348.; -39816.; -40564.; -41452.; -41912.; -43300.;\n",
       "   -43720.; -43696.; -44156.; -44564.; -46216.; -46652.; -47348.; -48284.;\n",
       "   -48544.; -49320.; -51148.; -51304.; -51912.; -53056.; -55760.; -55584.;\n",
       "   -57120.; -57712.; -58904.; -60972.; -62292.; -64100.; -66084.; -68400.;\n",
       "   -69428.; -71500.; -73568.; -76576.; -78984.; -80048.; -84468.; -86320.;\n",
       "   -91440.; -93312.; -96184.; -100312.; -103072.; -107172.; -111908.;\n",
       "   -114300.; -117704.; -122708.; -125524.; -129780.; -134864.; -137132.;\n",
       "   -140788.; -143700.; -148540.; -151448.; -154384.; -155912.; -159448.;\n",
       "   -162340.; -163556.; -166524.; -167900.; -169140.; -171000.; -172576.;\n",
       "   -173528.; -175208.; -175488.; -176156.; -177068.; -177676.; -178336.;\n",
       "   -178476.; -178856.; -179284.; -179472.; -179504.; -179748.; -179812.;\n",
       "   -179928.; -179960.; -179976.; -179976.; -179992.; -180000.; -180000.;\n",
       "   -179984.; -180000.; -180000.; -180000.; -180000.; -180000.; -180000.;\n",
       "   -180000.; -180000.; -180000.; -180000.]\n",
       "</pre>"
      ]
     },
     "execution_count": 6,
     "metadata": {},
     "output_type": "execute_result"
    },
    {
     "data": {
      "text/html": [
       "<pre style=\"color:slategray;max-height:100px;overflow:hidden\" \n",
       "onclick=\"\n",
       "if (this.style.maxHeight === 'none') \n",
       "    this.style.maxHeight = '100px';\n",
       "else\n",
       "    this.style.maxHeight = 'none'; \n",
       "\">val liste_aimantation : float list =\n",
       "  [0.0412222222216230699; 0.0420888888882897313; 0.0501999999994007934;\n",
       "   0.0527555555549563335; 0.0544888888882896563; 0.0615111111105118361;\n",
       "   0.0768222222216273232; 0.0623999999994007196; 0.0736444444438485724;\n",
       "   0.0797111111105171; 0.0834888888882960312; 0.0989999999994118918;\n",
       "   0.0964222222216333247; 0.0982666666660783339; 0.102066666666079497;\n",
       "   0.105488888888302768; 0.113066666666082866; 0.129622222221643491;\n",
       "   0.138599999999424017; 0.142022222221647287; 0.158244444443874477;\n",
       "   0.159022222221652493; 0.191422222221662414; 0.185933333332771844;\n",
       "   0.213844444443891502; 0.210555555555001606; 0.222466666666116364;\n",
       "   0.243711111110567313; 0.255444444443897467; 0.275466666666100812;\n",
       "   0.286488888888312643; 0.31493333333273027; 0.327666666666051598;\n",
       "   0.35182222222158438; 0.367777777777124892; 0.401977777777092649;\n",
       "   0.415444444443746619; 0.434422222221506504; 0.471022222221472;\n",
       "   0.485088888888125402; 0.520866666665921518; 0.539444444443728188;\n",
       "   0.564599999999322866; 0.585733333332689066; 0.605955555554942737;\n",
       "   0.638711111110549234; 0.667222222221704686; 0.68637777777729;\n",
       "   0.706911111110655299; 0.737444444444036118; 0.757022222221844343;\n",
       "   0.779688888888546261; 0.804377777777473546; 0.820422222221942943;\n",
       "   0.839377777777528; 0.853911111110883914; 0.87879999999981151;\n",
       "   0.891044444444275; 0.903644444444294592; 0.909911111110971;\n",
       "   0.925266666666550441; 0.938088888888792605; 0.942977777777689097;\n",
       "   0.953844444444372663; 0.959333333333270089; 0.964311111111055608;\n",
       "   0.970799999999954588; 0.976266666666629757; 0.979377777777745706;\n",
       "   0.985199999999977; 0.986377777777756592; 0.988288888888870676;\n",
       "   0.991044444444430517; 0.993222222222211681; 0.995111111111103508;\n",
       "   0.995422222222215103; 0.996666666666661483; 0.997933333333330119;\n",
       "   0.998488888888886539; 0.998555555555553309; 0.999288888888887783;\n",
       "   0.999466666666665837; 0.999799999999999689; 0.999888888888888716;\n",
       "   0.99993333333333323; 0.99993333333333323; 0.999977777777777743; 1.; 1.;\n",
       "   0.999955555555555486; 1.; 1.; 1.; 1.; 1.; 1.; 1.; 1.; 1.; 1.]\n",
       "</pre>"
      ]
     },
     "execution_count": 6,
     "metadata": {},
     "output_type": "execute_result"
    },
    {
     "data": {
      "text/html": [
       "<pre style=\"color:slategray;max-height:100px;overflow:hidden\" \n",
       "onclick=\"\n",
       "if (this.style.maxHeight === 'none') \n",
       "    this.style.maxHeight = '100px';\n",
       "else\n",
       "    this.style.maxHeight = 'none'; \n",
       "\">- : unit = ()\n",
       "</pre>"
      ]
     },
     "execution_count": 6,
     "metadata": {},
     "output_type": "execute_result"
    }
   ],
   "source": [
    "let n=300;; (* taille du réseau*)\n",
    "let t = 5.;; (* température du système *)\n",
    "\n",
    "open Random;;\n",
    "Random.self_init;;\n",
    "\n",
    "let calcul t =\n",
    "    \"à compléter\"\n",
    "\n",
    "let liste_temperature = linspace 5. 0.05 100;;\n",
    "let liste_energie_aimantation = List.map calcul liste_temperature;;\n",
    "let liste_energie = List.map fst liste_energie_aimantation;;\n",
    "let liste_aimantation = List.map snd liste_energie_aimantation;;\n",
    "\n",
    "let xs = Array.of_list liste_temperature in\n",
    "let ys = Array.of_list liste_energie in\n",
    "let ys' = Array.of_list liste_aimantation in\n",
    "\n",
    "let p3 = initialisation \"graph3\" (array_min xs) (array_max xs) \n",
    "                                (array_min ys) (array_max ys) in\n",
    "P.plot ~stream:p3 [P.lines `blue xs ys;\n",
    "                  xlabel \"temperature\"; \n",
    "                  ylabel \"Energie\"];\n",
    "P.finish ~stream:p3 ();\n",
    "\n",
    "let p4 = initialisation \"graph4\" (array_min xs) (array_max xs) \n",
    "                                (array_min ys') (array_max ys') in\n",
    "P.plot ~stream:p4 [P.lines `blue xs ys';\n",
    "                  xlabel \"temperature\"; \n",
    "                  ylabel \"Aimantation moyenne\"];\n",
    "P.finish ~stream:p4 ();\n",
    "print_string \"Done\\n\";;"
   ]
  },
  {
   "cell_type": "markdown",
   "metadata": {
    "deletable": true,
    "editable": true
   },
   "source": [
    "<table>\n",
    "<tr><td><img src=\"./graph3.svg\" width=\"500\"/></td><td><img src=\"./graph4.svg\" width=\"500\"></td></tr>\n",
    "</table>"
   ]
  },
  {
   "cell_type": "code",
   "execution_count": 7,
   "metadata": {
    "collapsed": false,
    "deletable": true,
    "editable": true
   },
   "outputs": [
    {
     "name": "stdout",
     "output_type": "stream",
     "text": [
      "total 17984\n",
      "-rw-r--r-- 1 kany_francois kany_francois 279482 Jun  7 13:05 aimantation000.png\n",
      "-rw-r--r-- 1 kany_francois kany_francois 279151 Jun  7 13:05 aimantation001.png\n",
      "-rw-r--r-- 1 kany_francois kany_francois 278179 Jun  7 13:05 aimantation002.png\n",
      "-rw-r--r-- 1 kany_francois kany_francois 277381 Jun  7 13:05 aimantation003.png\n",
      "-rw-r--r-- 1 kany_francois kany_francois 277439 Jun  7 13:05 aimantation004.png\n",
      "-rw-r--r-- 1 kany_francois kany_francois 276017 Jun  7 13:06 aimantation005.png\n",
      "-rw-r--r-- 1 kany_francois kany_francois 276356 Jun  7 13:06 aimantation006.png\n",
      "-rw-r--r-- 1 kany_francois kany_francois 276490 Jun  7 13:06 aimantation007.png\n",
      "-rw-r--r-- 1 kany_francois kany_francois 275765 Jun  7 13:06 aimantation008.png\n",
      "-rw-r--r-- 1 kany_francois kany_francois 275297 Jun  7 13:06 aimantation009.png\n",
      "-rw-r--r-- 1 kany_francois kany_francois 275230 Jun  7 13:06 aimantation010.png\n",
      "-rw-r--r-- 1 kany_francois kany_francois 274723 Jun  7 13:06 aimantation011.png\n",
      "-rw-r--r-- 1 kany_francois kany_francois 274170 Jun  7 13:06 aimantation012.png\n",
      "-rw-r--r-- 1 kany_francois kany_francois 273490 Jun  7 13:06 aimantation013.png\n",
      "-rw-r--r-- 1 kany_francois kany_francois 273765 Jun  7 13:06 aimantation014.png\n",
      "-rw-r--r-- 1 kany_francois kany_francois 272923 Jun  7 13:06 aimantation015.png\n",
      "-rw-r--r-- 1 kany_francois kany_francois 271595 Jun  7 13:06 aimantation016.png\n",
      "-rw-r--r-- 1 kany_francois kany_francois 272924 Jun  7 13:06 aimantation017.png\n",
      "-rw-r--r-- 1 kany_francois kany_francois 270644 Jun  7 13:06 aimantation018.png\n",
      "-rw-r--r-- 1 kany_francois kany_francois 270559 Jun  7 13:06 aimantation019.png\n",
      "-rw-r--r-- 1 kany_francois kany_francois 270381 Jun  7 13:06 aimantation020.png\n",
      "-rw-r--r-- 1 kany_francois kany_francois 269107 Jun  7 13:06 aimantation021.png\n",
      "-rw-r--r-- 1 kany_francois kany_francois 269355 Jun  7 13:06 aimantation022.png\n",
      "-rw-r--r-- 1 kany_francois kany_francois 268168 Jun  7 13:06 aimantation023.png\n",
      "-rw-r--r-- 1 kany_francois kany_francois 266831 Jun  7 13:06 aimantation024.png\n",
      "-rw-r--r-- 1 kany_francois kany_francois 266293 Jun  7 13:06 aimantation025.png\n",
      "-rw-r--r-- 1 kany_francois kany_francois 265926 Jun  7 13:06 aimantation026.png\n",
      "-rw-r--r-- 1 kany_francois kany_francois 264818 Jun  7 13:06 aimantation027.png\n",
      "-rw-r--r-- 1 kany_francois kany_francois 265223 Jun  7 13:06 aimantation028.png\n",
      "-rw-r--r-- 1 kany_francois kany_francois 263160 Jun  7 13:06 aimantation029.png\n",
      "-rw-r--r-- 1 kany_francois kany_francois 261849 Jun  7 13:06 aimantation030.png\n",
      "-rw-r--r-- 1 kany_francois kany_francois 260260 Jun  7 13:06 aimantation031.png\n",
      "-rw-r--r-- 1 kany_francois kany_francois 260634 Jun  7 13:06 aimantation032.png\n",
      "-rw-r--r-- 1 kany_francois kany_francois 257453 Jun  7 13:06 aimantation033.png\n",
      "-rw-r--r-- 1 kany_francois kany_francois 256637 Jun  7 13:06 aimantation034.png\n",
      "-rw-r--r-- 1 kany_francois kany_francois 254959 Jun  7 13:06 aimantation035.png\n",
      "-rw-r--r-- 1 kany_francois kany_francois 253139 Jun  7 13:06 aimantation036.png\n",
      "-rw-r--r-- 1 kany_francois kany_francois 252640 Jun  7 13:06 aimantation037.png\n",
      "-rw-r--r-- 1 kany_francois kany_francois 251595 Jun  7 13:06 aimantation038.png\n",
      "-rw-r--r-- 1 kany_francois kany_francois 249651 Jun  7 13:06 aimantation039.png\n",
      "-rw-r--r-- 1 kany_francois kany_francois 248988 Jun  7 13:06 aimantation040.png\n",
      "-rw-r--r-- 1 kany_francois kany_francois 245235 Jun  7 13:06 aimantation041.png\n",
      "-rw-r--r-- 1 kany_francois kany_francois 243031 Jun  7 13:06 aimantation042.png\n",
      "-rw-r--r-- 1 kany_francois kany_francois 241184 Jun  7 13:06 aimantation043.png\n",
      "-rw-r--r-- 1 kany_francois kany_francois 237932 Jun  7 13:06 aimantation044.png\n",
      "-rw-r--r-- 1 kany_francois kany_francois 234464 Jun  7 13:06 aimantation045.png\n",
      "-rw-r--r-- 1 kany_francois kany_francois 231647 Jun  7 13:06 aimantation046.png\n",
      "-rw-r--r-- 1 kany_francois kany_francois 229036 Jun  7 13:07 aimantation047.png\n",
      "-rw-r--r-- 1 kany_francois kany_francois 225458 Jun  7 13:07 aimantation048.png\n",
      "-rw-r--r-- 1 kany_francois kany_francois 222083 Jun  7 13:07 aimantation049.png\n",
      "-rw-r--r-- 1 kany_francois kany_francois 218529 Jun  7 13:07 aimantation050.png\n",
      "-rw-r--r-- 1 kany_francois kany_francois 211607 Jun  7 13:07 aimantation051.png\n",
      "-rw-r--r-- 1 kany_francois kany_francois 204775 Jun  7 13:07 aimantation052.png\n",
      "-rw-r--r-- 1 kany_francois kany_francois 199173 Jun  7 13:07 aimantation053.png\n",
      "-rw-r--r-- 1 kany_francois kany_francois 194221 Jun  7 13:07 aimantation054.png\n",
      "-rw-r--r-- 1 kany_francois kany_francois 186096 Jun  7 13:07 aimantation055.png\n",
      "-rw-r--r-- 1 kany_francois kany_francois 176195 Jun  7 13:07 aimantation056.png\n",
      "-rw-r--r-- 1 kany_francois kany_francois 166220 Jun  7 13:07 aimantation057.png\n",
      "-rw-r--r-- 1 kany_francois kany_francois 160445 Jun  7 13:07 aimantation058.png\n",
      "-rw-r--r-- 1 kany_francois kany_francois 150931 Jun  7 13:07 aimantation059.png\n",
      "-rw-r--r-- 1 kany_francois kany_francois 145457 Jun  7 13:07 aimantation060.png\n",
      "-rw-r--r-- 1 kany_francois kany_francois 136880 Jun  7 13:07 aimantation061.png\n",
      "-rw-r--r-- 1 kany_francois kany_francois 130465 Jun  7 13:07 aimantation062.png\n",
      "-rw-r--r-- 1 kany_francois kany_francois 124230 Jun  7 13:07 aimantation063.png\n",
      "-rw-r--r-- 1 kany_francois kany_francois 118113 Jun  7 13:07 aimantation064.png\n",
      "-rw-r--r-- 1 kany_francois kany_francois 115498 Jun  7 13:07 aimantation065.png\n",
      "-rw-r--r-- 1 kany_francois kany_francois 110894 Jun  7 13:07 aimantation066.png\n",
      "-rw-r--r-- 1 kany_francois kany_francois 106286 Jun  7 13:07 aimantation067.png\n",
      "-rw-r--r-- 1 kany_francois kany_francois 101885 Jun  7 13:07 aimantation068.png\n",
      "-rw-r--r-- 1 kany_francois kany_francois  97708 Jun  7 13:07 aimantation069.png\n",
      "-rw-r--r-- 1 kany_francois kany_francois  94451 Jun  7 13:07 aimantation070.png\n",
      "-rw-r--r-- 1 kany_francois kany_francois  91334 Jun  7 13:07 aimantation071.png\n",
      "-rw-r--r-- 1 kany_francois kany_francois  88115 Jun  7 13:07 aimantation072.png\n",
      "-rw-r--r-- 1 kany_francois kany_francois  85399 Jun  7 13:07 aimantation073.png\n",
      "-rw-r--r-- 1 kany_francois kany_francois  82238 Jun  7 13:07 aimantation074.png\n",
      "-rw-r--r-- 1 kany_francois kany_francois  78551 Jun  7 13:07 aimantation075.png\n",
      "-rw-r--r-- 1 kany_francois kany_francois  76697 Jun  7 13:07 aimantation076.png\n",
      "-rw-r--r-- 1 kany_francois kany_francois  73975 Jun  7 13:07 aimantation077.png\n",
      "-rw-r--r-- 1 kany_francois kany_francois  72866 Jun  7 13:07 aimantation078.png\n",
      "-rw-r--r-- 1 kany_francois kany_francois  71101 Jun  7 13:07 aimantation079.png\n",
      "-rw-r--r-- 1 kany_francois kany_francois  69584 Jun  7 13:07 aimantation080.png\n",
      "-rw-r--r-- 1 kany_francois kany_francois  68641 Jun  7 13:07 aimantation081.png\n",
      "-rw-r--r-- 1 kany_francois kany_francois  66834 Jun  7 13:07 aimantation082.png\n",
      "-rw-r--r-- 1 kany_francois kany_francois  66256 Jun  7 13:07 aimantation083.png\n",
      "-rw-r--r-- 1 kany_francois kany_francois  64945 Jun  7 13:07 aimantation084.png\n",
      "-rw-r--r-- 1 kany_francois kany_francois  64334 Jun  7 13:07 aimantation085.png\n",
      "-rw-r--r-- 1 kany_francois kany_francois  63164 Jun  7 13:07 aimantation086.png\n",
      "-rw-r--r-- 1 kany_francois kany_francois  63113 Jun  7 13:07 aimantation087.png\n",
      "-rw-r--r-- 1 kany_francois kany_francois  62839 Jun  7 13:08 aimantation088.png\n",
      "-rw-r--r-- 1 kany_francois kany_francois  62279 Jun  7 13:08 aimantation089.png\n",
      "-rw-r--r-- 1 kany_francois kany_francois  62171 Jun  7 13:08 aimantation090.png\n",
      "-rw-r--r-- 1 kany_francois kany_francois  61847 Jun  7 13:08 aimantation091.png\n",
      "-rw-r--r-- 1 kany_francois kany_francois  61434 Jun  7 13:08 aimantation092.png\n",
      "-rw-r--r-- 1 kany_francois kany_francois  60921 Jun  7 13:08 aimantation093.png\n",
      "-rw-r--r-- 1 kany_francois kany_francois  61103 Jun  7 13:08 aimantation094.png\n",
      "-rw-r--r-- 1 kany_francois kany_francois  60455 Jun  7 13:08 aimantation095.png\n",
      "-rw-r--r-- 1 kany_francois kany_francois  60223 Jun  7 13:08 aimantation096.png\n",
      "-rw-r--r-- 1 kany_francois kany_francois  60213 Jun  7 13:08 aimantation097.png\n",
      "-rw-r--r-- 1 kany_francois kany_francois  60038 Jun  7 13:08 aimantation098.png\n",
      "-rw-r--r-- 1 kany_francois kany_francois  59784 Jun  7 13:08 aimantation099.png\n"
     ]
    },
    {
     "data": {
      "text/html": [
       "<pre style=\"color:slategray;max-height:100px;overflow:hidden\" \n",
       "onclick=\"\n",
       "if (this.style.maxHeight === 'none') \n",
       "    this.style.maxHeight = '100px';\n",
       "else\n",
       "    this.style.maxHeight = 'none'; \n",
       "\">- : Unix.process_status = WEXITED 0\n",
       "</pre>"
      ]
     },
     "execution_count": 7,
     "metadata": {},
     "output_type": "execute_result"
    },
    {
     "data": {
      "text/html": [
       "<pre style=\"color:slategray;max-height:100px;overflow:hidden\" \n",
       "onclick=\"\n",
       "if (this.style.maxHeight === 'none') \n",
       "    this.style.maxHeight = '100px';\n",
       "else\n",
       "    this.style.maxHeight = 'none'; \n",
       "\">- : unit = ()\n",
       "</pre>"
      ]
     },
     "execution_count": 7,
     "metadata": {},
     "output_type": "execute_result"
    }
   ],
   "source": [
    "open Unix;;\n",
    "Unix.system \"ls -l ./tmp\";;\n",
    "try\n",
    "   Unix.mkdir \"tmp\" 511 (* O777 *)\n",
    "with _ -> Unix.chmod \"tmp\" 511;;"
   ]
  },
  {
   "cell_type": "code",
   "execution_count": 8,
   "metadata": {
    "collapsed": false,
    "deletable": true,
    "editable": true
   },
   "outputs": [
    {
     "name": "stdout",
     "output_type": "stream",
     "text": [
      "Done\n"
     ]
    },
    {
     "data": {
      "text/html": [
       "<pre style=\"color:slategray;max-height:100px;overflow:hidden\" \n",
       "onclick=\"\n",
       "if (this.style.maxHeight === 'none') \n",
       "    this.style.maxHeight = '100px';\n",
       "else\n",
       "    this.style.maxHeight = 'none'; \n",
       "\">val n : int = 300\n",
       "</pre>"
      ]
     },
     "execution_count": 8,
     "metadata": {},
     "output_type": "execute_result"
    },
    {
     "data": {
      "text/html": [
       "<pre style=\"color:slategray;max-height:100px;overflow:hidden\" \n",
       "onclick=\"\n",
       "if (this.style.maxHeight === 'none') \n",
       "    this.style.maxHeight = '100px';\n",
       "else\n",
       "    this.style.maxHeight = 'none'; \n",
       "\">val a : int array array =\n",
       "  [|[|1; 1; 1; 1; 1; 1; 1; 1; 1; 1; 1; 1; 1; 1; 1; 1; 1; 1; 1; 1; 1; 1; 1; 1;\n",
       "      1; 1; 1; 1; 1; 1; 1; 1; 1; 1; 1; 1; 1; 1; 1; 1; 1; 1; 1; 1; 1; 1; 1; 1;\n",
       "      1; 1; 1; 1; 1; 1; 1; 1; 1; 1; 1; 1; 1; 1; 1; 1; 1; 1; 1; 1; 1; 1; 1; 1;\n",
       "      1; 1; 1; 1; 1; 1; 1; 1; 1; 1; 1; 1; 1; 1; 1; 1; 1; 1; 1; 1; 1; 1; 1; 1;\n",
       "      1; 1; 1; 1; 1; 1; 1; 1; 1; 1; 1; 1; 1; 1; 1; 1; 1; 1; 1; 1; 1; 1; 1; 1;\n",
       "      1; 1; 1; 1; 1; 1; 1; 1; 1; 1; 1; 1; 1; 1; 1; 1; 1; 1; 1; 1; 1; 1; 1; 1;\n",
       "      1; 1; 1; 1; 1; 1; 1; 1; 1; 1; 1; 1; 1; 1; 1; 1; 1; 1; 1; 1; 1; 1; 1; 1;\n",
       "      1; 1; 1; 1; 1; 1; 1; 1; 1; 1; 1; 1; 1; 1; 1; 1; 1; 1; 1; 1; 1; 1; 1; 1;\n",
       "      1; 1; 1; 1; 1; 1; 1; 1; 1; 1; 1; 1; 1; 1; 1; 1; 1; 1; 1; 1; 1; 1; 1; 1;\n",
       "      1; 1; 1; 1; 1; 1; 1; 1; 1; 1; 1; 1; 1; 1; 1; 1; 1; 1; 1; 1; 1; 1; 1; 1;\n",
       "      1; 1; 1; 1; 1; 1; 1; 1; 1; 1; 1; 1; 1; 1; 1; 1; 1; 1; 1; 1; 1; 1; 1; 1;\n",
       "      1; 1; 1; 1; 1; 1; 1; 1; 1; 1; 1; 1; 1; 1; 1; 1; 1; 1; 1; 1; 1; 1; 1; 1;\n",
       "      1; 1; 1; 1; 1; 1; 1; 1; 1; 1; ...|];\n",
       "    ...|]\n",
       "</pre>"
      ]
     },
     "execution_count": 8,
     "metadata": {},
     "output_type": "execute_result"
    },
    {
     "data": {
      "text/html": [
       "<pre style=\"color:slategray;max-height:100px;overflow:hidden\" \n",
       "onclick=\"\n",
       "if (this.style.maxHeight === 'none') \n",
       "    this.style.maxHeight = '100px';\n",
       "else\n",
       "    this.style.maxHeight = 'none'; \n",
       "\">val generation : int = 1000000\n",
       "</pre>"
      ]
     },
     "execution_count": 8,
     "metadata": {},
     "output_type": "execute_result"
    },
    {
     "data": {
      "text/html": [
       "<pre style=\"color:slategray;max-height:100px;overflow:hidden\" \n",
       "onclick=\"\n",
       "if (this.style.maxHeight === 'none') \n",
       "    this.style.maxHeight = '100px';\n",
       "else\n",
       "    this.style.maxHeight = 'none'; \n",
       "\">val calcul : float -&gt; float array array = &lt;fun&gt;\n",
       "</pre>"
      ]
     },
     "execution_count": 8,
     "metadata": {},
     "output_type": "execute_result"
    },
    {
     "data": {
      "text/html": [
       "<pre style=\"color:slategray;max-height:100px;overflow:hidden\" \n",
       "onclick=\"\n",
       "if (this.style.maxHeight === 'none') \n",
       "    this.style.maxHeight = '100px';\n",
       "else\n",
       "    this.style.maxHeight = 'none'; \n",
       "\">val zeros_of_i : int -&gt; string = &lt;fun&gt;\n",
       "</pre>"
      ]
     },
     "execution_count": 8,
     "metadata": {},
     "output_type": "execute_result"
    },
    {
     "data": {
      "text/html": [
       "<pre style=\"color:slategray;max-height:100px;overflow:hidden\" \n",
       "onclick=\"\n",
       "if (this.style.maxHeight === 'none') \n",
       "    this.style.maxHeight = '100px';\n",
       "else\n",
       "    this.style.maxHeight = 'none'; \n",
       "\">- : unit = ()\n",
       "</pre>"
      ]
     },
     "execution_count": 8,
     "metadata": {},
     "output_type": "execute_result"
    },
    {
     "data": {
      "text/html": [
       "<pre style=\"color:slategray;max-height:100px;overflow:hidden\" \n",
       "onclick=\"\n",
       "if (this.style.maxHeight === 'none') \n",
       "    this.style.maxHeight = '100px';\n",
       "else\n",
       "    this.style.maxHeight = 'none'; \n",
       "\">- : unit = ()\n",
       "</pre>"
      ]
     },
     "execution_count": 8,
     "metadata": {},
     "output_type": "execute_result"
    }
   ],
   "source": [
    "let n=300;; (* taille du réseau*)\n",
    "\n",
    "let a = Array.make_matrix n n 1;; (* matrice spins initiale *)\n",
    "let generation = 1000*1000;; (*choix du nombre de générations *)\n",
    "\n",
    "let calcul t =\n",
    "    \"à compléter\"\n",
    "\n",
    "let zeros_of_i i = if i<10 then \"00\" else if i<100 then \"0\" else \"\";;\n",
    "\n",
    "let nbre_temp = 100 in\n",
    "let liste_temperature = linspace 5. 0.05 nbre_temp in\n",
    "let width = float_of_int n in\n",
    "let height = float_of_int n in\n",
    "\n",
    "let rec animation i liste_temperature =\n",
    "    if i<nbre_temp then begin\n",
    "        let t = List.hd liste_temperature in\n",
    "        let a = calcul t in\n",
    "        let filename = \"./tmp/aimantation\"^(zeros_of_i i)^(string_of_int i)^\".png\" in\n",
    "        plsdev \"png\";\n",
    "        plsfnam filename;\n",
    "        plscolbg 255 255 255;\n",
    "        plscol0 1 0 0 0;\n",
    "        plinit ();\n",
    "        gray_cmap 2;\n",
    "        plenv 1.0 width 1.0 height 1 (-1);\n",
    "        plimage a 1.0 width 1.0 height 0.0 0.0 1.0 width 1.0 height;\n",
    "        pllab \"\" \"\" (Printf.sprintf \"Temperature = %0.2f K\" t);\n",
    "        plend ();\n",
    "        animation (i+1) (List.tl liste_temperature);\n",
    "    end in\n",
    "animation 0 liste_temperature;;\n",
    "print_string \"Done\\n\";;"
   ]
  },
  {
   "cell_type": "code",
   "execution_count": 9,
   "metadata": {
    "collapsed": false,
    "deletable": true,
    "editable": true
   },
   "outputs": [
    {
     "name": "stderr",
     "output_type": "stream",
     "text": [
      "ffmpeg version 2.8.11-0ubuntu0.16.04.1 Copyright (c) 2000-2017 the FFmpeg developers\n",
      "  built with gcc 5.4.0 (Ubuntu 5.4.0-6ubuntu1~16.04.4) 20160609\n",
      "  configuration: --prefix=/usr --extra-version=0ubuntu0.16.04.1 --build-suffix=-ffmpeg --toolchain=hardened --libdir=/usr/lib/x86_64-linux-gnu --incdir=/usr/include/x86_64-linux-gnu --cc=cc --cxx=g++ --enable-gpl --enable-shared --disable-stripping --disable-decoder=libopenjpeg --disable-decoder=libschroedinger --enable-avresample --enable-avisynth --enable-gnutls --enable-ladspa --enable-libass --enable-libbluray --enable-libbs2b --enable-libcaca --enable-libcdio --enable-libflite --enable-libfontconfig --enable-libfreetype --enable-libfribidi --enable-libgme --enable-libgsm --enable-libmodplug --enable-libmp3lame --enable-libopenjpeg --enable-libopus --enable-libpulse --enable-librtmp --enable-libschroedinger --enable-libshine --enable-libsnappy --enable-libsoxr --enable-libspeex --enable-libssh --enable-libtheora --enable-libtwolame --enable-libvorbis --enable-libvpx --enable-libwavpack --enable-libwebp --enable-libx265 --enable-libxvid --enable-libzvbi --enable-openal --enable-opengl --enable-x11grab --enable-libdc1394 --enable-libiec61883 --enable-libzmq --enable-frei0r --enable-libx264 --enable-libopencv\n",
      "  libavutil      54. 31.100 / 54. 31.100\n",
      "  libavcodec     56. 60.100 / 56. 60.100\n",
      "  libavformat    56. 40.101 / 56. 40.101\n",
      "  libavdevice    56.  4.100 / 56.  4.100\n",
      "  libavfilter     5. 40.101 /  5. 40.101\n",
      "  libavresample   2.  1.  0 /  2.  1.  0\n",
      "  libswscale      3.  1.101 /  3.  1.101\n",
      "  libswresample   1.  2.101 /  1.  2.101\n",
      "  libpostproc    53.  3.100 / 53.  3.100\n",
      "Input #0, image2, from './tmp/aimantation%03d.png':\n",
      "  Duration: 00:00:04.00, start: 0.000000, bitrate: N/A\n",
      "    Stream #0:0: Video: png, rgb24(pc), 842x595 [SAR 2834:2834 DAR 842:595], 25 fps, 25 tbr, 25 tbn, 25 tbc\n",
      "Output #0, ogg, to 'transition.ogv':\n",
      "  Metadata:\n",
      "    title           : Transition para/ferro-magnetique\n",
      "    encoder         : Lavf56.40.101\n",
      "    Stream #0:0: Video: theora (libtheora), yuv444p, 600x600 [SAR 842:595 DAR 842:595], q=2-31, 200 kb/s, 5 fps, 5 tbn, 5 tbc\n",
      "    Metadata:\n",
      "      encoder         : Lavc56.60.100 libtheora\n",
      "      title           : Transition para/ferro-magnetique\n",
      "Stream mapping:\n",
      "  Stream #0:0 -> #0:0 (png (native) -> theora (libtheora))\n",
      "Press [q] to stop, [?] for help\n",
      "frame=   22 fps= 13 q=-0.0 Lsize=     327kB time=00:00:04.40 bitrate= 608.9kbits/s dup=0 drop=78    \n",
      "video:322kB audio:0kB subtitle:0kB other streams:0kB global headers:3kB muxing overhead: 1.505512%\n"
     ]
    },
    {
     "data": {
      "text/html": [
       "<pre style=\"color:slategray;max-height:100px;overflow:hidden\" \n",
       "onclick=\"\n",
       "if (this.style.maxHeight === 'none') \n",
       "    this.style.maxHeight = '100px';\n",
       "else\n",
       "    this.style.maxHeight = 'none'; \n",
       "\">- : Unix.process_status = WEXITED 0\n",
       "</pre>"
      ]
     },
     "execution_count": 9,
     "metadata": {},
     "output_type": "execute_result"
    },
    {
     "data": {
      "text/html": [
       "<pre style=\"color:slategray;max-height:100px;overflow:hidden\" \n",
       "onclick=\"\n",
       "if (this.style.maxHeight === 'none') \n",
       "    this.style.maxHeight = '100px';\n",
       "else\n",
       "    this.style.maxHeight = 'none'; \n",
       "\">- : Unix.process_status = WEXITED 0\n",
       "</pre>"
      ]
     },
     "execution_count": 9,
     "metadata": {},
     "output_type": "execute_result"
    }
   ],
   "source": [
    "Unix.system \"rm transition.ogv\";;\n",
    "Unix.system \"ffmpeg -pattern_type sequence -i ./tmp/aimantation%03d.png -metadata title=\\\"Transition para/ferro-magnetique\\\" -s 600x600 -c:v libtheora -r 5 transition.ogv\""
   ]
  },
  {
   "cell_type": "code",
   "execution_count": 10,
   "metadata": {
    "collapsed": false,
    "deletable": true,
    "editable": true
   },
   "outputs": [
    {
     "name": "stdout",
     "output_type": "stream",
     "text": [
      "-rw-r--r-- 1 kany_francois kany_francois 334888 Jun  7 18:48 transition.ogv\n"
     ]
    },
    {
     "data": {
      "text/html": [
       "<pre style=\"color:slategray;max-height:100px;overflow:hidden\" \n",
       "onclick=\"\n",
       "if (this.style.maxHeight === 'none') \n",
       "    this.style.maxHeight = '100px';\n",
       "else\n",
       "    this.style.maxHeight = 'none'; \n",
       "\">- : Unix.process_status = WEXITED 0\n",
       "</pre>"
      ]
     },
     "execution_count": 10,
     "metadata": {},
     "output_type": "execute_result"
    }
   ],
   "source": [
    "Unix.system \"ls -l *.ogv\""
   ]
  },
  {
   "cell_type": "markdown",
   "metadata": {
    "deletable": true,
    "editable": true
   },
   "source": [
    "<video width=\"640\" height=\"480\" src=\"./transition.ogv\" controls>"
   ]
  },
  {
   "cell_type": "code",
   "execution_count": null,
   "metadata": {
    "collapsed": true,
    "deletable": true,
    "editable": true
   },
   "outputs": [],
   "source": []
  }
 ],
 "metadata": {
  "kernelspec": {
   "display_name": "OCaml",
   "language": "ocaml",
   "name": "iocaml"
  },
  "language_info": {
   "name": "ocaml",
   "version": "4.1.0"
  }
 },
 "nbformat": 4,
 "nbformat_minor": 2
}
