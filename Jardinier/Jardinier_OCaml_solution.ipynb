{
 "cells": [
  {
   "cell_type": "markdown",
   "metadata": {},
   "source": [
    "<h1>Jardinier</h1>\n",
    "\n",
    "<h2>Enoncé</h2>\n",
    "\n",
    "Un jardinier dispose d'un grand stock de fleurs bleues et de fleurs rouges. Les fleurs bleues sont en proportion $p$ et les fleurs rouges en proportion $q=1-p$ où $p\\in[0,1]$. Il en choisit au hasard $n\\times m$, avec $n,m\\in\\mathbb{N}^*$, et les plantes, également au hasard, dans un parterre rectangulaire avec $n$ lignes et $m$ colonnes. On dit qu'un ligne ou une colonne est bleue lorsqu'elle est constituée uniquement de fleurs bleues. \n",
    "\n",
    "Quelle est la probabilité $P$ de n'avoir ni ligne bleue, ni colonne bleue ?\n",
    "\n",
    "Tracer $P$ pour $p\\in[0,1]$ avec $n=m=10$, puis 50, 100, 150, 200.\n",
    "\n",
    "Comparer à la valeur théorique:\n",
    "$$P_{n,m}=\\sum_{k=0}^n(-1)^k.\\begin{pmatrix}n\\\\k\\end{pmatrix}.p^{k.m}.\\left(1-p^{n-k}\\right)^m$$\n"
   ]
  },
  {
   "cell_type": "code",
   "execution_count": 1,
   "metadata": {},
   "outputs": [
    {
     "data": {
      "text/html": [
       "<pre style=\"color:slategray;max-height:100px;overflow:hidden\" \n",
       "onclick=\"\n",
       "if (this.style.maxHeight === 'none') \n",
       "    this.style.maxHeight = '100px';\n",
       "else\n",
       "    this.style.maxHeight = 'none'; \n",
       "\">- : unit -&gt; unit = &lt;fun&gt;\n",
       "</pre>"
      ]
     },
     "execution_count": 1,
     "metadata": {},
     "output_type": "execute_result"
    },
    {
     "data": {
      "text/html": [
       "<pre style=\"color:slategray;max-height:100px;overflow:hidden\" \n",
       "onclick=\"\n",
       "if (this.style.maxHeight === 'none') \n",
       "    this.style.maxHeight = '100px';\n",
       "else\n",
       "    this.style.maxHeight = 'none'; \n",
       "\">type couleur = Bleu | Rouge\n",
       "</pre>"
      ]
     },
     "execution_count": 1,
     "metadata": {},
     "output_type": "execute_result"
    },
    {
     "data": {
      "text/html": [
       "<pre style=\"color:slategray;max-height:100px;overflow:hidden\" \n",
       "onclick=\"\n",
       "if (this.style.maxHeight === 'none') \n",
       "    this.style.maxHeight = '100px';\n",
       "else\n",
       "    this.style.maxHeight = 'none'; \n",
       "\">val choix : float -&gt; couleur = &lt;fun&gt;\n",
       "</pre>"
      ]
     },
     "execution_count": 1,
     "metadata": {},
     "output_type": "execute_result"
    },
    {
     "data": {
      "text/html": [
       "<pre style=\"color:slategray;max-height:100px;overflow:hidden\" \n",
       "onclick=\"\n",
       "if (this.style.maxHeight === 'none') \n",
       "    this.style.maxHeight = '100px';\n",
       "else\n",
       "    this.style.maxHeight = 'none'; \n",
       "\">val array_mem : 'a -&gt; 'a array -&gt; bool = &lt;fun&gt;\n",
       "</pre>"
      ]
     },
     "execution_count": 1,
     "metadata": {},
     "output_type": "execute_result"
    },
    {
     "data": {
      "text/html": [
       "<pre style=\"color:slategray;max-height:100px;overflow:hidden\" \n",
       "onclick=\"\n",
       "if (this.style.maxHeight === 'none') \n",
       "    this.style.maxHeight = '100px';\n",
       "else\n",
       "    this.style.maxHeight = 'none'; \n",
       "\">val jardin : int -&gt; int -&gt; float -&gt; bool = &lt;fun&gt;\n",
       "</pre>"
      ]
     },
     "execution_count": 1,
     "metadata": {},
     "output_type": "execute_result"
    },
    {
     "data": {
      "text/html": [
       "<pre style=\"color:slategray;max-height:100px;overflow:hidden\" \n",
       "onclick=\"\n",
       "if (this.style.maxHeight === 'none') \n",
       "    this.style.maxHeight = '100px';\n",
       "else\n",
       "    this.style.maxHeight = 'none'; \n",
       "\">val monte_carlo : int -&gt; int -&gt; float -&gt; int -&gt; float = &lt;fun&gt;\n",
       "</pre>"
      ]
     },
     "execution_count": 1,
     "metadata": {},
     "output_type": "execute_result"
    },
    {
     "data": {
      "text/html": [
       "<pre style=\"color:slategray;max-height:100px;overflow:hidden\" \n",
       "onclick=\"\n",
       "if (this.style.maxHeight === 'none') \n",
       "    this.style.maxHeight = '100px';\n",
       "else\n",
       "    this.style.maxHeight = 'none'; \n",
       "\">val k_parmi_n : int -&gt; int -&gt; float = &lt;fun&gt;\n",
       "</pre>"
      ]
     },
     "execution_count": 1,
     "metadata": {},
     "output_type": "execute_result"
    },
    {
     "data": {
      "text/html": [
       "<pre style=\"color:slategray;max-height:100px;overflow:hidden\" \n",
       "onclick=\"\n",
       "if (this.style.maxHeight === 'none') \n",
       "    this.style.maxHeight = '100px';\n",
       "else\n",
       "    this.style.maxHeight = 'none'; \n",
       "\">val theorie : int -&gt; int -&gt; float -&gt; float = &lt;fun&gt;\n",
       "</pre>"
      ]
     },
     "execution_count": 1,
     "metadata": {},
     "output_type": "execute_result"
    }
   ],
   "source": [
    "open Random;;\n",
    "Random.self_init;;\n",
    "\n",
    "type couleur = Bleu | Rouge;;\n",
    "\n",
    "let choix p =\n",
    "    if Random.float 1.<p then Bleu else Rouge\n",
    "    \n",
    "let array_mem element array =\n",
    "    let n=Array.length array in\n",
    "    let rec loop i =\n",
    "        if i=n then true else\n",
    "        array.(i)=element || loop (i+1) in\n",
    "    loop 0\n",
    "    \n",
    "let jardin n m p =\n",
    "    let plantation = Array.init n \n",
    "        (fun i-> Array.init m (fun j-> choix p)) in\n",
    "    let transpose = Array.init m \n",
    "        (fun j-> Array.init n (fun i->plantation.(i).(j))) in\n",
    "    let ligne_bleue = Array.init m (fun i->Bleu) in\n",
    "    let colonne_bleue = Array.init n (fun i->Bleu) in\n",
    "\n",
    "    (not(array_mem ligne_bleue plantation )\n",
    "    && not(array_mem colonne_bleue transpose));;\n",
    "    \n",
    "let monte_carlo n m p nbre_essais =\n",
    "    let rec loop i count =\n",
    "       if i=nbre_essais \n",
    "       then (float_of_int count)/.(float_of_int nbre_essais)\n",
    "       else if jardin n m p then loop (i+1) (count+1)\n",
    "       else loop (i+1) count in\n",
    "    loop 0 0;;\n",
    "\n",
    "let k_parmi_n k n =\n",
    "    let rec loop1 i acc =\n",
    "       if i>=n+1 then acc else loop1 (i+1) (acc*i) in\n",
    "    let rec loop2 i acc =\n",
    "       if i>=n-k+1 then acc else loop2 (i+1) (acc/i) in\n",
    "    float_of_int(loop2 2 (loop1 (k+1) 1));;\n",
    "\n",
    "let theorie n m p =\n",
    "    let rec loop k somme =\n",
    "       if k=n+1 then somme\n",
    "       else loop (k+1) (somme+.\n",
    "            (-.1.)**(float_of_int k)*.(k_parmi_n k n)*.\n",
    "            p**(float_of_int(k*m))*.\n",
    "            (1.-.p**(float_of_int(n-k)))**(float_of_int m)) in\n",
    "    loop 0 0.;;"
   ]
  },
  {
   "cell_type": "code",
   "execution_count": 2,
   "metadata": {},
   "outputs": [
    {
     "name": "stdout",
     "output_type": "stream",
     "text": [
      "- : unit = ()\n",
      "Findlib has been successfully loaded. Additional directives:\n",
      "  #require \"package\";;      to load a package\n",
      "  #list;;                   to list the available packages\n",
      "  #camlp4o;;                to load camlp4 (standard syntax)\n",
      "  #camlp4r;;                to load camlp4 (revised syntax)\n",
      "  #predicates \"p,q,...\";;   to set these predicates\n",
      "  Topfind.reset();;         to force that packages will be reloaded\n",
      "  #thread;;                 to enable threads\n",
      "\n",
      "- : unit = ()\n"
     ]
    },
    {
     "name": "stderr",
     "output_type": "stream",
     "text": [
      "/usr/lib/ocaml/plplot: added to search path\n",
      "/usr/lib/ocaml/plplot/plplot.cma: loaded\n"
     ]
    },
    {
     "data": {
      "text/html": [
       "<pre style=\"color:slategray;max-height:100px;overflow:hidden\" \n",
       "onclick=\"\n",
       "if (this.style.maxHeight === 'none') \n",
       "    this.style.maxHeight = '100px';\n",
       "else\n",
       "    this.style.maxHeight = 'none'; \n",
       "\">module P = Plplot.Plot\n",
       "</pre>"
      ]
     },
     "execution_count": 2,
     "metadata": {},
     "output_type": "execute_result"
    },
    {
     "data": {
      "text/html": [
       "<pre style=\"color:slategray;max-height:100px;overflow:hidden\" \n",
       "onclick=\"\n",
       "if (this.style.maxHeight === 'none') \n",
       "    this.style.maxHeight = '100px';\n",
       "else\n",
       "    this.style.maxHeight = 'none'; \n",
       "\">val couleurs_list : int list list =\n",
       "  [[0; 255; 255; 255]; [1; 0; 0; 0]; [2; 0; 0; 255]; [3; 255; 0; 0];\n",
       "   [4; 165; 42; 42]; [5; 0; 0; 0]; [6; 0; 0; 0]; [7; 0; 0; 0]; [8; 0; 0; 0];\n",
       "   [9; 0; 0; 0]; [10; 200; 200; 200]; [11; 0; 255; 255]; [12; 0; 255; 0];\n",
       "   [13; 255; 255; 0]; [14; 255; 0; 255]; [15; 160; 0; 213]]\n",
       "</pre>"
      ]
     },
     "execution_count": 2,
     "metadata": {},
     "output_type": "execute_result"
    },
    {
     "data": {
      "text/html": [
       "<pre style=\"color:slategray;max-height:100px;overflow:hidden\" \n",
       "onclick=\"\n",
       "if (this.style.maxHeight === 'none') \n",
       "    this.style.maxHeight = '100px';\n",
       "else\n",
       "    this.style.maxHeight = 'none'; \n",
       "\">val loop : int list list -&gt; unit = &lt;fun&gt;\n",
       "</pre>"
      ]
     },
     "execution_count": 2,
     "metadata": {},
     "output_type": "execute_result"
    },
    {
     "data": {
      "text/html": [
       "<pre style=\"color:slategray;max-height:100px;overflow:hidden\" \n",
       "onclick=\"\n",
       "if (this.style.maxHeight === 'none') \n",
       "    this.style.maxHeight = '100px';\n",
       "else\n",
       "    this.style.maxHeight = 'none'; \n",
       "\">val couleurs : unit -&gt; unit = &lt;fun&gt;\n",
       "</pre>"
      ]
     },
     "execution_count": 2,
     "metadata": {},
     "output_type": "execute_result"
    },
    {
     "data": {
      "text/html": [
       "<pre style=\"color:slategray;max-height:100px;overflow:hidden\" \n",
       "onclick=\"\n",
       "if (this.style.maxHeight === 'none') \n",
       "    this.style.maxHeight = '100px';\n",
       "else\n",
       "    this.style.maxHeight = 'none'; \n",
       "\">val initialisation : string -&gt; float -&gt; float -&gt; float -&gt; float -&gt; P.stream_t =\n",
       "  &lt;fun&gt;\n",
       "</pre>"
      ]
     },
     "execution_count": 2,
     "metadata": {},
     "output_type": "execute_result"
    },
    {
     "data": {
      "text/html": [
       "<pre style=\"color:slategray;max-height:100px;overflow:hidden\" \n",
       "onclick=\"\n",
       "if (this.style.maxHeight === 'none') \n",
       "    this.style.maxHeight = '100px';\n",
       "else\n",
       "    this.style.maxHeight = 'none'; \n",
       "\">val xlabel : string -&gt; P.plot_t = &lt;fun&gt;\n",
       "</pre>"
      ]
     },
     "execution_count": 2,
     "metadata": {},
     "output_type": "execute_result"
    },
    {
     "data": {
      "text/html": [
       "<pre style=\"color:slategray;max-height:100px;overflow:hidden\" \n",
       "onclick=\"\n",
       "if (this.style.maxHeight === 'none') \n",
       "    this.style.maxHeight = '100px';\n",
       "else\n",
       "    this.style.maxHeight = 'none'; \n",
       "\">val ylabel : string -&gt; P.plot_t = &lt;fun&gt;\n",
       "</pre>"
      ]
     },
     "execution_count": 2,
     "metadata": {},
     "output_type": "execute_result"
    },
    {
     "data": {
      "text/html": [
       "<pre style=\"color:slategray;max-height:100px;overflow:hidden\" \n",
       "onclick=\"\n",
       "if (this.style.maxHeight === 'none') \n",
       "    this.style.maxHeight = '100px';\n",
       "else\n",
       "    this.style.maxHeight = 'none'; \n",
       "\">val label : string -&gt; string -&gt; string -&gt; P.plot_t = &lt;fun&gt;\n",
       "</pre>"
      ]
     },
     "execution_count": 2,
     "metadata": {},
     "output_type": "execute_result"
    }
   ],
   "source": [
    "#use \"topfind\";;\n",
    "#require \"plplot\";;\n",
    "open Plplot;;\n",
    "module P = Plot;;\n",
    "let couleurs_list = [[ 0;255;255;255]; (*`white*)\n",
    "                     [ 1;  0;  0;  0]; (*`black*)\n",
    "                     [ 2;  0;  0;255]; (*`blue*)\n",
    "                     [ 3;255;  0;  0]; (*`red*)\n",
    "                     [ 4;165; 42; 42]; (*`brown*)\n",
    "                     [ 5;  0;  0;  0]; [ 6;  0;  0;  0]; [ 7;  0;  0;  0]; [ 8;  0;  0;  0]; [ 9;  0;  0;  0]; \n",
    "                     [10;200;200;200]; (*`gray*)\n",
    "                     [11;  0;255;255]; (*`light_blue*)\n",
    "                     [12;  0;255;  0]; (*`green*)\n",
    "                     [13;255;255;  0]; (*`yellow*)\n",
    "                     [14;255;  0;255]; (*`pink*)\n",
    "                     [15;160;  0;213]; (*`purple*) ]\n",
    "let rec loop couleurs_list = match couleurs_list with\n",
    "    | [n;r;g;b]::tl -> plscol0 n r g b; loop tl\n",
    "    | _ -> ();;\n",
    "let couleurs = (fun () -> plscolbg 255 255 255; loop couleurs_list)\n",
    "let initialisation filename xmin xmax ymin ymax = \n",
    "    P.init (xmin, ymin) (xmax, ymax) `greedy (`svg `core) ~filename:(filename^\".svg\") ~pre:couleurs\n",
    "let xlabel texte = P.text_outside `black (`bottom 0.5) 3. texte\n",
    "let ylabel texte = P.text_outside `black (`left 0.5) 5. texte \n",
    "let label texte_x texte_y titre = P.label texte_x texte_y titre"
   ]
  },
  {
   "cell_type": "code",
   "execution_count": 3,
   "metadata": {},
   "outputs": [
    {
     "data": {
      "text/html": [
       "<pre style=\"color:slategray;max-height:100px;overflow:hidden\" \n",
       "onclick=\"\n",
       "if (this.style.maxHeight === 'none') \n",
       "    this.style.maxHeight = '100px';\n",
       "else\n",
       "    this.style.maxHeight = 'none'; \n",
       "\">val linspace : float -&gt; float -&gt; int -&gt; float array = &lt;fun&gt;\n",
       "</pre>"
      ]
     },
     "execution_count": 3,
     "metadata": {},
     "output_type": "execute_result"
    },
    {
     "data": {
      "text/html": [
       "<pre style=\"color:slategray;max-height:100px;overflow:hidden\" \n",
       "onclick=\"\n",
       "if (this.style.maxHeight === 'none') \n",
       "    this.style.maxHeight = '100px';\n",
       "else\n",
       "    this.style.maxHeight = 'none'; \n",
       "\">val liste_proba : float array =\n",
       "  [|0.; 0.01; 0.02; 0.03; 0.04; 0.05; 0.06; 0.07; 0.08; 0.09; 0.1; 0.11;\n",
       "    0.12; 0.13; 0.14; 0.15; 0.16; 0.17; 0.18; 0.19; 0.2; 0.21; 0.22; 0.23;\n",
       "    0.24; 0.25; 0.26; 0.27; 0.28; 0.29; 0.3; 0.31; 0.32; 0.33; 0.34; 0.35;\n",
       "    0.36; 0.37; 0.38; 0.39; 0.4; 0.41; 0.42; 0.43; 0.44; 0.45; 0.46; 0.47;\n",
       "    0.48; 0.49; 0.5; 0.51; 0.52; 0.53; 0.54; 0.55; 0.56; 0.57; 0.58; 0.59;\n",
       "    0.6; 0.61; 0.62; 0.63; 0.64; 0.65; 0.66; 0.67; 0.68; 0.69; 0.7; 0.71;\n",
       "    0.72; 0.73; 0.74; 0.75; 0.76; 0.77; 0.78; 0.79; 0.8; 0.81; 0.82; 0.83;\n",
       "    0.84; 0.85; 0.86; 0.87; 0.88; 0.89; 0.9; 0.91; 0.92; 0.93; 0.94; 0.95;\n",
       "    0.96; 0.97; 0.98; 0.99; 1.|]\n",
       "</pre>"
      ]
     },
     "execution_count": 3,
     "metadata": {},
     "output_type": "execute_result"
    },
    {
     "data": {
      "text/html": [
       "<pre style=\"color:slategray;max-height:100px;overflow:hidden\" \n",
       "onclick=\"\n",
       "if (this.style.maxHeight === 'none') \n",
       "    this.style.maxHeight = '100px';\n",
       "else\n",
       "    this.style.maxHeight = 'none'; \n",
       "\">val liste_n : int list = [10; 50; 100; 150; 200]\n",
       "</pre>"
      ]
     },
     "execution_count": 3,
     "metadata": {},
     "output_type": "execute_result"
    },
    {
     "data": {
      "text/html": [
       "<pre style=\"color:slategray;max-height:100px;overflow:hidden\" \n",
       "onclick=\"\n",
       "if (this.style.maxHeight === 'none') \n",
       "    this.style.maxHeight = '100px';\n",
       "else\n",
       "    this.style.maxHeight = 'none'; \n",
       "\">val liste_couleurs : [&gt; `blue | `green | `light_blue | `purple | `red ] list =\n",
       "  [`blue; `red; `light_blue; `green; `purple]\n",
       "</pre>"
      ]
     },
     "execution_count": 3,
     "metadata": {},
     "output_type": "execute_result"
    }
   ],
   "source": [
    "let linspace debut fin nbre = Array.init nbre (fun i->\n",
    "    debut+.(float_of_int i)*.(fin-.debut)/.(float_of_int (nbre-1)));;\n",
    "    \n",
    "let liste_proba = linspace 0. 1. 101;;\n",
    "\n",
    "let liste_n = [10;50;100;150;200];;\n",
    "let liste_couleurs = [`blue;`red;`light_blue;`green;`purple];;"
   ]
  },
  {
   "cell_type": "code",
   "execution_count": 4,
   "metadata": {},
   "outputs": [
    {
     "data": {
      "text/html": [
       "<pre style=\"color:slategray;max-height:100px;overflow:hidden\" \n",
       "onclick=\"\n",
       "if (this.style.maxHeight === 'none') \n",
       "    this.style.maxHeight = '100px';\n",
       "else\n",
       "    this.style.maxHeight = 'none'; \n",
       "\">val loop : int list -&gt; P.color_t list -&gt; P.plot_t list -&gt; P.plot_t list =\n",
       "  &lt;fun&gt;\n",
       "</pre>"
      ]
     },
     "execution_count": 4,
     "metadata": {},
     "output_type": "execute_result"
    }
   ],
   "source": [
    "let rec loop liste_n liste_couleurs acc =\n",
    "    if liste_n=[] then acc else\n",
    "    begin\n",
    "        let n=List.hd liste_n in\n",
    "        let c=List.hd liste_couleurs in\n",
    "        print_int n;print_newline();\n",
    "        let y1 = Array.map (fun p-> monte_carlo n n p 100) liste_proba in\n",
    "        let y2 = Array.map (fun p-> theorie n n p) liste_proba in\n",
    "        loop (List.tl liste_n) (List.tl liste_couleurs) \n",
    "        ((P.points ~symbol:\"+\" c liste_proba y2)::(P.lines ~label:(\"n=\"^(string_of_int n)) c liste_proba y1)::acc)\n",
    "    end;;"
   ]
  },
  {
   "cell_type": "code",
   "execution_count": 5,
   "metadata": {},
   "outputs": [
    {
     "name": "stdout",
     "output_type": "stream",
     "text": [
      "10\n",
      "50\n",
      "100\n",
      "150\n",
      "200\n"
     ]
    },
    {
     "data": {
      "text/html": [
       "<pre style=\"color:slategray;max-height:100px;overflow:hidden\" \n",
       "onclick=\"\n",
       "if (this.style.maxHeight === 'none') \n",
       "    this.style.maxHeight = '100px';\n",
       "else\n",
       "    this.style.maxHeight = 'none'; \n",
       "\">val acc : P.plot_t list =\n",
       "  [&lt;abstr&gt;; &lt;abstr&gt;; &lt;abstr&gt;; &lt;abstr&gt;; &lt;abstr&gt;; &lt;abstr&gt;; &lt;abstr&gt;; &lt;abstr&gt;;\n",
       "   &lt;abstr&gt;; &lt;abstr&gt;]\n",
       "</pre>"
      ]
     },
     "execution_count": 5,
     "metadata": {},
     "output_type": "execute_result"
    }
   ],
   "source": [
    "let acc = loop liste_n liste_couleurs [];;"
   ]
  },
  {
   "cell_type": "code",
   "execution_count": 6,
   "metadata": {},
   "outputs": [
    {
     "data": {
      "text/html": [
       "<pre style=\"color:slategray;max-height:100px;overflow:hidden\" \n",
       "onclick=\"\n",
       "if (this.style.maxHeight === 'none') \n",
       "    this.style.maxHeight = '100px';\n",
       "else\n",
       "    this.style.maxHeight = 'none'; \n",
       "\">- : unit = ()\n",
       "</pre>"
      ]
     },
     "execution_count": 6,
     "metadata": {},
     "output_type": "execute_result"
    }
   ],
   "source": [
    "let p = initialisation \"figure2\" 0. 1. 0. 1. in\n",
    "P.plot ~stream:p (\n",
    "xlabel \"probabilité de planter une fleur bleue\"::\n",
    "ylabel \"probabilité de ne pas avoir de ligne/colonne bleue\"::\n",
    "acc);\n",
    "P.finish ~stream:p ();;"
   ]
  },
  {
   "cell_type": "markdown",
   "metadata": {},
   "source": [
    "<img src=\"figure2.svg\" />"
   ]
  },
  {
   "cell_type": "markdown",
   "metadata": {},
   "source": [
    "\n",
    "<h1>Démonstration</h1>\n",
    "\n",
    "<h2>Lois de $X_{n,m}$ et $Y_{n,m}$</h2>\n",
    "\n",
    "La variable aléatoire $X_{n,m}$ compte le nombre de succès (obtenir une ligne bleue) dans une suite de $n$ lignes bleues indépendantes avec une probabilité de succès $p^m$, donc\n",
    "$X_{n,m}\\to\\mathcal{B}(n,p^m)$.\n",
    "De même,\n",
    "$Y_{n,m}\\to\\mathcal{B}(m,p^n)$.\n",
    "\n",
    "L'événement ($X_{n,m}= n , Y_{n,m}= 0$) est impossible puisque, si toutes les lignes sont bleues, toutes les colonnes aussi. Par ailleurs, $P(X_{n,m}=n)$ et $P(Y_{n,m}=0)$ ne sont pas nuls. Par conséquent, on a $P(X_{n,m}=n , Y_{n,m}= 0) \\neq P(X_{n,m}= n).P(Y_{n,m}=0)$, ce qui\n",
    "démontre que\n",
    "$X_{n,m}$ et $Y_{n,m}$ ne sont pas indépendantes.\n",
    "\n",
    "<h2>Probabilité qu'il n'y ait aucune ligne ou colonne bleue</h2>\n",
    "\n",
    "Calcul de $p_{n,m}= P(X_{n,m}=0, Y_{n,m}=0)$ par inversion de la matrice\n",
    "de Pascal\\\\ %(Solution proposée par Claude Morin)\n",
    "\n",
    "\n",
    "Soit $1\\leq i_1< ... < i_k \\leq n$ et $1 \\leq j_1 < ... < j_l \\leq m$ et $A_{(i_1,...,i_k ),(j_1,..., j_l )}$ l'événement :\n",
    "« les lignes non entièrement bleues du parterre sont exactement les lignes $i_1, ..., i_k$\n",
    "et les colonnes non entièrement bleues du parterre sont exactement les colonnes\n",
    "$j_1, ..., j_l$ ».\n",
    "\n",
    "Si l'on barre les $n-k$ lignes bleues restantes et les $m-l$ colonnes bleues restantes,\n",
    "on obtient une matrice de type $(k, l )$ qui n'a pas de ligne ni de colonne\n",
    "bleue. Par conséquent,\n",
    "$P(A(i_1,...,i_k ),(j_1,..., j_l ))=\n",
    "P(X_{k,l}=0,Y_{k,l}=0).p^{n.m-k.l}=p_{k,l}.p^{nm-kl}$.\n",
    "\n",
    "Or les $A(i_1,...,i_k ),(j_1,..., j_l )$ forment un système complet d'évènements donc\n",
    "$$\\sum_{k=0}^n\\sum_{l=0}^m\\begin{pmatrix}n\\\\k\\end{pmatrix}.\\begin{pmatrix}m\\\\l\\end{pmatrix}.p_{k,l}.p^{nm-kl}=1.$$\n",
    "\n",
    "<h3>Lemme. (Formule d'inversion de Pascal)</h3>\n",
    "\n",
    "Si, pour tout naturel $n$, on a $g(n)=\\displaystyle\\sum_{k=0}^n\\sum_{l=0}^m\\begin{pmatrix}n\\\\k\\end{pmatrix}.f(k)$, alors pour tout $n$ on a $f(n)=\\displaystyle\\sum_{k=0}^n (-1)^{n-k}.\\begin{pmatrix}n\\\\k\\end{pmatrix}.g(k)$. (Inverser la matrice de l'endomorphisme qui à un polynôme $P\\in\\mathbb{R}_n[X]$ associe $P(X+1)$.)\n",
    "\n",
    "<h3>Corollaire. (Formule d'inversion de Pascal double)</h3>\n",
    "\n",
    "Si, pour tous naturels $n,m$, on a $g(n,m)=\\displaystyle\\sum_{k=0}^n\\sum_{l=0}^m\\begin{pmatrix}n\\\\k\\end{pmatrix}.\\begin{pmatrix}m\\\\l\\end{pmatrix}.f(k,l)$, alors, pour tous $n,m$, on a $f(n,m)=\\displaystyle\\sum_{k=0}^n\\sum_{l=0}^m\\begin{pmatrix}n\\\\k\\end{pmatrix}.\\begin{pmatrix}m\\\\l\\end{pmatrix}.(-1)^{n+m-k-l}.g(k,l)$. (Appliquer deux fois le lemme.)\n",
    "\n",
    "En appliquant cette dernière formule à $\\displaystyle\\sum_{k=0}^n\\sum_{l=0}^m\\begin{pmatrix}n\\\\k\\end{pmatrix}.\\begin{pmatrix}m\\\\l\\end{pmatrix}.p_{k,l}.p^{-kl}=p^{-nm}$, on obtient\n",
    "$p_{n,m}.p^{-nm}=\\displaystyle\\sum_{k=0}^n\\sum_{l=0}^m\n",
    "(-1)^{n+m-k-l}.\n",
    "\\begin{pmatrix}n\\\\k\\end{pmatrix}.\\begin{pmatrix}m\\\\l\\end{pmatrix}p^{-kl}$, d'où la formule\n",
    "$$p_{n,m}\\sum_{k=0}^n\\sum_{l=0}^m\n",
    "(-1)^{n+m-k-l}.\n",
    "\\begin{pmatrix}n\\\\k\\end{pmatrix}.\\begin{pmatrix}m\\\\l\\end{pmatrix}p^{nm-kl}$$\n",
    "\n",
    "Et on a bien aussi, en changeant $k$ en $n-k$ et $l$ en $m-l$,\n",
    "$$p_{n,m}=\\sum_{k=0}^n\\sum_{l=0}^m\n",
    "(-1)^{k+l}.\n",
    "\\begin{pmatrix}n\\\\k\\end{pmatrix}.\\begin{pmatrix}m\\\\l\\end{pmatrix}p^{km+ln-kl}=\n",
    "\\sum_{k=0}^n (-1)^{k}.\n",
    "\\begin{pmatrix}n\\\\k\\end{pmatrix}.p^{km}.(1-p^{n-k})^m.$$"
   ]
  },
  {
   "cell_type": "code",
   "execution_count": null,
   "metadata": {},
   "outputs": [],
   "source": []
  }
 ],
 "metadata": {
  "kernelspec": {
   "display_name": "OCaml",
   "language": "ocaml",
   "name": "iocaml"
  },
  "language_info": {
   "name": "ocaml",
   "version": "4.1.0"
  }
 },
 "nbformat": 4,
 "nbformat_minor": 2
}
