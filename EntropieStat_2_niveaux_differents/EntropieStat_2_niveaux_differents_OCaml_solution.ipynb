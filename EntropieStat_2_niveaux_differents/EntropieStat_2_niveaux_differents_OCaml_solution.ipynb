{
 "cells": [
  {
   "cell_type": "markdown",
   "metadata": {},
   "source": [
    "<h1>Entropie statistique:<br> système à 2 états de niveaux d'énergie différents</h1>\n",
    "\n",
    "<h2>Présentation</h2>\n",
    "\n",
    "On considère un système $\\Sigma$, isolé, constitué de $n_{tot}$ particules pouvant se répartir entre deux états $1$ et $2$ de d'énergies respectives $-\\varepsilon$ et $+\\varepsilon$.<br>\n",
    "\n",
    "Exemple: $n_{tot}$ spins sur un réseau (i.e. ayant une position fixe) pouvant avoir deux états (état 1 noté $\\uparrow$ et état 2 noté $\\downarrow$), sans interaction entre eux, avec champ magnétique extérieur (dans le sens $\\uparrow$).<br>\n",
    "On appelle $n_1$ le nombre de spins dans l'état $\\uparrow$ et $n_2$ le nombre de particules dans l'état $\\downarrow$.<br>\n",
    "On a: $n_1+n_2=n_{tot}$.<br>\n",
    "\n",
    "<i>Si le système est isolé, les spins peuvent avoir une interaction entre eux; si un spin se retourne sous l'action d'une telle interaction, un autre spin doit se retourner en sens inverse pour assurer la conservation de l'énergie.</i>\n",
    "\n",
    "L'énergie $e_{tot}$ d'une distribution $(n_1,n_2)$ est: $e_{tot}=n_1\\times(-\\varepsilon)+n_2\\times(+\\varepsilon)=(n_2-n_1).\\varepsilon$.<br>\n",
    "\n",
    "On suppose que les particules sont discernables (c'est le cas dans l'exemple du réseau de spins car les positions des spins sont fixes).\n",
    " \n",
    "<h2>Questions</h2>\n",
    "\n",
    "<ol>\n",
    "<li> Combien y a-t'il de micro-états particuliers $\\Omega_{n_1}$ avec $n_1$ particules dans l'état 1 (et $n_2$ particules dans l'état 2) ?\n",
    "</ol>"
   ]
  },
  {
   "cell_type": "markdown",
   "metadata": {},
   "source": [
    "<b> Solution: </b><br>\n",
    "$\\Omega_{n_1}={n_{tot}\\choose n_1}=\\frac{n_{tot}!}{n_1!\\times n_2!}$"
   ]
  },
  {
   "cell_type": "code",
   "execution_count": 1,
   "metadata": {
    "collapsed": false
   },
   "outputs": [
    {
     "name": "stdout",
     "output_type": "stream",
     "text": [
      "- : unit = ()\n",
      "Findlib has been successfully loaded. Additional directives:\n",
      "  #require \"package\";;      to load a package\n",
      "  #list;;                   to list the available packages\n",
      "  #camlp4o;;                to load camlp4 (standard syntax)\n",
      "  #camlp4r;;                to load camlp4 (revised syntax)\n",
      "  #predicates \"p,q,...\";;   to set these predicates\n",
      "  Topfind.reset();;         to force that packages will be reloaded\n",
      "  #thread;;                 to enable threads\n",
      "\n",
      "- : unit = ()\n"
     ]
    },
    {
     "name": "stderr",
     "output_type": "stream",
     "text": [
      "/usr/lib/ocaml/plplot: added to search path\n",
      "/usr/lib/ocaml/plplot/plplot.cma: loaded\n"
     ]
    },
    {
     "data": {
      "text/html": [
       "<pre style=\"color:slategray;max-height:100px;overflow:hidden\" \n",
       "onclick=\"\n",
       "if (this.style.maxHeight === 'none') \n",
       "    this.style.maxHeight = '100px';\n",
       "else\n",
       "    this.style.maxHeight = 'none'; \n",
       "\">module P = Plplot.Plot\n",
       "</pre>"
      ]
     },
     "execution_count": 1,
     "metadata": {},
     "output_type": "execute_result"
    },
    {
     "data": {
      "text/html": [
       "<pre style=\"color:slategray;max-height:100px;overflow:hidden\" \n",
       "onclick=\"\n",
       "if (this.style.maxHeight === 'none') \n",
       "    this.style.maxHeight = '100px';\n",
       "else\n",
       "    this.style.maxHeight = 'none'; \n",
       "\">val couleurs_list : int list list =\n",
       "  [[0; 255; 255; 255]; [1; 0; 0; 0]; [2; 0; 0; 255]; [3; 255; 0; 0];\n",
       "   [4; 165; 42; 42]; [5; 0; 0; 0]; [6; 0; 0; 0]; [7; 0; 0; 0]; [8; 0; 0; 0];\n",
       "   [9; 0; 0; 0]; [10; 200; 200; 200]; [11; 0; 255; 255]; [12; 0; 255; 0];\n",
       "   [13; 255; 255; 0]; [14; 255; 0; 255]; [15; 160; 0; 213]]\n",
       "</pre>"
      ]
     },
     "execution_count": 1,
     "metadata": {},
     "output_type": "execute_result"
    },
    {
     "data": {
      "text/html": [
       "<pre style=\"color:slategray;max-height:100px;overflow:hidden\" \n",
       "onclick=\"\n",
       "if (this.style.maxHeight === 'none') \n",
       "    this.style.maxHeight = '100px';\n",
       "else\n",
       "    this.style.maxHeight = 'none'; \n",
       "\">val loop : int list list -&gt; unit = &lt;fun&gt;\n",
       "</pre>"
      ]
     },
     "execution_count": 1,
     "metadata": {},
     "output_type": "execute_result"
    },
    {
     "data": {
      "text/html": [
       "<pre style=\"color:slategray;max-height:100px;overflow:hidden\" \n",
       "onclick=\"\n",
       "if (this.style.maxHeight === 'none') \n",
       "    this.style.maxHeight = '100px';\n",
       "else\n",
       "    this.style.maxHeight = 'none'; \n",
       "\">val couleurs : unit -&gt; unit = &lt;fun&gt;\n",
       "</pre>"
      ]
     },
     "execution_count": 1,
     "metadata": {},
     "output_type": "execute_result"
    },
    {
     "data": {
      "text/html": [
       "<pre style=\"color:slategray;max-height:100px;overflow:hidden\" \n",
       "onclick=\"\n",
       "if (this.style.maxHeight === 'none') \n",
       "    this.style.maxHeight = '100px';\n",
       "else\n",
       "    this.style.maxHeight = 'none'; \n",
       "\">val initialisation : string -&gt; float -&gt; float -&gt; float -&gt; float -&gt; P.stream_t =\n",
       "  &lt;fun&gt;\n",
       "</pre>"
      ]
     },
     "execution_count": 1,
     "metadata": {},
     "output_type": "execute_result"
    },
    {
     "data": {
      "text/html": [
       "<pre style=\"color:slategray;max-height:100px;overflow:hidden\" \n",
       "onclick=\"\n",
       "if (this.style.maxHeight === 'none') \n",
       "    this.style.maxHeight = '100px';\n",
       "else\n",
       "    this.style.maxHeight = 'none'; \n",
       "\">val xlabel : string -&gt; P.plot_t = &lt;fun&gt;\n",
       "</pre>"
      ]
     },
     "execution_count": 1,
     "metadata": {},
     "output_type": "execute_result"
    },
    {
     "data": {
      "text/html": [
       "<pre style=\"color:slategray;max-height:100px;overflow:hidden\" \n",
       "onclick=\"\n",
       "if (this.style.maxHeight === 'none') \n",
       "    this.style.maxHeight = '100px';\n",
       "else\n",
       "    this.style.maxHeight = 'none'; \n",
       "\">val ylabel : string -&gt; P.plot_t = &lt;fun&gt;\n",
       "</pre>"
      ]
     },
     "execution_count": 1,
     "metadata": {},
     "output_type": "execute_result"
    },
    {
     "data": {
      "text/html": [
       "<pre style=\"color:slategray;max-height:100px;overflow:hidden\" \n",
       "onclick=\"\n",
       "if (this.style.maxHeight === 'none') \n",
       "    this.style.maxHeight = '100px';\n",
       "else\n",
       "    this.style.maxHeight = 'none'; \n",
       "\">val label : string -&gt; string -&gt; string -&gt; P.plot_t = &lt;fun&gt;\n",
       "</pre>"
      ]
     },
     "execution_count": 1,
     "metadata": {},
     "output_type": "execute_result"
    }
   ],
   "source": [
    "#use \"topfind\";;\n",
    "#require \"plplot\";;\n",
    "open Plplot;;\n",
    "module P = Plot;;\n",
    "let couleurs_list = [[ 0;255;255;255]; (*`white*)\n",
    "                     [ 1;  0;  0;  0]; (*`black*)\n",
    "                     [ 2;  0;  0;255]; (*`blue*)\n",
    "                     [ 3;255;  0;  0]; (*`red*)\n",
    "                     [ 4;165; 42; 42]; (*`brown*)\n",
    "                     [ 5;  0;  0;  0]; [ 6;  0;  0;  0]; [ 7;  0;  0;  0]; [ 8;  0;  0;  0]; [ 9;  0;  0;  0]; \n",
    "                     [10;200;200;200]; (*`gray*)\n",
    "                     [11;  0;255;255]; (*`light_blue*)\n",
    "                     [12;  0;255;  0]; (*`green*)\n",
    "                     [13;255;255;  0]; (*`yellow*)\n",
    "                     [14;255;  0;255]; (*`pink*)\n",
    "                     [15;160;  0;213]; (*`purple*) ]\n",
    "let rec loop couleurs_list = match couleurs_list with\n",
    "    | [n;r;g;b]::tl -> plscol0 n r g b; loop tl\n",
    "    | _ -> ();;\n",
    "let couleurs = (fun () -> plscolbg 255 255 255; loop couleurs_list)\n",
    "let initialisation filename xmin xmax ymin ymax = \n",
    "        P.init (xmin, ymin) (xmax, ymax) `greedy (`svg `core) ~filename:(filename^\".svg\") ~pre:couleurs\n",
    "let xlabel texte = P.text_outside `black (`bottom 0.5) 3. texte\n",
    "let ylabel texte = P.text_outside `black (`left 0.5) 5. texte \n",
    "let label texte_x texte_y titre = P.label texte_x texte_y titre"
   ]
  },
  {
   "cell_type": "markdown",
   "metadata": {},
   "source": [
    "<ol start=\"2\">\n",
    "<li> Avec OCaml, tracer $\\ln(\\Omega_{n_1})/{n_{tot}}$ en fonction de $e_{tot}/n_{tot}$ pour $n_{tot}\\in[10,200]$.\n",
    "\n",
    "(Pour chaque $n_{tot}$: on fait varier $n_1$ de 0 à $n_{tot}$; on calcule $e_{tot}$ et $\\Omega_{n_1}$).\n",
    "\n",
    "Ce tracé correspond à l'entropie du système (voir Annexe).\n",
    "\n",
    "Expliquer pourquoi la fonction s'annule en $e_{tot}/n_{tot}=\\pm\\varepsilon$.\n",
    "</ol>"
   ]
  },
  {
   "cell_type": "markdown",
   "metadata": {},
   "source": [
    "<b> Solution: </b>\n",
    "$\\Omega_{1}=\\Omega_{tot}=1$ car toutes les particules sont dans le même état.\n",
    "D'où: $\\ln(\\Omega_{1})=\\ln(\\Omega_{tot})=0$"
   ]
  },
  {
   "cell_type": "code",
   "execution_count": 2,
   "metadata": {
    "collapsed": false
   },
   "outputs": [
    {
     "data": {
      "text/html": [
       "<pre style=\"color:slategray;max-height:100px;overflow:hidden\" \n",
       "onclick=\"\n",
       "if (this.style.maxHeight === 'none') \n",
       "    this.style.maxHeight = '100px';\n",
       "else\n",
       "    this.style.maxHeight = 'none'; \n",
       "\">val range : int -&gt; int -&gt; int -&gt; int list = &lt;fun&gt;\n",
       "</pre>"
      ]
     },
     "execution_count": 2,
     "metadata": {},
     "output_type": "execute_result"
    }
   ],
   "source": [
    "let range debut fin step =\n",
    "   let rec range i acc =\n",
    "     if i>=fin then List.rev acc\n",
    "     else range (i+step) (i::acc) in\n",
    "   range debut [];;"
   ]
  },
  {
   "cell_type": "code",
   "execution_count": 3,
   "metadata": {
    "collapsed": false
   },
   "outputs": [
    {
     "name": "stderr",
     "output_type": "stream",
     "text": [
      "/usr/lib/ocaml/nums.cma: loaded\n",
      "/usr/lib/ocaml/num-top: added to search path\n",
      "/usr/lib/ocaml/num-top/num_top.cma: loaded\n"
     ]
    },
    {
     "data": {
      "text/html": [
       "<pre style=\"color:slategray;max-height:100px;overflow:hidden\" \n",
       "onclick=\"\n",
       "if (this.style.maxHeight === 'none') \n",
       "    this.style.maxHeight = '100px';\n",
       "else\n",
       "    this.style.maxHeight = 'none'; \n",
       "\">val c_iter : int -&gt; int -&gt; float = &lt;fun&gt;\n",
       "</pre>"
      ]
     },
     "execution_count": 3,
     "metadata": {},
     "output_type": "execute_result"
    },
    {
     "data": {
      "text/html": [
       "<pre style=\"color:slategray;max-height:100px;overflow:hidden\" \n",
       "onclick=\"\n",
       "if (this.style.maxHeight === 'none') \n",
       "    this.style.maxHeight = '100px';\n",
       "else\n",
       "    this.style.maxHeight = 'none'; \n",
       "\">val omega : int -&gt; int -&gt; float = &lt;fun&gt;\n",
       "</pre>"
      ]
     },
     "execution_count": 3,
     "metadata": {},
     "output_type": "execute_result"
    },
    {
     "data": {
      "text/html": [
       "<pre style=\"color:slategray;max-height:100px;overflow:hidden\" \n",
       "onclick=\"\n",
       "if (this.style.maxHeight === 'none') \n",
       "    this.style.maxHeight = '100px';\n",
       "else\n",
       "    this.style.maxHeight = 'none'; \n",
       "\">val genere_listes : unit -&gt; P.plot_t list * P.legend_entry_t list list =\n",
       "  &lt;fun&gt;\n",
       "</pre>"
      ]
     },
     "execution_count": 3,
     "metadata": {},
     "output_type": "execute_result"
    },
    {
     "data": {
      "text/html": [
       "<pre style=\"color:slategray;max-height:100px;overflow:hidden\" \n",
       "onclick=\"\n",
       "if (this.style.maxHeight === 'none') \n",
       "    this.style.maxHeight = '100px';\n",
       "else\n",
       "    this.style.maxHeight = 'none'; \n",
       "\">- : unit = ()\n",
       "</pre>"
      ]
     },
     "execution_count": 3,
     "metadata": {},
     "output_type": "execute_result"
    }
   ],
   "source": [
    "#require \"num\";;\n",
    "open Num;;\n",
    "let c_iter n p =\n",
    "    let p' = (if p>n/2 then n-p else p) in\n",
    "    let rec loop num res den =\n",
    "        if num<n+1 then\n",
    "            loop (num+1) (res*/(Int num)//den) (den+/(Int 1))\n",
    "        else float_of_num res in\n",
    "    loop (p'+1) (Int 1) (Int 1);;\n",
    "\n",
    "let omega n n1 =\n",
    "    (*\n",
    "    n = nbre de particules\n",
    "    n1 = nbre de particules dans l'état 1\n",
    "    *)\n",
    "    c_iter n n1;;\n",
    "    \n",
    "\n",
    "\n",
    "let genere_listes () =\n",
    "    let energie = 1 in\n",
    "    let liste_couleurs = [`black;`blue;`red;`brown;`gray;`light_blue;`green;`yellow;`pink;`purple] in\n",
    "    let rec loop n liste_plot liste_legend liste_couleurs =\n",
    "        if n<=100 then begin\n",
    "            let liste_n1 = range 0 (n+1) 1 in      \n",
    "            let liste_energie = List.map \n",
    "                (fun n1 -> float_of_int (-n1*energie+(n-n1)*energie)/.(float_of_int n)) liste_n1 in\n",
    "            let liste_log_Omega = List.map\n",
    "                (fun n1 -> log (omega n n1) /. (float_of_int n)) liste_n1 in\n",
    "            let xs = Array.of_list liste_energie in\n",
    "            let ys = Array.of_list liste_log_Omega in\n",
    "            let couleur = List.hd liste_couleurs in\n",
    "            loop (n+10) ((P.lines couleur xs ys)::liste_plot)\n",
    "                        (([P.line_legend (\"N=\"^string_of_int n) couleur]::liste_legend))\n",
    "                        (List.tl liste_couleurs)\n",
    "            end else liste_plot, liste_legend in\n",
    "    loop 10 [] [] liste_couleurs;;\n",
    "        \n",
    "let liste_plot, liste_legend = genere_listes () in\n",
    "let p = initialisation \"graph1\" (-.1.) 1. 0. 0.7 in\n",
    "P.plot ~stream:p (liste_plot \n",
    "                @[xlabel \"Etot = (-N1.ε + N2.ε) / N\"]\n",
    "                @[ylabel \"nombre de microétats: ln(Ω)/N\"]\n",
    "                @[P.legend liste_legend]);\n",
    "P.finish ~stream:p ();;"
   ]
  },
  {
   "cell_type": "markdown",
   "metadata": {},
   "source": [
    "<img src=\"graph1.svg\" width=\"500\" />"
   ]
  },
  {
   "cell_type": "markdown",
   "metadata": {},
   "source": [
    "<ol start=\"3\">\n",
    "<li> On définit la dérivée numérique d'une liste de points par:\n",
    "<center>\n",
    "<pre>\n",
    "liste\\_derivee[i] = (liste\\_y[i+1]-liste\\_y[i]) / (liste\\_x[i+1]-liste\\_x[i])\n",
    "</pre>\n",
    "</center>\n",
    "\n",
    "Pour $n_{tot}=1000$, calculer $\\frac{\\textrm{d}\\ln(\\Omega_{n_1})}{\\textrm{d}e_{tot}}$ et tracer cette quantité en fonction de $e_{tot}/n_{tot}$.\n",
    "</ol>"
   ]
  },
  {
   "cell_type": "code",
   "execution_count": 4,
   "metadata": {
    "collapsed": false
   },
   "outputs": [
    {
     "data": {
      "text/html": [
       "<pre style=\"color:slategray;max-height:100px;overflow:hidden\" \n",
       "onclick=\"\n",
       "if (this.style.maxHeight === 'none') \n",
       "    this.style.maxHeight = '100px';\n",
       "else\n",
       "    this.style.maxHeight = 'none'; \n",
       "\">val array_min : 'a array -&gt; 'a = &lt;fun&gt;\n",
       "</pre>"
      ]
     },
     "execution_count": 4,
     "metadata": {},
     "output_type": "execute_result"
    },
    {
     "data": {
      "text/html": [
       "<pre style=\"color:slategray;max-height:100px;overflow:hidden\" \n",
       "onclick=\"\n",
       "if (this.style.maxHeight === 'none') \n",
       "    this.style.maxHeight = '100px';\n",
       "else\n",
       "    this.style.maxHeight = 'none'; \n",
       "\">val array_max : 'a array -&gt; 'a = &lt;fun&gt;\n",
       "</pre>"
      ]
     },
     "execution_count": 4,
     "metadata": {},
     "output_type": "execute_result"
    }
   ],
   "source": [
    "let array_min array = Array.fold_right min array array.(0);;\n",
    "let array_max array = Array.fold_right max array array.(0);;"
   ]
  },
  {
   "cell_type": "code",
   "execution_count": 5,
   "metadata": {
    "collapsed": false
   },
   "outputs": [
    {
     "data": {
      "text/html": [
       "<pre style=\"color:slategray;max-height:100px;overflow:hidden\" \n",
       "onclick=\"\n",
       "if (this.style.maxHeight === 'none') \n",
       "    this.style.maxHeight = '100px';\n",
       "else\n",
       "    this.style.maxHeight = 'none'; \n",
       "\">val derivee : float array -&gt; float array -&gt; float array * float array = &lt;fun&gt;\n",
       "</pre>"
      ]
     },
     "execution_count": 5,
     "metadata": {},
     "output_type": "execute_result"
    },
    {
     "data": {
      "text/html": [
       "<pre style=\"color:slategray;max-height:100px;overflow:hidden\" \n",
       "onclick=\"\n",
       "if (this.style.maxHeight === 'none') \n",
       "    this.style.maxHeight = '100px';\n",
       "else\n",
       "    this.style.maxHeight = 'none'; \n",
       "\">- : unit = ()\n",
       "</pre>"
      ]
     },
     "execution_count": 5,
     "metadata": {},
     "output_type": "execute_result"
    }
   ],
   "source": [
    "let derivee array_x array_y =\n",
    "    let n = Array.length array_x in\n",
    "    Array.init (n-1) (fun i-> array_x.(i)),\n",
    "    Array.init (n-1) (fun i-> (array_y.(i+1)-.array_y.(i))/.(array_x.(i+1)-.array_x.(i)));; \n",
    "    \n",
    "let n=1000 in\n",
    "let liste_n1 = range 0 (n+1) 1 in\n",
    "let energie = 1 in\n",
    "let liste_energie = List.map \n",
    "                (fun n1 -> float_of_int (-n1*energie+(n-n1)*energie)/.(float_of_int n)) liste_n1 in\n",
    "let liste_log_Omega = List.map\n",
    "                (fun n1 -> log (omega n n1)) liste_n1 in\n",
    "let array_e, array_1_sur_T = derivee (Array.of_list liste_energie) (Array.of_list liste_log_Omega) in\n",
    "let p = initialisation \"graph2\" (-.1.) 1. (array_min array_1_sur_T) (array_max array_1_sur_T) in\n",
    "P.plot ~stream:p [P.lines `blue array_e array_1_sur_T;\n",
    "                  xlabel \"E(tot)=(-N1.ε + N2.ε) / N\";\n",
    "                  ylabel \"1/T\"];\n",
    "P.finish ~stream:p ();;"
   ]
  },
  {
   "cell_type": "markdown",
   "metadata": {},
   "source": [
    "<img src=\"graph2.svg\" width=\"500\" />"
   ]
  },
  {
   "cell_type": "code",
   "execution_count": 6,
   "metadata": {
    "collapsed": false
   },
   "outputs": [
    {
     "data": {
      "text/html": [
       "<pre style=\"color:slategray;max-height:100px;overflow:hidden\" \n",
       "onclick=\"\n",
       "if (this.style.maxHeight === 'none') \n",
       "    this.style.maxHeight = '100px';\n",
       "else\n",
       "    this.style.maxHeight = 'none'; \n",
       "\">- : unit = ()\n",
       "</pre>"
      ]
     },
     "execution_count": 6,
     "metadata": {},
     "output_type": "execute_result"
    }
   ],
   "source": [
    "let n=1000 in\n",
    "let liste_n1 = range 0 (n+1) 1 in\n",
    "let energie = 1 in\n",
    "let liste_energie = List.map \n",
    "                (fun n1 -> float_of_int (-n1*energie+(n-n1)*energie)/.(float_of_int n)) liste_n1 in\n",
    "let liste_log_Omega = List.map\n",
    "                (fun n1 -> log (omega n n1)) liste_n1 in\n",
    "let array_e, array_1_sur_T = derivee (Array.of_list liste_energie) (Array.of_list liste_log_Omega) in\n",
    "let array_T = Array.init n (fun i-> 1./.array_1_sur_T.(i)) in\n",
    "let p = initialisation \"graph3\" (-.1.) 1. (array_min array_T) (array_max array_T) in\n",
    "P.plot ~stream:p [P.lines `blue array_e array_T;\n",
    "                  xlabel \"E(tot)=(-N1.ε + N2.ε) / N\";\n",
    "                  ylabel \"T\"];\n",
    "P.finish ~stream:p ();;"
   ]
  },
  {
   "cell_type": "markdown",
   "metadata": {},
   "source": [
    "<img src=\"graph3.svg\" width=\"500\" />"
   ]
  },
  {
   "cell_type": "markdown",
   "metadata": {},
   "source": [
    "<b> Solution: </b>\n",
    "$T$ est négative pour $e_{tot}>0$; cela correspond à une inversion de population par rapport à la distribution de Boltzmann (où les niveaux d'énergie les plus hauts sont les moins peuplés). Lorsque $e_{tot}>0$, les niveaux d'énergie les plus hauts sont les plus peuplés.\n",
    "\n",
    "On obtient des températures négatives dès qu'un système possède un nombre fini d'états individuels possibles.\n",
    "L'entropie s'annule pour $e_{tot}=e_{min}$ (toutes les particules dans l'état de basse énergie) et $e_{tot}=e_{max}$ (toutes les particules dans l'état de haute énergie). Il existe un domaine où l'entropie est une fonction décroissante de l'énergie."
   ]
  },
  {
   "cell_type": "markdown",
   "metadata": {},
   "source": [
    "<h1>Annexe</h1>\n",
    "\n",
    "<h2>Ensemble micro-canonique</h2>\n",
    "\n",
    "En physique statistique, on définit l'ensemble micro-canonique comme l'ensemble des répliques fictives d'un système réel dont l'énergie ($e_{tot}$), le volume ($V$) et le nombre de particules ($n_{tot}$) sont fixés.\n",
    "% wikipedia\n",
    "\n",
    "L'<b> hypothèse micro-canonique</b> consiste à supposer que, quand un système est <b> isolé</b> et en équilibre, celui-ci se trouve avec probabilités égales dans chacun de ses micro-états accessibles.\n",
    "%wikipedia\n",
    "\n",
    "<h2>Lien avec l'entropie</h2>\n",
    "\n",
    "On appelle entropie statistique, dans un état macroscopique donné, la quantité:\n",
    "\n",
    "$$S=-k_B.\\sum_{\\ell}P_\\ell.\\ln(P_\\ell)$$\n",
    "\n",
    "D'après l'hypothèse micro-canonique $P_\\ell=\\frac1\\Omega$ où $\\Omega$ est la nombre de micro-états accessibles.\n",
    "\n",
    "Donc: $S=-k_B.\\sum_{\\ell}P_\\ell.\\ln(P_\\ell)=-k_B.\\sum_{\\ell=1}^\\Omega\\frac1\\Omega.\\ln\\left(\\frac1\\Omega\\right)=k_B.\\Omega.\\frac1\\Omega.\\ln(\\Omega)=k_B.\\ln(\\Omega)$<br>\n",
    "\n",
    "<h2>Définition de la température</h2>\n",
    "\n",
    "La température est définie comme $\\frac1T=\\frac{\\partial\\,S}{\\partial\\,e_{tot}}$."
   ]
  },
  {
   "cell_type": "code",
   "execution_count": null,
   "metadata": {
    "collapsed": true
   },
   "outputs": [],
   "source": []
  }
 ],
 "metadata": {
  "kernelspec": {
   "display_name": "OCaml",
   "language": "ocaml",
   "name": "iocaml"
  },
  "language_info": {
   "name": "ocaml",
   "version": "4.1.0"
  }
 },
 "nbformat": 4,
 "nbformat_minor": 2
}
