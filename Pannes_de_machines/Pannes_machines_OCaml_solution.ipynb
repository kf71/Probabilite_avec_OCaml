{
 "cells": [
  {
   "cell_type": "markdown",
   "metadata": {},
   "source": [
    "<h1>Pannes machines</h1>\n",
    "\n",
    "<h2>Enoncé :</h2>\n",
    "\n",
    "Un atelier contient 10 machines identiques. On admet que la probabilité qu'une machine soit en panne est 0,124 et que\n",
    "les machines fonctionnent de manière indépendante. On appelle $X$ la variable aléatoire qui, à chaque jour, associe le nombre de machines en panne.\n",
    "\n",
    "<ol>\n",
    "<li> Ecrire une fonction <tt>simulation nbre_simulations</tt> qui effectue \"nbre_simulations\" simulations et renvoie une estimation de $X$.\n",
    "<li>Retrouver ce résultat théoriquement.\n",
    "</ol>"
   ]
  },
  {
   "cell_type": "code",
   "execution_count": 1,
   "metadata": {
    "collapsed": false
   },
   "outputs": [
    {
     "data": {
      "text/html": [
       "<pre style=\"color:slategray;max-height:100px;overflow:hidden\" \n",
       "onclick=\"\n",
       "if (this.style.maxHeight === 'none') \n",
       "    this.style.maxHeight = '100px';\n",
       "else\n",
       "    this.style.maxHeight = 'none'; \n",
       "\">- : unit -&gt; unit = &lt;fun&gt;\n",
       "</pre>"
      ]
     },
     "execution_count": 1,
     "metadata": {},
     "output_type": "execute_result"
    }
   ],
   "source": [
    "open Random;;\n",
    "Random.self_init;;"
   ]
  },
  {
   "cell_type": "code",
   "execution_count": 2,
   "metadata": {
    "collapsed": false
   },
   "outputs": [
    {
     "data": {
      "text/html": [
       "<pre style=\"color:slategray;max-height:100px;overflow:hidden\" \n",
       "onclick=\"\n",
       "if (this.style.maxHeight === 'none') \n",
       "    this.style.maxHeight = '100px';\n",
       "else\n",
       "    this.style.maxHeight = 'none'; \n",
       "\">val simulation : int -&gt; float = &lt;fun&gt;\n",
       "</pre>"
      ]
     },
     "execution_count": 2,
     "metadata": {},
     "output_type": "execute_result"
    }
   ],
   "source": [
    "let simulation nbre_simulations =\n",
    "    let p = 0.124 in\n",
    "    let nbre_machines = 10 in\n",
    "    let rec compte_pannes num_machine count =\n",
    "        if num_machine = nbre_machines then count\n",
    "        else begin\n",
    "            let r = Random.float 1. in\n",
    "            if r<p then compte_pannes (num_machine+1) (count+1)\n",
    "            else compte_pannes (num_machine+1) count;\n",
    "        end in\n",
    "\n",
    "    let rec loop num_essai count =\n",
    "       if num_essai = nbre_simulations then (float_of_int(count)/.float_of_int(nbre_simulations))\n",
    "       else loop (num_essai+1) (count+compte_pannes 0 0) in\n",
    "\n",
    "    loop 0 0;;"
   ]
  },
  {
   "cell_type": "code",
   "execution_count": 3,
   "metadata": {
    "collapsed": false
   },
   "outputs": [
    {
     "data": {
      "text/html": [
       "<pre style=\"color:slategray;max-height:100px;overflow:hidden\" \n",
       "onclick=\"\n",
       "if (this.style.maxHeight === 'none') \n",
       "    this.style.maxHeight = '100px';\n",
       "else\n",
       "    this.style.maxHeight = 'none'; \n",
       "\">val estimation : float = 1.2372\n",
       "</pre>"
      ]
     },
     "execution_count": 3,
     "metadata": {},
     "output_type": "execute_result"
    }
   ],
   "source": [
    "let estimation = simulation 10000;;\n",
    "let () = assert (1.22<estimation && estimation <1.26)"
   ]
  },
  {
   "cell_type": "markdown",
   "metadata": {},
   "source": [
    "<h2>Solution :</h2>\n",
    "\n",
    "Soit <b>p=0,124</b> la probabilité qu'une machine soit en panne.\n",
    "\n",
    "Probabilité que:\n",
    "\n",
    "<table>\n",
    "<tr><td>$x$ machine(s) donnée(s)<br> en panne </td><td width=\"100\"></td><td> $x$ machine(s) de l'atelier en panne</td></tr>\n",
    "\n",
    "\n",
    "<tr><td>$x=0$ </td><td> $(1-p)^{10}$ </td><td> $1\\times (1-p)^{10}$</td></tr>\n",
    "<tr><td>$x=1$ </td><td> $p.(1-p)^9$ </td><td> $10\\times p.(1-p)^9$</td></tr>\n",
    "<tr><td>$x=2$ </td><td> $p^2.(1-p)^8$  </td><td> $\\frac{10!}{8!\\times2!}\\times p^2.(1-p)^8$</td></tr>\n",
    "<tr><td>$x=3$ </td><td> $p^3.(1-p)^7$</td><td> $\\frac{10!}{7!\\times3!}\\times p^3.(1-p)^7$</td></tr>\n",
    "<tr><td>$x=4$ </td><td> $p^4.(1-p)^6$</td><td> $\\frac{10!}{6!\\times4!}\\times p^4.(1-p)^6$</td></tr>\n",
    "<tr><td>$x=5$ </td><td> $p^5.(1-p)^5$</td><td> $\\frac{10!}{5!\\times5!}\\times p^5.(1-p)^5$</td></tr>\n",
    "<tr><td>$x=6$ </td><td> $p^6.(1-p)^4$</td><td> $\\frac{10!}{4!\\times6!}\\times p^6.(1-p)^4$</td></tr>\n",
    "<tr><td>$x=7$ </td><td> $p^7.(1-p)^3$</td><td> $\\frac{10!}{3!\\times7!}\\times p^7.(1-p)^3$</td></tr>\n",
    "<tr><td>$x=8$ </td><td> $p^8.(1-p)^2$</td><td> $\\frac{10!}{2!\\times8!}\\times p^8.(1-p)^2$</td></tr>\n",
    "<tr><td>$x=9$ </td><td> $p^9.(1-p)^1$</td><td> $10\\times p^9.(1-p)^1$</td></tr>\n",
    "<tr><td>$x=10$ </td><td> $p^{10}$ </td><td> $1\\times p^{10}$</td></tr>\n",
    "\n",
    "</table>\n",
    "\n",
    "<table>\n",
    "\n",
    "<tr><td>$X_i$ </td><td> 0</td><td> 1 </td><td> 2 </td><td> 3 </td><td> 4 </td><td> 5 </td><td> 6 </td><td> 7 </td><td> 8  </td><td> 9 </td><td> 10</td></tr>\n",
    "\n",
    "<tr><td width=\"50\">$p(X_i)$ </td><td> 0.2661 </td><td> 0.3766 </td><td> 0.2399 </td><td> 0.0905 </td><td> 0.0224 </td><td> 0.0038 </td><td>  0.0004</td><td> 3e-5 </td><td> 1e-6 </td><td> 6e-8 </td><td> 8e-10</td></tr>\n",
    "\n",
    "</table>\n",
    "\n",
    "$E(X)=\\sum X_i \\times p(X_i)=1.2400$\n",
    "\n",
    "Ce résultat est très général pour $n$ lois binomiales indépendentes: $\\displaystyle\\sum_{i=0}^ni.\\binom{n}{i}.p^i.(1-p)^{n-i}=n.p$.\n",
    "\n",
    "<h3>Démonstration</h3>\n",
    "\n",
    "On a: $\\displaystyle(a+b)^n=\\sum_{i=0}^n\\binom{n}{i}.a^i.b^{n-i}$.\n",
    "\n",
    "En dérivant par rapport à $a$, on a: $\\displaystyle n.(a+b)^{n-1}=\\sum_{i=0}^n i.\\binom{n}{i}.a^{i-1}.b^{n-i}=\\frac{\\sum_{i=0}^n i.\\binom{n}{i}.a^{i}.b^{n-i}}{a}$.\n",
    "\n",
    "En faisant $a=p$ et $b=1-p$, on a: $n.1=\\frac{E(X)}{p}$; d'où $E(X)=n.p$."
   ]
  },
  {
   "cell_type": "code",
   "execution_count": 5,
   "metadata": {
    "collapsed": false
   },
   "outputs": [
    {
     "name": "stdout",
     "output_type": "stream",
     "text": [
      "0 10 0.266097663796 0.266097663796\n",
      "1 9 0.0376667925922 0.376667925922\n",
      "2 8 0.00533182908839 0.239932308977\n",
      "3 7 0.0007547337979 0.090568055748\n",
      "4 6 0.000106834464543 0.022435237554\n",
      "5 5 1.51226867618e-05 0.00381091706397\n",
      "6 4 2.14065429048e-06 0.000449537401001\n",
      "7 3 3.0301499089e-07 3.63617989068e-05\n",
      "8 2 4.2892532957e-08 1.93016398307e-06\n",
      "9 1 6.07154576104e-09 6.07154576104e-08\n",
      "10 0 8.59442550649e-10 8.59442550649e-10\n",
      "1.24"
     ]
    },
    {
     "data": {
      "text/html": [
       "<pre style=\"color:slategray;max-height:100px;overflow:hidden\" \n",
       "onclick=\"\n",
       "if (this.style.maxHeight === 'none') \n",
       "    this.style.maxHeight = '100px';\n",
       "else\n",
       "    this.style.maxHeight = 'none'; \n",
       "\">val theorie : unit -&gt; unit = &lt;fun&gt;\n",
       "</pre>"
      ]
     },
     "execution_count": 5,
     "metadata": {},
     "output_type": "execute_result"
    },
    {
     "data": {
      "text/html": [
       "<pre style=\"color:slategray;max-height:100px;overflow:hidden\" \n",
       "onclick=\"\n",
       "if (this.style.maxHeight === 'none') \n",
       "    this.style.maxHeight = '100px';\n",
       "else\n",
       "    this.style.maxHeight = 'none'; \n",
       "\">- : unit = ()\n",
       "</pre>"
      ]
     },
     "execution_count": 5,
     "metadata": {},
     "output_type": "execute_result"
    }
   ],
   "source": [
    "let theorie ()=\n",
    "    let rec fact n = if n=0 then 1 else n*(fact(n-1)) in\n",
    "\n",
    "    let p=0.124 in\n",
    "\n",
    "    let s= ref 0. in\n",
    "\n",
    "    for i =0 to 10 do\n",
    "        print_int i;\n",
    "        print_string \" \";\n",
    "        print_int (10-i);\n",
    "        print_string \" \";\n",
    "        print_float (p**(float_of_int i)*.(1.-.p)**float_of_int(10-i));\n",
    "        print_string \" \";\n",
    "        print_float (float_of_int(fact(10)/(fact(10-i)*fact(i)))*.p**(float_of_int i)*.(1.-.p)**(float_of_int(10-i)));\n",
    "        print_newline();\n",
    "        s:=!s+.(float_of_int(i* fact(10)/(fact(10-i)*fact(i))) *. p**(float_of_int i)*.(1.-.p)**(float_of_int (10-i)));\n",
    "    done;\n",
    "    print_float (!s);;\n",
    "theorie()"
   ]
  },
  {
   "cell_type": "code",
   "execution_count": null,
   "metadata": {
    "collapsed": true
   },
   "outputs": [],
   "source": []
  }
 ],
 "metadata": {
  "kernelspec": {
   "display_name": "OCaml",
   "language": "ocaml",
   "name": "iocaml"
  },
  "language_info": {
   "name": "ocaml",
   "version": "4.1.0"
  }
 },
 "nbformat": 4,
 "nbformat_minor": 2
}
