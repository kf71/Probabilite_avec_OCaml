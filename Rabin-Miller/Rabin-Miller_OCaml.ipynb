{
 "cells": [
  {
   "cell_type": "markdown",
   "metadata": {},
   "source": [
    "<h1> Algorithme de Rabin-Miller </h1>\n",
    "<h2> Présentation </h2>\n",
    "\n",
    "Soit un entier n.\n",
    "<ul>\n",
    "<li> Si le test de Rabin-Miller permet d’exhiber un nombre $a\\in[2; n-1]$ (appelé témoin de Miller), alors on peut en conclure avec certitude que $n$ n’est pas un nombre premier. (Le nombre $a$ témoigne que $n$ est un nombre composé).\n",
    "<li> Si le test de Rabin-Miller ne permet pas d’exhiber un témoin de Miller (après $k$ recherches d’un nombre $a\\in[2; n - 1]$), alors on peut en conclure avec une très grande probabilité que $n$ est un nombre premier. Cette probabilité peut être rendu aussi proche de 100% que l’on souhaite en augmentant le nombre de recherches $k$. Malheureusement, on ne peut pas exclure que le nombre $n$ soit premier même si on n’a pas réussit à trouver de témoin de Miller.\n",
    "<li> Si $a$ n’est pas un témoin de Miller, alors on dit que “$n$ est fortement probablement premier en base $a$”.\n",
    "<li> Si $a$ n’est pas un témoin de Miller, mais que $n$ n’est pas un nombre premier, on dit que $a$ est un “menteur fort”.\n",
    "</ul>"
   ]
  },
  {
   "cell_type": "markdown",
   "metadata": {},
   "source": [
    "<h1> Principe </h1>\n",
    "<h2> Lemme </h2>\n",
    "Dans $\\mathbb{Z}/p\\mathbb{Z}$, si $p$ est premier et si $p>2$, les seuls nombres $X$ tels que $X^2\\equiv 1$ mod $p$ sont $X=+1$ et $X=-1$. \n",
    "\n",
    "<h4>Démonstration</h4>\n",
    "$X^2\\equiv1$ mod $p$ $\\Rightarrow$ $(X-1).(X+1)\\equiv0$ mod $p$ $\\Rightarrow$ $X=\\pm1$ mod $p$.\n",
    "\n",
    "<h2>Proposition</h2>\n",
    "Soit $p$ un nombre premier avec $p>2$. On a $p-1$ pair et on peut toujours écrire: $p-1=2^s.d$ où $s$ et $d$ sont des entiers et $d$ impair (i.e. $s$ est le nombre maximum de fois que l'on peut mettre 2 en facteur dans $p-1$). <br>Pour tout $a\\in(\\mathbb{Z}/p\\mathbb{Z})^*$, on a:\n",
    "<ul>\n",
    "<li>soit $a^d\\equiv1$ mod $p$\n",
    "<li>soit il existe $r\\in[0,s-1]$ tel que $a^{2^r.d}\\equiv-1$ mod $p$\n",
    "</ul>\n",
    "\n",
    "Par contraposée, si <span style=\"border:1px solid black;padding:1px\">$a^{d}\\not \\equiv 1{\\pmod n}\\quad {{\\rm {et}}}\\quad \\forall r\\in \\{0,1,\\ldots ,s-1\\}\\quad a^{{2^{r}d}}\\not \\equiv -1{\\pmod n}$</span> alors $n$ est composé et $a$ est un témoin de Miller (que $n$ n'est pas premier).\n",
    "\n",
    "<h4>Démonstration</h4>\n",
    "D'après le petit théorème de Fermat:   $a^{p-1}=(a^d)^{2^s}\\equiv1$ mod $p$.\n",
    "En prenant de façon répétée la racine carré de $a^{p-1}$, on obtient:\n",
    "\n",
    "<ul>\n",
    "<li> soit $+1$ mod $p$ (jusqu'à $a^d\\equiv1$ mod $p$)\n",
    "<li> soit $-1$ mod $p$ (jusqu'à $(a^d)^{2^r}\\equiv-1$ mod $p$)\n",
    "</ul>\n",
    "puisque, d'après le lemme, les seules racines possibles sont $+1$ et $-1$."
   ]
  },
  {
   "cell_type": "markdown",
   "metadata": {},
   "source": [
    "<h2> Exemple </h2>\n",
    "\n",
    "Est-ce que $n = 221$ est premier ? (La réponse est non: $221=13\\times17$)<br>\n",
    "\n",
    "On a: $n - 1 = 220$ que l'on peut écrire $2^2\\times55$ (soit $s=2$ et $d=55$).<br>\n",
    "\n",
    "On choisit un nombre $a\\in[2,n-1]$ au hasard.<br>\n",
    "\n",
    "<ul> \n",
    "<li>pour $a=174$, on calcule:\n",
    "<ul>\n",
    "<li>$(a^{2^0})^d$ mod $n$ = $174^{55}$ mod 221 = 47 $\\neq\\pm1$\n",
    "<li>$(a^{2^1})^d$ mod $n$ = $174^{110}$ mod 221 = 220 $= n - 1=-1$ mod 221.\n",
    "</ul>\n",
    "Donc 174 n'est pas un témoin de Miller, 221 est fortement probablement premier en base 174. <br>\n",
    "Il faudrait le confirmer en testant d'autres valeurs de $a$.\n",
    "(En fait, 221 n'est pas premier, 174 est un menteur fort).\n",
    "<li> pour $a=137$, on calcule:<br>\n",
    "<ul>\n",
    "<li>$(a^{2^0})^d$ mod $n$ = $137^{55}$ mod 221 = 188 $\\neq\\pm1$\n",
    "<li>$(a^{2^1})^d$ mod $n$ = $137^{110}$ mod 221 = 205 $\\neq\\pm1$.\n",
    "</ul>\n",
    "Donc 137 est un témoin de Miller. 221 n'est pas premier.\n",
    "</ul>"
   ]
  },
  {
   "cell_type": "markdown",
   "metadata": {},
   "source": [
    "<h2> Algorithme et temps d'exécution </h2><br>\n",
    "<small>source : https://fr.wikipedia.org/wiki/Test_de_primalit\\%C3\\%A9_de_Miller-Rabin </small><br><br>\n",
    "La recherche d'un témoin de Miller peut se décrire algorithmiquement de la façon suivante, l'affectation est notée <tt> :=</tt> , <tt> Témoin\\_de\\_Miller(a, n)</tt> renvoie :\n",
    "<ul>\n",
    "<li>Vrai si <tt> a</tt> est un témoin de Miller que <tt> n</tt> est composé, \n",
    "<li>Faux si <tt> n</tt> est fortement pseudo-premier en base <tt> a</tt>\n",
    "</ul>\n",
    "\n",
    "<br>\n",
    "<pre>\n",
    "Témoin_de_Miller(a, n):                      \n",
    "entrées : n un entier impair >=3, a un entier >1\n",
    "     calculer s et d tels que n - 1 = 2**s * d  avec d impair  s > 0 car n impair\n",
    "     x := a**d % n    x entier reste de la division de a par n\n",
    "     si x = 1 ou x = n - 1\n",
    "       renvoyer(Faux)                                      \n",
    "       sortie : a n'est pas un témoin de Miller\n",
    "     Tant que s > 1\n",
    "          x := x**2 % n    reste de la division de x**2 par n\n",
    "          si x = n - 1\n",
    "            renvoyer(Faux)                                \n",
    "            sortie : a n'est pas un témoin de Miller\n",
    "          s := s - 1\n",
    "     Fin de boucle tant que\n",
    "     renvoyer(Vrai)                                      \n",
    "     a est un témoin de Miller, n est composé.\n",
    "</pre>"
   ]
  },
  {
   "cell_type": "markdown",
   "metadata": {},
   "source": [
    "Le test de Miller-Rabin peut alors être décrit comme suit, <tt> Miller\\_Rabin(n, k)</tt> renvoie     \n",
    "<ul> \n",
    "<li>Vrai si <tt> n</tt> est fortement pseudo-premier en base <tt> a</tt> pour <tt> k</tt> entiers <tt> a</tt>,\n",
    "<li>Faux s'il est composé.\n",
    "</ul>\n",
    "\n",
    "<pre>\n",
    "Miller-Rabin(n,k):\n",
    "   #entrées : n un entier impair >=3, k un entier >=1\n",
    "   répéter k fois :\n",
    "      choisir a aléatoirement dans l'intervalle [2, n–1]\n",
    "      si Témoin_de_Miller(a,n)\n",
    "        renvoyer(Faux) #sortie, n est composé\n",
    "   Fin de boucle répéter\n",
    "   renvoyer(Vrai) #sortie, n est probablement premier  \n",
    "                           si k est suffisamment grand       \n",
    "</pre>"
   ]
  },
  {
   "cell_type": "markdown",
   "metadata": {},
   "source": [
    "La décomposition $n - 1 = 2^s.d$ avec $d$ impair se calcule en $O(\\log(n))$ par une boucle simple. Ce calcul pourrait être factorisé pour être effectué une seule fois dans le test de Miller-Rabin.\n",
    "\n",
    "Le calcul du reste de la division $a^d$ par $n$ puis les élévations au carré successives sont des calculs d'exponentiation modulaire. Par exponentiation rapide, le calcul se fait en $O((\\log d)(\\log n)^2)$ pour le calcul initial, suivi de $s$ ($\\leq\\log(n)$) élévations au carré en $O((\\log n)^2$). Le temps de calcul du premier algorithme, le test que $a$ est ou non un témoin de Miller pour $n$ est donc en $O((\\log n)^3$). Le temps de calcul du test de Miller-Rabin est donc en $O(k.(\\log n)^3$) ; ainsi cet algorithme est en temps polynomial et efficace.\n"
   ]
  },
  {
   "cell_type": "markdown",
   "metadata": {},
   "source": [
    "<h2>Question</h2><br>\n",
    "<ol>\n",
    "<li>Coder les fonctions <tt> Temoin\\_de\\_Miller(a, n)</tt> et <tt> Miller\\_Rabin(n,k)</tt>.\n",
    "<li>Tester si 4547337172376300111955330758342147474062293202868155909489 est premier.\n",
    "<li>Tester si 4547337172376300111955330758342147474062293202868155909393 est premier.\n",
    "</ol>"
   ]
  },
  {
   "cell_type": "markdown",
   "metadata": {},
   "source": [
    "<h2>Annexe</h2><br>\n",
    "On peut rendre le rendre le test de Miller-Rabin déterministe en testant, non pas des valeurs de $a$ aléatoires, mais au contraire un très petit nombre de valeurs de $a$ pré-déterminées.\n",
    "\n",
    "En pratique:\n",
    "<ul>\n",
    "<li>pour $n < 2\\,047$, il suffit de tester a = 2;\n",
    "<li>si $n < 1\\,373,653$, il suffit de tester a = 2 et 3;\n",
    "<li>si $n < 9\\,080\\,191$, il suffit de tester a = 31 et 73;\n",
    "<li>si $n < 25\\,326\\,001$, il suffit de tester a = 2, 3 et 5;\n",
    "<li>si $n < 3\\,215\\,031\\,751$, il suffit de tester a = 2, 3, 5 et 7;\n",
    "<li>si $n < 4\\,759,123\\,141$, il suffit de tester a = 2, 7 et 61;\n",
    "<li>si $n < 1\\,122\\,004\\,669\\,633$, il suffit de tester a = 2, 13, 23 et 1662803;\n",
    "<li>si $n < 2\\,152\\,302\\,898\\,747$, il suffit de tester a = 2, 3, 5, 7 et 11;\n",
    "<li>si $n < 3\\,474\\,749\\,660\\,383$, il suffit de tester a = 2, 3, 5, 7, 11 et 13;\n",
    "<li>si $n < 341\\,550\\,071\\,728\\,321$, il suffit de tester a = 2, 3, 5, 7, 11, 13 et 17.\n",
    "</ul>"
   ]
  },
  {
   "cell_type": "markdown",
   "metadata": {},
   "source": [
    "<h2> Solution </h2>"
   ]
  },
  {
   "cell_type": "code",
   "execution_count": 1,
   "metadata": {
    "collapsed": false
   },
   "outputs": [
    {
     "data": {
      "text/html": [
       "<pre style=\"color:slategray;max-height:100px;overflow:hidden\" \n",
       "onclick=\"\n",
       "if (this.style.maxHeight === 'none') \n",
       "    this.style.maxHeight = '100px';\n",
       "else\n",
       "    this.style.maxHeight = 'none'; \n",
       "\">- : unit -&gt; unit = &lt;fun&gt;\n",
       "</pre>"
      ]
     },
     "execution_count": 1,
     "metadata": {},
     "output_type": "execute_result"
    }
   ],
   "source": [
    "open Random;;\n",
    "Random.self_init;;"
   ]
  },
  {
   "cell_type": "code",
   "execution_count": 2,
   "metadata": {
    "collapsed": false
   },
   "outputs": [
    {
     "data": {
      "text/html": [
       "<pre style=\"color:slategray;max-height:100px;overflow:hidden\" \n",
       "onclick=\"\n",
       "if (this.style.maxHeight === 'none') \n",
       "    this.style.maxHeight = '100px';\n",
       "else\n",
       "    this.style.maxHeight = 'none'; \n",
       "\">val temoin_Miller : int -&gt; int -&gt; bool = &lt;fun&gt;\n",
       "</pre>"
      ]
     },
     "execution_count": 2,
     "metadata": {},
     "output_type": "execute_result"
    }
   ],
   "source": [
    "let temoin_Miller n a =\n",
    "    (* determination de s et d tels que n-1 = 2**s * d *)\n",
    "    let s= ref 0 in\n",
    "    let m= ref (n-1) in\n",
    "    while !m mod 2 =0 do\n",
    "        incr s;\n",
    "        m := !m/2;\n",
    "    done;\n",
    "    let d = ref !m in\n",
    "    let a_ = ref a in\n",
    "    \n",
    "    (* calcul de x = a**d % n *)\n",
    "    let x= ref 1 in\n",
    "    while !d>0 do\n",
    "        if (!d mod 2)<>0 then\n",
    "            x := (!x * !a_) mod n;\n",
    "        a_ := (!a_* !a_) mod n;\n",
    "        d := !d/2;\n",
    "    done;\n",
    "    \n",
    "    if !x=1 || !x = (n-1) then false\n",
    "    else begin\n",
    "    \n",
    "    let continue = ref true in\n",
    "    while !continue && !s>1 do\n",
    "        x := (!x * !x) mod n;\n",
    "        if !x = (n-1) then\n",
    "            continue := false;\n",
    "        decr s;\n",
    "    done;\n",
    "    !continue;\n",
    "    end;;"
   ]
  },
  {
   "cell_type": "code",
   "execution_count": 3,
   "metadata": {
    "collapsed": false
   },
   "outputs": [
    {
     "data": {
      "text/html": [
       "<pre style=\"color:slategray;max-height:100px;overflow:hidden\" \n",
       "onclick=\"\n",
       "if (this.style.maxHeight === 'none') \n",
       "    this.style.maxHeight = '100px';\n",
       "else\n",
       "    this.style.maxHeight = 'none'; \n",
       "\">val test_Miller_Rabin : int -&gt; int -&gt; bool = &lt;fun&gt;\n",
       "</pre>"
      ]
     },
     "execution_count": 3,
     "metadata": {},
     "output_type": "execute_result"
    }
   ],
   "source": [
    "let test_Miller_Rabin n k =\n",
    "    match n with\n",
    "    | 2 | 3 | 5 -> true\n",
    "    | _ -> let trouve = ref true in\n",
    "        let i = ref 0 in \n",
    "        while !trouve && !i<k do\n",
    "          let a=2+Random.int(n-2) in (* entre 2 et n-1 inclus *)\n",
    "          if temoin_Miller n a then trouve := false;\n",
    "          incr i;\n",
    "        done; !trouve;;"
   ]
  },
  {
   "cell_type": "code",
   "execution_count": 4,
   "metadata": {
    "collapsed": false
   },
   "outputs": [
    {
     "name": "stdout",
     "output_type": "stream",
     "text": [
      "2,3,5,7,11,13,17,19,23,29,31,37,41,43,47,53,59,61,67,71,73,79,83,89,97,"
     ]
    },
    {
     "data": {
      "text/html": [
       "<pre style=\"color:slategray;max-height:100px;overflow:hidden\" \n",
       "onclick=\"\n",
       "if (this.style.maxHeight === 'none') \n",
       "    this.style.maxHeight = '100px';\n",
       "else\n",
       "    this.style.maxHeight = 'none'; \n",
       "\">- : unit = ()\n",
       "</pre>"
      ]
     },
     "execution_count": 4,
     "metadata": {},
     "output_type": "execute_result"
    }
   ],
   "source": [
    "for n = 2 to 99 do \n",
    "  if test_Miller_Rabin n 2 then begin\n",
    "        print_int n;print_string \",\"\n",
    "  end;done;;"
   ]
  },
  {
   "cell_type": "code",
   "execution_count": 5,
   "metadata": {
    "collapsed": false
   },
   "outputs": [],
   "source": [
    "(* test_Miller_Rabin 4547337172376300111955330758342147474062293202868155909489 5 *)"
   ]
  },
  {
   "cell_type": "code",
   "execution_count": null,
   "metadata": {
    "collapsed": true
   },
   "outputs": [],
   "source": []
  }
 ],
 "metadata": {
  "kernelspec": {
   "display_name": "OCaml",
   "language": "ocaml",
   "name": "iocaml"
  },
  "language_info": {
   "name": "ocaml",
   "version": "4.1.0"
  }
 },
 "nbformat": 4,
 "nbformat_minor": 2
}
