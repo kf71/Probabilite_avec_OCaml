{
 "cells": [
  {
   "cell_type": "markdown",
   "metadata": {
    "deletable": true,
    "editable": true
   },
   "source": [
    "<h1>TD n°3</h1>\n",
    "\n",
    "<h2>Exercice 1.</h2>\n",
    "\n",
    "Objectif : Compréhension de la commande <tt>random()</tt>\n",
    "<br>\n",
    "\n",
    "La commande <tt>random()</tt> permet de tirer un réel au hasard dans l'intervalle $[0,1]$.\n",
    "\n",
    "Pour comprendre ce que cela signifie et l'utilisation que l'on peut en faire, écrire un programme, ayant en argument  2 réels $a$, $b$  de $[0,1]$  ($0<a<b$) et le nombre $r$  de fois que vous allez tirer au hasard un réel dans $[0,1]$, à l'aide la commande <tt>random()</tt>, pour estimer la probabilité que le réel soit compris entre $a$ et $b$.\n",
    "\n",
    "Que constatez-vous ?"
   ]
  },
  {
   "cell_type": "code",
   "execution_count": 1,
   "metadata": {
    "collapsed": false,
    "deletable": true,
    "editable": true
   },
   "outputs": [
    {
     "name": "stdout",
     "output_type": "stream",
     "text": [
      "- : unit = ()\n",
      "Findlib has been successfully loaded. Additional directives:\n",
      "  #require \"package\";;      to load a package\n",
      "  #list;;                   to list the available packages\n",
      "  #camlp4o;;                to load camlp4 (standard syntax)\n",
      "  #camlp4r;;                to load camlp4 (revised syntax)\n",
      "  #predicates \"p,q,...\";;   to set these predicates\n",
      "  Topfind.reset();;         to force that packages will be reloaded\n",
      "  #thread;;                 to enable threads\n",
      "\n",
      "- : unit = ()\n"
     ]
    },
    {
     "name": "stderr",
     "output_type": "stream",
     "text": [
      "/usr/lib/ocaml/plplot: added to search path\n",
      "/usr/lib/ocaml/plplot/plplot.cma: loaded\n"
     ]
    },
    {
     "data": {
      "text/html": [
       "<pre style=\"color:slategray;max-height:100px;overflow:hidden\" \n",
       "onclick=\"\n",
       "if (this.style.maxHeight === 'none') \n",
       "    this.style.maxHeight = '100px';\n",
       "else\n",
       "    this.style.maxHeight = 'none'; \n",
       "\">- : unit -&gt; unit = &lt;fun&gt;\n",
       "</pre>"
      ]
     },
     "execution_count": 1,
     "metadata": {},
     "output_type": "execute_result"
    },
    {
     "data": {
      "text/html": [
       "<pre style=\"color:slategray;max-height:100px;overflow:hidden\" \n",
       "onclick=\"\n",
       "if (this.style.maxHeight === 'none') \n",
       "    this.style.maxHeight = '100px';\n",
       "else\n",
       "    this.style.maxHeight = 'none'; \n",
       "\">module P = Plplot.Plot\n",
       "</pre>"
      ]
     },
     "execution_count": 1,
     "metadata": {},
     "output_type": "execute_result"
    },
    {
     "data": {
      "text/html": [
       "<pre style=\"color:slategray;max-height:100px;overflow:hidden\" \n",
       "onclick=\"\n",
       "if (this.style.maxHeight === 'none') \n",
       "    this.style.maxHeight = '100px';\n",
       "else\n",
       "    this.style.maxHeight = 'none'; \n",
       "\">val couleurs_list : int list list =\n",
       "  [[0; 255; 255; 255]; [1; 0; 0; 0]; [2; 0; 0; 255]; [3; 255; 0; 0];\n",
       "   [4; 165; 42; 42]; [5; 0; 0; 0]; [6; 0; 0; 0]; [7; 0; 0; 0]; [8; 0; 0; 0];\n",
       "   [9; 0; 0; 0]; [10; 200; 200; 200]; [11; 0; 255; 255]; [12; 0; 255; 0];\n",
       "   [13; 255; 255; 0]; [14; 255; 0; 255]; [15; 160; 0; 213]]\n",
       "</pre>"
      ]
     },
     "execution_count": 1,
     "metadata": {},
     "output_type": "execute_result"
    },
    {
     "data": {
      "text/html": [
       "<pre style=\"color:slategray;max-height:100px;overflow:hidden\" \n",
       "onclick=\"\n",
       "if (this.style.maxHeight === 'none') \n",
       "    this.style.maxHeight = '100px';\n",
       "else\n",
       "    this.style.maxHeight = 'none'; \n",
       "\">val loop : int list list -&gt; unit = &lt;fun&gt;\n",
       "</pre>"
      ]
     },
     "execution_count": 1,
     "metadata": {},
     "output_type": "execute_result"
    },
    {
     "data": {
      "text/html": [
       "<pre style=\"color:slategray;max-height:100px;overflow:hidden\" \n",
       "onclick=\"\n",
       "if (this.style.maxHeight === 'none') \n",
       "    this.style.maxHeight = '100px';\n",
       "else\n",
       "    this.style.maxHeight = 'none'; \n",
       "\">val couleurs : unit -&gt; unit = &lt;fun&gt;\n",
       "</pre>"
      ]
     },
     "execution_count": 1,
     "metadata": {},
     "output_type": "execute_result"
    },
    {
     "data": {
      "text/html": [
       "<pre style=\"color:slategray;max-height:100px;overflow:hidden\" \n",
       "onclick=\"\n",
       "if (this.style.maxHeight === 'none') \n",
       "    this.style.maxHeight = '100px';\n",
       "else\n",
       "    this.style.maxHeight = 'none'; \n",
       "\">val initialisation : string -&gt; float -&gt; float -&gt; float -&gt; float -&gt; P.stream_t =\n",
       "  &lt;fun&gt;\n",
       "</pre>"
      ]
     },
     "execution_count": 1,
     "metadata": {},
     "output_type": "execute_result"
    },
    {
     "data": {
      "text/html": [
       "<pre style=\"color:slategray;max-height:100px;overflow:hidden\" \n",
       "onclick=\"\n",
       "if (this.style.maxHeight === 'none') \n",
       "    this.style.maxHeight = '100px';\n",
       "else\n",
       "    this.style.maxHeight = 'none'; \n",
       "\">val xlabel : string -&gt; P.plot_t = &lt;fun&gt;\n",
       "</pre>"
      ]
     },
     "execution_count": 1,
     "metadata": {},
     "output_type": "execute_result"
    },
    {
     "data": {
      "text/html": [
       "<pre style=\"color:slategray;max-height:100px;overflow:hidden\" \n",
       "onclick=\"\n",
       "if (this.style.maxHeight === 'none') \n",
       "    this.style.maxHeight = '100px';\n",
       "else\n",
       "    this.style.maxHeight = 'none'; \n",
       "\">val ylabel : string -&gt; P.plot_t = &lt;fun&gt;\n",
       "</pre>"
      ]
     },
     "execution_count": 1,
     "metadata": {},
     "output_type": "execute_result"
    },
    {
     "data": {
      "text/html": [
       "<pre style=\"color:slategray;max-height:100px;overflow:hidden\" \n",
       "onclick=\"\n",
       "if (this.style.maxHeight === 'none') \n",
       "    this.style.maxHeight = '100px';\n",
       "else\n",
       "    this.style.maxHeight = 'none'; \n",
       "\">val label : string -&gt; string -&gt; string -&gt; P.plot_t = &lt;fun&gt;\n",
       "</pre>"
      ]
     },
     "execution_count": 1,
     "metadata": {},
     "output_type": "execute_result"
    }
   ],
   "source": [
    "open Random;;\n",
    "Random.self_init;;\n",
    "#use \"topfind\";;\n",
    "#require \"plplot\";;\n",
    "open Plplot;;\n",
    "module P = Plot;;\n",
    "let couleurs_list = [[ 0;255;255;255]; (*`white*)\n",
    "                     [ 1;  0;  0;  0]; (*`black*)\n",
    "                     [ 2;  0;  0;255]; (*`blue*)\n",
    "                     [ 3;255;  0;  0]; (*`red*)\n",
    "                     [ 4;165; 42; 42]; (*`brown*)\n",
    "                     [ 5;  0;  0;  0]; [ 6;  0;  0;  0]; [ 7;  0;  0;  0]; [ 8;  0;  0;  0]; [ 9;  0;  0;  0]; \n",
    "                     [10;200;200;200]; (*`gray*)\n",
    "                     [11;  0;255;255]; (*`light_blue*)\n",
    "                     [12;  0;255;  0]; (*`green*)\n",
    "                     [13;255;255;  0]; (*`yellow*)\n",
    "                     [14;255;  0;255]; (*`pink*)\n",
    "                     [15;160;  0;213]; (*`purple*) ]\n",
    "let rec loop couleurs_list = match couleurs_list with\n",
    "    | [n;r;g;b]::tl -> plscol0 n r g b; loop tl\n",
    "    | _ -> ();;\n",
    "let couleurs = (fun () -> plscolbg 255 255 255; loop couleurs_list)\n",
    "let initialisation filename xmin xmax ymin ymax = \n",
    "        P.init (xmin, ymin) (xmax, ymax) `greedy (`svg `core) ~filename:(filename^\".svg\") ~pre:couleurs\n",
    "let xlabel texte = P.text_outside `black (`bottom 0.5) 3. texte\n",
    "let ylabel texte = P.text_outside `black (`left 0.5) 5. texte \n",
    "let label texte_x texte_y titre = P.label texte_x texte_y titre"
   ]
  },
  {
   "cell_type": "code",
   "execution_count": 2,
   "metadata": {
    "collapsed": false,
    "deletable": true,
    "editable": true
   },
   "outputs": [
    {
     "data": {
      "text/html": [
       "<pre style=\"color:slategray;max-height:100px;overflow:hidden\" \n",
       "onclick=\"\n",
       "if (this.style.maxHeight === 'none') \n",
       "    this.style.maxHeight = '100px';\n",
       "else\n",
       "    this.style.maxHeight = 'none'; \n",
       "\">val range : int -&gt; int -&gt; int -&gt; int list = &lt;fun&gt;\n",
       "</pre>"
      ]
     },
     "execution_count": 2,
     "metadata": {},
     "output_type": "execute_result"
    }
   ],
   "source": [
    "let range debut fin step =\n",
    "   let rec range i acc =\n",
    "     if i>=fin then List.rev acc\n",
    "     else range (i+step) (i::acc) in\n",
    "   range debut [];;"
   ]
  },
  {
   "cell_type": "code",
   "execution_count": 3,
   "metadata": {
    "collapsed": false,
    "deletable": true,
    "editable": true
   },
   "outputs": [
    {
     "data": {
      "text/html": [
       "<pre style=\"color:slategray;max-height:100px;overflow:hidden\" \n",
       "onclick=\"\n",
       "if (this.style.maxHeight === 'none') \n",
       "    this.style.maxHeight = '100px';\n",
       "else\n",
       "    this.style.maxHeight = 'none'; \n",
       "\">val linspace : float -&gt; float -&gt; int -&gt; float list = &lt;fun&gt;\n",
       "</pre>"
      ]
     },
     "execution_count": 3,
     "metadata": {},
     "output_type": "execute_result"
    }
   ],
   "source": [
    "let linspace debut fin nbre_pts =\n",
    "     let step = (fin-.debut)/.(float_of_int (nbre_pts-1)) in\n",
    "     let rec loop i acc =\n",
    "         if i<nbre_pts\n",
    "         then loop (i+1) ((debut+.(float_of_int i)*.step)::acc)\n",
    "         else List.rev acc in\n",
    "       loop 0 [];;"
   ]
  },
  {
   "cell_type": "code",
   "execution_count": 4,
   "metadata": {
    "collapsed": false,
    "deletable": true,
    "editable": true
   },
   "outputs": [
    {
     "data": {
      "text/html": [
       "<pre style=\"color:slategray;max-height:100px;overflow:hidden\" \n",
       "onclick=\"\n",
       "if (this.style.maxHeight === 'none') \n",
       "    this.style.maxHeight = '100px';\n",
       "else\n",
       "    this.style.maxHeight = 'none'; \n",
       "\">val test : float -&gt; float -&gt; int -&gt; float = &lt;fun&gt;\n",
       "</pre>"
      ]
     },
     "execution_count": 4,
     "metadata": {},
     "output_type": "execute_result"
    },
    {
     "data": {
      "text/html": [
       "<pre style=\"color:slategray;max-height:100px;overflow:hidden\" \n",
       "onclick=\"\n",
       "if (this.style.maxHeight === 'none') \n",
       "    this.style.maxHeight = '100px';\n",
       "else\n",
       "    this.style.maxHeight = 'none'; \n",
       "\">- : unit = ()\n",
       "</pre>"
      ]
     },
     "execution_count": 4,
     "metadata": {},
     "output_type": "execute_result"
    }
   ],
   "source": [
    "(*Ex1*)\n",
    "let test a b nbre_essais =\n",
    "    \"à compléter\"\n",
    "let liste_x= linspace 0. 1. 100 in\n",
    "let liste_y= List.map (fun x-> test 0. x 10000) liste_x in\n",
    "let xs = Array.of_list liste_x in\n",
    "let ys = Array.of_list liste_y in\n",
    "let p = initialisation \"graph1\" 0. 1. 0. 1. in\n",
    "P.plot ~stream:p [P.lines `blue xs ys];\n",
    "P.finish ~stream:p ();;"
   ]
  },
  {
   "cell_type": "markdown",
   "metadata": {
    "deletable": true,
    "editable": true
   },
   "source": [
    "<img src=\"graph1.svg\" width=\"500\"/>"
   ]
  },
  {
   "cell_type": "markdown",
   "metadata": {
    "deletable": true,
    "editable": true
   },
   "source": [
    "<h2>Exercice 2.</h2>\n",
    "\n",
    "Objectif : Utilisation de la commande random() pour simuler un évènement ayant une probabilité $p$ de se produire $(0<p<1)$.\n",
    "<br>\n",
    "\n",
    "$p$  désigne un réel de $]0,1[$\n",
    " \n",
    "Soit le segment $[A,B]$ ci-contre <img src=\"ex2.svg\"/>\n",
    "\n",
    "\n",
    "Un pion se déplace sur les sommets du segment $[A,B]$ selon le protocole suivant :\n",
    "<ul>\n",
    "<li>\tLe pion est sur le sommet $A$  au départ ( instant 0 )\n",
    "<li>\tLorsque le pion est à un instant donné sur le sommet $A$  du segment, il se déplace à l'instant suivant vers le sommet $B$  avec la probabilité $q=1-p$   \n",
    "<li>\tLorsque le pion est à un instant donné sur le sommet $B$, il se déplace à l'instant suivant vers le sommet $A$ avec la probabilité $q=1-p$ \n",
    "</ul>\n",
    "\n",
    "<ol>\n",
    "<li> Ecrire un programme, ayant en argument le réel $p$  et un entier $n$, qui simule l'expérience aléatoire et qui retourne la position du pion à l'instant $n$.\n",
    "<li> Ecrire un programme, ayant en argument le réel $p$, un entier $n$ et le nombre $r$  de fois que vous allez simuler l'expérience pour votre estimation, et qui retourne la probabilité d'être en $A$ à l'instant $n$.\n",
    "<li> Tracer sur un même graphique des courbes représentatives de fonctions $f_n:p\\to f_n(p)$ où $f_n(p)$ désigne votre estimation de la probabilité d'être en $A$ à l'instant $n$.\n",
    "<li> Comment peut-on se servir de ce qui a été fait pour répondre au problème suivant :<br>\n",
    "Une succession d'individus $A_1$, $A_2$,... $A_n$ se transmet une information binaire du type « oui » ou « non ».<br>\n",
    "Chaque individu $A_k$ transmet l'information qu'il a reçu avec la probabilité $p$ à l'individu $A_{k+1}$ ou la transforme en son inverse avec la probabilité $q=1-p$. $(0<p<1)$\\\\\n",
    "Chaque individu se comporte indépendamment des autres.<br>\n",
    "Calculer la probabilité $p_n$ pour que l'information reçue par $A_n$ soit identique à celle émise par $A_1$.<br>\n",
    "Quelle est la limite de $p_n$ quand $n\\to\\infty$ ?\n",
    "</ol>"
   ]
  },
  {
   "cell_type": "code",
   "execution_count": 5,
   "metadata": {
    "collapsed": false,
    "deletable": true,
    "editable": true
   },
   "outputs": [
    {
     "data": {
      "text/html": [
       "<pre style=\"color:slategray;max-height:100px;overflow:hidden\" \n",
       "onclick=\"\n",
       "if (this.style.maxHeight === 'none') \n",
       "    this.style.maxHeight = '100px';\n",
       "else\n",
       "    this.style.maxHeight = 'none'; \n",
       "\">val position : float -&gt; int -&gt; int = &lt;fun&gt;\n",
       "</pre>"
      ]
     },
     "execution_count": 5,
     "metadata": {},
     "output_type": "execute_result"
    },
    {
     "data": {
      "text/html": [
       "<pre style=\"color:slategray;max-height:100px;overflow:hidden\" \n",
       "onclick=\"\n",
       "if (this.style.maxHeight === 'none') \n",
       "    this.style.maxHeight = '100px';\n",
       "else\n",
       "    this.style.maxHeight = 'none'; \n",
       "\">val proba_position : float -&gt; int -&gt; int -&gt; float = &lt;fun&gt;\n",
       "</pre>"
      ]
     },
     "execution_count": 5,
     "metadata": {},
     "output_type": "execute_result"
    },
    {
     "data": {
      "text/html": [
       "<pre style=\"color:slategray;max-height:100px;overflow:hidden\" \n",
       "onclick=\"\n",
       "if (this.style.maxHeight === 'none') \n",
       "    this.style.maxHeight = '100px';\n",
       "else\n",
       "    this.style.maxHeight = 'none'; \n",
       "\">val liste_couleurs :\n",
       "  [&gt; `black\n",
       "   | `blue\n",
       "   | `brown\n",
       "   | `gray\n",
       "   | `green\n",
       "   | `light_blue\n",
       "   | `pink\n",
       "   | `purple\n",
       "   | `red\n",
       "   | `yellow ]\n",
       "  list =\n",
       "  [`black; `blue; `red; `brown; `gray; `light_blue; `green; `yellow; `pink;\n",
       "   `purple]\n",
       "</pre>"
      ]
     },
     "execution_count": 5,
     "metadata": {},
     "output_type": "execute_result"
    },
    {
     "data": {
      "text/html": [
       "<pre style=\"color:slategray;max-height:100px;overflow:hidden\" \n",
       "onclick=\"\n",
       "if (this.style.maxHeight === 'none') \n",
       "    this.style.maxHeight = '100px';\n",
       "else\n",
       "    this.style.maxHeight = 'none'; \n",
       "\">- : unit = ()\n",
       "</pre>"
      ]
     },
     "execution_count": 5,
     "metadata": {},
     "output_type": "execute_result"
    }
   ],
   "source": [
    "(*Ex2*)\n",
    "let position p n =\n",
    "    \"à compléter\"\n",
    "let proba_position p n nbre_essais =\n",
    "    \"à compléter\"\n",
    "\n",
    "let liste_couleurs = [`black;`blue;`red;`brown;`gray;`light_blue;`green;`yellow;`pink;`purple];;\n",
    "\n",
    "let liste_n = [2;4;6;8;9;7;5;3;1] in\n",
    "let liste_p = linspace 0. 1. 100 in\n",
    "let xs = Array.of_list liste_p in\n",
    "    let plot = initialisation \"graph2\" 0. 1. 0. 1. in\n",
    "    let rec tracer liste_couleurs liste_n acc_trace acc_legend =\n",
    "        match liste_couleurs,liste_n with\n",
    "        | (c::tl_c),(n::tl_n) -> \n",
    "                let f p = proba_position p n 10000 in\n",
    "                let ys = Array.of_list (List.map f liste_p) in\n",
    "                tracer tl_c tl_n ([P.lines c xs ys]@acc_trace) (acc_legend@[[P.line_legend (\"n=\"^string_of_int n) c]])\n",
    "        | _,_ -> acc_trace,acc_legend in\n",
    "    let liste_plot,liste_legend = tracer liste_couleurs liste_n [] [] in\n",
    "    P.plot ~stream:plot (liste_plot@[xlabel \"p\";ylabel \"probabilité d'être en A\";\n",
    "                         P.legend ~pos:(P.viewport_pos 0. 0.45) liste_legend]);\n",
    "    P.finish ~stream:plot ();;"
   ]
  },
  {
   "cell_type": "markdown",
   "metadata": {
    "deletable": true,
    "editable": true
   },
   "source": [
    "<img src=\"graph2.svg\" width=\"500\" />"
   ]
  },
  {
   "cell_type": "markdown",
   "metadata": {
    "deletable": true,
    "editable": true
   },
   "source": [
    "<h2>Exercice 3.</h2>\n",
    "\n",
    "Objectif : Comment tenir compte de l'indépendance de 2 évènements ou de la mutuelle indépendance d'une famille d'évènements dans une simulation informatique d'une expérience aléatoire ?\n",
    "<br>\n",
    "\n",
    "On dispose de 3 résistances $R_1$, $R_2$, $R_3$. Chaque résistance $R_i$ a une probabilité $p_i$ de fonctionner.<br> \n",
    "Quand une résistance ne fonctionne pas, elle fait office de coupe-circuit.<br>\n",
    "Le fonctionnement ou non de l'une des résistances est indépendante du fonctionnement ou non des autres.<br>\n",
    "Déterminer, en fonction de $p_1$, $p_2$, $p_3$, pour chacun des 3 circuits ci-dessous, la probabilité qu'un courant puisse parcourir le dipôle $AB$.\n",
    "\n",
    "Circuit 1 : <img src=\"ex3a.svg\" style=\"width:500px\"/>\n",
    "\n",
    "Circuit 2 : <img src=\"ex3b.svg\" style=\"width:500px\"/> \n",
    "\n",
    "Circuit 3 : <img src=\"ex3c.svg\" style=\"width:500px\"/>\n",
    "\n",
    "\n",
    "<ol>\n",
    "<li> Ecrire, pour chacun des 3 schémas, un programme, ayant en argument $p_1$, $p_2$, $p_3$, et qui retourne 1 si un courant peut parcourir le dipôle $AB$ et 0 sinon.\n",
    "<li> Ecrire, pour chacun des 3 schémas, un programme, ayant en argument $p_1$, $p_2$, $p_3$ et le nombre $r$ de fois que vous avez simulé l'expérience, et qui retourne une estimation de la probabilité qu'un courant puisse parcourir le dipôle $AB$.\n",
    "</ol>"
   ]
  },
  {
   "cell_type": "code",
   "execution_count": 6,
   "metadata": {
    "collapsed": false,
    "deletable": true,
    "editable": true
   },
   "outputs": [
    {
     "name": "stdout",
     "output_type": "stream",
     "text": [
      "0.1263\n",
      "0.3767\n",
      "0.8754"
     ]
    },
    {
     "data": {
      "text/html": [
       "<pre style=\"color:slategray;max-height:100px;overflow:hidden\" \n",
       "onclick=\"\n",
       "if (this.style.maxHeight === 'none') \n",
       "    this.style.maxHeight = '100px';\n",
       "else\n",
       "    this.style.maxHeight = 'none'; \n",
       "\">val circuit : int -&gt; float -&gt; float -&gt; float -&gt; bool = &lt;fun&gt;\n",
       "</pre>"
      ]
     },
     "execution_count": 6,
     "metadata": {},
     "output_type": "execute_result"
    },
    {
     "data": {
      "text/html": [
       "<pre style=\"color:slategray;max-height:100px;overflow:hidden\" \n",
       "onclick=\"\n",
       "if (this.style.maxHeight === 'none') \n",
       "    this.style.maxHeight = '100px';\n",
       "else\n",
       "    this.style.maxHeight = 'none'; \n",
       "\">val proba_circuit : int -&gt; float -&gt; float -&gt; float -&gt; int -&gt; float = &lt;fun&gt;\n",
       "</pre>"
      ]
     },
     "execution_count": 6,
     "metadata": {},
     "output_type": "execute_result"
    },
    {
     "data": {
      "text/html": [
       "<pre style=\"color:slategray;max-height:100px;overflow:hidden\" \n",
       "onclick=\"\n",
       "if (this.style.maxHeight === 'none') \n",
       "    this.style.maxHeight = '100px';\n",
       "else\n",
       "    this.style.maxHeight = 'none'; \n",
       "\">- : unit = ()\n",
       "</pre>"
      ]
     },
     "execution_count": 6,
     "metadata": {},
     "output_type": "execute_result"
    },
    {
     "data": {
      "text/html": [
       "<pre style=\"color:slategray;max-height:100px;overflow:hidden\" \n",
       "onclick=\"\n",
       "if (this.style.maxHeight === 'none') \n",
       "    this.style.maxHeight = '100px';\n",
       "else\n",
       "    this.style.maxHeight = 'none'; \n",
       "\">- : unit = ()\n",
       "</pre>"
      ]
     },
     "execution_count": 6,
     "metadata": {},
     "output_type": "execute_result"
    },
    {
     "data": {
      "text/html": [
       "<pre style=\"color:slategray;max-height:100px;overflow:hidden\" \n",
       "onclick=\"\n",
       "if (this.style.maxHeight === 'none') \n",
       "    this.style.maxHeight = '100px';\n",
       "else\n",
       "    this.style.maxHeight = 'none'; \n",
       "\">- : unit = ()\n",
       "</pre>"
      ]
     },
     "execution_count": 6,
     "metadata": {},
     "output_type": "execute_result"
    },
    {
     "data": {
      "text/html": [
       "<pre style=\"color:slategray;max-height:100px;overflow:hidden\" \n",
       "onclick=\"\n",
       "if (this.style.maxHeight === 'none') \n",
       "    this.style.maxHeight = '100px';\n",
       "else\n",
       "    this.style.maxHeight = 'none'; \n",
       "\">- : unit = ()\n",
       "</pre>"
      ]
     },
     "execution_count": 6,
     "metadata": {},
     "output_type": "execute_result"
    },
    {
     "data": {
      "text/html": [
       "<pre style=\"color:slategray;max-height:100px;overflow:hidden\" \n",
       "onclick=\"\n",
       "if (this.style.maxHeight === 'none') \n",
       "    this.style.maxHeight = '100px';\n",
       "else\n",
       "    this.style.maxHeight = 'none'; \n",
       "\">- : unit = ()\n",
       "</pre>"
      ]
     },
     "execution_count": 6,
     "metadata": {},
     "output_type": "execute_result"
    }
   ],
   "source": [
    "(*Ex3*)\n",
    "let circuit num p1 p2 p3 =\n",
    "    \"à compléter\"\n",
    "let proba_circuit num p1 p2 p3 nbre_essais =\n",
    "    \"à compléter\"\n",
    "print_float (proba_circuit 1 0.5 0.5 0.5 10000);;\n",
    "print_newline();;\n",
    "print_float (proba_circuit 2 0.5 0.5 0.5 10000);;\n",
    "print_newline();;\n",
    "print_float (proba_circuit 3 0.5 0.5 0.5 10000);;\n"
   ]
  },
  {
   "cell_type": "markdown",
   "metadata": {
    "deletable": true,
    "editable": true
   },
   "source": [
    "<h2>Exercice 4.</h2>\n",
    "\n",
    "On considère un jeu à plusieurs manches entre trois joueurs $A$, $B$, $C$ qui se déroulent de la manière suivante :\n",
    "<ul>\n",
    "<li> Pour chaque manche, il n’y a qu’un vainqueur possible.\n",
    "<li> Lors de chaque $n^{i\\grave eme}$ manche ($n\\geq1$), quand elle a lieu, $A$ et $B$ ont la même probabilité $p=0.247$ de la remporter et $C$ a la probabilité $1-2.p$ de la remporter.\n",
    "<li> Le jeu s’arrête quand un des trois joueurs a remporté 2 manches consécutives et ce joueur est déclaré vainqueur du jeu.\n",
    "</ul>\n",
    "<ol>\n",
    "<li> Ecrire un programme qui simule le déroulement d’une manche et qui retourne le nom du vainqueur de la manche\n",
    "<li> Ecrire un programme qui simule le jeu et qui retourne le nom du vainqueur du jeu\n",
    "<li> Ecrire un programme qui prend en argument le nombre $r$ de fois où on a répété l’expérience pour notre simulation, et qui retourne une estimation de la probabilité que $A$ soit le vainqueur du jeu.\n",
    "</ol>"
   ]
  },
  {
   "cell_type": "code",
   "execution_count": 7,
   "metadata": {
    "collapsed": false,
    "deletable": true,
    "editable": true
   },
   "outputs": [
    {
     "data": {
      "text/html": [
       "<pre style=\"color:slategray;max-height:100px;overflow:hidden\" \n",
       "onclick=\"\n",
       "if (this.style.maxHeight === 'none') \n",
       "    this.style.maxHeight = '100px';\n",
       "else\n",
       "    this.style.maxHeight = 'none'; \n",
       "\">exception NotFound\n",
       "</pre>"
      ]
     },
     "execution_count": 7,
     "metadata": {},
     "output_type": "execute_result"
    },
    {
     "data": {
      "text/html": [
       "<pre style=\"color:slategray;max-height:100px;overflow:hidden\" \n",
       "onclick=\"\n",
       "if (this.style.maxHeight === 'none') \n",
       "    this.style.maxHeight = '100px';\n",
       "else\n",
       "    this.style.maxHeight = 'none'; \n",
       "\">val array_pos : 'a -&gt; 'a array -&gt; int = &lt;fun&gt;\n",
       "</pre>"
      ]
     },
     "execution_count": 7,
     "metadata": {},
     "output_type": "execute_result"
    },
    {
     "data": {
      "text/html": [
       "<pre style=\"color:slategray;max-height:100px;overflow:hidden\" \n",
       "onclick=\"\n",
       "if (this.style.maxHeight === 'none') \n",
       "    this.style.maxHeight = '100px';\n",
       "else\n",
       "    this.style.maxHeight = 'none'; \n",
       "\">val manche : unit -&gt; int = &lt;fun&gt;\n",
       "</pre>"
      ]
     },
     "execution_count": 7,
     "metadata": {},
     "output_type": "execute_result"
    },
    {
     "data": {
      "text/html": [
       "<pre style=\"color:slategray;max-height:100px;overflow:hidden\" \n",
       "onclick=\"\n",
       "if (this.style.maxHeight === 'none') \n",
       "    this.style.maxHeight = '100px';\n",
       "else\n",
       "    this.style.maxHeight = 'none'; \n",
       "\">val proba_gagnant : int -&gt; float array = &lt;fun&gt;\n",
       "</pre>"
      ]
     },
     "execution_count": 7,
     "metadata": {},
     "output_type": "execute_result"
    },
    {
     "data": {
      "text/html": [
       "<pre style=\"color:slategray;max-height:100px;overflow:hidden\" \n",
       "onclick=\"\n",
       "if (this.style.maxHeight === 'none') \n",
       "    this.style.maxHeight = '100px';\n",
       "else\n",
       "    this.style.maxHeight = 'none'; \n",
       "\">- : float array = [|0.18302; 0.18031; 0.63667|]\n",
       "</pre>"
      ]
     },
     "execution_count": 7,
     "metadata": {},
     "output_type": "execute_result"
    }
   ],
   "source": [
    "(*Ex4*)\n",
    "exception NotFound;;\n",
    "let array_pos element array =\n",
    "    \"à compléter\"\n",
    "\n",
    "let manche() =\n",
    "    (*A=0;B=1;C=2*)\n",
    "    \"à compléter\"\n",
    "    \n",
    "let proba_gagnant nbre_essais =\n",
    "    \"à compléter\"\n",
    "\n",
    "proba_gagnant 100000 (*[0.18065, 0.18281, 0.63654]*)"
   ]
  },
  {
   "cell_type": "markdown",
   "metadata": {
    "deletable": true,
    "editable": true
   },
   "source": [
    "<h2>Exercice 5.</h2>\n",
    "\n",
    "Objectif : Programmation d'une marche aléatoire sur un carré\n",
    "<br>\n",
    "\n",
    "$p$ désigne un réel de $[0,1[$.\n",
    " <br>\n",
    "Soit le carré ci-dessous où les sommets sont numérotés 1, 2, 3 et 4\n",
    "<img src=\"ex5.svg\"/>\n",
    "\n",
    "Un pion se déplace sur les sommets du carré selon le protocole suivant :\n",
    "<ul>\n",
    "<li> Le pion est sur le sommet 1 au départ\n",
    "<li> Lorsque le pion est à un instant donné sur un sommet du carré, il se déplace à l'instant suivant vers un sommet voisin ( relié par un côté ) avec la probabilité $p$ ou vers un sommet opposé ( relié par une diagonale ) avec la probabilité $1-2.p$.\n",
    "</ul>\n",
    "<ol>\n",
    "<li> Ecrire un programme, ayant en argument $p$ et un entier $n$, qui simule l'expérience aléatoire et qui retourne la position du pion à l'instant $n$. \n",
    "<li> Ecrire un programme, ayant en argument $p$, un entier $n$ et le nombre de fois que vous avez simulé l'expérience pour votre estimation, et qui retourne une estimation des probabilités du pion d'être à l'instant $n$ respectivement en 1, 2, 3, 4.\n",
    "</ol>"
   ]
  },
  {
   "cell_type": "code",
   "execution_count": 8,
   "metadata": {
    "collapsed": false,
    "deletable": true,
    "editable": true
   },
   "outputs": [
    {
     "name": "stdout",
     "output_type": "stream",
     "text": [
      "0 1. 0. 0. 0. \n",
      "1 0. 0.1 0.8 0.1 \n",
      "2 0.66 0.16 0.02 0.16 \n",
      "3 0.048 0.196 0.56 0.196 \n",
      "4 0.4872 0.2176 0.0776 0.2176 \n",
      "5 0.1056 0.23056 0.43328 0.23056 \n",
      "6 0.392736 0.238336 0.130592 0.238336 \n",
      "7 0.1521408 0.2430016 0.361856 0.2430016 \n",
      "8 0.33808512 0.24580096 0.17031296 0.24580096 \n",
      "9 0.18541056 0.247480576 0.319628288 0.247480576 \n",
      "10 0.3051987456 0.2484883456 0.1978245632 0.2484883456 \n"
     ]
    },
    {
     "data": {
      "text/html": [
       "<pre style=\"color:slategray;max-height:100px;overflow:hidden\" \n",
       "onclick=\"\n",
       "if (this.style.maxHeight === 'none') \n",
       "    this.style.maxHeight = '100px';\n",
       "else\n",
       "    this.style.maxHeight = 'none'; \n",
       "\">exception DimensionMismatch\n",
       "</pre>"
      ]
     },
     "execution_count": 8,
     "metadata": {},
     "output_type": "execute_result"
    },
    {
     "data": {
      "text/html": [
       "<pre style=\"color:slategray;max-height:100px;overflow:hidden\" \n",
       "onclick=\"\n",
       "if (this.style.maxHeight === 'none') \n",
       "    this.style.maxHeight = '100px';\n",
       "else\n",
       "    this.style.maxHeight = 'none'; \n",
       "\">val dot : float array -&gt; float array array -&gt; float array = &lt;fun&gt;\n",
       "</pre>"
      ]
     },
     "execution_count": 8,
     "metadata": {},
     "output_type": "execute_result"
    },
    {
     "data": {
      "text/html": [
       "<pre style=\"color:slategray;max-height:100px;overflow:hidden\" \n",
       "onclick=\"\n",
       "if (this.style.maxHeight === 'none') \n",
       "    this.style.maxHeight = '100px';\n",
       "else\n",
       "    this.style.maxHeight = 'none'; \n",
       "\">val print_vecteur : float array -&gt; unit = &lt;fun&gt;\n",
       "</pre>"
      ]
     },
     "execution_count": 8,
     "metadata": {},
     "output_type": "execute_result"
    },
    {
     "data": {
      "text/html": [
       "<pre style=\"color:slategray;max-height:100px;overflow:hidden\" \n",
       "onclick=\"\n",
       "if (this.style.maxHeight === 'none') \n",
       "    this.style.maxHeight = '100px';\n",
       "else\n",
       "    this.style.maxHeight = 'none'; \n",
       "\">val marche_aleatoire : float -&gt; int -&gt; float array = &lt;fun&gt;\n",
       "</pre>"
      ]
     },
     "execution_count": 8,
     "metadata": {},
     "output_type": "execute_result"
    },
    {
     "data": {
      "text/html": [
       "<pre style=\"color:slategray;max-height:100px;overflow:hidden\" \n",
       "onclick=\"\n",
       "if (this.style.maxHeight === 'none') \n",
       "    this.style.maxHeight = '100px';\n",
       "else\n",
       "    this.style.maxHeight = 'none'; \n",
       "\">- : float array =\n",
       "[|0.207957319680000141; 0.249093007360000118; 0.293856665600000178;\n",
       "  0.249093007360000174|]\n",
       "</pre>"
      ]
     },
     "execution_count": 8,
     "metadata": {},
     "output_type": "execute_result"
    }
   ],
   "source": [
    "(*Ex5*)\n",
    "(* en utilisant une matrice de transition *)\n",
    "exception DimensionMismatch;;\n",
    "let dot vecteur matrice =\n",
    "    \"à compléter\"\n",
    "\n",
    "let print_vecteur vecteur =\n",
    "    \"à compléter\"\n",
    "    \n",
    "let marche_aleatoire p n =\n",
    "    \"à compléter\"\n",
    "\n",
    "marche_aleatoire 0.1 10;;"
   ]
  },
  {
   "cell_type": "code",
   "execution_count": 9,
   "metadata": {
    "collapsed": false,
    "deletable": true,
    "editable": true
   },
   "outputs": [
    {
     "data": {
      "text/html": [
       "<pre style=\"color:slategray;max-height:100px;overflow:hidden\" \n",
       "onclick=\"\n",
       "if (this.style.maxHeight === 'none') \n",
       "    this.style.maxHeight = '100px';\n",
       "else\n",
       "    this.style.maxHeight = 'none'; \n",
       "\">val marche_aleatoire : float -&gt; int -&gt; int = &lt;fun&gt;\n",
       "</pre>"
      ]
     },
     "execution_count": 9,
     "metadata": {},
     "output_type": "execute_result"
    },
    {
     "data": {
      "text/html": [
       "<pre style=\"color:slategray;max-height:100px;overflow:hidden\" \n",
       "onclick=\"\n",
       "if (this.style.maxHeight === 'none') \n",
       "    this.style.maxHeight = '100px';\n",
       "else\n",
       "    this.style.maxHeight = 'none'; \n",
       "\">val proba_position : float -&gt; int -&gt; int -&gt; float array = &lt;fun&gt;\n",
       "</pre>"
      ]
     },
     "execution_count": 9,
     "metadata": {},
     "output_type": "execute_result"
    },
    {
     "data": {
      "text/html": [
       "<pre style=\"color:slategray;max-height:100px;overflow:hidden\" \n",
       "onclick=\"\n",
       "if (this.style.maxHeight === 'none') \n",
       "    this.style.maxHeight = '100px';\n",
       "else\n",
       "    this.style.maxHeight = 'none'; \n",
       "\">- : float array = [|0.3022; 0.2541; 0.1967; 0.247|]\n",
       "</pre>"
      ]
     },
     "execution_count": 9,
     "metadata": {},
     "output_type": "execute_result"
    }
   ],
   "source": [
    "let marche_aleatoire p n =\n",
    "    \"à compléter\"\n",
    "\n",
    "let proba_position p n nbre_essais =\n",
    "    \"à compléter\"\n",
    "proba_position 0.1 10 10000;;"
   ]
  },
  {
   "cell_type": "markdown",
   "metadata": {
    "deletable": true,
    "editable": true
   },
   "source": [
    "<h2>Exercice 6</h2>\n",
    "\n",
    "Pour chaque $n$ de $\\mathbb{N}$ la probabilité qu’une famille ait $n$ enfants est $\\frac1{e.n!}$.\n",
    "\n",
    "A chaque naissance, la probabilité d’avoir une fille ou un garçon est la même.\n",
    "\n",
    "<ol>\n",
    "<li> Ecrire un programme qui simule l’expérience aléatoire et qui retourne le nombre d’enfants de la famille.\n",
    "<li> Ecrire un programme qui simule l’expérience aléatoire et qui retourne la composition de la famille dans l'ordre des naissances\n",
    "<li> Ecrire un programme qui prend en argument le nombre $r$ de fois où on a répété l’expérience pour notre simulation et qui retourne la probabilité que la famille ait 2 filles exactement.\n",
    "</ol>"
   ]
  },
  {
   "cell_type": "code",
   "execution_count": 10,
   "metadata": {
    "collapsed": false,
    "deletable": true,
    "editable": true
   },
   "outputs": [
    {
     "data": {
      "text/html": [
       "<pre style=\"color:slategray;max-height:100px;overflow:hidden\" \n",
       "onclick=\"\n",
       "if (this.style.maxHeight === 'none') \n",
       "    this.style.maxHeight = '100px';\n",
       "else\n",
       "    this.style.maxHeight = 'none'; \n",
       "\">val fact : int -&gt; float = &lt;fun&gt;\n",
       "</pre>"
      ]
     },
     "execution_count": 10,
     "metadata": {},
     "output_type": "execute_result"
    },
    {
     "data": {
      "text/html": [
       "<pre style=\"color:slategray;max-height:100px;overflow:hidden\" \n",
       "onclick=\"\n",
       "if (this.style.maxHeight === 'none') \n",
       "    this.style.maxHeight = '100px';\n",
       "else\n",
       "    this.style.maxHeight = 'none'; \n",
       "\">val famille : unit -&gt; string list = &lt;fun&gt;\n",
       "</pre>"
      ]
     },
     "execution_count": 10,
     "metadata": {},
     "output_type": "execute_result"
    },
    {
     "data": {
      "text/html": [
       "<pre style=\"color:slategray;max-height:100px;overflow:hidden\" \n",
       "onclick=\"\n",
       "if (this.style.maxHeight === 'none') \n",
       "    this.style.maxHeight = '100px';\n",
       "else\n",
       "    this.style.maxHeight = 'none'; \n",
       "\">val proba_nbre_enfants : int -&gt; float array = &lt;fun&gt;\n",
       "</pre>"
      ]
     },
     "execution_count": 10,
     "metadata": {},
     "output_type": "execute_result"
    },
    {
     "data": {
      "text/html": [
       "<pre style=\"color:slategray;max-height:100px;overflow:hidden\" \n",
       "onclick=\"\n",
       "if (this.style.maxHeight === 'none') \n",
       "    this.style.maxHeight = '100px';\n",
       "else\n",
       "    this.style.maxHeight = 'none'; \n",
       "\">- : unit = ()\n",
       "</pre>"
      ]
     },
     "execution_count": 10,
     "metadata": {},
     "output_type": "execute_result"
    }
   ],
   "source": [
    "(*Ex6*)\n",
    "let rec fact n = if n=0 then 1. else (float_of_int n)*.(fact (n-1));;\n",
    "\n",
    "let famille() =\n",
    "    \"à compléter\"\n",
    "    \n",
    "let proba_nbre_enfants nbre_essais =\n",
    "    \"à compléter\"\n",
    "\n",
    "let liste_n = range 0 10 1 in\n",
    "let xs = Array.of_list (List.map float_of_int liste_n) in\n",
    "let ys = proba_nbre_enfants 10000 in\n",
    "let ys' = Array.init 10 (fun n-> 1./.(exp 1.*.(fact n))) in\n",
    "let p = initialisation \"graph6\" 0. 9. 0. 0.4 in\n",
    "P.plot ~stream:p [P.points ~symbol:\"+\" `red xs ys;\n",
    "                  P.lines `blue xs ys'; \n",
    "                  xlabel \"nombre d'enfants\"; ylabel \"probabilité\";\n",
    "                  P.legend [[P.symbol_legend \"simulation\" `red \"+\"];\n",
    "                           [P.line_legend \"théorie\" `blue]]];\n",
    "P.finish ~stream:p ();;"
   ]
  },
  {
   "cell_type": "markdown",
   "metadata": {
    "deletable": true,
    "editable": true
   },
   "source": [
    "<img src=\"graph6.svg\" width=\"500\"/>"
   ]
  },
  {
   "cell_type": "code",
   "execution_count": 11,
   "metadata": {
    "collapsed": false,
    "deletable": true,
    "editable": true
   },
   "outputs": [
    {
     "data": {
      "text/html": [
       "<pre style=\"color:slategray;max-height:100px;overflow:hidden\" \n",
       "onclick=\"\n",
       "if (this.style.maxHeight === 'none') \n",
       "    this.style.maxHeight = '100px';\n",
       "else\n",
       "    this.style.maxHeight = 'none'; \n",
       "\">val proba_deux_filles : int -&gt; float = &lt;fun&gt;\n",
       "</pre>"
      ]
     },
     "execution_count": 11,
     "metadata": {},
     "output_type": "execute_result"
    },
    {
     "data": {
      "text/html": [
       "<pre style=\"color:slategray;max-height:100px;overflow:hidden\" \n",
       "onclick=\"\n",
       "if (this.style.maxHeight === 'none') \n",
       "    this.style.maxHeight = '100px';\n",
       "else\n",
       "    this.style.maxHeight = 'none'; \n",
       "\">- : float = 0.0756\n",
       "</pre>"
      ]
     },
     "execution_count": 11,
     "metadata": {},
     "output_type": "execute_result"
    }
   ],
   "source": [
    "let proba_deux_filles nbre_essais =\n",
    "    \"à compléter\"\n",
    "proba_deux_filles 10000"
   ]
  },
  {
   "cell_type": "markdown",
   "metadata": {
    "deletable": true,
    "editable": true
   },
   "source": [
    "<h2>Exercice 7</h2>\n",
    "\n",
    "On considère un combat entre trois tireurs $A$, $B$ et $C$.\n",
    "\n",
    "Le combat se déroule en une suite de manches.\n",
    "<ul>\n",
    "<li> Lors de la manche 1, les trois tireurs $A$, $B$ et $C$ sont en lice.\n",
    "<li> Lors de chaque $n^{i\\grave eme}$ manche $(n\\geq1$):\n",
    " <ul>\n",
    "<li> le tireur $A$, quand il est encore en lice et qu'il a encore des adversaires, a une probabilité de $\\frac23$ de toucher sa cible et ceci indépendamment des tirs des autres tireurs. \n",
    "<li> le tireur $B$, quand il est encore en lice et qu'il a encore des adversaires,  a une probabilité de $\\frac12$ de toucher sa cible et ceci indépendamment des tirs des autres tireurs.\n",
    "<li> le tireur $C$, quand il est encore en lice et qu'il a encore des adversaires, a une probabilité $\\frac13$ de toucher sa cible et ceci indépendamment des tirs des autres tireurs.\n",
    " </ul>\n",
    "<li> Lors de chaque $n^{i\\grave eme}$ manche $(n\\geq1)$, la cible de chaque tireur est le tireur qui lui paraît le plus dangereux.\n",
    "<li> Lorsque, lors d'une $n^{i\\grave eme}$ manche, un tireur est touché, il est éliminé et ne participe plus aux manches suivantes.  \n",
    "<li> Lorsque, lors d'une $n^{i\\grave eme}$ manche, un tireur se retrouve seul en lice, plus rien ne se passe lors des manches suivantes et il est déclaré vainqueur du combat.\n",
    "</ul>\n",
    "\n",
    "On introduit les évènements suivants :\n",
    "<br>\n",
    "On note $ABC_n$ $(n\\geq1)$ l'évènement : «  à l'issue de la $n^{i\\grave eme}$ manche, les tireurs $A$, $B$ et $C$ sont encore tous en lice »\n",
    "<br>\n",
    "On note $AB_n$ $(n\\geq1)$ l'évènement : «  à l'issue de la $n^{i\\grave eme}$ manche,  seuls les tireurs $A$, $B$ sont encore en lice »\n",
    "<br>\n",
    "On définit de même $AC_n$, $BC_n$.\n",
    "<br>\n",
    "On note $A_n$ $(n\\geq1)$ l'évènement : \n",
    "«  le jeu s'est terminé au plus tard à l'issue de la $n^{i\\grave eme}$ manche et le vainqueur est le tireur $A$ »\n",
    "<br>\n",
    "On définit de même $B_n$, $C_n$.\n",
    "<br>\n",
    "Enfin, on note $O_n$ $(n\\geq1)$ l'évènement : «  à l'issue de la $n^{i\\grave eme}$ manche, les trois tireurs sont éliminés »\n",
    "\n",
    "<ol>\n",
    "<li> Expliquer pourquoi l'évènement $AB_n$ est l'évènement impossible.\n",
    "\n",
    "A l'issue de chaque manche, il y a donc 7 états possibles : les états $ABC$, $AC$, $BC$, $A$, $B$, $C$, $O$.\n",
    "\n",
    "On peut modéliser la situation par le graphe suivant :\n",
    "\n",
    "<img src=\"ex7.svg\" width=\"500\"/>\n",
    "\n",
    "<li> En utilisant des simulations informatiques, déterminer une estimation des probabilités qui apparaissent sur ce graphe.\n",
    "\n",
    "<li> Un pion initialement en $ABC$ à l'instant 1 se déplace sur ce graphe avec les probabilités que vous ont donné les simulations informatiques.\n",
    "\n",
    "     Ecrire un programme, ayant un argument un entier $n$, et qui retourne la position du pion à l'instant $n$.\n",
    "\n",
    "<li>  Ecrire un programme, ayant un argument un entier $n$ et le nombre $r$ de fois que vous avez simulé l'expérience aléatoire, et qui retourne une estimation des probabilités d'être à l'instant $n$ respectivement en $ABC$, $AC$, $BC$, $A$, $B$, $C$, $O$.\n",
    "\n",
    "<li> Représenter sur un même graphe les fonctions qui à un entier $n\\geq10$ associent les probabilités d'être à l'instant $n$ respectivement en $ABC$, $AC$, $BC$, $A$, $B$, $C$, $O$.\n",
    "\n",
    "<li> Quelle est une estimation de la probabilité que le vainqueur du combat soit $A$, soit $B$, soit $C$ ?\n",
    "</ol>"
   ]
  },
  {
   "cell_type": "code",
   "execution_count": 12,
   "metadata": {
    "collapsed": false,
    "deletable": true,
    "editable": true
   },
   "outputs": [
    {
     "data": {
      "text/html": [
       "<pre style=\"color:slategray;max-height:100px;overflow:hidden\" \n",
       "onclick=\"\n",
       "if (this.style.maxHeight === 'none') \n",
       "    this.style.maxHeight = '100px';\n",
       "else\n",
       "    this.style.maxHeight = 'none'; \n",
       "\">val copy_list_without : 'a list -&gt; 'a -&gt; 'a list = &lt;fun&gt;\n",
       "</pre>"
      ]
     },
     "execution_count": 12,
     "metadata": {},
     "output_type": "execute_result"
    },
    {
     "data": {
      "text/html": [
       "<pre style=\"color:slategray;max-height:100px;overflow:hidden\" \n",
       "onclick=\"\n",
       "if (this.style.maxHeight === 'none') \n",
       "    this.style.maxHeight = '100px';\n",
       "else\n",
       "    this.style.maxHeight = 'none'; \n",
       "\">val manche : 'a list -&gt; float list -&gt; 'a list = &lt;fun&gt;\n",
       "</pre>"
      ]
     },
     "execution_count": 12,
     "metadata": {},
     "output_type": "execute_result"
    },
    {
     "data": {
      "text/html": [
       "<pre style=\"color:slategray;max-height:100px;overflow:hidden\" \n",
       "onclick=\"\n",
       "if (this.style.maxHeight === 'none') \n",
       "    this.style.maxHeight = '100px';\n",
       "else\n",
       "    this.style.maxHeight = 'none'; \n",
       "\">val construire_transitions_possibles :\n",
       "  string list -&gt; (string * string) list * int array = &lt;fun&gt;\n",
       "</pre>"
      ]
     },
     "execution_count": 12,
     "metadata": {},
     "output_type": "execute_result"
    }
   ],
   "source": [
    "(*Ex7*)\n",
    "(* Q2 *)\n",
    "let copy_list_without list element =\n",
    "    \"à compléter\"\n",
    "    \n",
    "\n",
    "let manche liste_tireurs liste_probas =\n",
    "    \"à compléter\"\n",
    "\n",
    "let construire_transitions_possibles liste_tireurs =\n",
    "    \"à compléter\"\n"
   ]
  },
  {
   "cell_type": "code",
   "execution_count": 13,
   "metadata": {
    "collapsed": false,
    "deletable": true,
    "editable": true
   },
   "outputs": [
    {
     "data": {
      "text/html": [
       "<pre style=\"color:slategray;max-height:100px;overflow:hidden\" \n",
       "onclick=\"\n",
       "if (this.style.maxHeight === 'none') \n",
       "    this.style.maxHeight = '100px';\n",
       "else\n",
       "    this.style.maxHeight = 'none'; \n",
       "\">- : (string * string) list * int array =\n",
       "([(&quot;ABC&quot;, &quot;ABC&quot;); (&quot;ABC&quot;, &quot;AB&quot;); (&quot;ABC&quot;, &quot;AC&quot;); (&quot;ABC&quot;, &quot;BC&quot;); (&quot;ABC&quot;, &quot;A&quot;);\n",
       "  (&quot;ABC&quot;, &quot;B&quot;); (&quot;ABC&quot;, &quot;C&quot;); (&quot;ABC&quot;, &quot;&quot;); (&quot;AB&quot;, &quot;AB&quot;); (&quot;AB&quot;, &quot;A&quot;);\n",
       "  (&quot;AB&quot;, &quot;B&quot;); (&quot;AB&quot;, &quot;&quot;); (&quot;AC&quot;, &quot;AC&quot;); (&quot;AC&quot;, &quot;A&quot;); (&quot;AC&quot;, &quot;C&quot;);\n",
       "  (&quot;AC&quot;, &quot;&quot;); (&quot;BC&quot;, &quot;BC&quot;); (&quot;BC&quot;, &quot;B&quot;); (&quot;BC&quot;, &quot;C&quot;); (&quot;BC&quot;, &quot;&quot;); (&quot;A&quot;, &quot;A&quot;);\n",
       "  (&quot;A&quot;, &quot;&quot;); (&quot;B&quot;, &quot;B&quot;); (&quot;B&quot;, &quot;&quot;); (&quot;C&quot;, &quot;C&quot;); (&quot;C&quot;, &quot;&quot;); (&quot;&quot;, &quot;&quot;)],\n",
       " [|0; 0; 0; 0; 0; 0; 0; 0; 0; 0; 0; 0; 0; 0; 0; 0; 0; 0; 0; 0; 0; 0; 0; 0; 0;\n",
       "   0; 0|])\n",
       "</pre>"
      ]
     },
     "execution_count": 13,
     "metadata": {},
     "output_type": "execute_result"
    }
   ],
   "source": [
    "construire_transitions_possibles [\"ABC\";\"AB\";\"AC\";\"BC\";\"A\";\"B\";\"C\";\"\"]"
   ]
  },
  {
   "cell_type": "code",
   "execution_count": 14,
   "metadata": {
    "collapsed": false,
    "deletable": true,
    "editable": true
   },
   "outputs": [
    {
     "name": "stdout",
     "output_type": "stream",
     "text": [
      "proba de transition\n",
      "tireurs\t survivants probabilité\n",
      "ABC\tABC\t0.109\n",
      "ABC\tAB\t0.\n",
      "ABC\tAC\t0.218\n",
      "ABC\tBC\t0.209\n",
      "ABC\tA\t0.\n",
      "ABC\tB\t0.\n",
      "ABC\tC\t0.464\n",
      "ABC\t\t0.\n",
      "AB\tAB\t0.171\n",
      "AB\tA\t0.34\n",
      "AB\tB\t0.152\n",
      "AB\t\t0.337\n",
      "AC\tAC\t0.152\n",
      "AC\tA\t0.312\n",
      "AC\tC\t0.171\n",
      "AC\t\t0.365\n",
      "BC\tBC\t0.163\n",
      "BC\tB\t0.327\n",
      "BC\tC\t0.17\n",
      "BC\t\t0.34\n",
      "A\tA\t1.\n",
      "A\t\t0.\n",
      "B\tB\t1.\n",
      "B\t\t0.\n",
      "C\tC\t1.\n",
      "C\t\t0.\n",
      "\t\t1.\n"
     ]
    },
    {
     "data": {
      "text/html": [
       "<pre style=\"color:slategray;max-height:100px;overflow:hidden\" \n",
       "onclick=\"\n",
       "if (this.style.maxHeight === 'none') \n",
       "    this.style.maxHeight = '100px';\n",
       "else\n",
       "    this.style.maxHeight = 'none'; \n",
       "\">val join : string list -&gt; string = &lt;fun&gt;\n",
       "</pre>"
      ]
     },
     "execution_count": 14,
     "metadata": {},
     "output_type": "execute_result"
    },
    {
     "data": {
      "text/html": [
       "<pre style=\"color:slategray;max-height:100px;overflow:hidden\" \n",
       "onclick=\"\n",
       "if (this.style.maxHeight === 'none') \n",
       "    this.style.maxHeight = '100px';\n",
       "else\n",
       "    this.style.maxHeight = 'none'; \n",
       "\">val split : string -&gt; string list = &lt;fun&gt;\n",
       "</pre>"
      ]
     },
     "execution_count": 14,
     "metadata": {},
     "output_type": "execute_result"
    },
    {
     "data": {
      "text/html": [
       "<pre style=\"color:slategray;max-height:100px;overflow:hidden\" \n",
       "onclick=\"\n",
       "if (this.style.maxHeight === 'none') \n",
       "    this.style.maxHeight = '100px';\n",
       "else\n",
       "    this.style.maxHeight = 'none'; \n",
       "\">val list_pos : 'a list -&gt; 'a -&gt; int = &lt;fun&gt;\n",
       "</pre>"
      ]
     },
     "execution_count": 14,
     "metadata": {},
     "output_type": "execute_result"
    },
    {
     "data": {
      "text/html": [
       "<pre style=\"color:slategray;max-height:100px;overflow:hidden\" \n",
       "onclick=\"\n",
       "if (this.style.maxHeight === 'none') \n",
       "    this.style.maxHeight = '100px';\n",
       "else\n",
       "    this.style.maxHeight = 'none'; \n",
       "\">val calcul_proba : int -&gt; (string * string) list * float array = &lt;fun&gt;\n",
       "</pre>"
      ]
     },
     "execution_count": 14,
     "metadata": {},
     "output_type": "execute_result"
    },
    {
     "data": {
      "text/html": [
       "<pre style=\"color:slategray;max-height:100px;overflow:hidden\" \n",
       "onclick=\"\n",
       "if (this.style.maxHeight === 'none') \n",
       "    this.style.maxHeight = '100px';\n",
       "else\n",
       "    this.style.maxHeight = 'none'; \n",
       "\">- : unit = ()\n",
       "</pre>"
      ]
     },
     "execution_count": 14,
     "metadata": {},
     "output_type": "execute_result"
    }
   ],
   "source": [
    "(*    \n",
    "let construire_transitions_possibles liste_tireurs =\n",
    "    let rec loop1 liste_tireurs =\n",
    "        let tireur = List.hd liste_tireur\n",
    "            let rec loop2 liste_survivants =\n",
    "                let survivants = List.hd liste_survivants\n",
    "                let rec loop3 num_s inclus =\n",
    "                    let s = survivants.[num_s] in\n",
    "                    if not (String.contains tireurs s) then loop3 (num_s+1) false\n",
    "                    else loop3 (num_s+1) inclus\n",
    "*)\n",
    "\n",
    "let join string_list =\n",
    "    let rec loop list acc =\n",
    "        match list with\n",
    "        | hd::tl -> loop tl (acc^hd)\n",
    "        | _ -> acc in\n",
    "    loop string_list \"\";;\n",
    "\n",
    "let split string =\n",
    "    let n = String.length string in\n",
    "    let rec loop i acc =\n",
    "        if i<n then loop (i+1) (String.make 1 string.[i]::acc)\n",
    "        else List.rev acc in\n",
    "    loop 0 [];;\n",
    "\n",
    "let list_pos liste element =\n",
    "    let n = List.length liste in\n",
    "    let rec loop liste i =\n",
    "        if i<n then\n",
    "            if List.hd liste = element then i else loop (List.tl liste) (i+1) \n",
    "        else -1 in\n",
    "    loop liste 0;;\n",
    "    \n",
    "let calcul_proba nbre_essais =\n",
    "    (*proba pour un tireur d'atteindre sa cible *)\n",
    "    let probas = [2./.3.; 1./.2.; 1./.3.] in  (*\"A\",\"B\",\"C\"*)\n",
    "    \n",
    "    (*dans chaque groupe, les tireurs sont triés par ordre de dangerosité*)\n",
    "    let liste_tireurs=[\"ABC\";\"AB\";\"AC\";\"BC\";\"A\";\"B\";\"C\";\"\"] in \n",
    "\n",
    "    (*on construit le dictionnaire des transitions possibles*)    \n",
    "    \"à compléter\"\n",
    "\n",
    "    (*on norme*)\n",
    "    \"à compléter\"\n",
    "\n",
    "let liste_proba_transition_nom,res = calcul_proba 1000 in\n",
    "print_string \"proba de transition\\n\";\n",
    "print_string \"tireurs\\t survivants probabilité\\n\";\n",
    "for i = 0 to Array.length res -1 do\n",
    "    let tireurs,survivants = List.nth liste_proba_transition_nom i in\n",
    "    print_string (tireurs^\"\\t\"^survivants^\"\\t\"^(string_of_float res.(i))^\"\\n\");\n",
    "done;;"
   ]
  },
  {
   "cell_type": "code",
   "execution_count": 15,
   "metadata": {
    "collapsed": false,
    "deletable": true,
    "editable": true
   },
   "outputs": [
    {
     "name": "stdout",
     "output_type": "stream",
     "text": [
      "proba des états au bout de n manches\n",
      "probabilité A vainqueur (%):10.021607417\n",
      "probabilité B vainqueur (%):9.99723943669\n",
      "probabilité C vainqueur (%):59.9276965482\n",
      "probabilité pas de vainqueur (%):20.0534565981\n"
     ]
    },
    {
     "data": {
      "text/html": [
       "<pre style=\"color:slategray;max-height:100px;overflow:hidden\" \n",
       "onclick=\"\n",
       "if (this.style.maxHeight === 'none') \n",
       "    this.style.maxHeight = '100px';\n",
       "else\n",
       "    this.style.maxHeight = 'none'; \n",
       "\">val proba_deplacement : int -&gt; float array = &lt;fun&gt;\n",
       "</pre>"
      ]
     },
     "execution_count": 15,
     "metadata": {},
     "output_type": "execute_result"
    },
    {
     "data": {
      "text/html": [
       "<pre style=\"color:slategray;max-height:100px;overflow:hidden\" \n",
       "onclick=\"\n",
       "if (this.style.maxHeight === 'none') \n",
       "    this.style.maxHeight = '100px';\n",
       "else\n",
       "    this.style.maxHeight = 'none'; \n",
       "\">- : float array =\n",
       "[|6.35829582055290905e-20; 0.; 1.03250601334913226e-15;\n",
       "  1.2945701558777056e-15; 0.100216074169647174; 0.0999723943669362;\n",
       "  0.599276965482034574; 0.200534565981379892|]\n",
       "</pre>"
      ]
     },
     "execution_count": 15,
     "metadata": {},
     "output_type": "execute_result"
    }
   ],
   "source": [
    "(* Q3 *)\n",
    "(* en utilisant une matrice de transition *)\n",
    "\n",
    "let proba_deplacement nbre_deplacement =\n",
    "    \"à compléter\"\n",
    "        \n",
    "    print_string(\"probabilité A vainqueur (%):\"^(string_of_float (100.*.depart'.(4)))^\"\\n\");\n",
    "    print_string(\"probabilité B vainqueur (%):\"^(string_of_float (100.*.depart'.(5)))^\"\\n\");\n",
    "    print_string(\"probabilité C vainqueur (%):\"^(string_of_float (100.*.depart'.(6)))^\"\\n\");\n",
    "    print_string(\"probabilité pas de vainqueur (%):\"^(string_of_float (100.*.depart'.(7)))^\"\\n\");\n",
    "    depart';;\n",
    "    \n",
    "print_string \"proba des états au bout de n manches\\n\";\n",
    "proba_deplacement 20;;"
   ]
  },
  {
   "cell_type": "markdown",
   "metadata": {
    "deletable": true,
    "editable": true
   },
   "source": [
    "<img src=\"ex7_sol.svg\" width=\"500\"/>"
   ]
  },
  {
   "cell_type": "code",
   "execution_count": 16,
   "metadata": {
    "collapsed": false,
    "deletable": true,
    "editable": true
   },
   "outputs": [
    {
     "data": {
      "text/html": [
       "<pre style=\"color:slategray;max-height:100px;overflow:hidden\" \n",
       "onclick=\"\n",
       "if (this.style.maxHeight === 'none') \n",
       "    this.style.maxHeight = '100px';\n",
       "else\n",
       "    this.style.maxHeight = 'none'; \n",
       "\">val deplacement : int -&gt; string = &lt;fun&gt;\n",
       "</pre>"
      ]
     },
     "execution_count": 16,
     "metadata": {},
     "output_type": "execute_result"
    },
    {
     "data": {
      "text/html": [
       "<pre style=\"color:slategray;max-height:100px;overflow:hidden\" \n",
       "onclick=\"\n",
       "if (this.style.maxHeight === 'none') \n",
       "    this.style.maxHeight = '100px';\n",
       "else\n",
       "    this.style.maxHeight = 'none'; \n",
       "\">- : string = &quot;A&quot;\n",
       "</pre>"
      ]
     },
     "execution_count": 16,
     "metadata": {},
     "output_type": "execute_result"
    }
   ],
   "source": [
    "let deplacement nbre_deplacement =\n",
    "    let liste_proba_transition_nom,liste_proba_transition_val = calcul_proba 100000 in\n",
    "    let liste_tireurs=[\"ABC\";\"AB\";\"AC\";\"BC\";\"A\";\"B\";\"C\";\"\"] in\n",
    "    let n = List.length liste_tireurs in\n",
    "    \n",
    "    (*creation des proba cumulees*)\n",
    "    \"à compléter\"\n",
    "    \n",
    "    \"à compléter\"\n",
    "\n",
    "deplacement 20;;"
   ]
  },
  {
   "cell_type": "code",
   "execution_count": 17,
   "metadata": {
    "collapsed": false,
    "deletable": true,
    "editable": true
   },
   "outputs": [
    {
     "name": "stdout",
     "output_type": "stream",
     "text": [
      "proba des états au bout de n manches\n",
      "A proba = 9.9\n",
      "B proba = 9.\n",
      "C proba = 61.3\n",
      " proba = 19.8\n"
     ]
    },
    {
     "data": {
      "text/html": [
       "<pre style=\"color:slategray;max-height:100px;overflow:hidden\" \n",
       "onclick=\"\n",
       "if (this.style.maxHeight === 'none') \n",
       "    this.style.maxHeight = '100px';\n",
       "else\n",
       "    this.style.maxHeight = 'none'; \n",
       "\">val proba_deplacement : int -&gt; int -&gt; string list * float array = &lt;fun&gt;\n",
       "</pre>"
      ]
     },
     "execution_count": 17,
     "metadata": {},
     "output_type": "execute_result"
    },
    {
     "data": {
      "text/html": [
       "<pre style=\"color:slategray;max-height:100px;overflow:hidden\" \n",
       "onclick=\"\n",
       "if (this.style.maxHeight === 'none') \n",
       "    this.style.maxHeight = '100px';\n",
       "else\n",
       "    this.style.maxHeight = 'none'; \n",
       "\">- : unit = ()\n",
       "</pre>"
      ]
     },
     "execution_count": 17,
     "metadata": {},
     "output_type": "execute_result"
    }
   ],
   "source": [
    "(* Q4 *)\n",
    "let proba_deplacement nbre_deplacement nbre_essais =\n",
    "    let liste_proba_transition_nom,liste_proba_transition_val = calcul_proba 100000 in\n",
    "    let liste_tireurs=[\"ABC\";\"AB\";\"AC\";\"BC\";\"A\";\"B\";\"C\";\"\"] in\n",
    "    let n = List.length liste_tireurs in\n",
    "    \n",
    "    (*creation des proba cumulees*)\n",
    "    \"à compléter\"\n",
    "    \n",
    "    \"à compléter\"\n",
    "    \n",
    "print_string \"proba des états au bout de n manches\\n\";\n",
    "let liste_tireurs,array_proba = proba_deplacement 20 1000 in\n",
    "for i = 4 to 7 do\n",
    "    print_string ((List.nth liste_tireurs i)^\" proba = \"^(string_of_float (100.*.array_proba.(i)))^\"\\n\");\n",
    "done;;"
   ]
  },
  {
   "cell_type": "code",
   "execution_count": null,
   "metadata": {
    "collapsed": true,
    "deletable": true,
    "editable": true
   },
   "outputs": [],
   "source": []
  }
 ],
 "metadata": {
  "kernelspec": {
   "display_name": "OCaml",
   "language": "ocaml",
   "name": "iocaml"
  },
  "language_info": {
   "name": "ocaml",
   "version": "4.1.0"
  }
 },
 "nbformat": 4,
 "nbformat_minor": 2
}
