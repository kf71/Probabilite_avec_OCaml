{
 "cells": [
  {
   "cell_type": "markdown",
   "metadata": {
    "deletable": true,
    "editable": true
   },
   "source": [
    "<h1>Tournoi d'échecs<h1>\n",
    "\n",
    "<h2>Présentation</h2>\n",
    "\n",
    "Soient trois joueurs d'échecs: $A$, $B$, $C$.\n",
    "\n",
    "$A$ doit rencontrer $B$ et $C$ dans un tournoi un peu particulier.\n",
    "Le tournoi se fait en trois rencontres; $A$ doit jouer soit contre $B$, puis $C$, puis $B$ à nouveau\n",
    "soit contre $C$, puis $B$, puis $C$ à nouveau. Le défi est le suivant : $A$ doit remporter deux matches successifs;\n",
    "cela signifie dans le premier exemple ($B$, puis $C$, puis $B$ à nouveau) que $A$ doit gagner contre $B$ et $C$ ou bien contre $C$ et $B$ (mais, dans le cas de deux victoires contre $B$ et une défaite contre $C$, le défi est perdu).\n",
    "\n",
    "$A$ sait que le joueur $C$ est plus fort que lui (il peut gagner contre lui avec une probabilité $q$)\n",
    "mais que le joueur $B$ est moins fort que lui (il peut gagner contre lui avec une probabilité $p>q$).\n",
    "\n",
    "Quel est le défi le plus simple : $BCB$ ou bien $CBC$ ?"
   ]
  },
  {
   "cell_type": "markdown",
   "metadata": {
    "deletable": true,
    "editable": true
   },
   "source": [
    "<h2>Stratégies</h2>\n",
    "\n",
    "D'un côté, le défi $BCB$ semble plus simple puisqu'on ne rencontre le joueur $C$ (le plus fort) qu'une seule fois.\n",
    "\n",
    "D'un autre côté, le défi $CBC$ permet de rencontrer le joueur $C$ une deuxième fois (ce qui donne une deuxième occasion de le battre).\n",
    "\n",
    "Quelle est, pour chaque stratégie, la probabilité de relever le défi ?"
   ]
  },
  {
   "cell_type": "code",
   "execution_count": 7,
   "metadata": {
    "collapsed": false,
    "deletable": true,
    "editable": true
   },
   "outputs": [
    {
     "data": {
      "text/html": [
       "<pre style=\"color:slategray;max-height:100px;overflow:hidden\" \n",
       "onclick=\"\n",
       "if (this.style.maxHeight === 'none') \n",
       "    this.style.maxHeight = '100px';\n",
       "else\n",
       "    this.style.maxHeight = 'none'; \n",
       "\">val proba_BCB : float -&gt; float -&gt; int = &lt;fun&gt;\n",
       "</pre>"
      ]
     },
     "execution_count": 7,
     "metadata": {},
     "output_type": "execute_result"
    },
    {
     "data": {
      "text/html": [
       "<pre style=\"color:slategray;max-height:100px;overflow:hidden\" \n",
       "onclick=\"\n",
       "if (this.style.maxHeight === 'none') \n",
       "    this.style.maxHeight = '100px';\n",
       "else\n",
       "    this.style.maxHeight = 'none'; \n",
       "\">val proba_CBC : float -&gt; float -&gt; int = &lt;fun&gt;\n",
       "</pre>"
      ]
     },
     "execution_count": 7,
     "metadata": {},
     "output_type": "execute_result"
    },
    {
     "data": {
      "text/html": [
       "<pre style=\"color:slategray;max-height:100px;overflow:hidden\" \n",
       "onclick=\"\n",
       "if (this.style.maxHeight === 'none') \n",
       "    this.style.maxHeight = '100px';\n",
       "else\n",
       "    this.style.maxHeight = 'none'; \n",
       "\">val essai : float -&gt; float -&gt; float * float = &lt;fun&gt;\n",
       "</pre>"
      ]
     },
     "execution_count": 7,
     "metadata": {},
     "output_type": "execute_result"
    }
   ],
   "source": [
    "let proba_BCB p q = \n",
    "    \"à compléter\"        \n",
    "let proba_CBC p q =\n",
    "    \"à compléter\"        \n",
    "\n",
    "let essai p q =\n",
    "    \"à compléter\"        \n"
   ]
  },
  {
   "cell_type": "code",
   "execution_count": 14,
   "metadata": {
    "collapsed": false,
    "deletable": true,
    "editable": true
   },
   "outputs": [
    {
     "name": "stdout",
     "output_type": "stream",
     "text": [
      "p=0.90 q=0.80 BCB=0.80 CBC=0.87\n",
      "p=0.90 q=0.40 BCB=0.39 CBC=0.57\n",
      "p=0.40 q=0.30 BCB=0.20 CBC=0.20\n",
      "p=0.40 q=0.10 BCB=0.06 CBC=0.07\n"
     ]
    },
    {
     "data": {
      "text/html": [
       "<pre style=\"color:slategray;max-height:100px;overflow:hidden\" \n",
       "onclick=\"\n",
       "if (this.style.maxHeight === 'none') \n",
       "    this.style.maxHeight = '100px';\n",
       "else\n",
       "    this.style.maxHeight = 'none'; \n",
       "\">val affiche : float * float -&gt; string = &lt;fun&gt;\n",
       "</pre>"
      ]
     },
     "execution_count": 14,
     "metadata": {},
     "output_type": "execute_result"
    },
    {
     "data": {
      "text/html": [
       "<pre style=\"color:slategray;max-height:100px;overflow:hidden\" \n",
       "onclick=\"\n",
       "if (this.style.maxHeight === 'none') \n",
       "    this.style.maxHeight = '100px';\n",
       "else\n",
       "    this.style.maxHeight = 'none'; \n",
       "\">- : unit list = [(); (); (); ()]\n",
       "</pre>"
      ]
     },
     "execution_count": 14,
     "metadata": {},
     "output_type": "execute_result"
    }
   ],
   "source": [
    "let affiche (p,q) =\n",
    "    let r,s = essai p q in\n",
    "    Printf.sprintf \"p=%.2f q=%.2f BCB=%.2f CBC=%.2f\\n\" p q r s;;\n",
    "    \n",
    "let liste_pq=[(0.9,0.8);(0.9,0.4);(0.4,0.3);(0.4,0.1)] in\n",
    "List.map print_string (List.map affiche liste_pq);;"
   ]
  },
  {
   "cell_type": "code",
   "execution_count": null,
   "metadata": {
    "collapsed": true,
    "deletable": true,
    "editable": true
   },
   "outputs": [],
   "source": []
  }
 ],
 "metadata": {
  "kernelspec": {
   "display_name": "OCaml",
   "language": "ocaml",
   "name": "iocaml"
  },
  "language_info": {
   "name": "ocaml",
   "version": "4.1.0"
  }
 },
 "nbformat": 4,
 "nbformat_minor": 2
}
