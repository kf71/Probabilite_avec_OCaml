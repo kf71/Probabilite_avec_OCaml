{
 "cells": [
  {
   "cell_type": "markdown",
   "metadata": {
    "deletable": true,
    "editable": true
   },
   "source": [
    "<h1> TD: Marche au hasard </h1>\n",
    "\n",
    "<h2> Position du problème </h2>\n",
    "\n",
    "On se propose de simuler la marche au hasard d'une particule dans un espace à une ou plusieurs dimensions.\n",
    "Ce phénomène correspond en physique au mouvement Brownien; il s'applique au mouvement d'un électron dans un fil métalique, à l'adsorption d'une particule sur une surface, à la diffusion d'un parfum dans un volume,...\n",
    "\n",
    "On suppose que la particule $M$ part de l'origine $O$ et, qu'à chaque pas, elle se déplace d'une petite quantité par rapport à sa position précédente. On veut trouver, au bout de $N$ pas, la position finale $\\overrightarrow{OM_{(N)}}$ de la particule et sa distance $d_{(N)}$ à l'origine.\n",
    "On refait le calcul $K$ fois. On souhaite vérifier que, si toutes les directions sont équiprobables, la moyenne des $d_{(N)}$ est nulle et que l'écart-type dépend de $\\sqrt{N}$.\n",
    "\n",
    "<h3> Déplacement sur une droite </h3>\n",
    "\n",
    "On suppose que la particule se déplace, à chaque itération, de $\\Delta x$ sur un axe $(Ox)$. \n",
    "\n",
    "<ol>\n",
    "<li> A chaque pas, la particule effectue un déplacement entier $\\Delta x=\\pm 1$.\n",
    "(On a donc: $\\langle(\\Delta x)^2\\rangle=1$).\n",
    "<ol>\n",
    "<li> Se fixer une valeur de $N$ (par exemple $N=100$).\n",
    "<li> Calculer $OM_{(N)}$ au bout de $N$ pas ($OM_{(N)}\\in\\mathbb{Z}$);\n",
    "incrémenter un compteur $c_{(N)}[OM_{(N)}]$ pour  comptabiliser le nombre de fois où la position $OM_{(N)}$\n",
    "a été atteinte.\n",
    "<li> Réitérer $K$ fois l'opération b. ($K$ de l'ordre de $\\sqrt{N}$).\n",
    "<li> Tracer un graphique indiquant, pour chaque position $x\\in\\mathbb{Z}$, le nombre de fois\n",
    "$c_{(N)}(x)$ où cette position a été atteinte lors des $K$ essais.\n",
    "<li> Calculer la moyenne et l'écart-type de $c_{(N)}(x)$.\n",
    "<li> Reprendre tout le calcul pour différentes valeurs de $N$ et tracer\n",
    "l'écart-type de $c_{(N)}(x)$ en fonction de $\\sqrt{N}$.\n",
    "</ol>\n",
    "\n",
    "<li> A chaque pas, la particule effectue un déplacement dans $\\mathbb{R}$ tel que $\\Delta x\\in[-\\sqrt{3},+\\sqrt{3}]$.<br>\n",
    "(On a donc: $\\langle(\\Delta x)^2\\rangle=1$ car $\\langle(\\Delta x)^2\\rangle=\\int_{-x_{max}}^{+x_{max}}x^2.\\textrm{d}p$ avec $\\textrm{d}p={\\textrm{d}x\\over 2.x_{max}}$).\n",
    "<ol>\n",
    "<li> Se fixer une valeur de $N$.\n",
    "<li> Calculer $OM_{(N)}$ au bout de $N$ pas ($OM_{(N)}\\in\\mathbb{R}$).\n",
    "<li> Réitérer $K$ fois le calcul et calculer $\\sigma^2$: la moyenne de $(OM_{(N)})^2$\n",
    "(i.e. la variance de la distance à l'origine).\n",
    "<li> Reprendre tout le calcul pour différentes valeurs de $N$\n",
    "et tracer $\\sigma$ (i.e. l'écart-type de la distance à l'origine) en fonction de $\\sqrt{N}$.\n",
    "</ol>\n",
    "</ol>\n",
    "\n",
    "<h3> Déplacement dans un plan </h3>\n",
    "\n",
    "On suppose que la particule se déplace, à chaque itération, de $(\\Delta x,\\Delta y)$ dans un plan $(Oxy)$.<br>\n",
    "En théorie, on a: $d^2_{(N)}=(\\Delta x_1+\\Delta x_2+\\dots+\\Delta x_N)^2+(\\Delta y_1+\\Delta y_2+\\dots+\\Delta y_N)^2$.<br>\n",
    "D'où: $d^2_{(N)}=\\Delta x^2_1+\\Delta x^2_2+\\dots+\\Delta x^2_N+2.\\Delta x_1.\\Delta x_2+2.\\Delta x_1.\\Delta x_3+\\dots+2.\\Delta x_2.\\Delta x_3+\\dots+(x\\to y)$.<br>\n",
    "Pour un déplacement équiprobable dans toute les directions, les termes croisés s'annulent en moyenne; il reste:\n",
    "$d^2_{(N)}\\simeq\\Delta x^2_1+\\Delta x^2_2+\\dots+\\Delta x^2_N+\\Delta y^2_1+\\Delta y^2_2+\\dots+\\Delta y^2_N=N.(\\langle\\Delta x^2\\rangle+\\langle\\Delta y^2\\rangle)=N.\\langle d^2\\rangle$.<br>\n",
    "Finalement: $d_{(N)}\\simeq\\sqrt{N}.d_{rms}$.\n",
    "\n",
    "<ol>\n",
    "<li> A chaque pas, la particule effectue un déplacement entier vers le haut ($\\Delta y=+1$),\n",
    "le bas ($\\Delta y=-1$), la droite ($\\Delta x=+1$) ou la gauche ($\\Delta x=-1$).\n",
    "Cela revient à choisir une direction parmi 4 avec la probabilité $1/4$\n",
    "et à avoir: $\\langle(\\Delta x)^2\\rangle=\\langle(\\Delta y)^2\\rangle=1/2$.\n",
    "<ol>\n",
    "<li> Se fixer une valeur de $N$.\n",
    "<li> Tracer l'évolution de $\\overrightarrow{OM_{(N)}}$ en fonction de $N$.\n",
    "<li> Réitérer $K$ fois le calcul et calculer $\\sigma^2$: la moyenne de $(OM_{(N)})^2$.\n",
    "<li> Reprendre tout le calcul pour différentes valeurs de $N$ et tracer $\\sigma$ en fonction de $\\sqrt{N}$.\n",
    "</ol>\n",
    "\n",
    "<li> A chaque pas, la particule effectue un déplacement\n",
    "$\\Delta x\\in[-\\sqrt{3/2},+\\sqrt{3/2}]$ et $\\Delta y\\in[-\\sqrt{3/2},+\\sqrt{3/2}]$.<br>\n",
    "(Ainsi: $\\langle(\\Delta x)^2\\rangle=\\langle(\\Delta y)^2\\rangle=1/2$).\n",
    "Reprendre les mêmes questions.\n",
    "</ol>"
   ]
  },
  {
   "cell_type": "code",
   "execution_count": 3,
   "metadata": {
    "collapsed": false,
    "deletable": true,
    "editable": true
   },
   "outputs": [
    {
     "name": "stdout",
     "output_type": "stream",
     "text": [
      "- : unit = ()\n",
      "Findlib has been successfully loaded. Additional directives:\n",
      "  #require \"package\";;      to load a package\n",
      "  #list;;                   to list the available packages\n",
      "  #camlp4o;;                to load camlp4 (standard syntax)\n",
      "  #camlp4r;;                to load camlp4 (revised syntax)\n",
      "  #predicates \"p,q,...\";;   to set these predicates\n",
      "  Topfind.reset();;         to force that packages will be reloaded\n",
      "  #thread;;                 to enable threads\n",
      "\n",
      "- : unit = ()\n"
     ]
    },
    {
     "name": "stderr",
     "output_type": "stream",
     "text": [
      "/usr/lib/ocaml/plplot: added to search path\n",
      "/usr/lib/ocaml/plplot/plplot.cma: loaded\n"
     ]
    },
    {
     "data": {
      "text/html": [
       "<pre style=\"color:slategray;max-height:100px;overflow:hidden\" \n",
       "onclick=\"\n",
       "if (this.style.maxHeight === 'none') \n",
       "    this.style.maxHeight = '100px';\n",
       "else\n",
       "    this.style.maxHeight = 'none'; \n",
       "\">- : unit -&gt; unit = &lt;fun&gt;\n",
       "</pre>"
      ]
     },
     "execution_count": 3,
     "metadata": {},
     "output_type": "execute_result"
    },
    {
     "data": {
      "text/html": [
       "<pre style=\"color:slategray;max-height:100px;overflow:hidden\" \n",
       "onclick=\"\n",
       "if (this.style.maxHeight === 'none') \n",
       "    this.style.maxHeight = '100px';\n",
       "else\n",
       "    this.style.maxHeight = 'none'; \n",
       "\">module P = Plplot.Plot\n",
       "</pre>"
      ]
     },
     "execution_count": 3,
     "metadata": {},
     "output_type": "execute_result"
    },
    {
     "data": {
      "text/html": [
       "<pre style=\"color:slategray;max-height:100px;overflow:hidden\" \n",
       "onclick=\"\n",
       "if (this.style.maxHeight === 'none') \n",
       "    this.style.maxHeight = '100px';\n",
       "else\n",
       "    this.style.maxHeight = 'none'; \n",
       "\">val couleurs_list : int list list =\n",
       "  [[0; 255; 255; 255]; [1; 0; 0; 0]; [2; 0; 0; 255]; [3; 255; 0; 0];\n",
       "   [4; 165; 42; 42]; [5; 0; 0; 0]; [6; 0; 0; 0]; [7; 0; 0; 0]; [8; 0; 0; 0];\n",
       "   [9; 0; 0; 0]; [10; 200; 200; 200]; [11; 0; 255; 255]; [12; 0; 255; 0];\n",
       "   [13; 255; 255; 0]; [14; 255; 0; 255]; [15; 160; 0; 213]]\n",
       "</pre>"
      ]
     },
     "execution_count": 3,
     "metadata": {},
     "output_type": "execute_result"
    },
    {
     "data": {
      "text/html": [
       "<pre style=\"color:slategray;max-height:100px;overflow:hidden\" \n",
       "onclick=\"\n",
       "if (this.style.maxHeight === 'none') \n",
       "    this.style.maxHeight = '100px';\n",
       "else\n",
       "    this.style.maxHeight = 'none'; \n",
       "\">val loop : int list list -&gt; unit = &lt;fun&gt;\n",
       "</pre>"
      ]
     },
     "execution_count": 3,
     "metadata": {},
     "output_type": "execute_result"
    },
    {
     "data": {
      "text/html": [
       "<pre style=\"color:slategray;max-height:100px;overflow:hidden\" \n",
       "onclick=\"\n",
       "if (this.style.maxHeight === 'none') \n",
       "    this.style.maxHeight = '100px';\n",
       "else\n",
       "    this.style.maxHeight = 'none'; \n",
       "\">val couleurs : unit -&gt; unit = &lt;fun&gt;\n",
       "</pre>"
      ]
     },
     "execution_count": 3,
     "metadata": {},
     "output_type": "execute_result"
    },
    {
     "data": {
      "text/html": [
       "<pre style=\"color:slategray;max-height:100px;overflow:hidden\" \n",
       "onclick=\"\n",
       "if (this.style.maxHeight === 'none') \n",
       "    this.style.maxHeight = '100px';\n",
       "else\n",
       "    this.style.maxHeight = 'none'; \n",
       "\">val initialisation : string -&gt; float -&gt; float -&gt; float -&gt; float -&gt; P.stream_t =\n",
       "  &lt;fun&gt;\n",
       "</pre>"
      ]
     },
     "execution_count": 3,
     "metadata": {},
     "output_type": "execute_result"
    },
    {
     "data": {
      "text/html": [
       "<pre style=\"color:slategray;max-height:100px;overflow:hidden\" \n",
       "onclick=\"\n",
       "if (this.style.maxHeight === 'none') \n",
       "    this.style.maxHeight = '100px';\n",
       "else\n",
       "    this.style.maxHeight = 'none'; \n",
       "\">val xlabel : string -&gt; P.plot_t = &lt;fun&gt;\n",
       "</pre>"
      ]
     },
     "execution_count": 3,
     "metadata": {},
     "output_type": "execute_result"
    },
    {
     "data": {
      "text/html": [
       "<pre style=\"color:slategray;max-height:100px;overflow:hidden\" \n",
       "onclick=\"\n",
       "if (this.style.maxHeight === 'none') \n",
       "    this.style.maxHeight = '100px';\n",
       "else\n",
       "    this.style.maxHeight = 'none'; \n",
       "\">val ylabel : string -&gt; P.plot_t = &lt;fun&gt;\n",
       "</pre>"
      ]
     },
     "execution_count": 3,
     "metadata": {},
     "output_type": "execute_result"
    }
   ],
   "source": [
    "open Random;;\n",
    "Random.self_init;;\n",
    "#use \"topfind\";;\n",
    "#require \"plplot\";;\n",
    "open Plplot;;\n",
    "module P = Plot;;\n",
    "let couleurs_list = [[ 0;255;255;255]; (*`white*)\n",
    "                     [ 1;  0;  0;  0]; (*`black*)\n",
    "                     [ 2;  0;  0;255]; (*`blue*)\n",
    "                     [ 3;255;  0;  0]; (*`red*)\n",
    "                     [ 4;165; 42; 42]; (*`brown*)\n",
    "                     [ 5;  0;  0;  0]; [ 6;  0;  0;  0]; [ 7;  0;  0;  0]; [ 8;  0;  0;  0]; [ 9;  0;  0;  0]; \n",
    "                     [10;200;200;200]; (*`gray*)\n",
    "                     [11;  0;255;255]; (*`light_blue*)\n",
    "                     [12;  0;255;  0]; (*`green*)\n",
    "                     [13;255;255;  0]; (*`yellow*)\n",
    "                     [14;255;  0;255]; (*`pink*)\n",
    "                     [15;160;  0;213]; (*`purple*) ]\n",
    "let rec loop couleurs_list = match couleurs_list with\n",
    "    | [n;r;g;b]::tl -> plscol0 n r g b; loop tl\n",
    "    | _ -> ();;\n",
    "let couleurs = (fun () -> plscolbg 255 255 255; loop couleurs_list)\n",
    "let initialisation filename xmin xmax ymin ymax = \n",
    "        P.init (xmin, ymin) (xmax, ymax) `greedy (`svg `core) ~filename:(filename^\".svg\") ~pre:couleurs\n",
    "let xlabel texte = P.text_outside `black (`bottom 0.5) 3. texte\n",
    "let ylabel texte = P.text_outside `black (`left 0.5) 5. texte "
   ]
  },
  {
   "cell_type": "code",
   "execution_count": 4,
   "metadata": {
    "collapsed": false,
    "deletable": true,
    "editable": true
   },
   "outputs": [
    {
     "data": {
      "text/html": [
       "<pre style=\"color:slategray;max-height:100px;overflow:hidden\" \n",
       "onclick=\"\n",
       "if (this.style.maxHeight === 'none') \n",
       "    this.style.maxHeight = '100px';\n",
       "else\n",
       "    this.style.maxHeight = 'none'; \n",
       "\">val range : int -&gt; int -&gt; int -&gt; int list = &lt;fun&gt;\n",
       "</pre>"
      ]
     },
     "execution_count": 4,
     "metadata": {},
     "output_type": "execute_result"
    }
   ],
   "source": [
    "let range debut fin step =\n",
    "   let rec range i acc =\n",
    "     if i>=fin then List.rev acc\n",
    "     else range (i+step) (i::acc) in\n",
    "   range debut [];;"
   ]
  },
  {
   "cell_type": "code",
   "execution_count": 5,
   "metadata": {
    "collapsed": false,
    "deletable": true,
    "editable": true
   },
   "outputs": [
    {
     "data": {
      "text/html": [
       "<pre style=\"color:slategray;max-height:100px;overflow:hidden\" \n",
       "onclick=\"\n",
       "if (this.style.maxHeight === 'none') \n",
       "    this.style.maxHeight = '100px';\n",
       "else\n",
       "    this.style.maxHeight = 'none'; \n",
       "\">val linspace : float -&gt; float -&gt; int -&gt; float list = &lt;fun&gt;\n",
       "</pre>"
      ]
     },
     "execution_count": 5,
     "metadata": {},
     "output_type": "execute_result"
    }
   ],
   "source": [
    "let linspace start stop nbre =\n",
    "    let step = (stop-.start)/.(float_of_int (nbre-1)) in\n",
    "    let rec linspace num acc =\n",
    "        if num=nbre then List.rev acc else\n",
    "        linspace (num+1) ((start+.(float_of_int num)*.step)::acc) in\n",
    "    linspace 0 []"
   ]
  },
  {
   "cell_type": "code",
   "execution_count": 6,
   "metadata": {
    "collapsed": false,
    "deletable": true,
    "editable": true
   },
   "outputs": [
    {
     "data": {
      "text/html": [
       "<pre style=\"color:slategray;max-height:100px;overflow:hidden\" \n",
       "onclick=\"\n",
       "if (this.style.maxHeight === 'none') \n",
       "    this.style.maxHeight = '100px';\n",
       "else\n",
       "    this.style.maxHeight = 'none'; \n",
       "\">val array_min : 'a array -&gt; 'a = &lt;fun&gt;\n",
       "</pre>"
      ]
     },
     "execution_count": 6,
     "metadata": {},
     "output_type": "execute_result"
    },
    {
     "data": {
      "text/html": [
       "<pre style=\"color:slategray;max-height:100px;overflow:hidden\" \n",
       "onclick=\"\n",
       "if (this.style.maxHeight === 'none') \n",
       "    this.style.maxHeight = '100px';\n",
       "else\n",
       "    this.style.maxHeight = 'none'; \n",
       "\">val array_max : 'a array -&gt; 'a = &lt;fun&gt;\n",
       "</pre>"
      ]
     },
     "execution_count": 6,
     "metadata": {},
     "output_type": "execute_result"
    }
   ],
   "source": [
    "let array_min arr = Array.fold_left min arr.(0) arr;;\n",
    "let array_max arr = Array.fold_left max arr.(0) arr;;"
   ]
  },
  {
   "cell_type": "code",
   "execution_count": 7,
   "metadata": {
    "collapsed": false,
    "deletable": true,
    "editable": true
   },
   "outputs": [
    {
     "name": "stdout",
     "output_type": "stream",
     "text": [
      "Tirages: 1000\n",
      "Moyenne: -0.098\n",
      "Ecart-Type: 55.5434839364\n"
     ]
    },
    {
     "data": {
      "text/html": [
       "<pre style=\"color:slategray;max-height:100px;overflow:hidden\" \n",
       "onclick=\"\n",
       "if (this.style.maxHeight === 'none') \n",
       "    this.style.maxHeight = '100px';\n",
       "else\n",
       "    this.style.maxHeight = 'none'; \n",
       "\">val racine12 : float = 3.46410161513775439\n",
       "val racine6 : float = 2.44948974278317788\n",
       "</pre>"
      ]
     },
     "execution_count": 7,
     "metadata": {},
     "output_type": "execute_result"
    },
    {
     "data": {
      "text/html": [
       "<pre style=\"color:slategray;max-height:100px;overflow:hidden\" \n",
       "onclick=\"\n",
       "if (this.style.maxHeight === 'none') \n",
       "    this.style.maxHeight = '100px';\n",
       "else\n",
       "    this.style.maxHeight = 'none'; \n",
       "\">val calcul_pas_entier_1D : int -&gt; int = &lt;fun&gt;\n",
       "</pre>"
      ]
     },
     "execution_count": 7,
     "metadata": {},
     "output_type": "execute_result"
    },
    {
     "data": {
      "text/html": [
       "<pre style=\"color:slategray;max-height:100px;overflow:hidden\" \n",
       "onclick=\"\n",
       "if (this.style.maxHeight === 'none') \n",
       "    this.style.maxHeight = '100px';\n",
       "else\n",
       "    this.style.maxHeight = 'none'; \n",
       "\">val calcul_pas_reel_1D : float -&gt; float = &lt;fun&gt;\n",
       "</pre>"
      ]
     },
     "execution_count": 7,
     "metadata": {},
     "output_type": "execute_result"
    },
    {
     "data": {
      "text/html": [
       "<pre style=\"color:slategray;max-height:100px;overflow:hidden\" \n",
       "onclick=\"\n",
       "if (this.style.maxHeight === 'none') \n",
       "    this.style.maxHeight = '100px';\n",
       "else\n",
       "    this.style.maxHeight = 'none'; \n",
       "\">val calcul_pas_entier_2D : int * int -&gt; int * int = &lt;fun&gt;\n",
       "</pre>"
      ]
     },
     "execution_count": 7,
     "metadata": {},
     "output_type": "execute_result"
    },
    {
     "data": {
      "text/html": [
       "<pre style=\"color:slategray;max-height:100px;overflow:hidden\" \n",
       "onclick=\"\n",
       "if (this.style.maxHeight === 'none') \n",
       "    this.style.maxHeight = '100px';\n",
       "else\n",
       "    this.style.maxHeight = 'none'; \n",
       "\">val calcul_pas_reel_2D : float * float -&gt; float * float = &lt;fun&gt;\n",
       "</pre>"
      ]
     },
     "execution_count": 7,
     "metadata": {},
     "output_type": "execute_result"
    },
    {
     "data": {
      "text/html": [
       "<pre style=\"color:slategray;max-height:100px;overflow:hidden\" \n",
       "onclick=\"\n",
       "if (this.style.maxHeight === 'none') \n",
       "    this.style.maxHeight = '100px';\n",
       "else\n",
       "    this.style.maxHeight = 'none'; \n",
       "\">type pas = Entier1D | Reel1D | Entier2D | Reel2D\n",
       "</pre>"
      ]
     },
     "execution_count": 7,
     "metadata": {},
     "output_type": "execute_result"
    },
    {
     "data": {
      "text/html": [
       "<pre style=\"color:slategray;max-height:100px;overflow:hidden\" \n",
       "onclick=\"\n",
       "if (this.style.maxHeight === 'none') \n",
       "    this.style.maxHeight = '100px';\n",
       "else\n",
       "    this.style.maxHeight = 'none'; \n",
       "\">val loop_entier : pas -&gt; int -&gt; int -&gt; int * int -&gt; int * int = &lt;fun&gt;\n",
       "</pre>"
      ]
     },
     "execution_count": 7,
     "metadata": {},
     "output_type": "execute_result"
    },
    {
     "data": {
      "text/html": [
       "<pre style=\"color:slategray;max-height:100px;overflow:hidden\" \n",
       "onclick=\"\n",
       "if (this.style.maxHeight === 'none') \n",
       "    this.style.maxHeight = '100px';\n",
       "else\n",
       "    this.style.maxHeight = 'none'; \n",
       "\">val loop_reel : pas -&gt; int -&gt; int -&gt; float * float -&gt; float * float = &lt;fun&gt;\n",
       "</pre>"
      ]
     },
     "execution_count": 7,
     "metadata": {},
     "output_type": "execute_result"
    },
    {
     "data": {
      "text/html": [
       "<pre style=\"color:slategray;max-height:100px;overflow:hidden\" \n",
       "onclick=\"\n",
       "if (this.style.maxHeight === 'none') \n",
       "    this.style.maxHeight = '100px';\n",
       "else\n",
       "    this.style.maxHeight = 'none'; \n",
       "\">val ecart_type : int -&gt; int -&gt; pas -&gt; float = &lt;fun&gt;\n",
       "</pre>"
      ]
     },
     "execution_count": 7,
     "metadata": {},
     "output_type": "execute_result"
    },
    {
     "data": {
      "text/html": [
       "<pre style=\"color:slategray;max-height:100px;overflow:hidden\" \n",
       "onclick=\"\n",
       "if (this.style.maxHeight === 'none') \n",
       "    this.style.maxHeight = '100px';\n",
       "else\n",
       "    this.style.maxHeight = 'none'; \n",
       "\">val tracer_ecart_type : string -&gt; int -&gt; int -&gt; pas -&gt; unit = &lt;fun&gt;\n",
       "</pre>"
      ]
     },
     "execution_count": 7,
     "metadata": {},
     "output_type": "execute_result"
    },
    {
     "data": {
      "text/html": [
       "<pre style=\"color:slategray;max-height:100px;overflow:hidden\" \n",
       "onclick=\"\n",
       "if (this.style.maxHeight === 'none') \n",
       "    this.style.maxHeight = '100px';\n",
       "else\n",
       "    this.style.maxHeight = 'none'; \n",
       "\">val tracer_marche_1D : string -&gt; int -&gt; int -&gt; unit = &lt;fun&gt;\n",
       "</pre>"
      ]
     },
     "execution_count": 7,
     "metadata": {},
     "output_type": "execute_result"
    },
    {
     "data": {
      "text/html": [
       "<pre style=\"color:slategray;max-height:100px;overflow:hidden\" \n",
       "onclick=\"\n",
       "if (this.style.maxHeight === 'none') \n",
       "    this.style.maxHeight = '100px';\n",
       "else\n",
       "    this.style.maxHeight = 'none'; \n",
       "\">- : unit = ()\n",
       "</pre>"
      ]
     },
     "execution_count": 7,
     "metadata": {},
     "output_type": "execute_result"
    }
   ],
   "source": [
    "let calcul_pas_entier_1D x =\n",
    "    \"à compléter\"\n",
    "        \n",
    "let calcul_pas_reel_1D x =\n",
    "    \"à compléter\"\n",
    "        \n",
    "let calcul_pas_entier_2D (x,y) =\n",
    "    \"à compléter\"\n",
    "\n",
    "let calcul_pas_reel_2D (x,y) =\n",
    "    \"à compléter\"\n",
    "\n",
    "type pas = Entier1D | Reel1D | Entier2D | Reel2D;;\n",
    "\n",
    "let rec loop_entier type_pas n n_max (x,y) =\n",
    "    \"à compléter\"\n",
    "\n",
    "let rec loop_reel type_pas n n_max (x,y) =\n",
    "    \"à compléter\"\n",
    "\n",
    "let ecart_type k n type_pas =\n",
    "    \"à compléter\"\n",
    "\n",
    "let tracer_ecart_type filename racine_Nmax racine_Nstep type_pas =\n",
    "    \"à compléter\"\n",
    "    \n",
    "    let xs = Array.of_list (List.map float_of_int liste_x) in\n",
    "    let ys = Array.of_list liste_y in\n",
    "    let p = initialisation filename 0. (array_max xs) 0. (array_max ys) in\n",
    "    P.plot ~stream:p [P.points ~symbol:\"+\" `black xs ys;\n",
    "                      P.lines `red xs xs;\n",
    "                      xlabel \"(Nbre de pas)^(1/2)\";\n",
    "                      ylabel \"Ecart-type\"];\n",
    "    P.finish ~stream:p ();;\n",
    "\n",
    "let tracer_marche_1D filename k n =\n",
    "    \"à compléter\"\n",
    "    let xs = Array.of_list (List.map float_of_int liste_x) in\n",
    "    let ys = Array.of_list (List.map float_of_int liste_y) in\n",
    "    let p = initialisation filename (array_min xs) (array_max xs) 0. (array_max ys) in\n",
    "    P.plot ~stream:p [P.points ~symbol:\"+\" `blue xs ys];\n",
    "    P.finish ~stream:p ();;\n",
    "    \n",
    "tracer_marche_1D \"graph1\" 1000 100;;"
   ]
  },
  {
   "cell_type": "code",
   "execution_count": 8,
   "metadata": {
    "collapsed": false,
    "deletable": true,
    "editable": true
   },
   "outputs": [
    {
     "data": {
      "text/html": [
       "<pre style=\"color:slategray;max-height:100px;overflow:hidden\" \n",
       "onclick=\"\n",
       "if (this.style.maxHeight === 'none') \n",
       "    this.style.maxHeight = '100px';\n",
       "else\n",
       "    this.style.maxHeight = 'none'; \n",
       "\">val arr : int array = [|0; 0; 0; 0; 0; 0; 0; 0; 0; 0|]\n",
       "</pre>"
      ]
     },
     "execution_count": 8,
     "metadata": {},
     "output_type": "execute_result"
    },
    {
     "data": {
      "text/html": [
       "<pre style=\"color:slategray;max-height:100px;overflow:hidden\" \n",
       "onclick=\"\n",
       "if (this.style.maxHeight === 'none') \n",
       "    this.style.maxHeight = '100px';\n",
       "else\n",
       "    this.style.maxHeight = 'none'; \n",
       "\">- : unit = ()\n",
       "</pre>"
      ]
     },
     "execution_count": 8,
     "metadata": {},
     "output_type": "execute_result"
    },
    {
     "data": {
      "text/html": [
       "<pre style=\"color:slategray;max-height:100px;overflow:hidden\" \n",
       "onclick=\"\n",
       "if (this.style.maxHeight === 'none') \n",
       "    this.style.maxHeight = '100px';\n",
       "else\n",
       "    this.style.maxHeight = 'none'; \n",
       "\">- : int array = [|0; 0; 1; 0; 0; 0; 0; 0; 0; 0|]\n",
       "</pre>"
      ]
     },
     "execution_count": 8,
     "metadata": {},
     "output_type": "execute_result"
    }
   ],
   "source": [
    "let arr = Array.make 10 0;;\n",
    "arr.(2)<-arr.(2)+1;;\n",
    "arr;;"
   ]
  },
  {
   "cell_type": "markdown",
   "metadata": {
    "deletable": true,
    "editable": true
   },
   "source": [
    "<img src=\"graph1.svg\" width=500 />"
   ]
  },
  {
   "cell_type": "code",
   "execution_count": 9,
   "metadata": {
    "collapsed": false,
    "deletable": true,
    "editable": true
   },
   "outputs": [
    {
     "name": "stdout",
     "output_type": "stream",
     "text": [
      "RacineN =1 1.4965193998\n",
      "RacineN =2 2.53223932278\n",
      "RacineN =3 4.48558414258\n",
      "RacineN =4 2.67996405415\n",
      "RacineN =5 2.73984325478\n",
      "RacineN =6 5.01301452321\n",
      "RacineN =7 5.83433577008\n",
      "RacineN =8 7.4013513457\n",
      "RacineN =9 7.57509610186\n",
      "RacineN =10 9.29289658686\n",
      "RacineN =11 7.14707811887\n",
      "RacineN =12 10.6955950713\n",
      "RacineN =13 12.7750781685\n",
      "RacineN =14 11.0698493006\n",
      "RacineN =15 15.4406490213\n",
      "RacineN =16 15.3411713988\n",
      "RacineN =17 16.2213539706\n",
      "RacineN =18 16.9551691891\n",
      "RacineN =19 21.9243800245\n",
      "RacineN =20 17.6118906651\n",
      "RacineN =21 23.0301897308\n",
      "RacineN =22 18.8596362055\n",
      "RacineN =23 17.8593585603\n",
      "RacineN =24 18.7008362166\n",
      "RacineN =25 32.6489015667\n",
      "RacineN =26 30.7250351014\n",
      "RacineN =27 25.4886131661\n",
      "RacineN =28 24.5408671861\n",
      "RacineN =29 30.9828606462\n",
      "RacineN =30 30.2871644582\n",
      "RacineN =31 30.2422702727\n",
      "RacineN =32 34.5586483263\n",
      "RacineN =33 38.3034804849\n",
      "RacineN =34 34.8555367337\n",
      "RacineN =35 37.779236878\n",
      "RacineN =36 38.168259278\n",
      "RacineN =37 30.1634177387\n",
      "RacineN =38 32.7484052915\n",
      "RacineN =39 40.9488463403\n",
      "RacineN =40 39.6164459979\n",
      "RacineN =41 44.7490255215\n",
      "RacineN =42 43.5902798381\n",
      "RacineN =43 41.1847119478\n",
      "RacineN =44 37.9545569489\n",
      "RacineN =45 43.7189206727\n",
      "RacineN =46 42.750438703\n",
      "RacineN =47 43.2653228303\n",
      "RacineN =48 49.0293402438\n",
      "RacineN =49 48.6342424706\n",
      "RacineN =50 47.0181078893\n",
      "RacineN =51 53.2996703187\n",
      "RacineN =52 53.0950171522\n",
      "RacineN =53 58.015287854\n",
      "RacineN =54 57.3334842427\n",
      "RacineN =55 52.8182904985\n",
      "RacineN =56 57.5138559036\n",
      "RacineN =57 58.0395120195\n",
      "RacineN =58 66.023080659\n",
      "RacineN =59 55.425774337\n",
      "RacineN =60 60.7573985506\n",
      "RacineN =61 64.9277216788\n",
      "RacineN =62 65.2057017943\n",
      "RacineN =63 65.2443549898\n",
      "RacineN =64 69.8670055031\n",
      "RacineN =65 61.6479079786\n",
      "RacineN =66 72.2989765705\n",
      "RacineN =67 70.7761523532\n",
      "RacineN =68 65.4120216064\n",
      "RacineN =69 64.8234375698\n",
      "RacineN =70 68.2079560698\n",
      "RacineN =71 70.4286014096\n",
      "RacineN =72 71.9742086789\n",
      "RacineN =73 68.117958979\n",
      "RacineN =74 82.056101292\n",
      "RacineN =75 70.4593065006\n",
      "RacineN =76 76.0983037176\n",
      "RacineN =77 74.6180483109\n",
      "RacineN =78 82.9507877178\n",
      "RacineN =79 81.2177568947\n",
      "RacineN =80 81.876897441\n",
      "RacineN =81 85.3165009337\n",
      "RacineN =82 87.4405148511\n",
      "RacineN =83 78.1057287877\n",
      "RacineN =84 83.9358478873\n",
      "RacineN =85 82.9303157114\n",
      "RacineN =86 99.4004022085\n",
      "RacineN =87 91.1778991523\n",
      "RacineN =88 95.9904823874\n",
      "RacineN =89 95.860156626\n",
      "RacineN =90 97.8170850575\n",
      "RacineN =91 82.9051784986\n",
      "RacineN =92 87.2143069768\n",
      "RacineN =93 82.5079867231\n",
      "RacineN =94 89.2081895172\n",
      "RacineN =95 97.0756430207\n",
      "RacineN =96 91.0928025596\n",
      "RacineN =97 89.3289871185\n",
      "RacineN =98 100.317989518\n",
      "RacineN =99 105.840942416\n",
      "RacineN =100 100.700309872\n"
     ]
    },
    {
     "data": {
      "text/html": [
       "<pre style=\"color:slategray;max-height:100px;overflow:hidden\" \n",
       "onclick=\"\n",
       "if (this.style.maxHeight === 'none') \n",
       "    this.style.maxHeight = '100px';\n",
       "else\n",
       "    this.style.maxHeight = 'none'; \n",
       "\">- : unit = ()\n",
       "</pre>"
      ]
     },
     "execution_count": 9,
     "metadata": {},
     "output_type": "execute_result"
    }
   ],
   "source": [
    "tracer_ecart_type \"graph2\" 101 1 Reel1D"
   ]
  },
  {
   "cell_type": "markdown",
   "metadata": {
    "deletable": true,
    "editable": true
   },
   "source": [
    "<img src=\"./graph2.svg\" width=500/>"
   ]
  },
  {
   "cell_type": "code",
   "execution_count": 10,
   "metadata": {
    "collapsed": false,
    "deletable": true,
    "editable": true
   },
   "outputs": [
    {
     "name": "stdout",
     "output_type": "stream",
     "text": [
      "RacineN =1 1.\n",
      "RacineN =2 2.64575131106\n",
      "RacineN =3 2.2360679775\n",
      "RacineN =4 2.82842712475\n",
      "RacineN =5 5.53172667438\n",
      "RacineN =6 5.03322295685\n",
      "RacineN =7 4.88437742779\n",
      "RacineN =8 6.81909084849\n",
      "RacineN =9 7.03167436991\n",
      "RacineN =10 6.78232998313\n",
      "RacineN =11 10.1935808678\n",
      "RacineN =12 12.7082650271\n",
      "RacineN =13 14.7204724004\n",
      "RacineN =14 17.3163836541\n",
      "RacineN =15 16.2213850621\n",
      "RacineN =16 15.1533824607\n",
      "RacineN =17 14.3506507333\n",
      "RacineN =18 20.7444771767\n",
      "RacineN =19 22.2367642478\n",
      "RacineN =20 21.0380607471\n",
      "RacineN =21 18.89948349\n",
      "RacineN =22 25.7823054192\n",
      "RacineN =23 25.3728715106\n",
      "RacineN =24 24.9048188108\n",
      "RacineN =25 23.2525267444\n",
      "RacineN =26 22.892726423\n",
      "RacineN =27 27.8295073884\n",
      "RacineN =28 28.0395129365\n",
      "RacineN =29 23.9316555619\n",
      "RacineN =30 29.2312618042\n",
      "RacineN =31 28.2266174999\n",
      "RacineN =32 33.7796166349\n",
      "RacineN =33 25.8603475568\n",
      "RacineN =34 32.8758806637\n",
      "RacineN =35 36.8638421376\n",
      "RacineN =36 40.1746188532\n",
      "RacineN =37 38.1735014927\n",
      "RacineN =38 38.3817390791\n",
      "RacineN =39 37.16042836\n",
      "RacineN =40 42.1319356308\n",
      "RacineN =41 45.736520072\n",
      "RacineN =42 37.8751080464\n",
      "RacineN =43 43.8005521894\n",
      "RacineN =44 47.1284511637\n",
      "RacineN =45 44.924875564\n",
      "RacineN =46 49.5176736126\n",
      "RacineN =47 44.4414508448\n",
      "RacineN =48 45.7971068955\n",
      "RacineN =49 57.6642286457\n"
     ]
    },
    {
     "data": {
      "text/html": [
       "<pre style=\"color:slategray;max-height:100px;overflow:hidden\" \n",
       "onclick=\"\n",
       "if (this.style.maxHeight === 'none') \n",
       "    this.style.maxHeight = '100px';\n",
       "else\n",
       "    this.style.maxHeight = 'none'; \n",
       "\">- : unit = ()\n",
       "</pre>"
      ]
     },
     "execution_count": 10,
     "metadata": {},
     "output_type": "execute_result"
    }
   ],
   "source": [
    "tracer_ecart_type \"graph3\" 50 1 Entier2D;;"
   ]
  },
  {
   "cell_type": "markdown",
   "metadata": {
    "deletable": true,
    "editable": true
   },
   "source": [
    "<img src=\"./graph3.svg\" width=500/>"
   ]
  },
  {
   "cell_type": "code",
   "execution_count": 11,
   "metadata": {
    "collapsed": false,
    "deletable": true,
    "editable": true
   },
   "outputs": [
    {
     "name": "stdout",
     "output_type": "stream",
     "text": [
      "xFinal = -2.\n",
      "yFinal = 3.\n",
      "Distance a l'origine = 3.60555127546\n"
     ]
    },
    {
     "data": {
      "text/html": [
       "<pre style=\"color:slategray;max-height:100px;overflow:hidden\" \n",
       "onclick=\"\n",
       "if (this.style.maxHeight === 'none') \n",
       "    this.style.maxHeight = '100px';\n",
       "else\n",
       "    this.style.maxHeight = 'none'; \n",
       "\">val tracer_marche_2D : string -&gt; int -&gt; pas -&gt; unit = &lt;fun&gt;\n",
       "</pre>"
      ]
     },
     "execution_count": 11,
     "metadata": {},
     "output_type": "execute_result"
    },
    {
     "data": {
      "text/html": [
       "<pre style=\"color:slategray;max-height:100px;overflow:hidden\" \n",
       "onclick=\"\n",
       "if (this.style.maxHeight === 'none') \n",
       "    this.style.maxHeight = '100px';\n",
       "else\n",
       "    this.style.maxHeight = 'none'; \n",
       "\">- : unit = ()\n",
       "</pre>"
      ]
     },
     "execution_count": 11,
     "metadata": {},
     "output_type": "execute_result"
    }
   ],
   "source": [
    "let tracer_marche_2D filename n type_pas =\n",
    "    \"à compléter\"\n",
    "\n",
    "    let x_final = chemin_X.(n-1) in\n",
    "    let y_final = chemin_Y.(n-1) in\n",
    "(*    let p = initialisation filename (array_min chemin_X) (array_max chemin_X) (array_min chemin_Y) (array_max chemin_Y) in\n",
    "*) \n",
    "    let p = initialisation filename (-.20.) 20. (-.20.) 20. in\n",
    "    P.plot_axes ~stream:p [`axis;`major_ticks;`label] \n",
    "                          [`axis;`major_ticks;`label];\n",
    "    P.plot ~stream:p [P.lines `blue chemin_X chemin_Y;\n",
    "                      P.circle ~fill:true `blue x_final y_final 0.7;\n",
    "                      P.label \"\" \"\" \"Graphe Marche 2D\"];\n",
    "    P.end_stream ~stream:p ();\n",
    "\n",
    "    print_string (\"xFinal = \"^(string_of_float x_final)^\"\\n\");\n",
    "    print_string (\"yFinal = \"^(string_of_float y_final)^\"\\n\");\n",
    "    print_string (\"Distance a l'origine = \"^(string_of_float(sqrt(x_final**2. +. y_final**2.)))^\"\\n\");;\n",
    "\n",
    "tracer_marche_2D \"graph4\" 200 Entier2D;;"
   ]
  },
  {
   "cell_type": "markdown",
   "metadata": {
    "deletable": true,
    "editable": true
   },
   "source": [
    "<img src=\"graph4.svg\" width=500 />"
   ]
  },
  {
   "cell_type": "code",
   "execution_count": 12,
   "metadata": {
    "collapsed": false,
    "deletable": true,
    "editable": true
   },
   "outputs": [
    {
     "name": "stdout",
     "output_type": "stream",
     "text": [
      "RacineN =1 1.\n",
      "RacineN =6 5.59761854125\n",
      "RacineN =11 7.99431616269\n",
      "RacineN =16 14.7605894191\n",
      "RacineN =21 19.4311973015\n",
      "RacineN =26 29.2035298183\n",
      "RacineN =31 31.558956604\n",
      "RacineN =36 36.6848439792\n",
      "RacineN =41 39.4761428417\n",
      "RacineN =46 45.8385636014\n"
     ]
    },
    {
     "data": {
      "text/html": [
       "<pre style=\"color:slategray;max-height:100px;overflow:hidden\" \n",
       "onclick=\"\n",
       "if (this.style.maxHeight === 'none') \n",
       "    this.style.maxHeight = '100px';\n",
       "else\n",
       "    this.style.maxHeight = 'none'; \n",
       "\">- : unit = ()\n",
       "</pre>"
      ]
     },
     "execution_count": 12,
     "metadata": {},
     "output_type": "execute_result"
    }
   ],
   "source": [
    "tracer_ecart_type \"graph5\" 50 5 Entier2D"
   ]
  },
  {
   "cell_type": "markdown",
   "metadata": {
    "deletable": true,
    "editable": true
   },
   "source": [
    "<img src=\"graph5.svg\" width=500/>"
   ]
  },
  {
   "cell_type": "code",
   "execution_count": 13,
   "metadata": {
    "collapsed": false,
    "deletable": true,
    "editable": true
   },
   "outputs": [
    {
     "name": "stdout",
     "output_type": "stream",
     "text": [
      "xFinal = 12.3473802078\n",
      "yFinal = -11.6658088963\n",
      "Distance a l'origine = 16.9867270303\n"
     ]
    },
    {
     "data": {
      "text/html": [
       "<pre style=\"color:slategray;max-height:100px;overflow:hidden\" \n",
       "onclick=\"\n",
       "if (this.style.maxHeight === 'none') \n",
       "    this.style.maxHeight = '100px';\n",
       "else\n",
       "    this.style.maxHeight = 'none'; \n",
       "\">- : unit = ()\n",
       "</pre>"
      ]
     },
     "execution_count": 13,
     "metadata": {},
     "output_type": "execute_result"
    }
   ],
   "source": [
    "tracer_marche_2D \"graph6\" 200 Reel2D"
   ]
  },
  {
   "cell_type": "markdown",
   "metadata": {
    "deletable": true,
    "editable": true
   },
   "source": [
    "<img src=\"graph6.svg\" width=500 />"
   ]
  },
  {
   "cell_type": "code",
   "execution_count": 14,
   "metadata": {
    "collapsed": false,
    "deletable": true,
    "editable": true
   },
   "outputs": [
    {
     "name": "stdout",
     "output_type": "stream",
     "text": [
      "RacineN =1 1.13120662863\n",
      "RacineN =6 5.413678307\n",
      "RacineN =11 13.9166473477\n",
      "RacineN =16 19.8795627413\n",
      "RacineN =21 18.1180874344\n",
      "RacineN =26 30.440956736\n",
      "RacineN =31 31.0143019516\n",
      "RacineN =36 35.405133015\n",
      "RacineN =41 39.8394207837\n",
      "RacineN =46 46.3900266832\n"
     ]
    },
    {
     "data": {
      "text/html": [
       "<pre style=\"color:slategray;max-height:100px;overflow:hidden\" \n",
       "onclick=\"\n",
       "if (this.style.maxHeight === 'none') \n",
       "    this.style.maxHeight = '100px';\n",
       "else\n",
       "    this.style.maxHeight = 'none'; \n",
       "\">- : unit = ()\n",
       "</pre>"
      ]
     },
     "execution_count": 14,
     "metadata": {},
     "output_type": "execute_result"
    }
   ],
   "source": [
    "tracer_ecart_type \"graph7\" 50 5 Reel2D"
   ]
  },
  {
   "cell_type": "markdown",
   "metadata": {
    "deletable": true,
    "editable": true
   },
   "source": [
    "<img src=\"graph7.svg\" width=500/>"
   ]
  },
  {
   "cell_type": "code",
   "execution_count": null,
   "metadata": {
    "collapsed": true,
    "deletable": true,
    "editable": true
   },
   "outputs": [],
   "source": []
  }
 ],
 "metadata": {
  "kernelspec": {
   "display_name": "OCaml",
   "language": "ocaml",
   "name": "iocaml"
  },
  "language_info": {
   "name": "ocaml",
   "version": "4.1.0"
  }
 },
 "nbformat": 4,
 "nbformat_minor": 2
}
