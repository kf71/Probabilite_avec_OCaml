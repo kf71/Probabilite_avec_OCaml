{
 "cells": [
  {
   "cell_type": "markdown",
   "metadata": {},
   "source": [
    "<h1> A380 </h1>\n",
    "\n",
    "\n",
    "\n",
    "Des passagers embarquent à bord d'un Airbus A380. L'avion est complet. Idéalement,\n",
    "les passagers devraient embarquer un à un et s'asseoir à leur place. Cependant, le premier\n",
    "passager, étourdi, s'assoit à une place aléatoire. Ensuite, les passagers s'assoient à leur place\n",
    "si elle est libre, et à une place libre, aléatoirement, sinon. Vous embarquez le dernier. Quelle\n",
    "est la probabilité que votre place soit occupée ?\n",
    "\n",
    "<ol>\n",
    "<li>Ecrire une fonction <tt>place_du_dernier_libre nbre_places</tt> qui prend en argument <tt>nbre_places</tt> le nombre total de place dans l'avion <i>(ex: pour un A380 en configuration standard: 525 places)</i> et qui renvoie un boolean indiquant si oui ou non la derniere place est libre.\n",
    "<li>Ecrire une fonction <tt>probabilite nbre_places nbre_tests</tt> qui appelle <tt>(place_du_dernier_libre nbre_places)</tt> \n",
    "<tt>nbre_tests</tt> fois et qui renvoie une estimation de la probabilité que votre place soit occupée.\n",
    "</ol>"
   ]
  },
  {
   "cell_type": "code",
   "execution_count": 1,
   "metadata": {
    "collapsed": false
   },
   "outputs": [
    {
     "data": {
      "text/html": [
       "<pre style=\"color:slategray;max-height:100px;overflow:hidden\" \n",
       "onclick=\"\n",
       "if (this.style.maxHeight === 'none') \n",
       "    this.style.maxHeight = '100px';\n",
       "else\n",
       "    this.style.maxHeight = 'none'; \n",
       "\">- : unit -&gt; unit = &lt;fun&gt;\n",
       "</pre>"
      ]
     },
     "execution_count": 1,
     "metadata": {},
     "output_type": "execute_result"
    },
    {
     "data": {
      "text/html": [
       "<pre style=\"color:slategray;max-height:100px;overflow:hidden\" \n",
       "onclick=\"\n",
       "if (this.style.maxHeight === 'none') \n",
       "    this.style.maxHeight = '100px';\n",
       "else\n",
       "    this.style.maxHeight = 'none'; \n",
       "\">val range : int -&gt; int -&gt; int list = &lt;fun&gt;\n",
       "</pre>"
      ]
     },
     "execution_count": 1,
     "metadata": {},
     "output_type": "execute_result"
    },
    {
     "data": {
      "text/html": [
       "<pre style=\"color:slategray;max-height:100px;overflow:hidden\" \n",
       "onclick=\"\n",
       "if (this.style.maxHeight === 'none') \n",
       "    this.style.maxHeight = '100px';\n",
       "else\n",
       "    this.style.maxHeight = 'none'; \n",
       "\">val shuffle : 'a list -&gt; 'a list = &lt;fun&gt;\n",
       "</pre>"
      ]
     },
     "execution_count": 1,
     "metadata": {},
     "output_type": "execute_result"
    }
   ],
   "source": [
    "open Random;;\n",
    "Random.self_init;;\n",
    "\n",
    "let range debut fin =\n",
    "   let rec range i acc =\n",
    "     if i=fin then List.rev acc\n",
    "     else range (i+1) (i::acc) in\n",
    "   range debut [];; \n",
    "   \n",
    "let shuffle d =\n",
    "    let nd = List.map (fun c -> (Random.bits (), c)) d in\n",
    "    let sond = List.sort compare nd in\n",
    "    List.map snd sond;;"
   ]
  },
  {
   "cell_type": "code",
   "execution_count": 2,
   "metadata": {
    "collapsed": false
   },
   "outputs": [
    {
     "data": {
      "text/html": [
       "<pre style=\"color:slategray;max-height:100px;overflow:hidden\" \n",
       "onclick=\"\n",
       "if (this.style.maxHeight === 'none') \n",
       "    this.style.maxHeight = '100px';\n",
       "else\n",
       "    this.style.maxHeight = 'none'; \n",
       "\">val place_du_dernier_libre : int -&gt; bool = &lt;fun&gt;\n",
       "</pre>"
      ]
     },
     "execution_count": 2,
     "metadata": {},
     "output_type": "execute_result"
    }
   ],
   "source": [
    "let place_du_dernier_libre nbre_places =\n",
    "    let nbre_pasagers=nbre_places in\n",
    "    let liste_places_libres=Array.make nbre_places 0 in (* places libres, numeros entre 0 et 524 *)\n",
    "    \n",
    "    let liste_passagers = shuffle (range 0 nbre_pasagers) in (* les passagers entrent dans le désordre *)\n",
    "    \n",
    "    (* let numero_premier_passager = List.hd liste_passagers in *) (* on prend le premier passager *)\n",
    "    let place_premier_passager = Random.int nbre_places in (* il se place au hasard *)\n",
    "    liste_places_libres.(place_premier_passager)<-1; (* sa place est maintenant occupée *)\n",
    "    \n",
    "    let rec remplissage liste_passagers =\n",
    "    match liste_passagers with\n",
    "    | [] -> raise (Failure \"Empty List\")\n",
    "    | dernier::[] -> dernier (* on place tous les passagers sauf le premier et le dernier *)\n",
    "    | place_attribuee::tl -> if liste_places_libres.(place_attribuee)=0 then (* si la place est libre *)\n",
    "                                liste_places_libres.(place_attribuee)<-1 (* il l'occupe *)\n",
    "                             else begin\n",
    "                                let position = ref (Random.int nbre_places) in (* entre 0 et 524 inclus *)\n",
    "                                while liste_places_libres.(!position)=1 do\n",
    "                                    position :=Random.int nbre_places\n",
    "                                done;\n",
    "                                liste_places_libres.(!position)<-1\n",
    "                            end; \n",
    "                            remplissage tl in\n",
    "                            \n",
    "    let place_attribuee = remplissage (List.tl liste_passagers) in (* dernier entré *)\n",
    "    liste_places_libres.(place_attribuee)=0;;"
   ]
  },
  {
   "cell_type": "code",
   "execution_count": 4,
   "metadata": {
    "collapsed": false
   },
   "outputs": [
    {
     "data": {
      "text/html": [
       "<pre style=\"color:slategray;max-height:100px;overflow:hidden\" \n",
       "onclick=\"\n",
       "if (this.style.maxHeight === 'none') \n",
       "    this.style.maxHeight = '100px';\n",
       "else\n",
       "    this.style.maxHeight = 'none'; \n",
       "\">val probabilite : int -&gt; int -&gt; float = &lt;fun&gt;\n",
       "</pre>"
      ]
     },
     "execution_count": 4,
     "metadata": {},
     "output_type": "execute_result"
    }
   ],
   "source": [
    "let probabilite nbre_places nbre_tests =\n",
    "  let rec loop num count =\n",
    "     if num = nbre_tests then float_of_int count /. (float_of_int nbre_tests) else\n",
    "     if place_du_dernier_libre nbre_places then loop (num+1) (count+1) else loop (num+1) count in\n",
    "  loop 0 0;;"
   ]
  },
  {
   "cell_type": "code",
   "execution_count": 5,
   "metadata": {
    "collapsed": false
   },
   "outputs": [
    {
     "data": {
      "text/html": [
       "<pre style=\"color:slategray;max-height:100px;overflow:hidden\" \n",
       "onclick=\"\n",
       "if (this.style.maxHeight === 'none') \n",
       "    this.style.maxHeight = '100px';\n",
       "else\n",
       "    this.style.maxHeight = 'none'; \n",
       "\">- : float = 0.4868\n",
       "</pre>"
      ]
     },
     "execution_count": 5,
     "metadata": {},
     "output_type": "execute_result"
    }
   ],
   "source": [
    "probabilite 525 10000;;"
   ]
  },
  {
   "cell_type": "markdown",
   "metadata": {},
   "source": [
    "<h1> Démonstration </h1>\n",
    "\n",
    "Dans la réalité, les passagers d'un avion découvrant quelqu'un à leur place ne s'e\u001bffacent\n",
    "pas si facilement, mais ont plutôt tendance à chasser (poliment) le passager égaré. Qu'est-ce que ce modèle plus réaliste change au problème ?\n",
    "\n",
    "En fait, pas grand chose : les sièges occupés à un instant donné avec l'un ou l'autre modèle sont les mêmes. La seule di\u001bférence est que dans ce nouvau modèle, les passagers $P_2$ ;... ;$P_k$ sont assis à leur place et que c'est $P_1$ qui se déplace, à chaque fois qu'il est chassé d'un siège par son propriétaire légitime, jusqu'à atterrir sur $S_1$ ou $S_n$. Or, à chaque fois que $P_1$ choisit aléatoirement un siège, la probabilité de choisir $S_1$ est égale à celle de choisir Sn. Au moment où j'entrerai dans l'avion, $P_1$ sera donc sur l'un de ces deux sièges avec la même probabilité, ce qui entraîne bien que la probabilité que je trouve mon siège libre est 1/2."
   ]
  },
  {
   "cell_type": "code",
   "execution_count": null,
   "metadata": {
    "collapsed": true
   },
   "outputs": [],
   "source": []
  }
 ],
 "metadata": {
  "kernelspec": {
   "display_name": "OCaml",
   "language": "ocaml",
   "name": "iocaml"
  },
  "language_info": {
   "name": "ocaml",
   "version": "4.1.0"
  }
 },
 "nbformat": 4,
 "nbformat_minor": 2
}
