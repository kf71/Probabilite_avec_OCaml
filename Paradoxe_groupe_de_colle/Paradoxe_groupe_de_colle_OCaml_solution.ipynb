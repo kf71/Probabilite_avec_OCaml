{
 "cells": [
  {
   "cell_type": "markdown",
   "metadata": {},
   "source": [
    "<h1>Paradoxe du groupe de colle </h1>"
   ]
  },
  {
   "cell_type": "markdown",
   "metadata": {},
   "source": [
    "<h2> Présentation </h2>"
   ]
  },
  {
   "cell_type": "markdown",
   "metadata": {},
   "source": [
    "Un groupe de colle est constitué de trois élèves A, B et C.\n",
    "\n",
    "Le colleur pose vingt questions binaires (la réponse est oui ou non) ; les élèves répondent de façon indépendante ; l’interrogateur note de la façon suivante : si, à une question, deux ou trois élèves donnent la bonne réponse, il accorde un point au groupe ; si, à une question, deux ou trois élèves donnent la mauvaise réponse, il enlève un point au groupe. La note est collective : tous les élèves ont la même note.\n",
    "\n",
    "Le niveau des trois élèves n’est pas le même : A et B répondent correctement dans 80% des cas ; C répond correctement dans 60% des cas."
   ]
  },
  {
   "cell_type": "markdown",
   "metadata": {},
   "source": [
    "<h2> Questions </h2>"
   ]
  },
  {
   "cell_type": "markdown",
   "metadata": {},
   "source": [
    "<ol>\n",
    "<li> Quelle est l’espérance de la note de colle de ce groupe ? (Faire le calcul à la main et vérifier avec une simulation numérique).\n",
    "<li> Clairement, la note du groupe est plombée par l’élève C (ce qui énerve les élèves A et B). L’élève C décide de tricher : il donne systématiquement la même réponse que A. Son taux de réponse correcte passe ainsi de 60% à 80%. Quelle est la nouvelle espérance de la note de colle ? La note de ce groupe augmente-t-elle ?\n",
    "<li> Pour comprendre ce paradoxe, reprendre les mêmes questions avec un élève C qui répond correctement dans 50% des cas (c’est-à-dire comme un singe qui répond au hasard !), puis qui répond comme l’élève A.\n",
    "<li> Reprendre les mêmes questions avec un élève C qui répond correctement dans 40% des cas (c’est-à-dire moins bien qu’un singe !), puis qui répond comme l’élève A.\n",
    "<li> Expliquer le \"paradoxe\". Interpréter le résultat en terme d’entropie.\n",
    "</ol>"
   ]
  },
  {
   "cell_type": "markdown",
   "metadata": {},
   "source": [
    "<h2> Solution </h2>"
   ]
  },
  {
   "cell_type": "markdown",
   "metadata": {},
   "source": [
    "Sans tricher :\n",
    "\n",
    "Si on note $p_1$, $p_2$, $p_3$ les probabilités de répondre correctement des élèves $A$, $B$, $C$, l’espérance\n",
    "pour une question est : $E = +(p_1.p_2.p_3) + (p_1.p_2.q_3 + p_1.q_2.p_3 + q_1.p_2.p_3) - (q_1.q_2.p_3 + q_1.p_2.q_3 +\n",
    "p_1.q_2.q_3) - (q_1.q_2.q_3)$ avec $q_i = 1 - p_i$.\n",
    "\n",
    "D’où : $E = -4.p_1.p_2.p_3 + 2.p_1.p_2 + 2.p_1.p_3 + 2.p_2.p_3 - 1$<br>\n",
    "Si $p_1 = p_2 = p$, on a : $E = p_2.(-4.p_3 + 2) + p.(4.p_3) - 1$.<br>\n",
    "Pour $p = 0.8$, on a : $E = 0.64.p_3 + 0.28$.\n",
    "Ce qui donne :\n",
    "<ul>\n",
    "<li> question 1 : $p_3 = 0.6$, $E = 0.664$ ; ce qui donne une note moyenne de $20\\times E = 13.28$\n",
    "\n",
    "<li> question 3a : $p_3 = 0.5$, $E = 0.6$ ; ce qui donne une note moyenne de $20\\times E = 12$\n",
    "\n",
    "<li> question 4a : $p_3 = 0.4$, $E = 0.536$ ; ce qui donne une note moyenne de $20\\times E = 10.72$.\n",
    "</ul>\n",
    "\n",
    "En trichant :\n",
    "\n",
    "L’espérance pour une question est : $E = +(p_1.p_2) + (p_1.q_2) - (q_1.p_2) - (q_1.q_2)$<br>\n",
    "Si $p_1 = p_2 = p$, on a : $E = 2.p - 1$.<br>\n",
    "Pour $p = 0.8$, on a : $E = 0.6$ et une moyenne de $20\\times E = 12$ (question 2, 3b, 4b)."
   ]
  },
  {
   "cell_type": "markdown",
   "metadata": {},
   "source": [
    "<h2> Code OCaml </h2>"
   ]
  },
  {
   "cell_type": "code",
   "execution_count": 10,
   "metadata": {
    "collapsed": false
   },
   "outputs": [
    {
     "data": {
      "text/html": [
       "<pre style=\"color:slategray;max-height:100px;overflow:hidden\" \n",
       "onclick=\"\n",
       "if (this.style.maxHeight === 'none') \n",
       "    this.style.maxHeight = '100px';\n",
       "else\n",
       "    this.style.maxHeight = 'none'; \n",
       "\">- : unit -&gt; unit = &lt;fun&gt;\n",
       "</pre>"
      ]
     },
     "execution_count": 10,
     "metadata": {},
     "output_type": "execute_result"
    }
   ],
   "source": [
    "open Random;;\n",
    "Random.self_init;;"
   ]
  },
  {
   "cell_type": "code",
   "execution_count": 17,
   "metadata": {
    "collapsed": false
   },
   "outputs": [
    {
     "data": {
      "text/html": [
       "<pre style=\"color:slategray;max-height:100px;overflow:hidden\" \n",
       "onclick=\"\n",
       "if (this.style.maxHeight === 'none') \n",
       "    this.style.maxHeight = '100px';\n",
       "else\n",
       "    this.style.maxHeight = 'none'; \n",
       "\">val reponse_collective_errone : float array -&gt; bool -&gt; int = &lt;fun&gt;\n",
       "</pre>"
      ]
     },
     "execution_count": 17,
     "metadata": {},
     "output_type": "execute_result"
    }
   ],
   "source": [
    "let reponse_collective_errone probas triche =\n",
    "    let nbre_eleves=Array.length probas in\n",
    "    let erreurs=Array.make nbre_eleves 0 in\n",
    "    \n",
    "    let rec loop num_eleve =\n",
    "        if num_eleve < nbre_eleves then \n",
    "        begin\n",
    "            if Random.float 1. > probas.(num_eleve) then\n",
    "            erreurs.(num_eleve)<-1;\n",
    "            loop (num_eleve+1)\n",
    "        end in\n",
    "        \n",
    "    loop 0;\n",
    "    if triche then\n",
    "        erreurs.(nbre_eleves-1)<-erreurs.(0); (*le dernier juge vote comme le premier*)\n",
    "    let nbre_erreurs=Array.fold_left (+) 0 erreurs in\n",
    "    if nbre_erreurs>nbre_eleves/2 then (-1) else 1;;"
   ]
  },
  {
   "cell_type": "code",
   "execution_count": 18,
   "metadata": {
    "collapsed": false
   },
   "outputs": [
    {
     "data": {
      "text/html": [
       "<pre style=\"color:slategray;max-height:100px;overflow:hidden\" \n",
       "onclick=\"\n",
       "if (this.style.maxHeight === 'none') \n",
       "    this.style.maxHeight = '100px';\n",
       "else\n",
       "    this.style.maxHeight = 'none'; \n",
       "\">val esperance_note_colle : float array -&gt; bool -&gt; float = &lt;fun&gt;\n",
       "</pre>"
      ]
     },
     "execution_count": 18,
     "metadata": {},
     "output_type": "execute_result"
    }
   ],
   "source": [
    "let esperance_note_colle probas triche =\n",
    "    let nbre_essais=1000*1000 in\n",
    "    let rec loop num_essai erreur =\n",
    "        if num_essai = nbre_essais then (20. *. (float_of_int erreur) /. (float_of_int nbre_essais)) else\n",
    "        loop (num_essai+1) (erreur+(reponse_collective_errone probas triche)) in\n",
    "    loop 0 0;;"
   ]
  },
  {
   "cell_type": "code",
   "execution_count": 19,
   "metadata": {
    "collapsed": false
   },
   "outputs": [
    {
     "name": "stdout",
     "output_type": "stream",
     "text": [
      "13.27212 12.00756\n"
     ]
    },
    {
     "data": {
      "text/html": [
       "<pre style=\"color:slategray;max-height:100px;overflow:hidden\" \n",
       "onclick=\"\n",
       "if (this.style.maxHeight === 'none') \n",
       "    this.style.maxHeight = '100px';\n",
       "else\n",
       "    this.style.maxHeight = 'none'; \n",
       "\">- : unit = ()\n",
       "</pre>"
      ]
     },
     "execution_count": 19,
     "metadata": {},
     "output_type": "execute_result"
    }
   ],
   "source": [
    "print_float(esperance_note_colle [|0.8;0.8;0.6|] false);\n",
    "print_string\" \";\n",
    "print_float(esperance_note_colle [|0.8;0.8;0.6|] true);\n",
    "print_newline();"
   ]
  },
  {
   "cell_type": "code",
   "execution_count": 20,
   "metadata": {
    "collapsed": false
   },
   "outputs": [
    {
     "name": "stdout",
     "output_type": "stream",
     "text": [
      "12.00452 11.98424\n"
     ]
    },
    {
     "data": {
      "text/html": [
       "<pre style=\"color:slategray;max-height:100px;overflow:hidden\" \n",
       "onclick=\"\n",
       "if (this.style.maxHeight === 'none') \n",
       "    this.style.maxHeight = '100px';\n",
       "else\n",
       "    this.style.maxHeight = 'none'; \n",
       "\">- : unit = ()\n",
       "</pre>"
      ]
     },
     "execution_count": 20,
     "metadata": {},
     "output_type": "execute_result"
    }
   ],
   "source": [
    "print_float(esperance_note_colle [|0.8;0.8;0.5|] false);\n",
    "print_string\" \";\n",
    "print_float(esperance_note_colle [|0.8;0.8;0.5|] true);\n",
    "print_newline();"
   ]
  },
  {
   "cell_type": "code",
   "execution_count": 21,
   "metadata": {
    "collapsed": false
   },
   "outputs": [
    {
     "name": "stdout",
     "output_type": "stream",
     "text": [
      "10.72812 12.0016\n"
     ]
    },
    {
     "data": {
      "text/html": [
       "<pre style=\"color:slategray;max-height:100px;overflow:hidden\" \n",
       "onclick=\"\n",
       "if (this.style.maxHeight === 'none') \n",
       "    this.style.maxHeight = '100px';\n",
       "else\n",
       "    this.style.maxHeight = 'none'; \n",
       "\">- : unit = ()\n",
       "</pre>"
      ]
     },
     "execution_count": 21,
     "metadata": {},
     "output_type": "execute_result"
    }
   ],
   "source": [
    "print_float(esperance_note_colle [|0.8;0.8;0.4|] false);\n",
    "print_string\" \";\n",
    "print_float(esperance_note_colle [|0.8;0.8;0.4|] true);\n",
    "print_newline();"
   ]
  },
  {
   "cell_type": "code",
   "execution_count": null,
   "metadata": {
    "collapsed": true
   },
   "outputs": [],
   "source": []
  }
 ],
 "metadata": {
  "kernelspec": {
   "display_name": "OCaml",
   "language": "ocaml",
   "name": "iocaml"
  },
  "language_info": {
   "name": "ocaml",
   "version": "4.1.0"
  }
 },
 "nbformat": 4,
 "nbformat_minor": 2
}
