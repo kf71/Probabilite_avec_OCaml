{
 "cells": [
  {
   "cell_type": "markdown",
   "metadata": {
    "deletable": true,
    "editable": true
   },
   "source": [
    "<h1> Chasse aux canards </h1>\n",
    "\n",
    "<img src=\"canards.jpg\" />\n",
    "\n",
    "<h2>  Énoncé </h2>\n",
    "\n",
    "Trois chasseurs A, B et C tirent simultanément sur trois canards 1, 2, 3. Chaque chasseur choisit, au hasard, indépendamment des autres, de viser un canard et ne rate jamais son coup. On note $X$ la variable aléatoire qui correspond au nombre de canards survivants.\n",
    "\n",
    "Faire 1000 simulations pour trouver l'espérance de $X$.\n",
    "\n",
    "Retrouver ce résultat théoriquement.\n"
   ]
  },
  {
   "cell_type": "markdown",
   "metadata": {
    "deletable": true,
    "editable": true
   },
   "source": [
    "<h2>Code OCaml</h2>\n",
    "<h3>Méthode avec des lists</h3>"
   ]
  },
  {
   "cell_type": "code",
   "execution_count": 22,
   "metadata": {
    "collapsed": false,
    "deletable": true,
    "editable": true
   },
   "outputs": [
    {
     "data": {
      "text/html": [
       "<pre style=\"color:slategray;max-height:100px;overflow:hidden\" \n",
       "onclick=\"\n",
       "if (this.style.maxHeight === 'none') \n",
       "    this.style.maxHeight = '100px';\n",
       "else\n",
       "    this.style.maxHeight = 'none'; \n",
       "\">- : unit -&gt; unit = &lt;fun&gt;\n",
       "</pre>"
      ]
     },
     "execution_count": 22,
     "metadata": {},
     "output_type": "execute_result"
    }
   ],
   "source": [
    "open Random;;\n",
    "Random.self_init;;"
   ]
  },
  {
   "cell_type": "code",
   "execution_count": 1,
   "metadata": {
    "collapsed": false,
    "deletable": true,
    "editable": true
   },
   "outputs": [
    {
     "data": {
      "text/html": [
       "<pre style=\"color:slategray;max-height:100px;overflow:hidden\" \n",
       "onclick=\"\n",
       "if (this.style.maxHeight === 'none') \n",
       "    this.style.maxHeight = '100px';\n",
       "else\n",
       "    this.style.maxHeight = 'none'; \n",
       "\">val enleve : 'a list -&gt; 'a -&gt; 'a list = &lt;fun&gt;\n",
       "</pre>"
      ]
     },
     "execution_count": 1,
     "metadata": {},
     "output_type": "execute_result"
    }
   ],
   "source": [
    "let enleve liste element =\n",
    "   let rec enleve a_filtrer filtre =\n",
    "     match a_filtrer with\n",
    "     |[] -> filtre\n",
    "     |hd::tl ->if hd=element then enleve tl filtre else enleve tl (hd::filtre) in\n",
    "   enleve liste []"
   ]
  },
  {
   "cell_type": "code",
   "execution_count": 8,
   "metadata": {
    "collapsed": false,
    "deletable": true,
    "editable": true
   },
   "outputs": [
    {
     "data": {
      "text/html": [
       "<pre style=\"color:slategray;max-height:100px;overflow:hidden\" \n",
       "onclick=\"\n",
       "if (this.style.maxHeight === 'none') \n",
       "    this.style.maxHeight = '100px';\n",
       "else\n",
       "    this.style.maxHeight = 'none'; \n",
       "\">val tirs : unit -&gt; int = &lt;fun&gt;\n",
       "</pre>"
      ]
     },
     "execution_count": 8,
     "metadata": {},
     "output_type": "execute_result"
    }
   ],
   "source": [
    "let tirs() =\n",
    "    let canard=ref [1;2;3] in\n",
    "\n",
    "    for i=1 to 3 do\n",
    "        let tir = 1+ Random.int 3 in\n",
    "        canard := enleve !canard tir\n",
    "    done;\n",
    "    List.length !canard"
   ]
  },
  {
   "cell_type": "code",
   "execution_count": 9,
   "metadata": {
    "collapsed": false,
    "deletable": true,
    "editable": true
   },
   "outputs": [
    {
     "data": {
      "text/html": [
       "<pre style=\"color:slategray;max-height:100px;overflow:hidden\" \n",
       "onclick=\"\n",
       "if (this.style.maxHeight === 'none') \n",
       "    this.style.maxHeight = '100px';\n",
       "else\n",
       "    this.style.maxHeight = 'none'; \n",
       "\">val proba : int -&gt; float = &lt;fun&gt;\n",
       "</pre>"
      ]
     },
     "execution_count": 9,
     "metadata": {},
     "output_type": "execute_result"
    }
   ],
   "source": [
    "let proba nbre_essais =\n",
    "    let rec loop essais_restants count =\n",
    "       if essais_restants>0 then\n",
    "            loop (essais_restants-1) (count+tirs())\n",
    "       else float_of_int count /. float_of_int nbre_essais in\n",
    "       \n",
    "    loop nbre_essais 0;;"
   ]
  },
  {
   "cell_type": "code",
   "execution_count": 10,
   "metadata": {
    "collapsed": false,
    "deletable": true,
    "editable": true
   },
   "outputs": [
    {
     "data": {
      "text/html": [
       "<pre style=\"color:slategray;max-height:100px;overflow:hidden\" \n",
       "onclick=\"\n",
       "if (this.style.maxHeight === 'none') \n",
       "    this.style.maxHeight = '100px';\n",
       "else\n",
       "    this.style.maxHeight = 'none'; \n",
       "\">- : float = 0.8814\n",
       "</pre>"
      ]
     },
     "execution_count": 10,
     "metadata": {},
     "output_type": "execute_result"
    }
   ],
   "source": [
    "proba 10000"
   ]
  },
  {
   "cell_type": "markdown",
   "metadata": {},
   "source": [
    "<h3>Méthode avec des sets</h3>"
   ]
  },
  {
   "cell_type": "code",
   "execution_count": 1,
   "metadata": {
    "collapsed": false
   },
   "outputs": [
    {
     "data": {
      "text/html": [
       "<pre style=\"color:slategray;max-height:100px;overflow:hidden\" \n",
       "onclick=\"\n",
       "if (this.style.maxHeight === 'none') \n",
       "    this.style.maxHeight = '100px';\n",
       "else\n",
       "    this.style.maxHeight = 'none'; \n",
       "\">- : unit -&gt; unit = &lt;fun&gt;\n",
       "</pre>"
      ]
     },
     "execution_count": 1,
     "metadata": {},
     "output_type": "execute_result"
    }
   ],
   "source": [
    "open Random;;\n",
    "Random.self_init;;"
   ]
  },
  {
   "cell_type": "code",
   "execution_count": 2,
   "metadata": {
    "collapsed": false
   },
   "outputs": [
    {
     "data": {
      "text/html": [
       "<pre style=\"color:slategray;max-height:100px;overflow:hidden\" \n",
       "onclick=\"\n",
       "if (this.style.maxHeight === 'none') \n",
       "    this.style.maxHeight = '100px';\n",
       "else\n",
       "    this.style.maxHeight = 'none'; \n",
       "\">module Int_set :\n",
       "  sig\n",
       "    type elt = int\n",
       "    type t\n",
       "    val empty : t\n",
       "    val is_empty : t -&gt; bool\n",
       "    val mem : elt -&gt; t -&gt; bool\n",
       "    val add : elt -&gt; t -&gt; t\n",
       "    val singleton : elt -&gt; t\n",
       "    val remove : elt -&gt; t -&gt; t\n",
       "    val union : t -&gt; t -&gt; t\n",
       "    val inter : t -&gt; t -&gt; t\n",
       "    val diff : t -&gt; t -&gt; t\n",
       "    val compare : t -&gt; t -&gt; int\n",
       "    val equal : t -&gt; t -&gt; bool\n",
       "    val subset : t -&gt; t -&gt; bool\n",
       "    val iter : (elt -&gt; unit) -&gt; t -&gt; unit\n",
       "    val fold : (elt -&gt; 'a -&gt; 'a) -&gt; t -&gt; 'a -&gt; 'a\n",
       "    val for_all : (elt -&gt; bool) -&gt; t -&gt; bool\n",
       "    val exists : (elt -&gt; bool) -&gt; t -&gt; bool\n",
       "    val filter : (elt -&gt; bool) -&gt; t -&gt; t\n",
       "    val partition : (elt -&gt; bool) -&gt; t -&gt; t * t\n",
       "    val cardinal : t -&gt; int\n",
       "    val elements : t -&gt; elt list\n",
       "    val min_elt : t -&gt; elt\n",
       "    val max_elt : t -&gt; elt\n",
       "    val choose : t -&gt; elt\n",
       "    val split : elt -&gt; t -&gt; t * bool * t\n",
       "    val find : elt -&gt; t -&gt; elt\n",
       "    val of_list : elt list -&gt; t\n",
       "  end\n",
       "</pre>"
      ]
     },
     "execution_count": 2,
     "metadata": {},
     "output_type": "execute_result"
    }
   ],
   "source": [
    "open Set;;\n",
    "module Int_set = Set.Make (struct\n",
    "                             type t = int\n",
    "                             let compare = compare\n",
    "                           end)"
   ]
  },
  {
   "cell_type": "code",
   "execution_count": 3,
   "metadata": {
    "collapsed": false
   },
   "outputs": [
    {
     "data": {
      "text/html": [
       "<pre style=\"color:slategray;max-height:100px;overflow:hidden\" \n",
       "onclick=\"\n",
       "if (this.style.maxHeight === 'none') \n",
       "    this.style.maxHeight = '100px';\n",
       "else\n",
       "    this.style.maxHeight = 'none'; \n",
       "\">val tirs : unit -&gt; int = &lt;fun&gt;\n",
       "</pre>"
      ]
     },
     "execution_count": 3,
     "metadata": {},
     "output_type": "execute_result"
    }
   ],
   "source": [
    "let tirs() =\n",
    "    let canard=ref (Int_set.of_list([1;2;3])) in\n",
    "\n",
    "    for i=1 to 3 do\n",
    "        let tir = 1+ Random.int 3 in\n",
    "        canard:=Int_set.diff !canard (Int_set.of_list([tir]));\n",
    "    done;\n",
    "    Int_set.cardinal !canard"
   ]
  },
  {
   "cell_type": "code",
   "execution_count": 4,
   "metadata": {
    "collapsed": false
   },
   "outputs": [
    {
     "data": {
      "text/html": [
       "<pre style=\"color:slategray;max-height:100px;overflow:hidden\" \n",
       "onclick=\"\n",
       "if (this.style.maxHeight === 'none') \n",
       "    this.style.maxHeight = '100px';\n",
       "else\n",
       "    this.style.maxHeight = 'none'; \n",
       "\">val proba : int -&gt; float = &lt;fun&gt;\n",
       "</pre>"
      ]
     },
     "execution_count": 4,
     "metadata": {},
     "output_type": "execute_result"
    }
   ],
   "source": [
    "let proba nbre_essais =\n",
    "    let rec loop essais_restants count =\n",
    "       if essais_restants>0 then\n",
    "            loop (essais_restants-1) (count+tirs())\n",
    "       else float_of_int count /. float_of_int nbre_essais in\n",
    "       \n",
    "    loop nbre_essais 0;;"
   ]
  },
  {
   "cell_type": "code",
   "execution_count": 5,
   "metadata": {
    "collapsed": false
   },
   "outputs": [
    {
     "data": {
      "text/html": [
       "<pre style=\"color:slategray;max-height:100px;overflow:hidden\" \n",
       "onclick=\"\n",
       "if (this.style.maxHeight === 'none') \n",
       "    this.style.maxHeight = '100px';\n",
       "else\n",
       "    this.style.maxHeight = 'none'; \n",
       "\">- : float = 0.8814\n",
       "</pre>"
      ]
     },
     "execution_count": 5,
     "metadata": {},
     "output_type": "execute_result"
    }
   ],
   "source": [
    "proba 10000"
   ]
  },
  {
   "cell_type": "markdown",
   "metadata": {
    "deletable": true,
    "editable": true
   },
   "source": [
    "<h2>Solution</h2>"
   ]
  },
  {
   "cell_type": "markdown",
   "metadata": {
    "deletable": true,
    "editable": true
   },
   "source": [
    "Résultat théorique:\n",
    "\n",
    "<img src=\"Chasse_canards_schema.svg\" />\n",
    "\n",
    "$E(X)=0\\times\\frac{6}{27}+1\\times\\frac{18}{27}+2\\times\\frac{3}{27}=\\frac{24}{27}\\simeq0.88$\n"
   ]
  },
  {
   "cell_type": "code",
   "execution_count": null,
   "metadata": {
    "collapsed": true,
    "deletable": true,
    "editable": true
   },
   "outputs": [],
   "source": []
  }
 ],
 "metadata": {
  "kernelspec": {
   "display_name": "OCaml",
   "language": "ocaml",
   "name": "iocaml"
  },
  "language_info": {
   "name": "ocaml",
   "version": "4.1.0"
  }
 },
 "nbformat": 4,
 "nbformat_minor": 2
}
