{
 "cells": [
  {
   "cell_type": "markdown",
   "metadata": {},
   "source": [
    "<h1>Rendez-vous manqué</h1>\n",
    "<h2> Présentation </h2>"
   ]
  },
  {
   "cell_type": "markdown",
   "metadata": {},
   "source": [
    "Deux personnes $A$ et $B$ se donnent rendez-vous dans un café entre 18H30 et 19H00.\n",
    "\n",
    "Si $A$ arrive le premier, il attend 10 minutes; s'il ne rencontre pas $B$ pendant cet intervalle de temps, il part.\n",
    "\n",
    "Si $B$ arrive le premier, il attend 5 minutes; s'il ne rencontre pas $A$ pendant cet intervalle de temps, il part.\n",
    "\n",
    "Ni $A$, ni $B$ n'attendent après 19H00."
   ]
  },
  {
   "cell_type": "markdown",
   "metadata": {},
   "source": [
    "<h2> Question </h2>"
   ]
  },
  {
   "cell_type": "markdown",
   "metadata": {},
   "source": [
    "<ol>\n",
    "<li> Quelle est la probabilité que $A$ et $B$ se rencontrent ?\n",
    "<li> Si $A$ attendait 5 minutes (au lieu de 10), quelle serait la probabilité que $A$ et $B$ se rencontrent ?\n",
    "<li> Si $B$ attendait 10 minutes (au lieu de 5), quelle serait la probabilité que $A$ et $B$ se rencontrent ?\n",
    "</ol>"
   ]
  },
  {
   "cell_type": "markdown",
   "metadata": {},
   "source": [
    "<h2>Solution</h2>"
   ]
  },
  {
   "cell_type": "markdown",
   "metadata": {},
   "source": [
    "<img src=\"./rendez-vous_fig.svg\"/>\n"
   ]
  },
  {
   "cell_type": "markdown",
   "metadata": {},
   "source": [
    "\n",
    "Probabilité = $\\frac{\\textrm{Surface hachurée}}{\\textrm{Surface totale}}=\n",
    "\\frac{\\textrm{Surface totale - Surface non hachurée}}{\\textrm{Surface totale}}$\n",
    "\n",
    "<ol>\n",
    "<li> Probabilité = $\\frac{30^2-20^2/2-25^2/2}{30^2}=\\frac{775}{1800}\\simeq0.4305$\n",
    "<li> Probabilité = $\\frac{30^2-25^2/2-25^2/2}{30^2}=\\frac{550}{1800}\\simeq0.3055$\n",
    "<li> Probabilité = $\\frac{30^2-20^2/2-20^2/2}{30^2}=\\frac{1000}{1800}\\simeq0.5555$\n",
    "</ol>"
   ]
  },
  {
   "cell_type": "code",
   "execution_count": 4,
   "metadata": {
    "collapsed": false
   },
   "outputs": [
    {
     "name": "stdout",
     "output_type": "stream",
     "text": [
      "0.430703"
     ]
    },
    {
     "data": {
      "text/html": [
       "<pre style=\"color:slategray;max-height:100px;overflow:hidden\" \n",
       "onclick=\"\n",
       "if (this.style.maxHeight === 'none') \n",
       "    this.style.maxHeight = '100px';\n",
       "else\n",
       "    this.style.maxHeight = 'none'; \n",
       "\">- : unit -&gt; unit = &lt;fun&gt;\n",
       "</pre>"
      ]
     },
     "execution_count": 4,
     "metadata": {},
     "output_type": "execute_result"
    },
    {
     "data": {
      "text/html": [
       "<pre style=\"color:slategray;max-height:100px;overflow:hidden\" \n",
       "onclick=\"\n",
       "if (this.style.maxHeight === 'none') \n",
       "    this.style.maxHeight = '100px';\n",
       "else\n",
       "    this.style.maxHeight = 'none'; \n",
       "\">val rendez_vous : float -&gt; float -&gt; int = &lt;fun&gt;\n",
       "</pre>"
      ]
     },
     "execution_count": 4,
     "metadata": {},
     "output_type": "execute_result"
    },
    {
     "data": {
      "text/html": [
       "<pre style=\"color:slategray;max-height:100px;overflow:hidden\" \n",
       "onclick=\"\n",
       "if (this.style.maxHeight === 'none') \n",
       "    this.style.maxHeight = '100px';\n",
       "else\n",
       "    this.style.maxHeight = 'none'; \n",
       "\">val simulation : float -&gt; float -&gt; float = &lt;fun&gt;\n",
       "</pre>"
      ]
     },
     "execution_count": 4,
     "metadata": {},
     "output_type": "execute_result"
    },
    {
     "data": {
      "text/html": [
       "<pre style=\"color:slategray;max-height:100px;overflow:hidden\" \n",
       "onclick=\"\n",
       "if (this.style.maxHeight === 'none') \n",
       "    this.style.maxHeight = '100px';\n",
       "else\n",
       "    this.style.maxHeight = 'none'; \n",
       "\">- : unit = ()\n",
       "</pre>"
      ]
     },
     "execution_count": 4,
     "metadata": {},
     "output_type": "execute_result"
    }
   ],
   "source": [
    "open Random;;\n",
    "Random.self_init;;\n",
    "\n",
    "let rendez_vous duree_A duree_B =\n",
    "    \n",
    "    let arrivee_A=Random.float 30. in \n",
    "    let arrivee_B=Random.float 30. in\n",
    "    \n",
    "    if (arrivee_A<=arrivee_B && arrivee_B<arrivee_A+.duree_A) ||\n",
    "       (arrivee_B<=arrivee_A && arrivee_A<arrivee_B+.duree_B) then 1\n",
    "    else 0;;\n",
    "        \n",
    "let simulation duree_A duree_B =\n",
    "    let nbre_essais=1000*1000 in\n",
    "    let rec loop num_essai res =\n",
    "        if num_essai = nbre_essais then float_of_int res /. (float_of_int nbre_essais)\n",
    "        else loop (num_essai+1) (res+( rendez_vous duree_A duree_B)) in\n",
    "    loop 0 0;;\n",
    "    \n",
    "print_float (simulation 10. 5.);"
   ]
  },
  {
   "cell_type": "code",
   "execution_count": 5,
   "metadata": {
    "collapsed": false
   },
   "outputs": [
    {
     "name": "stdout",
     "output_type": "stream",
     "text": [
      "0.305416"
     ]
    },
    {
     "data": {
      "text/html": [
       "<pre style=\"color:slategray;max-height:100px;overflow:hidden\" \n",
       "onclick=\"\n",
       "if (this.style.maxHeight === 'none') \n",
       "    this.style.maxHeight = '100px';\n",
       "else\n",
       "    this.style.maxHeight = 'none'; \n",
       "\">- : unit = ()\n",
       "</pre>"
      ]
     },
     "execution_count": 5,
     "metadata": {},
     "output_type": "execute_result"
    }
   ],
   "source": [
    "print_float (simulation 5. 5.)"
   ]
  },
  {
   "cell_type": "code",
   "execution_count": 6,
   "metadata": {
    "collapsed": false
   },
   "outputs": [
    {
     "name": "stdout",
     "output_type": "stream",
     "text": [
      "0.555022"
     ]
    },
    {
     "data": {
      "text/html": [
       "<pre style=\"color:slategray;max-height:100px;overflow:hidden\" \n",
       "onclick=\"\n",
       "if (this.style.maxHeight === 'none') \n",
       "    this.style.maxHeight = '100px';\n",
       "else\n",
       "    this.style.maxHeight = 'none'; \n",
       "\">- : unit = ()\n",
       "</pre>"
      ]
     },
     "execution_count": 6,
     "metadata": {},
     "output_type": "execute_result"
    }
   ],
   "source": [
    "print_float (simulation 10. 10.)"
   ]
  },
  {
   "cell_type": "code",
   "execution_count": null,
   "metadata": {
    "collapsed": true
   },
   "outputs": [],
   "source": []
  }
 ],
 "metadata": {
  "kernelspec": {
   "display_name": "OCaml",
   "language": "ocaml",
   "name": "iocaml"
  },
  "language_info": {
   "name": "ocaml",
   "version": "4.1.0"
  }
 },
 "nbformat": 4,
 "nbformat_minor": 2
}
