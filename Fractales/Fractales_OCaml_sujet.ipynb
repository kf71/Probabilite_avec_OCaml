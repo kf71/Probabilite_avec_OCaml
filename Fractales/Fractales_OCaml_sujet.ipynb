{
 "cells": [
  {
   "cell_type": "markdown",
   "metadata": {
    "deletable": true,
    "editable": true
   },
   "source": [
    "<h1> Fractales</h1>\n",
    "\n",
    "Dans un article célèbre *[B. Mandelbrot, The Fractal Geometry of Nature, Freeman, San Francisco (1982).]*, le mathématicien français B. Mandelbrot a montré que, dans la nature, de nombreuses structures obéissent à des règles de construction mathématiques: plantes, coquillages, polymères, colloïdes, aérosols,...\n",
    "\n",
    "<h2> Arbre </h2>\n",
    "A partir du point de coordonnées $(0.5,0.0)$, construire l'ensemble de 30 000 points $\\{(x_n,y_n)\\}$\n",
    "tels que:\n",
    "\n",
    "$(x_{n+1},y_{n+1})=\\left\\{\\begin{matrix}\n",
    "\t(0.05.x_n,0.6.y_n),\\hfill\t\t\t\t\t\t\t&\\hbox{avec une probabilité de 10%,}\\cr\n",
    "\t(0.05.x_n,-0.5.y_n+1.0),\\hfill\t\t\t\t\t\t&\\hbox{avec une probabilité de 10%,}\\cr\n",
    "\t(0.46.x_n-0.32.y_n,0.39.x_n+0.38.y_n+0.6),\\hfill\t&\\hbox{avec une probabilité de 20%,}\\cr\n",
    "\t(0.47.x_n-0.15.y_n,0.17.x_n+0.42.y_n+1.1),\\hfill\t&\\hbox{avec une probabilité de 20%,}\\cr\n",
    "\t(0.43.x_n+0.28.y_n,-0.25.x_n+0.45.y_n+1.0),\\hfill\t&\\hbox{avec une probabilité de 20%,}\\cr\n",
    "\t(0.42.x_n+0.26.y_n,-0.35.x_n+0.31.y_n+0.7),\\hfill \t&\\hbox{avec une probabilité de 20%.}\\cr\\end{matrix}\\right.$"
   ]
  },
  {
   "cell_type": "code",
   "execution_count": 1,
   "metadata": {
    "collapsed": false,
    "deletable": true,
    "editable": true
   },
   "outputs": [
    {
     "data": {
      "text/html": [
       "<pre style=\"color:slategray;max-height:100px;overflow:hidden\" \n",
       "onclick=\"\n",
       "if (this.style.maxHeight === 'none') \n",
       "    this.style.maxHeight = '100px';\n",
       "else\n",
       "    this.style.maxHeight = 'none'; \n",
       "\">- : unit -&gt; unit = &lt;fun&gt;\n",
       "</pre>"
      ]
     },
     "execution_count": 1,
     "metadata": {},
     "output_type": "execute_result"
    }
   ],
   "source": [
    "open Random;;\n",
    "Random.self_init;;"
   ]
  },
  {
   "cell_type": "code",
   "execution_count": 2,
   "metadata": {
    "collapsed": false,
    "deletable": true,
    "editable": true
   },
   "outputs": [
    {
     "name": "stdout",
     "output_type": "stream",
     "text": [
      "- : unit = ()\n",
      "Findlib has been successfully loaded. Additional directives:\n",
      "  #require \"package\";;      to load a package\n",
      "  #list;;                   to list the available packages\n",
      "  #camlp4o;;                to load camlp4 (standard syntax)\n",
      "  #camlp4r;;                to load camlp4 (revised syntax)\n",
      "  #predicates \"p,q,...\";;   to set these predicates\n",
      "  Topfind.reset();;         to force that packages will be reloaded\n",
      "  #thread;;                 to enable threads\n",
      "\n",
      "- : unit = ()\n"
     ]
    },
    {
     "name": "stderr",
     "output_type": "stream",
     "text": [
      "/usr/lib/ocaml/plplot: added to search path\n",
      "/usr/lib/ocaml/plplot/plplot.cma: loaded\n"
     ]
    }
   ],
   "source": [
    "#use \"topfind\";;\n",
    "#require \"plplot\";;\n",
    "open Plplot;;"
   ]
  },
  {
   "cell_type": "code",
   "execution_count": 3,
   "metadata": {
    "collapsed": false,
    "deletable": true,
    "editable": true
   },
   "outputs": [
    {
     "data": {
      "text/html": [
       "<pre style=\"color:slategray;max-height:100px;overflow:hidden\" \n",
       "onclick=\"\n",
       "if (this.style.maxHeight === 'none') \n",
       "    this.style.maxHeight = '100px';\n",
       "else\n",
       "    this.style.maxHeight = 'none'; \n",
       "\">module P = Plplot.Plot\n",
       "</pre>"
      ]
     },
     "execution_count": 3,
     "metadata": {},
     "output_type": "execute_result"
    },
    {
     "data": {
      "text/html": [
       "<pre style=\"color:slategray;max-height:100px;overflow:hidden\" \n",
       "onclick=\"\n",
       "if (this.style.maxHeight === 'none') \n",
       "    this.style.maxHeight = '100px';\n",
       "else\n",
       "    this.style.maxHeight = 'none'; \n",
       "\">val couleurs_list : int list list =\n",
       "  [[0; 255; 255; 255]; [1; 0; 0; 0]; [2; 0; 0; 255]; [3; 255; 0; 0];\n",
       "   [4; 165; 42; 42]; [5; 0; 0; 0]; [6; 0; 0; 0]; [7; 0; 0; 0]; [8; 0; 0; 0];\n",
       "   [9; 0; 0; 0]; [10; 200; 200; 200]; [11; 0; 255; 255]; [12; 0; 255; 0];\n",
       "   [13; 255; 255; 0]; [14; 255; 0; 255]; [15; 160; 0; 213]]\n",
       "</pre>"
      ]
     },
     "execution_count": 3,
     "metadata": {},
     "output_type": "execute_result"
    },
    {
     "data": {
      "text/html": [
       "<pre style=\"color:slategray;max-height:100px;overflow:hidden\" \n",
       "onclick=\"\n",
       "if (this.style.maxHeight === 'none') \n",
       "    this.style.maxHeight = '100px';\n",
       "else\n",
       "    this.style.maxHeight = 'none'; \n",
       "\">val loop : int list list -&gt; unit = &lt;fun&gt;\n",
       "</pre>"
      ]
     },
     "execution_count": 3,
     "metadata": {},
     "output_type": "execute_result"
    },
    {
     "data": {
      "text/html": [
       "<pre style=\"color:slategray;max-height:100px;overflow:hidden\" \n",
       "onclick=\"\n",
       "if (this.style.maxHeight === 'none') \n",
       "    this.style.maxHeight = '100px';\n",
       "else\n",
       "    this.style.maxHeight = 'none'; \n",
       "\">val couleurs : unit -&gt; unit = &lt;fun&gt;\n",
       "</pre>"
      ]
     },
     "execution_count": 3,
     "metadata": {},
     "output_type": "execute_result"
    },
    {
     "data": {
      "text/html": [
       "<pre style=\"color:slategray;max-height:100px;overflow:hidden\" \n",
       "onclick=\"\n",
       "if (this.style.maxHeight === 'none') \n",
       "    this.style.maxHeight = '100px';\n",
       "else\n",
       "    this.style.maxHeight = 'none'; \n",
       "\">val initialisation : string -&gt; float -&gt; float -&gt; float -&gt; float -&gt; P.stream_t =\n",
       "  &lt;fun&gt;\n",
       "</pre>"
      ]
     },
     "execution_count": 3,
     "metadata": {},
     "output_type": "execute_result"
    }
   ],
   "source": [
    "module P = Plot;;\n",
    "let couleurs_list = [[ 0;255;255;255]; (*`white*)\n",
    "                     [ 1;  0;  0;  0]; (*`black*)\n",
    "                     [ 2;  0;  0;255]; (*`blue*)\n",
    "                     [ 3;255;  0;  0]; (*`red*)\n",
    "                     [ 4;165; 42; 42]; (*`brown*)\n",
    "                     [ 5;  0;  0;  0]; [ 6;  0;  0;  0]; [ 7;  0;  0;  0]; [ 8;  0;  0;  0]; [ 9;  0;  0;  0]; \n",
    "                     [10;200;200;200]; (*`gray*)\n",
    "                     [11;  0;255;255]; (*`light_blue*)\n",
    "                     [12;  0;255;  0]; (*`green*)\n",
    "                     [13;255;255;  0]; (*`yellow*)\n",
    "                     [14;255;  0;255]; (*`pink*)\n",
    "                     [15;160;  0;213]; (*`purple*) ]\n",
    "let rec loop couleurs_list = match couleurs_list with\n",
    "    | [n;r;g;b]::tl -> plscol0 n r g b; loop tl\n",
    "    | _ -> ();;\n",
    "let couleurs = (fun () -> plscolbg 255 255 255; loop couleurs_list)\n",
    "let initialisation filename xmin xmax ymin ymax = \n",
    "        P.init (xmin, ymin) (xmax, ymax) `greedy (`svg `core) ~filename:(filename^\".svg\") ~pre:couleurs"
   ]
  },
  {
   "cell_type": "code",
   "execution_count": 4,
   "metadata": {
    "collapsed": false,
    "deletable": true,
    "editable": true
   },
   "outputs": [
    {
     "data": {
      "text/html": [
       "<pre style=\"color:slategray;max-height:100px;overflow:hidden\" \n",
       "onclick=\"\n",
       "if (this.style.maxHeight === 'none') \n",
       "    this.style.maxHeight = '100px';\n",
       "else\n",
       "    this.style.maxHeight = 'none'; \n",
       "\">val loop :\n",
       "  int -&gt;\n",
       "  float -&gt; float -&gt; float list -&gt; float list -&gt; float list * float list =\n",
       "  &lt;fun&gt;\n",
       "</pre>"
      ]
     },
     "execution_count": 4,
     "metadata": {},
     "output_type": "execute_result"
    },
    {
     "data": {
      "text/html": [
       "<pre style=\"color:slategray;max-height:100px;overflow:hidden\" \n",
       "onclick=\"\n",
       "if (this.style.maxHeight === 'none') \n",
       "    this.style.maxHeight = '100px';\n",
       "else\n",
       "    this.style.maxHeight = 'none'; \n",
       "\">- : unit = ()\n",
       "</pre>"
      ]
     },
     "execution_count": 4,
     "metadata": {},
     "output_type": "execute_result"
    }
   ],
   "source": [
    "let rec loop nbre x y abscisses ordonnes =\n",
    "    \"à compléter\"\n",
    "    end;;\n",
    "let abscisses, ordonnees = loop 1 0.5 0.0 [] [] in \n",
    "let xs = Array.of_list abscisses in\n",
    "let ys = Array.of_list ordonnees in\n",
    "\n",
    "let p = initialisation \"arbre\" (-1.) 1. 0. 2. in\n",
    "P.plot ~stream:p [P.points ~symbol:\".\" `green xs ys];\n",
    "P.finish ~stream:p ();;"
   ]
  },
  {
   "cell_type": "markdown",
   "metadata": {
    "deletable": true,
    "editable": true
   },
   "source": [
    "<img src=\"./arbre.svg\" width=750 />"
   ]
  },
  {
   "cell_type": "markdown",
   "metadata": {
    "deletable": true,
    "editable": true
   },
   "source": [
    "<h2>Barnsley</h2>\n",
    "Essayer également l'algorithme de Barnsley:\n",
    "\n",
    "$(x_{n+1},y_{n+1})=\\left\\{\\begin{matrix}\n",
    "\t(0.5,0.27.y_n),\\hfill\t\t\t\t\t\t\t\t\t\t\t&\\hbox{avec une proba de 2%,}\\hfill\\cr\n",
    "\t(-0.139.x_n+0.263.y_n+0.57,0.246.x_n+0.224.y_n-0.036),\\hfill\t&\\hbox{avec une proba de 15%,}\\cr\n",
    "\t(0.17.x_n-0.215.y_n+0.408,0.222.x_n+0.176.y_n+0.0893),\\hfill\t&\\hbox{avec une proba de 13%,}\\cr\n",
    "\t(0.781.x_n+0.034.y_n+0.1075,-0.032.x_n+0.739.y_n+0.27),\\hfill\t&\\hbox{avec une proba de 70%.}\\cr\\end{matrix}\\right.$"
   ]
  },
  {
   "cell_type": "code",
   "execution_count": 5,
   "metadata": {
    "collapsed": false,
    "deletable": true,
    "editable": true
   },
   "outputs": [
    {
     "data": {
      "text/html": [
       "<pre style=\"color:slategray;max-height:100px;overflow:hidden\" \n",
       "onclick=\"\n",
       "if (this.style.maxHeight === 'none') \n",
       "    this.style.maxHeight = '100px';\n",
       "else\n",
       "    this.style.maxHeight = 'none'; \n",
       "\">- : unit = ()\n",
       "</pre>"
      ]
     },
     "execution_count": 5,
     "metadata": {},
     "output_type": "execute_result"
    }
   ],
   "source": [
    "let rec loop nbre x y abscisses ordonnes =\n",
    "    \"à compléter\"\n",
    "    end in\n",
    "let abscisses, ordonnees = loop 1 0.5 0.0 [] [] in\n",
    "let xs = Array.of_list abscisses in\n",
    "let ys = Array.of_list ordonnees in\n",
    "\n",
    "let p = initialisation \"fougere\" 0. 1. 0. 1. in\n",
    "P.plot ~stream:p [P.points ~symbol:\".\" `green xs ys];\n",
    "P.finish ~stream:p ();;"
   ]
  },
  {
   "cell_type": "markdown",
   "metadata": {
    "deletable": true,
    "editable": true
   },
   "source": [
    "<img src=\"./fougere.svg\" width=750 />"
   ]
  },
  {
   "cell_type": "markdown",
   "metadata": {
    "deletable": true,
    "editable": true
   },
   "source": [
    "<h2>Sierpinski</h2>\n",
    "Un autre objet fractal a été défini par Sierpinski de la façon suivante.\n",
    "On considère le triangle formé par 3 points de coordonnées:\n",
    "$M_1=(a_1,b_1)$, $M_2=(a_2,b_2)$ et $M_3=(a_3,b_3)$.\n",
    "Soit un point $P_0$ de coordonnées arbitraires $P_0=(x_0,y_0)$ à l'intérieur du triangle $M_1M_2M_3$.\n",
    "Construire 15 000 points tels que: $P_{n+1}$ est le milieu de $[M_1P_n]$ (avec une probabilité de 1/3),\n",
    "de $[M_2P_n]$ (avec une probabilité de 1/3), de $[M_3P_n]$ (avec une probabilité de 1/3)."
   ]
  },
  {
   "cell_type": "code",
   "execution_count": 6,
   "metadata": {
    "collapsed": false,
    "deletable": true,
    "editable": true
   },
   "outputs": [
    {
     "data": {
      "text/html": [
       "<pre style=\"color:slategray;max-height:100px;overflow:hidden\" \n",
       "onclick=\"\n",
       "if (this.style.maxHeight === 'none') \n",
       "    this.style.maxHeight = '100px';\n",
       "else\n",
       "    this.style.maxHeight = 'none'; \n",
       "\">- : unit = ()\n",
       "</pre>"
      ]
     },
     "execution_count": 6,
     "metadata": {},
     "output_type": "execute_result"
    }
   ],
   "source": [
    "let rec loop nbre x y abscisses ordonnes =\n",
    "    \"à compléter\"\n",
    "    end in\n",
    "let abscisses, ordonnees = loop 1 180. 150. [] [] in\n",
    "let xs = Array.of_list abscisses in\n",
    "let ys = Array.of_list ordonnees in\n",
    "\n",
    "let p = initialisation \"triangle\" 20. 320. 20. 280. in\n",
    "P.plot ~stream:p [P.points ~symbol:\".\" `red xs ys];\n",
    "P.finish ~stream:p ();;"
   ]
  },
  {
   "cell_type": "markdown",
   "metadata": {
    "collapsed": true,
    "deletable": true,
    "editable": true
   },
   "source": [
    "<img src=\"./triangle.svg\" width=750 />"
   ]
  },
  {
   "cell_type": "code",
   "execution_count": null,
   "metadata": {
    "collapsed": true,
    "deletable": true,
    "editable": true
   },
   "outputs": [],
   "source": []
  }
 ],
 "metadata": {
  "kernelspec": {
   "display_name": "OCaml",
   "language": "ocaml",
   "name": "iocaml"
  },
  "language_info": {
   "name": "ocaml",
   "version": "4.1.0"
  }
 },
 "nbformat": 4,
 "nbformat_minor": 2
}
