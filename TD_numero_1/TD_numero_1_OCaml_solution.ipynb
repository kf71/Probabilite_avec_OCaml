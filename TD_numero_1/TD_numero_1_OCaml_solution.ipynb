{
 "cells": [
  {
   "cell_type": "markdown",
   "metadata": {
    "deletable": true,
    "editable": true
   },
   "source": [
    "<h1>Exercices</h1>\n",
    "\n",
    "<h2>Exercice 1</h2>\n",
    "\n",
    "Un joueur $A$ lance 2 fois un dé équilibré.\n",
    "<br>\n",
    "\n",
    "On note $X_1$  le résultat du dé 1 et $X_2$  le résultat du dé 2.\n",
    "<br>\n",
    "\n",
    "Un joueur $B$ lance également  2 fois un dé équilibré.\n",
    "<br>\n",
    "\n",
    "On note $Y_1$   le résultat du dé 1 et $Y_2$  le résultat du dé 2.\n",
    "\n",
    "<ol>\n",
    "<li> Simuler l’expérience aléatoire et calculer la valeur de $(X_1+X_2)-(Y_1+Y_2)$\n",
    "<li> Ré-itérer l'expérience $n$ fois et donner une estimation numérique de  $P(X_1+X_2=Y_1+Y_2)$.\n",
    "</ol>"
   ]
  },
  {
   "cell_type": "code",
   "execution_count": 1,
   "metadata": {
    "collapsed": false,
    "deletable": true,
    "editable": true
   },
   "outputs": [
    {
     "data": {
      "text/html": [
       "<pre style=\"color:slategray;max-height:100px;overflow:hidden\" \n",
       "onclick=\"\n",
       "if (this.style.maxHeight === 'none') \n",
       "    this.style.maxHeight = '100px';\n",
       "else\n",
       "    this.style.maxHeight = 'none'; \n",
       "\">- : unit -&gt; unit = &lt;fun&gt;\n",
       "</pre>"
      ]
     },
     "execution_count": 1,
     "metadata": {},
     "output_type": "execute_result"
    },
    {
     "data": {
      "text/html": [
       "<pre style=\"color:slategray;max-height:100px;overflow:hidden\" \n",
       "onclick=\"\n",
       "if (this.style.maxHeight === 'none') \n",
       "    this.style.maxHeight = '100px';\n",
       "else\n",
       "    this.style.maxHeight = 'none'; \n",
       "\">val jeu1 : unit -&gt; int = &lt;fun&gt;\n",
       "</pre>"
      ]
     },
     "execution_count": 1,
     "metadata": {},
     "output_type": "execute_result"
    },
    {
     "data": {
      "text/html": [
       "<pre style=\"color:slategray;max-height:100px;overflow:hidden\" \n",
       "onclick=\"\n",
       "if (this.style.maxHeight === 'none') \n",
       "    this.style.maxHeight = '100px';\n",
       "else\n",
       "    this.style.maxHeight = 'none'; \n",
       "\">val simul1 : int -&gt; float = &lt;fun&gt;\n",
       "</pre>"
      ]
     },
     "execution_count": 1,
     "metadata": {},
     "output_type": "execute_result"
    },
    {
     "data": {
      "text/html": [
       "<pre style=\"color:slategray;max-height:100px;overflow:hidden\" \n",
       "onclick=\"\n",
       "if (this.style.maxHeight === 'none') \n",
       "    this.style.maxHeight = '100px';\n",
       "else\n",
       "    this.style.maxHeight = 'none'; \n",
       "\">- : float = 11.462\n",
       "</pre>"
      ]
     },
     "execution_count": 1,
     "metadata": {},
     "output_type": "execute_result"
    }
   ],
   "source": [
    "open Random;;\n",
    "Random.self_init;;\n",
    "\n",
    "(*Exercice 1*)\n",
    "let jeu1() =\n",
    "    let x1 = 1 + Random.int 6 in\n",
    "    let x2 = 1 + Random.int 6 in\n",
    "    let y1 = 1 + Random.int 6 in\n",
    "    let y2 = 1 + Random.int 6 in   \n",
    "    x1+x2-(y1+y2);;\n",
    "let simul1 r =\n",
    "    let rec loop i p =\n",
    "        if i<r then begin\n",
    "            if jeu1()=0\n",
    "            then loop (i+1) (p+1)\n",
    "            else loop (i+1) p;\n",
    "        end else float_of_int (100*p)/.(float_of_int r) in\n",
    "    loop 0 0;;\n",
    "simul1 100000 (*11%*)"
   ]
  },
  {
   "cell_type": "markdown",
   "metadata": {
    "deletable": true,
    "editable": true
   },
   "source": [
    "<h2>Exercice 2</h2>\n",
    "\n",
    "Soit $n$  un entier fixé supérieur ou égal à  1.\n",
    "\n",
    "A l’instant $t_0=0$, on place un mobile à l’abscisse $x=0$ de la droite réelle.\n",
    "\n",
    "A chaque instant $t_i$  ($t_i$ entier), il fait au hasard un pas en avant ou un pas en arrière et ce indépendamment des pas précédents qu’il ait pu faire.\n",
    "\n",
    "On note $x_n$  sa position à l’instant  $t_n$. \n",
    "<ol>\n",
    "<li> Ecrire un programme en OCaml qui, ayant en argument l’entier $n$, simule l’expérience aléatoire et \n",
    "    retourne la valeur de $x_n$.\n",
    "<li> Ecrire un programme en OCaml qui, ayant en argument l’entier $n$, un entier $k$ ($-n\\leq k\\leq n$)     \n",
    "    et le nombre $r$  de fois où vous avez répété l’expérience pour votre estimation, retourne une estimation  \n",
    "    numérique de $P(x_n=k)$.\n",
    "</ol>"
   ]
  },
  {
   "cell_type": "code",
   "execution_count": 2,
   "metadata": {
    "collapsed": false,
    "deletable": true,
    "editable": true
   },
   "outputs": [
    {
     "name": "stdout",
     "output_type": "stream",
     "text": [
      "- : unit = ()\n",
      "Findlib has been successfully loaded. Additional directives:\n",
      "  #require \"package\";;      to load a package\n",
      "  #list;;                   to list the available packages\n",
      "  #camlp4o;;                to load camlp4 (standard syntax)\n",
      "  #camlp4r;;                to load camlp4 (revised syntax)\n",
      "  #predicates \"p,q,...\";;   to set these predicates\n",
      "  Topfind.reset();;         to force that packages will be reloaded\n",
      "  #thread;;                 to enable threads\n",
      "\n",
      "- : unit = ()\n"
     ]
    },
    {
     "name": "stderr",
     "output_type": "stream",
     "text": [
      "/usr/lib/ocaml/plplot: added to search path\n",
      "/usr/lib/ocaml/plplot/plplot.cma: loaded\n"
     ]
    },
    {
     "data": {
      "text/html": [
       "<pre style=\"color:slategray;max-height:100px;overflow:hidden\" \n",
       "onclick=\"\n",
       "if (this.style.maxHeight === 'none') \n",
       "    this.style.maxHeight = '100px';\n",
       "else\n",
       "    this.style.maxHeight = 'none'; \n",
       "\">module P = Plplot.Plot\n",
       "</pre>"
      ]
     },
     "execution_count": 2,
     "metadata": {},
     "output_type": "execute_result"
    },
    {
     "data": {
      "text/html": [
       "<pre style=\"color:slategray;max-height:100px;overflow:hidden\" \n",
       "onclick=\"\n",
       "if (this.style.maxHeight === 'none') \n",
       "    this.style.maxHeight = '100px';\n",
       "else\n",
       "    this.style.maxHeight = 'none'; \n",
       "\">val couleurs_list : int list list =\n",
       "  [[0; 255; 255; 255]; [1; 0; 0; 0]; [2; 0; 0; 255]; [3; 255; 0; 0];\n",
       "   [4; 165; 42; 42]; [5; 0; 0; 0]; [6; 0; 0; 0]; [7; 0; 0; 0]; [8; 0; 0; 0];\n",
       "   [9; 0; 0; 0]; [10; 200; 200; 200]; [11; 0; 255; 255]; [12; 0; 255; 0];\n",
       "   [13; 255; 255; 0]; [14; 255; 0; 255]; [15; 160; 0; 213]]\n",
       "</pre>"
      ]
     },
     "execution_count": 2,
     "metadata": {},
     "output_type": "execute_result"
    },
    {
     "data": {
      "text/html": [
       "<pre style=\"color:slategray;max-height:100px;overflow:hidden\" \n",
       "onclick=\"\n",
       "if (this.style.maxHeight === 'none') \n",
       "    this.style.maxHeight = '100px';\n",
       "else\n",
       "    this.style.maxHeight = 'none'; \n",
       "\">val loop : int list list -&gt; unit = &lt;fun&gt;\n",
       "</pre>"
      ]
     },
     "execution_count": 2,
     "metadata": {},
     "output_type": "execute_result"
    },
    {
     "data": {
      "text/html": [
       "<pre style=\"color:slategray;max-height:100px;overflow:hidden\" \n",
       "onclick=\"\n",
       "if (this.style.maxHeight === 'none') \n",
       "    this.style.maxHeight = '100px';\n",
       "else\n",
       "    this.style.maxHeight = 'none'; \n",
       "\">val couleurs : unit -&gt; unit = &lt;fun&gt;\n",
       "</pre>"
      ]
     },
     "execution_count": 2,
     "metadata": {},
     "output_type": "execute_result"
    },
    {
     "data": {
      "text/html": [
       "<pre style=\"color:slategray;max-height:100px;overflow:hidden\" \n",
       "onclick=\"\n",
       "if (this.style.maxHeight === 'none') \n",
       "    this.style.maxHeight = '100px';\n",
       "else\n",
       "    this.style.maxHeight = 'none'; \n",
       "\">val initialisation : string -&gt; float -&gt; float -&gt; float -&gt; float -&gt; P.stream_t =\n",
       "  &lt;fun&gt;\n",
       "</pre>"
      ]
     },
     "execution_count": 2,
     "metadata": {},
     "output_type": "execute_result"
    },
    {
     "data": {
      "text/html": [
       "<pre style=\"color:slategray;max-height:100px;overflow:hidden\" \n",
       "onclick=\"\n",
       "if (this.style.maxHeight === 'none') \n",
       "    this.style.maxHeight = '100px';\n",
       "else\n",
       "    this.style.maxHeight = 'none'; \n",
       "\">val xlabel : string -&gt; P.plot_t = &lt;fun&gt;\n",
       "</pre>"
      ]
     },
     "execution_count": 2,
     "metadata": {},
     "output_type": "execute_result"
    },
    {
     "data": {
      "text/html": [
       "<pre style=\"color:slategray;max-height:100px;overflow:hidden\" \n",
       "onclick=\"\n",
       "if (this.style.maxHeight === 'none') \n",
       "    this.style.maxHeight = '100px';\n",
       "else\n",
       "    this.style.maxHeight = 'none'; \n",
       "\">val ylabel : string -&gt; P.plot_t = &lt;fun&gt;\n",
       "</pre>"
      ]
     },
     "execution_count": 2,
     "metadata": {},
     "output_type": "execute_result"
    },
    {
     "data": {
      "text/html": [
       "<pre style=\"color:slategray;max-height:100px;overflow:hidden\" \n",
       "onclick=\"\n",
       "if (this.style.maxHeight === 'none') \n",
       "    this.style.maxHeight = '100px';\n",
       "else\n",
       "    this.style.maxHeight = 'none'; \n",
       "\">val label : string -&gt; string -&gt; string -&gt; P.plot_t = &lt;fun&gt;\n",
       "</pre>"
      ]
     },
     "execution_count": 2,
     "metadata": {},
     "output_type": "execute_result"
    }
   ],
   "source": [
    "#use \"topfind\";;\n",
    "#require \"plplot\";;\n",
    "open Plplot;;\n",
    "module P = Plot;;\n",
    "let couleurs_list = [[ 0;255;255;255]; (*`white*)\n",
    "                     [ 1;  0;  0;  0]; (*`black*)\n",
    "                     [ 2;  0;  0;255]; (*`blue*)\n",
    "                     [ 3;255;  0;  0]; (*`red*)\n",
    "                     [ 4;165; 42; 42]; (*`brown*)\n",
    "                     [ 5;  0;  0;  0]; [ 6;  0;  0;  0]; [ 7;  0;  0;  0]; [ 8;  0;  0;  0]; [ 9;  0;  0;  0]; \n",
    "                     [10;200;200;200]; (*`gray*)\n",
    "                     [11;  0;255;255]; (*`light_blue*)\n",
    "                     [12;  0;255;  0]; (*`green*)\n",
    "                     [13;255;255;  0]; (*`yellow*)\n",
    "                     [14;255;  0;255]; (*`pink*)\n",
    "                     [15;160;  0;213]; (*`purple*) ]\n",
    "let rec loop couleurs_list = match couleurs_list with\n",
    "    | [n;r;g;b]::tl -> plscol0 n r g b; loop tl\n",
    "    | _ -> ();;\n",
    "let couleurs = (fun () -> plscolbg 255 255 255; loop couleurs_list)\n",
    "let initialisation filename xmin xmax ymin ymax = \n",
    "        P.init (xmin, ymin) (xmax, ymax) `greedy (`svg `core) ~filename:(filename^\".svg\") ~pre:couleurs\n",
    "let xlabel texte = P.text_outside `black (`bottom 0.5) 3. texte\n",
    "let ylabel texte = P.text_outside `black (`left 0.5) 5. texte \n",
    "let label texte_x texte_y titre = P.label texte_x texte_y titre"
   ]
  },
  {
   "cell_type": "code",
   "execution_count": 3,
   "metadata": {
    "collapsed": false,
    "deletable": true,
    "editable": true
   },
   "outputs": [
    {
     "data": {
      "text/html": [
       "<pre style=\"color:slategray;max-height:100px;overflow:hidden\" \n",
       "onclick=\"\n",
       "if (this.style.maxHeight === 'none') \n",
       "    this.style.maxHeight = '100px';\n",
       "else\n",
       "    this.style.maxHeight = 'none'; \n",
       "\">val bar :\n",
       "  ?x_width:float -&gt;\n",
       "  ?x_offset:float -&gt; P.color_t -&gt; float array -&gt; float array -&gt; P.plot_t =\n",
       "  &lt;fun&gt;\n",
       "</pre>"
      ]
     },
     "execution_count": 3,
     "metadata": {},
     "output_type": "execute_result"
    }
   ],
   "source": [
    "let bar ?x_width ?x_offset color xs ys = \n",
    "    let x_width_ = match x_width with\n",
    "        |None -> 0.4\n",
    "        |Some x -> x in\n",
    "    let x_offset_ = match x_offset with\n",
    "        |None -> 0.\n",
    "        |Some x -> x in\n",
    "    \n",
    "    let x = Array.make (4*(Array.length xs)) 0. in\n",
    "    let y = Array.make (4*(Array.length xs)) 0. in\n",
    "    for i = 0 to Array.length xs - 1 do\n",
    "        x.(4*i)   <- x_offset_ +. xs.(i) -. x_width_;\n",
    "        x.(4*i+1) <- x_offset_ +. xs.(i) -. x_width_;\n",
    "        x.(4*i+2) <- x_offset_ +. xs.(i) +. x_width_;\n",
    "        x.(4*i+3) <- x_offset_ +. xs.(i) +. x_width_;\n",
    "        y.(4*i)   <- 0.;\n",
    "        y.(4*i+1) <- ys.(i);\n",
    "        y.(4*i+2) <- ys.(i);\n",
    "        y.(4*i+3) <- 0.;\n",
    "    done; P.polygon ~fill:true color x y;;"
   ]
  },
  {
   "cell_type": "code",
   "execution_count": 4,
   "metadata": {
    "collapsed": false,
    "deletable": true,
    "editable": true
   },
   "outputs": [
    {
     "data": {
      "text/html": [
       "<pre style=\"color:slategray;max-height:100px;overflow:hidden\" \n",
       "onclick=\"\n",
       "if (this.style.maxHeight === 'none') \n",
       "    this.style.maxHeight = '100px';\n",
       "else\n",
       "    this.style.maxHeight = 'none'; \n",
       "\">val range : int -&gt; int -&gt; int -&gt; int list = &lt;fun&gt;\n",
       "</pre>"
      ]
     },
     "execution_count": 4,
     "metadata": {},
     "output_type": "execute_result"
    }
   ],
   "source": [
    "let range debut fin step =\n",
    "   let rec range i acc =\n",
    "     if i>=fin then List.rev acc\n",
    "     else range (i+step) (i::acc) in\n",
    "   range debut [];;"
   ]
  },
  {
   "cell_type": "code",
   "execution_count": 5,
   "metadata": {
    "collapsed": false,
    "deletable": true,
    "editable": true
   },
   "outputs": [
    {
     "name": "stdout",
     "output_type": "stream",
     "text": [
      "20.2"
     ]
    },
    {
     "data": {
      "text/html": [
       "<pre style=\"color:slategray;max-height:100px;overflow:hidden\" \n",
       "onclick=\"\n",
       "if (this.style.maxHeight === 'none') \n",
       "    this.style.maxHeight = '100px';\n",
       "else\n",
       "    this.style.maxHeight = 'none'; \n",
       "\">val z : int -&gt; int = &lt;fun&gt;\n",
       "</pre>"
      ]
     },
     "execution_count": 5,
     "metadata": {},
     "output_type": "execute_result"
    },
    {
     "data": {
      "text/html": [
       "<pre style=\"color:slategray;max-height:100px;overflow:hidden\" \n",
       "onclick=\"\n",
       "if (this.style.maxHeight === 'none') \n",
       "    this.style.maxHeight = '100px';\n",
       "else\n",
       "    this.style.maxHeight = 'none'; \n",
       "\">val simul2 : int -&gt; int -&gt; int -&gt; float = &lt;fun&gt;\n",
       "</pre>"
      ]
     },
     "execution_count": 5,
     "metadata": {},
     "output_type": "execute_result"
    },
    {
     "data": {
      "text/html": [
       "<pre style=\"color:slategray;max-height:100px;overflow:hidden\" \n",
       "onclick=\"\n",
       "if (this.style.maxHeight === 'none') \n",
       "    this.style.maxHeight = '100px';\n",
       "else\n",
       "    this.style.maxHeight = 'none'; \n",
       "\">- : unit = ()\n",
       "</pre>"
      ]
     },
     "execution_count": 5,
     "metadata": {},
     "output_type": "execute_result"
    }
   ],
   "source": [
    "(*Exercice2*)\n",
    "let z n =\n",
    "    let rec loop i pos =\n",
    "        if i<n then begin\n",
    "            let p = Random.int 2 in\n",
    "            (*0 à droite, 1 à gauche*)\n",
    "            if p=0 then loop (i+1) (pos+1)\n",
    "                   else loop (i+1) (pos-1);\n",
    "        end else pos in\n",
    "    loop 0 0;;\n",
    "let simul2 n k r =\n",
    "    let rec loop i p =\n",
    "        if i<r then begin\n",
    "            if z n = k then loop (i+1) (p+1)\n",
    "                       else loop (i+1) p;\n",
    "        end else float_of_int (100*p)/.(float_of_int r) in\n",
    "    loop 0 0;;\n",
    "\n",
    "print_float(simul2 10 2 1000); (*20%*)\n",
    "\n",
    "let liste_k = range(-10) 11 1 in\n",
    "let liste_p=List.map (fun k-> simul2 10 k 10000) liste_k in\n",
    "\n",
    "let xs = Array.of_list (List.map float_of_int liste_k) in\n",
    "let ys = Array.of_list liste_p in\n",
    "let p = initialisation \"graph2\" (-.10.) 10. 0. 30. in\n",
    "P.plot ~stream:p [bar `blue xs ys;\n",
    "                  P.label \"\" \"\" \"Ex 2\"];\n",
    "P.finish ~stream:p ();;"
   ]
  },
  {
   "cell_type": "markdown",
   "metadata": {
    "deletable": true,
    "editable": true
   },
   "source": [
    "<img src=\"graph2.svg\" width=\"500\"/>"
   ]
  },
  {
   "cell_type": "markdown",
   "metadata": {
    "deletable": true,
    "editable": true
   },
   "source": [
    "<h2>Exercice  3</h2>\n",
    "\n",
    "On dispose d’une urne contenant initialement une boule blanche et d’une pièce de monnaie bien équilibrée.\n",
    "\n",
    "On effectue une suite de lancers de la pièce de monnaie.\n",
    "\n",
    "Tant que l’on obtient face lors du lancer de la pièce de monnaie, on ajoute une boule noire dans l’urne et on effectue aucun tirage.\n",
    "\n",
    "Par contre, la première fois que l’on obtient pile, on tire alors au hasard une boule dans l’urne.\n",
    "\n",
    "On note  $B$ : \"un tirage dans l’urne a eu lieu et la boule tirée est blanche\".\n",
    "    \n",
    "<ol>\n",
    "<li> Ecrire un programme en OCaml qui simule l’expérience aléatoire et retourne 0  si $B$  s’est produit \n",
    "    et  1 sinon.\n",
    "<li> En déduire un programme en OCaml qui, ayant en argument le nombre $r$  de fois où vous \n",
    "     avez répété l’expérience pour votre estimation,  renvoie une estimation numérique de $P(B)$  \n",
    "</ol>"
   ]
  },
  {
   "cell_type": "code",
   "execution_count": 6,
   "metadata": {
    "collapsed": false,
    "deletable": true,
    "editable": true
   },
   "outputs": [
    {
     "data": {
      "text/html": [
       "<pre style=\"color:slategray;max-height:100px;overflow:hidden\" \n",
       "onclick=\"\n",
       "if (this.style.maxHeight === 'none') \n",
       "    this.style.maxHeight = '100px';\n",
       "else\n",
       "    this.style.maxHeight = 'none'; \n",
       "\">val jeu3 : unit -&gt; int = &lt;fun&gt;\n",
       "</pre>"
      ]
     },
     "execution_count": 6,
     "metadata": {},
     "output_type": "execute_result"
    },
    {
     "data": {
      "text/html": [
       "<pre style=\"color:slategray;max-height:100px;overflow:hidden\" \n",
       "onclick=\"\n",
       "if (this.style.maxHeight === 'none') \n",
       "    this.style.maxHeight = '100px';\n",
       "else\n",
       "    this.style.maxHeight = 'none'; \n",
       "\">val simul3 : int -&gt; float = &lt;fun&gt;\n",
       "</pre>"
      ]
     },
     "execution_count": 6,
     "metadata": {},
     "output_type": "execute_result"
    },
    {
     "data": {
      "text/html": [
       "<pre style=\"color:slategray;max-height:100px;overflow:hidden\" \n",
       "onclick=\"\n",
       "if (this.style.maxHeight === 'none') \n",
       "    this.style.maxHeight = '100px';\n",
       "else\n",
       "    this.style.maxHeight = 'none'; \n",
       "\">- : float = 69.393\n",
       "</pre>"
      ]
     },
     "execution_count": 6,
     "metadata": {},
     "output_type": "execute_result"
    }
   ],
   "source": [
    "(*Exercice 3*)\n",
    "let jeu3() =\n",
    "    let rec loop noir =\n",
    "        if Random.int 2 = 0 (*on obtient face*)\n",
    "        then loop (noir+1)\n",
    "        else noir in\n",
    "    let noir = loop 0 in\n",
    "    let tirage = Random.int (noir+1) in (*0=blanc; autres=noir*)\n",
    "    if tirage=0 then 0 (*on a tiré une blanche*)\n",
    "                else 1 (*on a tiré une noire*);;\n",
    "let simul3 r =\n",
    "    let rec loop i p =\n",
    "        if i<r then begin\n",
    "            if jeu3()=0 then loop (i+1) (p+1)\n",
    "                        else loop (i+1) p;\n",
    "        end else float_of_int (100*p)/.(float_of_int r) in\n",
    "    loop 0 0;;\n",
    "simul3 100000 (*69%*)"
   ]
  },
  {
   "cell_type": "markdown",
   "metadata": {
    "collapsed": true,
    "deletable": true,
    "editable": true
   },
   "source": [
    "<h2>Exercice 4</h2>\n",
    "\n",
    "On effectue une série de tirages dans une urne de la manière suivante :\n",
    "<ul>\n",
    "<li> Au départ, l’urne contient une boule blanche et une boule noire.\n",
    "<li> Après chaque tirage, on remet dans l’urne la boule que l’on vient de tirer ainsi qu’une autre boule de la même couleur.\n",
    "</ul>\n",
    "\n",
    "On note $X_n$  le nombre de boules blanches obtenues lors des $n$  premiers tirages ($n\\geq1$).\n",
    "<ol>\n",
    "<li>  Ecrire un programme en OCaml qui, ayant en argument l’entier $n$, simule l’expérience aléatoire et \n",
    "    retourne la valeur de  $X_n$.\n",
    "<li>  Ecrire un programme en OCaml qui, ayant en argument l’entier $n$, un entier  $k$ ($0\\leq k\\leq n$)   \n",
    "    et le nombre $r$  de fois où vous avez répété l’expérience pour votre estimation, retourne une estimation  \n",
    "    numérique de $P(X_n=k)$ . Quelle est la loi de $X_n$ ? \n",
    "</ol>"
   ]
  },
  {
   "cell_type": "code",
   "execution_count": 7,
   "metadata": {
    "collapsed": false,
    "deletable": true,
    "editable": true
   },
   "outputs": [
    {
     "name": "stdout",
     "output_type": "stream",
     "text": [
      "8.6"
     ]
    },
    {
     "data": {
      "text/html": [
       "<pre style=\"color:slategray;max-height:100px;overflow:hidden\" \n",
       "onclick=\"\n",
       "if (this.style.maxHeight === 'none') \n",
       "    this.style.maxHeight = '100px';\n",
       "else\n",
       "    this.style.maxHeight = 'none'; \n",
       "\">val jeu4 : int -&gt; int = &lt;fun&gt;\n",
       "</pre>"
      ]
     },
     "execution_count": 7,
     "metadata": {},
     "output_type": "execute_result"
    },
    {
     "data": {
      "text/html": [
       "<pre style=\"color:slategray;max-height:100px;overflow:hidden\" \n",
       "onclick=\"\n",
       "if (this.style.maxHeight === 'none') \n",
       "    this.style.maxHeight = '100px';\n",
       "else\n",
       "    this.style.maxHeight = 'none'; \n",
       "\">val simul4 : int -&gt; int -&gt; int -&gt; float = &lt;fun&gt;\n",
       "</pre>"
      ]
     },
     "execution_count": 7,
     "metadata": {},
     "output_type": "execute_result"
    },
    {
     "data": {
      "text/html": [
       "<pre style=\"color:slategray;max-height:100px;overflow:hidden\" \n",
       "onclick=\"\n",
       "if (this.style.maxHeight === 'none') \n",
       "    this.style.maxHeight = '100px';\n",
       "else\n",
       "    this.style.maxHeight = 'none'; \n",
       "\">- : unit = ()\n",
       "</pre>"
      ]
     },
     "execution_count": 7,
     "metadata": {},
     "output_type": "execute_result"
    },
    {
     "data": {
      "text/html": [
       "<pre style=\"color:slategray;max-height:100px;overflow:hidden\" \n",
       "onclick=\"\n",
       "if (this.style.maxHeight === 'none') \n",
       "    this.style.maxHeight = '100px';\n",
       "else\n",
       "    this.style.maxHeight = 'none'; \n",
       "\">- : unit = ()\n",
       "</pre>"
      ]
     },
     "execution_count": 7,
     "metadata": {},
     "output_type": "execute_result"
    }
   ],
   "source": [
    "(*Exercice4*)\n",
    "let jeu4 n =\n",
    "    let rec loop i noir blanc =\n",
    "        if i<n then begin\n",
    "            let tirage = 1+ Random.int (noir+blanc) in\n",
    "            if tirage<=blanc \n",
    "            then (*on a tiré une blanche*)\n",
    "                loop (i+1) noir (blanc+1)\n",
    "            else (*on a tiré une noire*)\n",
    "                loop (i+1) (noir+1) blanc;\n",
    "        end else blanc-1 in\n",
    "        (*à chaque fois qu'on a obtenu blanc, on a ajouté une blanche*)\n",
    "    loop 0 1 1;;\n",
    "let simul4 n k r =\n",
    "    let rec loop i p =\n",
    "        if i<r then begin\n",
    "            if jeu4 n = k\n",
    "            then loop (i+1) (p+1)\n",
    "            else loop (i+1) p;\n",
    "        end else float_of_int (100*p)/.(float_of_int r) in\n",
    "    loop 0 0;;\n",
    "print_float(simul4 10 2 1000);; (*10%*)\n",
    "\n",
    "let n = 10 in\n",
    "let liste_k = range 0 n 1 in\n",
    "let liste_p = List.map (fun k-> simul4 n k 10000) liste_k in\n",
    "\n",
    "let xs = Array.of_list (List.map float_of_int liste_k) in\n",
    "let ys = Array.of_list liste_p in\n",
    "let p = initialisation \"graph4\" (-.0.5) (float_of_int n-.0.5) 0. 100. in\n",
    "P.plot ~stream:p [bar `blue xs ys;\n",
    "                  P.label \"\" \"\" \"Ex 4\"];\n",
    "P.finish ~stream:p ();;"
   ]
  },
  {
   "cell_type": "markdown",
   "metadata": {
    "deletable": true,
    "editable": true
   },
   "source": [
    "<img src=\"graph4.svg\" width=\"500\"/>"
   ]
  },
  {
   "cell_type": "markdown",
   "metadata": {
    "deletable": true,
    "editable": true
   },
   "source": [
    "<h2>Exercice 5</h2>\n",
    "\n",
    "On considère plusieurs sacs de billes $S_1,S_2,\\dots,S_n$  tels que :\n",
    "<ul>\n",
    "<li> \tle premier sac  $S_1$ contient 3 billes jaunes et 2 billes vertes.\n",
    "<li> chacun des sacs suivants $S_2,\\dots,S_n$  contient 2 billes jaunes et 2 billes vertes.\n",
    "</ul>\n",
    "\n",
    "On réalise l’expérience suivante :\n",
    "<ul>\n",
    "<li>\ton tire au hasard une bille dans $S_1$  \n",
    "<li>\ton place la bille tirée de $S_1$  dans $S_2$, puis on tire au hasard une bille dans  $S_2$\n",
    "<li>\ton place la bille tirée de $S_2$  dans $S_3$, puis on tire au hasard une bille dans  $S_3$\n",
    "<li>\tet ainsi de suite\n",
    "</ul>\n",
    "\n",
    "Pour $n\\geq1$, on note $E_n$ l’événement : \"la bille tirée dans $S_n$  est verte\" et on note  $P(E_n)=p_n$ sa probabilité.\n",
    "<ol>\n",
    "<li>  Ecrire un programme en OCaml qui, ayant en argument l’entier $n$, simule l’expérience aléatoire \n",
    "     et retourne la liste des $n$  boules tirées. \n",
    "<li> En déduire un programme en OCaml qui, ayant en argument l’entier $n$  et le nombre $r$  de fois où vous \n",
    "     avez répété l’expérience pour votre estimation,  renvoie une estimation numérique de  $P(E_n)=p_n$\n",
    "</ol>"
   ]
  },
  {
   "cell_type": "code",
   "execution_count": 8,
   "metadata": {
    "collapsed": false,
    "deletable": true,
    "editable": true
   },
   "outputs": [
    {
     "data": {
      "text/html": [
       "<pre style=\"color:slategray;max-height:100px;overflow:hidden\" \n",
       "onclick=\"\n",
       "if (this.style.maxHeight === 'none') \n",
       "    this.style.maxHeight = '100px';\n",
       "else\n",
       "    this.style.maxHeight = 'none'; \n",
       "\">val list_make : int -&gt; 'a -&gt; 'a list = &lt;fun&gt;\n",
       "</pre>"
      ]
     },
     "execution_count": 8,
     "metadata": {},
     "output_type": "execute_result"
    }
   ],
   "source": [
    "let list_make n element =\n",
    "    let rec loop i acc =\n",
    "        if i<n then loop (i+1) (element::acc)\n",
    "        else acc in\n",
    "    loop 0 [];;"
   ]
  },
  {
   "cell_type": "code",
   "execution_count": 9,
   "metadata": {
    "collapsed": false,
    "deletable": true,
    "editable": true
   },
   "outputs": [
    {
     "name": "stdout",
     "output_type": "stream",
     "text": [
      "52.2"
     ]
    },
    {
     "data": {
      "text/html": [
       "<pre style=\"color:slategray;max-height:100px;overflow:hidden\" \n",
       "onclick=\"\n",
       "if (this.style.maxHeight === 'none') \n",
       "    this.style.maxHeight = '100px';\n",
       "else\n",
       "    this.style.maxHeight = 'none'; \n",
       "\">val jeu5 : int -&gt; int = &lt;fun&gt;\n",
       "</pre>"
      ]
     },
     "execution_count": 9,
     "metadata": {},
     "output_type": "execute_result"
    },
    {
     "data": {
      "text/html": [
       "<pre style=\"color:slategray;max-height:100px;overflow:hidden\" \n",
       "onclick=\"\n",
       "if (this.style.maxHeight === 'none') \n",
       "    this.style.maxHeight = '100px';\n",
       "else\n",
       "    this.style.maxHeight = 'none'; \n",
       "\">val simul5 : int -&gt; int -&gt; float = &lt;fun&gt;\n",
       "</pre>"
      ]
     },
     "execution_count": 9,
     "metadata": {},
     "output_type": "execute_result"
    },
    {
     "data": {
      "text/html": [
       "<pre style=\"color:slategray;max-height:100px;overflow:hidden\" \n",
       "onclick=\"\n",
       "if (this.style.maxHeight === 'none') \n",
       "    this.style.maxHeight = '100px';\n",
       "else\n",
       "    this.style.maxHeight = 'none'; \n",
       "\">- : unit = ()\n",
       "</pre>"
      ]
     },
     "execution_count": 9,
     "metadata": {},
     "output_type": "execute_result"
    },
    {
     "data": {
      "text/html": [
       "<pre style=\"color:slategray;max-height:100px;overflow:hidden\" \n",
       "onclick=\"\n",
       "if (this.style.maxHeight === 'none') \n",
       "    this.style.maxHeight = '100px';\n",
       "else\n",
       "    this.style.maxHeight = 'none'; \n",
       "\">- : unit = ()\n",
       "</pre>"
      ]
     },
     "execution_count": 9,
     "metadata": {},
     "output_type": "execute_result"
    }
   ],
   "source": [
    "(*Exercice5*)\n",
    "let jeu5 n =\n",
    "    let jaune = Array.concat [[|3|];Array.make (n-1) 2;[|0|]] in (*n+1 ème sac vide*)\n",
    "    let vert = Array.concat [Array.make n 2;[|0|]] in (*n+1 ème sac vide*)\n",
    "    let rec loop num_sac =\n",
    "        if num_sac<n then begin\n",
    "            let j=jaune.(num_sac) in\n",
    "            let v=vert.(num_sac) in\n",
    "            let tirage = 1+Random.int(j+v) in\n",
    "            if tirage <= j \n",
    "            then (*les j premiers sont jaunes*)\n",
    "                jaune.(num_sac+1)<-jaune.(num_sac+1)+1\n",
    "            else\n",
    "                vert.(num_sac+1)<-vert.(num_sac+1)+1;\n",
    "            loop (num_sac+1);\n",
    "        end in\n",
    "    loop 0;\n",
    "    vert.(n) (*je triche je ne renvoie que la derniere bille*);;\n",
    "let simul5 n r =\n",
    "    let rec loop i p =\n",
    "        if i<r then begin\n",
    "            if jeu5 n = 1 \n",
    "            then (*on a eu un vert dans Sn*)\n",
    "                 loop (i+1) (p+1)\n",
    "            else loop (i+1) p\n",
    "        end else float_of_int (100*p)/.(float_of_int r) in\n",
    "    loop 0 0;;\n",
    "print_float(simul5 10 1000);; (*49%*)\n",
    "\n",
    "let n=10 in\n",
    "let liste_n = range 1 n 1 in\n",
    "let liste_p = List.map (fun n -> simul5 n 10000) liste_n in\n",
    "\n",
    "let xs = Array.of_list (List.map float_of_int liste_n) in\n",
    "let ys = Array.of_list liste_p in\n",
    "let p = initialisation \"graph5\" (-.0.5) (float_of_int n-.0.5) 0. 100. in\n",
    "P.plot ~stream:p [bar `blue xs ys;\n",
    "                  P.label \"\" \"\" \"Ex 5\"];\n",
    "P.finish ~stream:p ();;"
   ]
  },
  {
   "cell_type": "markdown",
   "metadata": {
    "deletable": true,
    "editable": true
   },
   "source": [
    "<img src=\"graph5.svg\" width=\"500\"/>"
   ]
  },
  {
   "cell_type": "markdown",
   "metadata": {
    "deletable": true,
    "editable": true
   },
   "source": [
    "<h2>Exercice 6</h2>\n",
    "\n",
    "Soit $n$  un entier supérieur ou égal à 3.\n",
    "\n",
    "Une urne contient 2 boules blanches et $n-2$  boules rouges.\n",
    "\n",
    "On effectue des tirages sans remise dans cette urne.\n",
    "\n",
    "On note $X$  le rang de sortie de la première boule blanche.\n",
    "<ol>\n",
    "<li>  Ecrire un programme en OCaml qui simule l’expérience aléatoire et retourne la valeur de $X$.\n",
    "<li>  Ecrire un programme en OCaml qui, ayant en argument un entier $k$ $(1\\leq k\\leq n-1)$   et le nombre $r$  de fois \n",
    "   où vous avez répété l’expérience pour votre estimation, retourne une estimation numérique de  $P(X=k)$.\n",
    "<li>  Ecrire un programme en OCaml qui, ayant en argument  le nombre $r$  de fois où vous avez répété \n",
    "    l’expérience pour votre estimation, retourne une estimation numérique l’espérance de $X$.\n",
    "</ol>"
   ]
  },
  {
   "cell_type": "code",
   "execution_count": 10,
   "metadata": {
    "collapsed": false,
    "deletable": true,
    "editable": true
   },
   "outputs": [
    {
     "name": "stdout",
     "output_type": "stream",
     "text": [
      "12.2\n"
     ]
    },
    {
     "data": {
      "text/html": [
       "<pre style=\"color:slategray;max-height:100px;overflow:hidden\" \n",
       "onclick=\"\n",
       "if (this.style.maxHeight === 'none') \n",
       "    this.style.maxHeight = '100px';\n",
       "else\n",
       "    this.style.maxHeight = 'none'; \n",
       "\">val jeu6 : int -&gt; int = &lt;fun&gt;\n",
       "</pre>"
      ]
     },
     "execution_count": 10,
     "metadata": {},
     "output_type": "execute_result"
    },
    {
     "data": {
      "text/html": [
       "<pre style=\"color:slategray;max-height:100px;overflow:hidden\" \n",
       "onclick=\"\n",
       "if (this.style.maxHeight === 'none') \n",
       "    this.style.maxHeight = '100px';\n",
       "else\n",
       "    this.style.maxHeight = 'none'; \n",
       "\">val simul6 : int -&gt; int -&gt; int -&gt; float = &lt;fun&gt;\n",
       "</pre>"
      ]
     },
     "execution_count": 10,
     "metadata": {},
     "output_type": "execute_result"
    },
    {
     "data": {
      "text/html": [
       "<pre style=\"color:slategray;max-height:100px;overflow:hidden\" \n",
       "onclick=\"\n",
       "if (this.style.maxHeight === 'none') \n",
       "    this.style.maxHeight = '100px';\n",
       "else\n",
       "    this.style.maxHeight = 'none'; \n",
       "\">- : unit = ()\n",
       "</pre>"
      ]
     },
     "execution_count": 10,
     "metadata": {},
     "output_type": "execute_result"
    },
    {
     "data": {
      "text/html": [
       "<pre style=\"color:slategray;max-height:100px;overflow:hidden\" \n",
       "onclick=\"\n",
       "if (this.style.maxHeight === 'none') \n",
       "    this.style.maxHeight = '100px';\n",
       "else\n",
       "    this.style.maxHeight = 'none'; \n",
       "\">- : unit = ()\n",
       "</pre>"
      ]
     },
     "execution_count": 10,
     "metadata": {},
     "output_type": "execute_result"
    },
    {
     "data": {
      "text/html": [
       "<pre style=\"color:slategray;max-height:100px;overflow:hidden\" \n",
       "onclick=\"\n",
       "if (this.style.maxHeight === 'none') \n",
       "    this.style.maxHeight = '100px';\n",
       "else\n",
       "    this.style.maxHeight = 'none'; \n",
       "\">- : unit = ()\n",
       "</pre>"
      ]
     },
     "execution_count": 10,
     "metadata": {},
     "output_type": "execute_result"
    }
   ],
   "source": [
    "(*Exercice6*)\n",
    "let jeu6 n =\n",
    "    let rouge = n-2 in\n",
    "    let rec loop num =\n",
    "        if 1+Random.int n <= rouge\n",
    "        then loop (num+1) (*on a tiré une rouge*)        \n",
    "        else num in\n",
    "    loop 1;;\n",
    "let simul6 n k r =\n",
    "    let rec loop i p =\n",
    "        if i<r then begin\n",
    "            if jeu6 n = k\n",
    "            then loop (i+1) (p+1)\n",
    "            else loop (i+1) p;\n",
    "        end else float_of_int (100*p)/.(float_of_int r) in\n",
    "    loop 0 0;;\n",
    "print_float(simul6 10 3 1000);; (*12%*)\n",
    "print_newline();;\n",
    "\n",
    "let n = 10 in\n",
    "let liste_k = range 1 n 1 in\n",
    "let liste_p = List.map (fun k-> simul6 n k 10000) liste_k in\n",
    "\n",
    "let xs = Array.of_list (List.map float_of_int liste_k) in\n",
    "let ys = Array.of_list liste_p in\n",
    "let p = initialisation \"graph6\" (-.0.5) (float_of_int n-.0.5) 0. 100. in\n",
    "P.plot ~stream:p [bar `blue xs ys;\n",
    "                  P.label \"\" \"\" \"Ex 6\"];\n",
    "P.finish ~stream:p ();;"
   ]
  },
  {
   "cell_type": "markdown",
   "metadata": {
    "deletable": true,
    "editable": true
   },
   "source": [
    "<img src=\"graph6.svg\" width=\"500\"/>"
   ]
  },
  {
   "cell_type": "code",
   "execution_count": 11,
   "metadata": {
    "collapsed": false,
    "deletable": true,
    "editable": true
   },
   "outputs": [
    {
     "name": "stdout",
     "output_type": "stream",
     "text": [
      "3.1115"
     ]
    },
    {
     "data": {
      "text/html": [
       "<pre style=\"color:slategray;max-height:100px;overflow:hidden\" \n",
       "onclick=\"\n",
       "if (this.style.maxHeight === 'none') \n",
       "    this.style.maxHeight = '100px';\n",
       "else\n",
       "    this.style.maxHeight = 'none'; \n",
       "\">val esperance6 : int -&gt; int -&gt; float = &lt;fun&gt;\n",
       "</pre>"
      ]
     },
     "execution_count": 11,
     "metadata": {},
     "output_type": "execute_result"
    },
    {
     "data": {
      "text/html": [
       "<pre style=\"color:slategray;max-height:100px;overflow:hidden\" \n",
       "onclick=\"\n",
       "if (this.style.maxHeight === 'none') \n",
       "    this.style.maxHeight = '100px';\n",
       "else\n",
       "    this.style.maxHeight = 'none'; \n",
       "\">- : unit = ()\n",
       "</pre>"
      ]
     },
     "execution_count": 11,
     "metadata": {},
     "output_type": "execute_result"
    }
   ],
   "source": [
    "let esperance6 n r =\n",
    "    let rec loop k esp =\n",
    "        if k<n \n",
    "        then loop (k+1) (esp+.(float_of_int k)*.(simul6 n k r)/.100.)\n",
    "        else esp in\n",
    "    loop 1 0.;;\n",
    "print_float(esperance6 10 10000) (*3.1*)"
   ]
  },
  {
   "cell_type": "code",
   "execution_count": null,
   "metadata": {
    "collapsed": true,
    "deletable": true,
    "editable": true
   },
   "outputs": [],
   "source": []
  }
 ],
 "metadata": {
  "kernelspec": {
   "display_name": "OCaml",
   "language": "ocaml",
   "name": "iocaml"
  },
  "language_info": {
   "name": "ocaml",
   "version": "4.1.0"
  }
 },
 "nbformat": 4,
 "nbformat_minor": 2
}
