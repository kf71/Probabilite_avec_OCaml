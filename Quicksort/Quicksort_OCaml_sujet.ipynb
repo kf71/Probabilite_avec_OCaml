{
 "cells": [
  {
   "cell_type": "markdown",
   "metadata": {
    "deletable": true,
    "editable": true
   },
   "source": [
    "<h1> Randomisation du quicksort </h1>\n",
    "\n",
    "<h2> Présentation </h2>\n",
    "\n",
    "\n",
    "L'algorithme de tri rapide (ou quicksort) est un algorithme de tri inventé par C.A.R. Hoare en 1960. Son principe est le suivant. <br>\n",
    "Dans une liste de taille $n$, on choisit un élément $p$ comme pivot. <br>\n",
    "On partitionne la liste en deux parties: les éléments plus petits que $p$ et les éléments plus grands que $p$.<br>\n",
    "\n",
    "Dans le cas idéal, la partition divise la liste initiale en deux listes de taille $n/2$.<br>\n",
    "\n",
    "En réitérant, on obtient des sous-listes de longueurs $n/4$, puis $n/8$, puis $n/16$.<br>\n",
    "\n",
    "Au bout de $k$ itérations, on obtient des listes de longueurs $n/2^k$. <br> <br>\n",
    "Lorsque les listes ne contiennent plus qu'un seul élément ($\\frac n{2^k}=1$ $\\Rightarrow$ $k=\\frac{\\ln n}{\\ln 2}=\\ln_2(n)$), le tri est fini.<br><br>\n",
    "On a donc $k=\\ln_2(n)$ itérations où, à chaque fois, il faut comparer tous les éléments à leurs pivots respectifs, soit $n$ comparaisons. <br><br>\n",
    "Dans le meilleur des cas, il faut donc $n.\\ln_2(n)$ comparaisons. <br><br>\n",
    "C'est la limite théorique minimale pour les algorithmes généraux de tri par comparaisons.\n",
    "\n",
    "Sur le principe, le code est le suivant:\n"
   ]
  },
  {
   "cell_type": "code",
   "execution_count": 14,
   "metadata": {
    "collapsed": false,
    "deletable": true,
    "editable": true
   },
   "outputs": [
    {
     "data": {
      "text/html": [
       "<pre style=\"color:slategray;max-height:100px;overflow:hidden\" \n",
       "onclick=\"\n",
       "if (this.style.maxHeight === 'none') \n",
       "    this.style.maxHeight = '100px';\n",
       "else\n",
       "    this.style.maxHeight = 'none'; \n",
       "\">val tri : 'a list -&gt; 'a list = &lt;fun&gt;\n",
       "</pre>"
      ]
     },
     "execution_count": 14,
     "metadata": {},
     "output_type": "execute_result"
    }
   ],
   "source": [
    "let rec tri liste =\n",
    "    match liste with\n",
    "    | [] -> []\n",
    "    | hd::tl -> let petits,grands = List.partition (fun x-> x<hd) tl in\n",
    "                (tri petits)@(hd::tri grands);;"
   ]
  },
  {
   "cell_type": "code",
   "execution_count": 5,
   "metadata": {
    "collapsed": false,
    "deletable": true,
    "editable": true
   },
   "outputs": [
    {
     "data": {
      "text/html": [
       "<pre style=\"color:slategray;max-height:100px;overflow:hidden\" \n",
       "onclick=\"\n",
       "if (this.style.maxHeight === 'none') \n",
       "    this.style.maxHeight = '100px';\n",
       "else\n",
       "    this.style.maxHeight = 'none'; \n",
       "\">- : int list = [1; 2; 3; 6]\n",
       "</pre>"
      ]
     },
     "execution_count": 5,
     "metadata": {},
     "output_type": "execute_result"
    }
   ],
   "source": [
    "tri [1;3;2;6];;"
   ]
  },
  {
   "cell_type": "markdown",
   "metadata": {
    "deletable": true,
    "editable": true
   },
   "source": [
    "Malheureusement, très souvent, on est amené à trier des listes qui sont déjà quasiment triées. <br>\n",
    "La partition divise la liste initiale en deux listes: l'une de taille $n-1$ et l'autre de taille 1. <br> Il faut donc $n$ itérations pour que toutes les listes soient de taille 1. &Agrave; chaque fois, il faut effectuer $n$ comparaisons. <br> Dans le pire des cas, il faut donc $n^2$ comparaisons.<br>  C'est équivalent aux moins bons algorithmes: tri à bulle, tri par insertion, tri par sélection.\n",
    "\n",
    "Une astuce consiste à prendre le pivot $p$ au hasard dans la liste. <br> \n",
    "Grossièrement, si on choisit $p$ au hasard, on va avoir statiquement toutes les partitions de $(n-1,1)$ à $(1,n-1)$.<br>  En moyenne, on aura des partitions de $(n/2,n/2)$.\n",
    "\n",
    "Conclusion: même si la liste est déjà triée, la complexité reste de $n.\\ln_2(n)$.\n"
   ]
  },
  {
   "cell_type": "markdown",
   "metadata": {
    "deletable": true,
    "editable": true
   },
   "source": [
    "<h3> Question </h3>\n",
    "<ol>\n",
    " <li>Chronométrer cet algorithme quand on l'exécute sur une liste triée.\n",
    "</ol>"
   ]
  },
  {
   "cell_type": "code",
   "execution_count": 13,
   "metadata": {
    "collapsed": false,
    "deletable": true,
    "editable": true
   },
   "outputs": [
    {
     "data": {
      "text/html": [
       "<pre style=\"color:slategray;max-height:100px;overflow:hidden\" \n",
       "onclick=\"\n",
       "if (this.style.maxHeight === 'none') \n",
       "    this.style.maxHeight = '100px';\n",
       "else\n",
       "    this.style.maxHeight = 'none'; \n",
       "\">val range : int -&gt; int -&gt; int list = &lt;fun&gt;\n",
       "</pre>"
      ]
     },
     "execution_count": 13,
     "metadata": {},
     "output_type": "execute_result"
    }
   ],
   "source": [
    "let range start stop =\n",
    "   let rec range i acc =\n",
    "   if i = stop then List.rev acc else range(i+1) (i::acc) in\n",
    "   range start [];;"
   ]
  },
  {
   "cell_type": "code",
   "execution_count": 20,
   "metadata": {
    "collapsed": false,
    "deletable": true,
    "editable": true
   },
   "outputs": [
    {
     "name": "stdout",
     "output_type": "stream",
     "text": [
      "92.74"
     ]
    },
    {
     "data": {
      "text/html": [
       "<pre style=\"color:slategray;max-height:100px;overflow:hidden\" \n",
       "onclick=\"\n",
       "if (this.style.maxHeight === 'none') \n",
       "    this.style.maxHeight = '100px';\n",
       "else\n",
       "    this.style.maxHeight = 'none'; \n",
       "\">- : unit = ()\n",
       "</pre>"
      ]
     },
     "execution_count": 20,
     "metadata": {},
     "output_type": "execute_result"
    }
   ],
   "source": [
    "let tic = Sys.time() in\n",
    "    \"à compléter\"\n",
    "let tac = Sys.time() in \n",
    "print_float(tac-.tic)"
   ]
  },
  {
   "cell_type": "markdown",
   "metadata": {
    "deletable": true,
    "editable": true
   },
   "source": [
    "<ol>\n",
    " <li value='2'>Randomiser l'algorithme en choisissant le pivot au hasard. \n",
    " <li>Re-chronométrer l'algorithme dans les mêmes conditions. \n",
    "</ol>"
   ]
  },
  {
   "cell_type": "code",
   "execution_count": null,
   "metadata": {
    "collapsed": true,
    "deletable": true,
    "editable": true
   },
   "outputs": [],
   "source": [
    "let shuffle d =\n",
    "    \"à compléter\"\n"
   ]
  },
  {
   "cell_type": "code",
   "execution_count": 21,
   "metadata": {
    "collapsed": false,
    "deletable": true,
    "editable": true
   },
   "outputs": [
    {
     "name": "stdout",
     "output_type": "stream",
     "text": [
      "2.8"
     ]
    },
    {
     "data": {
      "text/html": [
       "<pre style=\"color:slategray;max-height:100px;overflow:hidden\" \n",
       "onclick=\"\n",
       "if (this.style.maxHeight === 'none') \n",
       "    this.style.maxHeight = '100px';\n",
       "else\n",
       "    this.style.maxHeight = 'none'; \n",
       "\">- : unit = ()\n",
       "</pre>"
      ]
     },
     "execution_count": 21,
     "metadata": {},
     "output_type": "execute_result"
    }
   ],
   "source": [
    "let tic = Sys.time() in\n",
    "    \"à compléter\"\n",
    "let tac = Sys.time() in \n",
    "print_float(tac-.tic)"
   ]
  },
  {
   "cell_type": "code",
   "execution_count": null,
   "metadata": {
    "collapsed": true,
    "deletable": true,
    "editable": true
   },
   "outputs": [],
   "source": []
  }
 ],
 "metadata": {
  "kernelspec": {
   "display_name": "OCaml",
   "language": "ocaml",
   "name": "iocaml"
  },
  "language_info": {
   "name": "ocaml",
   "version": "4.1.0"
  }
 },
 "nbformat": 4,
 "nbformat_minor": 2
}
