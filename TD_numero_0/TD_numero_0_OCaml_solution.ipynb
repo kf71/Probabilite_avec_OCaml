{
 "cells": [
  {
   "cell_type": "markdown",
   "metadata": {
    "deletable": true,
    "editable": true
   },
   "source": [
    "<h1> TD n°0</h1>"
   ]
  },
  {
   "cell_type": "markdown",
   "metadata": {
    "deletable": true,
    "editable": true
   },
   "source": [
    "<h2> Exercice :</h2>\n",
    "<h3>Tirages pile ou face :</h3>\n",
    "<ul>\n",
    "<li> En utilisant la fonction random.randint, effectuer $N$ tirages successifs (on considèrera - par exemple - que 0 correspond à \"face\" et 1 correspond à \"pile\"). On stocke dans une liste le nombre de fois où l'on fait \"pile\" (exactement) 1 fois de suite, deux fois de suite, trois fois de suite</li>\n",
    "<li>Représenter en fonction de $n$, la probabilité de faire \"pile\" $n$ fois de suite.</li>\n",
    "<li>Représenter sue le même graphique le résultat théorique. Comparer.</li>\n",
    "</ul>"
   ]
  },
  {
   "cell_type": "markdown",
   "metadata": {
    "deletable": true,
    "editable": true
   },
   "source": [
    "<h2>Code :</h2>\n",
    "<h3>Tirages pile ou face :</h3>"
   ]
  },
  {
   "cell_type": "code",
   "execution_count": 1,
   "metadata": {
    "collapsed": false,
    "deletable": true,
    "editable": true
   },
   "outputs": [
    {
     "name": "stdout",
     "output_type": "stream",
     "text": [
      "- : unit = ()\n",
      "Findlib has been successfully loaded. Additional directives:\n",
      "  #require \"package\";;      to load a package\n",
      "  #list;;                   to list the available packages\n",
      "  #camlp4o;;                to load camlp4 (standard syntax)\n",
      "  #camlp4r;;                to load camlp4 (revised syntax)\n",
      "  #predicates \"p,q,...\";;   to set these predicates\n",
      "  Topfind.reset();;         to force that packages will be reloaded\n",
      "  #thread;;                 to enable threads\n",
      "\n",
      "- : unit = ()\n"
     ]
    },
    {
     "name": "stderr",
     "output_type": "stream",
     "text": [
      "/usr/lib/ocaml/plplot: added to search path\n",
      "/usr/lib/ocaml/plplot/plplot.cma: loaded\n"
     ]
    },
    {
     "data": {
      "text/html": [
       "<pre style=\"color:slategray;max-height:100px;overflow:hidden\" \n",
       "onclick=\"\n",
       "if (this.style.maxHeight === 'none') \n",
       "    this.style.maxHeight = '100px';\n",
       "else\n",
       "    this.style.maxHeight = 'none'; \n",
       "\">- : unit -&gt; unit = &lt;fun&gt;\n",
       "</pre>"
      ]
     },
     "execution_count": 1,
     "metadata": {},
     "output_type": "execute_result"
    },
    {
     "data": {
      "text/html": [
       "<pre style=\"color:slategray;max-height:100px;overflow:hidden\" \n",
       "onclick=\"\n",
       "if (this.style.maxHeight === 'none') \n",
       "    this.style.maxHeight = '100px';\n",
       "else\n",
       "    this.style.maxHeight = 'none'; \n",
       "\">module P = Plplot.Plot\n",
       "</pre>"
      ]
     },
     "execution_count": 1,
     "metadata": {},
     "output_type": "execute_result"
    },
    {
     "data": {
      "text/html": [
       "<pre style=\"color:slategray;max-height:100px;overflow:hidden\" \n",
       "onclick=\"\n",
       "if (this.style.maxHeight === 'none') \n",
       "    this.style.maxHeight = '100px';\n",
       "else\n",
       "    this.style.maxHeight = 'none'; \n",
       "\">val couleurs_list : int list list =\n",
       "  [[0; 255; 255; 255]; [1; 0; 0; 0]; [2; 0; 0; 255]; [3; 255; 0; 0];\n",
       "   [4; 165; 42; 42]; [5; 0; 0; 0]; [6; 0; 0; 0]; [7; 0; 0; 0]; [8; 0; 0; 0];\n",
       "   [9; 0; 0; 0]; [10; 200; 200; 200]; [11; 0; 255; 255]; [12; 0; 255; 0];\n",
       "   [13; 255; 255; 0]; [14; 255; 0; 255]; [15; 160; 0; 213]]\n",
       "</pre>"
      ]
     },
     "execution_count": 1,
     "metadata": {},
     "output_type": "execute_result"
    },
    {
     "data": {
      "text/html": [
       "<pre style=\"color:slategray;max-height:100px;overflow:hidden\" \n",
       "onclick=\"\n",
       "if (this.style.maxHeight === 'none') \n",
       "    this.style.maxHeight = '100px';\n",
       "else\n",
       "    this.style.maxHeight = 'none'; \n",
       "\">val loop : int list list -&gt; unit = &lt;fun&gt;\n",
       "</pre>"
      ]
     },
     "execution_count": 1,
     "metadata": {},
     "output_type": "execute_result"
    },
    {
     "data": {
      "text/html": [
       "<pre style=\"color:slategray;max-height:100px;overflow:hidden\" \n",
       "onclick=\"\n",
       "if (this.style.maxHeight === 'none') \n",
       "    this.style.maxHeight = '100px';\n",
       "else\n",
       "    this.style.maxHeight = 'none'; \n",
       "\">val couleurs : unit -&gt; unit = &lt;fun&gt;\n",
       "</pre>"
      ]
     },
     "execution_count": 1,
     "metadata": {},
     "output_type": "execute_result"
    },
    {
     "data": {
      "text/html": [
       "<pre style=\"color:slategray;max-height:100px;overflow:hidden\" \n",
       "onclick=\"\n",
       "if (this.style.maxHeight === 'none') \n",
       "    this.style.maxHeight = '100px';\n",
       "else\n",
       "    this.style.maxHeight = 'none'; \n",
       "\">val initialisation : string -&gt; float -&gt; float -&gt; float -&gt; float -&gt; P.stream_t =\n",
       "  &lt;fun&gt;\n",
       "</pre>"
      ]
     },
     "execution_count": 1,
     "metadata": {},
     "output_type": "execute_result"
    },
    {
     "data": {
      "text/html": [
       "<pre style=\"color:slategray;max-height:100px;overflow:hidden\" \n",
       "onclick=\"\n",
       "if (this.style.maxHeight === 'none') \n",
       "    this.style.maxHeight = '100px';\n",
       "else\n",
       "    this.style.maxHeight = 'none'; \n",
       "\">val xlabel : string -&gt; P.plot_t = &lt;fun&gt;\n",
       "</pre>"
      ]
     },
     "execution_count": 1,
     "metadata": {},
     "output_type": "execute_result"
    },
    {
     "data": {
      "text/html": [
       "<pre style=\"color:slategray;max-height:100px;overflow:hidden\" \n",
       "onclick=\"\n",
       "if (this.style.maxHeight === 'none') \n",
       "    this.style.maxHeight = '100px';\n",
       "else\n",
       "    this.style.maxHeight = 'none'; \n",
       "\">val ylabel : string -&gt; P.plot_t = &lt;fun&gt;\n",
       "</pre>"
      ]
     },
     "execution_count": 1,
     "metadata": {},
     "output_type": "execute_result"
    },
    {
     "data": {
      "text/html": [
       "<pre style=\"color:slategray;max-height:100px;overflow:hidden\" \n",
       "onclick=\"\n",
       "if (this.style.maxHeight === 'none') \n",
       "    this.style.maxHeight = '100px';\n",
       "else\n",
       "    this.style.maxHeight = 'none'; \n",
       "\">val label : string -&gt; string -&gt; string -&gt; P.plot_t = &lt;fun&gt;\n",
       "</pre>"
      ]
     },
     "execution_count": 1,
     "metadata": {},
     "output_type": "execute_result"
    }
   ],
   "source": [
    "open Random;;\n",
    "Random.self_init;;\n",
    "#use \"topfind\";;\n",
    "#require \"plplot\";;\n",
    "open Plplot;;\n",
    "module P = Plot;;\n",
    "let couleurs_list = [[ 0;255;255;255]; (*`white*)\n",
    "                     [ 1;  0;  0;  0]; (*`black*)\n",
    "                     [ 2;  0;  0;255]; (*`blue*)\n",
    "                     [ 3;255;  0;  0]; (*`red*)\n",
    "                     [ 4;165; 42; 42]; (*`brown*)\n",
    "                     [ 5;  0;  0;  0]; [ 6;  0;  0;  0]; [ 7;  0;  0;  0]; [ 8;  0;  0;  0]; [ 9;  0;  0;  0]; \n",
    "                     [10;200;200;200]; (*`gray*)\n",
    "                     [11;  0;255;255]; (*`light_blue*)\n",
    "                     [12;  0;255;  0]; (*`green*)\n",
    "                     [13;255;255;  0]; (*`yellow*)\n",
    "                     [14;255;  0;255]; (*`pink*)\n",
    "                     [15;160;  0;213]; (*`purple*) ]\n",
    "let rec loop couleurs_list = match couleurs_list with\n",
    "    | [n;r;g;b]::tl -> plscol0 n r g b; loop tl\n",
    "    | _ -> ();;\n",
    "let couleurs = (fun () -> plscolbg 255 255 255; loop couleurs_list)\n",
    "let initialisation filename xmin xmax ymin ymax = \n",
    "        P.init (xmin, ymin) (xmax, ymax) `greedy (`svg `core) ~filename:(filename^\".svg\") ~pre:couleurs\n",
    "let xlabel texte = P.text_outside `black (`bottom 0.5) 3. texte\n",
    "let ylabel texte = P.text_outside `black (`left 0.5) 5. texte \n",
    "let label texte_x texte_y titre = P.label texte_x texte_y titre"
   ]
  },
  {
   "cell_type": "code",
   "execution_count": 2,
   "metadata": {
    "collapsed": false,
    "deletable": true,
    "editable": true
   },
   "outputs": [
    {
     "data": {
      "text/html": [
       "<pre style=\"color:slategray;max-height:100px;overflow:hidden\" \n",
       "onclick=\"\n",
       "if (this.style.maxHeight === 'none') \n",
       "    this.style.maxHeight = '100px';\n",
       "else\n",
       "    this.style.maxHeight = 'none'; \n",
       "\">val range : int -&gt; int -&gt; int list = &lt;fun&gt;\n",
       "</pre>"
      ]
     },
     "execution_count": 2,
     "metadata": {},
     "output_type": "execute_result"
    }
   ],
   "source": [
    "let range debut fin =\n",
    "   let rec loop i acc =\n",
    "       if i=fin then List.rev acc else\n",
    "       loop (i+1) (i::acc) in\n",
    "    loop debut [];;"
   ]
  },
  {
   "cell_type": "code",
   "execution_count": 3,
   "metadata": {
    "collapsed": false,
    "deletable": true,
    "editable": true
   },
   "outputs": [
    {
     "data": {
      "text/html": [
       "<pre style=\"color:slategray;max-height:100px;overflow:hidden\" \n",
       "onclick=\"\n",
       "if (this.style.maxHeight === 'none') \n",
       "    this.style.maxHeight = '100px';\n",
       "else\n",
       "    this.style.maxHeight = 'none'; \n",
       "\">val list_count : 'a list -&gt; 'a -&gt; int = &lt;fun&gt;\n",
       "</pre>"
      ]
     },
     "execution_count": 3,
     "metadata": {},
     "output_type": "execute_result"
    }
   ],
   "source": [
    "let list_count liste motif =\n",
    "    let rec loop liste count =\n",
    "       match liste with\n",
    "       |[] -> count\n",
    "       | hd::tl -> if hd=motif then loop tl (count+1) else loop tl count in\n",
    "    loop liste 0;;"
   ]
  },
  {
   "cell_type": "code",
   "execution_count": 4,
   "metadata": {
    "collapsed": false,
    "deletable": true,
    "editable": true
   },
   "outputs": [
    {
     "data": {
      "text/html": [
       "<pre style=\"color:slategray;max-height:100px;overflow:hidden\" \n",
       "onclick=\"\n",
       "if (this.style.maxHeight === 'none') \n",
       "    this.style.maxHeight = '100px';\n",
       "else\n",
       "    this.style.maxHeight = 'none'; \n",
       "\">val tirage : int -&gt; int list = &lt;fun&gt;\n",
       "</pre>"
      ]
     },
     "execution_count": 4,
     "metadata": {},
     "output_type": "execute_result"
    }
   ],
   "source": [
    "let tirage n = \n",
    "    let rec loop i count liste =\n",
    "        if i<n then begin\n",
    "            if Random.int 2 = 1 then loop (i+1) (count+1) liste\n",
    "            else loop (i+1) 0 (count::liste)\n",
    "            end\n",
    "        else List.rev liste\n",
    "    in loop 0 0 [];;"
   ]
  },
  {
   "cell_type": "code",
   "execution_count": 5,
   "metadata": {
    "collapsed": false,
    "deletable": true,
    "editable": true
   },
   "outputs": [
    {
     "data": {
      "text/html": [
       "<pre style=\"color:slategray;max-height:100px;overflow:hidden\" \n",
       "onclick=\"\n",
       "if (this.style.maxHeight === 'none') \n",
       "    this.style.maxHeight = '100px';\n",
       "else\n",
       "    this.style.maxHeight = 'none'; \n",
       "\">- : unit = ()\n",
       "</pre>"
      ]
     },
     "execution_count": 5,
     "metadata": {},
     "output_type": "execute_result"
    }
   ],
   "source": [
    "let n_tot = 500 in\n",
    "let liste= tirage n_tot in\n",
    "let liste_n= range 1 10 in\n",
    "let compte n = float_of_int (list_count liste n)/.(float_of_int n_tot) in\n",
    "let liste_count_exp = List.map compte liste_n in\n",
    "let theorie n = 0.5 ** (float_of_int(n+2)) in \n",
    "(* +2 car la séquence commence et finit par \"face\" *)\n",
    "let liste_count_th= List.map theorie liste_n in\n",
    "\n",
    "    let xs = Array.of_list (List.map float_of_int liste_n) in\n",
    "    let ys = Array.of_list liste_count_exp in\n",
    "    let ys'= Array.of_list liste_count_th in\n",
    "    let p = initialisation \"graph\" 1. 9. 0.0 0.15 in\n",
    "    P.plot ~stream:p [P.points ~symbol:\"+\" `green xs ys; \n",
    "                      P.lines `blue xs ys';\n",
    "                      xlabel \"n\"; ylabel \"Proba (tirage 'pile' n fois de suite)\";\n",
    "                      P.legend [[P.symbol_legend \"simulation\" `green \"+\"];\n",
    "                                [P.line_legend \"théorie\" `blue]]];\n",
    "    P.finish ~stream:p ();;"
   ]
  },
  {
   "cell_type": "markdown",
   "metadata": {
    "deletable": true,
    "editable": true
   },
   "source": [
    "<img src=\"./graph.svg\" width=750/>"
   ]
  },
  {
   "cell_type": "markdown",
   "metadata": {
    "collapsed": true,
    "deletable": true,
    "editable": true
   },
   "source": [
    "<h2> Exercice :</h2>\n",
    "<h3>Tirage de boules sans remise :</h3>\n",
    "\n",
    "On dispose de trois urnes, la première contenant 7 boules blanches et 4 noires, la deuxième 5 blanches et 2 noires, la troisième\n",
    "6 blanches et 3 noires.\n",
    "On tire une boule dans chaque urne et on note le nombre de boules blanches obtenues.\n",
    "<ul><li>Effectuer une simulation numérique pour calculer la probabilité d'obtenir 0, 1, 2 ou 3 boules blanches.</li>\n",
    "<li>Comparer avec la théorie.</li>\n",
    "</ul>"
   ]
  },
  {
   "cell_type": "markdown",
   "metadata": {
    "deletable": true,
    "editable": true
   },
   "source": [
    "<h2>Code :</h2>\n",
    "<h3>Tirage de boules sans remise :</h3>"
   ]
  },
  {
   "cell_type": "code",
   "execution_count": 16,
   "metadata": {
    "collapsed": false,
    "deletable": true,
    "editable": true
   },
   "outputs": [
    {
     "data": {
      "text/html": [
       "<pre style=\"color:slategray;max-height:100px;overflow:hidden\" \n",
       "onclick=\"\n",
       "if (this.style.maxHeight === 'none') \n",
       "    this.style.maxHeight = '100px';\n",
       "else\n",
       "    this.style.maxHeight = 'none'; \n",
       "\">val tirage_boules_sans_remise : int -&gt; float array = &lt;fun&gt;\n",
       "</pre>"
      ]
     },
     "execution_count": 16,
     "metadata": {},
     "output_type": "execute_result"
    },
    {
     "data": {
      "text/html": [
       "<pre style=\"color:slategray;max-height:100px;overflow:hidden\" \n",
       "onclick=\"\n",
       "if (this.style.maxHeight === 'none') \n",
       "    this.style.maxHeight = '100px';\n",
       "else\n",
       "    this.style.maxHeight = 'none'; \n",
       "\">- : float array = [|0.0344; 0.2144; 0.4398; 0.3114|]\n",
       "</pre>"
      ]
     },
     "execution_count": 16,
     "metadata": {},
     "output_type": "execute_result"
    }
   ],
   "source": [
    "let tirage_boules_sans_remise n =\n",
    "    let counters=Array.make 4 0 in\n",
    "    let rec loop i =\n",
    "        if i<n then begin\n",
    "        let count = ref 0 in\n",
    "        if (Random.int 11) < 7 then incr count;\n",
    "        if (Random.int 7) < 5 then incr count;\n",
    "        if (Random.int 9) < 6 then incr count;\n",
    "        counters.(!count) <- counters.(!count) + 1;\n",
    "        loop (i+1);\n",
    "        end in\n",
    "    loop 0;\n",
    "    Array.map (fun c -> float_of_int c/.(float_of_int n)) counters;;\n",
    "   \n",
    "tirage_boules_sans_remise 5000;;"
   ]
  },
  {
   "cell_type": "code",
   "execution_count": 14,
   "metadata": {
    "collapsed": false,
    "deletable": true,
    "editable": true
   },
   "outputs": [
    {
     "name": "stdout",
     "output_type": "stream",
     "text": [
      "0.034632034632 0.21645021645 0.445887445887 0.30303030303 "
     ]
    },
    {
     "data": {
      "text/html": [
       "<pre style=\"color:slategray;max-height:100px;overflow:hidden\" \n",
       "onclick=\"\n",
       "if (this.style.maxHeight === 'none') \n",
       "    this.style.maxHeight = '100px';\n",
       "else\n",
       "    this.style.maxHeight = 'none'; \n",
       "\">val p0 : float = 0.034632034632034632\n",
       "</pre>"
      ]
     },
     "execution_count": 14,
     "metadata": {},
     "output_type": "execute_result"
    },
    {
     "data": {
      "text/html": [
       "<pre style=\"color:slategray;max-height:100px;overflow:hidden\" \n",
       "onclick=\"\n",
       "if (this.style.maxHeight === 'none') \n",
       "    this.style.maxHeight = '100px';\n",
       "else\n",
       "    this.style.maxHeight = 'none'; \n",
       "\">val p1 : float = 0.216450216450216448\n",
       "</pre>"
      ]
     },
     "execution_count": 14,
     "metadata": {},
     "output_type": "execute_result"
    },
    {
     "data": {
      "text/html": [
       "<pre style=\"color:slategray;max-height:100px;overflow:hidden\" \n",
       "onclick=\"\n",
       "if (this.style.maxHeight === 'none') \n",
       "    this.style.maxHeight = '100px';\n",
       "else\n",
       "    this.style.maxHeight = 'none'; \n",
       "\">val p2 : float = 0.445887445887445888\n",
       "</pre>"
      ]
     },
     "execution_count": 14,
     "metadata": {},
     "output_type": "execute_result"
    },
    {
     "data": {
      "text/html": [
       "<pre style=\"color:slategray;max-height:100px;overflow:hidden\" \n",
       "onclick=\"\n",
       "if (this.style.maxHeight === 'none') \n",
       "    this.style.maxHeight = '100px';\n",
       "else\n",
       "    this.style.maxHeight = 'none'; \n",
       "\">val p3 : float = 0.303030303030303\n",
       "</pre>"
      ]
     },
     "execution_count": 14,
     "metadata": {},
     "output_type": "execute_result"
    },
    {
     "data": {
      "text/html": [
       "<pre style=\"color:slategray;max-height:100px;overflow:hidden\" \n",
       "onclick=\"\n",
       "if (this.style.maxHeight === 'none') \n",
       "    this.style.maxHeight = '100px';\n",
       "else\n",
       "    this.style.maxHeight = 'none'; \n",
       "\">- : unit list = [(); (); (); ()]\n",
       "</pre>"
      ]
     },
     "execution_count": 14,
     "metadata": {},
     "output_type": "execute_result"
    }
   ],
   "source": [
    "let p0=4./.11.*.2./.7.*.3./.9.;; (*que des noires*)\n",
    "let p1=7./.11.*.2./.7.*.3./.9.+.4./.11.*.5./.7.*.3./.9.+.4./.11.*.2./.7.*.6./.9.;; (*1blanche+2noires*)\n",
    "let p2=7./.11.*.5./.7.*.3./.9.+.7./.11.*.2./.7.*.6./.9.+.4./.11.*.5./.7.*.6./.9.;; (*2blanches+1noire*)\n",
    "let p3=7./.11.*.5./.7.*.6./.9.;; (*que des blanches*)\n",
    "List.map (fun x-> print_float x;print_string\" \") [p0;p1;p2;p3]"
   ]
  },
  {
   "cell_type": "markdown",
   "metadata": {
    "deletable": true,
    "editable": true
   },
   "source": [
    "<h2> Exercice :</h2>\n",
    "<h3>Tirage de boules avec remise :</h3>\n",
    "<ul>\n",
    "<li>Simuler le tirage successif de quatre boules avec remise dans une urne contenant 7 boules blanches et 3 boules noires.<ul>\n",
    "<li>Compter le nombre de tirages contenant:</li>\n",
    "<li>exactement deux boules blanches ;</li>\n",
    "<li>au moins une boule blanche.</li></ul></li>\n",
    "<li>Comparer avec la théorie</li>\n",
    "</ul>"
   ]
  },
  {
   "cell_type": "markdown",
   "metadata": {
    "deletable": true,
    "editable": true
   },
   "source": [
    "<h2>Code :</h2>\n",
    "<h3>Tirage de boules avec remise</h3>"
   ]
  },
  {
   "cell_type": "code",
   "execution_count": null,
   "metadata": {
    "collapsed": true,
    "deletable": true,
    "editable": true
   },
   "outputs": [],
   "source": [
    "let rec fact n = if n= 0 then 1 else n * fact(n-1);;\n",
    "\n",
    "let tirage_boules_avec_remise n nbre_blanche_impose =\n",
    "    let rec loop num_simul counter =\n",
    "        if num_simul < n then begin\n",
    "           let nbre_blanche = ref 0 in\n",
    "           for tirage = 0 to 3 do\n",
    "              if Random.int 10 < 7 then incr nbre_blanche;\n",
    "           done;\n",
    "           if !nbre_blanche = nbre_blanche_impose \n",
    "           then loop (num_simul+1) (counter+1)\n",
    "           else loop (num_simul+1) counter\n",
    "        end else float_of_int counter /. (float_of_int n) in\n",
    "    loop 0 0;;"
   ]
  },
  {
   "cell_type": "code",
   "execution_count": 29,
   "metadata": {
    "collapsed": false,
    "deletable": true,
    "editable": true
   },
   "outputs": [
    {
     "data": {
      "text/html": [
       "<pre style=\"color:slategray;max-height:100px;overflow:hidden\" \n",
       "onclick=\"\n",
       "if (this.style.maxHeight === 'none') \n",
       "    this.style.maxHeight = '100px';\n",
       "else\n",
       "    this.style.maxHeight = 'none'; \n",
       "\">- : float = 0.262\n",
       "</pre>"
      ]
     },
     "execution_count": 29,
     "metadata": {},
     "output_type": "execute_result"
    },
    {
     "data": {
      "text/html": [
       "<pre style=\"color:slategray;max-height:100px;overflow:hidden\" \n",
       "onclick=\"\n",
       "if (this.style.maxHeight === 'none') \n",
       "    this.style.maxHeight = '100px';\n",
       "else\n",
       "    this.style.maxHeight = 'none'; \n",
       "\">- : float = 0.2646\n",
       "</pre>"
      ]
     },
     "execution_count": 29,
     "metadata": {},
     "output_type": "execute_result"
    }
   ],
   "source": [
    "tirage_boules_avec_remise 1000 2;;\n",
    "\n",
    "let pNNBB=3./.10.*.3./.10.*.7./.10.*.7./.10. in\n",
    "float_of_int((fact 4)/((fact 2)*(fact 2)))*.pNNBB  (*proba 2 blanches*)"
   ]
  },
  {
   "cell_type": "code",
   "execution_count": 33,
   "metadata": {
    "collapsed": false,
    "deletable": true,
    "editable": true
   },
   "outputs": [
    {
     "data": {
      "text/html": [
       "<pre style=\"color:slategray;max-height:100px;overflow:hidden\" \n",
       "onclick=\"\n",
       "if (this.style.maxHeight === 'none') \n",
       "    this.style.maxHeight = '100px';\n",
       "else\n",
       "    this.style.maxHeight = 'none'; \n",
       "\">- : float = 0.992\n",
       "</pre>"
      ]
     },
     "execution_count": 33,
     "metadata": {},
     "output_type": "execute_result"
    },
    {
     "data": {
      "text/html": [
       "<pre style=\"color:slategray;max-height:100px;overflow:hidden\" \n",
       "onclick=\"\n",
       "if (this.style.maxHeight === 'none') \n",
       "    this.style.maxHeight = '100px';\n",
       "else\n",
       "    this.style.maxHeight = 'none'; \n",
       "\">- : float = 0.9919\n",
       "</pre>"
      ]
     },
     "execution_count": 33,
     "metadata": {},
     "output_type": "execute_result"
    }
   ],
   "source": [
    "1.-.tirage_boules_avec_remise 1000 0;;\n",
    "let pNNNN=(3./.10.)**4. in\n",
    "1.-.pNNNN (*proba au moins 1 blanche*)"
   ]
  },
  {
   "cell_type": "markdown",
   "metadata": {
    "collapsed": true,
    "deletable": true,
    "editable": true
   },
   "source": [
    "<h2> Exercice :</h2>\n",
    "<h3>Problème du Duc de Toscane :</h3>\n",
    "\n",
    "Cosme II de Médicis (Florence 1590-1621), Duc de Toscane, fut le protecteur de l’illustre Gallilée (né à Pise le 15 février 1564\n",
    "et mort à Florence le 8 janvier 1642) son ancien précepteur. Profitant d’un moment de répit du savant entre l’écriture d’un\n",
    "théorème sur la chute des corps et la création de la lunette astronomique, le Grand Duc lui soumet le problème suivant : il\n",
    "a observé qu’en lançant trois dés cubiques et en faisant la somme des numéros des faces, on obtient plus souvent 10 que 9,\n",
    "alors qu’il y a autant de façons d’obtenir 9 que 10, à savoir six.\n",
    "\n",
    "Après quelques réflexions, Galilée rédigea un petit mémoire sur les jeux de hasard en 1620 expliquant le phénomène.\n",
    "<ul>\n",
    "<li>Quelles sont les six façons d'obtenir 9 avec trois dés ?</li>\n",
    "<li>Quelles sont les six façons d'obtenir 10 avec trois dés ?</li>\n",
    "<li>Simuler le lancer de 3 dés à six faces, trouver la probabilité d'avoir 9 et la probabilité d'avoir 10.</li>\n",
    "<li>Comparer à la théorie. On pourra s'aider du graphe suivant qui décrit les valeurs des trois dés.</li>\n",
    "</ul>\n",
    "\n",
    "<img src=\"./probabilites_fig1.svg\" />"
   ]
  },
  {
   "cell_type": "code",
   "execution_count": 9,
   "metadata": {
    "collapsed": false
   },
   "outputs": [
    {
     "name": "stdout",
     "output_type": "stream",
     "text": [
      "proba d'obtenir 3=0.008\n",
      "proba d'obtenir 4=0.011\n",
      "proba d'obtenir 5=0.019\n",
      "proba d'obtenir 6=0.043\n",
      "proba d'obtenir 7=0.076\n",
      "proba d'obtenir 8=0.09\n",
      "proba d'obtenir 9=0.123\n",
      "proba d'obtenir 10=0.119\n",
      "proba d'obtenir 11=0.116\n",
      "proba d'obtenir 12=0.117\n",
      "proba d'obtenir 13=0.105\n",
      "proba d'obtenir 14=0.068\n",
      "proba d'obtenir 15=0.066\n",
      "proba d'obtenir 16=0.019\n",
      "proba d'obtenir 17=0.013\n",
      "proba d'obtenir 18=0.007\n"
     ]
    },
    {
     "data": {
      "text/html": [
       "<pre style=\"color:slategray;max-height:100px;overflow:hidden\" \n",
       "onclick=\"\n",
       "if (this.style.maxHeight === 'none') \n",
       "    this.style.maxHeight = '100px';\n",
       "else\n",
       "    this.style.maxHeight = 'none'; \n",
       "\">val tirage_trois_des : int -&gt; float array = &lt;fun&gt;\n",
       "</pre>"
      ]
     },
     "execution_count": 9,
     "metadata": {},
     "output_type": "execute_result"
    },
    {
     "data": {
      "text/html": [
       "<pre style=\"color:slategray;max-height:100px;overflow:hidden\" \n",
       "onclick=\"\n",
       "if (this.style.maxHeight === 'none') \n",
       "    this.style.maxHeight = '100px';\n",
       "else\n",
       "    this.style.maxHeight = 'none'; \n",
       "\">- : unit = ()\n",
       "</pre>"
      ]
     },
     "execution_count": 9,
     "metadata": {},
     "output_type": "execute_result"
    }
   ],
   "source": [
    "let tirage_trois_des n =\n",
    "    let counters = Array.make 19 0 in\n",
    "    let rec loop1 num1 =\n",
    "        if num1<n \n",
    "        then begin\n",
    "            let rec loop2 num2 count =\n",
    "                if num2<3\n",
    "                then loop2 (num2+1) (count+1+Random.int 6)\n",
    "                else count in\n",
    "            let count = loop2 0 0 in\n",
    "            counters.(count)<-counters.(count)+1;\n",
    "            loop1 (num1+1);\n",
    "        end in\n",
    "    loop1 0;\n",
    "    Array.init 19 (fun i -> (float_of_int counters.(i))/.(float_of_int n));;\n",
    "\n",
    "let res = tirage_trois_des 1000 in\n",
    "for i = 3 to 18 do\n",
    "    print_string (\"proba d'obtenir \"^(string_of_int i)^\"=\"^(string_of_float res.(i))^\"\\n\");\n",
    "done;;"
   ]
  },
  {
   "cell_type": "markdown",
   "metadata": {},
   "source": [
    "<h2>Solution :</h2>\n",
    "<h3>Problème du Duc de Toscane :</h3>\n",
    "\n",
    "25 cas pour la somme de trois dés donnant 9"
   ]
  },
  {
   "cell_type": "markdown",
   "metadata": {},
   "source": [
    "<img src=\"./probabilites_fig2.svg\" />"
   ]
  },
  {
   "cell_type": "markdown",
   "metadata": {},
   "source": [
    "<table>\n",
    "<tr><td>1+2+6 </td><td>=</td><td> 1+3+5 </td><td>=</td><td> 1+4+4 </td><td>=</td><td> 2+2+5 </td><td>=</td><td> 2+3+4 </td><td>=</td><td> 3+3+3</td><td>=</td><td> 9</td></tr>\n",
    "<tr>\n",
    "<td>  6 cas </td><td></td><td> 6 cas </td><td></td><td>  3 cas  </td><td></td><td> 3 cas </td><td></td><td>  6 cas </td><td></td><td>  1 cas </td><td> =</td><td> 25 cas </td></tr> \n",
    "</table>\n",
    "Probabilité: $25/6^3$=11,5%\n",
    "\n",
    "\n",
    "27 cas pour la somme de trois dés donnant 10 "
   ]
  },
  {
   "cell_type": "markdown",
   "metadata": {},
   "source": [
    "<img src=\"./probabilites_fig3.svg\" />"
   ]
  },
  {
   "cell_type": "markdown",
   "metadata": {},
   "source": [
    "<table>\n",
    "<tr><td>1+3+6 </td><td>=</td><td> 1+4+5 </td><td>=</td><td> 2+2+6 </td><td>=</td><td> 2+3+5 </td><td>=</td><td> 2+4+4 </td><td>=</td><td> 3+3+4 </td><td>=</td><td> 10</tr>\n",
    "<tr><td>\n",
    "   6 cas </td><td></td><td>  6 cas </td><td></td><td>  3 cas </td><td></td><td>  6 cas </td><td></td><td>  3 cas </td><td></td><td> 3 cas </td><td>=</td><td> 27 cas</tr></table> \n",
    "Probabilité: $27/6^3$ = 12,5%"
   ]
  },
  {
   "cell_type": "code",
   "execution_count": null,
   "metadata": {
    "collapsed": true
   },
   "outputs": [],
   "source": []
  }
 ],
 "metadata": {
  "kernelspec": {
   "display_name": "OCaml",
   "language": "ocaml",
   "name": "iocaml"
  },
  "language_info": {
   "name": "ocaml",
   "version": "4.1.0"
  }
 },
 "nbformat": 4,
 "nbformat_minor": 2
}
