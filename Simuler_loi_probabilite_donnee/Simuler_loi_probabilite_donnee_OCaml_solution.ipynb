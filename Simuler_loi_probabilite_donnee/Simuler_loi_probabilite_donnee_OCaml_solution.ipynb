{
 "cells": [
  {
   "cell_type": "markdown",
   "metadata": {
    "deletable": true,
    "editable": true
   },
   "source": [
    "<h1>Simuler une loi de probabilité donnée</h1>\n",
    "\n",
    "Comment faire pour simuler un générateur aléatoire obéissant à une certaine loi de probabilité $P(x)$ ?\n",
    "\n",
    "<h2>Méthode 1: inversion de la fonction de répartition</h2>\n",
    "\n",
    "On se donne une loi de probabilité $P(x)$ pour $x\\in[-\\infty,+\\infty]$. \n",
    "\n",
    "On cherche la fonction de partition $F$ de la loi de probabilité $P$ définie par: $y=F(x)=\\int_{-\\infty}^x P(u).\\textrm{d}u$.\n",
    "\n",
    "<i>N.B. Si le support de la loi de probabilité est $[a,b]$, alors la fonction de partition est définie par: $y=F(x)=\\int_{a}^x P(u).\\textrm{d}u$.</i>\n",
    "\n",
    "On calcule $x=F^{-1}(y)$.\n",
    "\n",
    "Si $y$ suit la loi de probabilité uniforme (i.e. <tt>Random.float 1.</tt>), alors $x$ suit la loi de probabilité $P(x)$."
   ]
  },
  {
   "cell_type": "markdown",
   "metadata": {
    "deletable": true,
    "editable": true
   },
   "source": [
    "<h3>Exercice 1: loi exponentielle</h3>\n",
    "\n",
    "But: inverser la loi de probabilité exponentielle, à support dans $\\mathbb{R}^+$, de paramètre $\\lambda$: $P(x)=\\lambda.\\exp(-\\lambda.x)$\n",
    "\n",
    "<b>1.</b> On définit la fonction $P(u)=\\lambda.\\exp(-\\lambda.u)$.\n",
    "\n",
    "<b>2.</b> On calcule la fonction de partition $y=F(x)=\\int_{0}^xP(u).\\textrm{d}u=1-e^{-\\lambda.x}$\n",
    "\n",
    "<b>3.</b> On calcule $x=F^{-1}(y)=\\frac{-1}{\\lambda}.\\ln(1-y)$"
   ]
  },
  {
   "cell_type": "markdown",
   "metadata": {
    "deletable": true,
    "editable": true
   },
   "source": [
    "<b>4.</b>Tracer l'histogramme de la loi de probabilité $F^{-1}(y)$ où $y$ est donné par la loi uniforme sur [0,1]. On fera 1000 tirages.\n",
    "\n",
    "Comparer avec $P(x)$ pour différentes valeurs de $\\lambda$: 0.1, 0.5, 0.9"
   ]
  },
  {
   "cell_type": "code",
   "execution_count": 1,
   "metadata": {
    "collapsed": false,
    "deletable": true,
    "editable": true
   },
   "outputs": [
    {
     "name": "stdout",
     "output_type": "stream",
     "text": [
      "- : unit = ()\n",
      "Findlib has been successfully loaded. Additional directives:\n",
      "  #require \"package\";;      to load a package\n",
      "  #list;;                   to list the available packages\n",
      "  #camlp4o;;                to load camlp4 (standard syntax)\n",
      "  #camlp4r;;                to load camlp4 (revised syntax)\n",
      "  #predicates \"p,q,...\";;   to set these predicates\n",
      "  Topfind.reset();;         to force that packages will be reloaded\n",
      "  #thread;;                 to enable threads\n",
      "\n",
      "- : unit = ()\n"
     ]
    },
    {
     "name": "stderr",
     "output_type": "stream",
     "text": [
      "/usr/lib/ocaml/plplot: added to search path\n",
      "/usr/lib/ocaml/plplot/plplot.cma: loaded\n"
     ]
    },
    {
     "data": {
      "text/html": [
       "<pre style=\"color:slategray;max-height:100px;overflow:hidden\" \n",
       "onclick=\"\n",
       "if (this.style.maxHeight === 'none') \n",
       "    this.style.maxHeight = '100px';\n",
       "else\n",
       "    this.style.maxHeight = 'none'; \n",
       "\">- : unit -&gt; unit = &lt;fun&gt;\n",
       "</pre>"
      ]
     },
     "execution_count": 1,
     "metadata": {},
     "output_type": "execute_result"
    },
    {
     "data": {
      "text/html": [
       "<pre style=\"color:slategray;max-height:100px;overflow:hidden\" \n",
       "onclick=\"\n",
       "if (this.style.maxHeight === 'none') \n",
       "    this.style.maxHeight = '100px';\n",
       "else\n",
       "    this.style.maxHeight = 'none'; \n",
       "\">module P = Plplot.Plot\n",
       "</pre>"
      ]
     },
     "execution_count": 1,
     "metadata": {},
     "output_type": "execute_result"
    },
    {
     "data": {
      "text/html": [
       "<pre style=\"color:slategray;max-height:100px;overflow:hidden\" \n",
       "onclick=\"\n",
       "if (this.style.maxHeight === 'none') \n",
       "    this.style.maxHeight = '100px';\n",
       "else\n",
       "    this.style.maxHeight = 'none'; \n",
       "\">val couleurs_list : int list list =\n",
       "  [[0; 255; 255; 255]; [1; 0; 0; 0]; [2; 0; 0; 255]; [3; 255; 0; 0];\n",
       "   [4; 165; 42; 42]; [5; 0; 0; 0]; [6; 0; 0; 0]; [7; 0; 0; 0]; [8; 0; 0; 0];\n",
       "   [9; 0; 0; 0]; [10; 200; 200; 200]; [11; 0; 255; 255]; [12; 0; 255; 0];\n",
       "   [13; 255; 255; 0]; [14; 255; 0; 255]; [15; 160; 0; 213]]\n",
       "</pre>"
      ]
     },
     "execution_count": 1,
     "metadata": {},
     "output_type": "execute_result"
    },
    {
     "data": {
      "text/html": [
       "<pre style=\"color:slategray;max-height:100px;overflow:hidden\" \n",
       "onclick=\"\n",
       "if (this.style.maxHeight === 'none') \n",
       "    this.style.maxHeight = '100px';\n",
       "else\n",
       "    this.style.maxHeight = 'none'; \n",
       "\">val loop : int list list -&gt; unit = &lt;fun&gt;\n",
       "</pre>"
      ]
     },
     "execution_count": 1,
     "metadata": {},
     "output_type": "execute_result"
    },
    {
     "data": {
      "text/html": [
       "<pre style=\"color:slategray;max-height:100px;overflow:hidden\" \n",
       "onclick=\"\n",
       "if (this.style.maxHeight === 'none') \n",
       "    this.style.maxHeight = '100px';\n",
       "else\n",
       "    this.style.maxHeight = 'none'; \n",
       "\">val couleurs : unit -&gt; unit = &lt;fun&gt;\n",
       "</pre>"
      ]
     },
     "execution_count": 1,
     "metadata": {},
     "output_type": "execute_result"
    },
    {
     "data": {
      "text/html": [
       "<pre style=\"color:slategray;max-height:100px;overflow:hidden\" \n",
       "onclick=\"\n",
       "if (this.style.maxHeight === 'none') \n",
       "    this.style.maxHeight = '100px';\n",
       "else\n",
       "    this.style.maxHeight = 'none'; \n",
       "\">val initialisation : string -&gt; float -&gt; float -&gt; float -&gt; float -&gt; P.stream_t =\n",
       "  &lt;fun&gt;\n",
       "</pre>"
      ]
     },
     "execution_count": 1,
     "metadata": {},
     "output_type": "execute_result"
    },
    {
     "data": {
      "text/html": [
       "<pre style=\"color:slategray;max-height:100px;overflow:hidden\" \n",
       "onclick=\"\n",
       "if (this.style.maxHeight === 'none') \n",
       "    this.style.maxHeight = '100px';\n",
       "else\n",
       "    this.style.maxHeight = 'none'; \n",
       "\">val xlabel : string -&gt; P.plot_t = &lt;fun&gt;\n",
       "</pre>"
      ]
     },
     "execution_count": 1,
     "metadata": {},
     "output_type": "execute_result"
    },
    {
     "data": {
      "text/html": [
       "<pre style=\"color:slategray;max-height:100px;overflow:hidden\" \n",
       "onclick=\"\n",
       "if (this.style.maxHeight === 'none') \n",
       "    this.style.maxHeight = '100px';\n",
       "else\n",
       "    this.style.maxHeight = 'none'; \n",
       "\">val ylabel : string -&gt; P.plot_t = &lt;fun&gt;\n",
       "</pre>"
      ]
     },
     "execution_count": 1,
     "metadata": {},
     "output_type": "execute_result"
    },
    {
     "data": {
      "text/html": [
       "<pre style=\"color:slategray;max-height:100px;overflow:hidden\" \n",
       "onclick=\"\n",
       "if (this.style.maxHeight === 'none') \n",
       "    this.style.maxHeight = '100px';\n",
       "else\n",
       "    this.style.maxHeight = 'none'; \n",
       "\">val label : string -&gt; string -&gt; string -&gt; P.plot_t = &lt;fun&gt;\n",
       "</pre>"
      ]
     },
     "execution_count": 1,
     "metadata": {},
     "output_type": "execute_result"
    }
   ],
   "source": [
    "open Random;;\n",
    "Random.self_init;;\n",
    "#use \"topfind\";;\n",
    "#require \"plplot\";;\n",
    "open Plplot;;\n",
    "module P = Plot;;\n",
    "let couleurs_list = [[ 0;255;255;255]; (*`white*)\n",
    "                     [ 1;  0;  0;  0]; (*`black*)\n",
    "                     [ 2;  0;  0;255]; (*`blue*)\n",
    "                     [ 3;255;  0;  0]; (*`red*)\n",
    "                     [ 4;165; 42; 42]; (*`brown*)\n",
    "                     [ 5;  0;  0;  0]; [ 6;  0;  0;  0]; [ 7;  0;  0;  0]; [ 8;  0;  0;  0]; [ 9;  0;  0;  0]; \n",
    "                     [10;200;200;200]; (*`gray*)\n",
    "                     [11;  0;255;255]; (*`light_blue*)\n",
    "                     [12;  0;255;  0]; (*`green*)\n",
    "                     [13;255;255;  0]; (*`yellow*)\n",
    "                     [14;255;  0;255]; (*`pink*)\n",
    "                     [15;160;  0;213]; (*`purple*) ]\n",
    "let rec loop couleurs_list = match couleurs_list with\n",
    "    | [n;r;g;b]::tl -> plscol0 n r g b; loop tl\n",
    "    | _ -> ();;\n",
    "let couleurs = (fun () -> plscolbg 255 255 255; loop couleurs_list)\n",
    "let initialisation filename xmin xmax ymin ymax = \n",
    "        P.init (xmin, ymin) (xmax, ymax) `greedy (`svg `core) ~filename:(filename^\".svg\") ~pre:couleurs\n",
    "let xlabel texte = P.text_outside `black (`bottom 0.5) 3. texte\n",
    "let ylabel texte = P.text_outside `black (`left 0.5) 5. texte \n",
    "let label texte_x texte_y titre = P.label texte_x texte_y titre"
   ]
  },
  {
   "cell_type": "code",
   "execution_count": 2,
   "metadata": {
    "collapsed": false,
    "deletable": true,
    "editable": true
   },
   "outputs": [
    {
     "data": {
      "text/html": [
       "<pre style=\"color:slategray;max-height:100px;overflow:hidden\" \n",
       "onclick=\"\n",
       "if (this.style.maxHeight === 'none') \n",
       "    this.style.maxHeight = '100px';\n",
       "else\n",
       "    this.style.maxHeight = 'none'; \n",
       "\">val bar :\n",
       "  ?x_width:float -&gt;\n",
       "  ?x_offset:float -&gt; P.color_t -&gt; float array -&gt; float array -&gt; P.plot_t =\n",
       "  &lt;fun&gt;\n",
       "</pre>"
      ]
     },
     "execution_count": 2,
     "metadata": {},
     "output_type": "execute_result"
    }
   ],
   "source": [
    "let bar ?x_width ?x_offset color xs ys = \n",
    "    let x_width_ = match x_width with\n",
    "        |None -> 0.4\n",
    "        |Some x -> x in\n",
    "    let x_offset_ = match x_offset with\n",
    "        |None -> 0.\n",
    "        |Some x -> x in\n",
    "    \n",
    "    let x = Array.make (4*(Array.length xs)) 0. in\n",
    "    let y = Array.make (4*(Array.length xs)) 0. in\n",
    "    for i = 0 to Array.length xs - 1 do\n",
    "        x.(4*i)   <- x_offset_ +. xs.(i) -. x_width_;\n",
    "        x.(4*i+1) <- x_offset_ +. xs.(i) -. x_width_;\n",
    "        x.(4*i+2) <- x_offset_ +. xs.(i) +. x_width_;\n",
    "        x.(4*i+3) <- x_offset_ +. xs.(i) +. x_width_;\n",
    "        y.(4*i)   <- 0.;\n",
    "        y.(4*i+1) <- ys.(i);\n",
    "        y.(4*i+2) <- ys.(i);\n",
    "        y.(4*i+3) <- 0.;\n",
    "    done; P.polygon ~fill:true color x y;;"
   ]
  },
  {
   "cell_type": "code",
   "execution_count": 3,
   "metadata": {
    "collapsed": false,
    "deletable": true,
    "editable": true
   },
   "outputs": [
    {
     "data": {
      "text/html": [
       "<pre style=\"color:slategray;max-height:100px;overflow:hidden\" \n",
       "onclick=\"\n",
       "if (this.style.maxHeight === 'none') \n",
       "    this.style.maxHeight = '100px';\n",
       "else\n",
       "    this.style.maxHeight = 'none'; \n",
       "\">val histogramme :\n",
       "  ?normalized:bool -&gt; float array -&gt; float array -&gt; float array = &lt;fun&gt;\n",
       "</pre>"
      ]
     },
     "execution_count": 3,
     "metadata": {},
     "output_type": "execute_result"
    }
   ],
   "source": [
    "let histogramme ?normalized valeurs limites =\n",
    "    let normalized_ = match normalized with\n",
    "        |None | Some false -> false (*somme bins=1*)\n",
    "        |Some true -> true (*integrale bins d(limites) = 1 *) in\n",
    "    let nbre_val = Array.length valeurs in\n",
    "    let nbre_bin = Array.length limites - 1 in\n",
    "    let bins = Array.make nbre_bin 0 in\n",
    "    let rec loop num_val =\n",
    "         if num_val < nbre_val \n",
    "         then begin\n",
    "            let valeur = valeurs.(num_val) in\n",
    "            let i=ref 0 in\n",
    "            while !i < (nbre_bin-1) && limites.(!i+1)<valeur do incr i;done;\n",
    "            if !i<nbre_bin && valeur<limites.(nbre_bin-1) then bins.(!i)<-bins.(!i)+1;\n",
    "            loop (num_val+1);\n",
    "        end in\n",
    "     loop 0;\n",
    "     let largeur_intervalle = \n",
    "         if normalized_ \n",
    "         then (float_of_int nbre_bin)/.(limites.(nbre_bin) -. limites.(0))/.(float_of_int nbre_val)\n",
    "         else 1./.(float_of_int nbre_val) in \n",
    "     Array.init nbre_bin (fun i -> (float_of_int bins.(i))*.largeur_intervalle);;"
   ]
  },
  {
   "cell_type": "code",
   "execution_count": 4,
   "metadata": {
    "collapsed": false,
    "deletable": true,
    "editable": true
   },
   "outputs": [
    {
     "data": {
      "text/html": [
       "<pre style=\"color:slategray;max-height:100px;overflow:hidden\" \n",
       "onclick=\"\n",
       "if (this.style.maxHeight === 'none') \n",
       "    this.style.maxHeight = '100px';\n",
       "else\n",
       "    this.style.maxHeight = 'none'; \n",
       "\">val linspace : float -&gt; float -&gt; int -&gt; float list = &lt;fun&gt;\n",
       "</pre>"
      ]
     },
     "execution_count": 4,
     "metadata": {},
     "output_type": "execute_result"
    }
   ],
   "source": [
    "let linspace debut fin nbre_pts =\n",
    "     let step = (fin-.debut)/.(float_of_int (nbre_pts-1)) in\n",
    "     let rec loop i acc =\n",
    "         if i<nbre_pts\n",
    "         then loop (i+1) ((debut+.(float_of_int i)*.step)::acc)\n",
    "         else List.rev acc in\n",
    "       loop 0 [];;"
   ]
  },
  {
   "cell_type": "code",
   "execution_count": 5,
   "metadata": {
    "collapsed": false,
    "deletable": true,
    "editable": true
   },
   "outputs": [
    {
     "data": {
      "text/html": [
       "<pre style=\"color:slategray;max-height:100px;overflow:hidden\" \n",
       "onclick=\"\n",
       "if (this.style.maxHeight === 'none') \n",
       "    this.style.maxHeight = '100px';\n",
       "else\n",
       "    this.style.maxHeight = 'none'; \n",
       "\">val f : float -&gt; float -&gt; float = &lt;fun&gt;\n",
       "</pre>"
      ]
     },
     "execution_count": 5,
     "metadata": {},
     "output_type": "execute_result"
    },
    {
     "data": {
      "text/html": [
       "<pre style=\"color:slategray;max-height:100px;overflow:hidden\" \n",
       "onclick=\"\n",
       "if (this.style.maxHeight === 'none') \n",
       "    this.style.maxHeight = '100px';\n",
       "else\n",
       "    this.style.maxHeight = 'none'; \n",
       "\">val f_moins_un : float -&gt; float -&gt; float = &lt;fun&gt;\n",
       "</pre>"
      ]
     },
     "execution_count": 5,
     "metadata": {},
     "output_type": "execute_result"
    },
    {
     "data": {
      "text/html": [
       "<pre style=\"color:slategray;max-height:100px;overflow:hidden\" \n",
       "onclick=\"\n",
       "if (this.style.maxHeight === 'none') \n",
       "    this.style.maxHeight = '100px';\n",
       "else\n",
       "    this.style.maxHeight = 'none'; \n",
       "\">val trace : string -&gt; float -&gt; float -&gt; unit = &lt;fun&gt;\n",
       "</pre>"
      ]
     },
     "execution_count": 5,
     "metadata": {},
     "output_type": "execute_result"
    }
   ],
   "source": [
    "let f x lambda = lambda*.exp((-.lambda)*.x);;\n",
    "let f_moins_un y lambda = (-.1.)/.lambda*.log(1.-.y);;\n",
    "\n",
    "let trace filename lambda xmax =\n",
    "    let data = Array.init (10*1000) (fun _ -> f_moins_un (Random.float 1.) lambda) in\n",
    "    let limites = Array.of_list (linspace 0. xmax 51) in\n",
    "    let xs = Array.of_list (linspace 0. xmax 50) in\n",
    "    let ys = histogramme ~normalized:true data limites in\n",
    "    let ys' = Array.map (fun x-> f x lambda) xs in\n",
    "    let p = initialisation filename (-.xmax/.200.) (xmax+.xmax/.200.) 0. lambda in\n",
    "    P.plot ~stream:p [bar ~x_width:(xmax/.200.) `blue xs ys;\n",
    "                      P.lines `red xs ys';\n",
    "                      label \"x\" \"probabilité\" (\"Loi de proba λ.exp(-λ.x) avec λ=\"^(string_of_float lambda));\n",
    "                      P.legend ~pos:(P.viewport_pos 0.5 0.)\n",
    "                              [[P.line_legend \"simulation\" `blue];\n",
    "                               [P.line_legend \"théorie\" `red]]];\n",
    "    P.finish ~stream:p ();; "
   ]
  },
  {
   "cell_type": "code",
   "execution_count": 6,
   "metadata": {
    "collapsed": false,
    "deletable": true,
    "editable": true
   },
   "outputs": [
    {
     "data": {
      "text/html": [
       "<pre style=\"color:slategray;max-height:100px;overflow:hidden\" \n",
       "onclick=\"\n",
       "if (this.style.maxHeight === 'none') \n",
       "    this.style.maxHeight = '100px';\n",
       "else\n",
       "    this.style.maxHeight = 'none'; \n",
       "\">- : unit = ()\n",
       "</pre>"
      ]
     },
     "execution_count": 6,
     "metadata": {},
     "output_type": "execute_result"
    }
   ],
   "source": [
    "trace \"graph1\" 0.1 50."
   ]
  },
  {
   "cell_type": "markdown",
   "metadata": {
    "deletable": true,
    "editable": true
   },
   "source": [
    "<img src=\"graph1.svg\" width=500 />"
   ]
  },
  {
   "cell_type": "code",
   "execution_count": 7,
   "metadata": {
    "collapsed": false,
    "deletable": true,
    "editable": true
   },
   "outputs": [
    {
     "data": {
      "text/html": [
       "<pre style=\"color:slategray;max-height:100px;overflow:hidden\" \n",
       "onclick=\"\n",
       "if (this.style.maxHeight === 'none') \n",
       "    this.style.maxHeight = '100px';\n",
       "else\n",
       "    this.style.maxHeight = 'none'; \n",
       "\">- : unit = ()\n",
       "</pre>"
      ]
     },
     "execution_count": 7,
     "metadata": {},
     "output_type": "execute_result"
    }
   ],
   "source": [
    "trace \"graph2\" 0.5 10."
   ]
  },
  {
   "cell_type": "markdown",
   "metadata": {
    "deletable": true,
    "editable": true
   },
   "source": [
    "<img src=\"graph2.svg\" width=500 />"
   ]
  },
  {
   "cell_type": "code",
   "execution_count": 8,
   "metadata": {
    "collapsed": false,
    "deletable": true,
    "editable": true
   },
   "outputs": [
    {
     "data": {
      "text/html": [
       "<pre style=\"color:slategray;max-height:100px;overflow:hidden\" \n",
       "onclick=\"\n",
       "if (this.style.maxHeight === 'none') \n",
       "    this.style.maxHeight = '100px';\n",
       "else\n",
       "    this.style.maxHeight = 'none'; \n",
       "\">- : unit = ()\n",
       "</pre>"
      ]
     },
     "execution_count": 8,
     "metadata": {},
     "output_type": "execute_result"
    }
   ],
   "source": [
    "trace \"graph3\" 0.9 5."
   ]
  },
  {
   "cell_type": "markdown",
   "metadata": {
    "deletable": true,
    "editable": true
   },
   "source": [
    "<img src=\"graph3.svg\" width=500 />"
   ]
  },
  {
   "cell_type": "markdown",
   "metadata": {
    "collapsed": true,
    "deletable": true,
    "editable": true
   },
   "source": [
    "<h3>Exercice 2: loi de Laplace</h3>\n",
    "\n",
    "Faire de même avec la loi de Laplace: $P(x)=\\frac12.e^{-|x|}$.\n",
    "\n",
    "On tracera $P(x)$ sur $[-5,5]$"
   ]
  },
  {
   "cell_type": "markdown",
   "metadata": {
    "deletable": true,
    "editable": true
   },
   "source": [
    "<b>1.</b> On définit la fonction $P(u)=\\frac12.e^{-|u|}$.\n",
    "\n",
    "<b>2.</b> On calcule la fonction de partition $y=F(x)=\\int_{-\\infty}^xP(u).\\textrm{d}u$.<br>\n",
    "Si $u<0$:  $P(u)=\\frac12.e^{u}$,&nbsp;&nbsp; $y=F(x)=\\int_{-\\infty}^xP(u).\\textrm{d}u=\\frac12.e^{x}$<br>\n",
    "Si $u>0$:  $P(u)=\\frac12.e^{-u}$,&nbsp;&nbsp; $y=F(x)=\\frac12+\\int_{0}^xP(u).\\textrm{d}u=\\frac12+\\frac12.(1-e^{-x})=1-\\frac12.e^{-x}$\n",
    "\n",
    "<b>3.</b> On calcule $x=F^{-1}(y)$<br>\n",
    "Si $u<0$: $x=\\ln(2.y)$<br>\n",
    "Si $u>0$: $x=-\\ln(2-2.y)$"
   ]
  },
  {
   "cell_type": "code",
   "execution_count": 9,
   "metadata": {
    "collapsed": false,
    "deletable": true,
    "editable": true
   },
   "outputs": [
    {
     "data": {
      "text/html": [
       "<pre style=\"color:slategray;max-height:100px;overflow:hidden\" \n",
       "onclick=\"\n",
       "if (this.style.maxHeight === 'none') \n",
       "    this.style.maxHeight = '100px';\n",
       "else\n",
       "    this.style.maxHeight = 'none'; \n",
       "\">val f : float -&gt; float = &lt;fun&gt;\n",
       "</pre>"
      ]
     },
     "execution_count": 9,
     "metadata": {},
     "output_type": "execute_result"
    },
    {
     "data": {
      "text/html": [
       "<pre style=\"color:slategray;max-height:100px;overflow:hidden\" \n",
       "onclick=\"\n",
       "if (this.style.maxHeight === 'none') \n",
       "    this.style.maxHeight = '100px';\n",
       "else\n",
       "    this.style.maxHeight = 'none'; \n",
       "\">val f_moins_un : float -&gt; float = &lt;fun&gt;\n",
       "</pre>"
      ]
     },
     "execution_count": 9,
     "metadata": {},
     "output_type": "execute_result"
    },
    {
     "data": {
      "text/html": [
       "<pre style=\"color:slategray;max-height:100px;overflow:hidden\" \n",
       "onclick=\"\n",
       "if (this.style.maxHeight === 'none') \n",
       "    this.style.maxHeight = '100px';\n",
       "else\n",
       "    this.style.maxHeight = 'none'; \n",
       "\">val trace : string -&gt; float -&gt; unit = &lt;fun&gt;\n",
       "</pre>"
      ]
     },
     "execution_count": 9,
     "metadata": {},
     "output_type": "execute_result"
    }
   ],
   "source": [
    "let f x = exp(-.abs_float(x))/.2.;;\n",
    "let f_moins_un y = \n",
    "    if y<0.5 (*en x=0, F(0)=1/2*)\n",
    "    then log(2.*.y)\n",
    "    else -.log(2.-.2.*.y) (*on pourrait simplifier en -log(2.*.y) *);;\n",
    "    \n",
    "let trace filename xmax =\n",
    "    let data = Array.init (10*1000) (fun _ -> f_moins_un (Random.float 1.)) in\n",
    "    let limites = Array.of_list (linspace (-.xmax) xmax 51) in\n",
    "    let xs = Array.of_list (linspace (-.xmax) xmax 50) in\n",
    "    let ys = histogramme ~normalized:true data limites in\n",
    "    let ys' = Array.map (fun x-> f x) xs in\n",
    "    let p = initialisation filename (-.xmax-.xmax/.200.) (xmax+.xmax/.200.) 0. 0.5 in\n",
    "    P.plot ~stream:p [bar ~x_width:(xmax/.200.) `blue xs ys;\n",
    "                      P.lines `red xs ys';\n",
    "                      label \"x\" \"probabilité\" (\"Loi de proba exp(-|x|)\");\n",
    "                      P.legend [[P.line_legend \"simulation\" `blue];\n",
    "                                [P.line_legend \"théorie\" `red]]];\n",
    "    P.finish ~stream:p ();; "
   ]
  },
  {
   "cell_type": "code",
   "execution_count": 10,
   "metadata": {
    "collapsed": false,
    "deletable": true,
    "editable": true
   },
   "outputs": [
    {
     "data": {
      "text/html": [
       "<pre style=\"color:slategray;max-height:100px;overflow:hidden\" \n",
       "onclick=\"\n",
       "if (this.style.maxHeight === 'none') \n",
       "    this.style.maxHeight = '100px';\n",
       "else\n",
       "    this.style.maxHeight = 'none'; \n",
       "\">- : unit = ()\n",
       "</pre>"
      ]
     },
     "execution_count": 10,
     "metadata": {},
     "output_type": "execute_result"
    }
   ],
   "source": [
    "trace \"graph4\" 5."
   ]
  },
  {
   "cell_type": "markdown",
   "metadata": {
    "deletable": true,
    "editable": true
   },
   "source": [
    "<img src=\"graph4.svg\" width=500 />"
   ]
  },
  {
   "cell_type": "markdown",
   "metadata": {
    "deletable": true,
    "editable": true
   },
   "source": [
    "<h4>Problème</h4>\n",
    "Problème: il n'est pas toujours possible d'inverser la fonction $F$ (ex: pour la loi gaussienne: $P(x)=\\frac{1}{\\sqrt{2.\\pi}}.\\exp(-x^2/2)$, on a: $F(x)=\\displaystyle\\int_{-\\infty}^x \\frac{1}{\\sqrt{2.\\pi}}.\\exp(-u^2/2).\\textrm{d}u$ qui n'est pas inversable)."
   ]
  },
  {
   "cell_type": "markdown",
   "metadata": {
    "deletable": true,
    "editable": true
   },
   "source": [
    "<h2>Méthode 2: algorithme de rejet</h2>\n",
    "\n",
    "Le but de cet algorithme est de simuler un tirage suivant une loi de probabilité $P(x)$ à partir d'un générateur aléatoire suivant une loi de probabilité $g(x)$.\n",
    "\n",
    "Exemple: à partir de $g(x)$ suivant la loi de Laplace (que l'on peut générer par la méthode d'inversion), simuler une loi de Gauss $P(x)=\\frac{1}{\\sqrt{2.\\pi}}.\\exp(-x^2/2)$ (que l'on ne peut pas générer par la méthode d'inversion).\n",
    "\n",
    "L'algoritme consiste à:\n",
    "<ol>\n",
    "<li> simuler une variable aléatoire $X$ suivant la loi de probabilité $g(x)$\n",
    "<li> simuler une variable aléatoire $U$ suivant la loi uniforme sur [0,1] (i.e. <tt>U=random.random()</tt>)\n",
    "<li> <ul>\n",
    "<li> si $U\\leq\\frac{P(X)}{M.g(x)}$ où $M$ est une contante, alors on accepte $X$ comme realisation de la variable aléatoire générée par la loi $P(X)$.\n",
    "<li> sinon, on ré-itère depuis 1.\n",
    "</ul>\n",
    "</ol>\n",
    "\n",
    "N.B. La constante $M$ doit être telle que: $\\forall x$, $P(x)\\leq M.g(x)$. On a intérêt (pour minimiser les cas de rejet) à prendre $M$ la plus petite possible."
   ]
  },
  {
   "cell_type": "markdown",
   "metadata": {
    "deletable": true,
    "editable": true
   },
   "source": [
    "<b>1.</b> A l'aide de la méthode d'inversion, créer un générateur suivant la loi de Laplace"
   ]
  },
  {
   "cell_type": "code",
   "execution_count": 11,
   "metadata": {
    "collapsed": false,
    "deletable": true,
    "editable": true
   },
   "outputs": [
    {
     "data": {
      "text/html": [
       "<pre style=\"color:slategray;max-height:100px;overflow:hidden\" \n",
       "onclick=\"\n",
       "if (this.style.maxHeight === 'none') \n",
       "    this.style.maxHeight = '100px';\n",
       "else\n",
       "    this.style.maxHeight = 'none'; \n",
       "\">val laplace : unit -&gt; float = &lt;fun&gt;\n",
       "</pre>"
      ]
     },
     "execution_count": 11,
     "metadata": {},
     "output_type": "execute_result"
    }
   ],
   "source": [
    "let laplace()=\n",
    "    let y=Random.float 1. in\n",
    "    if y<0.5\n",
    "    then log(2.*.y)\n",
    "    else -.log(2.*.(1.-.y))"
   ]
  },
  {
   "cell_type": "markdown",
   "metadata": {
    "deletable": true,
    "editable": true
   },
   "source": [
    "<b>2.</b> Dans le cas où $P(x)=\\frac{1}{\\sqrt{2.\\pi}}.e^{-x^2/2}$ et $g(x)=\\frac12.e^{-|x|}$, on peut montrer que la plus petite valeur de $M$ est $\\sqrt{\\frac{2.e}\\pi}$.\n",
    "\n",
    "Dans une fonction <tt>Gauss()</tt>: tirer une valeur de $x$ suivant la loi de probabilité $g(x)$, tirer une variable $u$ suivant la loi uniforme sur [0,1] et réitérer jusqu'à ce que $u\\leq\\frac{P(x)}{M.g(x)}$. Renvoyer alors la valeur de $x$."
   ]
  },
  {
   "cell_type": "code",
   "execution_count": 12,
   "metadata": {
    "collapsed": false,
    "deletable": true,
    "editable": true
   },
   "outputs": [
    {
     "data": {
      "text/html": [
       "<pre style=\"color:slategray;max-height:100px;overflow:hidden\" \n",
       "onclick=\"\n",
       "if (this.style.maxHeight === 'none') \n",
       "    this.style.maxHeight = '100px';\n",
       "else\n",
       "    this.style.maxHeight = 'none'; \n",
       "\">val pi : float = 3.14159265358979312\n",
       "</pre>"
      ]
     },
     "execution_count": 12,
     "metadata": {},
     "output_type": "execute_result"
    },
    {
     "data": {
      "text/html": [
       "<pre style=\"color:slategray;max-height:100px;overflow:hidden\" \n",
       "onclick=\"\n",
       "if (this.style.maxHeight === 'none') \n",
       "    this.style.maxHeight = '100px';\n",
       "else\n",
       "    this.style.maxHeight = 'none'; \n",
       "\">val gauss : unit -&gt; float = &lt;fun&gt;\n",
       "</pre>"
      ]
     },
     "execution_count": 12,
     "metadata": {},
     "output_type": "execute_result"
    }
   ],
   "source": [
    "let pi = 4. *. atan 1.;;\n",
    "\n",
    "let gauss() =\n",
    "    (*\n",
    "    on veut Gauss\n",
    "    on part de Laplace g(z)\n",
    "    M=sqrt(2*e/pi)\n",
    "    on tire au hasard, on rejete si proba > P(z)/(M*g(z))\n",
    "    *)\n",
    "    let m = sqrt(2.*.exp(1.)/.pi) in\n",
    "    let p x = (*Gauss*)\n",
    "        1./.sqrt(2.*.pi)*.exp(-.(x**2.)/.2.) in\n",
    "    let g x = (*Laplace*)\n",
    "        1./.2.*.exp(-.abs_float x) in\n",
    "    let alpha x =\n",
    "        (p x)/.(m*.(g x)) in\n",
    "    \n",
    "    let rec loop () =\n",
    "        let x = laplace() in\n",
    "        let u = Random.float 1. in\n",
    "        if u<=(alpha x) then x else loop() in\n",
    "    loop();;"
   ]
  },
  {
   "cell_type": "markdown",
   "metadata": {
    "deletable": true,
    "editable": true
   },
   "source": [
    "<b>3.</b> Tirer au sort 10.000 valeurs en utilisant la fonction <tt>gauss()</tt>.\n",
    "\n",
    "Réaliser l'histogramme et comparer à $P(x)$."
   ]
  },
  {
   "cell_type": "code",
   "execution_count": 13,
   "metadata": {
    "collapsed": false,
    "deletable": true,
    "editable": true
   },
   "outputs": [
    {
     "data": {
      "text/html": [
       "<pre style=\"color:slategray;max-height:100px;overflow:hidden\" \n",
       "onclick=\"\n",
       "if (this.style.maxHeight === 'none') \n",
       "    this.style.maxHeight = '100px';\n",
       "else\n",
       "    this.style.maxHeight = 'none'; \n",
       "\">val trace : string -&gt; float -&gt; unit = &lt;fun&gt;\n",
       "</pre>"
      ]
     },
     "execution_count": 13,
     "metadata": {},
     "output_type": "execute_result"
    },
    {
     "data": {
      "text/html": [
       "<pre style=\"color:slategray;max-height:100px;overflow:hidden\" \n",
       "onclick=\"\n",
       "if (this.style.maxHeight === 'none') \n",
       "    this.style.maxHeight = '100px';\n",
       "else\n",
       "    this.style.maxHeight = 'none'; \n",
       "\">- : unit = ()\n",
       "</pre>"
      ]
     },
     "execution_count": 13,
     "metadata": {},
     "output_type": "execute_result"
    }
   ],
   "source": [
    "let trace filename xmax =\n",
    "    let data = Array.init (10*1000) (fun _ -> gauss()) in\n",
    "    let limites = Array.of_list (linspace (-.xmax) xmax 51) in\n",
    "    let xs = Array.of_list (linspace (-.xmax) xmax 50) in\n",
    "    let ys = histogramme ~normalized:true  data limites in\n",
    "    let ys' = Array.map (fun x-> 1./.sqrt(2.*.pi)*.exp(-.(x**2.)/.2.)) xs in\n",
    "    let p = initialisation filename (-.xmax-.xmax/.200.) (xmax+.xmax/.200.) 0. 0.5 in\n",
    "    P.plot ~stream:p [bar ~x_width:(xmax/.200.) `blue xs ys;\n",
    "                      P.lines `red xs ys';\n",
    "                      label \"x\" \"probabilité\" (\"Loi de proba exp(-x**2/2) / sqrt(2*pi)\");\n",
    "                      P.legend [[P.line_legend \"simulation\" `blue];\n",
    "                                [P.line_legend \"théorie\" `red]]];\n",
    "    P.finish ~stream:p ();; \n",
    "\n",
    "trace \"graph5\" 5.;;"
   ]
  },
  {
   "cell_type": "markdown",
   "metadata": {
    "deletable": true,
    "editable": true
   },
   "source": [
    "<img src=\"graph5.svg\" width=500 />"
   ]
  },
  {
   "cell_type": "code",
   "execution_count": null,
   "metadata": {
    "collapsed": true,
    "deletable": true,
    "editable": true
   },
   "outputs": [],
   "source": []
  }
 ],
 "metadata": {
  "kernelspec": {
   "display_name": "OCaml",
   "language": "ocaml",
   "name": "iocaml"
  },
  "language_info": {
   "name": "ocaml",
   "version": "4.1.0"
  }
 },
 "nbformat": 4,
 "nbformat_minor": 2
}
