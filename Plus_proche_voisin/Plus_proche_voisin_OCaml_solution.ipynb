{
 "cells": [
  {
   "cell_type": "markdown",
   "metadata": {},
   "source": [
    "<h1> Plus proche voisin </h1>\n",
    "\n",
    "<h2> Présentation </h2>\n",
    "\n",
    "On place aléatoirement n points sur une droite orientée.\n",
    "Ces points $P_i$ sont classés par abscisse croissante sur la droite.\n",
    "Soit $P_j$ le plus proche voisin du point $P_i$ ($P_j$ peut être le point $P_{i-1}$ ou le point $P_{i+1}$). Quelle est la probabilité que le plus proche voisin de $P_j$ soit $P_i$ ?\n",
    "\n",
    "Même question pour des points sur un plan (on prendra la norme euclidienne).\n",
    "\n",
    "Même question pour des points dans un espace à 3 dimensions."
   ]
  },
  {
   "cell_type": "markdown",
   "metadata": {},
   "source": [
    "<h2> Solution : </h2>\n",
    "\n",
    "Les valeurs théoriques sont :\n",
    "<ol>\n",
    "<li> à 1 D : $\\frac 23\\simeq$ 0.666\n",
    "<li> à 2 D : $\\frac{6\\pi}{8.\\pi+3.\\sqrt{3}}\\simeq 0.6215$\n",
    "<li> à 3 D : $\\frac{16}{27}\\simeq 0.5926$\n",
    "</ol>"
   ]
  },
  {
   "cell_type": "code",
   "execution_count": 1,
   "metadata": {
    "collapsed": false
   },
   "outputs": [
    {
     "name": "stdout",
     "output_type": "stream",
     "text": [
      "- : unit = ()\n",
      "Findlib has been successfully loaded. Additional directives:\n",
      "  #require \"package\";;      to load a package\n",
      "  #list;;                   to list the available packages\n",
      "  #camlp4o;;                to load camlp4 (standard syntax)\n",
      "  #camlp4r;;                to load camlp4 (revised syntax)\n",
      "  #predicates \"p,q,...\";;   to set these predicates\n",
      "  Topfind.reset();;         to force that packages will be reloaded\n",
      "  #thread;;                 to enable threads\n",
      "\n",
      "- : unit = ()\n"
     ]
    },
    {
     "name": "stderr",
     "output_type": "stream",
     "text": [
      "/usr/lib/ocaml/plplot: added to search path\n",
      "/usr/lib/ocaml/plplot/plplot.cma: loaded\n"
     ]
    },
    {
     "data": {
      "text/html": [
       "<pre style=\"color:slategray;max-height:100px;overflow:hidden\" \n",
       "onclick=\"\n",
       "if (this.style.maxHeight === 'none') \n",
       "    this.style.maxHeight = '100px';\n",
       "else\n",
       "    this.style.maxHeight = 'none'; \n",
       "\">module P = Plplot.Plot\n",
       "</pre>"
      ]
     },
     "execution_count": 1,
     "metadata": {},
     "output_type": "execute_result"
    },
    {
     "data": {
      "text/html": [
       "<pre style=\"color:slategray;max-height:100px;overflow:hidden\" \n",
       "onclick=\"\n",
       "if (this.style.maxHeight === 'none') \n",
       "    this.style.maxHeight = '100px';\n",
       "else\n",
       "    this.style.maxHeight = 'none'; \n",
       "\">val couleurs_list : int list list =\n",
       "  [[0; 255; 255; 255]; [1; 0; 0; 0]; [2; 0; 0; 255]; [3; 255; 0; 0];\n",
       "   [4; 165; 42; 42]; [5; 0; 0; 0]; [6; 0; 0; 0]; [7; 0; 0; 0]; [8; 0; 0; 0];\n",
       "   [9; 0; 0; 0]; [10; 200; 200; 200]; [11; 0; 255; 255]; [12; 0; 255; 0];\n",
       "   [13; 255; 255; 0]; [14; 255; 0; 255]; [15; 160; 0; 213]]\n",
       "</pre>"
      ]
     },
     "execution_count": 1,
     "metadata": {},
     "output_type": "execute_result"
    },
    {
     "data": {
      "text/html": [
       "<pre style=\"color:slategray;max-height:100px;overflow:hidden\" \n",
       "onclick=\"\n",
       "if (this.style.maxHeight === 'none') \n",
       "    this.style.maxHeight = '100px';\n",
       "else\n",
       "    this.style.maxHeight = 'none'; \n",
       "\">val loop : int list list -&gt; unit = &lt;fun&gt;\n",
       "</pre>"
      ]
     },
     "execution_count": 1,
     "metadata": {},
     "output_type": "execute_result"
    },
    {
     "data": {
      "text/html": [
       "<pre style=\"color:slategray;max-height:100px;overflow:hidden\" \n",
       "onclick=\"\n",
       "if (this.style.maxHeight === 'none') \n",
       "    this.style.maxHeight = '100px';\n",
       "else\n",
       "    this.style.maxHeight = 'none'; \n",
       "\">val couleurs : unit -&gt; unit = &lt;fun&gt;\n",
       "</pre>"
      ]
     },
     "execution_count": 1,
     "metadata": {},
     "output_type": "execute_result"
    },
    {
     "data": {
      "text/html": [
       "<pre style=\"color:slategray;max-height:100px;overflow:hidden\" \n",
       "onclick=\"\n",
       "if (this.style.maxHeight === 'none') \n",
       "    this.style.maxHeight = '100px';\n",
       "else\n",
       "    this.style.maxHeight = 'none'; \n",
       "\">val initialisation : string -&gt; float -&gt; float -&gt; float -&gt; float -&gt; P.stream_t =\n",
       "  &lt;fun&gt;\n",
       "</pre>"
      ]
     },
     "execution_count": 1,
     "metadata": {},
     "output_type": "execute_result"
    },
    {
     "data": {
      "text/html": [
       "<pre style=\"color:slategray;max-height:100px;overflow:hidden\" \n",
       "onclick=\"\n",
       "if (this.style.maxHeight === 'none') \n",
       "    this.style.maxHeight = '100px';\n",
       "else\n",
       "    this.style.maxHeight = 'none'; \n",
       "\">val xlabel : string -&gt; P.plot_t = &lt;fun&gt;\n",
       "</pre>"
      ]
     },
     "execution_count": 1,
     "metadata": {},
     "output_type": "execute_result"
    },
    {
     "data": {
      "text/html": [
       "<pre style=\"color:slategray;max-height:100px;overflow:hidden\" \n",
       "onclick=\"\n",
       "if (this.style.maxHeight === 'none') \n",
       "    this.style.maxHeight = '100px';\n",
       "else\n",
       "    this.style.maxHeight = 'none'; \n",
       "\">val ylabel : string -&gt; P.plot_t = &lt;fun&gt;\n",
       "</pre>"
      ]
     },
     "execution_count": 1,
     "metadata": {},
     "output_type": "execute_result"
    },
    {
     "data": {
      "text/html": [
       "<pre style=\"color:slategray;max-height:100px;overflow:hidden\" \n",
       "onclick=\"\n",
       "if (this.style.maxHeight === 'none') \n",
       "    this.style.maxHeight = '100px';\n",
       "else\n",
       "    this.style.maxHeight = 'none'; \n",
       "\">val label : string -&gt; string -&gt; string -&gt; P.plot_t = &lt;fun&gt;\n",
       "</pre>"
      ]
     },
     "execution_count": 1,
     "metadata": {},
     "output_type": "execute_result"
    }
   ],
   "source": [
    "#use \"topfind\";;\n",
    "#require \"plplot\";;\n",
    "open Plplot;;\n",
    "module P = Plot;;\n",
    "let couleurs_list = [[ 0;255;255;255]; (*`white*)\n",
    "                     [ 1;  0;  0;  0]; (*`black*)\n",
    "                     [ 2;  0;  0;255]; (*`blue*)\n",
    "                     [ 3;255;  0;  0]; (*`red*)\n",
    "                     [ 4;165; 42; 42]; (*`brown*)\n",
    "                     [ 5;  0;  0;  0]; [ 6;  0;  0;  0]; [ 7;  0;  0;  0]; [ 8;  0;  0;  0]; [ 9;  0;  0;  0]; \n",
    "                     [10;200;200;200]; (*`gray*)\n",
    "                     [11;  0;255;255]; (*`light_blue*)\n",
    "                     [12;  0;255;  0]; (*`green*)\n",
    "                     [13;255;255;  0]; (*`yellow*)\n",
    "                     [14;255;  0;255]; (*`pink*)\n",
    "                     [15;160;  0;213]; (*`purple*) ]\n",
    "let rec loop couleurs_list = match couleurs_list with\n",
    "    | [n;r;g;b]::tl -> plscol0 n r g b; loop tl\n",
    "    | _ -> ();;\n",
    "let couleurs = (fun () -> plscolbg 255 255 255; loop couleurs_list)\n",
    "let initialisation filename xmin xmax ymin ymax = \n",
    "        P.init (xmin, ymin) (xmax, ymax) `greedy (`svg `core) ~filename:(filename^\".svg\") ~pre:couleurs\n",
    "let xlabel texte = P.text_outside `black (`bottom 0.5) 3. texte\n",
    "let ylabel texte = P.text_outside `black (`left 0.5) 5. texte \n",
    "let label texte_x texte_y titre = P.label texte_x texte_y titre"
   ]
  },
  {
   "cell_type": "code",
   "execution_count": 2,
   "metadata": {
    "collapsed": false
   },
   "outputs": [
    {
     "data": {
      "text/html": [
       "<pre style=\"color:slategray;max-height:100px;overflow:hidden\" \n",
       "onclick=\"\n",
       "if (this.style.maxHeight === 'none') \n",
       "    this.style.maxHeight = '100px';\n",
       "else\n",
       "    this.style.maxHeight = 'none'; \n",
       "\">val range : int -&gt; int -&gt; int -&gt; int list = &lt;fun&gt;\n",
       "</pre>"
      ]
     },
     "execution_count": 2,
     "metadata": {},
     "output_type": "execute_result"
    }
   ],
   "source": [
    "let range debut fin step =\n",
    "   let rec range i acc =\n",
    "     if i>=fin then List.rev acc\n",
    "     else range (i+step) (i::acc) in\n",
    "   range debut [];; "
   ]
  },
  {
   "cell_type": "code",
   "execution_count": 3,
   "metadata": {
    "collapsed": false
   },
   "outputs": [
    {
     "data": {
      "text/html": [
       "<pre style=\"color:slategray;max-height:100px;overflow:hidden\" \n",
       "onclick=\"\n",
       "if (this.style.maxHeight === 'none') \n",
       "    this.style.maxHeight = '100px';\n",
       "else\n",
       "    this.style.maxHeight = 'none'; \n",
       "\">- : unit -&gt; unit = &lt;fun&gt;\n",
       "</pre>"
      ]
     },
     "execution_count": 3,
     "metadata": {},
     "output_type": "execute_result"
    },
    {
     "data": {
      "text/html": [
       "<pre style=\"color:slategray;max-height:100px;overflow:hidden\" \n",
       "onclick=\"\n",
       "if (this.style.maxHeight === 'none') \n",
       "    this.style.maxHeight = '100px';\n",
       "else\n",
       "    this.style.maxHeight = 'none'; \n",
       "\">val voisins_1D : int -&gt; float = &lt;fun&gt;\n",
       "</pre>"
      ]
     },
     "execution_count": 3,
     "metadata": {},
     "output_type": "execute_result"
    },
    {
     "data": {
      "text/html": [
       "<pre style=\"color:slategray;max-height:100px;overflow:hidden\" \n",
       "onclick=\"\n",
       "if (this.style.maxHeight === 'none') \n",
       "    this.style.maxHeight = '100px';\n",
       "else\n",
       "    this.style.maxHeight = 'none'; \n",
       "\">val plus_proche_2D : int -&gt; float array -&gt; float array -&gt; int = &lt;fun&gt;\n",
       "</pre>"
      ]
     },
     "execution_count": 3,
     "metadata": {},
     "output_type": "execute_result"
    },
    {
     "data": {
      "text/html": [
       "<pre style=\"color:slategray;max-height:100px;overflow:hidden\" \n",
       "onclick=\"\n",
       "if (this.style.maxHeight === 'none') \n",
       "    this.style.maxHeight = '100px';\n",
       "else\n",
       "    this.style.maxHeight = 'none'; \n",
       "\">val plus_proche_3D : int -&gt; float array -&gt; float array -&gt; float array -&gt; int =\n",
       "  &lt;fun&gt;\n",
       "</pre>"
      ]
     },
     "execution_count": 3,
     "metadata": {},
     "output_type": "execute_result"
    },
    {
     "data": {
      "text/html": [
       "<pre style=\"color:slategray;max-height:100px;overflow:hidden\" \n",
       "onclick=\"\n",
       "if (this.style.maxHeight === 'none') \n",
       "    this.style.maxHeight = '100px';\n",
       "else\n",
       "    this.style.maxHeight = 'none'; \n",
       "\">val voisins_2D : int -&gt; float = &lt;fun&gt;\n",
       "</pre>"
      ]
     },
     "execution_count": 3,
     "metadata": {},
     "output_type": "execute_result"
    },
    {
     "data": {
      "text/html": [
       "<pre style=\"color:slategray;max-height:100px;overflow:hidden\" \n",
       "onclick=\"\n",
       "if (this.style.maxHeight === 'none') \n",
       "    this.style.maxHeight = '100px';\n",
       "else\n",
       "    this.style.maxHeight = 'none'; \n",
       "\">val voisins_3D : int -&gt; float = &lt;fun&gt;\n",
       "</pre>"
      ]
     },
     "execution_count": 3,
     "metadata": {},
     "output_type": "execute_result"
    },
    {
     "data": {
      "text/html": [
       "<pre style=\"color:slategray;max-height:100px;overflow:hidden\" \n",
       "onclick=\"\n",
       "if (this.style.maxHeight === 'none') \n",
       "    this.style.maxHeight = '100px';\n",
       "else\n",
       "    this.style.maxHeight = 'none'; \n",
       "\">val essai : 'a -&gt; ('a -&gt; float) -&gt; float = &lt;fun&gt;\n",
       "</pre>"
      ]
     },
     "execution_count": 3,
     "metadata": {},
     "output_type": "execute_result"
    },
    {
     "data": {
      "text/html": [
       "<pre style=\"color:slategray;max-height:100px;overflow:hidden\" \n",
       "onclick=\"\n",
       "if (this.style.maxHeight === 'none') \n",
       "    this.style.maxHeight = '100px';\n",
       "else\n",
       "    this.style.maxHeight = 'none'; \n",
       "\">- : unit = ()\n",
       "</pre>"
      ]
     },
     "execution_count": 3,
     "metadata": {},
     "output_type": "execute_result"
    }
   ],
   "source": [
    "open Random;;\n",
    "Random.self_init;;\n",
    "\n",
    "let voisins_1D nbre_points =\n",
    "    let abscisse = Array.init nbre_points (fun _ -> Random.float 1.) in\n",
    "    Array.sort compare abscisse;\n",
    "\n",
    "    let voisin = Array.init nbre_points\n",
    "                 (fun j -> if j=0 then 1 else if j=nbre_points-1 then nbre_points-2\n",
    "                           else if abscisse.(j)-.abscisse.(j-1)<abscisse.(j+1)-.abscisse.(j) then j-1\n",
    "                           else j+1) in\n",
    "\n",
    "    let rec loop j nbre_appariement=\n",
    "        if j<nbre_points-1 then\n",
    "            if voisin.(j)=j+1 && voisin.(j+1)=j \n",
    "            then loop (j+2) (nbre_appariement+1)\n",
    "            else loop (j+1) nbre_appariement\n",
    "        else float_of_int (2*nbre_appariement) /.(float_of_int nbre_points) in\n",
    "    loop 1 (if voisin.(1)=0 then 1 else 0);;\n",
    "\n",
    "let plus_proche_2D num_point abscisse ordonnee =\n",
    "    let nbre_points = Array.length abscisse in\n",
    "    let x = abscisse.(num_point) in\n",
    "    let y = ordonnee.(num_point) in\n",
    "    let rec loop num_voisin distance_min plus_proche =\n",
    "         if num_voisin = num_point\n",
    "         then loop (num_voisin+1) distance_min plus_proche\n",
    "         else if num_voisin < nbre_points then begin\n",
    "              let d=(abscisse.(num_voisin)-.x)**2.+.(ordonnee.(num_voisin)-.y)**2. in\n",
    "              if d<distance_min \n",
    "              then loop (num_voisin+1) d num_voisin\n",
    "              else loop (num_voisin+1) distance_min plus_proche;\n",
    "              end\n",
    "        else plus_proche in\n",
    "    loop 0 max_float 0;;\n",
    "\n",
    "let plus_proche_3D num_point abscisse ordonnee altitude =\n",
    "    let nbre_points = Array.length abscisse in\n",
    "    let x = abscisse.(num_point) in\n",
    "    let y = ordonnee.(num_point) in\n",
    "    let z = altitude.(num_point) in\n",
    "    let rec loop num_voisin distance_min plus_proche =\n",
    "         if num_voisin = num_point\n",
    "         then loop (num_voisin+1) distance_min plus_proche\n",
    "         else if num_voisin < nbre_points then begin\n",
    "              let d=(abscisse.(num_voisin)-.x)**2.+.(ordonnee.(num_voisin)-.y)**2.+.(altitude.(num_voisin)-.z)**2. in\n",
    "              if d<distance_min \n",
    "              then loop (num_voisin+1) d num_voisin\n",
    "              else loop (num_voisin+1) distance_min plus_proche;\n",
    "              end\n",
    "        else plus_proche in\n",
    "    loop 0 max_float 0;;\n",
    "\n",
    "let voisins_2D nbre_points =\n",
    "    let abscisse = Array.init nbre_points (fun _ -> Random.float 1.) in\n",
    "    let ordonnee = Array.init nbre_points (fun _ -> Random.float 1.) in\n",
    "\n",
    "    let voisin = Array.init nbre_points (fun num_point -> plus_proche_2D num_point abscisse ordonnee) in\n",
    "\n",
    "    let rec loop num_point nbre_appariement =\n",
    "        if num_point<nbre_points then begin\n",
    "            let plus_proche = voisin.(num_point) in\n",
    "            if voisin.(plus_proche) = num_point\n",
    "            then loop (num_point+1) (nbre_appariement+1)\n",
    "            else loop (num_point+1) nbre_appariement\n",
    "            end\n",
    "        else float_of_int nbre_appariement/.(float_of_int nbre_points) in\n",
    "    loop 0 0;;\n",
    "\n",
    "let voisins_3D nbre_points =\n",
    "    let abscisse = Array.init nbre_points (fun _ -> Random.float 1.) in\n",
    "    let ordonnee = Array.init nbre_points (fun _ -> Random.float 1.) in\n",
    "    let altitude = Array.init nbre_points (fun _ -> Random.float 1.) in\n",
    "        \n",
    "    let voisin = Array.init nbre_points (fun num_point -> plus_proche_3D num_point abscisse ordonnee altitude) in\n",
    "\n",
    "    let rec loop num_point nbre_appariement =\n",
    "        if num_point<nbre_points then begin\n",
    "            let plus_proche = voisin.(num_point) in\n",
    "            if voisin.(plus_proche) = num_point\n",
    "            then loop (num_point+1) (nbre_appariement+1)\n",
    "            else loop (num_point+1) nbre_appariement\n",
    "            end\n",
    "        else float_of_int nbre_appariement/.(float_of_int nbre_points) in\n",
    "    loop 0 0;;\n",
    "\n",
    "let essai nbre_points fonction_voisin =\n",
    "    let nbre_essais = 1000 in\n",
    "    let rec loop num_essai res =\n",
    "        if num_essai<nbre_essais\n",
    "        then loop (num_essai+1) (res+.(fonction_voisin nbre_points))\n",
    "        else res/.(float_of_int nbre_essais) in\n",
    "    loop 0 0.;;\n",
    "    \n",
    "let liste_nbre_points = range 4 40 1 in\n",
    "let xs = Array.of_list (List.map float_of_int liste_nbre_points) in\n",
    "let ys = Array.of_list (List.map (fun x -> essai x voisins_1D) liste_nbre_points) in\n",
    "let ys' = Array.of_list (List.map (fun x -> essai x voisins_2D) liste_nbre_points) in\n",
    "let ys'' = Array.of_list (List.map (fun x -> essai x voisins_3D) liste_nbre_points) in\n",
    "\n",
    "let p = initialisation \"graph\" 0. 40. 0.56 0.68 in\n",
    "P.plot ~stream:p [P.lines `red xs ys;\n",
    "                  P.lines `green xs ys';\n",
    "                  P.lines `blue xs ys'';\n",
    "                  P.legend [[P.line_legend \"1D\" `red];\n",
    "                            [P.line_legend \"2D\" `green];\n",
    "                            [P.line_legend \"3D\" `blue]]];\n",
    "P.finish ~stream:p ();;"
   ]
  },
  {
   "cell_type": "markdown",
   "metadata": {},
   "source": [
    "<img src=\"graph.svg\" width=500 />"
   ]
  },
  {
   "cell_type": "code",
   "execution_count": null,
   "metadata": {
    "collapsed": true
   },
   "outputs": [],
   "source": []
  }
 ],
 "metadata": {
  "kernelspec": {
   "display_name": "OCaml",
   "language": "ocaml",
   "name": "iocaml"
  },
  "language_info": {
   "name": "ocaml",
   "version": "4.1.0"
  }
 },
 "nbformat": 4,
 "nbformat_minor": 2
}
