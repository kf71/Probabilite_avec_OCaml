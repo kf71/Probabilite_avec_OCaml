{
 "cells": [
  {
   "cell_type": "markdown",
   "metadata": {},
   "source": [
    "<h1>Faux positif</h1>\n",
    "\n",
    "<h2>Enoncé :</h2>\n",
    "\n",
    "Une maladie touche 0,1% de la population et l'on dispose d'un test de dépistage, fiable à 99%\n",
    "lorsque la personne est atteinte de la maladie et 95% quand elle ne l'est pas.\n",
    "\n",
    "Si une personne fait le test et que ce dernier se révèle positif, quelle est la probabilité que\n",
    "cette personne soit réellement malade ?\n",
    "\n",
    "Ecrire une fonction <tt>simulation nbre_simulations</tt> qui simule cette expérience \"nbre_simulations\" fois et qui renvoie une estimation du taux de faux positifs (personne saine déclarée positive)."
   ]
  },
  {
   "cell_type": "markdown",
   "metadata": {},
   "source": [
    "<h2> Code :</h2>"
   ]
  },
  {
   "cell_type": "code",
   "execution_count": 1,
   "metadata": {
    "collapsed": false
   },
   "outputs": [
    {
     "data": {
      "text/html": [
       "<pre style=\"color:slategray;max-height:100px;overflow:hidden\" \n",
       "onclick=\"\n",
       "if (this.style.maxHeight === 'none') \n",
       "    this.style.maxHeight = '100px';\n",
       "else\n",
       "    this.style.maxHeight = 'none'; \n",
       "\">- : unit -&gt; unit = &lt;fun&gt;\n",
       "</pre>"
      ]
     },
     "execution_count": 1,
     "metadata": {},
     "output_type": "execute_result"
    }
   ],
   "source": [
    "open Random;;\n",
    "Random.self_init;;"
   ]
  },
  {
   "cell_type": "code",
   "execution_count": 2,
   "metadata": {
    "collapsed": false
   },
   "outputs": [
    {
     "data": {
      "text/html": [
       "<pre style=\"color:slategray;max-height:100px;overflow:hidden\" \n",
       "onclick=\"\n",
       "if (this.style.maxHeight === 'none') \n",
       "    this.style.maxHeight = '100px';\n",
       "else\n",
       "    this.style.maxHeight = 'none'; \n",
       "\">val simulation : int -&gt; float = &lt;fun&gt;\n",
       "</pre>"
      ]
     },
     "execution_count": 2,
     "metadata": {},
     "output_type": "execute_result"
    }
   ],
   "source": [
    "let simulation nbre_simulations =\n",
    "    (*let population_atteinte=0.001 in*)\n",
    "    let population_saine   =0.999 in\n",
    "\n",
    "    (*let test_negatif_et_personne_saine=0.95 in*)\n",
    "    let test_positif_et_personne_saine=0.05 in\n",
    "\n",
    "    let test_positif_et_personne_malade=0.99 in\n",
    "    (*let test_negatif_et_personne_malade=0.01 in*)\n",
    "\n",
    "    let rec loop num_essai nbre_positifs faux_positifs =\n",
    "        if num_essai = nbre_simulations then (float_of_int faux_positifs) /. (float_of_int nbre_positifs)\n",
    "        else\n",
    "        if Random.float 1. <= population_saine then\n",
    "           begin (* personne saine *)\n",
    "           if Random.float 1. <= test_positif_et_personne_saine then\n",
    "                (* test positif *)\n",
    "                loop (num_essai+1) (nbre_positifs+1) (faux_positifs+1)\n",
    "           else loop (num_essai+1) (nbre_positifs) (faux_positifs);\n",
    "           end else \n",
    "           begin (* personne malade *)\n",
    "           if Random.float 1. <= test_positif_et_personne_malade then\n",
    "                 (* test positif *)\n",
    "                 loop (num_essai+1) (nbre_positifs+1) (faux_positifs)\n",
    "            else loop (num_essai+1) (nbre_positifs) (faux_positifs);\n",
    "        end in\n",
    "\n",
    "    loop 0 0 0;;"
   ]
  },
  {
   "cell_type": "code",
   "execution_count": 3,
   "metadata": {
    "collapsed": false
   },
   "outputs": [
    {
     "data": {
      "text/html": [
       "<pre style=\"color:slategray;max-height:100px;overflow:hidden\" \n",
       "onclick=\"\n",
       "if (this.style.maxHeight === 'none') \n",
       "    this.style.maxHeight = '100px';\n",
       "else\n",
       "    this.style.maxHeight = 'none'; \n",
       "\">val probabilite : float = 0.979779411764705843\n",
       "</pre>"
      ]
     },
     "execution_count": 3,
     "metadata": {},
     "output_type": "execute_result"
    }
   ],
   "source": [
    "let probabilite = simulation 10000;;\n",
    "let () = assert(0.971<probabilite && probabilite<0.991)"
   ]
  },
  {
   "cell_type": "markdown",
   "metadata": {},
   "source": [
    "<h2> Solution : </h2>\n",
    "\n",
    "On note $P(X|Y)$ la probabilité de l'événement $X$ sachant $Y$.\n",
    "\n",
    "Soit $M$ l'événement \"la personne est malade\".\n",
    "\n",
    "Soit $TP$ l'événement \"le test est positif\".\n",
    "\n",
    "On cherche à calculer $P(M|TP)$.\n",
    "\n",
    "$P(M|TP)=\\frac{P(TP|M).P(M)}{P(TP)}=\\frac{P(TP|M).P(M)}{P(TP\\cap M)+P(TP\\cap \\overline M)}\n",
    "=\\frac{0,99\\times0,001}{0,99\\times0,001+ 0,05\\times0,999}=0,019$.\n",
    "\n",
    "Il y a donc $98,1%$ de faux positifs !"
   ]
  },
  {
   "cell_type": "code",
   "execution_count": null,
   "metadata": {
    "collapsed": true
   },
   "outputs": [],
   "source": []
  }
 ],
 "metadata": {
  "kernelspec": {
   "display_name": "OCaml",
   "language": "ocaml",
   "name": "iocaml"
  },
  "language_info": {
   "name": "ocaml",
   "version": "4.1.0"
  }
 },
 "nbformat": 4,
 "nbformat_minor": 2
}
