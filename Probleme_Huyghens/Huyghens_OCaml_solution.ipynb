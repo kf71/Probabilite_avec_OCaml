{
 "cells": [
  {
   "cell_type": "markdown",
   "metadata": {},
   "source": [
    "<h1> Problème de Huyghens </h1>"
   ]
  },
  {
   "cell_type": "markdown",
   "metadata": {},
   "source": [
    "<h2> Présentation </h2>"
   ]
  },
  {
   "cell_type": "markdown",
   "metadata": {},
   "source": [
    "Trois joueurs A, B et C participent au jeu suivant. Étant donné 4 jetons blancs et 8 jetons noirs, A,\n",
    "B et C tirent au hasard à tour de rôle un jeton (sans le remettre ensuite).\n",
    "Le jeu se poursuit ainsi jusqu’à ce que le premier qui tire un jeton blanc gagne la partie.\n",
    "Sachant que le joueur A commence la partie, suivi de B et C, quelles sont les chances de chacun de\n",
    "l’emporter ?\n",
    "Simuler cette expérience 10 000 fois et calculer les probabilités demandées."
   ]
  },
  {
   "cell_type": "markdown",
   "metadata": {},
   "source": [
    "<h2> Solution </h2>"
   ]
  },
  {
   "cell_type": "markdown",
   "metadata": {},
   "source": [
    "Soient $n$ la probabilité de tirer un jeton noir et $b$ la probabilité de tirer un jeton blanc $b$.\n",
    "\n",
    "$P(A)=P(b)+P(nnnb)+P(nnnnnnb)\n",
    "=\\frac4{12}\n",
    "+\\frac{8\\times7\\times6\\times4}{12\\times11\\times10\\times9}\n",
    "+\\frac{8\\times7\\times6\\times5\\times4\\times3\\times4}{12\\times11\\times10\\times9\\times8\\times7\\times6}\n",
    "=\\frac{7}{15}$\n",
    "\n",
    "$P(B)=P(nb)+P(nnnnb)+P(nnnnnnnb)=\\frac{53}{165}$\n",
    "\n",
    "$P(C)=P(nnb)+P(nnnnnb)+P(nnnnnnnnb)=\\frac{7}{33}$"
   ]
  },
  {
   "cell_type": "markdown",
   "metadata": {},
   "source": [
    "<h2> Code OCaml </h2>"
   ]
  },
  {
   "cell_type": "code",
   "execution_count": 5,
   "metadata": {
    "collapsed": false
   },
   "outputs": [
    {
     "data": {
      "text/html": [
       "<pre style=\"color:slategray;max-height:100px;overflow:hidden\" \n",
       "onclick=\"\n",
       "if (this.style.maxHeight === 'none') \n",
       "    this.style.maxHeight = '100px';\n",
       "else\n",
       "    this.style.maxHeight = 'none'; \n",
       "\">- : unit -&gt; unit = &lt;fun&gt;\n",
       "</pre>"
      ]
     },
     "execution_count": 5,
     "metadata": {},
     "output_type": "execute_result"
    }
   ],
   "source": [
    "open Random;;\n",
    "Random.self_init;;"
   ]
  },
  {
   "cell_type": "code",
   "execution_count": 6,
   "metadata": {
    "collapsed": false
   },
   "outputs": [
    {
     "data": {
      "text/html": [
       "<pre style=\"color:slategray;max-height:100px;overflow:hidden\" \n",
       "onclick=\"\n",
       "if (this.style.maxHeight === 'none') \n",
       "    this.style.maxHeight = '100px';\n",
       "else\n",
       "    this.style.maxHeight = 'none'; \n",
       "\">val jeu : unit -&gt; int = &lt;fun&gt;\n",
       "</pre>"
      ]
     },
     "execution_count": 6,
     "metadata": {},
     "output_type": "execute_result"
    },
    {
     "data": {
      "text/html": [
       "<pre style=\"color:slategray;max-height:100px;overflow:hidden\" \n",
       "onclick=\"\n",
       "if (this.style.maxHeight === 'none') \n",
       "    this.style.maxHeight = '100px';\n",
       "else\n",
       "    this.style.maxHeight = 'none'; \n",
       "\">val joueurs : string list = [&quot;A&quot;; &quot;B&quot;; &quot;C&quot;]\n",
       "</pre>"
      ]
     },
     "execution_count": 6,
     "metadata": {},
     "output_type": "execute_result"
    },
    {
     "data": {
      "text/html": [
       "<pre style=\"color:slategray;max-height:100px;overflow:hidden\" \n",
       "onclick=\"\n",
       "if (this.style.maxHeight === 'none') \n",
       "    this.style.maxHeight = '100px';\n",
       "else\n",
       "    this.style.maxHeight = 'none'; \n",
       "\">val gagnants : int array = [|0; 0; 0|]\n",
       "</pre>"
      ]
     },
     "execution_count": 6,
     "metadata": {},
     "output_type": "execute_result"
    },
    {
     "data": {
      "text/html": [
       "<pre style=\"color:slategray;max-height:100px;overflow:hidden\" \n",
       "onclick=\"\n",
       "if (this.style.maxHeight === 'none') \n",
       "    this.style.maxHeight = '100px';\n",
       "else\n",
       "    this.style.maxHeight = 'none'; \n",
       "\">val nbre_essais : int = 10000\n",
       "</pre>"
      ]
     },
     "execution_count": 6,
     "metadata": {},
     "output_type": "execute_result"
    },
    {
     "data": {
      "text/html": [
       "<pre style=\"color:slategray;max-height:100px;overflow:hidden\" \n",
       "onclick=\"\n",
       "if (this.style.maxHeight === 'none') \n",
       "    this.style.maxHeight = '100px';\n",
       "else\n",
       "    this.style.maxHeight = 'none'; \n",
       "\">val loop : int -&gt; unit = &lt;fun&gt;\n",
       "</pre>"
      ]
     },
     "execution_count": 6,
     "metadata": {},
     "output_type": "execute_result"
    },
    {
     "data": {
      "text/html": [
       "<pre style=\"color:slategray;max-height:100px;overflow:hidden\" \n",
       "onclick=\"\n",
       "if (this.style.maxHeight === 'none') \n",
       "    this.style.maxHeight = '100px';\n",
       "else\n",
       "    this.style.maxHeight = 'none'; \n",
       "\">- : unit = ()\n",
       "</pre>"
      ]
     },
     "execution_count": 6,
     "metadata": {},
     "output_type": "execute_result"
    }
   ],
   "source": [
    "let jeu () =\n",
    "   let rec jeu joueur blanc noir =\n",
    "       if Random.float 1. < (float_of_int blanc /.(float_of_int (blanc+noir)))\n",
    "       then joueur (*on a tiré un blanc*)\n",
    "       else jeu ((joueur+1) mod 3) blanc (noir-1) (*on a tiré un noir*) in\n",
    "    jeu 0 4 8;;\n",
    "\n",
    "\n",
    "let joueurs =[\"A\";\"B\";\"C\"];;\n",
    "let gagnants=[|0;0;0|];; (*compte le nombre d’essais gagnants de $A$, $B$ et $C$.*)\n",
    "let nbre_essais=10000;;\n",
    "\n",
    "let rec loop num_essai =\n",
    "   if num_essai < nbre_essais then begin\n",
    "   let gagnant = jeu () in\n",
    "   gagnants.(gagnant)<-gagnants.(gagnant)+1;\n",
    "   loop (num_essai+1)\n",
    "   end;;\n",
    "\n",
    "loop 0;;"
   ]
  },
  {
   "cell_type": "code",
   "execution_count": 7,
   "metadata": {
    "collapsed": false
   },
   "outputs": [
    {
     "name": "stdout",
     "output_type": "stream",
     "text": [
      "A = 0.4679\n",
      "B = 0.3255\n",
      "C = 0.2066\n"
     ]
    },
    {
     "data": {
      "text/html": [
       "<pre style=\"color:slategray;max-height:100px;overflow:hidden\" \n",
       "onclick=\"\n",
       "if (this.style.maxHeight === 'none') \n",
       "    this.style.maxHeight = '100px';\n",
       "else\n",
       "    this.style.maxHeight = 'none'; \n",
       "\">- : unit = ()\n",
       "</pre>"
      ]
     },
     "execution_count": 7,
     "metadata": {},
     "output_type": "execute_result"
    }
   ],
   "source": [
    "for joueur=0 to 2 do\n",
    "    print_string(List.nth joueurs joueur);\n",
    "    print_string \" = \";\n",
    "    print_float((float_of_int gagnants.(joueur))/.(float_of_int nbre_essais));\n",
    "    print_newline();\n",
    "done;;"
   ]
  },
  {
   "cell_type": "code",
   "execution_count": null,
   "metadata": {
    "collapsed": true
   },
   "outputs": [],
   "source": []
  }
 ],
 "metadata": {
  "kernelspec": {
   "display_name": "OCaml",
   "language": "ocaml",
   "name": "iocaml"
  },
  "language_info": {
   "name": "ocaml",
   "version": "4.1.0"
  }
 },
 "nbformat": 4,
 "nbformat_minor": 2
}
