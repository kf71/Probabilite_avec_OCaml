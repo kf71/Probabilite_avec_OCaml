{
 "cells": [
  {
   "cell_type": "markdown",
   "metadata": {
    "deletable": true,
    "editable": true
   },
   "source": [
    "<h2>Dénombrements</h2>\n",
    "\n",
    "<b>Présentation</b>\n",
    "\n",
    "On donne un ensemble $E$ de cardinal $n$ (i.e. $E$ possède $n$ éléments distincts).\n",
    "\n",
    "\n",
    "<b>Comptage</b>\n",
    "\n",
    "<ol>\n",
    "<li> Calculer le nombre d’arrangements de $p \\leq n$ éléments de cet ensemble en énumérant tous les\n",
    "cas possibles. (i.e. $p$ éléments choisis dans $E$, de façon ordonée, sans répétition). Ex : tiercé dans\n",
    "l’ordre.\n",
    "<li> Calculer le nombre de combinaisons de $p \\leq n$ éléments de cet ensemble en énumérant tous les cas\n",
    "possibles. (i.e. $p$ éléments choisis dans $E$, dans un ordre quelconque, sans répétition). Ex : loto.\n",
    "<li> Calculer le nombre de permutations de cet ensemble en énumérant tous les cas possibles. (i.e. les\n",
    "$n$ éléments de $E$, de façon ordonnée, sans répétition).\n",
    "<li> Un mot $M$ long de $n$ lettres est constitué de $r$ lettres distinctes. La $j^{\\grave eme}$ lettre apparaît $p_j$ fois dans le mot $M$ et donc $p_1 + p_2 + \\dots + p_r = n$. Calculer le nombre d’anagrammes du mot $M$ que\n",
    "l’on peut constituer en énumérant tous les cas possibles (peu import que ceux-ci ait ou non un\n",
    "sens).\n",
    "<li> Calculer le nombre de combinaisons avec répétitions de $p \\neq n$ éléments de cet ensemble en énumérant\n",
    "tous les cas possibles. (i.e. $p$ éléments choisis dans $E$, dans un ordre quelconque, sans\n",
    "répétition). Ex : tous les coloriages de $n$ cartes avec une palette de $p$ couleurs.\n",
    "</ol>\n",
    "\n",
    "<b>Calcul direct</b>\n",
    "\n",
    "Retrouver les résultats précédents en utilisant les formules habituelles.\n",
    "\n",
    "<b>Remarque</b>\n",
    "\n",
    "On évitera d'utiliser la fonction <tt>math.factorial</tt> dans les formules (qui donnent souvent des numérateurs énormes divisés par des très grands dénominateurs).<br>\n",
    "\n",
    "Wikipédia donne une méthode plus efficace pour calculer $\\binom nk$ : [à programmer en itératif et en récursif].\n",
    "\n",
    "Source :https://fr.wikipedia.org/wiki/Combinaison_(math%C3%A9matiques)\n",
    "\n",
    "Un algorithme efficace pour calculer le nombre de combinaisons de $k$ éléments parmi $n$, utilise les identités suivantes ($0 \\leq  k \\leq  n$) :\n",
    "\n",
    "${\\displaystyle {\\binom {n}{k}}={\\binom {n}{n-k}}}$,&nbsp;&nbsp;&nbsp; ${\\displaystyle {\\binom {n+1}{k+1}}={\\frac {n+1}{k+1}}{\\binom {n}{k}}}$&nbsp;&nbsp;&nbsp; et&nbsp;&nbsp;&nbsp; ${\\displaystyle {\\binom {n}{0}}=1}$\n",
    "\n",
    "La première permet de réduire le nombre d'opérations à effectuer en se ramenant à $k \\leq  n/2$. Les deux suivantes permettent de montrer que :\n",
    "\n",
    "${\\displaystyle {\\binom {n}{k}}={\\frac {(n-k+1)}{1}}\\cdot {\\frac {(n-k+2)}{2}}\\cdot \\cdots \\cdot {\\frac {n}{k}}}$\n",
    "\n",
    "À chaque étape de calcul on effectue d'abord la multiplication puis la division pour obtenir un nombre entier (c'est un coefficient binomial), c'est-à-dire que l'on peut employer la division entière. Les calculs intermédiaires restent d'un ordre de grandeur voisin du résultat final (ce ne serait pas le cas si par exemple on utilisait la première formule et la fonction factorielle).\n",
    "\n",
    "Exemples :\n",
    "\n",
    "${\\displaystyle {\\binom {10}{7}}=?\\quad 10-7=3<7},$\n",
    "\n",
    "${\\displaystyle {\\binom {7}{0}}=1\\Rightarrow {\\binom {8}{1}}={\\frac {8}{1}}\\times 1=8\\Rightarrow {\\binom {9}{2}}={\\frac {9}{2}}\\times 8=36\\Rightarrow {\\binom {10}{3}}={\\frac {10}{3}}\\times 36=120\\Rightarrow {\\binom {10}{7}}=120.}$"
   ]
  },
  {
   "cell_type": "code",
   "execution_count": 1,
   "metadata": {
    "collapsed": false,
    "deletable": true,
    "editable": true
   },
   "outputs": [
    {
     "data": {
      "text/html": [
       "<pre style=\"color:slategray;max-height:100px;overflow:hidden\" \n",
       "onclick=\"\n",
       "if (this.style.maxHeight === 'none') \n",
       "    this.style.maxHeight = '100px';\n",
       "else\n",
       "    this.style.maxHeight = 'none'; \n",
       "\">val range : int -&gt; int -&gt; int list = &lt;fun&gt;\n",
       "</pre>"
      ]
     },
     "execution_count": 1,
     "metadata": {},
     "output_type": "execute_result"
    }
   ],
   "source": [
    "let range debut fin =\n",
    "   let rec range i acc =\n",
    "     if i=fin then List.rev acc\n",
    "     else range (i+1) (i::acc) in\n",
    "   range debut [];; "
   ]
  },
  {
   "cell_type": "code",
   "execution_count": 12,
   "metadata": {
    "collapsed": false,
    "deletable": true,
    "editable": true
   },
   "outputs": [
    {
     "data": {
      "text/html": [
       "<pre style=\"color:slategray;max-height:100px;overflow:hidden\" \n",
       "onclick=\"\n",
       "if (this.style.maxHeight === 'none') \n",
       "    this.style.maxHeight = '100px';\n",
       "else\n",
       "    this.style.maxHeight = 'none'; \n",
       "\">val list_del : 'a list -&gt; int -&gt; 'a list = &lt;fun&gt;\n",
       "</pre>"
      ]
     },
     "execution_count": 12,
     "metadata": {},
     "output_type": "execute_result"
    }
   ],
   "source": [
    "let list_del liste index =\n",
    "   let rec loop num restant acc =\n",
    "        match restant with\n",
    "        | [] -> List.rev acc\n",
    "        | hd::tl -> loop (num+1) tl (if num=index then acc else (hd::acc)) in\n",
    "        \n",
    "    loop 0 liste [];;"
   ]
  },
  {
   "cell_type": "code",
   "execution_count": 13,
   "metadata": {
    "collapsed": false,
    "deletable": true,
    "editable": true
   },
   "outputs": [
    {
     "data": {
      "text/html": [
       "<pre style=\"color:slategray;max-height:100px;overflow:hidden\" \n",
       "onclick=\"\n",
       "if (this.style.maxHeight === 'none') \n",
       "    this.style.maxHeight = '100px';\n",
       "else\n",
       "    this.style.maxHeight = 'none'; \n",
       "\">- : int list = [0; 1; 2; 4; 5]\n",
       "</pre>"
      ]
     },
     "execution_count": 13,
     "metadata": {},
     "output_type": "execute_result"
    }
   ],
   "source": [
    "list_del [0;1;2;3;4;5] 3;;"
   ]
  },
  {
   "cell_type": "code",
   "execution_count": 15,
   "metadata": {
    "collapsed": false,
    "deletable": true,
    "editable": true
   },
   "outputs": [
    {
     "data": {
      "text/html": [
       "<pre style=\"color:slategray;max-height:100px;overflow:hidden\" \n",
       "onclick=\"\n",
       "if (this.style.maxHeight === 'none') \n",
       "    this.style.maxHeight = '100px';\n",
       "else\n",
       "    this.style.maxHeight = 'none'; \n",
       "\">val arrangement : int -&gt; int -&gt; int = &lt;fun&gt;\n",
       "</pre>"
      ]
     },
     "execution_count": 15,
     "metadata": {},
     "output_type": "execute_result"
    }
   ],
   "source": [
    "let arrangement n p =\n",
    "    \"à compléter\""
   ]
  },
  {
   "cell_type": "code",
   "execution_count": 16,
   "metadata": {
    "collapsed": false,
    "deletable": true,
    "editable": true
   },
   "outputs": [
    {
     "data": {
      "text/html": [
       "<pre style=\"color:slategray;max-height:100px;overflow:hidden\" \n",
       "onclick=\"\n",
       "if (this.style.maxHeight === 'none') \n",
       "    this.style.maxHeight = '100px';\n",
       "else\n",
       "    this.style.maxHeight = 'none'; \n",
       "\">- : int = 210\n",
       "</pre>"
      ]
     },
     "execution_count": 16,
     "metadata": {},
     "output_type": "execute_result"
    }
   ],
   "source": [
    "arrangement 7 3"
   ]
  },
  {
   "cell_type": "code",
   "execution_count": 18,
   "metadata": {
    "collapsed": false,
    "deletable": true,
    "editable": true
   },
   "outputs": [
    {
     "data": {
      "text/html": [
       "<pre style=\"color:slategray;max-height:100px;overflow:hidden\" \n",
       "onclick=\"\n",
       "if (this.style.maxHeight === 'none') \n",
       "    this.style.maxHeight = '100px';\n",
       "else\n",
       "    this.style.maxHeight = 'none'; \n",
       "\">- : int = 6720\n",
       "</pre>"
      ]
     },
     "execution_count": 18,
     "metadata": {},
     "output_type": "execute_result"
    }
   ],
   "source": [
    "arrangement 8 5"
   ]
  },
  {
   "cell_type": "code",
   "execution_count": 19,
   "metadata": {
    "collapsed": false,
    "deletable": true,
    "editable": true
   },
   "outputs": [
    {
     "data": {
      "text/html": [
       "<pre style=\"color:slategray;max-height:100px;overflow:hidden\" \n",
       "onclick=\"\n",
       "if (this.style.maxHeight === 'none') \n",
       "    this.style.maxHeight = '100px';\n",
       "else\n",
       "    this.style.maxHeight = 'none'; \n",
       "\">- : int = 132\n",
       "</pre>"
      ]
     },
     "execution_count": 19,
     "metadata": {},
     "output_type": "execute_result"
    }
   ],
   "source": [
    "arrangement 12 2"
   ]
  },
  {
   "cell_type": "code",
   "execution_count": null,
   "metadata": {
    "collapsed": true,
    "deletable": true,
    "editable": true
   },
   "outputs": [],
   "source": []
  }
 ],
 "metadata": {
  "kernelspec": {
   "display_name": "OCaml",
   "language": "ocaml",
   "name": "iocaml"
  },
  "language_info": {
   "name": "ocaml",
   "version": "4.1.0"
  }
 },
 "nbformat": 4,
 "nbformat_minor": 2
}
