{
 "cells": [
  {
   "cell_type": "markdown",
   "metadata": {
    "deletable": true,
    "editable": true
   },
   "source": [
    "<h1>Entropie statistique: N niveaux différents</h1>\n",
    "\n",
    "<h1>Présentation</h1>\n",
    "\n",
    "<h2>Principe</h2>\n",
    "\n",
    "On cherche tous les $N$-uplets $\\{n_0,n_1,...,n_{N-1}\\}$ tel que $n_i\\in\\mathbb{N}$ vérifiant\n",
    "$$\\left\\{\\begin{matrix}\n",
    "n_0+n_1+...+n_{N-1}=n_{tot}\\\\\n",
    "n_0.e_0+n_1.e_1+...+n_{N-1}.e_{N-1}=e_{tot}\n",
    "\\end{matrix}\\right.$$\n",
    "avec $n_{tot}$, $e_i$ et $e_{tot}$ des constantes données.\n",
    "\n",
    "<h2>Contexte</h2>\n",
    "\n",
    "Soit un système $\\Sigma$, isolé, d'énergie totale $e_{tot}$, constitué de $n_{tot}$ particules pouvant occuper $N$ niveaux d'énergie $e_i$ (notés $e_0$, $e_1$,... $e_{N-1}$).\n",
    "\n",
    "Le niveau d'énergie $e_i$ est occupé par $n_i$ particules.\n",
    "\n",
    "La conservation de la matière impose: $n_0+n_1+...+n_{N-1}=n_{tot}$.\n",
    "\n",
    "La conservation de l'énergie impose: $n_0.e_0+n_1.e_1+...+n_{N-1}.e_{N-1}=e_{tot}$.<br>\n",
    "\n",
    "Exemple: $N=4$ avec $e_0=0$, $e_1=\\varepsilon$, $e_2=2.\\varepsilon$, $e_3=3.\\varepsilon$, $n_{tot}=3$ particules notées $A$, $B$, $C$ et $e_{tot}=3.\\varepsilon$.\n",
    "\n",
    "On a:\n",
    "<table>\n",
    "<tr><td>Niveaux<br> d'énergie </td><th colspan=\"10\" style=\"text-align:center;\">Configurations</th></tr>\n",
    "<tr><td>$3.\\varepsilon$ </td><td> </td><td> A </td><td> B  </td><td> C </td><td>    </td><td>    </td><td>    </td><td>    </td><td>    </td><td>    </td></tr>\n",
    "<tr><td>$2.\\varepsilon$ </td><td> </td><td>    </td><td>     </td><td>     </td><td> A </td><td> A </td><td> B </td><td> B </td><td> C </td><td> C </td></tr>\n",
    "<tr><td>$\\varepsilon$ </td><td>ABC </td><td>    </td><td>     </td><td>     </td><td> B </td><td> C </td><td> A </td><td> C </td><td> A </td><td> B </td></tr>\n",
    "<tr><td>$0$                          </td><td> </td><td>BC</td><td>AC</td><td>AB</td><td> C </td><td> B </td><td> C </td><td> A </td><td> B </td><td> A </td></tr>\n",
    "</table>\n",
    "\n",
    "Si les particules $A$, $B$ et $C$ sont <b> discernables</b> (i.e. on peut différencier les particules), on a $\\Omega=10$ $N$-uplets possibles:\n",
    "\\{0,1,0,0\\}, \\{2,0,0,1\\} trois fois et \\{1,1,1,0\\} six fois.\n",
    "\n",
    "Si les particules $A$, $B$ et $C$ sont <b> indiscernables</b> (i.e. rien ne peut différencier les particules), on a $\\Omega=3$ $N$-uplets possibles: \\{0,1,0,0\\}, \\{2,0,0,1\\} et \\{1,1,1,0\\}.<br>\n",
    "\n",
    "Les $\\Omega$ $N$-uplets représentent les états microscopiques compatibles avec les conditions macroscopiques que l'on a imposées \n",
    "(ici: $n_{tot}=3$ et $e_{tot}=3.\\varepsilon$).\n",
    "\n",
    "<h2>Ensemble micro-canonique</h2>\n",
    "\n",
    "En physique statistique, on définit l'ensemble micro-canonique comme l'ensemble des répliques fictives d'un système réel dont l'énergie ($e_{tot}$), le volume ($V$) et le nombre de particules ($n_{tot}$) sont fixés.\n",
    "\n",
    "L'<b>hypothèse micro-canonique</b> consiste à supposer que, quand un système est <b>isolé</b> et en équilibre, celui-ci se trouve avec probabilités égales dans chacun de ses micro-états accessibles.<br>\n",
    "%wikipedia\n",
    "\n",
    "Dans l'exemple ci-dessus, pour des particules discernables, $\\Omega=10$ et la probabilité de chaque micro-état est $P_\\ell=\\frac1{10}$.\n",
    "\n",
    "<h2>Lien avec l'entropie</h2>\n",
    "\n",
    "On appelle entropie statistique, dans un état macroscopique donné, la quantité:\n",
    "\n",
    "$$S=-k_B.\\sum_{\\ell}P_\\ell.\\ln(P_\\ell)$$\n",
    "\n",
    "D'après l'hypothèse micro-canonique $P_\\ell=\\frac1\\Omega$ où $\\Omega$ est la nombre de micro-états accessibles.\n",
    "\n",
    "Donc: $S=-k_B.\\sum_{\\ell}P_\\ell.\\ln(P_\\ell)=-k_B.\\sum_{\\ell=1}^\\Omega\\frac1\\Omega.\\ln\\left(\\frac1\\Omega\\right)=k_B.\\Omega.\\frac1\\Omega.\\ln(\\Omega)=k_B.\\ln(\\Omega)$<br>\n",
    "\n",
    "Dans l'exemple ci-dessus: $S=k_B.\\ln(10)$ pour des particules discernables.\n",
    "\n",
    "<h2>Algorithme</h2>\n",
    "\n",
    "Ecrire une fonction <tt> microetats(niveaux\\_energie,nbre\\_particules,energie\\_totale,indiscernable)</tt> qui prend en arguments: <tt> niveaux\\_energie</tt>: la liste des niveaux d'énergie, <tt> nbre\\_particules</tt>: l'entier $n_{tot}$, <tt> energie\\_totale</tt> l'entier $e_{tot}$ et <tt> indiscernable</tt>: un booléen indiquant le type de particules.\n",
    "\n",
    "La fonction renvoie la liste des $\\Omega$ $N$-uplets (sous le forme de listes) triée à l'aide de la fonction <tt> sort</tt>.\n",
    "\n",
    "<pre>\n",
    "Exemple:\n",
    "entrée\n",
    "[0,1,2,3],3,3,True\n",
    "sortie\n",
    "[[0, 3, 0, 0], [1, 1, 1, 0], [2, 0, 0, 1]]\n",
    "\n",
    "entrée\n",
    "[0,1,2,3],3,3,False\n",
    "sortie\n",
    "[[0, 3, 0, 0], [1, 1, 1, 0], [1, 1, 1, 0], [1, 1, 1, 0], [1, 1, 1, 0], [1, 1, 1, 0],\n",
    " [1, 1, 1, 0], [2, 0, 0, 1], [2, 0, 0, 1], [2, 0, 0, 1]]\n",
    "</pre>"
   ]
  },
  {
   "cell_type": "code",
   "execution_count": 1,
   "metadata": {
    "collapsed": false,
    "deletable": true,
    "editable": true
   },
   "outputs": [
    {
     "data": {
      "text/html": [
       "<pre style=\"color:slategray;max-height:100px;overflow:hidden\" \n",
       "onclick=\"\n",
       "if (this.style.maxHeight === 'none') \n",
       "    this.style.maxHeight = '100px';\n",
       "else\n",
       "    this.style.maxHeight = 'none'; \n",
       "\">val array_sum : int array -&gt; int = &lt;fun&gt;\n",
       "</pre>"
      ]
     },
     "execution_count": 1,
     "metadata": {},
     "output_type": "execute_result"
    }
   ],
   "source": [
    "let array_sum l = Array.fold_right (+) l 0"
   ]
  },
  {
   "cell_type": "code",
   "execution_count": 5,
   "metadata": {
    "collapsed": false,
    "deletable": true,
    "editable": true
   },
   "outputs": [
    {
     "data": {
      "text/html": [
       "<pre style=\"color:slategray;max-height:100px;overflow:hidden\" \n",
       "onclick=\"\n",
       "if (this.style.maxHeight === 'none') \n",
       "    this.style.maxHeight = '100px';\n",
       "else\n",
       "    this.style.maxHeight = 'none'; \n",
       "\">val microetats : int list -&gt; int -&gt; int -&gt; bool -&gt; int list list = &lt;fun&gt;\n",
       "</pre>"
      ]
     },
     "execution_count": 5,
     "metadata": {},
     "output_type": "execute_result"
    }
   ],
   "source": [
    "let microetats niveaux_energie nbre_particules energie_totale indiscernable =\n",
    "    \"à compléter\";;"
   ]
  },
  {
   "cell_type": "code",
   "execution_count": 6,
   "metadata": {
    "collapsed": false,
    "deletable": true,
    "editable": true
   },
   "outputs": [
    {
     "data": {
      "text/html": [
       "<pre style=\"color:slategray;max-height:100px;overflow:hidden\" \n",
       "onclick=\"\n",
       "if (this.style.maxHeight === 'none') \n",
       "    this.style.maxHeight = '100px';\n",
       "else\n",
       "    this.style.maxHeight = 'none'; \n",
       "\">- : int list list = [[0; 3; 0; 0]; [1; 1; 1; 0]; [2; 0; 0; 1]]\n",
       "</pre>"
      ]
     },
     "execution_count": 6,
     "metadata": {},
     "output_type": "execute_result"
    }
   ],
   "source": [
    "microetats [0;1;2;3] 3 3 true"
   ]
  },
  {
   "cell_type": "code",
   "execution_count": 7,
   "metadata": {
    "collapsed": false,
    "deletable": true,
    "editable": true
   },
   "outputs": [
    {
     "data": {
      "text/html": [
       "<pre style=\"color:slategray;max-height:100px;overflow:hidden\" \n",
       "onclick=\"\n",
       "if (this.style.maxHeight === 'none') \n",
       "    this.style.maxHeight = '100px';\n",
       "else\n",
       "    this.style.maxHeight = 'none'; \n",
       "\">- : int list list =\n",
       "[[0; 3; 0; 0]; [1; 1; 1; 0]; [1; 1; 1; 0]; [1; 1; 1; 0]; [1; 1; 1; 0];\n",
       " [1; 1; 1; 0]; [1; 1; 1; 0]; [2; 0; 0; 1]; [2; 0; 0; 1]; [2; 0; 0; 1]]\n",
       "</pre>"
      ]
     },
     "execution_count": 7,
     "metadata": {},
     "output_type": "execute_result"
    }
   ],
   "source": [
    "microetats [0;1;2;3] 3 3 false"
   ]
  },
  {
   "cell_type": "code",
   "execution_count": null,
   "metadata": {
    "collapsed": true,
    "deletable": true,
    "editable": true
   },
   "outputs": [],
   "source": []
  }
 ],
 "metadata": {
  "kernelspec": {
   "display_name": "OCaml",
   "language": "ocaml",
   "name": "iocaml"
  },
  "language_info": {
   "name": "ocaml",
   "version": "4.1.0"
  }
 },
 "nbformat": 4,
 "nbformat_minor": 2
}
