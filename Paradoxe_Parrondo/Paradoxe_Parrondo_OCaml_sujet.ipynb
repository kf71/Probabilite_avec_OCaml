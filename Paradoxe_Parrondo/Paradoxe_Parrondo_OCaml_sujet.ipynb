{
 "cells": [
  {
   "cell_type": "markdown",
   "metadata": {
    "deletable": true,
    "editable": true
   },
   "source": [
    "<h1> Paradoxe de Parrondo </h1>\n",
    "<h2>Présentation</h2>\n",
    "Soit $A$ un jeu de pile ou face avec une pièce biaisée (pile avec une probabilité de $p=\\frac12-\\varepsilon$, face avec une probabilité de $\\frac12+\\varepsilon$ où $\\varepsilon>0$). On lance la pièce. Si on obtient pile, on gagne un jeton (ou un euro); sinon on perd un jeton (ou un euro).\n",
    "\n",
    "Soit $B$ un jeu avec deux pièces biaisées. La pièce 1 donne pile avec une probabilité $p_1=\\frac1{10}-\\varepsilon$ et la pièce 2 donne pile avec une probabilité $p_2=\\frac34-\\varepsilon$. Si le joueur a un capital $K$ (de jetons ou d'euros) qui est un multiple de $m=3$, on lance la pièce 1, sinon on lance la pièce 2.\n",
    "Comme dans le jeu $A$, si on obtient pile, on gagne un jeton (ou un euro); sinon on perd un jeton (ou un euro).\n",
    "\n",
    "Soit $AB$ un jeu avec une pièce non biaisée. On lance la pièce. Si on obtient pile, on joue à $A$; sinon on joue à $B$.\n",
    "\n",
    "On joue aléatoirement, 100 fois, au jeu $A$ ou au jeu $B$. C'est-à-dire qu'avec une pièce non biaisée, on décide - à chaque tour - si on joue à $A$ ou à $B$. \n"
   ]
  },
  {
   "cell_type": "markdown",
   "metadata": {
    "deletable": true,
    "editable": true
   },
   "source": [
    "<h3>Questions</h3>\n",
    "\n",
    "On prend $\\varepsilon=\\frac5{1000}$.\n",
    "\n",
    "On démarre avec un capital $K=0$."
   ]
  },
  {
   "cell_type": "markdown",
   "metadata": {
    "deletable": true,
    "editable": true
   },
   "source": [
    "<ol>\n",
    "<li> Simuler 100 000 fois, l'évolution du capital $K$ d'un joueur qui joue $k$ fois au jeu $A$ avec $k\\in[1,100]$. On pourra tracer l'évolution de la moyenne de $K$ en fonction de $k$ à la fin de l'exercice pour vérifier que $A$ est un jeu perdant (i.e. qui provoque la ruine du joueur s'il joue suffisamment longtemps).\n",
    "On commencera par créer:\n",
    "<ul>\n",
    "<li> une fonction $jeuA(p)$ qui prend en argument p la probabilité p et qui renvoie le gain du joueur (s'il gagne ou perd au lancer de pièce).\n",
    "<li> Une fonction $playA(p)$ qui prend le même argument et qui simule une partie de 100 tours du jeuA et renvoie la liste du capital à chaque tour.\n",
    "<li> Une fonction $simulation(p)$ prenant le même argument, qui simmule 100 000 fois une partie de 100 tours et renvoie sous forme de liste la moyenne (sur 100000 calcul) du capital du joueur à chaque tour.\n",
    "</ul></ol>"
   ]
  },
  {
   "cell_type": "code",
   "execution_count": 1,
   "metadata": {
    "collapsed": false,
    "deletable": true,
    "editable": true
   },
   "outputs": [
    {
     "data": {
      "text/html": [
       "<pre style=\"color:slategray;max-height:100px;overflow:hidden\" \n",
       "onclick=\"\n",
       "if (this.style.maxHeight === 'none') \n",
       "    this.style.maxHeight = '100px';\n",
       "else\n",
       "    this.style.maxHeight = 'none'; \n",
       "\">- : unit -&gt; unit = &lt;fun&gt;\n",
       "</pre>"
      ]
     },
     "execution_count": 1,
     "metadata": {},
     "output_type": "execute_result"
    },
    {
     "data": {
      "text/html": [
       "<pre style=\"color:slategray;max-height:100px;overflow:hidden\" \n",
       "onclick=\"\n",
       "if (this.style.maxHeight === 'none') \n",
       "    this.style.maxHeight = '100px';\n",
       "else\n",
       "    this.style.maxHeight = 'none'; \n",
       "\">val k0 : int = 0\n",
       "</pre>"
      ]
     },
     "execution_count": 1,
     "metadata": {},
     "output_type": "execute_result"
    },
    {
     "data": {
      "text/html": [
       "<pre style=\"color:slategray;max-height:100px;overflow:hidden\" \n",
       "onclick=\"\n",
       "if (this.style.maxHeight === 'none') \n",
       "    this.style.maxHeight = '100px';\n",
       "else\n",
       "    this.style.maxHeight = 'none'; \n",
       "\">val jeuA : float -&gt; int = &lt;fun&gt;\n",
       "</pre>"
      ]
     },
     "execution_count": 1,
     "metadata": {},
     "output_type": "execute_result"
    },
    {
     "data": {
      "text/html": [
       "<pre style=\"color:slategray;max-height:100px;overflow:hidden\" \n",
       "onclick=\"\n",
       "if (this.style.maxHeight === 'none') \n",
       "    this.style.maxHeight = '100px';\n",
       "else\n",
       "    this.style.maxHeight = 'none'; \n",
       "\">val playA : float -&gt; int array = &lt;fun&gt;\n",
       "</pre>"
      ]
     },
     "execution_count": 1,
     "metadata": {},
     "output_type": "execute_result"
    },
    {
     "data": {
      "text/html": [
       "<pre style=\"color:slategray;max-height:100px;overflow:hidden\" \n",
       "onclick=\"\n",
       "if (this.style.maxHeight === 'none') \n",
       "    this.style.maxHeight = '100px';\n",
       "else\n",
       "    this.style.maxHeight = 'none'; \n",
       "\">val array_add : int array -&gt; int array -&gt; int array = &lt;fun&gt;\n",
       "</pre>"
      ]
     },
     "execution_count": 1,
     "metadata": {},
     "output_type": "execute_result"
    },
    {
     "data": {
      "text/html": [
       "<pre style=\"color:slategray;max-height:100px;overflow:hidden\" \n",
       "onclick=\"\n",
       "if (this.style.maxHeight === 'none') \n",
       "    this.style.maxHeight = '100px';\n",
       "else\n",
       "    this.style.maxHeight = 'none'; \n",
       "\">val simulationA : float -&gt; float array = &lt;fun&gt;\n",
       "</pre>"
      ]
     },
     "execution_count": 1,
     "metadata": {},
     "output_type": "execute_result"
    }
   ],
   "source": [
    "open Random;;\n",
    "Random.self_init;;\n",
    "\n",
    "let k0=0;;\n",
    "    \n",
    "let jeuA p =\n",
    "    \"à compléter\"\n",
    "    \n",
    "let playA p =\n",
    "    \"à compléter\"\n",
    "\n",
    "let array_add a b =\n",
    "    Array.init (Array.length a) (fun i->a.(i)+b.(i));;\n",
    "    \n",
    "let simulationA p =\n",
    "    \"à compléter\"\n"
   ]
  },
  {
   "cell_type": "code",
   "execution_count": 2,
   "metadata": {
    "collapsed": false,
    "deletable": true,
    "editable": true
   },
   "outputs": [
    {
     "data": {
      "text/html": [
       "<pre style=\"color:slategray;max-height:100px;overflow:hidden\" \n",
       "onclick=\"\n",
       "if (this.style.maxHeight === 'none') \n",
       "    this.style.maxHeight = '100px';\n",
       "else\n",
       "    this.style.maxHeight = 'none'; \n",
       "\">- : unit = ()\n",
       "</pre>"
      ]
     },
     "execution_count": 2,
     "metadata": {},
     "output_type": "execute_result"
    }
   ],
   "source": [
    "let pA1=1./.2.-.0.005 in\n",
    "let res = (simulationA pA1).(99) in\n",
    "assert ((float_of_int k0)+.(2.*.pA1-.1.-.0.01)*.100. < res && res < (float_of_int k0)+.(2.*.pA1-.1.+.0.01)*.100.)"
   ]
  },
  {
   "cell_type": "markdown",
   "metadata": {
    "deletable": true,
    "editable": true
   },
   "source": [
    "<ol start=\"2\">\n",
    "<li> Quelle est l'espérance $E_A$ du jeu $A$ en utilisant les formule de probabilité traditionelle ? On pourra tracer $E_A$ en fonction de $k$ à la fin de l'exercice pour vérifier que ce calcul se superpose à la simulation précédente.\n",
    "</ol>"
   ]
  },
  {
   "cell_type": "code",
   "execution_count": 3,
   "metadata": {
    "collapsed": false,
    "deletable": true,
    "editable": true
   },
   "outputs": [
    {
     "data": {
      "text/html": [
       "<pre style=\"color:slategray;max-height:100px;overflow:hidden\" \n",
       "onclick=\"\n",
       "if (this.style.maxHeight === 'none') \n",
       "    this.style.maxHeight = '100px';\n",
       "else\n",
       "    this.style.maxHeight = 'none'; \n",
       "\">val calculA : int -&gt; float -&gt; float = &lt;fun&gt;\n",
       "</pre>"
      ]
     },
     "execution_count": 3,
     "metadata": {},
     "output_type": "execute_result"
    }
   ],
   "source": [
    "let calculA n p =\n",
    "    (* esperance du jeu A au bout de n tours *)\n",
    "        \"à compléter\"\n"
   ]
  },
  {
   "cell_type": "code",
   "execution_count": 4,
   "metadata": {
    "collapsed": false,
    "deletable": true,
    "editable": true
   },
   "outputs": [
    {
     "data": {
      "text/html": [
       "<pre style=\"color:slategray;max-height:100px;overflow:hidden\" \n",
       "onclick=\"\n",
       "if (this.style.maxHeight === 'none') \n",
       "    this.style.maxHeight = '100px';\n",
       "else\n",
       "    this.style.maxHeight = 'none'; \n",
       "\">- : unit = ()\n",
       "</pre>"
      ]
     },
     "execution_count": 4,
     "metadata": {},
     "output_type": "execute_result"
    }
   ],
   "source": [
    "let pA1=1./.2.-.0.005 in\n",
    "let res1 = calculA 100 pA1 in\n",
    "let res2 = calculA 1000 pA1 in\n",
    "assert (res1=(float_of_int k0+.100.*.(2.*.pA1-.1.)) && res2= (float_of_int k0+.1000.*.(2.*.pA1-.1.)))"
   ]
  },
  {
   "cell_type": "markdown",
   "metadata": {
    "deletable": true,
    "editable": true
   },
   "source": [
    "<ol start=\"3\">\n",
    "<li> Simuler 100 000 fois, l'évolution du capital $K$ d'un joueur qui joue $k$ fois au jeu $B$ avec $k\\in[1,100]$. On pourra tracer l'évolution de la moyenne de $K$ en fonction de $k$ pour vérifier que $B$ est un jeu perdant.\n",
    "On commencera par créer:\n",
    "<ul>\n",
    "<li> une fonction $jeuB(K,p1,p2)$ qui prend en argument K le capital, p1 et p2 les probabailtés et qui renvoie le gain du joueur (s'il gagne ou perd au lancer de pièce).\n",
    "<li> Une fonction $playB(p1,p2)$ qui simule une partie de 100 tours du jeuB et renvoie la liste du capital à chaque tour.\n",
    "<li> Une fonction $simulationB(p)$ prenant le même argument, qui simmule 100 000 fois une partie de 100 tours et renvoie sous forme de liste la moyenne (sur 100000 calcul) du capital du joueur à chaque tour.</ul></ol>"
   ]
  },
  {
   "cell_type": "code",
   "execution_count": 5,
   "metadata": {
    "collapsed": false,
    "deletable": true,
    "editable": true
   },
   "outputs": [
    {
     "data": {
      "text/html": [
       "<pre style=\"color:slategray;max-height:100px;overflow:hidden\" \n",
       "onclick=\"\n",
       "if (this.style.maxHeight === 'none') \n",
       "    this.style.maxHeight = '100px';\n",
       "else\n",
       "    this.style.maxHeight = 'none'; \n",
       "\">val jeuB : int -&gt; float -&gt; float -&gt; int = &lt;fun&gt;\n",
       "</pre>"
      ]
     },
     "execution_count": 5,
     "metadata": {},
     "output_type": "execute_result"
    },
    {
     "data": {
      "text/html": [
       "<pre style=\"color:slategray;max-height:100px;overflow:hidden\" \n",
       "onclick=\"\n",
       "if (this.style.maxHeight === 'none') \n",
       "    this.style.maxHeight = '100px';\n",
       "else\n",
       "    this.style.maxHeight = 'none'; \n",
       "\">val playB : float -&gt; float -&gt; int array = &lt;fun&gt;\n",
       "</pre>"
      ]
     },
     "execution_count": 5,
     "metadata": {},
     "output_type": "execute_result"
    },
    {
     "data": {
      "text/html": [
       "<pre style=\"color:slategray;max-height:100px;overflow:hidden\" \n",
       "onclick=\"\n",
       "if (this.style.maxHeight === 'none') \n",
       "    this.style.maxHeight = '100px';\n",
       "else\n",
       "    this.style.maxHeight = 'none'; \n",
       "\">val simulationB : float -&gt; float -&gt; float array = &lt;fun&gt;\n",
       "</pre>"
      ]
     },
     "execution_count": 5,
     "metadata": {},
     "output_type": "execute_result"
    }
   ],
   "source": [
    "let jeuB k p1 p2 =\n",
    "    (*\n",
    "    k = kapital\n",
    "    p1 = proba de gain si K est multiple de 3\n",
    "    p2 = proba de gain si K n'est pas multiple de 3\n",
    "    *)\n",
    "    \"à compléter\"\n",
    "\n",
    "    \n",
    "let playB p1 p2 =\n",
    "    \"à compléter\"\n",
    "    \n",
    "let simulationB p1 p2 =\n",
    "    \"à compléter\"\n"
   ]
  },
  {
   "cell_type": "markdown",
   "metadata": {
    "deletable": true,
    "editable": true
   },
   "source": [
    "<ol start=\"4\">\n",
    "<li> Quelle est l'espérance $E_B$ du jeu $B$ ? (On calculera les probabilités par récurrence).Tracer $E_B$ en fonction de $k$ à la fin de l'exercice pour vérifier que ce calcul se superpose à la simulation précédente.\n",
    "</ol>"
   ]
  },
  {
   "cell_type": "code",
   "execution_count": 6,
   "metadata": {
    "collapsed": false,
    "deletable": true,
    "editable": true
   },
   "outputs": [
    {
     "data": {
      "text/html": [
       "<pre style=\"color:slategray;max-height:100px;overflow:hidden\" \n",
       "onclick=\"\n",
       "if (this.style.maxHeight === 'none') \n",
       "    this.style.maxHeight = '100px';\n",
       "else\n",
       "    this.style.maxHeight = 'none'; \n",
       "\">val list_pos : 'a list -&gt; 'a -&gt; int = &lt;fun&gt;\n",
       "</pre>"
      ]
     },
     "execution_count": 6,
     "metadata": {},
     "output_type": "execute_result"
    }
   ],
   "source": [
    "let list_pos liste element =\n",
    "    \"à compléter\""
   ]
  },
  {
   "cell_type": "code",
   "execution_count": 7,
   "metadata": {
    "collapsed": false,
    "deletable": true,
    "editable": true
   },
   "outputs": [
    {
     "data": {
      "text/html": [
       "<pre style=\"color:slategray;max-height:100px;overflow:hidden\" \n",
       "onclick=\"\n",
       "if (this.style.maxHeight === 'none') \n",
       "    this.style.maxHeight = '100px';\n",
       "else\n",
       "    this.style.maxHeight = 'none'; \n",
       "\">val pB1 : float = 0.095\n",
       "</pre>"
      ]
     },
     "execution_count": 7,
     "metadata": {},
     "output_type": "execute_result"
    },
    {
     "data": {
      "text/html": [
       "<pre style=\"color:slategray;max-height:100px;overflow:hidden\" \n",
       "onclick=\"\n",
       "if (this.style.maxHeight === 'none') \n",
       "    this.style.maxHeight = '100px';\n",
       "else\n",
       "    this.style.maxHeight = 'none'; \n",
       "\">val pB2 : float = 0.745\n",
       "</pre>"
      ]
     },
     "execution_count": 7,
     "metadata": {},
     "output_type": "execute_result"
    },
    {
     "data": {
      "text/html": [
       "<pre style=\"color:slategray;max-height:100px;overflow:hidden\" \n",
       "onclick=\"\n",
       "if (this.style.maxHeight === 'none') \n",
       "    this.style.maxHeight = '100px';\n",
       "else\n",
       "    this.style.maxHeight = 'none'; \n",
       "\">val calculB : int -&gt; float -&gt; float -&gt; float = &lt;fun&gt;\n",
       "</pre>"
      ]
     },
     "execution_count": 7,
     "metadata": {},
     "output_type": "execute_result"
    }
   ],
   "source": [
    "let pB1=1./.10.-.0.005;;\n",
    "let pB2=3./.4.-.0.005;;\n",
    "\n",
    "let calculB n p1 p2 =\n",
    "    \"à compléter\"\n"
   ]
  },
  {
   "cell_type": "code",
   "execution_count": 9,
   "metadata": {
    "collapsed": false,
    "deletable": true,
    "editable": true
   },
   "outputs": [
    {
     "name": "stdout",
     "output_type": "stream",
     "text": [
      "-1.40492\n",
      "-1.39232016825"
     ]
    },
    {
     "data": {
      "text/html": [
       "<pre style=\"color:slategray;max-height:100px;overflow:hidden\" \n",
       "onclick=\"\n",
       "if (this.style.maxHeight === 'none') \n",
       "    this.style.maxHeight = '100px';\n",
       "else\n",
       "    this.style.maxHeight = 'none'; \n",
       "\">- : unit = ()\n",
       "</pre>"
      ]
     },
     "execution_count": 9,
     "metadata": {},
     "output_type": "execute_result"
    }
   ],
   "source": [
    "let res1 = (simulationB pB1 pB2).(99) in\n",
    "let res2 = calculB 100 pB1 pB2 in\n",
    "print_float res1;print_newline();print_float res2;\n",
    "assert (res2-.0.03 <res1 && res1<res2+.0.03)"
   ]
  },
  {
   "cell_type": "markdown",
   "metadata": {
    "deletable": true,
    "editable": true
   },
   "source": [
    "<ol start=\"5\">\n",
    "<li> Simuler 100 000 fois, l'évolution du capital $K$ d'un joueur qui joue $k$ fois au jeu $AB$ avec $k\\in[1,100]$. Tracer l'évolution de la moyenne de $K$ en fonction de $k$.\n",
    "</ol>"
   ]
  },
  {
   "cell_type": "code",
   "execution_count": 9,
   "metadata": {
    "collapsed": false,
    "deletable": true,
    "editable": true
   },
   "outputs": [
    {
     "data": {
      "text/html": [
       "<pre style=\"color:slategray;max-height:100px;overflow:hidden\" \n",
       "onclick=\"\n",
       "if (this.style.maxHeight === 'none') \n",
       "    this.style.maxHeight = '100px';\n",
       "else\n",
       "    this.style.maxHeight = 'none'; \n",
       "\">val playA_et_B : float -&gt; float -&gt; float -&gt; int array = &lt;fun&gt;\n",
       "</pre>"
      ]
     },
     "execution_count": 9,
     "metadata": {},
     "output_type": "execute_result"
    }
   ],
   "source": [
    "let playA_et_B p p1 p2 =\n",
    "     \"à compléter\"\n"
   ]
  },
  {
   "cell_type": "markdown",
   "metadata": {
    "deletable": true,
    "editable": true
   },
   "source": [
    "<ol start=\"6\">\n",
    "<li> Quelle est l'espérance $E_{AB}$ de ce jeu ? (On calculera les probabilités par récurrence). Tracer $E_{AB}$ en fonction de $k$. Vérifier que ce calcul se superpose à la simulation précédente.\n",
    "</ol>"
   ]
  },
  {
   "cell_type": "code",
   "execution_count": 10,
   "metadata": {
    "collapsed": false,
    "deletable": true,
    "editable": true
   },
   "outputs": [
    {
     "data": {
      "text/html": [
       "<pre style=\"color:slategray;max-height:100px;overflow:hidden\" \n",
       "onclick=\"\n",
       "if (this.style.maxHeight === 'none') \n",
       "    this.style.maxHeight = '100px';\n",
       "else\n",
       "    this.style.maxHeight = 'none'; \n",
       "\">val calculAB : int -&gt; float -&gt; float -&gt; float -&gt; float = &lt;fun&gt;\n",
       "</pre>"
      ]
     },
     "execution_count": 10,
     "metadata": {},
     "output_type": "execute_result"
    }
   ],
   "source": [
    "let calculAB n p p1 p2 =\n",
    "    \"à compléter\"\n"
   ]
  },
  {
   "cell_type": "code",
   "execution_count": 11,
   "metadata": {
    "collapsed": false,
    "deletable": true,
    "editable": true
   },
   "outputs": [
    {
     "data": {
      "text/html": [
       "<pre style=\"color:slategray;max-height:100px;overflow:hidden\" \n",
       "onclick=\"\n",
       "if (this.style.maxHeight === 'none') \n",
       "    this.style.maxHeight = '100px';\n",
       "else\n",
       "    this.style.maxHeight = 'none'; \n",
       "\">val range : int -&gt; int -&gt; int -&gt; int list = &lt;fun&gt;\n",
       "</pre>"
      ]
     },
     "execution_count": 11,
     "metadata": {},
     "output_type": "execute_result"
    }
   ],
   "source": [
    "let range debut fin step =\n",
    "   let rec range i acc =\n",
    "     if i>=fin then List.rev acc\n",
    "     else range (i+step) (i::acc) in\n",
    "   range debut [];;"
   ]
  },
  {
   "cell_type": "code",
   "execution_count": 12,
   "metadata": {
    "collapsed": false,
    "deletable": true,
    "editable": true
   },
   "outputs": [
    {
     "data": {
      "text/html": [
       "<pre style=\"color:slategray;max-height:100px;overflow:hidden\" \n",
       "onclick=\"\n",
       "if (this.style.maxHeight === 'none') \n",
       "    this.style.maxHeight = '100px';\n",
       "else\n",
       "    this.style.maxHeight = 'none'; \n",
       "\">val array_min : 'a array -&gt; 'a = &lt;fun&gt;\n",
       "</pre>"
      ]
     },
     "execution_count": 12,
     "metadata": {},
     "output_type": "execute_result"
    },
    {
     "data": {
      "text/html": [
       "<pre style=\"color:slategray;max-height:100px;overflow:hidden\" \n",
       "onclick=\"\n",
       "if (this.style.maxHeight === 'none') \n",
       "    this.style.maxHeight = '100px';\n",
       "else\n",
       "    this.style.maxHeight = 'none'; \n",
       "\">val array_max : 'a array -&gt; 'a = &lt;fun&gt;\n",
       "</pre>"
      ]
     },
     "execution_count": 12,
     "metadata": {},
     "output_type": "execute_result"
    }
   ],
   "source": [
    "let array_min array = Array.fold_right min array array.(0);;\n",
    "let array_max array = Array.fold_right max array array.(0);;"
   ]
  },
  {
   "cell_type": "code",
   "execution_count": 13,
   "metadata": {
    "collapsed": false,
    "deletable": true,
    "editable": true
   },
   "outputs": [
    {
     "name": "stdout",
     "output_type": "stream",
     "text": [
      "- : unit = ()\n",
      "Findlib has been successfully loaded. Additional directives:\n",
      "  #require \"package\";;      to load a package\n",
      "  #list;;                   to list the available packages\n",
      "  #camlp4o;;                to load camlp4 (standard syntax)\n",
      "  #camlp4r;;                to load camlp4 (revised syntax)\n",
      "  #predicates \"p,q,...\";;   to set these predicates\n",
      "  Topfind.reset();;         to force that packages will be reloaded\n",
      "  #thread;;                 to enable threads\n",
      "\n",
      "- : unit = ()\n"
     ]
    },
    {
     "name": "stderr",
     "output_type": "stream",
     "text": [
      "/usr/lib/ocaml/plplot: added to search path\n",
      "/usr/lib/ocaml/plplot/plplot.cma: loaded\n"
     ]
    },
    {
     "data": {
      "text/html": [
       "<pre style=\"color:slategray;max-height:100px;overflow:hidden\" \n",
       "onclick=\"\n",
       "if (this.style.maxHeight === 'none') \n",
       "    this.style.maxHeight = '100px';\n",
       "else\n",
       "    this.style.maxHeight = 'none'; \n",
       "\">module P = Plplot.Plot\n",
       "</pre>"
      ]
     },
     "execution_count": 13,
     "metadata": {},
     "output_type": "execute_result"
    },
    {
     "data": {
      "text/html": [
       "<pre style=\"color:slategray;max-height:100px;overflow:hidden\" \n",
       "onclick=\"\n",
       "if (this.style.maxHeight === 'none') \n",
       "    this.style.maxHeight = '100px';\n",
       "else\n",
       "    this.style.maxHeight = 'none'; \n",
       "\">val couleurs_list : int list list =\n",
       "  [[0; 255; 255; 255]; [1; 0; 0; 0]; [2; 0; 0; 255]; [3; 255; 0; 0];\n",
       "   [4; 165; 42; 42]; [5; 0; 0; 0]; [6; 0; 0; 0]; [7; 0; 0; 0]; [8; 0; 0; 0];\n",
       "   [9; 0; 0; 0]; [10; 200; 200; 200]; [11; 0; 255; 255]; [12; 0; 255; 0];\n",
       "   [13; 255; 255; 0]; [14; 255; 0; 255]; [15; 160; 0; 213]]\n",
       "</pre>"
      ]
     },
     "execution_count": 13,
     "metadata": {},
     "output_type": "execute_result"
    },
    {
     "data": {
      "text/html": [
       "<pre style=\"color:slategray;max-height:100px;overflow:hidden\" \n",
       "onclick=\"\n",
       "if (this.style.maxHeight === 'none') \n",
       "    this.style.maxHeight = '100px';\n",
       "else\n",
       "    this.style.maxHeight = 'none'; \n",
       "\">val loop : int list list -&gt; unit = &lt;fun&gt;\n",
       "</pre>"
      ]
     },
     "execution_count": 13,
     "metadata": {},
     "output_type": "execute_result"
    },
    {
     "data": {
      "text/html": [
       "<pre style=\"color:slategray;max-height:100px;overflow:hidden\" \n",
       "onclick=\"\n",
       "if (this.style.maxHeight === 'none') \n",
       "    this.style.maxHeight = '100px';\n",
       "else\n",
       "    this.style.maxHeight = 'none'; \n",
       "\">val couleurs : unit -&gt; unit = &lt;fun&gt;\n",
       "</pre>"
      ]
     },
     "execution_count": 13,
     "metadata": {},
     "output_type": "execute_result"
    },
    {
     "data": {
      "text/html": [
       "<pre style=\"color:slategray;max-height:100px;overflow:hidden\" \n",
       "onclick=\"\n",
       "if (this.style.maxHeight === 'none') \n",
       "    this.style.maxHeight = '100px';\n",
       "else\n",
       "    this.style.maxHeight = 'none'; \n",
       "\">val initialisation : string -&gt; float -&gt; float -&gt; float -&gt; float -&gt; P.stream_t =\n",
       "  &lt;fun&gt;\n",
       "</pre>"
      ]
     },
     "execution_count": 13,
     "metadata": {},
     "output_type": "execute_result"
    },
    {
     "data": {
      "text/html": [
       "<pre style=\"color:slategray;max-height:100px;overflow:hidden\" \n",
       "onclick=\"\n",
       "if (this.style.maxHeight === 'none') \n",
       "    this.style.maxHeight = '100px';\n",
       "else\n",
       "    this.style.maxHeight = 'none'; \n",
       "\">val xlabel : string -&gt; P.plot_t = &lt;fun&gt;\n",
       "</pre>"
      ]
     },
     "execution_count": 13,
     "metadata": {},
     "output_type": "execute_result"
    },
    {
     "data": {
      "text/html": [
       "<pre style=\"color:slategray;max-height:100px;overflow:hidden\" \n",
       "onclick=\"\n",
       "if (this.style.maxHeight === 'none') \n",
       "    this.style.maxHeight = '100px';\n",
       "else\n",
       "    this.style.maxHeight = 'none'; \n",
       "\">val ylabel : string -&gt; P.plot_t = &lt;fun&gt;\n",
       "</pre>"
      ]
     },
     "execution_count": 13,
     "metadata": {},
     "output_type": "execute_result"
    },
    {
     "data": {
      "text/html": [
       "<pre style=\"color:slategray;max-height:100px;overflow:hidden\" \n",
       "onclick=\"\n",
       "if (this.style.maxHeight === 'none') \n",
       "    this.style.maxHeight = '100px';\n",
       "else\n",
       "    this.style.maxHeight = 'none'; \n",
       "\">val label : string -&gt; string -&gt; string -&gt; P.plot_t = &lt;fun&gt;\n",
       "</pre>"
      ]
     },
     "execution_count": 13,
     "metadata": {},
     "output_type": "execute_result"
    }
   ],
   "source": [
    "#use \"topfind\";;\n",
    "#require \"plplot\";;\n",
    "open Plplot;;\n",
    "module P = Plot;;\n",
    "let couleurs_list = [[ 0;255;255;255]; (*`white*)\n",
    "                     [ 1;  0;  0;  0]; (*`black*)\n",
    "                     [ 2;  0;  0;255]; (*`blue*)\n",
    "                     [ 3;255;  0;  0]; (*`red*)\n",
    "                     [ 4;165; 42; 42]; (*`brown*)\n",
    "                     [ 5;  0;  0;  0]; [ 6;  0;  0;  0]; [ 7;  0;  0;  0]; [ 8;  0;  0;  0]; [ 9;  0;  0;  0]; \n",
    "                     [10;200;200;200]; (*`gray*)\n",
    "                     [11;  0;255;255]; (*`light_blue*)\n",
    "                     [12;  0;255;  0]; (*`green*)\n",
    "                     [13;255;255;  0]; (*`yellow*)\n",
    "                     [14;255;  0;255]; (*`pink*)\n",
    "                     [15;160;  0;213]; (*`purple*) ]\n",
    "let rec loop couleurs_list = match couleurs_list with\n",
    "    | [n;r;g;b]::tl -> plscol0 n r g b; loop tl\n",
    "    | _ -> ();;\n",
    "let couleurs = (fun () -> plscolbg 255 255 255; loop couleurs_list)\n",
    "let initialisation filename xmin xmax ymin ymax = \n",
    "        P.init (xmin, ymin) (xmax, ymax) `greedy (`svg `core) ~filename:(filename^\".svg\") ~pre:couleurs\n",
    "let xlabel texte = P.text_outside `black (`bottom 0.5) 3. texte\n",
    "let ylabel texte = P.text_outside `black (`left 0.5) 5. texte \n",
    "let label texte_x texte_y titre = P.label texte_x texte_y titre"
   ]
  },
  {
   "cell_type": "code",
   "execution_count": 20,
   "metadata": {
    "collapsed": false,
    "deletable": true,
    "editable": true
   },
   "outputs": [
    {
     "data": {
      "text/html": [
       "<pre style=\"color:slategray;max-height:100px;overflow:hidden\" \n",
       "onclick=\"\n",
       "if (this.style.maxHeight === 'none') \n",
       "    this.style.maxHeight = '100px';\n",
       "else\n",
       "    this.style.maxHeight = 'none'; \n",
       "\">val epsilon : float = 0.005\n",
       "</pre>"
      ]
     },
     "execution_count": 20,
     "metadata": {},
     "output_type": "execute_result"
    },
    {
     "data": {
      "text/html": [
       "<pre style=\"color:slategray;max-height:100px;overflow:hidden\" \n",
       "onclick=\"\n",
       "if (this.style.maxHeight === 'none') \n",
       "    this.style.maxHeight = '100px';\n",
       "else\n",
       "    this.style.maxHeight = 'none'; \n",
       "\">val p : float = 0.495\n",
       "</pre>"
      ]
     },
     "execution_count": 20,
     "metadata": {},
     "output_type": "execute_result"
    },
    {
     "data": {
      "text/html": [
       "<pre style=\"color:slategray;max-height:100px;overflow:hidden\" \n",
       "onclick=\"\n",
       "if (this.style.maxHeight === 'none') \n",
       "    this.style.maxHeight = '100px';\n",
       "else\n",
       "    this.style.maxHeight = 'none'; \n",
       "\">val p1 : float = 0.095\n",
       "</pre>"
      ]
     },
     "execution_count": 20,
     "metadata": {},
     "output_type": "execute_result"
    },
    {
     "data": {
      "text/html": [
       "<pre style=\"color:slategray;max-height:100px;overflow:hidden\" \n",
       "onclick=\"\n",
       "if (this.style.maxHeight === 'none') \n",
       "    this.style.maxHeight = '100px';\n",
       "else\n",
       "    this.style.maxHeight = 'none'; \n",
       "\">val p2 : float = 0.745\n",
       "</pre>"
      ]
     },
     "execution_count": 20,
     "metadata": {},
     "output_type": "execute_result"
    },
    {
     "data": {
      "text/html": [
       "<pre style=\"color:slategray;max-height:100px;overflow:hidden\" \n",
       "onclick=\"\n",
       "if (this.style.maxHeight === 'none') \n",
       "    this.style.maxHeight = '100px';\n",
       "else\n",
       "    this.style.maxHeight = 'none'; \n",
       "\">val nbre_jeux : int = 100\n",
       "</pre>"
      ]
     },
     "execution_count": 20,
     "metadata": {},
     "output_type": "execute_result"
    },
    {
     "data": {
      "text/html": [
       "<pre style=\"color:slategray;max-height:100px;overflow:hidden\" \n",
       "onclick=\"\n",
       "if (this.style.maxHeight === 'none') \n",
       "    this.style.maxHeight = '100px';\n",
       "else\n",
       "    this.style.maxHeight = 'none'; \n",
       "\">val nbre_essais : int = 100000\n",
       "</pre>"
      ]
     },
     "execution_count": 20,
     "metadata": {},
     "output_type": "execute_result"
    },
    {
     "data": {
      "text/html": [
       "<pre style=\"color:slategray;max-height:100px;overflow:hidden\" \n",
       "onclick=\"\n",
       "if (this.style.maxHeight === 'none') \n",
       "    this.style.maxHeight = '100px';\n",
       "else\n",
       "    this.style.maxHeight = 'none'; \n",
       "\">val loop :\n",
       "  int -&gt;\n",
       "  int array -&gt;\n",
       "  int array -&gt; int array -&gt; float array * float array * float array = &lt;fun&gt;\n",
       "</pre>"
      ]
     },
     "execution_count": 20,
     "metadata": {},
     "output_type": "execute_result"
    },
    {
     "data": {
      "text/html": [
       "<pre style=\"color:slategray;max-height:100px;overflow:hidden\" \n",
       "onclick=\"\n",
       "if (this.style.maxHeight === 'none') \n",
       "    this.style.maxHeight = '100px';\n",
       "else\n",
       "    this.style.maxHeight = 'none'; \n",
       "\">val total_A : float array =\n",
       "  [|0.; -0.01128; -0.01634; -0.02648; -0.03196; -0.04514; -0.05542; -0.06038;\n",
       "    -0.06922; -0.08074; -0.0967; -0.10258; -0.11188; -0.12342; -0.13468;\n",
       "    -0.14356; -0.15222; -0.1593; -0.16916; -0.17562; -0.18534; -0.18926;\n",
       "    -0.19962; -0.20852; -0.22386; -0.23016; -0.24702; -0.2618; -0.27794;\n",
       "    -0.28866; -0.29892; -0.30746; -0.31374; -0.32276; -0.33436; -0.34536;\n",
       "    -0.35436; -0.37; -0.37498; -0.3864; -0.39136; -0.40726; -0.4135;\n",
       "    -0.42642; -0.43678; -0.4507; -0.45066; -0.46116; -0.47224; -0.48208;\n",
       "    -0.49572; -0.50804; -0.52302; -0.53362; -0.54596; -0.55588; -0.56814;\n",
       "    -0.58016; -0.59008; -0.602; -0.60734; -0.61782; -0.62994; -0.6425;\n",
       "    -0.6516; -0.66322; -0.67318; -0.68358; -0.69628; -0.70352; -0.70792;\n",
       "    -0.7146; -0.72738; -0.733; -0.74558; -0.7552; -0.77154; -0.7822;\n",
       "    -0.79208; -0.80552; -0.81416; -0.82858; -0.84004; -0.84838; -0.86308;\n",
       "    -0.87384; -0.88274; -0.88626; -0.89692; -0.90494; -0.9131; -0.92428;\n",
       "    -0.93918; -0.94166; -0.94854; -0.95688; -0.96332; -0.97266; -0.98482;\n",
       "    -0.99124|]\n",
       "val total_B : float array =\n",
       "  [|-0.80792; -0.3135; -0.73172; -0.38172; -0.69896; -0.44116; -0.68286;\n",
       "    -0.4877; -0.6693; -0.52272; -0.66806; -0.55646; -0.66156; -0.58518;\n",
       "    -0.67058; -0.61296; -0.68148; -0.63418; -0.69144; -0.65976; -0.70306;\n",
       "    -0.68356; -0.71998; -0.70162; -0.73376; -0.72076; -0.7464; -0.73654;\n",
       "    -0.75754; -0.75464; -0.77722; -0.77902; -0.79594; -0.79576; -0.81146;\n",
       "    -0.81254; -0.824; -0.83032; -0.84288; -0.84574; -0.85852; -0.86876;\n",
       "    -0.87982; -0.8889; -0.90154; -0.91176; -0.92144; -0.927; -0.93504;\n",
       "    -0.94146; -0.94748; -0.9571; -0.9656; -0.97468; -0.98304; -0.99034;\n",
       "    -0.99964; -1.00944; -1.0209; -1.03164; -1.04; -1.0483; -1.05904;\n",
       "    -1.06574; -1.07402; -1.09078; -1.0984; -1.103; -1.1125; -1.12178;\n",
       "    -1.1336; -1.14254; -1.15444; -1.16398; -1.1728; -1.1818; -1.18652;\n",
       "    -1.1971; -1.20908; -1.2226; -1.2312; -1.24116; -1.2531; -1.25906;\n",
       "    -1.2709; -1.27672; -1.28468; -1.29606; -1.30496; -1.31092; -1.31574;\n",
       "    -1.32714; -1.33952; -1.3459; -1.35498; -1.36264; -1.36826; -1.38148;\n",
       "    -1.3891; -1.39794|]\n",
       "val total_A_et_B : float array =\n",
       "  [|-0.41398; -0.1735; -0.2832; -0.18238; -0.2259; -0.16926; -0.17712;\n",
       "    -0.1463; -0.13554; -0.11178; -0.1015; -0.08402; -0.07738; -0.06034;\n",
       "    -0.04838; -0.03648; -0.02294; -0.01314; -0.00582; 0.01118; 0.02852;\n",
       "    0.04706; 0.06536; 0.08194; 0.09436; 0.11024; 0.13116; 0.14564; 0.16172;\n",
       "    0.17816; 0.19568; 0.2076; 0.2249; 0.23938; 0.26024; 0.27824; 0.29408;\n",
       "    0.31076; 0.321; 0.33364; 0.3406; 0.35764; 0.37514; 0.39176; 0.40502;\n",
       "    0.42406; 0.43732; 0.4561; 0.471; 0.4865; 0.50606; 0.51748; 0.5382;\n",
       "    0.54878; 0.5643; 0.5747; 0.58996; 0.61062; 0.62698; 0.6403; 0.65516;\n",
       "    0.6684; 0.68022; 0.6958; 0.7114; 0.72552; 0.74326; 0.76028; 0.77386;\n",
       "    0.79114; 0.80312; 0.81902; 0.83356; 0.85224; 0.8715; 0.88152; 0.89872;\n",
       "    0.91388; 0.92874; 0.94552; 0.95868; 0.97228; 0.98788; 1.0028; 1.02162;\n",
       "    1.03846; 1.05352; 1.0673; 1.07738; 1.09614; 1.11458; 1.13412; 1.15132;\n",
       "    1.1637; 1.17514; 1.1906; 1.20672; 1.22148; 1.24044; 1.2534|]\n",
       "</pre>"
      ]
     },
     "execution_count": 20,
     "metadata": {},
     "output_type": "execute_result"
    },
    {
     "data": {
      "text/html": [
       "<pre style=\"color:slategray;max-height:100px;overflow:hidden\" \n",
       "onclick=\"\n",
       "if (this.style.maxHeight === 'none') \n",
       "    this.style.maxHeight = '100px';\n",
       "else\n",
       "    this.style.maxHeight = 'none'; \n",
       "\">- : unit = ()\n",
       "</pre>"
      ]
     },
     "execution_count": 20,
     "metadata": {},
     "output_type": "execute_result"
    }
   ],
   "source": [
    "let epsilon=5./.1000.;;\n",
    "let p=1./.2.-.epsilon;;\n",
    "let p1=1./.10.-.epsilon;;\n",
    "let p2=3./.4.-.epsilon;;\n",
    "let nbre_jeux=100;;\n",
    "let nbre_essais=100*1000;;\n",
    "let rec loop num total_A total_B total_A_et_B =\n",
    "    \"à compléter\"\n",
    "let total_A, total_B, total_A_et_B = loop 0 \n",
    "                                        (Array.make nbre_jeux 0)\n",
    "                                        (Array.make nbre_jeux 0) \n",
    "                                        (Array.make nbre_jeux 0);;\n",
    "\n",
    "let liste_k = range 1 (nbre_jeux+1) 1 in\n",
    "let xs = Array.of_list (List.map float_of_int liste_k) in\n",
    "let total_A_th = Array.of_list (List.map (fun k -> calculA k p) liste_k) in\n",
    "let total_B_th = Array.of_list (List.map (fun k -> calculB k p1 p2) liste_k) in\n",
    "let total_A_et_B_th = Array.of_list (List.map (fun k -> calculAB k p p1 p2) liste_k) in\n",
    "\n",
    "let p = initialisation \"graph\" (array_min xs) (array_max xs) (-.2.) 2.\n",
    "(*(array_min total_A) (array_max total_A_et_B)*) in\n",
    "P.plot ~stream:p [P.points ~symbol:\"+\" `blue xs total_A_th; \n",
    "                  P.points ~symbol:\"+\" `green xs total_B_th; \n",
    "                  P.points ~symbol:\"+\" `red xs total_A_et_B_th; \n",
    "                  P.lines `blue xs total_A;\n",
    "                  P.lines `green xs total_B;\n",
    "                  P.lines `red xs total_A_et_B;\n",
    "                  P.label \"Tour\" \"Esperance\" \"Paradoxe de Parrondo\";\n",
    "                  P.legend ~pos:(P.viewport_pos 0.45 0.) ~text_offset:0. ~text_justification:0.\n",
    "                          [[P.symbol_legend \"récurrence jeu A\" `blue \"+\"];\n",
    "                           [P.symbol_legend \"récurrence jeu B\" `green \"+\"];\n",
    "                           [P.symbol_legend \"récurrence jeu A et B\" `red \"+\"];\n",
    "                           [P.line_legend \"Monte Carlo jeu A\" `blue];\n",
    "                           [P.line_legend \"Monte Carlo jeu B\" `green];\n",
    "                           [P.line_legend \"Monte Carlo jeu A et B\" `red]]];\n",
    "P.finish ~stream:p ();;\n"
   ]
  },
  {
   "cell_type": "markdown",
   "metadata": {
    "deletable": true,
    "editable": true
   },
   "source": [
    "<img src=\"graph.svg\" />"
   ]
  },
  {
   "cell_type": "markdown",
   "metadata": {
    "deletable": true,
    "editable": true
   },
   "source": [
    "<ol start=\"7\">\n",
    "<li>  $A$ et $B$ sont des jeux perdants. Le jeu $AB$ est-il également  perdant ? \n",
    "</ol>"
   ]
  },
  {
   "cell_type": "code",
   "execution_count": null,
   "metadata": {
    "collapsed": true,
    "deletable": true,
    "editable": true
   },
   "outputs": [],
   "source": []
  }
 ],
 "metadata": {
  "kernelspec": {
   "display_name": "OCaml",
   "language": "ocaml",
   "name": "iocaml"
  },
  "language_info": {
   "name": "ocaml",
   "version": "4.1.0"
  }
 },
 "nbformat": 4,
 "nbformat_minor": 2
}
