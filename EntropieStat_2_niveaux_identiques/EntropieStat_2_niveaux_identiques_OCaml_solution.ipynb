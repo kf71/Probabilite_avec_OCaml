{
 "cells": [
  {
   "cell_type": "markdown",
   "metadata": {
    "deletable": true,
    "editable": true
   },
   "source": [
    "<h1>Entropie statistique:<br> système à 2 états de même énergie</h1>\n",
    "\n",
    "<h2>Présentation</h2>\n",
    "\n",
    "On considère un système $\\Sigma$, isolé, constitué de $n_{tot}$ particules pouvant se répartir entre deux états $1$ et $2$ de même énergie $\\varepsilon$.<br>\n",
    "\n",
    "Exemple 1: $n_{tot}$ molécules de gaz parfait dans une enceinte de volume $V$ que l'on sépare en deux compartiments de volume $V/2$; on appelle $n_1$ le nombre de particules dans le compartiment de gauche (état 1) et $n_2$ le nombre de particules dans le compartiment de droite (état 2). On a: $n_1+n_2=n_{tot}$.<br>\n",
    "\n",
    "Exemple 2: $n_{tot}$ spins sur un réseau (i.e. ayant une position fixe) pouvant avoir deux états (état 1 noté $\\uparrow$ et état 2 noté $\\downarrow$), sans interaction entre eux, sans champ magnétique extérieur; on appelle $n_1$ le nombre de spins dans l'état $\\uparrow$ et $n_2$ le nombre de particules dans l'état $\\downarrow$. On a: $n_1+n_2=n_{tot}$.<br>\n",
    "\n",
    "On suppose que les particules sont discernables (c'est le cas dans l'exemple 2 [où les positions des spins sont fixes]; c'est le cas dans l'exemple 1, si on peut voir - pour une particule donnée à l'avance - si elle se trouve dans le compartiment de gauche ou de droite).\n",
    " \n",
    "<h2>Questions</h2>\n",
    "\n",
    "<ol>\n",
    "<li> Au total, combien y a-t'il de micro-états possibles ? On notera  $\\Omega_{tot}$ ce nombre.\n",
    "</ol>"
   ]
  },
  {
   "cell_type": "markdown",
   "metadata": {
    "deletable": true,
    "editable": true
   },
   "source": [
    "<b> Aide:</b><br>\n",
    "Pour une particule ($A$), $\\Omega_{tot}=2$ ($A$ dans l'état 1; $A$ dans l'état 2).<br>\n",
    "Pour deux particules ($A$ et $B$), $\\Omega_{tot}=4$ ($A$ et $B$ dans l'état 1; $A$ dans l'état 1 et $B$ dans l'état 2; $B$ dans l'état 1 et $A$ dans l'état 2; $A$ et $B$ dans l'état 2).<br>\n",
    "Pour $n_{tot}$ particules, ...<br>"
   ]
  },
  {
   "cell_type": "markdown",
   "metadata": {
    "deletable": true,
    "editable": true
   },
   "source": [
    "<b> Solution: </b>\n",
    "Pour chaque particule, il y a deux possibilités (état 1 ou 2).<br>\n",
    "Donc, au total, $2^{n_{tot}}$ possibilités."
   ]
  },
  {
   "cell_type": "markdown",
   "metadata": {
    "deletable": true,
    "editable": true
   },
   "source": [
    "<ol start=\"2\">\n",
    "<li>Tous ces micro-états sont, a priori, équiprobables.<br>\n",
    "Combien y a-t'il de micro-états particuliers $\\Omega_{n_1}$ avec $n_1$ particules dans l'état 1 (et $n_2$ particules dans l'état 2) ?\n",
    "</ol>"
   ]
  },
  {
   "cell_type": "markdown",
   "metadata": {
    "deletable": true,
    "editable": true
   },
   "source": [
    "<b> Solution: </b>\n",
    "$\\Omega_{n_1}={n_{tot}\\choose n_1}=\\frac{n_{tot}!}{n_1!\\times n_2!}$"
   ]
  },
  {
   "cell_type": "markdown",
   "metadata": {
    "deletable": true,
    "editable": true
   },
   "source": [
    "<ol start=\"3\">\n",
    "<li> On note $x=\\frac{n_1}{n_{tot}}$.\n",
    "\n",
    "Avec OCaml, tracer $\\ln(\\Omega_{n_1})$ en fonction de $x$ pour $n_{tot}\\in[10,200]$.\n",
    "\n",
    "(Pour chaque $n_{tot}$: on fait varier $n_1$ de 0 à $n_{tot}$; on calcule $x$ et $\\Omega_{n_1}$).\n",
    "\n",
    "Ce tracé correspond à l'entropie du système (voir Annexe).\n",
    "\n",
    "Pour quelle valeur $x=x_{max}$, $\\Omega_{n_1}$ est-il maximum ?\n",
    "\n",
    "Cette valeur correspond à l'état d'équilibre du système (i.e. celui qui maximise l'entropie dans l'ensemble micro-canonique).\n",
    "</ol>"
   ]
  },
  {
   "cell_type": "markdown",
   "metadata": {
    "deletable": true,
    "editable": true
   },
   "source": [
    "<b> Solution: </b>\n",
    "$x_{max}=1/2$"
   ]
  },
  {
   "cell_type": "markdown",
   "metadata": {
    "deletable": true,
    "editable": true
   },
   "source": [
    "<ol start=\"4\">\n",
    "<li> On note $P_{n_1}=\\frac{\\Omega_{n_1}}{\\Omega_{tot}}$ la probabilité que $\\Sigma$ se trouve dans un des états $\\Omega_{n_1}$.\n",
    "\n",
    "<ul>\n",
    "<li> Avec OCaml, tracer $P_{n_1}$ en fonction de $x$  pour $n_{tot}\\in[10,200]$.\n",
    "\n",
    "<li> Normalement $\\sum_{n_1} P_{n_1}=1$ (ou $\\int_0^1P(x).\\textrm{d}x=1$ par passage à la limite), pourtant la surface sous la courbe pour $n_{tot}=10$ semble plus grande que la surface sous la courbe pour $n_{tot}=200$. Expliquer.\n",
    "</ul>\n",
    "</ol>"
   ]
  },
  {
   "cell_type": "markdown",
   "metadata": {
    "deletable": true,
    "editable": true
   },
   "source": [
    "<b> Solution: </b>\n",
    "On peut vérifier que dans, tous les cas, on a bien $\\sum_{n_1} P_{n_1}=1$ mais $n_1$ ne peut prendre que des valeurs discrètes (entières). Plus $n_1$ est grand, plus la densité des valeurs de $x$ permises augmente."
   ]
  },
  {
   "cell_type": "markdown",
   "metadata": {
    "deletable": true,
    "editable": true
   },
   "source": [
    "<ol>\n",
    "<ul>\n",
    "<li> Avec OCaml, tracer $P_{n_1}$ en fonction de $x$  pour $n_{tot}\\in[1000,2000]$.\n",
    "\n",
    "<li> Lorsque $n$ augmente, que peut-on dire de $P_{max}$ le maximum de $P_{n_1}$ ? \n",
    "</ul>\n",
    "</ol>"
   ]
  },
  {
   "cell_type": "markdown",
   "metadata": {
    "deletable": true,
    "editable": true
   },
   "source": [
    "<b> Solution: </b>\n",
    "Il diminue."
   ]
  },
  {
   "cell_type": "markdown",
   "metadata": {
    "deletable": true,
    "editable": true
   },
   "source": [
    "<ol>\n",
    "<ul>\n",
    "<li> Tracer $\\log(P_{max})$ en fonction de $\\log(n_{tot})$ pour $\\log(n_{tot})\\in[1,5]$; faire une régression linéaire et en déduire un équivalent de $P_{max}$ et de $\\Omega_{max}$.\n",
    "</ul>\n",
    "</ol>"
   ]
  },
  {
   "cell_type": "markdown",
   "metadata": {
    "deletable": true,
    "editable": true
   },
   "source": [
    "<b> Solution: </b><br>\n",
    "On a: $\\log(P_{max})=-0.498446007441.\\log(n_{tot})-0.104045329343$; d'où $P_{max}=10^{-0.104045329343}.\\frac{1}{\\sqrt{n_{tot}}}=\\frac{0.7869636463378613}{\\sqrt{n_{tot}}}$. La vraie valeur est $P_{max}\\simeq\\frac{1}{\\sqrt{\\pi.n_{tot}/2}}$. On a: $\\Omega_{max}\\simeq\\frac{2^{n_{tot}}}{\\sqrt{\\pi.n_{tot}/2}}$."
   ]
  },
  {
   "cell_type": "markdown",
   "metadata": {
    "deletable": true,
    "editable": true
   },
   "source": [
    "<h1>Annexe</h1>\n",
    "\n",
    "<h2>Ensemble micro-canonique</h2>\n",
    "\n",
    "En physique statistique, on définit l'ensemble micro-canonique comme l'ensemble des répliques fictives d'un système réel dont l'énergie ($e_{tot}$), le volume ($V$) et le nombre de particules ($n_{tot}$) sont fixés.\n",
    "\n",
    "L'<b> hypothèse micro-canonique</b> consiste à supposer que, quand un système est {\\bf isolé} et en équilibre, celui-ci se trouve avec probabilités égales dans chacun de ses micro-états accessibles.\n",
    "%wikipedia\n",
    "\n",
    "<h2>Lien avec l'entropie</h2>\n",
    "\n",
    "On appelle entropie statistique, dans un état macroscopique donné, la quantité:\n",
    "\n",
    "$$S=-k_B.\\sum_{\\ell}P_\\ell.\\ln(P_\\ell)$$\n",
    "\n",
    "D'après l'hypothèse micro-canonique $P_\\ell=\\frac1\\Omega$ où $\\Omega$ est la nombre de micro-états accessibles.\n",
    "\n",
    "Donc: $S=-k_B.\\sum_{\\ell}P_\\ell.\\ln(P_\\ell)=-k_B.\\sum_{\\ell=1}^\\Omega\\frac1\\Omega.\\ln\\left(\\frac1\\Omega\\right)=k_B.\\Omega.\\frac1\\Omega.\\ln(\\Omega)=k_B.\\ln(\\Omega)$<br>"
   ]
  },
  {
   "cell_type": "markdown",
   "metadata": {
    "deletable": true,
    "editable": true
   },
   "source": [
    "<h1>Solution</h1>"
   ]
  },
  {
   "cell_type": "code",
   "execution_count": 1,
   "metadata": {
    "collapsed": false,
    "deletable": true,
    "editable": true
   },
   "outputs": [
    {
     "name": "stdout",
     "output_type": "stream",
     "text": [
      "- : unit = ()\n",
      "Findlib has been successfully loaded. Additional directives:\n",
      "  #require \"package\";;      to load a package\n",
      "  #list;;                   to list the available packages\n",
      "  #camlp4o;;                to load camlp4 (standard syntax)\n",
      "  #camlp4r;;                to load camlp4 (revised syntax)\n",
      "  #predicates \"p,q,...\";;   to set these predicates\n",
      "  Topfind.reset();;         to force that packages will be reloaded\n",
      "  #thread;;                 to enable threads\n",
      "\n",
      "- : unit = ()\n"
     ]
    },
    {
     "name": "stderr",
     "output_type": "stream",
     "text": [
      "/usr/lib/ocaml/plplot: added to search path\n",
      "/usr/lib/ocaml/plplot/plplot.cma: loaded\n"
     ]
    },
    {
     "data": {
      "text/html": [
       "<pre style=\"color:slategray;max-height:100px;overflow:hidden\" \n",
       "onclick=\"\n",
       "if (this.style.maxHeight === 'none') \n",
       "    this.style.maxHeight = '100px';\n",
       "else\n",
       "    this.style.maxHeight = 'none'; \n",
       "\">module P = Plplot.Plot\n",
       "</pre>"
      ]
     },
     "execution_count": 1,
     "metadata": {},
     "output_type": "execute_result"
    },
    {
     "data": {
      "text/html": [
       "<pre style=\"color:slategray;max-height:100px;overflow:hidden\" \n",
       "onclick=\"\n",
       "if (this.style.maxHeight === 'none') \n",
       "    this.style.maxHeight = '100px';\n",
       "else\n",
       "    this.style.maxHeight = 'none'; \n",
       "\">val couleurs_list : int list list =\n",
       "  [[0; 255; 255; 255]; [1; 0; 0; 0]; [2; 0; 0; 255]; [3; 255; 0; 0];\n",
       "   [4; 165; 42; 42]; [5; 0; 0; 0]; [6; 0; 0; 0]; [7; 0; 0; 0]; [8; 0; 0; 0];\n",
       "   [9; 0; 0; 0]; [10; 200; 200; 200]; [11; 0; 255; 255]; [12; 0; 255; 0];\n",
       "   [13; 255; 255; 0]; [14; 255; 0; 255]; [15; 160; 0; 213]]\n",
       "</pre>"
      ]
     },
     "execution_count": 1,
     "metadata": {},
     "output_type": "execute_result"
    },
    {
     "data": {
      "text/html": [
       "<pre style=\"color:slategray;max-height:100px;overflow:hidden\" \n",
       "onclick=\"\n",
       "if (this.style.maxHeight === 'none') \n",
       "    this.style.maxHeight = '100px';\n",
       "else\n",
       "    this.style.maxHeight = 'none'; \n",
       "\">val loop : int list list -&gt; unit = &lt;fun&gt;\n",
       "</pre>"
      ]
     },
     "execution_count": 1,
     "metadata": {},
     "output_type": "execute_result"
    },
    {
     "data": {
      "text/html": [
       "<pre style=\"color:slategray;max-height:100px;overflow:hidden\" \n",
       "onclick=\"\n",
       "if (this.style.maxHeight === 'none') \n",
       "    this.style.maxHeight = '100px';\n",
       "else\n",
       "    this.style.maxHeight = 'none'; \n",
       "\">val couleurs : unit -&gt; unit = &lt;fun&gt;\n",
       "</pre>"
      ]
     },
     "execution_count": 1,
     "metadata": {},
     "output_type": "execute_result"
    },
    {
     "data": {
      "text/html": [
       "<pre style=\"color:slategray;max-height:100px;overflow:hidden\" \n",
       "onclick=\"\n",
       "if (this.style.maxHeight === 'none') \n",
       "    this.style.maxHeight = '100px';\n",
       "else\n",
       "    this.style.maxHeight = 'none'; \n",
       "\">val initialisation : string -&gt; float -&gt; float -&gt; float -&gt; float -&gt; P.stream_t =\n",
       "  &lt;fun&gt;\n",
       "</pre>"
      ]
     },
     "execution_count": 1,
     "metadata": {},
     "output_type": "execute_result"
    },
    {
     "data": {
      "text/html": [
       "<pre style=\"color:slategray;max-height:100px;overflow:hidden\" \n",
       "onclick=\"\n",
       "if (this.style.maxHeight === 'none') \n",
       "    this.style.maxHeight = '100px';\n",
       "else\n",
       "    this.style.maxHeight = 'none'; \n",
       "\">val xlabel : string -&gt; P.plot_t = &lt;fun&gt;\n",
       "</pre>"
      ]
     },
     "execution_count": 1,
     "metadata": {},
     "output_type": "execute_result"
    },
    {
     "data": {
      "text/html": [
       "<pre style=\"color:slategray;max-height:100px;overflow:hidden\" \n",
       "onclick=\"\n",
       "if (this.style.maxHeight === 'none') \n",
       "    this.style.maxHeight = '100px';\n",
       "else\n",
       "    this.style.maxHeight = 'none'; \n",
       "\">val ylabel : string -&gt; P.plot_t = &lt;fun&gt;\n",
       "</pre>"
      ]
     },
     "execution_count": 1,
     "metadata": {},
     "output_type": "execute_result"
    },
    {
     "data": {
      "text/html": [
       "<pre style=\"color:slategray;max-height:100px;overflow:hidden\" \n",
       "onclick=\"\n",
       "if (this.style.maxHeight === 'none') \n",
       "    this.style.maxHeight = '100px';\n",
       "else\n",
       "    this.style.maxHeight = 'none'; \n",
       "\">val label : string -&gt; string -&gt; string -&gt; P.plot_t = &lt;fun&gt;\n",
       "</pre>"
      ]
     },
     "execution_count": 1,
     "metadata": {},
     "output_type": "execute_result"
    }
   ],
   "source": [
    "#use \"topfind\";;\n",
    "#require \"plplot\";;\n",
    "open Plplot;;\n",
    "module P = Plot;;\n",
    "let couleurs_list = [[ 0;255;255;255]; (*`white*)\n",
    "                     [ 1;  0;  0;  0]; (*`black*)\n",
    "                     [ 2;  0;  0;255]; (*`blue*)\n",
    "                     [ 3;255;  0;  0]; (*`red*)\n",
    "                     [ 4;165; 42; 42]; (*`brown*)\n",
    "                     [ 5;  0;  0;  0]; [ 6;  0;  0;  0]; [ 7;  0;  0;  0]; [ 8;  0;  0;  0]; [ 9;  0;  0;  0]; \n",
    "                     [10;200;200;200]; (*`gray*)\n",
    "                     [11;  0;255;255]; (*`light_blue*)\n",
    "                     [12;  0;255;  0]; (*`green*)\n",
    "                     [13;255;255;  0]; (*`yellow*)\n",
    "                     [14;255;  0;255]; (*`pink*)\n",
    "                     [15;160;  0;213]; (*`purple*) ]\n",
    "let rec loop couleurs_list = match couleurs_list with\n",
    "    | [n;r;g;b]::tl -> plscol0 n r g b; loop tl\n",
    "    | _ -> ();;\n",
    "let couleurs = (fun () -> plscolbg 255 255 255; loop couleurs_list)\n",
    "let initialisation filename xmin xmax ymin ymax = \n",
    "        P.init (xmin, ymin) (xmax, ymax) `greedy (`svg `core) ~filename:(filename^\".svg\") ~pre:couleurs\n",
    "let xlabel texte = P.text_outside `black (`bottom 0.5) 3. texte\n",
    "let ylabel texte = P.text_outside `black (`left 0.5) 5. texte \n",
    "let label texte_x texte_y titre = P.label texte_x texte_y titre"
   ]
  },
  {
   "cell_type": "code",
   "execution_count": 2,
   "metadata": {
    "collapsed": false,
    "deletable": true,
    "editable": true
   },
   "outputs": [
    {
     "data": {
      "text/html": [
       "<pre style=\"color:slategray;max-height:100px;overflow:hidden\" \n",
       "onclick=\"\n",
       "if (this.style.maxHeight === 'none') \n",
       "    this.style.maxHeight = '100px';\n",
       "else\n",
       "    this.style.maxHeight = 'none'; \n",
       "\">val range : int -&gt; int -&gt; int -&gt; int list = &lt;fun&gt;\n",
       "</pre>"
      ]
     },
     "execution_count": 2,
     "metadata": {},
     "output_type": "execute_result"
    }
   ],
   "source": [
    "let range debut fin step =\n",
    "   let rec range i acc =\n",
    "     if i>=fin then List.rev acc\n",
    "     else range (i+step) (i::acc) in\n",
    "   range debut [];;"
   ]
  },
  {
   "cell_type": "code",
   "execution_count": 3,
   "metadata": {
    "collapsed": false,
    "deletable": true,
    "editable": true
   },
   "outputs": [
    {
     "name": "stderr",
     "output_type": "stream",
     "text": [
      "/usr/lib/ocaml/nums.cma: loaded\n",
      "/usr/lib/ocaml/num-top: added to search path\n",
      "/usr/lib/ocaml/num-top/num_top.cma: loaded\n"
     ]
    },
    {
     "data": {
      "text/html": [
       "<pre style=\"color:slategray;max-height:100px;overflow:hidden\" \n",
       "onclick=\"\n",
       "if (this.style.maxHeight === 'none') \n",
       "    this.style.maxHeight = '100px';\n",
       "else\n",
       "    this.style.maxHeight = 'none'; \n",
       "\">val c_iter : int -&gt; int -&gt; float = &lt;fun&gt;\n",
       "</pre>"
      ]
     },
     "execution_count": 3,
     "metadata": {},
     "output_type": "execute_result"
    },
    {
     "data": {
      "text/html": [
       "<pre style=\"color:slategray;max-height:100px;overflow:hidden\" \n",
       "onclick=\"\n",
       "if (this.style.maxHeight === 'none') \n",
       "    this.style.maxHeight = '100px';\n",
       "else\n",
       "    this.style.maxHeight = 'none'; \n",
       "\">val omega : int -&gt; int -&gt; float = &lt;fun&gt;\n",
       "</pre>"
      ]
     },
     "execution_count": 3,
     "metadata": {},
     "output_type": "execute_result"
    },
    {
     "data": {
      "text/html": [
       "<pre style=\"color:slategray;max-height:100px;overflow:hidden\" \n",
       "onclick=\"\n",
       "if (this.style.maxHeight === 'none') \n",
       "    this.style.maxHeight = '100px';\n",
       "else\n",
       "    this.style.maxHeight = 'none'; \n",
       "\">val genere_listes : unit -&gt; P.plot_t list * P.legend_entry_t list list =\n",
       "  &lt;fun&gt;\n",
       "</pre>"
      ]
     },
     "execution_count": 3,
     "metadata": {},
     "output_type": "execute_result"
    },
    {
     "data": {
      "text/html": [
       "<pre style=\"color:slategray;max-height:100px;overflow:hidden\" \n",
       "onclick=\"\n",
       "if (this.style.maxHeight === 'none') \n",
       "    this.style.maxHeight = '100px';\n",
       "else\n",
       "    this.style.maxHeight = 'none'; \n",
       "\">- : unit = ()\n",
       "</pre>"
      ]
     },
     "execution_count": 3,
     "metadata": {},
     "output_type": "execute_result"
    }
   ],
   "source": [
    "#require \"num\";;\n",
    "open Num;;\n",
    "let c_iter n p =\n",
    "    let p' = (if p>n/2 then n-p else p) in\n",
    "    if p<0 || n<0 then print_string \"probleme\";\n",
    "    let rec loop num res den =\n",
    "        if num<n+1 then\n",
    "            loop (num+1) (res*/(Int num)//den) (den+/(Int 1))\n",
    "        else float_of_num res in\n",
    "    loop (p'+1) (Int 1) (Int 1);;\n",
    "\n",
    "let omega n n1 =\n",
    "    (*\n",
    "    n = nbre de particules\n",
    "    n1 = nbre de particules dans l'état 1\n",
    "    *)\n",
    "    c_iter n n1;;\n",
    "    \n",
    "let genere_listes () =\n",
    "    let liste_couleurs = [`black;`blue;`red;`brown;`gray;`light_blue;`green;`yellow;`pink;`purple] in\n",
    "    let rec loop n liste_plot liste_legend liste_couleurs =\n",
    "        if n<=100 then begin\n",
    "            let liste_n1 = range 0 (n+1) 1 in      \n",
    "            let liste_x = List.map (fun n1 -> float_of_int n1/.(float_of_int n)) liste_n1 in\n",
    "            let liste_log_Omega = List.map (fun n1 -> log (omega n n1)) liste_n1 in\n",
    "            let xs = Array.of_list liste_x in\n",
    "            let ys = Array.of_list liste_log_Omega in\n",
    "            let couleur = List.hd liste_couleurs in\n",
    "            loop (n+10) ((P.lines couleur xs ys)::liste_plot)\n",
    "                        (([P.line_legend (\"N=\"^string_of_int n) couleur]::liste_legend))\n",
    "                        (List.tl liste_couleurs)\n",
    "            end else liste_plot, liste_legend in\n",
    "    loop 10 [] [] liste_couleurs;;\n",
    "\n",
    "let liste_plot, liste_legend = genere_listes () in\n",
    "let p = initialisation \"graph1\" 0. 1. 0. 70. in\n",
    "P.plot ~stream:p (liste_plot \n",
    "                @[xlabel \"x = N1/N\"]\n",
    "                @[ylabel \"nombre de microétats: ln(Ω)\"]\n",
    "                @[P.legend liste_legend]);\n",
    "P.finish ~stream:p ();;"
   ]
  },
  {
   "cell_type": "markdown",
   "metadata": {
    "deletable": true,
    "editable": true
   },
   "source": [
    "<img src=\"graph1.svg\" width=\"500\" />"
   ]
  },
  {
   "cell_type": "code",
   "execution_count": 4,
   "metadata": {
    "collapsed": false,
    "deletable": true,
    "editable": true
   },
   "outputs": [
    {
     "data": {
      "text/html": [
       "<pre style=\"color:slategray;max-height:100px;overflow:hidden\" \n",
       "onclick=\"\n",
       "if (this.style.maxHeight === 'none') \n",
       "    this.style.maxHeight = '100px';\n",
       "else\n",
       "    this.style.maxHeight = 'none'; \n",
       "\">val genere_listes : unit -&gt; P.plot_t list * P.legend_entry_t list list =\n",
       "  &lt;fun&gt;\n",
       "</pre>"
      ]
     },
     "execution_count": 4,
     "metadata": {},
     "output_type": "execute_result"
    },
    {
     "data": {
      "text/html": [
       "<pre style=\"color:slategray;max-height:100px;overflow:hidden\" \n",
       "onclick=\"\n",
       "if (this.style.maxHeight === 'none') \n",
       "    this.style.maxHeight = '100px';\n",
       "else\n",
       "    this.style.maxHeight = 'none'; \n",
       "\">- : unit = ()\n",
       "</pre>"
      ]
     },
     "execution_count": 4,
     "metadata": {},
     "output_type": "execute_result"
    }
   ],
   "source": [
    "let genere_listes () =\n",
    "    let liste_couleurs = [`black;`blue;`red;`brown;`gray;`light_blue;`green;`yellow;`pink;`purple] in\n",
    "    let rec loop n liste_plot liste_legend liste_couleurs =\n",
    "        if n>=10 then begin\n",
    "            let liste_n1 = range 0 (n+1) 1 in      \n",
    "            let liste_x = List.map (fun n1 -> float_of_int n1/.(float_of_int n)) liste_n1 in\n",
    "            let liste_Omega = List.map (fun n1 -> (omega n n1)/.(2.**(float_of_int n))) liste_n1 in\n",
    "            let xs = Array.of_list liste_x in\n",
    "            let ys = Array.of_list liste_Omega in\n",
    "            let couleur = List.hd liste_couleurs in\n",
    "            loop (n-10) ((P.lines couleur xs ys)::liste_plot)\n",
    "                        (([P.line_legend (\"N=\"^string_of_int n) couleur]::liste_legend))\n",
    "                        (List.tl liste_couleurs)\n",
    "            end else liste_plot, liste_legend in\n",
    "    loop 100 [] [] liste_couleurs;;\n",
    "\n",
    "let liste_plot, liste_legend = genere_listes () in\n",
    "let p = initialisation \"graph2\" 0. 1. 0. 0.25 in\n",
    "P.plot ~stream:p (liste_plot \n",
    "                @[xlabel \"x = N1/N\"]\n",
    "                @[ylabel \"nombre de microétats: Ω(N1) / Ω(tot)\"]\n",
    "                @[P.legend liste_legend]);\n",
    "P.finish ~stream:p ();;"
   ]
  },
  {
   "cell_type": "markdown",
   "metadata": {
    "deletable": true,
    "editable": true
   },
   "source": [
    "<img src=\"graph2.svg\" width=\"500\" />"
   ]
  },
  {
   "cell_type": "code",
   "execution_count": 5,
   "metadata": {
    "collapsed": false,
    "deletable": true,
    "editable": true
   },
   "outputs": [
    {
     "data": {
      "text/html": [
       "<pre style=\"color:slategray;max-height:100px;overflow:hidden\" \n",
       "onclick=\"\n",
       "if (this.style.maxHeight === 'none') \n",
       "    this.style.maxHeight = '100px';\n",
       "else\n",
       "    this.style.maxHeight = 'none'; \n",
       "\">val linspace : float -&gt; float -&gt; int -&gt; float list = &lt;fun&gt;\n",
       "</pre>"
      ]
     },
     "execution_count": 5,
     "metadata": {},
     "output_type": "execute_result"
    }
   ],
   "source": [
    "let linspace debut fin nbre_pts =\n",
    "     let step = (fin-.debut)/.(float_of_int (nbre_pts-1)) in\n",
    "     let rec loop i acc =\n",
    "         if i<nbre_pts\n",
    "         then loop (i+1) ((debut+.(float_of_int i)*.step)::acc)\n",
    "         else List.rev acc in\n",
    "       loop 0 [];;"
   ]
  },
  {
   "cell_type": "code",
   "execution_count": 6,
   "metadata": {
    "collapsed": false
   },
   "outputs": [
    {
     "data": {
      "text/html": [
       "<pre style=\"color:slategray;max-height:100px;overflow:hidden\" \n",
       "onclick=\"\n",
       "if (this.style.maxHeight === 'none') \n",
       "    this.style.maxHeight = '100px';\n",
       "else\n",
       "    this.style.maxHeight = 'none'; \n",
       "\">val array_min : 'a array -&gt; 'a = &lt;fun&gt;\n",
       "</pre>"
      ]
     },
     "execution_count": 6,
     "metadata": {},
     "output_type": "execute_result"
    },
    {
     "data": {
      "text/html": [
       "<pre style=\"color:slategray;max-height:100px;overflow:hidden\" \n",
       "onclick=\"\n",
       "if (this.style.maxHeight === 'none') \n",
       "    this.style.maxHeight = '100px';\n",
       "else\n",
       "    this.style.maxHeight = 'none'; \n",
       "\">val array_max : 'a array -&gt; 'a = &lt;fun&gt;\n",
       "</pre>"
      ]
     },
     "execution_count": 6,
     "metadata": {},
     "output_type": "execute_result"
    }
   ],
   "source": [
    "let array_min array = Array.fold_right min array array.(0);;\n",
    "let array_max array = Array.fold_right max array array.(0);;"
   ]
  },
  {
   "cell_type": "code",
   "execution_count": 7,
   "metadata": {
    "collapsed": false,
    "deletable": true,
    "editable": true
   },
   "outputs": [
    {
     "data": {
      "text/html": [
       "<pre style=\"color:slategray;max-height:100px;overflow:hidden\" \n",
       "onclick=\"\n",
       "if (this.style.maxHeight === 'none') \n",
       "    this.style.maxHeight = '100px';\n",
       "else\n",
       "    this.style.maxHeight = 'none'; \n",
       "\">val pow : int -&gt; int -&gt; int = &lt;fun&gt;\n",
       "</pre>"
      ]
     },
     "execution_count": 7,
     "metadata": {},
     "output_type": "execute_result"
    }
   ],
   "source": [
    "let rec pow x n =\n",
    "    if n=0 then 1 else\n",
    "    if n mod 2 = 0 then pow (x*x) (n/2) else x*(pow (x*x) (n/2))"
   ]
  },
  {
   "cell_type": "code",
   "execution_count": 8,
   "metadata": {
    "collapsed": false
   },
   "outputs": [
    {
     "data": {
      "text/html": [
       "<pre style=\"color:slategray;max-height:100px;overflow:hidden\" \n",
       "onclick=\"\n",
       "if (this.style.maxHeight === 'none') \n",
       "    this.style.maxHeight = '100px';\n",
       "else\n",
       "    this.style.maxHeight = 'none'; \n",
       "\">val num_pow : Num.num -&gt; int -&gt; Num.num = &lt;fun&gt;\n",
       "</pre>"
      ]
     },
     "execution_count": 8,
     "metadata": {},
     "output_type": "execute_result"
    }
   ],
   "source": [
    "let rec num_pow x n =\n",
    "    if n = 0 then Int 1 else\n",
    "    if n mod 2 = 0 then num_pow (x*/x) (n/2) else x*/(num_pow (x*/x) (n/2))"
   ]
  },
  {
   "cell_type": "code",
   "execution_count": 9,
   "metadata": {
    "collapsed": false,
    "deletable": true,
    "editable": true
   },
   "outputs": [
    {
     "data": {
      "text/html": [
       "<pre style=\"color:slategray;max-height:100px;overflow:hidden\" \n",
       "onclick=\"\n",
       "if (this.style.maxHeight === 'none') \n",
       "    this.style.maxHeight = '100px';\n",
       "else\n",
       "    this.style.maxHeight = 'none'; \n",
       "\">val c_iter_num : int -&gt; int -&gt; Num.num = &lt;fun&gt;\n",
       "</pre>"
      ]
     },
     "execution_count": 9,
     "metadata": {},
     "output_type": "execute_result"
    }
   ],
   "source": [
    "let c_iter_num n p =\n",
    "    let p' = (if p>n/2 then n-p else p) in\n",
    "    if p<0 || n<0 then print_string \"probleme\";\n",
    "    let rec loop num res den =\n",
    "        if num<n+1 then\n",
    "            loop (num+1) (res*/(Int num)//den) (den+/(Int 1))\n",
    "        else res in\n",
    "    loop (p'+1) (Int 1) (Int 1);;\n"
   ]
  },
  {
   "cell_type": "code",
   "execution_count": 10,
   "metadata": {
    "collapsed": false,
    "deletable": true,
    "editable": true
   },
   "outputs": [
    {
     "data": {
      "text/html": [
       "<pre style=\"color:slategray;max-height:100px;overflow:hidden\" \n",
       "onclick=\"\n",
       "if (this.style.maxHeight === 'none') \n",
       "    this.style.maxHeight = '100px';\n",
       "else\n",
       "    this.style.maxHeight = 'none'; \n",
       "\">- : unit = ()\n",
       "</pre>"
      ]
     },
     "execution_count": 10,
     "metadata": {},
     "output_type": "execute_result"
    }
   ],
   "source": [
    "let liste_log_N = linspace 1. 5. 10 in\n",
    "let liste_N = List.map (fun log_N -> int_of_float (10.**log_N)) liste_log_N in\n",
    "let liste_log_proba_max = List.map (fun n -> log10 (omega n (n/2) /.(2.**(float_of_int n)))) liste_N in\n",
    "\n",
    "let xs = Array.of_list liste_log_N in\n",
    "let ys = Array.of_list liste_log_proba_max in\n",
    "\n",
    "let p = initialisation \"graph3a\" 1. 5. (array_min ys) (array_max ys) in\n",
    "P.plot ~stream:p [P.lines `blue xs ys;\n",
    "                  xlabel \"log (N)\";\n",
    "                  ylabel \"nombre maximum de microétats: log(Pmax)\"];\n",
    "P.finish ~stream:p ();;"
   ]
  },
  {
   "cell_type": "markdown",
   "metadata": {
    "deletable": true,
    "editable": true
   },
   "source": [
    "<img src=\"graph3a.svg\" width=\"500\" />"
   ]
  },
  {
   "cell_type": "code",
   "execution_count": 11,
   "metadata": {
    "collapsed": false,
    "deletable": true,
    "editable": true
   },
   "outputs": [
    {
     "data": {
      "text/html": [
       "<pre style=\"color:slategray;max-height:100px;overflow:hidden\" \n",
       "onclick=\"\n",
       "if (this.style.maxHeight === 'none') \n",
       "    this.style.maxHeight = '100px';\n",
       "else\n",
       "    this.style.maxHeight = 'none'; \n",
       "\">- : unit = ()\n",
       "</pre>"
      ]
     },
     "execution_count": 11,
     "metadata": {},
     "output_type": "execute_result"
    }
   ],
   "source": [
    "let liste_log_N = linspace 1. 5. 10 in\n",
    "let liste_N = List.map (fun log_N -> int_of_float (10.**log_N)) liste_log_N in\n",
    "let liste_log_proba_max = List.map (fun n -> log10 ( float_of_num (c_iter_num n (n/2) // num_pow (Int 2) n))) liste_N in\n",
    "\n",
    "let xs = Array.of_list liste_log_N in\n",
    "let ys = Array.of_list liste_log_proba_max in\n",
    "\n",
    "let p = initialisation \"graph3b\" 1. 5. (array_min ys) (array_max ys) in\n",
    "P.plot ~stream:p [P.lines `blue xs ys;\n",
    "                  xlabel \"log (N)\";\n",
    "                  ylabel \"nombre maximum de microétats: log(Pmax)\"];\n",
    "P.finish ~stream:p ();;"
   ]
  },
  {
   "cell_type": "markdown",
   "metadata": {
    "deletable": true,
    "editable": true
   },
   "source": [
    "<img src=\"graph3b.svg\" width=\"500\" />"
   ]
  },
  {
   "cell_type": "code",
   "execution_count": 12,
   "metadata": {
    "collapsed": false
   },
   "outputs": [
    {
     "data": {
      "text/html": [
       "<pre style=\"color:slategray;max-height:100px;overflow:hidden\" \n",
       "onclick=\"\n",
       "if (this.style.maxHeight === 'none') \n",
       "    this.style.maxHeight = '100px';\n",
       "else\n",
       "    this.style.maxHeight = 'none'; \n",
       "\">val array_map2 : ('a -&gt; 'b -&gt; 'c) -&gt; 'a array -&gt; 'b array -&gt; 'c array = &lt;fun&gt;\n",
       "</pre>"
      ]
     },
     "execution_count": 12,
     "metadata": {},
     "output_type": "execute_result"
    }
   ],
   "source": [
    "let array_map2 func arr1 arr2 =\n",
    "    Array.init (Array.length arr1) (fun i -> func arr1.(i) arr2.(i));;"
   ]
  },
  {
   "cell_type": "code",
   "execution_count": 13,
   "metadata": {
    "collapsed": false,
    "deletable": true,
    "editable": true
   },
   "outputs": [
    {
     "data": {
      "text/html": [
       "<pre style=\"color:slategray;max-height:100px;overflow:hidden\" \n",
       "onclick=\"\n",
       "if (this.style.maxHeight === 'none') \n",
       "    this.style.maxHeight = '100px';\n",
       "else\n",
       "    this.style.maxHeight = 'none'; \n",
       "\">val regression_lineaire : float array -&gt; float array -&gt; float * float = &lt;fun&gt;\n",
       "</pre>"
      ]
     },
     "execution_count": 13,
     "metadata": {},
     "output_type": "execute_result"
    }
   ],
   "source": [
    "let regression_lineaire array_x array_y =\n",
    "    let n = Array.length array_x in\n",
    "    let sum_x = Array.fold_right (+.) array_x 0.0 in\n",
    "    let sum_y = Array.fold_right (+.) array_y 0.0 in\n",
    "    let array_xy = array_map2 ( *. ) array_x array_y in\n",
    "    let sum_xy = Array.fold_right (+.) array_xy 0.0 in\n",
    "    let sum_x2 = Array.fold_right (fun x y -> x*.x+.y) array_x 0.0 in\n",
    "    let den = (float_of_int n)*.sum_x2-.(sum_x)**2. in\n",
    "    let c0=(sum_y*.sum_x2-.sum_x*.sum_xy)/.den in\n",
    "    let c1=((float_of_int n)*.sum_xy-.sum_x*.sum_y)/.den in\n",
    "    c0,c1;;"
   ]
  },
  {
   "cell_type": "code",
   "execution_count": 15,
   "metadata": {
    "collapsed": false
   },
   "outputs": [
    {
     "data": {
      "text/html": [
       "<pre style=\"color:slategray;max-height:100px;overflow:hidden\" \n",
       "onclick=\"\n",
       "if (this.style.maxHeight === 'none') \n",
       "    this.style.maxHeight = '100px';\n",
       "else\n",
       "    this.style.maxHeight = 'none'; \n",
       "\">- : float * float = (-0.106357086538980891, -0.497921390612055592)\n",
       "</pre>"
      ]
     },
     "execution_count": 15,
     "metadata": {},
     "output_type": "execute_result"
    }
   ],
   "source": [
    "let liste_log_N = linspace 1. 5. 10 in\n",
    "let liste_N = List.map (fun log_N -> int_of_float (10.**log_N)) liste_log_N in\n",
    "let liste_log_proba_max = List.map (fun n -> log10 ( float_of_num (c_iter_num n (n/2) // num_pow (Int 2) n))) liste_N in\n",
    "\n",
    "let xs = Array.of_list liste_log_N in\n",
    "let ys = Array.of_list liste_log_proba_max in\n",
    "let ordonnee_origine, pente =regression_lineaire xs ys in\n",
    "ordonnee_origine,pente;;"
   ]
  },
  {
   "cell_type": "code",
   "execution_count": null,
   "metadata": {
    "collapsed": true
   },
   "outputs": [],
   "source": []
  }
 ],
 "metadata": {
  "kernelspec": {
   "display_name": "OCaml",
   "language": "ocaml",
   "name": "iocaml"
  },
  "language_info": {
   "name": "ocaml",
   "version": "4.1.0"
  }
 },
 "nbformat": 4,
 "nbformat_minor": 2
}
