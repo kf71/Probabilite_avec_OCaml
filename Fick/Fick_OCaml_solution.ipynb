{
 "cells": [
  {
   "cell_type": "markdown",
   "metadata": {
    "deletable": true,
    "editable": true
   },
   "source": [
    "<h1> Fick </h1>"
   ]
  },
  {
   "cell_type": "markdown",
   "metadata": {},
   "source": [
    "<h2>Enoncé</h2>\n",
    "\n",
    "En 1855, Adolph Fick réalise une expérience pour vérifier la loi de diffusion qui porte son nom.\n",
    "Fick place une couche de chlorure de sodium (NaCl) dans le fond d'un récipient d'eau.\n",
    "Au sommet, ce récipient est surmonté par un réservoir d'eau non salée (voir fig 1).\n",
    "\n",
    "\n",
    "Le sel diffuse du fond vers le sommet du récipent et Fick mesure la concentration $C$ en sel en fonction de l'altitude $z$\n",
    "(par densitométrie). Suivant la géométrie du récipent, la section $S(z)$ change et les profils de concentrations varient.\n",
    "\n",
    "<center>\n",
    "<img src=\"Fick_fig1.svg\" />\n",
    "\n",
    "Figure 1\n",
    "</center>\n",
    "\n",
    "<h3>Calcul théorique</h3>\n",
    "\n",
    "En notant $D$ le coefficient de diffusion du sel dans l'eau, l'équation de diffusion (seconde loi de Fick) s'écrit:\n",
    "$$D.\\left[\\frac{\\partial^2 C}{\\partial z^2}+\\frac{\\partial C}{\\partial z}.\\frac{1}{S(z)}.\\frac{\\textrm{d}S}{\\textrm{d}z}\\right]=\\frac{\\partial C}{\\partial t}$$\n",
    "\n",
    "En régime permanent ($\\frac{\\partial}{\\partial t}\\equiv0$), l'équation devient:\n",
    "\n",
    "$$\\left[\\frac{\\partial^2 C}{\\partial z^2}+\\frac{\\partial C}{\\partial z}.\\frac{1}{S(z)}.\\frac{\\textrm{d}S}{\\textrm{d}z}\\right]=0$$\n",
    "\n",
    "En posant $C'=\\frac{\\partial C}{\\partial z}$, on obtient:\n",
    "\n",
    "$$\\left[\\frac{\\textrm{d}C'}{\\textrm{d} z}+C'.\\frac{1}{S(z)}.\\frac{\\textrm{d}S}{\\textrm{d}z}\\right]=0$$\n",
    "\n",
    "On note $\\ell_{base}$ la demi-largeur de la base du récipient (en $z=0$) et $\\ell_{sommet}$ la demi-largeur du sommet (en $z=z_{max}$). Soit $m=\\frac{\\ell_{sommet}-\\ell_{base}}{z_{max}}$ la pente de la paroi du récipient.\n",
    "\n",
    "On étudie deux géométries:\n",
    "<ul>\n",
    "<li> à deux dimensions, le problème est un prisme d'épaisseur $h$\n",
    "<li> à trois dimensions, le problème est invariant par rotation autour de l'axe $(Oz)$.\n",
    "</ul>\n",
    "\n",
    "&Agrave; deux dimensions, on a: $S(z)=\\ell(z)\\times h$; on obtient: $\\frac{\\textrm{d}C'}{C'}=\\frac{-m}{\\ell_{base}+m.z}.\\textrm{d}z$<br>\n",
    "ce qui donne: $C(z)=\\frac{\\alpha_2}{m}.\\log(\\ell_{base}+m.z)+\\gamma_2$ si $m\\neq0$\n",
    "\n",
    "&Agrave; trois dimensions, on a: $S(z)=\\pi\\times \\left(\\ell(z)\\right)^2$; on obtient: $\\frac{\\textrm{d}C'}{C'}=\\frac{-2.m}{\\ell_{base}+m.z}.\\textrm{d}z$<br>\n",
    "ce qui donne: $C(z)=-\\frac{\\alpha_3}{m}.(\\ell_{base}+m.z)^{-1}+\\gamma_3$  si $m\\neq0$\n",
    "\n",
    "Les conditions limites sont $C(z=z_{max})=0\\%$ et $C(z=0)=100\\%$ ce qui permet de calculer les constantes d'intégration $\\alpha_i$ et $\\gamma_i$.\n",
    "\n",
    "On pose $\\beta=\\frac{\\ell_{sommet}}{\\ell_{base}}$ et ${\\cal Z}=\\frac z{z_{max}}$.\n",
    "\n",
    "&Agrave; deux dimensions, la solution est:\n",
    "$$\\frac{C(z)-C(0)}{C(z_{max})-C(0)}=\\frac{1}{\\log(\\beta)}.\\log\\left(1+(\\beta-1).{\\cal Z}\\right)\\textrm{     si $\\beta\\neq1$}$$\n",
    "$$\\frac{C(z)-C(0)}{C(z_{max})-C(0)}={\\cal Z}\\textrm{     si $\\beta=1$}$$\n",
    "\n",
    "&Agrave; trois dimensions, la solution est: $$\\frac{C(z)-C(0)}{C(z_{max})-C(0)}=\\frac{\\beta.{\\cal Z}}{1+(\\beta-1).{\\cal Z}}$$\n",
    "\n",
    "Graphiquement, on obtient:\n",
    "\n",
    "<center>\n",
    "<table>\n",
    "<tr><td>2D </td><td> 3D </td></tr>\n",
    "<tr><td><img src=\"2D_z_f(C).svg\" /> </td><td> <img src=\"3D_z_f(C).svg\" /> </td></tr>\n",
    "</table>\n",
    "<i>$\\beta=1$ correspond à $\\ell_{sommet}=\\ell_{base}$; $\\beta<1$ correspond à $\\ell_{sommet}<\\ell_{base}$ (comme sur la figure 1).</i>\n",
    "</center>\n",
    "\n",
    "<h3>Résolution par marche au hasard</h3>\n",
    "\n",
    "On raisonne avec une unité de longueur <tt>u</tt> arbitraire.\n",
    "\n",
    "On souhaite retrouver les résultats du cas à deux dimensions (avec une épaisseur $h=1$ <tt>u</tt>) en effectuant une marche au hasard.\n",
    "\n",
    "<h4>Méthode 1</h4>\n",
    "\n",
    "On fixe la taille des pas à $\\lambda=0.1$ <tt>u</tt> (correspondant à l'écart-type du processus aléatoire gaussien).\n",
    "On prend $z_{max}=10$ <tt>u</tt>. On impose un nombre de pas $n=100\\,000$. \n",
    "On a donc $n.\\lambda\\gg z_{max}$: les particules peuvent faire plusieurs allers-retours entre la base et le sommet du récipient.\n",
    "\n",
    "Méthode:\n",
    "<ol>\n",
    "<li> On fixe une géométrie en choisissant $\\beta$.<br>\n",
    "Soient $\\ell_{max}=1$ <tt>u</tt> et $\\ell_{min}=\\textrm{min}(\\ell_{base},\\ell_{sommet})=\\frac18$ <tt>u</tt>.<br>\n",
    "On considère un rectangle de hauteur $z_{max}=10$ <tt>u</tt> et largeur totale $2.\\ell_{max}=2$ <tt>u</tt> (soit une surface de 20 <tt>u</tt>$^2$).\n",
    "<li> On tire au sort les positions $(x_i,z_i)$ de 2000 molécules d'eau dans le rectangle (ce qui correspond à une densité moyenne de 100 molécules.<tt>u</tt>$^{-3}$ pour $h=1$ <tt>u</tt>)<br>\n",
    "- si la position de la molécule est à l'intérieur du récipient, on garde la molécule;<br>\n",
    "- sinon, on l'élimine.<br>\n",
    "Cette méthode permet de garantir que, quelle que soit la valeur de $\\beta$, la concentration en molécules sera toujours d'environ 100 molécules.<tt>u</tt>$^{-3}$.<br>\n",
    "Exemple: dans le cas où $\\ell_{base}=\\ell_{sommet}=\\ell_{min}=\\frac18$ <tt>u</tt>, on a un rectangle de surface 2,5 <tt>u</tt>$^2$ avec environ 250 molécules.\n",
    "<center>\n",
    "<table>\n",
    "<tr><td><img src=\"etat_initial_beta_1_8.svg\"> </td><td> <img src=\"etat_initial_beta_1.svg\"> </td><td> <img src=\"etat_initial_beta_8.svg\"></td></tr>\n",
    "<tr><td>$\\beta=\\frac18$ </td><td> $\\beta=1$ </td><td> $\\beta=8$</td></tr>\n",
    "</table>\n",
    "&Eacute;tat initial\n",
    "</center>\n",
    "\n",
    "<li>  On ne prend pas en compte les interactions entre les molécules.<br>\n",
    "Pour chaque molécule, on réitère $n$ fois l'opération suivante:\n",
    "<ul>\n",
    "<li> on tire au sort un angle $\\theta$ dans $[0,2.\\pi]$\n",
    "<li> on déplace la molécule de $\\Delta x=\\lambda.\\cos\\theta$ et $\\Delta z=\\lambda.\\sin\\theta$\n",
    "<li> si la molécule sort des limites latérales du récipient, on la fait rebondir sur la paroi\n",
    "<li> si la molécule atteint $z>z_{max}$, on la transforme en molécule d'eau (et on la fait rebondir vers le bas)\n",
    "<li> si la molécule atteint $z<0$, on la transforme en sel (et on la fait rebondir vers le haut)\n",
    "</ul>\n",
    "<center>\n",
    "<table>\n",
    "<tr><td><img src=\"etat_final_beta_1_8.svg\"> </td><td> <img src=\"etat_final_beta_1.svg\"> </td><td> <img src=\"etat_final_beta_8.svg\"></td></tr>\n",
    "<tr><td>$\\beta=\\frac18$ </td><td> $\\beta=1$ </td><td> $\\beta=8$</td></tr>\n",
    "</table>\n",
    "&Eacute;tat final: en bleu les molécules d'eau, en rouge Na$^+$Cl$^-$\n",
    "</center>\n",
    "\n",
    "<li> On découpe l'intervalle $[0,z_{max}]$ en 50 intervalles égaux $Z_{i\\in[1,50]}$.<br>\n",
    "On classe chaque molécule dans l'intervalle $Z_{i}$ qui correspond à son altitude $z$ finale en notant son état (salé ou non).<br>\n",
    "On obtient un histogramme\\footnote\n",
    "{Attention: dans le cas particulier où $\\ell_{base}=\\ell_{sommet}=\\ell_{min}=\\frac18$ <tt>u</tt>, il n'y a au total que 250 molécules; ce qui fait, en moyenne, 5 molécules (salée ou non) par intervalle. Mais, en raison des fluctuations statistiques, certains intervalles $Z_i$ peuvent ne contenir aucune molécule. Dans ce cas, on reprendra la concentration $C_{i-1}$ de l'intervalle précédent.}\n",
    " des concentrations $C_i$ allant de 100% (pour l'intervalle $i=1$ débutant à $z=0$) à 0% (pour l'intervalle $i=50$ finissant à $z=z_{max}$).\n",
    "<li> On réitère 100 fois les opérations de 2 à 4 et on effectue la moyenne $\\overline{C_i}$ des histogrammes $C_i$.<br>\n",
    "On trace $Z_i=f(\\overline{C_i})$\n",
    "</ol>\n",
    "\n",
    "<h4>Méthode 2</h4>\n",
    "\n",
    "On fixe la taille des pas à $\\lambda=0.1$ <tt>u</tt> (correspondant à l'écart-type du processus aléatoire gaussien).\n",
    "On prend $z_{max}=10$ <tt>u</tt>.\n",
    "\n",
    "On suppose que le système est ergodique(<i></i>hypothèse ergodique: à l'équilibre, la valeur moyenne d'une grandeur calculée de manière statistique est égale à la moyenne d'un très grand nombre de mesures prises dans le temps.}. On considère l'évolution d'une seule particule qui fait $n=100\\,000\\,000$ pas. \n",
    "\n",
    "Méthode:\n",
    "<ol>\n",
    "<li> On fixe une géométrie en choisissant $\\beta$.<br>\n",
    "Soient $\\ell_{max}=1$ <tt>u</tt> et $\\ell_{min}=\\textrm{min}(\\ell_{base},\\ell_{sommet})=\\frac18$ <tt>u</tt>.<br>\n",
    "On considère un rectangle de hauteur $z_{max}=10$ <tt>u</tt> et largeur totale $2.\\ell_{max}=2$ <tt>u</tt> (soit une surface de 20 <tt>u</tt>$^2$).\n",
    "<li> On découpe l'intervalle $[0,z_{max}]$ en 50 intervalles égaux $Z_{i\\in[1,50]}$.\n",
    "<li> On tire au sort la position $(x,z)$ d'une seule particule (dans les limite du récipient).\n",
    "<li>  Pour cette molécule, on réitère $n$ fois l'opération suivante:\n",
    "<ul>\n",
    "<li> on tire au sort un angle $\\theta$ dans $[0,2.\\pi]$\n",
    "<li> on déplace la molécule de $\\Delta x=\\lambda.\\cos\\theta$ et $\\Delta z=\\lambda.\\sin\\theta$\n",
    "<li> si la molécule sort des limites latérales du récipient, on la fait rebondir sur la paroi\n",
    "<li> si la molécule atteint $z>z_{max}$, on la transforme en molécule d'eau (et on la fait rebondir vers le bas)\n",
    "<li> si la molécule atteint $z<0$, on la transforme en sel (et on la fait rebondir vers le haut)\n",
    "\n",
    "<li> Après chaque déplacement élémentaire, on classe la molécule dans l'intervalle $Z_{i}$ qui correspond à son altitude $z$ finale en notant son état (salé ou non).\n",
    "</ul>\n",
    "On obtient un histogramme des concentrations $C_i$ allant de 100% (pour l'intervalle $i=1$ débutant à $z=0$) à 0% (pour l'intervalle $i=50$ finissant à $z=z_{max}$).\n",
    "</ol>\n",
    "\n",
    "\n",
    "<h3>Aide pour le rebond sur les parois latérales</h3>\n",
    "\n",
    "<h4>Méthode rigoureuse</h4>\n",
    "\n",
    "On appelle $A$ le point de la paroi de coordonnées $(\\pm\\ell_{base},0)$\n",
    "et $B$ le point de la paroi de coordonnées $(\\pm\\ell_{sommet},z_{max})$.\n",
    "\n",
    "Si un point $M(x,z)$ dépasse la droite $(AB)$, il faut prendre son symétrique $M'(x',z')$ correspondant à une réflexion sur la paroi $(AB)$.\n",
    "\n",
    "Soit $H$ la projection de $M$ sur $\\overrightarrow{AB}$.\n",
    "\n",
    "$H$ est défini par: $\\overrightarrow{AH}=\\frac{(\\overrightarrow{AB}.\\overrightarrow{AM})}{||\\overrightarrow{AB}||}.\\vec u_{AB}=(\\overrightarrow{AB}.\\overrightarrow{AM}).\\frac{\\overrightarrow{AB}}{||\\overrightarrow{AB}||^2}$\n",
    "\n",
    "On a: $\\overrightarrow{HM}=\\overrightarrow{AM}-\\overrightarrow{AH}$.\n",
    "\n",
    "D'où: $\\overrightarrow{HM'}=-\\overrightarrow{HM}=\\overrightarrow{AH}-\\overrightarrow{AM}$.\n",
    "\n",
    "On calcule: $\\overrightarrow{OM'}=\\overrightarrow{OA}+\\overrightarrow{AH}+\\overrightarrow{HM'}\n",
    "=\\overrightarrow{OA}+\\overrightarrow{AH}+(\\overrightarrow{AH}-\\overrightarrow{AM})\n",
    "=\\overrightarrow{OA}+2.\\overrightarrow{AH}-\\overrightarrow{AM}$\n",
    "\n",
    "$\\overrightarrow{OM'}=\\overrightarrow{OA}+\\overrightarrow{MA}+2.(\\overrightarrow{AB}.\\overrightarrow{AM}).\\frac{\\overrightarrow{AB}}{||\\overrightarrow{AB}||^2}\n",
    "=\\overrightarrow{OA}+(\\overrightarrow{MO}+\\overrightarrow{OA})+2.(\\overrightarrow{AB}.\\overrightarrow{AM}).\\frac{\\overrightarrow{AB}}{||\\overrightarrow{AB}||^2}$\n",
    "\n",
    "$\\overrightarrow{OM'}=2.\\overrightarrow{OA}-\\overrightarrow{OM}+2.(\\overrightarrow{AB}.\\overrightarrow{AM}).\\frac{\\overrightarrow{AB}}{||\\overrightarrow{AB}||^2}$\n",
    "\n",
    "\n",
    "On pose: $u=x_B-x_A$; $v=z_B-z_A$\n",
    "\n",
    "$x'= 2.x_A-x+2.((x_B-x_A).(x-x_A)+(z_B-z_A).(z-z_A)).\\frac{(x_B-x_A)}{(x_B-x_A)^2+(z_B-z_A)^2}$\n",
    "\n",
    "$x'= 2.x_A-x+2.(u.(x-x_A)+v.(z-z_A)).\\frac{u}{u^2+v^2}$\n",
    "\n",
    "$x'= \\frac{(2.x_A-x).(u^2+v^2)+2.(u^2.(x-x_A)+u.v.(z-z_A))}{u^2+v^2}$\n",
    "\n",
    "$x'=\\frac{x.(u^2-v^2)+2.x_A.v^2+2.u.v.(z-z_A)}{u^2+v^2}$\n",
    "\n",
    "De même pour $z'$:\n",
    "\n",
    "$z'= 2.z_A-z+2.((x_B-x_A).(x-x_A)+(z_B-z_A).(z-z_A)).\\frac{(z_B-z_A)}{(x_B-x_A)^2+(z_B-z_A)^2}$\n",
    "\n",
    "$z'= 2.z_A-z+2.(u.(x-x_A)+v.(z-z_A)).\\frac{v}{u^2+v^2}$\n",
    "\n",
    "$z'= \\frac{(2.z_A-z).(u^2+v^2)+2.(u.v.(x-x_A)+v^2.(z-z_A))}{u^2+v^2}$\n",
    "\n",
    "$z'=\\frac{z.(v^2-u^2)+2.z_A.u^2+2.u.v.(x-x_A)}{u^2+v^2}$\n",
    "\n",
    "<h4>Méthode simpliste</h4>\n",
    "\n",
    "Si l'on voit que le déplacement $(\\Delta x,\\Delta y)$ fait sortir la molécule des limites latérales, on annule simplement le déplacement.\n",
    "\n",
    "<h2>Bibliographie</h2>\n",
    "\n",
    "<ul>\n",
    "<li> A. Fick, Poggendorff’s Annalen, 94, 3, (1855) 59-86.\n",
    "<li> Simulation of Fick’s Verification of the 2nd Law. Richard DiDomizio, Afina Lupulescu, Martin E. Glicksman. Diffusion Fundamentals 4 (2006) 2.1 - 2.14\n",
    "</ul>"
   ]
  },
  {
   "cell_type": "markdown",
   "metadata": {},
   "source": [
    "<h1>Solution</h1>"
   ]
  },
  {
   "cell_type": "code",
   "execution_count": 1,
   "metadata": {
    "collapsed": false,
    "deletable": true,
    "editable": true
   },
   "outputs": [
    {
     "name": "stdout",
     "output_type": "stream",
     "text": [
      "- : unit = ()\n",
      "Findlib has been successfully loaded. Additional directives:\n",
      "  #require \"package\";;      to load a package\n",
      "  #list;;                   to list the available packages\n",
      "  #camlp4o;;                to load camlp4 (standard syntax)\n",
      "  #camlp4r;;                to load camlp4 (revised syntax)\n",
      "  #predicates \"p,q,...\";;   to set these predicates\n",
      "  Topfind.reset();;         to force that packages will be reloaded\n",
      "  #thread;;                 to enable threads\n",
      "\n",
      "- : unit = ()\n"
     ]
    },
    {
     "name": "stderr",
     "output_type": "stream",
     "text": [
      "/usr/lib/ocaml/plplot: added to search path\n",
      "/usr/lib/ocaml/plplot/plplot.cma: loaded\n"
     ]
    }
   ],
   "source": [
    "#directory \"/root/.opam/system/lib/toplevel\";;\n",
    "#use \"topfind\";;\n",
    "#require \"plplot\";;"
   ]
  },
  {
   "cell_type": "code",
   "execution_count": 2,
   "metadata": {
    "collapsed": false,
    "deletable": true,
    "editable": true
   },
   "outputs": [
    {
     "data": {
      "text/html": [
       "<pre style=\"color:slategray;max-height:100px;overflow:hidden\" \n",
       "onclick=\"\n",
       "if (this.style.maxHeight === 'none') \n",
       "    this.style.maxHeight = '100px';\n",
       "else\n",
       "    this.style.maxHeight = 'none'; \n",
       "\">module P = Plplot.Plot\n",
       "</pre>"
      ]
     },
     "execution_count": 2,
     "metadata": {},
     "output_type": "execute_result"
    },
    {
     "data": {
      "text/html": [
       "<pre style=\"color:slategray;max-height:100px;overflow:hidden\" \n",
       "onclick=\"\n",
       "if (this.style.maxHeight === 'none') \n",
       "    this.style.maxHeight = '100px';\n",
       "else\n",
       "    this.style.maxHeight = 'none'; \n",
       "\">val couleurs_list : int list list =\n",
       "  [[0; 255; 255; 255]; [1; 0; 0; 0]; [2; 0; 0; 255]; [3; 255; 0; 0];\n",
       "   [4; 165; 42; 42]; [5; 0; 0; 0]; [6; 0; 0; 0]; [7; 0; 0; 0]; [8; 0; 0; 0];\n",
       "   [9; 0; 0; 0]; [10; 200; 200; 200]; [11; 0; 255; 255]; [12; 0; 255; 0];\n",
       "   [13; 255; 255; 0]; [14; 255; 0; 255]; [15; 160; 0; 213]]\n",
       "</pre>"
      ]
     },
     "execution_count": 2,
     "metadata": {},
     "output_type": "execute_result"
    },
    {
     "data": {
      "text/html": [
       "<pre style=\"color:slategray;max-height:100px;overflow:hidden\" \n",
       "onclick=\"\n",
       "if (this.style.maxHeight === 'none') \n",
       "    this.style.maxHeight = '100px';\n",
       "else\n",
       "    this.style.maxHeight = 'none'; \n",
       "\">val loop : int list list -&gt; unit = &lt;fun&gt;\n",
       "</pre>"
      ]
     },
     "execution_count": 2,
     "metadata": {},
     "output_type": "execute_result"
    },
    {
     "data": {
      "text/html": [
       "<pre style=\"color:slategray;max-height:100px;overflow:hidden\" \n",
       "onclick=\"\n",
       "if (this.style.maxHeight === 'none') \n",
       "    this.style.maxHeight = '100px';\n",
       "else\n",
       "    this.style.maxHeight = 'none'; \n",
       "\">val couleurs : unit -&gt; unit = &lt;fun&gt;\n",
       "</pre>"
      ]
     },
     "execution_count": 2,
     "metadata": {},
     "output_type": "execute_result"
    },
    {
     "data": {
      "text/html": [
       "<pre style=\"color:slategray;max-height:100px;overflow:hidden\" \n",
       "onclick=\"\n",
       "if (this.style.maxHeight === 'none') \n",
       "    this.style.maxHeight = '100px';\n",
       "else\n",
       "    this.style.maxHeight = 'none'; \n",
       "\">val initialisation : string -&gt; float -&gt; float -&gt; float -&gt; float -&gt; P.stream_t =\n",
       "  &lt;fun&gt;\n",
       "</pre>"
      ]
     },
     "execution_count": 2,
     "metadata": {},
     "output_type": "execute_result"
    },
    {
     "data": {
      "text/html": [
       "<pre style=\"color:slategray;max-height:100px;overflow:hidden\" \n",
       "onclick=\"\n",
       "if (this.style.maxHeight === 'none') \n",
       "    this.style.maxHeight = '100px';\n",
       "else\n",
       "    this.style.maxHeight = 'none'; \n",
       "\">val xlabel : string -&gt; P.plot_t = &lt;fun&gt;\n",
       "</pre>"
      ]
     },
     "execution_count": 2,
     "metadata": {},
     "output_type": "execute_result"
    },
    {
     "data": {
      "text/html": [
       "<pre style=\"color:slategray;max-height:100px;overflow:hidden\" \n",
       "onclick=\"\n",
       "if (this.style.maxHeight === 'none') \n",
       "    this.style.maxHeight = '100px';\n",
       "else\n",
       "    this.style.maxHeight = 'none'; \n",
       "\">val ylabel : string -&gt; P.plot_t = &lt;fun&gt;\n",
       "</pre>"
      ]
     },
     "execution_count": 2,
     "metadata": {},
     "output_type": "execute_result"
    }
   ],
   "source": [
    "open Plplot;;\n",
    "module P = Plot;;\n",
    "let couleurs_list = [[ 0;255;255;255]; (*`white*)\n",
    "                     [ 1;  0;  0;  0]; (*`black*)\n",
    "                     [ 2;  0;  0;255]; (*`blue*)\n",
    "                     [ 3;255;  0;  0]; (*`red*)\n",
    "                     [ 4;165; 42; 42]; (*`brown*)\n",
    "                     [ 5;  0;  0;  0]; [ 6;  0;  0;  0]; [ 7;  0;  0;  0]; [ 8;  0;  0;  0]; [ 9;  0;  0;  0]; \n",
    "                     [10;200;200;200]; (*`gray*)\n",
    "                     [11;  0;255;255]; (*`light_blue*)\n",
    "                     [12;  0;255;  0]; (*`green*)\n",
    "                     [13;255;255;  0]; (*`yellow*)\n",
    "                     [14;255;  0;255]; (*`pink*)\n",
    "                     [15;160;  0;213]; (*`purple*) ]\n",
    "let rec loop couleurs_list = match couleurs_list with\n",
    "    | [n;r;g;b]::tl -> plscol0 n r g b; loop tl\n",
    "    | _ -> ();;\n",
    "let couleurs = (fun () -> plscolbg 255 255 255; loop couleurs_list)\n",
    "let initialisation filename xmin xmax ymin ymax = \n",
    "        P.init (xmin, ymin) (xmax, ymax) `greedy (`svg `core) ~filename:(filename^\".svg\") ~pre:couleurs\n",
    "let xlabel texte = P.text_outside `black (`bottom 0.5) 3. texte\n",
    "let ylabel texte = P.text_outside `black (`left 0.5) 5. texte "
   ]
  },
  {
   "cell_type": "markdown",
   "metadata": {
    "deletable": true,
    "editable": true
   },
   "source": [
    "Le récipient est défini par le polygone $ABCD$ :\n",
    "\n",
    "$$A\\left(\\frac{2}{\\beta + 1}, -h\\right),\\quad\n",
    "B\\left(\\frac{2\\beta}{\\beta + 1}, h\\right),\\quad\n",
    "C\\left(0, h\\right),\\quad\n",
    "D\\left(0, -h\\right)\n",
    "$$"
   ]
  },
  {
   "cell_type": "code",
   "execution_count": 3,
   "metadata": {
    "collapsed": false,
    "deletable": true,
    "editable": true
   },
   "outputs": [
    {
     "data": {
      "text/html": [
       "<pre style=\"color:slategray;max-height:100px;overflow:hidden\" \n",
       "onclick=\"\n",
       "if (this.style.maxHeight === 'none') \n",
       "    this.style.maxHeight = '100px';\n",
       "else\n",
       "    this.style.maxHeight = 'none'; \n",
       "\">- : unit -&gt; unit = &lt;fun&gt;\n",
       "</pre>"
      ]
     },
     "execution_count": 3,
     "metadata": {},
     "output_type": "execute_result"
    },
    {
     "data": {
      "text/html": [
       "<pre style=\"color:slategray;max-height:100px;overflow:hidden\" \n",
       "onclick=\"\n",
       "if (this.style.maxHeight === 'none') \n",
       "    this.style.maxHeight = '100px';\n",
       "else\n",
       "    this.style.maxHeight = 'none'; \n",
       "\">val lambda : float = 0.1\n",
       "</pre>"
      ]
     },
     "execution_count": 3,
     "metadata": {},
     "output_type": "execute_result"
    },
    {
     "data": {
      "text/html": [
       "<pre style=\"color:slategray;max-height:100px;overflow:hidden\" \n",
       "onclick=\"\n",
       "if (this.style.maxHeight === 'none') \n",
       "    this.style.maxHeight = '100px';\n",
       "else\n",
       "    this.style.maxHeight = 'none'; \n",
       "\">val h : float = 10.\n",
       "</pre>"
      ]
     },
     "execution_count": 3,
     "metadata": {},
     "output_type": "execute_result"
    },
    {
     "data": {
      "text/html": [
       "<pre style=\"color:slategray;max-height:100px;overflow:hidden\" \n",
       "onclick=\"\n",
       "if (this.style.maxHeight === 'none') \n",
       "    this.style.maxHeight = '100px';\n",
       "else\n",
       "    this.style.maxHeight = 'none'; \n",
       "\">val beta : float = 8.\n",
       "</pre>"
      ]
     },
     "execution_count": 3,
     "metadata": {},
     "output_type": "execute_result"
    },
    {
     "data": {
      "text/html": [
       "<pre style=\"color:slategray;max-height:100px;overflow:hidden\" \n",
       "onclick=\"\n",
       "if (this.style.maxHeight === 'none') \n",
       "    this.style.maxHeight = '100px';\n",
       "else\n",
       "    this.style.maxHeight = 'none'; \n",
       "\">val k : int = 50\n",
       "</pre>"
      ]
     },
     "execution_count": 3,
     "metadata": {},
     "output_type": "execute_result"
    },
    {
     "data": {
      "text/html": [
       "<pre style=\"color:slategray;max-height:100px;overflow:hidden\" \n",
       "onclick=\"\n",
       "if (this.style.maxHeight === 'none') \n",
       "    this.style.maxHeight = '100px';\n",
       "else\n",
       "    this.style.maxHeight = 'none'; \n",
       "\">val xA : float = 0.22222222222222221\n",
       "val yA : float = -10.\n",
       "</pre>"
      ]
     },
     "execution_count": 3,
     "metadata": {},
     "output_type": "execute_result"
    },
    {
     "data": {
      "text/html": [
       "<pre style=\"color:slategray;max-height:100px;overflow:hidden\" \n",
       "onclick=\"\n",
       "if (this.style.maxHeight === 'none') \n",
       "    this.style.maxHeight = '100px';\n",
       "else\n",
       "    this.style.maxHeight = 'none'; \n",
       "\">val xB : float = 1.77777777777777768\n",
       "val yB : float = 10.\n",
       "</pre>"
      ]
     },
     "execution_count": 3,
     "metadata": {},
     "output_type": "execute_result"
    },
    {
     "data": {
      "text/html": [
       "<pre style=\"color:slategray;max-height:100px;overflow:hidden\" \n",
       "onclick=\"\n",
       "if (this.style.maxHeight === 'none') \n",
       "    this.style.maxHeight = '100px';\n",
       "else\n",
       "    this.style.maxHeight = 'none'; \n",
       "\">val u : float = 1.55555555555555536\n",
       "</pre>"
      ]
     },
     "execution_count": 3,
     "metadata": {},
     "output_type": "execute_result"
    },
    {
     "data": {
      "text/html": [
       "<pre style=\"color:slategray;max-height:100px;overflow:hidden\" \n",
       "onclick=\"\n",
       "if (this.style.maxHeight === 'none') \n",
       "    this.style.maxHeight = '100px';\n",
       "else\n",
       "    this.style.maxHeight = 'none'; \n",
       "\">val v : float = 20.\n",
       "</pre>"
      ]
     },
     "execution_count": 3,
     "metadata": {},
     "output_type": "execute_result"
    },
    {
     "data": {
      "text/html": [
       "<pre style=\"color:slategray;max-height:100px;overflow:hidden\" \n",
       "onclick=\"\n",
       "if (this.style.maxHeight === 'none') \n",
       "    this.style.maxHeight = '100px';\n",
       "else\n",
       "    this.style.maxHeight = 'none'; \n",
       "\">val uv : float = 31.1111111111111072\n",
       "</pre>"
      ]
     },
     "execution_count": 3,
     "metadata": {},
     "output_type": "execute_result"
    },
    {
     "data": {
      "text/html": [
       "<pre style=\"color:slategray;max-height:100px;overflow:hidden\" \n",
       "onclick=\"\n",
       "if (this.style.maxHeight === 'none') \n",
       "    this.style.maxHeight = '100px';\n",
       "else\n",
       "    this.style.maxHeight = 'none'; \n",
       "\">val uu : float = 2.41975308641975229\n",
       "</pre>"
      ]
     },
     "execution_count": 3,
     "metadata": {},
     "output_type": "execute_result"
    },
    {
     "data": {
      "text/html": [
       "<pre style=\"color:slategray;max-height:100px;overflow:hidden\" \n",
       "onclick=\"\n",
       "if (this.style.maxHeight === 'none') \n",
       "    this.style.maxHeight = '100px';\n",
       "else\n",
       "    this.style.maxHeight = 'none'; \n",
       "\">val vv : float = 400.\n",
       "</pre>"
      ]
     },
     "execution_count": 3,
     "metadata": {},
     "output_type": "execute_result"
    },
    {
     "data": {
      "text/html": [
       "<pre style=\"color:slategray;max-height:100px;overflow:hidden\" \n",
       "onclick=\"\n",
       "if (this.style.maxHeight === 'none') \n",
       "    this.style.maxHeight = '100px';\n",
       "else\n",
       "    this.style.maxHeight = 'none'; \n",
       "\">val deux_pi : float = 6.28318530717958623\n",
       "</pre>"
      ]
     },
     "execution_count": 3,
     "metadata": {},
     "output_type": "execute_result"
    }
   ],
   "source": [
    "open Random;;\n",
    "Random.self_init;;\n",
    "\n",
    "let lambda = 0.1;;\n",
    "let h= 10.;;\n",
    "let beta = 8.;;\n",
    "let k = 50;;\n",
    "let xA =2. /. (beta +. 1.) and yA = -. h;;\n",
    "let xB =2. *. beta /. (beta +. 1.) and yB = h;;\n",
    "let u = xB -. xA;;\n",
    "let v = yB -. yA;;\n",
    "let uv = u*.v;;\n",
    "let uu = u*.u;;\n",
    "let vv = v*.v;;\n",
    "let deux_pi = 2.*.atan(1.)*.4.;;"
   ]
  },
  {
   "cell_type": "code",
   "execution_count": 4,
   "metadata": {
    "collapsed": false,
    "deletable": true,
    "editable": true
   },
   "outputs": [
    {
     "data": {
      "text/html": [
       "<pre style=\"color:slategray;max-height:100px;overflow:hidden\" \n",
       "onclick=\"\n",
       "if (this.style.maxHeight === 'none') \n",
       "    this.style.maxHeight = '100px';\n",
       "else\n",
       "    this.style.maxHeight = 'none'; \n",
       "\">val aire_MNA : float -&gt; float -&gt; float -&gt; float -&gt; float = &lt;fun&gt;\n",
       "</pre>"
      ]
     },
     "execution_count": 4,
     "metadata": {},
     "output_type": "execute_result"
    },
    {
     "data": {
      "text/html": [
       "<pre style=\"color:slategray;max-height:100px;overflow:hidden\" \n",
       "onclick=\"\n",
       "if (this.style.maxHeight === 'none') \n",
       "    this.style.maxHeight = '100px';\n",
       "else\n",
       "    this.style.maxHeight = 'none'; \n",
       "\">val aire_MNB : float -&gt; float -&gt; float -&gt; float -&gt; float = &lt;fun&gt;\n",
       "</pre>"
      ]
     },
     "execution_count": 4,
     "metadata": {},
     "output_type": "execute_result"
    },
    {
     "data": {
      "text/html": [
       "<pre style=\"color:slategray;max-height:100px;overflow:hidden\" \n",
       "onclick=\"\n",
       "if (this.style.maxHeight === 'none') \n",
       "    this.style.maxHeight = '100px';\n",
       "else\n",
       "    this.style.maxHeight = 'none'; \n",
       "\">val aire_ABM : float -&gt; float -&gt; float = &lt;fun&gt;\n",
       "</pre>"
      ]
     },
     "execution_count": 4,
     "metadata": {},
     "output_type": "execute_result"
    },
    {
     "data": {
      "text/html": [
       "<pre style=\"color:slategray;max-height:100px;overflow:hidden\" \n",
       "onclick=\"\n",
       "if (this.style.maxHeight === 'none') \n",
       "    this.style.maxHeight = '100px';\n",
       "else\n",
       "    this.style.maxHeight = 'none'; \n",
       "\">val pas : unit -&gt; float * float = &lt;fun&gt;\n",
       "</pre>"
      ]
     },
     "execution_count": 4,
     "metadata": {},
     "output_type": "execute_result"
    },
    {
     "data": {
      "text/html": [
       "<pre style=\"color:slategray;max-height:100px;overflow:hidden\" \n",
       "onclick=\"\n",
       "if (this.style.maxHeight === 'none') \n",
       "    this.style.maxHeight = '100px';\n",
       "else\n",
       "    this.style.maxHeight = 'none'; \n",
       "\">val rebond_haut : float -&gt; float -&gt; bool -&gt; float * float * bool = &lt;fun&gt;\n",
       "val rebond_bas : float -&gt; float -&gt; bool -&gt; float * float * bool = &lt;fun&gt;\n",
       "val rebond_gauche : float -&gt; float -&gt; bool -&gt; float * float * bool = &lt;fun&gt;\n",
       "val rebond_droite : float -&gt; float -&gt; bool -&gt; float * float * bool = &lt;fun&gt;\n",
       "</pre>"
      ]
     },
     "execution_count": 4,
     "metadata": {},
     "output_type": "execute_result"
    },
    {
     "data": {
      "text/html": [
       "<pre style=\"color:slategray;max-height:100px;overflow:hidden\" \n",
       "onclick=\"\n",
       "if (this.style.maxHeight === 'none') \n",
       "    this.style.maxHeight = '100px';\n",
       "else\n",
       "    this.style.maxHeight = 'none'; \n",
       "\">val rebond : float -&gt; float -&gt; float -&gt; float -&gt; bool -&gt; float * float * bool =\n",
       "  &lt;fun&gt;\n",
       "</pre>"
      ]
     },
     "execution_count": 4,
     "metadata": {},
     "output_type": "execute_result"
    },
    {
     "data": {
      "text/html": [
       "<pre style=\"color:slategray;max-height:100px;overflow:hidden\" \n",
       "onclick=\"\n",
       "if (this.style.maxHeight === 'none') \n",
       "    this.style.maxHeight = '100px';\n",
       "else\n",
       "    this.style.maxHeight = 'none'; \n",
       "\">val simul : int -&gt; int array * int array = &lt;fun&gt;\n",
       "</pre>"
      ]
     },
     "execution_count": 4,
     "metadata": {},
     "output_type": "execute_result"
    }
   ],
   "source": [
    "let aire_MNA x y dx dy =\n",
    "dx *. (yA-.y) -. dy*.(xA-.x);;\n",
    "\n",
    "let aire_MNB x y dx dy =\n",
    "dx *. (yB-.y) -. dy*.(xB-.x);;\n",
    "\n",
    "let aire_ABM x y =\n",
    "u *. (y-.yA) -. v *.(x-.xA);;\n",
    "\n",
    "let pas () =\n",
    "  let r = Random.float deux_pi in \n",
    "  lambda*.cos(r),lambda*.sin(r);;\n",
    "  \n",
    "let rec rebond_haut x y s =\n",
    "   (let y'=2.*.h-.y in\n",
    "   if x<0. then\n",
    "      rebond_gauche x y' false\n",
    "   else if aire_ABM x y' < 0. then\n",
    "      rebond_droite x y' false\n",
    "    else x,y',false)\n",
    "    \n",
    "and rebond_bas x y s =\n",
    "   (let y' = -. 2.*.h-.y in\n",
    "   if x<0. then\n",
    "      rebond_gauche x y' true\n",
    "   else if aire_ABM x y' < 0. then\n",
    "      rebond_droite x y' true\n",
    "    else x,y',true)\n",
    "    \n",
    "and rebond_gauche x y s = \n",
    "    (let x' = -. x in\n",
    "    if y>h then\n",
    "        rebond_haut x' y s\n",
    "    else if y < -. h then\n",
    "        rebond_bas x' y s\n",
    "     else x',y,s)\n",
    "     \n",
    "and rebond_droite x y s =\n",
    "    (let x' = ((uu-.vv)*.x+.2.*.vv*.xA+.2.*.uv*.(y-.yA))/.(uu+.vv) in\n",
    "    let y' = ((vv-.uu)*.y+.2.*.uu*.yA+.2.*.uv*.(x-.xA))/.(uu+.vv) in\n",
    "    if y'>h then\n",
    "        rebond_haut x' y' s\n",
    "    else if y'< -. h then\n",
    "        rebond_bas x' y' s\n",
    "    else x',y',s);; \n",
    "\n",
    "let rebond x y dx dy s =\n",
    "  if (y +. dy) > h && aire_MNB x y dx dy < 0. then\n",
    "     rebond_haut (x+.dx) (y+.dy) s\n",
    "  else if (y +. dy) < -. h && aire_MNA x y dx dy > 0. then\n",
    "     rebond_bas (x+.dx) (y+.dy) s\n",
    "  else if (x+.dx) < 0. then\n",
    "     rebond_gauche (x+.dx) (y+.dy) s\n",
    "  else if aire_ABM (x+.dx) (y+.dy) < 0. then\n",
    "     rebond_droite (x+.dx) (y+.dy) s\n",
    "  else (x+.dx),(y+.dy),s;;\n",
    "  \n",
    "let simul n =\n",
    "  let x=ref 0.5 and y=ref 0. and s=ref false in\n",
    "  let total =Array.make k 0 in\n",
    "  let sel = Array.make k 0 in\n",
    "  \n",
    "  for i = 0 to (n-1) do\n",
    "      let dx,dy = pas() in\n",
    "      let x',y',s' = rebond !x !y dx dy !s in\n",
    "      x:=x';y:=y';s:=s';\n",
    "      let jj = int_of_float((!y+.h)/.(2.*.h)*.float_of_int(k)) in\n",
    "      let j = max 0 (min (k-1) jj) in\n",
    "      if j!=jj then print_string (\"probleme j=\"^string_of_int(jj)^\"\\n\");\n",
    "      try\n",
    "      total.(j) <- total.(j) +1;\n",
    "      if !s then sel.(j)<-sel.(j)+1;\n",
    "      with\n",
    "      Invalid_argument \"index out of bounds\" -> (print_int j;print_string\"\\n\";)\n",
    "  done;\n",
    "  total,sel;;"
   ]
  },
  {
   "cell_type": "code",
   "execution_count": 5,
   "metadata": {
    "collapsed": false,
    "deletable": true,
    "editable": true
   },
   "outputs": [
    {
     "data": {
      "text/html": [
       "<pre style=\"color:slategray;max-height:100px;overflow:hidden\" \n",
       "onclick=\"\n",
       "if (this.style.maxHeight === 'none') \n",
       "    this.style.maxHeight = '100px';\n",
       "else\n",
       "    this.style.maxHeight = 'none'; \n",
       "\">val t : int array =\n",
       "  [|509464; 574077; 628378; 684305; 746218; 810727; 865846; 927425; 993214;\n",
       "    1060265; 1125917; 1194701; 1263313; 1336636; 1390261; 1452344; 1524224;\n",
       "    1575115; 1648510; 1717091; 1761729; 1811877; 1851240; 1915942; 1996562;\n",
       "    2060231; 2120504; 2164822; 2230100; 2318206; 2404718; 2453231; 2490211;\n",
       "    2522335; 2567179; 2631018; 2670579; 2726622; 2765135; 2810074; 2877861;\n",
       "    2947912; 3013258; 3090951; 3153699; 3210818; 3281143; 3322917; 3378826;\n",
       "    3422269|]\n",
       "val s : int array =\n",
       "  [|488774; 513714; 529854; 545372; 562371; 577370; 589375; 601432; 613447;\n",
       "    621810; 633264; 648868; 663224; 669187; 665528; 658229; 653755; 634537;\n",
       "    639493; 643340; 621620; 607771; 596033; 578762; 568286; 555541; 550537;\n",
       "    527920; 513665; 504828; 497989; 477788; 451686; 436016; 416743; 392601;\n",
       "    358326; 334759; 309257; 280710; 257560; 232098; 210820; 187449; 163466;\n",
       "    137120; 109644; 78711; 48382; 17935|]\n",
       "</pre>"
      ]
     },
     "execution_count": 5,
     "metadata": {},
     "output_type": "execute_result"
    }
   ],
   "source": [
    "let t,s = simul (100*1000*1000);;"
   ]
  },
  {
   "cell_type": "code",
   "execution_count": 6,
   "metadata": {
    "collapsed": false,
    "deletable": true,
    "editable": true
   },
   "outputs": [
    {
     "data": {
      "text/html": [
       "<pre style=\"color:slategray;max-height:100px;overflow:hidden\" \n",
       "onclick=\"\n",
       "if (this.style.maxHeight === 'none') \n",
       "    this.style.maxHeight = '100px';\n",
       "else\n",
       "    this.style.maxHeight = 'none'; \n",
       "\">val concentrations : float array =\n",
       "  [|0.; 0.; 0.; 0.; 0.; 0.; 0.; 0.; 0.; 0.; 0.; 0.; 0.; 0.; 0.; 0.; 0.; 0.;\n",
       "    0.; 0.; 0.; 0.; 0.; 0.; 0.; 0.; 0.; 0.; 0.; 0.; 0.; 0.; 0.; 0.; 0.; 0.;\n",
       "    0.; 0.; 0.; 0.; 0.; 0.; 0.; 0.; 0.; 0.; 0.; 0.; 0.; 0.|]\n",
       "</pre>"
      ]
     },
     "execution_count": 6,
     "metadata": {},
     "output_type": "execute_result"
    },
    {
     "data": {
      "text/html": [
       "<pre style=\"color:slategray;max-height:100px;overflow:hidden\" \n",
       "onclick=\"\n",
       "if (this.style.maxHeight === 'none') \n",
       "    this.style.maxHeight = '100px';\n",
       "else\n",
       "    this.style.maxHeight = 'none'; \n",
       "\">- : unit = ()\n",
       "</pre>"
      ]
     },
     "execution_count": 6,
     "metadata": {},
     "output_type": "execute_result"
    }
   ],
   "source": [
    "let concentrations = Array.make k 0.;;\n",
    "for i= 0 to (k-1) do\n",
    "  concentrations.(i) <- float_of_int s.(i) /. float_of_int t.(i);\n",
    "done;"
   ]
  },
  {
   "cell_type": "code",
   "execution_count": 7,
   "metadata": {
    "collapsed": false,
    "deletable": true,
    "editable": true
   },
   "outputs": [
    {
     "data": {
      "text/html": [
       "<pre style=\"color:slategray;max-height:100px;overflow:hidden\" \n",
       "onclick=\"\n",
       "if (this.style.maxHeight === 'none') \n",
       "    this.style.maxHeight = '100px';\n",
       "else\n",
       "    this.style.maxHeight = 'none'; \n",
       "\">val altitudes : float array =\n",
       "  [|0.; 0.4; 0.8; 1.2; 1.6; 2.; 2.4; 2.80000000000000027; 3.2;\n",
       "    3.59999999999999964; 4.; 4.4; 4.8; 5.2; 5.60000000000000053; 6.; 6.4;\n",
       "    6.80000000000000071; 7.19999999999999929; 7.6; 8.; 8.4; 8.8;\n",
       "    9.20000000000000107; 9.6; 10.; 10.4; 10.8; 11.2000000000000011; 11.6;\n",
       "    12.; 12.4; 12.8; 13.2000000000000011; 13.6000000000000014; 14.;\n",
       "    14.3999999999999986; 14.8; 15.2; 15.6000000000000014; 16.; 16.4; 16.8;\n",
       "    17.2; 17.6; 18.; 18.4000000000000021; 18.7999999999999972; 19.2; 19.6|]\n",
       "</pre>"
      ]
     },
     "execution_count": 7,
     "metadata": {},
     "output_type": "execute_result"
    }
   ],
   "source": [
    "let altitudes = Array.init k (fun x-> (float_of_int x) /. (float_of_int k)*.2.*.h);;"
   ]
  },
  {
   "cell_type": "code",
   "execution_count": 8,
   "metadata": {
    "collapsed": false,
    "deletable": true,
    "editable": true
   },
   "outputs": [
    {
     "data": {
      "text/html": [
       "<pre style=\"color:slategray;max-height:100px;overflow:hidden\" \n",
       "onclick=\"\n",
       "if (this.style.maxHeight === 'none') \n",
       "    this.style.maxHeight = '100px';\n",
       "else\n",
       "    this.style.maxHeight = 'none'; \n",
       "\">- : unit = ()\n",
       "</pre>"
      ]
     },
     "execution_count": 8,
     "metadata": {},
     "output_type": "execute_result"
    }
   ],
   "source": [
    "let p = initialisation \"image\" 0. 1. 0. 20. in\n",
    "P.plot ~stream:p [P.lines `black concentrations altitudes;xlabel \"concentration relative\"; ylabel \"altitude\"];\n",
    "P.finish ~stream:p ();;"
   ]
  },
  {
   "cell_type": "markdown",
   "metadata": {
    "collapsed": false,
    "deletable": true,
    "editable": true
   },
   "source": [
    "<img src=\"./image.svg\" width=750 />"
   ]
  },
  {
   "cell_type": "code",
   "execution_count": null,
   "metadata": {
    "collapsed": false,
    "deletable": true,
    "editable": true
   },
   "outputs": [],
   "source": []
  }
 ],
 "metadata": {
  "kernelspec": {
   "display_name": "OCaml",
   "language": "ocaml",
   "name": "iocaml"
  },
  "language_info": {
   "name": "ocaml",
   "version": "4.1.0"
  }
 },
 "nbformat": 4,
 "nbformat_minor": 0
}
