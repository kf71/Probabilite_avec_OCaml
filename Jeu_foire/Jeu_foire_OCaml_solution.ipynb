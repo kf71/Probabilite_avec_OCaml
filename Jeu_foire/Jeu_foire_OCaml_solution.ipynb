{
 "cells": [
  {
   "cell_type": "markdown",
   "metadata": {},
   "source": [
    "<h1>Jeu à la foire </h1>\n",
    "<h2> Enoncé :</h2>\n",
    "\n",
    "On propose le jeu suivant :\n",
    "<ul>\n",
    "    <li> on mise 1€,\n",
    "    <li> on choisit un nombre entre 1 et 6,\n",
    "    <li>  on lance 3 dés\n",
    "    <ul>\n",
    "         <li> si le nombre choisi sort 1 fois, on gagne la mise + 1 €\n",
    "         <li> si le nombre choisi sort 2 fois, on gagne la mise + 2 €\n",
    "         <li> si le nombre choisi sort 3 fois, on gagne la mise + 3 €   \n",
    "   </ul>\n",
    "</ul>\n",
    "\n",
    "Simuler 10 000 parties, quelle est l'espérance de gain ?\n",
    "Retrouver ce résultat théoriquement."
   ]
  },
  {
   "cell_type": "markdown",
   "metadata": {},
   "source": [
    "\n",
    "<h3>Résultat théorique :</h3>\n",
    "\n",
    "Nombre de tirages possibles: $6^3=216$\n",
    "\n",
    "Perte du gain: (3 mauvais tirages) $5\\times5\\times5=125$\n",
    "\n",
    "Gain: mise + 1€: (1 bon tirage pour le 1er, le 2nd ou le 3ème dé) $5\\times5\\times1+5\\times1\\times5+1\\times5\\times5=75$\n",
    "\n",
    "Gain: mise + 2€: (2 bons tirages pour le 1er+2nd ou 1er+3ème ou 2nd+3ème dé) $1\\times1\\times5+1\\times5\\times1+5\\times1\\times1=15$\n",
    "\n",
    "Gain: mise + 3€: (3 bons tirages): 1\n",
    "\n",
    "Espérance: $-1\\times\\frac{125}{216}+1\\times\\frac{75}{216}+2\\times\\frac{15}{216}+3\\times\\frac1{216}=-\\frac{17}{216}\\simeq -0.079$."
   ]
  },
  {
   "cell_type": "code",
   "execution_count": 22,
   "metadata": {
    "collapsed": false
   },
   "outputs": [
    {
     "data": {
      "text/html": [
       "<pre style=\"color:slategray;max-height:100px;overflow:hidden\" \n",
       "onclick=\"\n",
       "if (this.style.maxHeight === 'none') \n",
       "    this.style.maxHeight = '100px';\n",
       "else\n",
       "    this.style.maxHeight = 'none'; \n",
       "\">- : unit -&gt; unit = &lt;fun&gt;\n",
       "</pre>"
      ]
     },
     "execution_count": 22,
     "metadata": {},
     "output_type": "execute_result"
    }
   ],
   "source": [
    "open Random;;\n",
    "Random.self_init;;"
   ]
  },
  {
   "cell_type": "code",
   "execution_count": 23,
   "metadata": {
    "collapsed": false
   },
   "outputs": [
    {
     "data": {
      "text/html": [
       "<pre style=\"color:slategray;max-height:100px;overflow:hidden\" \n",
       "onclick=\"\n",
       "if (this.style.maxHeight === 'none') \n",
       "    this.style.maxHeight = '100px';\n",
       "else\n",
       "    this.style.maxHeight = 'none'; \n",
       "\">val compte : 'a -&gt; 'a list -&gt; int -&gt; int = &lt;fun&gt;\n",
       "</pre>"
      ]
     },
     "execution_count": 23,
     "metadata": {},
     "output_type": "execute_result"
    }
   ],
   "source": [
    "let rec compte choix liste_des acc =\n",
    "   match liste_des with\n",
    "   |[] -> acc\n",
    "   |hd::tl -> if hd=choix then compte choix tl (acc+1)\n",
    "              else compte choix tl acc;;"
   ]
  },
  {
   "cell_type": "code",
   "execution_count": 24,
   "metadata": {
    "collapsed": false
   },
   "outputs": [
    {
     "data": {
      "text/html": [
       "<pre style=\"color:slategray;max-height:100px;overflow:hidden\" \n",
       "onclick=\"\n",
       "if (this.style.maxHeight === 'none') \n",
       "    this.style.maxHeight = '100px';\n",
       "else\n",
       "    this.style.maxHeight = 'none'; \n",
       "\">val loop : int -&gt; int -&gt; int = &lt;fun&gt;\n",
       "</pre>"
      ]
     },
     "execution_count": 24,
     "metadata": {},
     "output_type": "execute_result"
    }
   ],
   "source": [
    "let rec loop num_essai solde =\n",
    "  if num_essai = 0 then solde else\n",
    "  begin\n",
    "    let choix = Random.int 6 in\n",
    "    let de1 = Random.int 6 in\n",
    "    let de2 = Random.int 6 in\n",
    "    let de3 = Random.int 6 in\n",
    "    \n",
    "    let nbre = compte choix (de1::de2::de3::[]) 0 in\n",
    "    if nbre>0 then loop (num_essai-1) (solde+nbre)\n",
    "    else loop (num_essai-1) (solde-1);\n",
    "  end;;"
   ]
  },
  {
   "cell_type": "code",
   "execution_count": 25,
   "metadata": {
    "collapsed": false
   },
   "outputs": [
    {
     "data": {
      "text/html": [
       "<pre style=\"color:slategray;max-height:100px;overflow:hidden\" \n",
       "onclick=\"\n",
       "if (this.style.maxHeight === 'none') \n",
       "    this.style.maxHeight = '100px';\n",
       "else\n",
       "    this.style.maxHeight = 'none'; \n",
       "\">- : float = -0.08003\n",
       "</pre>"
      ]
     },
     "execution_count": 25,
     "metadata": {},
     "output_type": "execute_result"
    }
   ],
   "source": [
    "let nbre_essais = 100000 in\n",
    "float_of_int(loop nbre_essais 0) /. float_of_int (nbre_essais)"
   ]
  },
  {
   "cell_type": "code",
   "execution_count": null,
   "metadata": {
    "collapsed": false
   },
   "outputs": [],
   "source": []
  }
 ],
 "metadata": {
  "kernelspec": {
   "display_name": "OCaml",
   "language": "ocaml",
   "name": "iocaml"
  },
  "language_info": {
   "name": "ocaml",
   "version": "4.1.0"
  }
 },
 "nbformat": 4,
 "nbformat_minor": 0
}
