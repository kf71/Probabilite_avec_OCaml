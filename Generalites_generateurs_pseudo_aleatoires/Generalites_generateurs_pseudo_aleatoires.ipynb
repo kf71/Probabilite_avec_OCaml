{
 "cells": [
  {
   "cell_type": "markdown",
   "metadata": {},
   "source": [
    "<h1>Les générateurs de nombres aléatoires</h1>\n",
    "\n",
    "Il n'existe pas de méthode numérique pour tirer des nombres aléatoires selon une distribution uniforme.\n",
    "<br>\n",
    "\n",
    "On peut en revanche tirer des nombres à partir de suites pseudo-aléatoires; ces suites doivent, en théorie, vérifier\n",
    "une infinité de critères: la moyenne, la variance et tous les moments de la distribution doivent également être ceux\n",
    "d'une distribution uniforme.\n",
    "<br>\n",
    "\n",
    "Les nombres étant représentés par un nombre fini de bits, les générateurs pseudo-aléatoires sont forcément périodiques.\n",
    "Il est nécessaire (mais pas suffisant) que cette période soit très grande (en tous cas très supérieure au nombre de tirages nécessaires pour effectuer une simulation de type Monte-Carlo).\n",
    "<br>\n",
    "\n",
    "Il faut également que les séquences de nombres ne soient pas corrélées entre elles.\n",
    "<br>\n",
    "\n",
    "Il existe deux types d'algorithme pour générer des suites pseudo-aléatoires: ceux basés sur la congruence linéaire et ceux basés sur le déplacement de registre.\n",
    "\n",
    "<h2>Congruence linéaire</h2>\n",
    "\n",
    "On initialise une suite par $x_0$ et on calcule $x_{n+1}=(a.x_n+c)\\,\\textrm{mod}\\,m$. On obtient des nombres entre 0 et $m-1$ avec une période $m$; il faut donc que $m$ soit très grand.\n",
    "<br>\n",
    "\n",
    "On peut augmenter la période en mixant des suites (ex: générateur rng cmrg):\n",
    "$z_n=(x_n-y_n)\\,\\textrm{mod}\\,m_1$ avec $\\left\\{\\begin{matrix}\n",
    "x_n=(a_1.x_{n-1}+a_2.x_{n-2}+a_3.x_{n-3}\\,\\textrm{mod}\\,m_1\\\\\n",
    "y_n=(b_1.y_{n-1}+b_2.y_{n-2}+b_3.y_{n-3}\\,\\textrm{mod}\\,m_2\\hfill\\\\\n",
    "\\end{matrix}\\right.$ (P. Lecuyer).\n",
    "\n",
    "<h2>Déplacement de registre</h2>\n",
    "\n",
    "On initialise une suite avec 250 termes (de $x_1$ à $x_{250}$) et on calcule $x_n=x_{n-103}\\oplus x_{n-250}$ où $\\oplus$ est l'opération XOR (Kirkpatrick et Stoll).\n"
   ]
  },
  {
   "cell_type": "code",
   "execution_count": null,
   "metadata": {
    "collapsed": true
   },
   "outputs": [],
   "source": []
  }
 ],
 "metadata": {
  "kernelspec": {
   "display_name": "Python 3",
   "language": "python",
   "name": "python3"
  },
  "language_info": {
   "codemirror_mode": {
    "name": "ipython",
    "version": 3
   },
   "file_extension": ".py",
   "mimetype": "text/x-python",
   "name": "python",
   "nbconvert_exporter": "python",
   "pygments_lexer": "ipython3",
   "version": "3.5.2"
  }
 },
 "nbformat": 4,
 "nbformat_minor": 2
}
