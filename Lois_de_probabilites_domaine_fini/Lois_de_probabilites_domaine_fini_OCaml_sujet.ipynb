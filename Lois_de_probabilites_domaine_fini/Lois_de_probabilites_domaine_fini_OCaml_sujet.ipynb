{
 "cells": [
  {
   "cell_type": "markdown",
   "metadata": {
    "deletable": true,
    "editable": true
   },
   "source": [
    "<h1>Lois de probabilités sur un domaine fini</h1>\n",
    "\n",
    "On note $[[a,b]]$ l'intervalle d'entiers: $a, a+1, a+2,\\dots, b-1, b$."
   ]
  },
  {
   "cell_type": "markdown",
   "metadata": {
    "deletable": true,
    "editable": true
   },
   "source": [
    "<h2> Loi uniforme</h2>\n",
    "\n",
    "Ecrire une fonction $f\\_{uniforme}(x,a,b)$ qui renvoie la distribution de probabilité uniforme discrète pour $x$ sur l'intervalle $[[a,b]]$ (avec $a<b$)"
   ]
  },
  {
   "cell_type": "code",
   "execution_count": 1,
   "metadata": {
    "collapsed": false,
    "deletable": true,
    "editable": true
   },
   "outputs": [
    {
     "data": {
      "text/html": [
       "<pre style=\"color:slategray;max-height:100px;overflow:hidden\" \n",
       "onclick=\"\n",
       "if (this.style.maxHeight === 'none') \n",
       "    this.style.maxHeight = '100px';\n",
       "else\n",
       "    this.style.maxHeight = 'none'; \n",
       "\">val f_uniforme : int -&gt; int -&gt; int -&gt; float = &lt;fun&gt;\n",
       "</pre>"
      ]
     },
     "execution_count": 1,
     "metadata": {},
     "output_type": "execute_result"
    }
   ],
   "source": [
    "let f_uniforme x a b =\n",
    "    \"à compléter\""
   ]
  },
  {
   "cell_type": "markdown",
   "metadata": {
    "deletable": true,
    "editable": true
   },
   "source": [
    "Tracer la loi uniforme $f\\_{uniforme}(x,2,5)$ sur l'intervalle $[[0,10]]$ "
   ]
  },
  {
   "cell_type": "code",
   "execution_count": 2,
   "metadata": {
    "collapsed": false,
    "deletable": true,
    "editable": true
   },
   "outputs": [
    {
     "name": "stdout",
     "output_type": "stream",
     "text": [
      "- : unit = ()\n",
      "Findlib has been successfully loaded. Additional directives:\n",
      "  #require \"package\";;      to load a package\n",
      "  #list;;                   to list the available packages\n",
      "  #camlp4o;;                to load camlp4 (standard syntax)\n",
      "  #camlp4r;;                to load camlp4 (revised syntax)\n",
      "  #predicates \"p,q,...\";;   to set these predicates\n",
      "  Topfind.reset();;         to force that packages will be reloaded\n",
      "  #thread;;                 to enable threads\n",
      "\n",
      "- : unit = ()\n"
     ]
    },
    {
     "name": "stderr",
     "output_type": "stream",
     "text": [
      "/usr/lib/ocaml/plplot: added to search path\n",
      "/usr/lib/ocaml/plplot/plplot.cma: loaded\n"
     ]
    },
    {
     "data": {
      "text/html": [
       "<pre style=\"color:slategray;max-height:100px;overflow:hidden\" \n",
       "onclick=\"\n",
       "if (this.style.maxHeight === 'none') \n",
       "    this.style.maxHeight = '100px';\n",
       "else\n",
       "    this.style.maxHeight = 'none'; \n",
       "\">module P = Plplot.Plot\n",
       "</pre>"
      ]
     },
     "execution_count": 2,
     "metadata": {},
     "output_type": "execute_result"
    },
    {
     "data": {
      "text/html": [
       "<pre style=\"color:slategray;max-height:100px;overflow:hidden\" \n",
       "onclick=\"\n",
       "if (this.style.maxHeight === 'none') \n",
       "    this.style.maxHeight = '100px';\n",
       "else\n",
       "    this.style.maxHeight = 'none'; \n",
       "\">val couleurs_list : int list list =\n",
       "  [[0; 255; 255; 255]; [1; 0; 0; 0]; [2; 0; 0; 255]; [3; 255; 0; 0];\n",
       "   [4; 165; 42; 42]; [5; 0; 0; 0]; [6; 0; 0; 0]; [7; 0; 0; 0]; [8; 0; 0; 0];\n",
       "   [9; 0; 0; 0]; [10; 200; 200; 200]; [11; 0; 255; 255]; [12; 0; 255; 0];\n",
       "   [13; 255; 255; 0]; [14; 255; 0; 255]; [15; 160; 0; 213]]\n",
       "</pre>"
      ]
     },
     "execution_count": 2,
     "metadata": {},
     "output_type": "execute_result"
    },
    {
     "data": {
      "text/html": [
       "<pre style=\"color:slategray;max-height:100px;overflow:hidden\" \n",
       "onclick=\"\n",
       "if (this.style.maxHeight === 'none') \n",
       "    this.style.maxHeight = '100px';\n",
       "else\n",
       "    this.style.maxHeight = 'none'; \n",
       "\">val loop : int list list -&gt; unit = &lt;fun&gt;\n",
       "</pre>"
      ]
     },
     "execution_count": 2,
     "metadata": {},
     "output_type": "execute_result"
    },
    {
     "data": {
      "text/html": [
       "<pre style=\"color:slategray;max-height:100px;overflow:hidden\" \n",
       "onclick=\"\n",
       "if (this.style.maxHeight === 'none') \n",
       "    this.style.maxHeight = '100px';\n",
       "else\n",
       "    this.style.maxHeight = 'none'; \n",
       "\">val couleurs : unit -&gt; unit = &lt;fun&gt;\n",
       "</pre>"
      ]
     },
     "execution_count": 2,
     "metadata": {},
     "output_type": "execute_result"
    },
    {
     "data": {
      "text/html": [
       "<pre style=\"color:slategray;max-height:100px;overflow:hidden\" \n",
       "onclick=\"\n",
       "if (this.style.maxHeight === 'none') \n",
       "    this.style.maxHeight = '100px';\n",
       "else\n",
       "    this.style.maxHeight = 'none'; \n",
       "\">val initialisation : string -&gt; float -&gt; float -&gt; float -&gt; float -&gt; P.stream_t =\n",
       "  &lt;fun&gt;\n",
       "</pre>"
      ]
     },
     "execution_count": 2,
     "metadata": {},
     "output_type": "execute_result"
    },
    {
     "data": {
      "text/html": [
       "<pre style=\"color:slategray;max-height:100px;overflow:hidden\" \n",
       "onclick=\"\n",
       "if (this.style.maxHeight === 'none') \n",
       "    this.style.maxHeight = '100px';\n",
       "else\n",
       "    this.style.maxHeight = 'none'; \n",
       "\">val xlabel : string -&gt; P.plot_t = &lt;fun&gt;\n",
       "</pre>"
      ]
     },
     "execution_count": 2,
     "metadata": {},
     "output_type": "execute_result"
    },
    {
     "data": {
      "text/html": [
       "<pre style=\"color:slategray;max-height:100px;overflow:hidden\" \n",
       "onclick=\"\n",
       "if (this.style.maxHeight === 'none') \n",
       "    this.style.maxHeight = '100px';\n",
       "else\n",
       "    this.style.maxHeight = 'none'; \n",
       "\">val ylabel : string -&gt; P.plot_t = &lt;fun&gt;\n",
       "</pre>"
      ]
     },
     "execution_count": 2,
     "metadata": {},
     "output_type": "execute_result"
    }
   ],
   "source": [
    "#use \"topfind\";;\n",
    "#require \"plplot\";;\n",
    "open Plplot;;\n",
    "module P = Plot;;\n",
    "let couleurs_list = [[ 0;255;255;255]; (*`white*)\n",
    "                     [ 1;  0;  0;  0]; (*`black*)\n",
    "                     [ 2;  0;  0;255]; (*`blue*)\n",
    "                     [ 3;255;  0;  0]; (*`red*)\n",
    "                     [ 4;165; 42; 42]; (*`brown*)\n",
    "                     [ 5;  0;  0;  0]; [ 6;  0;  0;  0]; [ 7;  0;  0;  0]; [ 8;  0;  0;  0]; [ 9;  0;  0;  0]; \n",
    "                     [10;200;200;200]; (*`gray*)\n",
    "                     [11;  0;255;255]; (*`light_blue*)\n",
    "                     [12;  0;255;  0]; (*`green*)\n",
    "                     [13;255;255;  0]; (*`yellow*)\n",
    "                     [14;255;  0;255]; (*`pink*)\n",
    "                     [15;160;  0;213]; (*`purple*) ]\n",
    "let rec loop couleurs_list = match couleurs_list with\n",
    "    | [n;r;g;b]::tl -> plscol0 n r g b; loop tl\n",
    "    | _ -> ();;\n",
    "let couleurs = (fun () -> plscolbg 255 255 255; loop couleurs_list)\n",
    "let initialisation filename xmin xmax ymin ymax = \n",
    "        P.init (xmin, ymin) (xmax, ymax) `greedy (`svg `core) ~filename:(filename^\".svg\") ~pre:couleurs\n",
    "let xlabel texte = P.text_outside `black (`bottom 0.5) 3. texte\n",
    "let ylabel texte = P.text_outside `black (`left 0.5) 5. texte "
   ]
  },
  {
   "cell_type": "code",
   "execution_count": 3,
   "metadata": {
    "collapsed": false,
    "deletable": true,
    "editable": true
   },
   "outputs": [
    {
     "data": {
      "text/html": [
       "<pre style=\"color:slategray;max-height:100px;overflow:hidden\" \n",
       "onclick=\"\n",
       "if (this.style.maxHeight === 'none') \n",
       "    this.style.maxHeight = '100px';\n",
       "else\n",
       "    this.style.maxHeight = 'none'; \n",
       "\">val bar :\n",
       "  ?x_width:float -&gt;\n",
       "  ?x_offset:float -&gt; P.color_t -&gt; float array -&gt; float array -&gt; P.plot_t =\n",
       "  &lt;fun&gt;\n",
       "</pre>"
      ]
     },
     "execution_count": 3,
     "metadata": {},
     "output_type": "execute_result"
    }
   ],
   "source": [
    "let bar ?x_width ?x_offset color xs ys = \n",
    "    let x_width_ = match x_width with\n",
    "        |None -> 0.4\n",
    "        |Some x -> x in\n",
    "    let x_offset_ = match x_offset with\n",
    "        |None -> 0.\n",
    "        |Some x -> x in\n",
    "    \n",
    "    let x = Array.make (4*(Array.length xs)) 0. in\n",
    "    let y = Array.make (4*(Array.length xs)) 0. in\n",
    "    for i = 0 to Array.length xs - 1 do\n",
    "        x.(4*i)   <- x_offset_ +. xs.(i) -. x_width_;\n",
    "        x.(4*i+1) <- x_offset_ +. xs.(i) -. x_width_;\n",
    "        x.(4*i+2) <- x_offset_ +. xs.(i) +. x_width_;\n",
    "        x.(4*i+3) <- x_offset_ +. xs.(i) +. x_width_;\n",
    "        y.(4*i)   <- 0.;\n",
    "        y.(4*i+1) <- ys.(i);\n",
    "        y.(4*i+2) <- ys.(i);\n",
    "        y.(4*i+3) <- 0.;\n",
    "    done; P.polygon ~fill:true color x y;;"
   ]
  },
  {
   "cell_type": "code",
   "execution_count": 4,
   "metadata": {
    "collapsed": false,
    "deletable": true,
    "editable": true
   },
   "outputs": [
    {
     "data": {
      "text/html": [
       "<pre style=\"color:slategray;max-height:100px;overflow:hidden\" \n",
       "onclick=\"\n",
       "if (this.style.maxHeight === 'none') \n",
       "    this.style.maxHeight = '100px';\n",
       "else\n",
       "    this.style.maxHeight = 'none'; \n",
       "\">val range : int -&gt; int -&gt; int -&gt; int list = &lt;fun&gt;\n",
       "</pre>"
      ]
     },
     "execution_count": 4,
     "metadata": {},
     "output_type": "execute_result"
    }
   ],
   "source": [
    "let range start stop step =\n",
    "   let rec range i acc =\n",
    "      if step>0 && i>=stop then List.rev acc else\n",
    "      if step<0 && i<=stop then List.rev acc else\n",
    "      range (i+step) (i::acc) in\n",
    "   range start [];;"
   ]
  },
  {
   "cell_type": "code",
   "execution_count": 5,
   "metadata": {
    "collapsed": false,
    "deletable": true,
    "editable": true
   },
   "outputs": [
    {
     "data": {
      "text/html": [
       "<pre style=\"color:slategray;max-height:100px;overflow:hidden\" \n",
       "onclick=\"\n",
       "if (this.style.maxHeight === 'none') \n",
       "    this.style.maxHeight = '100px';\n",
       "else\n",
       "    this.style.maxHeight = 'none'; \n",
       "\">- : unit = ()\n",
       "</pre>"
      ]
     },
     "execution_count": 5,
     "metadata": {},
     "output_type": "execute_result"
    }
   ],
   "source": [
    "let liste_x = range 0 10 1 in\n",
    "let xs = Array.of_list (List.map float_of_int liste_x) in\n",
    "let ys = Array.of_list (List.map (fun x -> f_uniforme x 2 5) liste_x) in\n",
    "let p = initialisation \"graph1\" (-.2.) 12. 0. 0.25 in\n",
    "P.plot ~stream:p [bar `blue xs ys];\n",
    "P.finish ~stream:p ();;"
   ]
  },
  {
   "cell_type": "markdown",
   "metadata": {
    "deletable": true,
    "editable": true
   },
   "source": [
    "<img src=\"./graph1.svg\" width=500/>"
   ]
  },
  {
   "cell_type": "markdown",
   "metadata": {
    "deletable": true,
    "editable": true
   },
   "source": [
    "Tracer la fonction de répartition de la loi uniforme $f\\_{uniforme}(x,2,5)$ sur l'intervalle $[[0,10]]$"
   ]
  },
  {
   "cell_type": "code",
   "execution_count": 6,
   "metadata": {
    "collapsed": false,
    "deletable": true,
    "editable": true
   },
   "outputs": [
    {
     "data": {
      "text/html": [
       "<pre style=\"color:slategray;max-height:100px;overflow:hidden\" \n",
       "onclick=\"\n",
       "if (this.style.maxHeight === 'none') \n",
       "    this.style.maxHeight = '100px';\n",
       "else\n",
       "    this.style.maxHeight = 'none'; \n",
       "\">val repartition_uniforme : int -&gt; int -&gt; int -&gt; float = &lt;fun&gt;\n",
       "</pre>"
      ]
     },
     "execution_count": 6,
     "metadata": {},
     "output_type": "execute_result"
    },
    {
     "data": {
      "text/html": [
       "<pre style=\"color:slategray;max-height:100px;overflow:hidden\" \n",
       "onclick=\"\n",
       "if (this.style.maxHeight === 'none') \n",
       "    this.style.maxHeight = '100px';\n",
       "else\n",
       "    this.style.maxHeight = 'none'; \n",
       "\">- : unit = ()\n",
       "</pre>"
      ]
     },
     "execution_count": 6,
     "metadata": {},
     "output_type": "execute_result"
    }
   ],
   "source": [
    "let repartition_uniforme x a b =\n",
    "    \"à compléter\"\n",
    "let liste_x = range 0 11 1 in\n",
    "let xs = Array.of_list (List.map float_of_int liste_x) in\n",
    "let ys = Array.of_list (List.map (fun x -> repartition_uniforme x 2 5)  liste_x) in\n",
    "let p = initialisation \"graph2\" (-.2.) 12. 0. 1.0 in\n",
    "P.plot ~stream:p [bar `blue xs ys];\n",
    "P.finish ~stream:p ();;"
   ]
  },
  {
   "cell_type": "markdown",
   "metadata": {
    "deletable": true,
    "editable": true
   },
   "source": [
    "<img src=\"./graph2.svg\" width=500/>"
   ]
  },
  {
   "cell_type": "markdown",
   "metadata": {
    "deletable": true,
    "editable": true
   },
   "source": [
    "<h2> Loi triangulaire</h2>\n",
    "\n",
    "<h3> Définition (cas discret)</h3>\n",
    "\n",
    "La loi triangulaire discrète de paramètre entier positif $a$ est définie pour tout entier $x$ compris entre $-a$ et $a$ par :\n",
    "\n",
    "$$P ( x ) = \\frac {a+1-|x|}{(a+1)^{2}}$$\n",
    "\n",
    "Ecrire une fonction $f\\_{triangle}(x,a)$ qui renvoie la distribution de probabilité triangulaire discrète pour $x$ sur l'intervalle $[[-a,a]]$"
   ]
  },
  {
   "cell_type": "code",
   "execution_count": 7,
   "metadata": {
    "collapsed": false,
    "deletable": true,
    "editable": true
   },
   "outputs": [
    {
     "data": {
      "text/html": [
       "<pre style=\"color:slategray;max-height:100px;overflow:hidden\" \n",
       "onclick=\"\n",
       "if (this.style.maxHeight === 'none') \n",
       "    this.style.maxHeight = '100px';\n",
       "else\n",
       "    this.style.maxHeight = 'none'; \n",
       "\">val f_triangle : int -&gt; int -&gt; float = &lt;fun&gt;\n",
       "</pre>"
      ]
     },
     "execution_count": 7,
     "metadata": {},
     "output_type": "execute_result"
    }
   ],
   "source": [
    "let f_triangle x a = \n",
    "    \"à compléter\""
   ]
  },
  {
   "cell_type": "markdown",
   "metadata": {
    "deletable": true,
    "editable": true
   },
   "source": [
    "Tracer la loi triangulaire $f\\_{triangle}(x,5)$ sur l'intervalle $[[-10,10]]$"
   ]
  },
  {
   "cell_type": "code",
   "execution_count": 8,
   "metadata": {
    "collapsed": false,
    "deletable": true,
    "editable": true
   },
   "outputs": [
    {
     "data": {
      "text/html": [
       "<pre style=\"color:slategray;max-height:100px;overflow:hidden\" \n",
       "onclick=\"\n",
       "if (this.style.maxHeight === 'none') \n",
       "    this.style.maxHeight = '100px';\n",
       "else\n",
       "    this.style.maxHeight = 'none'; \n",
       "\">- : unit = ()\n",
       "</pre>"
      ]
     },
     "execution_count": 8,
     "metadata": {},
     "output_type": "execute_result"
    }
   ],
   "source": [
    "let liste_x = range (-10) 11 1 in\n",
    "let xs = Array.of_list (List.map float_of_int liste_x) in\n",
    "let ys = Array.of_list (List.map (fun x -> f_triangle x 5) liste_x) in\n",
    "let p = initialisation \"graph3\" (-.15.) 15. 0. 0.18 in\n",
    "P.plot ~stream:p [bar `blue xs ys];\n",
    "P.finish ~stream:p ();;"
   ]
  },
  {
   "cell_type": "markdown",
   "metadata": {
    "deletable": true,
    "editable": true
   },
   "source": [
    "<img src=\"./graph3.svg\" width=500/>"
   ]
  },
  {
   "cell_type": "markdown",
   "metadata": {
    "deletable": true,
    "editable": true
   },
   "source": [
    "<h3> Généralisation (cas continu)</h3>\n",
    "\n",
    "La loi triangulaire <b>continue</b> sur le support $[a ; b]$ et de mode $c$ est définie par la densité suivante sur $[a, b]$ :\n",
    "\n",
    "$$\\displaystyle f\\colon x\\mapsto \n",
    "{\\begin{cases}\\displaystyle {\\frac {2(x-a)}{(b-a)(c-a)}}&{\\text{ si }}a\\leq x<c \\\\\n",
    "\\displaystyle {\\frac {2}{b-a}}&{\\text{si }}x=c\\\\\n",
    "\\displaystyle {\\frac {2(b-x)}{(b-a)(b-c)}}&{\\mbox{ si }}c<x\\leq b\\\\\n",
    "0&{\\text{ sinon}}\\end{cases}}$$\n",
    "\n",
    "Ecrire une fonction $f\\_{triangle}(x,a,b,c)$ qui renvoie la distribution de probabilité triangulaire continue de mode $c$ pour $x$ sur l'intervalle $[[a,b]]$ (avec $a<b$)"
   ]
  },
  {
   "cell_type": "code",
   "execution_count": 9,
   "metadata": {
    "collapsed": false,
    "deletable": true,
    "editable": true
   },
   "outputs": [
    {
     "data": {
      "text/html": [
       "<pre style=\"color:slategray;max-height:100px;overflow:hidden\" \n",
       "onclick=\"\n",
       "if (this.style.maxHeight === 'none') \n",
       "    this.style.maxHeight = '100px';\n",
       "else\n",
       "    this.style.maxHeight = 'none'; \n",
       "\">val f_triangle_continue : float -&gt; float -&gt; float -&gt; float -&gt; float = &lt;fun&gt;\n",
       "</pre>"
      ]
     },
     "execution_count": 9,
     "metadata": {},
     "output_type": "execute_result"
    }
   ],
   "source": [
    "let f_triangle_continue x a b c =\n",
    "    \"à compléter\""
   ]
  },
  {
   "cell_type": "markdown",
   "metadata": {
    "deletable": true,
    "editable": true
   },
   "source": [
    "Tracer la fonction $f\\_{triangle}(x,20,70,50)$ sur l'intervalle $[[0,100]]$"
   ]
  },
  {
   "cell_type": "code",
   "execution_count": 10,
   "metadata": {
    "collapsed": false,
    "deletable": true,
    "editable": true
   },
   "outputs": [
    {
     "data": {
      "text/html": [
       "<pre style=\"color:slategray;max-height:100px;overflow:hidden\" \n",
       "onclick=\"\n",
       "if (this.style.maxHeight === 'none') \n",
       "    this.style.maxHeight = '100px';\n",
       "else\n",
       "    this.style.maxHeight = 'none'; \n",
       "\">- : unit = ()\n",
       "</pre>"
      ]
     },
     "execution_count": 10,
     "metadata": {},
     "output_type": "execute_result"
    }
   ],
   "source": [
    "let liste_x = List.map float_of_int (range 0 101 1) in\n",
    "let xs = Array.of_list liste_x in\n",
    "let ys = Array.of_list (List.map (fun x -> f_triangle_continue x 20. 70. 50.) liste_x) in\n",
    "let p = initialisation \"graph4\" 0. 100. 0. 0.045 in\n",
    "P.plot ~stream:p [P.lines `blue xs ys];\n",
    "P.finish ~stream:p ();;"
   ]
  },
  {
   "cell_type": "markdown",
   "metadata": {
    "deletable": true,
    "editable": true
   },
   "source": [
    "<img src=\"./graph4.svg\" width=500/>"
   ]
  },
  {
   "cell_type": "markdown",
   "metadata": {
    "deletable": true,
    "editable": true
   },
   "source": [
    "<h3> Lien avec la loi uniforme</h3>\n",
    "\n",
    "Le jet d'un dé (à 6 faces) correspond à une distribution de probabilités uniforme.\n",
    "\n",
    "<h4>Somme de deux dés </h4>\n",
    "\n",
    "Ecrire une fonction $somme\\_deux\\_des(x)$ donnant la distribution de probabilités pour le jet de deux dés [on effectue la somme des dés] en effectuant une recherche de tous les cas possibles.\n",
    "\n",
    "Tracer cette fonction sur l'intervalle $[[2,12]]$. "
   ]
  },
  {
   "cell_type": "code",
   "execution_count": 11,
   "metadata": {
    "collapsed": false,
    "deletable": true,
    "editable": true
   },
   "outputs": [
    {
     "data": {
      "text/html": [
       "<pre style=\"color:slategray;max-height:100px;overflow:hidden\" \n",
       "onclick=\"\n",
       "if (this.style.maxHeight === 'none') \n",
       "    this.style.maxHeight = '100px';\n",
       "else\n",
       "    this.style.maxHeight = 'none'; \n",
       "\">val deux_des_exact : int -&gt; float = &lt;fun&gt;\n",
       "</pre>"
      ]
     },
     "execution_count": 11,
     "metadata": {},
     "output_type": "execute_result"
    },
    {
     "data": {
      "text/html": [
       "<pre style=\"color:slategray;max-height:100px;overflow:hidden\" \n",
       "onclick=\"\n",
       "if (this.style.maxHeight === 'none') \n",
       "    this.style.maxHeight = '100px';\n",
       "else\n",
       "    this.style.maxHeight = 'none'; \n",
       "\">- : unit = ()\n",
       "</pre>"
      ]
     },
     "execution_count": 11,
     "metadata": {},
     "output_type": "execute_result"
    }
   ],
   "source": [
    "let deux_des_exact x =\n",
    "    \"à compléter\"\n",
    "let liste_x = range 2 13 1 in\n",
    "let xs = Array.of_list (List.map float_of_int liste_x) in\n",
    "let ys = Array.of_list (List.map (fun x -> deux_des_exact x) liste_x) in\n",
    "let p = initialisation \"graph5\" 0. 14. 0. 0.18 in\n",
    "P.plot ~stream:p [bar `blue xs ys];\n",
    "P.finish ~stream:p ();;"
   ]
  },
  {
   "cell_type": "markdown",
   "metadata": {
    "deletable": true,
    "editable": true
   },
   "source": [
    "<img src=\"./graph5.svg\" width=500/>"
   ]
  },
  {
   "cell_type": "markdown",
   "metadata": {
    "deletable": true,
    "editable": true
   },
   "source": [
    "Refaire le même exercice en simulant (avec la fonction <b>Random.int</b>) 10 000 fois le jet de 2 dés."
   ]
  },
  {
   "cell_type": "code",
   "execution_count": 12,
   "metadata": {
    "collapsed": false,
    "deletable": true,
    "editable": true
   },
   "outputs": [
    {
     "data": {
      "text/html": [
       "<pre style=\"color:slategray;max-height:100px;overflow:hidden\" \n",
       "onclick=\"\n",
       "if (this.style.maxHeight === 'none') \n",
       "    this.style.maxHeight = '100px';\n",
       "else\n",
       "    this.style.maxHeight = 'none'; \n",
       "\">- : unit -&gt; unit = &lt;fun&gt;\n",
       "</pre>"
      ]
     },
     "execution_count": 12,
     "metadata": {},
     "output_type": "execute_result"
    },
    {
     "data": {
      "text/html": [
       "<pre style=\"color:slategray;max-height:100px;overflow:hidden\" \n",
       "onclick=\"\n",
       "if (this.style.maxHeight === 'none') \n",
       "    this.style.maxHeight = '100px';\n",
       "else\n",
       "    this.style.maxHeight = 'none'; \n",
       "\">val deux_des : int -&gt; float = &lt;fun&gt;\n",
       "</pre>"
      ]
     },
     "execution_count": 12,
     "metadata": {},
     "output_type": "execute_result"
    },
    {
     "data": {
      "text/html": [
       "<pre style=\"color:slategray;max-height:100px;overflow:hidden\" \n",
       "onclick=\"\n",
       "if (this.style.maxHeight === 'none') \n",
       "    this.style.maxHeight = '100px';\n",
       "else\n",
       "    this.style.maxHeight = 'none'; \n",
       "\">- : unit = ()\n",
       "</pre>"
      ]
     },
     "execution_count": 12,
     "metadata": {},
     "output_type": "execute_result"
    }
   ],
   "source": [
    "open Random;;\n",
    "Random.self_init;;\n",
    "let deux_des x =\n",
    "    \"à compléter\"\n",
    "let liste_x = range 2 13 1 in\n",
    "let xs = Array.of_list (List.map float_of_int liste_x) in\n",
    "let ys = Array.of_list (List.map (fun x -> deux_des x) liste_x) in\n",
    "let p = initialisation \"graph6\" 0. 14. 0. 0.18 in\n",
    "P.plot ~stream:p [bar `blue xs ys];\n",
    "P.finish ~stream:p ();;"
   ]
  },
  {
   "cell_type": "markdown",
   "metadata": {
    "deletable": true,
    "editable": true
   },
   "source": [
    "<img src=\"./graph6.svg\" width=500/>"
   ]
  },
  {
   "cell_type": "markdown",
   "metadata": {
    "deletable": true,
    "editable": true
   },
   "source": [
    "Trouver les paramètres $a$,$b$,$c$ de la distribution triangulaire qui correspond à cette distribution.\n",
    "Tracer la avec la même échelle que le graphe précédent."
   ]
  },
  {
   "cell_type": "code",
   "execution_count": 13,
   "metadata": {
    "collapsed": false,
    "deletable": true,
    "editable": true
   },
   "outputs": [
    {
     "data": {
      "text/html": [
       "<pre style=\"color:slategray;max-height:100px;overflow:hidden\" \n",
       "onclick=\"\n",
       "if (this.style.maxHeight === 'none') \n",
       "    this.style.maxHeight = '100px';\n",
       "else\n",
       "    this.style.maxHeight = 'none'; \n",
       "\">- : unit = ()\n",
       "</pre>"
      ]
     },
     "execution_count": 13,
     "metadata": {},
     "output_type": "execute_result"
    }
   ],
   "source": [
    "(*borne min=a=1\n",
    "  borne max=b=13\n",
    "  extremum pour c=7 *)\n",
    "let liste_x = range 0 14 1 in\n",
    "let xs = Array.of_list (List.map float_of_int liste_x) in\n",
    "let ys = Array.of_list (List.map (fun x -> f_triangle_continue x 1. 13. 7.) (List.map float_of_int liste_x)) in\n",
    "let ys' = Array.of_list (List.map (fun x -> deux_des_exact x) liste_x) in\n",
    "let p = initialisation \"graph7\" 0. 14. 0. 0.18 in\n",
    "P.plot ~stream:p [bar ~x_width:0.2 ~x_offset:(0.2) `red xs ys;\n",
    "                  bar ~x_width:0.2 ~x_offset:(-.0.2) `blue xs ys';\n",
    "                  P.legend [[P.line_legend \"loi triangulaire\" `red];\n",
    "                            [P.line_legend \"calcul exact\" `blue]]];\n",
    "P.finish ~stream:p ();;"
   ]
  },
  {
   "cell_type": "markdown",
   "metadata": {
    "deletable": true,
    "editable": true
   },
   "source": [
    "<img src=\"./graph7.svg\" width=500/>"
   ]
  },
  {
   "cell_type": "markdown",
   "metadata": {
    "deletable": true,
    "editable": true
   },
   "source": [
    "<h4>Différence de deux dés </h4> \n",
    "\n",
    "Ecrire une fonction $difference\\_deux\\_des(x)$ donnant la distribution de probabilités pour le jet de deux dés [on effectue la valeur absolue de la différence des dés] en effectuant une recherche de tous les cas possibles.\n",
    "\n",
    "Tracer cette fonction sur l'intervalle $[[0,5]]$."
   ]
  },
  {
   "cell_type": "code",
   "execution_count": 14,
   "metadata": {
    "collapsed": false,
    "deletable": true,
    "editable": true
   },
   "outputs": [
    {
     "data": {
      "text/html": [
       "<pre style=\"color:slategray;max-height:100px;overflow:hidden\" \n",
       "onclick=\"\n",
       "if (this.style.maxHeight === 'none') \n",
       "    this.style.maxHeight = '100px';\n",
       "else\n",
       "    this.style.maxHeight = 'none'; \n",
       "\">val deux_des_exact : int -&gt; float = &lt;fun&gt;\n",
       "</pre>"
      ]
     },
     "execution_count": 14,
     "metadata": {},
     "output_type": "execute_result"
    },
    {
     "data": {
      "text/html": [
       "<pre style=\"color:slategray;max-height:100px;overflow:hidden\" \n",
       "onclick=\"\n",
       "if (this.style.maxHeight === 'none') \n",
       "    this.style.maxHeight = '100px';\n",
       "else\n",
       "    this.style.maxHeight = 'none'; \n",
       "\">- : unit = ()\n",
       "</pre>"
      ]
     },
     "execution_count": 14,
     "metadata": {},
     "output_type": "execute_result"
    }
   ],
   "source": [
    "let deux_des_exact x =\n",
    "    \"à compléter\"\n",
    "let liste_x = range 0 7 1 in\n",
    "let xs = Array.of_list (List.map float_of_int liste_x) in\n",
    "let ys = Array.of_list (List.map (fun x -> deux_des_exact x) liste_x) in\n",
    "let p = initialisation \"graph8\" (-.0.5) 6.5 0. 0.3 in\n",
    "P.plot ~stream:p [bar `blue xs ys];\n",
    "P.finish ~stream:p ();;"
   ]
  },
  {
   "cell_type": "markdown",
   "metadata": {
    "deletable": true,
    "editable": true
   },
   "source": [
    "<img src=\"./graph8.svg\" width=500/>"
   ]
  },
  {
   "cell_type": "markdown",
   "metadata": {
    "deletable": true,
    "editable": true
   },
   "source": [
    "Refaire le même exercice en simulant (avec la fonction <b>Random.int</b>) 100 000 fois le jet de 2 dés."
   ]
  },
  {
   "cell_type": "code",
   "execution_count": 15,
   "metadata": {
    "collapsed": false,
    "deletable": true,
    "editable": true
   },
   "outputs": [
    {
     "data": {
      "text/html": [
       "<pre style=\"color:slategray;max-height:100px;overflow:hidden\" \n",
       "onclick=\"\n",
       "if (this.style.maxHeight === 'none') \n",
       "    this.style.maxHeight = '100px';\n",
       "else\n",
       "    this.style.maxHeight = 'none'; \n",
       "\">val deux_des : int -&gt; float = &lt;fun&gt;\n",
       "</pre>"
      ]
     },
     "execution_count": 15,
     "metadata": {},
     "output_type": "execute_result"
    },
    {
     "data": {
      "text/html": [
       "<pre style=\"color:slategray;max-height:100px;overflow:hidden\" \n",
       "onclick=\"\n",
       "if (this.style.maxHeight === 'none') \n",
       "    this.style.maxHeight = '100px';\n",
       "else\n",
       "    this.style.maxHeight = 'none'; \n",
       "\">- : unit = ()\n",
       "</pre>"
      ]
     },
     "execution_count": 15,
     "metadata": {},
     "output_type": "execute_result"
    }
   ],
   "source": [
    "let deux_des x =\n",
    "    \"à compléter\"\n",
    "let liste_x = range 0 7 1 in\n",
    "let xs = Array.of_list (List.map float_of_int liste_x) in\n",
    "let ys = Array.of_list (List.map (fun x -> deux_des x) liste_x) in\n",
    "let p = initialisation \"graph9\" (-.0.5) 6.5 0. 0.30 in\n",
    "P.plot ~stream:p [bar `blue xs ys];\n",
    "P.finish ~stream:p ();;"
   ]
  },
  {
   "cell_type": "markdown",
   "metadata": {
    "deletable": true,
    "editable": true
   },
   "source": [
    "<img src=\"./graph9.svg\" width=500/>"
   ]
  },
  {
   "cell_type": "markdown",
   "metadata": {
    "deletable": true,
    "editable": true
   },
   "source": [
    "Essayer de trouver les paramètres $a$,$b$,$c$ de la distribution triangulaire qui approxime cette distribution.\n",
    "\n",
    "Tracer la avec la même échelle que le graphe précédent.\n",
    "\n",
    "Commenter"
   ]
  },
  {
   "cell_type": "code",
   "execution_count": 16,
   "metadata": {
    "collapsed": false,
    "deletable": true,
    "editable": true
   },
   "outputs": [
    {
     "data": {
      "text/html": [
       "<pre style=\"color:slategray;max-height:100px;overflow:hidden\" \n",
       "onclick=\"\n",
       "if (this.style.maxHeight === 'none') \n",
       "    this.style.maxHeight = '100px';\n",
       "else\n",
       "    this.style.maxHeight = 'none'; \n",
       "\">- : unit = ()\n",
       "</pre>"
      ]
     },
     "execution_count": 16,
     "metadata": {},
     "output_type": "execute_result"
    }
   ],
   "source": [
    "(*borne min=a=-1\n",
    "  borne max=b=6\n",
    "  extremum pour c=1 *)\n",
    "let liste_x = range 0 7 1 in\n",
    "let xs = Array.of_list (List.map float_of_int liste_x) in\n",
    "let ys = Array.of_list (List.map (fun x -> f_triangle_continue x (-.1.) 6. 1.) (List.map float_of_int liste_x)) in\n",
    "let ys' = Array.of_list (List.map (fun x -> deux_des_exact x) liste_x) in\n",
    "let p = initialisation \"graph10\" (-.0.5) 14. 0. 0.30 in\n",
    "P.plot ~stream:p [bar ~x_width:0.2 ~x_offset:(0.2) `red xs ys;\n",
    "                  bar ~x_width:0.2 ~x_offset:(-.0.2) `blue xs ys';\n",
    "                  P.legend [[P.line_legend \"loi triangulaire\" `red];\n",
    "                            [P.line_legend \"calcul exact\" `blue]]];\n",
    "P.finish ~stream:p ();;"
   ]
  },
  {
   "cell_type": "markdown",
   "metadata": {
    "deletable": true,
    "editable": true
   },
   "source": [
    "<img src=\"./graph10.svg\" width=500/>"
   ]
  },
  {
   "cell_type": "markdown",
   "metadata": {
    "deletable": true,
    "editable": true
   },
   "source": [
    "<h5>Commentaire: ça ne marche pas !</h5>\n",
    "\n",
    "Même en essayant de modifier la fonction triangulaire."
   ]
  },
  {
   "cell_type": "code",
   "execution_count": 17,
   "metadata": {
    "collapsed": false,
    "deletable": true,
    "editable": true
   },
   "outputs": [
    {
     "data": {
      "text/html": [
       "<pre style=\"color:slategray;max-height:100px;overflow:hidden\" \n",
       "onclick=\"\n",
       "if (this.style.maxHeight === 'none') \n",
       "    this.style.maxHeight = '100px';\n",
       "else\n",
       "    this.style.maxHeight = 'none'; \n",
       "\">val f_triangle_modif : float -&gt; float -&gt; float -&gt; float -&gt; float -&gt; float =\n",
       "  &lt;fun&gt;\n",
       "</pre>"
      ]
     },
     "execution_count": 17,
     "metadata": {},
     "output_type": "execute_result"
    },
    {
     "data": {
      "text/html": [
       "<pre style=\"color:slategray;max-height:100px;overflow:hidden\" \n",
       "onclick=\"\n",
       "if (this.style.maxHeight === 'none') \n",
       "    this.style.maxHeight = '100px';\n",
       "else\n",
       "    this.style.maxHeight = 'none'; \n",
       "\">- : unit = ()\n",
       "</pre>"
      ]
     },
     "execution_count": 17,
     "metadata": {},
     "output_type": "execute_result"
    }
   ],
   "source": [
    "let f_triangle_modif x a b c maxi =\n",
    "    \"à compléter\"\n",
    "\n",
    "(*borne min=a=-1\n",
    "  borne max=b=6\n",
    "  extremum pour c=1\n",
    "  maxi deux_des_exact(1) *)\n",
    "let liste_x = range 0 7 1 in\n",
    "let xs = Array.of_list (List.map float_of_int liste_x) in\n",
    "let ys = Array.of_list (List.map (fun x -> f_triangle_modif x (-.1.) 6. 1. (deux_des_exact 1)) (List.map float_of_int liste_x)) in\n",
    "let ys' = Array.of_list (List.map (fun x -> deux_des_exact x) liste_x) in\n",
    "let p = initialisation \"graph11\" (-.0.5) 6.5 0. 0.30 in\n",
    "P.plot ~stream:p [bar ~x_width:0.2 ~x_offset:(0.2) `red xs ys;\n",
    "                  bar ~x_width:0.2 ~x_offset:(-.0.2) `blue xs ys';\n",
    "                  P.legend [[P.line_legend \"approx. triangulaire\" `red];\n",
    "                            [P.line_legend \"calcul exact\" `blue]]];\n",
    "P.finish ~stream:p ();;"
   ]
  },
  {
   "cell_type": "markdown",
   "metadata": {
    "deletable": true,
    "editable": true
   },
   "source": [
    "<img src=\"./graph11.svg\" width=500/>"
   ]
  },
  {
   "cell_type": "markdown",
   "metadata": {
    "deletable": true,
    "editable": true
   },
   "source": [
    "<h2> Loi de Bernoulli</h2>\n",
    "\n",
    "La loi de Bernoulli décrit un tirage aléatoire à deux résultats possibles (succès et échec, numérotés 1 et 0), de probabilités respectives $p$ et $1-p$.\n",
    "\n",
    "$P (X=x)=\\left\\{\\begin{array}{ll}\n",
    "p&\\quad {\\mbox{si }}x=1,\\\\\n",
    "1-p&\\quad {\\mbox{si }}x=0,\\\\\n",
    "0&\\quad {\\mbox{sinon.}}\n",
    "\\end{array}\\right.$\n",
    "\n",
    "À l'aide de la fonction <b>Random.float</b>, écrire une fonction $Bernoulli(p)$ qui suit la loi indiquée."
   ]
  },
  {
   "cell_type": "code",
   "execution_count": 18,
   "metadata": {
    "collapsed": false,
    "deletable": true,
    "editable": true
   },
   "outputs": [
    {
     "data": {
      "text/html": [
       "<pre style=\"color:slategray;max-height:100px;overflow:hidden\" \n",
       "onclick=\"\n",
       "if (this.style.maxHeight === 'none') \n",
       "    this.style.maxHeight = '100px';\n",
       "else\n",
       "    this.style.maxHeight = 'none'; \n",
       "\">val bernoulli : float -&gt; int = &lt;fun&gt;\n",
       "</pre>"
      ]
     },
     "execution_count": 18,
     "metadata": {},
     "output_type": "execute_result"
    }
   ],
   "source": [
    "let bernoulli p =\n",
    "    \"à compléter\""
   ]
  },
  {
   "cell_type": "markdown",
   "metadata": {
    "deletable": true,
    "editable": true
   },
   "source": [
    "<h2> Loi de Rademacher</h2>\n",
    "\n",
    "La loi de Rademacher est une Bernoulli équiprobable (p=1/2) où le succès vaut 1 et l'échec −1.\n",
    "\n",
    "Ecrire une fonction $Rademacher()$."
   ]
  },
  {
   "cell_type": "code",
   "execution_count": 19,
   "metadata": {
    "collapsed": false,
    "deletable": true,
    "editable": true
   },
   "outputs": [
    {
     "data": {
      "text/html": [
       "<pre style=\"color:slategray;max-height:100px;overflow:hidden\" \n",
       "onclick=\"\n",
       "if (this.style.maxHeight === 'none') \n",
       "    this.style.maxHeight = '100px';\n",
       "else\n",
       "    this.style.maxHeight = 'none'; \n",
       "\">val rademacher : unit -&gt; int = &lt;fun&gt;\n",
       "</pre>"
      ]
     },
     "execution_count": 19,
     "metadata": {},
     "output_type": "execute_result"
    }
   ],
   "source": [
    "let rademacher () =\n",
    "     \"à compléter\""
   ]
  },
  {
   "cell_type": "markdown",
   "metadata": {
    "deletable": true,
    "editable": true
   },
   "source": [
    "<h2> Loi binomiale</h2>\n",
    "<h3> Définition 1</h3>\n",
    "\n",
    "La loi binomiale, de paramètres $n$ et $p$, est la loi de probabilité d'une variable aléatoire $X$ égale au nombre de succès rencontrés au cours d'une répétition de $n$ épreuves de Bernoulli, $p$ étant la probabilité de succès dans chacune d'entre elles.\n",
    "\n",
    "On fera des moyennes sur 10 000 essais."
   ]
  },
  {
   "cell_type": "code",
   "execution_count": 20,
   "metadata": {
    "collapsed": false,
    "deletable": true,
    "editable": true
   },
   "outputs": [
    {
     "data": {
      "text/html": [
       "<pre style=\"color:slategray;max-height:100px;overflow:hidden\" \n",
       "onclick=\"\n",
       "if (this.style.maxHeight === 'none') \n",
       "    this.style.maxHeight = '100px';\n",
       "else\n",
       "    this.style.maxHeight = 'none'; \n",
       "\">val binomiale : int -&gt; float -&gt; int -&gt; float = &lt;fun&gt;\n",
       "</pre>"
      ]
     },
     "execution_count": 20,
     "metadata": {},
     "output_type": "execute_result"
    }
   ],
   "source": [
    "let binomiale x p n =\n",
    "    \"à compléter\""
   ]
  },
  {
   "cell_type": "markdown",
   "metadata": {
    "deletable": true,
    "editable": true
   },
   "source": [
    "Tracer sur le même graphique, pour $n=20$, les diagrammes pour $p=0.1$, $p=0.5$ et $p=0.8$ sur l'intervalle $[[0,20]]$"
   ]
  },
  {
   "cell_type": "code",
   "execution_count": 21,
   "metadata": {
    "collapsed": false,
    "deletable": true,
    "editable": true
   },
   "outputs": [
    {
     "data": {
      "text/html": [
       "<pre style=\"color:slategray;max-height:100px;overflow:hidden\" \n",
       "onclick=\"\n",
       "if (this.style.maxHeight === 'none') \n",
       "    this.style.maxHeight = '100px';\n",
       "else\n",
       "    this.style.maxHeight = 'none'; \n",
       "\">- : unit = ()\n",
       "</pre>"
      ]
     },
     "execution_count": 21,
     "metadata": {},
     "output_type": "execute_result"
    }
   ],
   "source": [
    "let n = 20 in\n",
    "let liste_x = range 0 (n+1) 1 in\n",
    "let proba = [|0.1; 0.5; 0.8|] in\n",
    "let xs = Array.of_list (List.map float_of_int liste_x) in\n",
    "let ys = Array.of_list (List.map (fun x -> binomiale x proba.(0) n)  liste_x) in\n",
    "let ys' = Array.of_list (List.map (fun x -> binomiale x proba.(1) n)  liste_x) in\n",
    "let ys'' = Array.of_list (List.map (fun x -> binomiale x proba.(2) n)  liste_x) in\n",
    "\n",
    "let p = initialisation \"graph12\" (-.5.) 25. 0. 0.30 in\n",
    "P.plot ~stream:p [bar ~x_width:0.1 ~x_offset:(-.0.2) `blue xs ys;\n",
    "                  bar ~x_width:0.1 ~x_offset:0. `green xs ys';\n",
    "                  bar ~x_width:0.1 ~x_offset:0.2 `red xs ys'';\n",
    "                  P.legend [[P.line_legend (\"p=\"^(string_of_float proba.(0))) `blue];\n",
    "                            [P.line_legend (\"p=\"^(string_of_float proba.(1))) `green];\n",
    "                            [P.line_legend (\"p=\"^(string_of_float proba.(2))) `red]]];\n",
    "P.finish ~stream:p ();;"
   ]
  },
  {
   "cell_type": "markdown",
   "metadata": {
    "deletable": true,
    "editable": true
   },
   "source": [
    "<img src=\"./graph12.svg\" width=500/>"
   ]
  },
  {
   "cell_type": "markdown",
   "metadata": {
    "collapsed": true,
    "deletable": true,
    "editable": true
   },
   "source": [
    "<h3> Définition 2</h3>\n",
    "\n",
    "La loi binomiale, de paramètres n et p, est la loi de probabilité discrète d'une variable aléatoire X dont la fonction de masse est donnée par :\n",
    "\n",
    "$P(X=k)={n \\choose k}p^{k}(1-p)^{{n-k}}$ pour $k=0,1\\dots ,n$. \n",
    "\n",
    "À l'aide d'une fonction <b>factorial</b>, écrire une fonction $Binomiale(x,p,n)$ qui suit la loi indiquée."
   ]
  },
  {
   "cell_type": "code",
   "execution_count": 22,
   "metadata": {
    "collapsed": false,
    "deletable": true,
    "editable": true
   },
   "outputs": [
    {
     "data": {
      "text/html": [
       "<pre style=\"color:slategray;max-height:100px;overflow:hidden\" \n",
       "onclick=\"\n",
       "if (this.style.maxHeight === 'none') \n",
       "    this.style.maxHeight = '100px';\n",
       "else\n",
       "    this.style.maxHeight = 'none'; \n",
       "\">val factorial : int -&gt; float = &lt;fun&gt;\n",
       "</pre>"
      ]
     },
     "execution_count": 22,
     "metadata": {},
     "output_type": "execute_result"
    },
    {
     "data": {
      "text/html": [
       "<pre style=\"color:slategray;max-height:100px;overflow:hidden\" \n",
       "onclick=\"\n",
       "if (this.style.maxHeight === 'none') \n",
       "    this.style.maxHeight = '100px';\n",
       "else\n",
       "    this.style.maxHeight = 'none'; \n",
       "\">val binomiale : int -&gt; float -&gt; int -&gt; float = &lt;fun&gt;\n",
       "</pre>"
      ]
     },
     "execution_count": 22,
     "metadata": {},
     "output_type": "execute_result"
    }
   ],
   "source": [
    "let rec factorial n =\n",
    "    \"à compléter\"    \n",
    "let binomiale x p n =\n",
    "    \"à compléter\""
   ]
  },
  {
   "cell_type": "markdown",
   "metadata": {
    "deletable": true,
    "editable": true
   },
   "source": [
    "Tracer sur le même graphique, pour $n=20$, les diagrammes pour $p=0.1$, $p=0.5$ et $p=0.8$ sur l'intervalle $[[0,20]]$"
   ]
  },
  {
   "cell_type": "code",
   "execution_count": 23,
   "metadata": {
    "collapsed": false,
    "deletable": true,
    "editable": true
   },
   "outputs": [
    {
     "data": {
      "text/html": [
       "<pre style=\"color:slategray;max-height:100px;overflow:hidden\" \n",
       "onclick=\"\n",
       "if (this.style.maxHeight === 'none') \n",
       "    this.style.maxHeight = '100px';\n",
       "else\n",
       "    this.style.maxHeight = 'none'; \n",
       "\">- : unit = ()\n",
       "</pre>"
      ]
     },
     "execution_count": 23,
     "metadata": {},
     "output_type": "execute_result"
    }
   ],
   "source": [
    "let n = 20 in\n",
    "let liste_x = range 0 (n+1) 1 in\n",
    "let proba = [|0.1; 0.5; 0.8|] in\n",
    "let xs = Array.of_list (List.map float_of_int liste_x) in\n",
    "let ys = Array.of_list (List.map (fun x -> binomiale x proba.(0) n)  liste_x) in\n",
    "let ys' = Array.of_list (List.map (fun x -> binomiale x proba.(1) n)  liste_x) in\n",
    "let ys'' = Array.of_list (List.map (fun x -> binomiale x proba.(2) n)  liste_x) in\n",
    "\n",
    "let p = initialisation \"graph13\" (-.5.) 25. 0. 0.30 in\n",
    "P.plot ~stream:p [bar ~x_width:0.1 ~x_offset:(-.0.2) `blue xs ys;\n",
    "                  bar ~x_width:0.1 ~x_offset:0. `green xs ys';\n",
    "                  bar ~x_width:0.1 ~x_offset:0.2 `red xs ys'';\n",
    "                  P.legend [[P.line_legend (\"p=\"^(string_of_float proba.(0))) `blue];\n",
    "                            [P.line_legend (\"p=\"^(string_of_float proba.(1))) `green];\n",
    "                            [P.line_legend (\"p=\"^(string_of_float proba.(2))) `red]]];\n",
    "P.finish ~stream:p ();;"
   ]
  },
  {
   "cell_type": "markdown",
   "metadata": {
    "deletable": true,
    "editable": true
   },
   "source": [
    "<img src=\"./graph13.svg\" width=500/>"
   ]
  },
  {
   "cell_type": "markdown",
   "metadata": {
    "deletable": true,
    "editable": true
   },
   "source": [
    "<h2> Loi hypergéometrique</h2>\n",
    "\n",
    "La loi hypergéometrique décrit le résultat d'une série de tirages <b>Bernoulli dépendants</b>. Le modèle est celui d'une \"urne\" dont on tire des \"boules\" successives noires et blanches sans les remettre dans l'urne.\n",
    "\n",
    "<h3> Définition 1</h3>\n",
    "\n",
    "La loi hypergéométrique de paramètres associés $n$, $p$ et $A$ est décrit par le modèle suivant :\n",
    "\n",
    "On tire simultanément $n$ boules dans une urne contenant $p.A$ boules gagnantes et $q.A$ boules perdantes (avec $q = 1 - p$, soit un nombre total de boules valant $p.A + q.A = A$). On compte alors le nombre de boules gagnantes extraites et on appelle $X$ la variable aléatoire donnant ce nombre.\n",
    "\n",
    "Ecrire une fonction $hypergeometrique(x,n,p,A)$.\n",
    "\n",
    "On fera des moyennes sur 10 000 essais."
   ]
  },
  {
   "cell_type": "code",
   "execution_count": 24,
   "metadata": {
    "collapsed": false,
    "deletable": true,
    "editable": true
   },
   "outputs": [
    {
     "data": {
      "text/html": [
       "<pre style=\"color:slategray;max-height:100px;overflow:hidden\" \n",
       "onclick=\"\n",
       "if (this.style.maxHeight === 'none') \n",
       "    this.style.maxHeight = '100px';\n",
       "else\n",
       "    this.style.maxHeight = 'none'; \n",
       "\">val hypergeometrique : int -&gt; int -&gt; float -&gt; int -&gt; float = &lt;fun&gt;\n",
       "</pre>"
      ]
     },
     "execution_count": 24,
     "metadata": {},
     "output_type": "execute_result"
    }
   ],
   "source": [
    "let hypergeometrique x n p a =\n",
    "    \"à compléter\""
   ]
  },
  {
   "cell_type": "markdown",
   "metadata": {
    "deletable": true,
    "editable": true
   },
   "source": [
    "Tracer, sur le même graphique, sur l'intervalle $[[0,20]]$:\n",
    "\n",
    "    hypergeometrique(x,5,0.8,100)\n",
    "    hypergeometrique(x,40,0.2,50)\n",
    "    hypergeometrique(x,70,0.2,100)\n",
    "    "
   ]
  },
  {
   "cell_type": "code",
   "execution_count": 25,
   "metadata": {
    "collapsed": false,
    "deletable": true,
    "editable": true
   },
   "outputs": [
    {
     "data": {
      "text/html": [
       "<pre style=\"color:slategray;max-height:100px;overflow:hidden\" \n",
       "onclick=\"\n",
       "if (this.style.maxHeight === 'none') \n",
       "    this.style.maxHeight = '100px';\n",
       "else\n",
       "    this.style.maxHeight = 'none'; \n",
       "\">- : unit = ()\n",
       "</pre>"
      ]
     },
     "execution_count": 25,
     "metadata": {},
     "output_type": "execute_result"
    }
   ],
   "source": [
    "let liste_x = range 0 21 1 in\n",
    "let array_n = [|5;40;70|] in\n",
    "let array_p = [|0.8; 0.2; 0.2|] in\n",
    "let array_a = [|100;50;100|] in \n",
    "let legende = Array.init 3 (fun i-> \"n=\"^(string_of_int array_n.(i))^\n",
    "                                    \"; p=\"^(string_of_float array_p.(i))^\n",
    "                                    \"; A=\"^(string_of_int array_a.(i))) in\n",
    "                                    \n",
    "let xs = Array.of_list (List.map float_of_int liste_x) in\n",
    "let ys = Array.of_list (List.map \n",
    "        (fun x -> hypergeometrique x array_n.(0) array_p.(0) array_a.(0))\n",
    "        liste_x) in\n",
    "let ys' =  Array.of_list (List.map \n",
    "        (fun x -> hypergeometrique x array_n.(1) array_p.(1) array_a.(1))\n",
    "        liste_x) in\n",
    "let ys'' =  Array.of_list (List.map \n",
    "        (fun x -> hypergeometrique x array_n.(2) array_p.(2) array_a.(2))\n",
    "        liste_x) in\n",
    "\n",
    "let p = initialisation \"graph14\" (-.5.) 25. 0. 0.40 in\n",
    "P.plot ~stream:p [bar ~x_width:0.1 ~x_offset:(-.0.2) `blue xs ys;\n",
    "                  bar ~x_width:0.1 ~x_offset:0. `green xs ys';\n",
    "                  bar ~x_width:0.1 ~x_offset:0.2 `red xs ys'';\n",
    "                  P.legend [[P.line_legend legende.(0) `blue];\n",
    "                            [P.line_legend legende.(1) `green];\n",
    "                            [P.line_legend legende.(2) `red]]];\n",
    "P.finish ~stream:p ();;"
   ]
  },
  {
   "cell_type": "markdown",
   "metadata": {
    "deletable": true,
    "editable": true
   },
   "source": [
    "<img src=\"./graph14.svg\" width=500/>"
   ]
  },
  {
   "cell_type": "markdown",
   "metadata": {
    "deletable": true,
    "editable": true
   },
   "source": [
    "<h3> Définition 2</h3>\n",
    "\n",
    "La loi hypergéométrique, de paramètres $n$, $p$ et $A$, est la loi de probabilité discrète d'une variable aléatoire $X$ dont la fonction de masse est donnée par :\n",
    "\n",
    "$P(X=k)=\\frac{{pA\\choose k}{qA\\choose n-k}}{{A\\choose n}}$ pour $k=0,1\\dots ,n$. \n",
    "\n",
    "À l'aide d'un fonction <b>factorial</b>, écrire une fonction $hypergeometrique(x,n,p,A)$ qui suit la loi indiquée."
   ]
  },
  {
   "cell_type": "code",
   "execution_count": 26,
   "metadata": {
    "collapsed": false,
    "deletable": true,
    "editable": true
   },
   "outputs": [
    {
     "name": "stderr",
     "output_type": "stream",
     "text": [
      "/usr/lib/ocaml/nums.cma: loaded\n",
      "/usr/lib/ocaml/num-top: added to search path\n",
      "/usr/lib/ocaml/num-top/num_top.cma: loaded\n"
     ]
    },
    {
     "data": {
      "text/html": [
       "<pre style=\"color:slategray;max-height:100px;overflow:hidden\" \n",
       "onclick=\"\n",
       "if (this.style.maxHeight === 'none') \n",
       "    this.style.maxHeight = '100px';\n",
       "else\n",
       "    this.style.maxHeight = 'none'; \n",
       "\">val factorial : int -&gt; Num.num = &lt;fun&gt;\n",
       "</pre>"
      ]
     },
     "execution_count": 26,
     "metadata": {},
     "output_type": "execute_result"
    },
    {
     "data": {
      "text/html": [
       "<pre style=\"color:slategray;max-height:100px;overflow:hidden\" \n",
       "onclick=\"\n",
       "if (this.style.maxHeight === 'none') \n",
       "    this.style.maxHeight = '100px';\n",
       "else\n",
       "    this.style.maxHeight = 'none'; \n",
       "\">val choose : int -&gt; int -&gt; Num.num = &lt;fun&gt;\n",
       "</pre>"
      ]
     },
     "execution_count": 26,
     "metadata": {},
     "output_type": "execute_result"
    },
    {
     "data": {
      "text/html": [
       "<pre style=\"color:slategray;max-height:100px;overflow:hidden\" \n",
       "onclick=\"\n",
       "if (this.style.maxHeight === 'none') \n",
       "    this.style.maxHeight = '100px';\n",
       "else\n",
       "    this.style.maxHeight = 'none'; \n",
       "\">val hypergeometrique : int -&gt; int -&gt; float -&gt; int -&gt; float = &lt;fun&gt;\n",
       "</pre>"
      ]
     },
     "execution_count": 26,
     "metadata": {},
     "output_type": "execute_result"
    }
   ],
   "source": [
    "#require \"num\";;\n",
    "open Num;;\n",
    "let rec factorial n = \n",
    "    \"à compléter\"    \n",
    "let choose k n =\n",
    "    (* on évite de calculer N! qui peut être très grand\n",
    "       alors qu'on a simplement besoin de N!/(N-k)! *)\n",
    "    \"à compléter\"\n",
    "let hypergeometrique x n p a =\n",
    "    \"à compléter\""
   ]
  },
  {
   "cell_type": "markdown",
   "metadata": {
    "deletable": true,
    "editable": true
   },
   "source": [
    "Tracer, sur le même graphique, sur l'intervalle $[[0,20]]$:\n",
    "\n",
    "    hypergeometrique(x,5,0.8,100)\n",
    "    hypergeometrique(x,40,0.2,50)\n",
    "    hypergeometrique(x,70,0.2,100)\n",
    "    "
   ]
  },
  {
   "cell_type": "code",
   "execution_count": 27,
   "metadata": {
    "collapsed": false,
    "deletable": true,
    "editable": true
   },
   "outputs": [
    {
     "data": {
      "text/html": [
       "<pre style=\"color:slategray;max-height:100px;overflow:hidden\" \n",
       "onclick=\"\n",
       "if (this.style.maxHeight === 'none') \n",
       "    this.style.maxHeight = '100px';\n",
       "else\n",
       "    this.style.maxHeight = 'none'; \n",
       "\">- : unit = ()\n",
       "</pre>"
      ]
     },
     "execution_count": 27,
     "metadata": {},
     "output_type": "execute_result"
    }
   ],
   "source": [
    "let liste_x = range 0 21 1 in\n",
    "let array_n = [|5;40;70|] in\n",
    "let array_p = [|0.8; 0.2; 0.2|] in\n",
    "let array_a = [|100;50;100|] in \n",
    "let legende = Array.init 3 (fun i-> \"n=\"^(string_of_int array_n.(i))^\n",
    "                                    \"; p=\"^(string_of_float array_p.(i))^\n",
    "                                    \"; A=\"^(string_of_int array_a.(i))) in\n",
    "                                    \n",
    "let xs = Array.of_list (List.map float_of_int liste_x) in\n",
    "let ys = Array.of_list (List.map \n",
    "        (fun x -> hypergeometrique x array_n.(0) array_p.(0) array_a.(0))\n",
    "        liste_x) in\n",
    "let ys' =  Array.of_list (List.map \n",
    "        (fun x -> hypergeometrique x array_n.(1) array_p.(1) array_a.(1))\n",
    "        liste_x) in\n",
    "let ys'' =  Array.of_list (List.map \n",
    "        (fun x -> hypergeometrique x array_n.(2) array_p.(2) array_a.(2))\n",
    "        liste_x) in\n",
    "\n",
    "let p = initialisation \"graph15\" (-.5.) 25. 0. 0.40 in\n",
    "P.plot ~stream:p [bar ~x_width:0.1 ~x_offset:(-.0.2) `blue xs ys;\n",
    "                  bar ~x_width:0.1 ~x_offset:0. `green xs ys';\n",
    "                  bar ~x_width:0.1 ~x_offset:0.2 `red xs ys'';\n",
    "                  P.legend [[P.line_legend legende.(0) `blue];\n",
    "                            [P.line_legend legende.(1) `green];\n",
    "                            [P.line_legend legende.(2) `red]]];\n",
    "P.finish ~stream:p ();;"
   ]
  },
  {
   "cell_type": "markdown",
   "metadata": {
    "deletable": true,
    "editable": true
   },
   "source": [
    "<img src=\"./graph15.svg\" width=500/>"
   ]
  },
  {
   "cell_type": "code",
   "execution_count": null,
   "metadata": {
    "collapsed": true,
    "deletable": true,
    "editable": true
   },
   "outputs": [],
   "source": []
  }
 ],
 "metadata": {
  "kernelspec": {
   "display_name": "OCaml",
   "language": "ocaml",
   "name": "iocaml"
  },
  "language_info": {
   "name": "ocaml",
   "version": "4.1.0"
  }
 },
 "nbformat": 4,
 "nbformat_minor": 2
}
