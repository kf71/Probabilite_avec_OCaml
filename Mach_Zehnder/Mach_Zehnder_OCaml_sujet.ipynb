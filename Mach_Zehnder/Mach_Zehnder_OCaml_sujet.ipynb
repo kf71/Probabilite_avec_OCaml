{
 "cells": [
  {
   "cell_type": "markdown",
   "metadata": {
    "deletable": true,
    "editable": true
   },
   "source": [
    "<h1>Initiation à la mécanique quantique<br> Interféromètre de Mach-Zenhder</h1>\n",
    "\n",
    "<h2>Présentation</h2>\n",
    "\n",
    "<ul>\n",
    "<li> La lumière est constituée de particules élémentaires indivisibles: les photons.\n",
    "<li> On sait réaliser des miroirs semi-transparents (ou des lames semi-réfléchissantes) qui laissent passer la moitié de la lumière et qui réfléchissent la moitié de la lumière. (C'est assez facile à faire en jouant sur l'épaisseur du dépôt métallique). Très exactement, cela veut dire ceci: si on éclaire ce miroir semi-transparent avec un laser de 100 mW: 50 mW est réfléchi et 50 mW est transmis.\n",
    "</ul>\n",
    "\n",
    "<h3>Dispositif à une séparatrice</h3>\n",
    "\n",
    "Dans le cas où un photon unique arrive sur un miroir semi-transparent, on ne peut pas prédire si celui-ci sera transmis ou réfléchi. Le phénomène est aléatoire (complètement imprévisible). \n",
    "\n",
    "<img src=\"Separatrice_simple_fig1.svg\" />\n",
    "\n",
    "Simuler l'arrivée d'un photon sur un miroir semi-transparent\n",
    "<ul>\n",
    "<li> en utilisant des probabilités classiques\n",
    "<li> en utilisant le formalisme quantique.<br>\n",
    "Ce formalisme repose sur trois principes.\n",
    "<ul>\n",
    "<li> Premier principe:\n",
    "la probabilité $P$ pour qu'une particule, émise initialement en $I$, soit détectée finalement en $F$, est le module\n",
    "carré d'un nombre complexe qui représente l'amplitude de probabilité pour que la particule aille de $I$ à $F$.\n",
    "On écrit: $P=\\Big|\\,{\\langle F|I\\rangle}\\,\\Big|^2$.<br>\n",
    "Avec cette notation: le symbole $\\langle...\\rangle$ signifie \"amplitude de probabilité pour que ...\" et le contenu des crochets signifie \"condition finale $|$ condition initiale\".<br>\n",
    "Pour une particule libre (i.e. soumise à aucune force), d'impulsion $\\vec p$, l'amplitude de probabilité\n",
    "d'aller de $I$ à $F$ est (à un facteur numérique près):\n",
    "$\\langle F|I\\rangle={1\\over IF}.e^{i.\\vec p.\\overrightarrow{IF\\ }/\\hbar}$<br>\n",
    "avec $p^2.c^2=E^2-(m_0.c^2)^2$ pour une particule relativiste<br>\n",
    "ou $p^2 =2.m.E_c$ (i.e. $\\vec p=m.\\vec v$) pour une particule non-relativiste.\n",
    "\n",
    "<li> Deuxième principe:\n",
    "lorsqu'une particule a à sa disposition deux chemins indiscernables \\encercle{1} <b> ou</b> \\encercle{2} pour aller de $I$ à $F$,\n",
    "on <b> somme</b> les amplitudes de probabilité: $\\langle F|I\\rangle=\\langle F|I\\rangle_1+\\langle F|I\\rangle_2$.\n",
    "On a alors: $P=\\Big|\\,\\langle F|I\\rangle_1+\\langle F|I\\rangle_2\\,\\Big|^2$.<br>\n",
    "En revanche, si les deux chemins sont discernables, on somme les probabilités (et non les amplitudes):\n",
    "$P=\\Big|\\,\\langle F|I\\rangle_1\\,\\Big|^2+\\Big|\\,\\langle F|I\\rangle_2\\,\\Big|^2=P_1+P_2$.\n",
    "\n",
    "<li> Troisième principe:\n",
    "lorsqu'un chemin particulier se décompose en deux étapes, par exemple s'il faut que la particule aille de $I$ à $E$\n",
    "<b> et</b> de $E$ à $F$, on <b> multiplie</b> les amplitudes de probabilité:\n",
    "$\\langle F|I\\rangle=\\langle F|E\\rangle.\\langle E|I\\rangle$.\n",
    "</ul>\n",
    "\n",
    "Ici, la source émet une particule dans l'état $|S\\rangle$.<br>\n",
    "On montre, en électromagnétisme, que la réflexion sur un miroir introduit un déphasage qui se traduit ici par une multiplication par $e^{i.\\pi/2}=i$.<br>\n",
    "L'état initial $|S\\rangle$ doit s'écrire: $|S\\rangle={1\\over\\sqrt{2}}.(|T\\rangle + i.|R\\rangle)$;\n",
    "calculer $\\langle T|S\\rangle$ et $\\langle R|S\\rangle$; en déduire les probabilités d'atteindre les détecteurs $R$ et $T$.<br>\n",
    "On pourra utiliser la bibliothèque <tt>sympy</tt>:\n",
    "<pre>\n",
    "from sympy.physics.quantum import Bra,Ket,qapply\n",
    "</pre>\n",
    "</ul>\n",
    "\n",
    "<h3>Deux séparatrices en cascade</h3>\n",
    "\n",
    "Simuler le comportement d'un photon sur deux miroirs semi-transparents en cascade (voir figure).\n",
    "\n",
    "<ul>\n",
    "<li> en utilisant des probabilités classiques\n",
    "<li> en utilisant le formalisme quantique.<br>\n",
    "Calculer $\\langle TT|S\\rangle$, $\\langle TR|S\\rangle$, $\\langle RR|S\\rangle$ et $\\langle RT|S\\rangle$; en déduire les probabilités d'atteindre les différents détecteurs.\n",
    "</ul>\n",
    "\n",
    "<img src=\"Separatrice_cascade_fig2.svg\" />\n",
    "\n",
    "<h3>Interféromètre de Mach Zehnder</h3>\n",
    "\n",
    "Simuler le comportement d'un photon dans un interféromètre de Mach Zehnder (voir figure).\n",
    "\n",
    "<ul>\n",
    "<li> en utilisant des probabilités classiques\n",
    "<li> en utilisant le formalisme quantique.<br> Les miroirs parfaits transforment $|T\\rangle$ en $|T\\rangle=i.|T'\\rangle$ et $|R\\rangle$ en $|R\\rangle=i.|R'\\rangle$.\n",
    "Calculer $\\langle D_1|S\\rangle$ et $\\langle D_2|S\\rangle$; en déduire les probabilités d'atteindre les détecteurs $D_1$ et $D_2$.\n",
    "</ul>\n",
    "\n",
    "Comparer les deux méthodes et conclure.\n",
    "\n",
    "<img src=\"Mach_Zehnder_simple_fig3.svg\" />\n",
    "\n",
    "<h1>Solution</h1>"
   ]
  },
  {
   "cell_type": "markdown",
   "metadata": {
    "deletable": true,
    "editable": true
   },
   "source": [
    "<h3>Monte Carlo</h3>"
   ]
  },
  {
   "cell_type": "code",
   "execution_count": 7,
   "metadata": {
    "collapsed": false,
    "deletable": true,
    "editable": true
   },
   "outputs": [
    {
     "data": {
      "text/html": [
       "<pre style=\"color:slategray;max-height:100px;overflow:hidden\" \n",
       "onclick=\"\n",
       "if (this.style.maxHeight === 'none') \n",
       "    this.style.maxHeight = '100px';\n",
       "else\n",
       "    this.style.maxHeight = 'none'; \n",
       "\">val separatrice : unit -&gt; string = &lt;fun&gt;\n",
       "</pre>"
      ]
     },
     "execution_count": 7,
     "metadata": {},
     "output_type": "execute_result"
    }
   ],
   "source": [
    "let separatrice () = \n",
    "    \"à compléter\""
   ]
  },
  {
   "cell_type": "code",
   "execution_count": 11,
   "metadata": {
    "collapsed": false,
    "deletable": true,
    "editable": true
   },
   "outputs": [
    {
     "data": {
      "text/html": [
       "<pre style=\"color:slategray;max-height:100px;overflow:hidden\" \n",
       "onclick=\"\n",
       "if (this.style.maxHeight === 'none') \n",
       "    this.style.maxHeight = '100px';\n",
       "else\n",
       "    this.style.maxHeight = 'none'; \n",
       "\">val proba_separatrice : int -&gt; float list = &lt;fun&gt;\n",
       "</pre>"
      ]
     },
     "execution_count": 11,
     "metadata": {},
     "output_type": "execute_result"
    },
    {
     "data": {
      "text/html": [
       "<pre style=\"color:slategray;max-height:100px;overflow:hidden\" \n",
       "onclick=\"\n",
       "if (this.style.maxHeight === 'none') \n",
       "    this.style.maxHeight = '100px';\n",
       "else\n",
       "    this.style.maxHeight = 'none'; \n",
       "\">- : float list = [0.491; 0.509]\n",
       "</pre>"
      ]
     },
     "execution_count": 11,
     "metadata": {},
     "output_type": "execute_result"
    }
   ],
   "source": [
    "let proba_separatrice nbre_essais =\n",
    "    \"à compléter\"\n",
    "proba_separatrice 1000;;"
   ]
  },
  {
   "cell_type": "code",
   "execution_count": 10,
   "metadata": {
    "collapsed": false,
    "deletable": true,
    "editable": true
   },
   "outputs": [
    {
     "data": {
      "text/html": [
       "<pre style=\"color:slategray;max-height:100px;overflow:hidden\" \n",
       "onclick=\"\n",
       "if (this.style.maxHeight === 'none') \n",
       "    this.style.maxHeight = '100px';\n",
       "else\n",
       "    this.style.maxHeight = 'none'; \n",
       "\">val separatrice_en_cascade : unit -&gt; string = &lt;fun&gt;\n",
       "</pre>"
      ]
     },
     "execution_count": 10,
     "metadata": {},
     "output_type": "execute_result"
    }
   ],
   "source": [
    "let separatrice_en_cascade () =\n",
    "    \"à compléter\""
   ]
  },
  {
   "cell_type": "code",
   "execution_count": 16,
   "metadata": {
    "collapsed": false,
    "deletable": true,
    "editable": true
   },
   "outputs": [
    {
     "data": {
      "text/html": [
       "<pre style=\"color:slategray;max-height:100px;overflow:hidden\" \n",
       "onclick=\"\n",
       "if (this.style.maxHeight === 'none') \n",
       "    this.style.maxHeight = '100px';\n",
       "else\n",
       "    this.style.maxHeight = 'none'; \n",
       "\">exception Error\n",
       "</pre>"
      ]
     },
     "execution_count": 16,
     "metadata": {},
     "output_type": "execute_result"
    },
    {
     "data": {
      "text/html": [
       "<pre style=\"color:slategray;max-height:100px;overflow:hidden\" \n",
       "onclick=\"\n",
       "if (this.style.maxHeight === 'none') \n",
       "    this.style.maxHeight = '100px';\n",
       "else\n",
       "    this.style.maxHeight = 'none'; \n",
       "\">val proba_separatrice_en_cascade : int -&gt; float list = &lt;fun&gt;\n",
       "</pre>"
      ]
     },
     "execution_count": 16,
     "metadata": {},
     "output_type": "execute_result"
    },
    {
     "data": {
      "text/html": [
       "<pre style=\"color:slategray;max-height:100px;overflow:hidden\" \n",
       "onclick=\"\n",
       "if (this.style.maxHeight === 'none') \n",
       "    this.style.maxHeight = '100px';\n",
       "else\n",
       "    this.style.maxHeight = 'none'; \n",
       "\">- : float list = [0.242; 0.248; 0.255; 0.255]\n",
       "</pre>"
      ]
     },
     "execution_count": 16,
     "metadata": {},
     "output_type": "execute_result"
    }
   ],
   "source": [
    "exception Error;;\n",
    "let proba_separatrice_en_cascade nbre_essais =\n",
    "    \"à compléter\"\n",
    "proba_separatrice_en_cascade 1000;;"
   ]
  },
  {
   "cell_type": "code",
   "execution_count": 17,
   "metadata": {
    "collapsed": false,
    "deletable": true,
    "editable": true
   },
   "outputs": [
    {
     "data": {
      "text/html": [
       "<pre style=\"color:slategray;max-height:100px;overflow:hidden\" \n",
       "onclick=\"\n",
       "if (this.style.maxHeight === 'none') \n",
       "    this.style.maxHeight = '100px';\n",
       "else\n",
       "    this.style.maxHeight = 'none'; \n",
       "\">val mach_zehnder : unit -&gt; string = &lt;fun&gt;\n",
       "</pre>"
      ]
     },
     "execution_count": 17,
     "metadata": {},
     "output_type": "execute_result"
    }
   ],
   "source": [
    "let mach_zehnder() =\n",
    "    \"à compléter\""
   ]
  },
  {
   "cell_type": "code",
   "execution_count": 20,
   "metadata": {
    "collapsed": false,
    "deletable": true,
    "editable": true
   },
   "outputs": [
    {
     "data": {
      "text/html": [
       "<pre style=\"color:slategray;max-height:100px;overflow:hidden\" \n",
       "onclick=\"\n",
       "if (this.style.maxHeight === 'none') \n",
       "    this.style.maxHeight = '100px';\n",
       "else\n",
       "    this.style.maxHeight = 'none'; \n",
       "\">exception Error\n",
       "</pre>"
      ]
     },
     "execution_count": 20,
     "metadata": {},
     "output_type": "execute_result"
    },
    {
     "data": {
      "text/html": [
       "<pre style=\"color:slategray;max-height:100px;overflow:hidden\" \n",
       "onclick=\"\n",
       "if (this.style.maxHeight === 'none') \n",
       "    this.style.maxHeight = '100px';\n",
       "else\n",
       "    this.style.maxHeight = 'none'; \n",
       "\">val proba_mach_zehnder : int -&gt; float list = &lt;fun&gt;\n",
       "</pre>"
      ]
     },
     "execution_count": 20,
     "metadata": {},
     "output_type": "execute_result"
    },
    {
     "data": {
      "text/html": [
       "<pre style=\"color:slategray;max-height:100px;overflow:hidden\" \n",
       "onclick=\"\n",
       "if (this.style.maxHeight === 'none') \n",
       "    this.style.maxHeight = '100px';\n",
       "else\n",
       "    this.style.maxHeight = 'none'; \n",
       "\">- : float list = [0.505; 0.495]\n",
       "</pre>"
      ]
     },
     "execution_count": 20,
     "metadata": {},
     "output_type": "execute_result"
    }
   ],
   "source": [
    "exception Error;;\n",
    "let proba_mach_zehnder nbre_essais =\n",
    "    \"à compléter\"\n",
    "proba_mach_zehnder 1000;;"
   ]
  },
  {
   "cell_type": "markdown",
   "metadata": {
    "deletable": true,
    "editable": true
   },
   "source": [
    "<h3>Discussion</h3>\n",
    "<h4>Dispositif à une séparatrice</h4>\n",
    "\n",
    "<ul>\n",
    "<li> Le comportement du photon est complètement aléatoire.<br>\n",
    "Il n'y a <b>aucun</b> moyen de prévoir le comportement d'une seule particule. Le hasard n'a <b>pas de mémoire</b>. Si les trois premières particules ont été détectées sur le chemin R, rien ne dit que la quatrième suivra également le chemin R. Il ne faut pas croire non plus qu'il y ait une sorte de \"déficit\" sur le chemin T et que, pour compenser, la prochaine particule devra suivre le chemin T.\n",
    "\n",
    "<li> En revanche, comme la séparatrice a une réflectivité de 50%: \n",
    "si on envoie 100 milliards de particules,\n",
    "on aura à peu près (aux fluctuations statistiques près) 50 milliards de particules réfléchies et 50 milliards de particules transmises. Le comportement collectif lui est complètement prévisible.\n",
    "\n",
    "<li> Le hasard quantique n'est pas de même nature que celui que l'on rencontre en mécanique classique dans l'étude des phénomènes chaotiques par exemple. (Le chaos se manifeste dans des systèmes extrêmement sensibles aux conditions initiales). Dans les phénomènes chaotiques, l'impression de hasard vient du fait que l'expérience n'est pas exactement reproductible; mais, sur le principe, si on pouvait lancer une pièce de monnaie (ou un dé ou une bille à la roulette d'un casino) avec des conditions initiales strictement identiques, on obtiendrait des résultats reproductibles et la trajectoire de la pièce (ou du dé ou de la bille) serait, en théorie, prédictible. Ici, dans l'expérience du photon sur la séparatrice, les conditions initiales sont parfaitement définies et pourtant le résultat n'est pas prédicitible.\n",
    "\n",
    "<li> Les probabilités quantiques ne sont pas, non plus, de même nature que les probabilités de la mécanique statistique (où l'on s'intéresse à des milliards de milliards de particules, alors que - dans l'expérience quantique décrite - on s'intéresse à un seul photon). Si, en mécanique statistique, on fait des moyennes c'est parce que l'on n'a pas le courage d'écrire un milliard d'équations (on parle d'explosion calculatoire). Il n'empêche que - sur le principe - ça serait possible. D'ailleurs, avec de très gros ordinateurs, on peut simuler le comportement de quelques centaines, voire quelques milliers, de particules. On est alors capable de prédire la trajectoire de toutes les particules individuellement.\n",
    "</ul>\n",
    "\n",
    "<h4>Deux séparatrices en cascade</h4>\n",
    "\n",
    "Pour un physicien, quelque chose de rigoureusement impossible à calculer, c'est tellement nouveau que certains ont imaginé des <b> échappatoires</b> pour rétablir - <b> pour des raisons philosophiques</b> - le déterminisme.\n",
    "Certains ont objecté que, peut-être, toutes les particules émises par la source ne sont pas identiques. Certaines particules pourraient être programmées pour ne faire que des transmissions, d'autres que des réflexions. C'est astucieux: qui dit que, dans l'avenir, on ne découvrira pas un paramètre interne (une sorte de \"gène\") qui explique le comportement individuel des particules sans invoquer le hasard.\n",
    "\n",
    "L'expérience avec deux séparatrice en cascade permet de rejeter cette objection.\n",
    "\n",
    "Comme tout à l'heure, la particule peut être transmise ou réfléchie puis à nouveau transmise ou réfléchie. Tout se passe bien comme prévu: 1 chance/2 d'être transmise la première fois; puis 1 chance/2 d'être transmise une seconde fois. Finalement, quand on mesure la probabilité d'arriver en TT, on obtient bien de 1 chance/4. De même pour les autres trajets (TR, RT, RR). (La situation est analogue à deux tirages \"pile\" successifs ou bien pile-face, face-pile, face-face). Si certaines particules étaient programmées pour ne faire que des transmissions, on aurait mesuré une probabilité nulle pour le chemin TR (de même pour le chemin RT si d'autres étaient programmées pour ne faire que des réflexions).\n",
    "\n",
    "C'est la preuve que le phénomène est parfaitement aléatoire.\n",
    "\n",
    "<h4>Interféromètre de Mach Zehnder</h4>\n",
    "\n",
    "A la première séparatrice, la particule peut \"choisir\" de continuer tout droit (1 chance/2), c'est le chemin T, puis elle est réfléchie avec une probabilité de 100 %, enfin elle peut \"choisir\" de continuer tout droit ou d'être réfléchie.\n",
    "De même pour le chemin R.\n",
    "\n",
    "Essayons de deviner ce que va être le résultat de cette expérience. Facile, non ? La probabilité pour arriver en (TR ou RT) devrait s'écrire: $P(TR)+P(RT)={1\\over2}.{1\\over2}+{1\\over2}.{1\\over2}={1\\over4}+{1\\over4}={1\\over2}$. De même pour (TT ou RR).\n",
    "\n",
    "Pourtant l'expérience montre que toutes les particules vont en (TR ou RT). Aucune en (TT ou RR).\n",
    "L'effet de la première séparatrice est complètement aléatoire.\n",
    "L'effet de la deuxième séparatrice est complètement aléatoire. Mais l'effet de l'ensemble est certain !\n",
    "\n",
    "<h3>Conclusion</h3>\n",
    "\n",
    "Les probabilités quantiques sont de nature différente des probabilités classiques.\n",
    "On ne peut pas simuler une expérience quantique avec la fonction <tt>random</tt> sur un ordinateur classique.\n",
    "\n",
    "Dans l'interféromètre de Mach Zehnder, seul le calcul quantique permet de démontrer que toutes particules vont en (TR ou RT).\n"
   ]
  },
  {
   "cell_type": "code",
   "execution_count": null,
   "metadata": {
    "collapsed": true,
    "deletable": true,
    "editable": true
   },
   "outputs": [],
   "source": []
  }
 ],
 "metadata": {
  "kernelspec": {
   "display_name": "OCaml",
   "language": "ocaml",
   "name": "iocaml"
  },
  "language_info": {
   "name": "ocaml",
   "version": "4.1.0"
  }
 },
 "nbformat": 4,
 "nbformat_minor": 0
}
